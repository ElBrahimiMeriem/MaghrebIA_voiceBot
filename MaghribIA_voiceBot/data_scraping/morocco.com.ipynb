{
 "cells": [
  {
   "cell_type": "code",
   "execution_count": 1,
   "id": "61341431",
   "metadata": {},
   "outputs": [],
   "source": [
    "base='https://www.morocco.com'\n",
    "all_links = [\n",
    "    '/regions/souss-massa-dra-a/agadir/',\n",
    "    '/regions/taza-al-hoceima-taounate/al-hoceima/',\n",
    "    '/regions/grand-casablanca/casablanca/',\n",
    "    '/regions/doukkala-abda/el-jadida/',\n",
    "    '/regions/mekn-es-tafilalet/erfoud/',\n",
    "    '/regions/marrakech-tensift-el-haouz/essaouira/',\n",
    "    '/regions/f-es-boulemane/fez/',\n",
    "    '/regions/area-guide/high-atlas/',\n",
    "    '/regions/mekn-es-tafilalet/ifrane/',\n",
    "    '/regions/marrakech-tensift-el-haouz/marrakech/',\n",
    "    '/regions/mekn-es-tafilalet/meknes/',\n",
    "    '/regions/souss-massa-dra-a/ouarzazate/',\n",
    "    '/regions/rabat-sale-zemmour-zaer/rabat/',\n",
    "    '/regions/doukkala-abda/safi/',\n",
    "    '/regions/area-guide/the-sahara/',\n",
    "    '/regions/tangier-tetouan/tangier/',\n",
    "    '/regions/souss-massa-dra-a/taroudant/',\n",
    "    '/regions/tangier-tetouan/tetouan/',\n",
    "    '/regions/souss-massa-dra-a/zagora/'\n",
    "]\n"
   ]
  },
  {
   "cell_type": "code",
   "execution_count": 2,
   "id": "baf93ab8",
   "metadata": {},
   "outputs": [
    {
     "name": "stderr",
     "output_type": "stream",
     "text": [
      "C:\\Users\\pc\\AppData\\Local\\Temp\\ipykernel_3448\\789444246.py:12: DeprecationWarning: executable_path has been deprecated, please pass in a Service object\n",
      "  driver = webdriver.Chrome(chrome_driver_path)\n"
     ]
    },
    {
     "name": "stdout",
     "output_type": "stream",
     "text": [
      "Title: Travel to Agadir in Morocco\n",
      "Text: February 29, 1960, was a tragic day for the people of Morocco. The earthquake that hit killed 15 000 people and left over 50 000 homeless. The re-creation of the city has resulted in beautiful parks, luscious gardens and skyscraping luxury hotels.\n",
      "It must be said though, that whilst the modern city is quite an attraction, it loses its appeal and novelty quickly. If you want to just hang on the beach, then you’ll be quite satisfied with Agadir. But within the city itself, it almost seems as if there’s something lacking. Like most travelers, Agadir is the place where you stop for a night or two to rest up before moving on to the more interesting Taroudannt or Essaouira. If you’re in Agadir for a number of days however, make sure you book yourself on a couple of day trips. There are plenty fascinating towns and cities and places to see that are within driving distance.\n",
      "Title: Travel to Agadir in Morocco\n",
      "paragraphs: Agadir is Southern Morocco's most visited city and a very popular tourist destination. The earthquake in 1960 hit Agadir badly and the city had to be practically rebuilt. The event was taken as an opportunity to redesign the city and Agadir was transformed into a beautiful resort. Its sandy shores, modern coastal city feel and dozens of hotels are now a huge attraction and it draws crowds of Europeans during the winter months. February 29, 1960, was a tragic day for the people of Morocco. The earthquake that hit killed 15 000 people and left over 50 000 homeless. The re-creation of the city has resulted in beautiful parks, luscious gardens and skyscraping luxury hotels.\n",
      "It must be said though, that whilst the modern city is quite an attraction, it loses its appeal and novelty quickly. If you want to just hang on the beach, then you’ll be quite satisfied with Agadir. But within the city itself, it almost seems as if there’s something lacking. Like most travelers, Agadir is the place where you stop for a night or two to rest up before moving on to the more interesting Taroudannt or Essaouira. If you’re in Agadir for a number of days however, make sure you book yourself on a couple of day trips. There are plenty fascinating towns and cities and places to see that are within driving distance.\n"
     ]
    },
    {
     "name": "stderr",
     "output_type": "stream",
     "text": [
      "C:\\Users\\pc\\AppData\\Local\\Temp\\ipykernel_3448\\789444246.py:41: FutureWarning: The frame.append method is deprecated and will be removed from pandas in a future version. Use pandas.concat instead.\n",
      "  df = df.append({\n",
      "C:\\Users\\pc\\AppData\\Local\\Temp\\ipykernel_3448\\789444246.py:63: FutureWarning: The frame.append method is deprecated and will be removed from pandas in a future version. Use pandas.concat instead.\n",
      "  df = df.append({\n",
      "C:\\Users\\pc\\AppData\\Local\\Temp\\ipykernel_3448\\789444246.py:63: FutureWarning: The frame.append method is deprecated and will be removed from pandas in a future version. Use pandas.concat instead.\n",
      "  df = df.append({\n",
      "C:\\Users\\pc\\AppData\\Local\\Temp\\ipykernel_3448\\789444246.py:63: FutureWarning: The frame.append method is deprecated and will be removed from pandas in a future version. Use pandas.concat instead.\n",
      "  df = df.append({\n",
      "C:\\Users\\pc\\AppData\\Local\\Temp\\ipykernel_3448\\789444246.py:63: FutureWarning: The frame.append method is deprecated and will be removed from pandas in a future version. Use pandas.concat instead.\n",
      "  df = df.append({\n",
      "C:\\Users\\pc\\AppData\\Local\\Temp\\ipykernel_3448\\789444246.py:63: FutureWarning: The frame.append method is deprecated and will be removed from pandas in a future version. Use pandas.concat instead.\n",
      "  df = df.append({\n",
      "C:\\Users\\pc\\AppData\\Local\\Temp\\ipykernel_3448\\789444246.py:12: DeprecationWarning: executable_path has been deprecated, please pass in a Service object\n",
      "  driver = webdriver.Chrome(chrome_driver_path)\n"
     ]
    },
    {
     "name": "stdout",
     "output_type": "stream",
     "text": [
      "Title 1: Accommodation\n",
      "Paragraph 1: There are plenty of hotels to choose from in Morocco. Cheap accommodation can be found in the city center of Talborjt. There are a number of privately owned self-catering apartments that offer cheap accommodation for those on a budget. Be warned that ahead booking is essential during the high seasons of July-August, Christmas & New Years. They are very popular and if they aren’t self catering, then they’ll be near to restaurants.\n",
      "\n",
      "Title 2: Beaches\n",
      "Paragraph 2: The lack of monuments, museums and interesting sights mean that the beaches in Morocco are quite popular. Their popularity among the tourists has caused the authorities to take action in keeping the beaches clean. The sand is swept clean each morning and the regular patrols keep the beach almost free of vagrants. There are a number of bars and café’s selling drinks and renting out sun-beds and umbrellas.\n",
      "Be warned: the ocean has a strong undercurrent that has caught many unawares. Small children and weak swimmers should be aware of this and not swim too far out. The south end of the main beach has jet-skis for rental. Alternatively, dry activities like horse & camel riding, quad biking and beach buggies are also available and very popular.\n",
      "\n",
      "Title 3: Things to See & Do\n",
      "Paragraph 3: The Valley of the Birds (daily from 09:30-12:30 and 14:30-18:00)\n",
      "This narrow strip of parkland draws a large variety of bird species all year round. A number of aviary’s, a zoo, waterfall and a playground for your children make this a great venue for families.\n",
      "The Municipal Museum (Mon-Sat 10:00-19:00)\n",
      "Honestly, not a terribly exciting destination, but fun for a quick perusal of some local arts and crafts.\n",
      "Jardim de Olhao (daily 08:00-18:30)\n",
      "This lovely outdoor area has a well groomed garden and children’s playground. The walls and structures in the garden are styled to the original Berber Style. There’s a small gallery that exhibits local artists as well as a cute cafe-restaurant.\n",
      "Ancienne Talborjt\n",
      "This plateau just west of the city center is somewhat of a shrine for friends and family of the over 15 000 people killed in the 1960 earthquake. A small mosque and an uncompleted memorial garden provides a somber setting for relatives and friends to walk and pray in remembrance of their lost loved ones.\n",
      "\n",
      "Title 4: Cuisine & Nightlife\n",
      "Paragraph 4: Besides what the large hotels have, there’s not much in the way of discos, clubs and bars to keep you entertained after sunset. There are however plenty cafés and restaurants that stay open quite late. Catering for all budgets, there are many restaurants that serve traditional Moroccan cuisine. Otherwise, if you feel like something ‘ethnic’, you’ll be able to find an eatery with alterative choices.\n",
      "\n",
      "Title 5: Getting Around\n",
      "Paragraph 5: Transport in Agadir is fairly efficient with many buses and taxis to get you where you need to be. ONCF/Supratours, CTM and SATAS move in and around Agadir. The taxis are fairly cheap and run to all major destinations.\n",
      "back to Souss-Massa-Draâ\n",
      "\n",
      "Title: Explore Al Hoceima in Morocco\n",
      "Text: Nevertheless, Al Hoceima’s compressed size is one of its charms. Until the 1950’s it consisted of just a small fishing port to the north of the bay and a fringe of white houses atop the barren cliffs to the south.\n",
      "At the heart of its old quarter is the ‘Place de Rif’, which is enclosed by cafe-restaurants and pensions and the terminal for private-line buses. The newer part of town, with its neat grid of boulevards and occasional palms, occupies the land leaning down to the cliffs above the town beach. Known as Plage Quemado and situated between the harbor and the original village, you can see either the wooden hills behind the town or the sparkling blue sea here at virtually every turn.\n",
      "Swimming and walking in the olive-grove hills if you want a change, is one of the main attractions of Al Hoceima. Al Hoceima is the perfect place to unwind and get away from the hustle and bustle of the city life. Everything is very much relaxed and the people are very friendly and welcoming.\n",
      "back to Taza-Al Hoceima-Taounate\n",
      "Title: Explore Al Hoceima in Morocco\n",
      "paragraphs: Al Hoceima is strongly Mediterranean and has developed enough to have little in common with the farming hamlets and tribal markets of the mountains around. It is a peaceful place with none of the hassle of Tangier, Fez or Tetouan, and the cafes and streets are full of people going about their own business or pleasure. In late spring, or September, when the beaches are quiet, it's near idyllic. In midsummer, though, be warned that the town and its beaches get pretty jam-packed under the weight of Moroccan families and French and German tourists, and rooms can be difficult to find. It is, after all, a petite town that is not geared to cater for the same levels of tourism that Tangier or Agadir may receive. Nevertheless, Al Hoceima’s compressed size is one of its charms. Until the 1950’s it consisted of just a small fishing port to the north of the bay and a fringe of white houses atop the barren cliffs to the south.\n",
      "At the heart of its old quarter is the ‘Place de Rif’, which is enclosed by cafe-restaurants and pensions and the terminal for private-line buses. The newer part of town, with its neat grid of boulevards and occasional palms, occupies the land leaning down to the cliffs above the town beach. Known as Plage Quemado and situated between the harbor and the original village, you can see either the wooden hills behind the town or the sparkling blue sea here at virtually every turn.\n",
      "Swimming and walking in the olive-grove hills if you want a change, is one of the main attractions of Al Hoceima. Al Hoceima is the perfect place to unwind and get away from the hustle and bustle of the city life. Everything is very much relaxed and the people are very friendly and welcoming.\n",
      "back to Taza-Al Hoceima-Taounate\n"
     ]
    },
    {
     "name": "stderr",
     "output_type": "stream",
     "text": [
      "C:\\Users\\pc\\AppData\\Local\\Temp\\ipykernel_3448\\789444246.py:41: FutureWarning: The frame.append method is deprecated and will be removed from pandas in a future version. Use pandas.concat instead.\n",
      "  df = df.append({\n",
      "C:\\Users\\pc\\AppData\\Local\\Temp\\ipykernel_3448\\789444246.py:12: DeprecationWarning: executable_path has been deprecated, please pass in a Service object\n",
      "  driver = webdriver.Chrome(chrome_driver_path)\n"
     ]
    },
    {
     "name": "stdout",
     "output_type": "stream",
     "text": [
      "Title: The Marvels of Casablanca in Morocco\n",
      "Text: Casablanca was established as a town in 1906 with a population of 20 000. Later in 1907 when the French landed here, Fez was its commercial center whilst Tangier was set up as the city’s main harbor. The French were soon ousted, however, and had to seek a new port altogether and Tangier remained Moroccan. Things have changed much since then. With a population of over 3 million, Casablanca resembles a Southern European city. Today all duties are handled here except for administration.\n",
      "Title: The Marvels of Casablanca in Morocco\n",
      "paragraphs: Also known as Casa or Dar el Baida, Casablanca is essentially the capital of Morocco. Any European citizen or traveler will feel immediately at home here and will have an almost instinctive understanding of the life here. There are plenty of hotels in and around Casablanca. Regardless of the size of your budget, you can find a superb place to enjoy a meal in this vibrant city. Entertain your wildest holiday fantasies in Casablanca! Casablanca was established as a town in 1906 with a population of 20 000. Later in 1907 when the French landed here, Fez was its commercial center whilst Tangier was set up as the city’s main harbor. The French were soon ousted, however, and had to seek a new port altogether and Tangier remained Moroccan. Things have changed much since then. With a population of over 3 million, Casablanca resembles a Southern European city. Today all duties are handled here except for administration.\n",
      "Title 1: Transport\n",
      "Paragraph 1: Petits Taxis are everywhere and you shouldn’t have difficulty in catching one. The bus services are quite efficient too. If you’re hiring a car in Casa, remember that the traffic can often be a nightmare and it doesn’t take much to reach gridlock. Avoid driving if at all possible.\n",
      "\n",
      "Title 2: Accommodation\n",
      "Paragraph 2: There are plenty of hotels in and around Casa. Problem is they’re almost always full, so last minute bookings are out of the question. Go to hotels, luxury hotels, self-catering, villas and apartments & studios for further accommodation information.\n",
      "\n",
      "Title 3: Beaches\n",
      "Paragraph 3: Visitors can take a bus to Ain Diab, a small beach side suburb. True, it might not be the cleanest of beaches, but it still draws a huge crowd on a daily basis. It also must be said that the crowds are mostly drawn here because of the various beach clubs. These clubs each have saltwater pools, restaurants and cafes. Look around a bit and if your wallet can handle it, you’ll find a more expensive beach club with tennis & volleyball courts and even a disco.\n",
      "\n",
      "Title 4: Restaurants\n",
      "Paragraph 4: Regardless of the size of your budget, you can find a superb place to enjoy a meal in Casa. Generally accepted as the best place to eat when in Morocco, Casablanca has a large variety of traditional, seafood and take-away eateries. Try making a turn by ‘Stella’. This ice-cream parlor will have 30 different flavors at any one time available for your testing.\n",
      "\n",
      "Title 5: Bars & Nightclubs\n",
      "Paragraph 5: Unfortunately Casa’s nightclub offerings are somewhat meager. For a quiet drink at a bar, your best bet is probably your hotel’s bar. There are a few semi-decent discos in Casa and they get going around 11pm and stay open until 3am.\n",
      "\n",
      "Title 6: Things to See & Do\n",
      "Paragraph 6: Rialto Cinema\n",
      "This beautiful Art Deco cinema palace was constructed in 1930. Catch a movie and enjoy the architecture too.\n",
      "Cathedral of Sacre C’ur\n",
      "This cathedral has a refreshing design that features many traditional Moroccan styles. In the past it was used as a school and then a culture center. Now however, whilst the exterior holds its visual appeal, the interior has succumbed to entropy.\n",
      "Villa des Arts\n",
      "This Art Deco exhibition center houses many lovely contemporary art pieces.\n",
      "\n",
      "Title 7: Getting Around\n",
      "Paragraph 7: CTM has buses running constantly in and around the city. Grands Taxis are quick and usually quite easy to catch. Your best bet for a train is at the Casa Port station or the Casa Voyageurs station.\n",
      "back to Grand Casablanca\n",
      "\n"
     ]
    },
    {
     "name": "stderr",
     "output_type": "stream",
     "text": [
      "C:\\Users\\pc\\AppData\\Local\\Temp\\ipykernel_3448\\789444246.py:41: FutureWarning: The frame.append method is deprecated and will be removed from pandas in a future version. Use pandas.concat instead.\n",
      "  df = df.append({\n",
      "C:\\Users\\pc\\AppData\\Local\\Temp\\ipykernel_3448\\789444246.py:63: FutureWarning: The frame.append method is deprecated and will be removed from pandas in a future version. Use pandas.concat instead.\n",
      "  df = df.append({\n",
      "C:\\Users\\pc\\AppData\\Local\\Temp\\ipykernel_3448\\789444246.py:63: FutureWarning: The frame.append method is deprecated and will be removed from pandas in a future version. Use pandas.concat instead.\n",
      "  df = df.append({\n",
      "C:\\Users\\pc\\AppData\\Local\\Temp\\ipykernel_3448\\789444246.py:63: FutureWarning: The frame.append method is deprecated and will be removed from pandas in a future version. Use pandas.concat instead.\n",
      "  df = df.append({\n",
      "C:\\Users\\pc\\AppData\\Local\\Temp\\ipykernel_3448\\789444246.py:63: FutureWarning: The frame.append method is deprecated and will be removed from pandas in a future version. Use pandas.concat instead.\n",
      "  df = df.append({\n",
      "C:\\Users\\pc\\AppData\\Local\\Temp\\ipykernel_3448\\789444246.py:63: FutureWarning: The frame.append method is deprecated and will be removed from pandas in a future version. Use pandas.concat instead.\n",
      "  df = df.append({\n",
      "C:\\Users\\pc\\AppData\\Local\\Temp\\ipykernel_3448\\789444246.py:63: FutureWarning: The frame.append method is deprecated and will be removed from pandas in a future version. Use pandas.concat instead.\n",
      "  df = df.append({\n",
      "C:\\Users\\pc\\AppData\\Local\\Temp\\ipykernel_3448\\789444246.py:63: FutureWarning: The frame.append method is deprecated and will be removed from pandas in a future version. Use pandas.concat instead.\n",
      "  df = df.append({\n",
      "C:\\Users\\pc\\AppData\\Local\\Temp\\ipykernel_3448\\789444246.py:12: DeprecationWarning: executable_path has been deprecated, please pass in a Service object\n",
      "  driver = webdriver.Chrome(chrome_driver_path)\n"
     ]
    },
    {
     "name": "stdout",
     "output_type": "stream",
     "text": [
      "Title: Touring El Jadida in Morocco\n",
      "Text: Today it’s the beach that is undeniably the focal point. Moroccans from Casablanca and Marrakesh – even Tangier or Fes – come here in droves in summer and there’s an unusual feeling of openness. The bars are crowded, there’s an almost frantic evening promenade and – as in Casa – Moroccan women are visible and active participants.\n",
      "El Jadida’s Medina is the most European-looking in Morocco: a quiet, walled and bastioned seaside village with a handful of churches scattered on its lanes. It was found by the Portuguese in 1513 and retained by them until 1769 and is still popularly known as the Cite Portugaise.\n",
      "El Jadida’s town beach spreads southeast from the city and port well beyond the length of the town. It’s a popular strip, though it is polluted by the ships in the port from time to time. If the water doesn’t look too clear or if you feel like a change, head to the Phare Sidi Ouafi beach. This beach features a broader strip of sand where dozens of Moroccan families set up for the summer. Good swimming is to be had and there are makeshift beach cafés.\n",
      "The Plage Sidi Bouzid, which is situated about a further 2km southwest from Phare Sidi Ouafi beach, is more developed and is flanked by some fancy villas and chic restaurants.\n",
      "back to Doukkala-Abda\n",
      "Title: Touring El Jadida in Morocco\n",
      "paragraphs: El Jadida is a stylish and beautiful town, retaining the lanes and ramparts of an old Portuguese Medina. It was known as Mazagan under the Portuguese who held it from 1506 until 1769, when it was taken by sultan Sidi Mohammed Ben Abdullah. Moroccan Mazagan was renamed El Jadida - 'The New' - after being resettled, partly with Jews from Azemmour, by the nineteenth-century Sultan Abd er Rahman. Under the French, it grew into a quite sizeable administrative centre and a popular beach resort. Today it’s the beach that is undeniably the focal point. Moroccans from Casablanca and Marrakesh – even Tangier or Fes – come here in droves in summer and there’s an unusual feeling of openness. The bars are crowded, there’s an almost frantic evening promenade and – as in Casa – Moroccan women are visible and active participants.\n",
      "El Jadida’s Medina is the most European-looking in Morocco: a quiet, walled and bastioned seaside village with a handful of churches scattered on its lanes. It was found by the Portuguese in 1513 and retained by them until 1769 and is still popularly known as the Cite Portugaise.\n",
      "El Jadida’s town beach spreads southeast from the city and port well beyond the length of the town. It’s a popular strip, though it is polluted by the ships in the port from time to time. If the water doesn’t look too clear or if you feel like a change, head to the Phare Sidi Ouafi beach. This beach features a broader strip of sand where dozens of Moroccan families set up for the summer. Good swimming is to be had and there are makeshift beach cafés.\n",
      "The Plage Sidi Bouzid, which is situated about a further 2km southwest from Phare Sidi Ouafi beach, is more developed and is flanked by some fancy villas and chic restaurants.\n",
      "back to Doukkala-Abda\n"
     ]
    },
    {
     "name": "stderr",
     "output_type": "stream",
     "text": [
      "C:\\Users\\pc\\AppData\\Local\\Temp\\ipykernel_3448\\789444246.py:41: FutureWarning: The frame.append method is deprecated and will be removed from pandas in a future version. Use pandas.concat instead.\n",
      "  df = df.append({\n",
      "C:\\Users\\pc\\AppData\\Local\\Temp\\ipykernel_3448\\789444246.py:12: DeprecationWarning: executable_path has been deprecated, please pass in a Service object\n",
      "  driver = webdriver.Chrome(chrome_driver_path)\n"
     ]
    },
    {
     "name": "stdout",
     "output_type": "stream",
     "text": [
      "Title: Journey to Erfoud in Morocco\n",
      "Text: \n",
      "Title: Journey to Erfoud in Morocco\n",
      "paragraphs: Erfoud doesn't have a whole lot to offer a tourist. It's really close to the desert and thus experiences regular blasts of sand tearing through the streets. It has two main attractions: the date festival and Erfoud's marble industry. \n",
      "Title 1: Accommodation\n",
      "Paragraph 1: There are a number of hotels still left over from the days when the town had a busy dune-trip trade. Prices vary to suit all budgets and the cheapest form of transport in and out of the city is by grand taxi or bus. Check out the complete guide to hotels, luxury hotels, villas, self-catering and apartments & studio’s in Erfoud.\n",
      "\n",
      "Title 2: Cuisine\n",
      "Paragraph 2: If you’re going to get a meal in Erfoud, you should make a point of trying a traditional Moroccan specialty called kalia. It’s a mutton or kid stew flavored with over 40 spices served with egg, vegetables and parsley. Have a look at our complete restaurant guide.\n",
      "\n",
      "Title 3: Getting Around\n",
      "Paragraph 3: Most CTM buses pass through Erfoud to Merzouga. Near the post-office is the grand taxi pick up point and to get to Tinerhir you can take one of two private lines leaving at 11:30 and 15:00. Check our complete guide to transport in Morocco.\n",
      "back to Meknès-Tafilalet\n",
      "\n"
     ]
    },
    {
     "name": "stderr",
     "output_type": "stream",
     "text": [
      "C:\\Users\\pc\\AppData\\Local\\Temp\\ipykernel_3448\\789444246.py:41: FutureWarning: The frame.append method is deprecated and will be removed from pandas in a future version. Use pandas.concat instead.\n",
      "  df = df.append({\n",
      "C:\\Users\\pc\\AppData\\Local\\Temp\\ipykernel_3448\\789444246.py:63: FutureWarning: The frame.append method is deprecated and will be removed from pandas in a future version. Use pandas.concat instead.\n",
      "  df = df.append({\n",
      "C:\\Users\\pc\\AppData\\Local\\Temp\\ipykernel_3448\\789444246.py:63: FutureWarning: The frame.append method is deprecated and will be removed from pandas in a future version. Use pandas.concat instead.\n",
      "  df = df.append({\n",
      "C:\\Users\\pc\\AppData\\Local\\Temp\\ipykernel_3448\\789444246.py:63: FutureWarning: The frame.append method is deprecated and will be removed from pandas in a future version. Use pandas.concat instead.\n",
      "  df = df.append({\n",
      "C:\\Users\\pc\\AppData\\Local\\Temp\\ipykernel_3448\\789444246.py:12: DeprecationWarning: executable_path has been deprecated, please pass in a Service object\n",
      "  driver = webdriver.Chrome(chrome_driver_path)\n"
     ]
    },
    {
     "name": "stdout",
     "output_type": "stream",
     "text": [
      "Title: Essaouira – Natural Bay and Tourist Hotspot\n",
      "Text: The area of Essaouira has evidence of occupation extending back to prehistoric times. The Medina of Essaouira, which was once known as Mogador in the 18th Century, has been declared a UNESCO World Heritage Site. Amongst the historical attractions are the ramparts of Essaouira. The ramparts offer exquisite views and tours are offered here.\n",
      "The city is ideally located. Essaouira stands in natural bay, protected from heavy waves by the Iles Purpuraires, while the island of Mogador guards the harbor against strong winds. The conditions here are ideal for fishing, windsurfing and kitesurfing. The harbor is a delightful diversion, filled with colorful boats that have been carefully decorated by local fishermen.\n",
      "Wood-carving is a major business in Essaouira. Thuja wood is used to create a variety of items, from small pencil holders to large furniture. The crafters are extremely talented and you will certainly want to take some work of art home with you. As a centre of culture, Essaouira is home to the Gnaoua Festival of World Music held annually in June. Artists and spectators from around the world descend on the city for an amazing music extravaganza. So be sure not to miss out on the delights of Essaouira when visiting Morocco.\n",
      "back to Marrakech-Tensift-El Haouz\n",
      "Title: Essaouira – Natural Bay and Tourist Hotspot\n",
      "paragraphs: Essaouira is a delightful destination in Morocco. Filled with history, boasting a variety of activities and offering a break from the hustle and bustle of life, Essaouira is a tourist hotspot. The area of Essaouira has evidence of occupation extending back to prehistoric times. The Medina of Essaouira, which was once known as Mogador in the 18th Century, has been declared a UNESCO World Heritage Site. Amongst the historical attractions are the ramparts of Essaouira. The ramparts offer exquisite views and tours are offered here.\n",
      "The city is ideally located. Essaouira stands in natural bay, protected from heavy waves by the Iles Purpuraires, while the island of Mogador guards the harbor against strong winds. The conditions here are ideal for fishing, windsurfing and kitesurfing. The harbor is a delightful diversion, filled with colorful boats that have been carefully decorated by local fishermen.\n",
      "Wood-carving is a major business in Essaouira. Thuja wood is used to create a variety of items, from small pencil holders to large furniture. The crafters are extremely talented and you will certainly want to take some work of art home with you. As a centre of culture, Essaouira is home to the Gnaoua Festival of World Music held annually in June. Artists and spectators from around the world descend on the city for an amazing music extravaganza. So be sure not to miss out on the delights of Essaouira when visiting Morocco.\n",
      "back to Marrakech-Tensift-El Haouz\n"
     ]
    },
    {
     "name": "stderr",
     "output_type": "stream",
     "text": [
      "C:\\Users\\pc\\AppData\\Local\\Temp\\ipykernel_3448\\789444246.py:41: FutureWarning: The frame.append method is deprecated and will be removed from pandas in a future version. Use pandas.concat instead.\n",
      "  df = df.append({\n",
      "C:\\Users\\pc\\AppData\\Local\\Temp\\ipykernel_3448\\789444246.py:12: DeprecationWarning: executable_path has been deprecated, please pass in a Service object\n",
      "  driver = webdriver.Chrome(chrome_driver_path)\n"
     ]
    },
    {
     "name": "stdout",
     "output_type": "stream",
     "text": [
      "Title: Enjoy your Stay in Fez\n",
      "Text: \n",
      "Title: Enjoy your Stay in Fez\n",
      "paragraphs: It seems that the city of Fez still lingers in the Middle Ages. As you arrive in the city and begin to walk around your senses are torn between beautiful sights, intricate sounds and colorful smells. Much of the city is still holding on to its French roots. Thus around 20 0000 of Fez's inhabitants stay in the city of Fez el Bali. Staying a few days in Fez el Bali will make you recognize that it's hard to avoid the paradox of the place. Fez el Bali is a place with a constant source of interest. \n",
      "Title 1: Accommodation\n",
      "Paragraph 1: You can either stay in the modern hotels of Ville Nouvelle with a reliable water supply, or in the basic hotels of Medina in Fes el Bali and Fes el Djedid. There is frequently a shortage of hotel space so be sure to book well in advance. A small number of the better hotels have swimming pools and also offer the advantages of nearby restaurants and pubs.\n",
      "\n",
      "Title 2: Things to See & Do\n",
      "Paragraph 2: Fez has enough sights to keep you busy for three to four days. The streets are filled with mosques, medersas, fondouks and monuments.\n",
      "The Merenid Tombs\n",
      "The Merenid tombs on the rim of the valley give you a spectacular overview of the city.\n",
      "The Boujeloud Gardens\n",
      "The Boujeloud Gardens is a real haven with an open air café and many picnic spots.\n",
      "Evening Roost\n",
      "Evening roost at Fez makes a spectacular sight for bird watching. The skies appear to swarm with literally thousands of alpine swifts in search of insects for their young in nests in the city walls.\n",
      "Restaurants\n",
      "Ville Nouvelle is the center for most of the cities restaurants, bars, cafés, bookshops and other facilities. Fes el Bali and Fes el Djedid have no bars and a few Palace-Restaurants that are very basic and only open for lunch. They mainly cater for tourists.\n",
      "Cafés & Bars\n",
      "Cafés and bars are scattered throughout the streets of Ville Nouvelle and are very popular with locals and tourists. The bars in Fez range from non-alcoholic to serious Morocco-drinking style, with pool tables and a huge crowd of regulars. The hotel bars are safe and suited for the tourist who just wants sit and have a quiet drink. There are plenty small cafes all over the Medina. The cafés here are very clean and friendly and sell fabulous breakfasts and lunch.\n",
      "\n",
      "Title 3: Getting Around\n",
      "Paragraph 3: By Train\n",
      "The train station is situated in the Ville Nouvelle, ten minutes walk from all the hotels around town. From the train station, the buses pass the main bus station, the airport and the outlying suburbs.\n",
      "By Bus\n",
      "Coming in by bus is rather confusing as there are three terminals: the Ville Nouvelle, the Medina, and the main bus station. If you’re coming from Taza and the east, the buses stop at the Medina’s southeast gate, Bab Ftouh, before they continue to the main bus station.\n",
      "By Grand Taxi\n",
      "Like buses, the grand taxis mostly operate from three or four points: the taxi rank opposite the CTM office, the taxi rank at the train station, the taxi rank southeast of Place de la Resistance and Bab Ftouth.\n",
      "By Air\n",
      "Fez’s new airport is 15km south of the city center off the N8. From here you can reach town by bus or by grand taxis – ranks are outside the terminal building to your left.\n",
      "By Car\n",
      "If you come by car there is a small car park south of Bab Boujeloud, just a few minutes walk from the old Medina and some of the hotels, where you can leave your car.\n",
      "\n",
      "Title 4: Guides\n",
      "Paragraph 4: Getting a guide is fairly easy since they are outside the more up market hotels and youth hostels.\n",
      "A half-a-day tour from a good guide will be a useful introduction to Fes el Bali. The downside of getting a guide is that they walk a few meters in front of you so they don’t look that they are at your service; thus you don’t get much information about a place this way.\n",
      "\n",
      "Title 5: Transportation\n",
      "Paragraph 5: The basic layout of Fez el Bali is very simple, with a Moroccan Medina that separates the two cities: Fez el Bali (old Fez) and Fez el Djedid (new Fez), and a French-built Ville Nouvelle. Fez el Djedid is a beautiful place with a vast enclosure of royal palaces and fabulous gardens. Fez el Bali, however is an incredible intricate city with many confusing lanes, souks and blind alleys – you may want to get yourself a guide just to show you the main sights and layouts. It is difficult to find your way around Fez el Bali as all the street signs are in Arabic only. Transportation in Fez consists out of trains, buses, grand taxis, cars or by air.\n",
      "back to Fès-Boulemane\n",
      "\n"
     ]
    },
    {
     "name": "stderr",
     "output_type": "stream",
     "text": [
      "C:\\Users\\pc\\AppData\\Local\\Temp\\ipykernel_3448\\789444246.py:41: FutureWarning: The frame.append method is deprecated and will be removed from pandas in a future version. Use pandas.concat instead.\n",
      "  df = df.append({\n",
      "C:\\Users\\pc\\AppData\\Local\\Temp\\ipykernel_3448\\789444246.py:63: FutureWarning: The frame.append method is deprecated and will be removed from pandas in a future version. Use pandas.concat instead.\n",
      "  df = df.append({\n",
      "C:\\Users\\pc\\AppData\\Local\\Temp\\ipykernel_3448\\789444246.py:63: FutureWarning: The frame.append method is deprecated and will be removed from pandas in a future version. Use pandas.concat instead.\n",
      "  df = df.append({\n",
      "C:\\Users\\pc\\AppData\\Local\\Temp\\ipykernel_3448\\789444246.py:63: FutureWarning: The frame.append method is deprecated and will be removed from pandas in a future version. Use pandas.concat instead.\n",
      "  df = df.append({\n",
      "C:\\Users\\pc\\AppData\\Local\\Temp\\ipykernel_3448\\789444246.py:63: FutureWarning: The frame.append method is deprecated and will be removed from pandas in a future version. Use pandas.concat instead.\n",
      "  df = df.append({\n",
      "C:\\Users\\pc\\AppData\\Local\\Temp\\ipykernel_3448\\789444246.py:63: FutureWarning: The frame.append method is deprecated and will be removed from pandas in a future version. Use pandas.concat instead.\n",
      "  df = df.append({\n",
      "C:\\Users\\pc\\AppData\\Local\\Temp\\ipykernel_3448\\789444246.py:12: DeprecationWarning: executable_path has been deprecated, please pass in a Service object\n",
      "  driver = webdriver.Chrome(chrome_driver_path)\n"
     ]
    },
    {
     "name": "stdout",
     "output_type": "stream",
     "text": [
      "Title: High Atlas Mountains – Explore Scenic Hiking Trails in Africa’s Largest Mountain Range\n",
      "Text: The High Atlas features some of the most beautiful regions of Morocco, Algeria and Tunisia. These mountains are the highest in the area, with Toubkal stretching to 4.165 meters above sea level. The Middle Atlas reaches heights of 3,350 meters and the highest peaks of the Anti Atlas reach 2.531 meters.\n",
      "The High Atlas has walks to suit all abilities, but mules and horses are also available in the villages if riding suits you better than walking. The villages in the High Atlas are small but thriving and are home to the Berbers who are enduring, hospitable and very friendly people. The villages offer stylish Moroccan accommodation in the local houses and there are established guides available. The high peaks force the clouds to give high quantities of rainfall; therefore the High Atlas has many fertile valleys surrounded by rivers and waterfalls. Mineral deposits found in the Atlas range include gold, silver, lead, iron, phosphates, lead and zinc.\n",
      "The following cities, towns and villages are located in the High Atlas :\n",
      "Marrakech: The very name of this vibrant city brings to mind the many exotic features of Morocco, and it lives up to its reputation.\n",
      "Aït-Benhaddou: This traditional mud brick city, which is on the UNESCO Heritage List, has been featured in a number of films, often as Jerusalem.\n",
      "Amizmiz: Often used as the starting point for exploring the High Atlas, this traditional Berber village is the venue for one of the region’s largest Berber souks.\n",
      "Asni: Situated in the foothills of the High Atlas, this small town lies on the two main routes into the Atlas Mountains and caters for a steady flow of tourist trade.\n",
      "Imlil: This village in the High Atlas serves as a base for muleteers and mountain guides working in the area of Jebel Toubkal and is a starting point for trekking in the mountains.\n",
      "Oukaimeden: This is Morocco’s best snow skiing resort which attracts skiing enthusiasts from far and wide during the winter months.\n",
      "Tinerhir: This small town is a popular access point to the Todra Gorge of the High Atlas.\n",
      "Aremd: Located at 1907 meters, this village is a haven of clean air and peace and quiet in the Toubkal region.\n",
      "Immouzzer: Located on the edge of Paradise Valley in the foothills of the Atlas Mountain, this town is an excellent base for exploring the natural wonders of the area, including fascinating limestone caves and rock formations.\n",
      "Le Haouz: Located at an altitude of 1200 meters, this family-oriented community is virtually self-sufficient and is an outstanding example of a Moroccan village which has been unaffected by modern living.\n",
      "Other small Berber villages located in the High Atlas include Hadd Imoulas, Assaka, Aguerd Ousguine, Tizi Ijarifen, Mellez, Aït Mancour, Ifrane and Ighil.\n",
      "Popular activities in the High Atlas include mountain biking, walking, hiking, rock climbing, mountaineering, peak-bagging and trekking, either on foot or on mules. Visiting Berber villages and experiencing life as a local is a popular activity, allowing tourists to gain in-depth knowledge of the people living in Morocco’s magnificent High Atlas.\n",
      "back to Area Guide\n",
      "Title: High Atlas Mountains – Explore Scenic Hiking Trails in Africa’s Largest Mountain Range\n",
      "paragraphs: The High Atlas is the biggest mountain range in North Africa. These striking mountains offer extremely impressive mountain biking trails, hiking trails and photography opportunities. The high peaks result in plenty of rainfall; therefore the High Atlas has many fertile valleys surrounded by rivers and waterfalls. It's a breathtaking sight that cannot be missed! The High Atlas features some of the most beautiful regions of Morocco, Algeria and Tunisia. These mountains are the highest in the area, with Toubkal stretching to 4.165 meters above sea level. The Middle Atlas reaches heights of 3,350 meters and the highest peaks of the Anti Atlas reach 2.531 meters.\n",
      "The High Atlas has walks to suit all abilities, but mules and horses are also available in the villages if riding suits you better than walking. The villages in the High Atlas are small but thriving and are home to the Berbers who are enduring, hospitable and very friendly people. The villages offer stylish Moroccan accommodation in the local houses and there are established guides available. The high peaks force the clouds to give high quantities of rainfall; therefore the High Atlas has many fertile valleys surrounded by rivers and waterfalls. Mineral deposits found in the Atlas range include gold, silver, lead, iron, phosphates, lead and zinc.\n",
      "The following cities, towns and villages are located in the High Atlas :\n",
      "Marrakech: The very name of this vibrant city brings to mind the many exotic features of Morocco, and it lives up to its reputation.\n",
      "Aït-Benhaddou: This traditional mud brick city, which is on the UNESCO Heritage List, has been featured in a number of films, often as Jerusalem.\n",
      "Amizmiz: Often used as the starting point for exploring the High Atlas, this traditional Berber village is the venue for one of the region’s largest Berber souks.\n",
      "Asni: Situated in the foothills of the High Atlas, this small town lies on the two main routes into the Atlas Mountains and caters for a steady flow of tourist trade.\n",
      "Imlil: This village in the High Atlas serves as a base for muleteers and mountain guides working in the area of Jebel Toubkal and is a starting point for trekking in the mountains.\n",
      "Oukaimeden: This is Morocco’s best snow skiing resort which attracts skiing enthusiasts from far and wide during the winter months.\n",
      "Tinerhir: This small town is a popular access point to the Todra Gorge of the High Atlas.\n",
      "Aremd: Located at 1907 meters, this village is a haven of clean air and peace and quiet in the Toubkal region.\n",
      "Immouzzer: Located on the edge of Paradise Valley in the foothills of the Atlas Mountain, this town is an excellent base for exploring the natural wonders of the area, including fascinating limestone caves and rock formations.\n",
      "Le Haouz: Located at an altitude of 1200 meters, this family-oriented community is virtually self-sufficient and is an outstanding example of a Moroccan village which has been unaffected by modern living.\n",
      "Other small Berber villages located in the High Atlas include Hadd Imoulas, Assaka, Aguerd Ousguine, Tizi Ijarifen, Mellez, Aït Mancour, Ifrane and Ighil.\n",
      "Popular activities in the High Atlas include mountain biking, walking, hiking, rock climbing, mountaineering, peak-bagging and trekking, either on foot or on mules. Visiting Berber villages and experiencing life as a local is a popular activity, allowing tourists to gain in-depth knowledge of the people living in Morocco’s magnificent High Atlas.\n",
      "back to Area Guide\n"
     ]
    },
    {
     "name": "stderr",
     "output_type": "stream",
     "text": [
      "C:\\Users\\pc\\AppData\\Local\\Temp\\ipykernel_3448\\789444246.py:41: FutureWarning: The frame.append method is deprecated and will be removed from pandas in a future version. Use pandas.concat instead.\n",
      "  df = df.append({\n",
      "C:\\Users\\pc\\AppData\\Local\\Temp\\ipykernel_3448\\789444246.py:12: DeprecationWarning: executable_path has been deprecated, please pass in a Service object\n",
      "  driver = webdriver.Chrome(chrome_driver_path)\n"
     ]
    },
    {
     "name": "stdout",
     "output_type": "stream",
     "text": [
      "Title: Take a Trip to Ifrane in Morocco\n",
      "Text: In the regional Berber language the word ‘yfran’ is plural for ‘cave’ and when you explore the surrounding limestone plateaus you will find an abundance of them. During the town’s founding days, many homes were carved out of the surrounding rock. Today there are no people living in these caves which are now used as mangers and store houses. Most people prefer to live above the ground in houses. However these caves still make for interesting exploring – though sometimes they can be confusing so it is a good idea to get a trustworthy guide.\n",
      "Modern Ifrane only truly began life around 1929 during the Protectorate period when the French decided to establish a ‘hill station’ here. The city rests on an elevation of 1600m above sea-level and is surrounded by pine, cedar and oak forests that make it a relatively cool city. As a result, many tourists from other parts of Morocco come here during the hot summer months to escape the heat. Perhaps the most distinguishable trait of Ifrane is its unusual Alpine architectural style – quite out of character with the rest of Moroccan architecture. The French villas are now predominantly Moroccan owned but they still retain their unusual charm.\n",
      "During winter Ifrane sees even more visitors as people flock here to try their hand at the snow-covered slopes or simply to enjoy the simple pleasure of snow. During the rest of the year the town has a large student population who attend the Al Akhawayn University. The university is the only English-language University in Morocco and it is mostly the rich and elite who attend the university. Why not visit this Alpine resort while you are in the country and find out what aspects of the resort you enjoy the most for yourself?\n",
      "back to Meknès-Tafilalet\n",
      "Title: Take a Trip to Ifrane in Morocco\n",
      "paragraphs: A small town situated in Morocco's Middle Atlas, Ifrane has been around for centuries. The earliest permanent settlement dates back from the 16th century when a community was established in the Tizguit valley. Just a little downstream from modern day Ifrane, you will find an area that is still very much inhabited by the descendants of Sede 'Abd al-Salem who founded Ifrane. In the regional Berber language the word ‘yfran’ is plural for ‘cave’ and when you explore the surrounding limestone plateaus you will find an abundance of them. During the town’s founding days, many homes were carved out of the surrounding rock. Today there are no people living in these caves which are now used as mangers and store houses. Most people prefer to live above the ground in houses. However these caves still make for interesting exploring – though sometimes they can be confusing so it is a good idea to get a trustworthy guide.\n",
      "Modern Ifrane only truly began life around 1929 during the Protectorate period when the French decided to establish a ‘hill station’ here. The city rests on an elevation of 1600m above sea-level and is surrounded by pine, cedar and oak forests that make it a relatively cool city. As a result, many tourists from other parts of Morocco come here during the hot summer months to escape the heat. Perhaps the most distinguishable trait of Ifrane is its unusual Alpine architectural style – quite out of character with the rest of Moroccan architecture. The French villas are now predominantly Moroccan owned but they still retain their unusual charm.\n",
      "During winter Ifrane sees even more visitors as people flock here to try their hand at the snow-covered slopes or simply to enjoy the simple pleasure of snow. During the rest of the year the town has a large student population who attend the Al Akhawayn University. The university is the only English-language University in Morocco and it is mostly the rich and elite who attend the university. Why not visit this Alpine resort while you are in the country and find out what aspects of the resort you enjoy the most for yourself?\n",
      "back to Meknès-Tafilalet\n"
     ]
    },
    {
     "name": "stderr",
     "output_type": "stream",
     "text": [
      "C:\\Users\\pc\\AppData\\Local\\Temp\\ipykernel_3448\\789444246.py:41: FutureWarning: The frame.append method is deprecated and will be removed from pandas in a future version. Use pandas.concat instead.\n",
      "  df = df.append({\n",
      "C:\\Users\\pc\\AppData\\Local\\Temp\\ipykernel_3448\\789444246.py:12: DeprecationWarning: executable_path has been deprecated, please pass in a Service object\n",
      "  driver = webdriver.Chrome(chrome_driver_path)\n"
     ]
    },
    {
     "name": "stdout",
     "output_type": "stream",
     "text": [
      "Title: Discover the Wonders of Marrakech\n",
      "Text: Marrakech is Morocco’s second largest city and its population continues to rise. It has a prosperous industrial area and is the most significant market and organizational centre of Southern Morocco. Marrakech does not have many historical monuments and buildings; its beauty lies in the atmosphere and the spectacular location. Marrakech, with the outstanding peaks of the Atlas expanding behind the city, has very warm humid summers and shimmering white snowy winters. Marrakechis are well-known for their warmth and sociability, their humor and honesty.\n",
      "Title: Discover the Wonders of Marrakech\n",
      "paragraphs: Marrakech is truly the city of entertainment in Morocco. In the center of Marrakech is a square, Djemaa el Fna, which is the operating point for entertainers such as acrobats, drummers, dancers, pipe musicians, comedians and storytellers. There's plenty of choice for meals, including the Djemaa el Fna food stalls, many inexpensive cafe-restaurants and a number of up-market palace-restaurants that offer Morocco's traditional cuisine at its very best. Marrakech is Morocco’s second largest city and its population continues to rise. It has a prosperous industrial area and is the most significant market and organizational centre of Southern Morocco. Marrakech does not have many historical monuments and buildings; its beauty lies in the atmosphere and the spectacular location. Marrakech, with the outstanding peaks of the Atlas expanding behind the city, has very warm humid summers and shimmering white snowy winters. Marrakechis are well-known for their warmth and sociability, their humor and honesty.\n",
      "Title 1: Accommodation\n",
      "Paragraph 1: The accommodation in Marrakech ranges from cheap hotels to quiet pleasant mid-range hotels to up market, comfortable, modern hotels with wonderful pools and interior design. The Medina has the main concentration of cheap hotels, while the hotels in Hivernage and Semlalia are mostly luxury hotels. Booking hotels well in advance will be a wise idea, especially over Christmas, Easter and New Year’s where you’ll find that all the hotels is full to capacity. There are also many choices for villas, self-catering and studio apartments that will suit your budget!\n",
      "\n",
      "Title 2: Things to See & Do\n",
      "Paragraph 2: It is not essential to have a guide in Marrakech as the maps will guide you perfectly. The souks are interesting places in alleys and small squares that are dedicated to specific crafts and it is here that you can often watch part of the making process. There are a number of souks worth visiting and you can easily find the way to the souks on your own. Even if you get a little lost, you will find that this is part of the fun. The most appealing times to visit the souks are early morning and late afternoon when they auction off merchandise to the public. The Marrakech Museum is also a place worth visiting; it houses exhibitions of Moroccan art and sculpture, both traditional and contemporary. There’s also a small bookshop and café in the entrance courtyard. With the summers in Marrakech being so hot nobody seems to want to do much. A perfect place to do nothing is in the gardens, with many picnic spots, lake-sized pools and cool and quiet surroundings.\n",
      "\n",
      "Title 3: Cuisine\n",
      "Paragraph 3: Marrakech eating and drinking options break down less rigidly than usual between the Ville Nouvelle, in this case the Medina. The Medina is where you’ll find most of the city’s French-style cafés, bistros and restaurants and virtually all the bars. There’s plenty of choice for meals, including the spectacle of the Djemaa el Fna food stalls, many inexpensive café-restaurants and a number of up-market palace-restaurants that offer Morocco’s traditional cuisine at its very best.\n",
      "\n",
      "Title 4: Getting Around\n",
      "Paragraph 4: By Air\n",
      "Marrakech’s airport is 4 km southwest of town; the airport has flights to London, Amsterdam, Paris Lyons, Madrid and Geneva and internal flights to Casablanca and Agadir.\n",
      "By Train\n",
      "Trains are the most relaxed way to move around. The trains in Marrakech operate to and from Casablanca and Rabat twice a day.\n",
      "By Bus\n",
      "Buses to most long-distance destinations leave from the main terminal at Bab Doukkala. CTM has their own ticket windows and ranks. Buy tickets a day in advance or be there early especially for the popular destinations like Fez, El Jadida, Zagora and Taroudannt.\n",
      "By Grand Taxi \n",
      "Grands taxis are relatively safe to take and they are good value for money.\n",
      "back to Marrakech-Tensift-El Haouz\n",
      "\n"
     ]
    },
    {
     "name": "stderr",
     "output_type": "stream",
     "text": [
      "C:\\Users\\pc\\AppData\\Local\\Temp\\ipykernel_3448\\789444246.py:41: FutureWarning: The frame.append method is deprecated and will be removed from pandas in a future version. Use pandas.concat instead.\n",
      "  df = df.append({\n",
      "C:\\Users\\pc\\AppData\\Local\\Temp\\ipykernel_3448\\789444246.py:63: FutureWarning: The frame.append method is deprecated and will be removed from pandas in a future version. Use pandas.concat instead.\n",
      "  df = df.append({\n",
      "C:\\Users\\pc\\AppData\\Local\\Temp\\ipykernel_3448\\789444246.py:63: FutureWarning: The frame.append method is deprecated and will be removed from pandas in a future version. Use pandas.concat instead.\n",
      "  df = df.append({\n",
      "C:\\Users\\pc\\AppData\\Local\\Temp\\ipykernel_3448\\789444246.py:63: FutureWarning: The frame.append method is deprecated and will be removed from pandas in a future version. Use pandas.concat instead.\n",
      "  df = df.append({\n",
      "C:\\Users\\pc\\AppData\\Local\\Temp\\ipykernel_3448\\789444246.py:63: FutureWarning: The frame.append method is deprecated and will be removed from pandas in a future version. Use pandas.concat instead.\n",
      "  df = df.append({\n",
      "C:\\Users\\pc\\AppData\\Local\\Temp\\ipykernel_3448\\789444246.py:12: DeprecationWarning: executable_path has been deprecated, please pass in a Service object\n",
      "  driver = webdriver.Chrome(chrome_driver_path)\n"
     ]
    },
    {
     "name": "stdout",
     "output_type": "stream",
     "text": [
      "Title: Meknes – Historical Significant City and Popular Tourist Destination\n",
      "Text: The city of Meknes in Morocco is the ideal tourist destination. Filled with fascinating sights, rich in history, yet offering many modern conveniences, this vibrant destination will leave visitors with lasting memories. Tourists will certainly want to explore such attractions at Place Hedim, Heri es-Souani, the Meknes Royal Golf Course, Dar Jamai (a palace that now serves as the Museum of Moroccan Arts), the Mausoleum of Moulay Ismail, Habs Qara (an underground prison), the Medina of Meknes Mosque and more.\n",
      "Hamrya, or the ville nouvelle, is the new section of Meknes and boasts numerous entertainment establishments. Here you will find a variety of eateries, restaurants, stores and so forth. Shoppers can pay a visit to the medina or various other small markets (souks).\n",
      "back to Meknès-Tafilalet\n",
      "Title: Meknes – Historical Significant City and Popular Tourist Destination\n",
      "paragraphs: Meknes is renowned for its vast historical significance and is one of the Imperial cities in Morocco. Inscribed as a UNESCO World Heritage, Meknes is best known for its close links to Sultan Moulay Ismail who was responsible for the construction of the city’s ramparts and impressive gates. In fact, one of the grandest features of Meknes is the gate of El-Mansour, beautifully decorated with Almohad patterns and zellij mosaics. Today the gate houses an arts and crafts gallery. The city of Meknes in Morocco is the ideal tourist destination. Filled with fascinating sights, rich in history, yet offering many modern conveniences, this vibrant destination will leave visitors with lasting memories. Tourists will certainly want to explore such attractions at Place Hedim, Heri es-Souani, the Meknes Royal Golf Course, Dar Jamai (a palace that now serves as the Museum of Moroccan Arts), the Mausoleum of Moulay Ismail, Habs Qara (an underground prison), the Medina of Meknes Mosque and more.\n",
      "Hamrya, or the ville nouvelle, is the new section of Meknes and boasts numerous entertainment establishments. Here you will find a variety of eateries, restaurants, stores and so forth. Shoppers can pay a visit to the medina or various other small markets (souks).\n",
      "back to Meknès-Tafilalet\n"
     ]
    },
    {
     "name": "stderr",
     "output_type": "stream",
     "text": [
      "C:\\Users\\pc\\AppData\\Local\\Temp\\ipykernel_3448\\789444246.py:41: FutureWarning: The frame.append method is deprecated and will be removed from pandas in a future version. Use pandas.concat instead.\n",
      "  df = df.append({\n",
      "C:\\Users\\pc\\AppData\\Local\\Temp\\ipykernel_3448\\789444246.py:12: DeprecationWarning: executable_path has been deprecated, please pass in a Service object\n",
      "  driver = webdriver.Chrome(chrome_driver_path)\n"
     ]
    },
    {
     "name": "stdout",
     "output_type": "stream",
     "text": [
      "Title: Travel to Ouarzazate in Morocco\n",
      "Text: Most visitors find that on first glance, Ouarzazate is not all that spectacular. Apart from its desert-like setting and prettily designed architectural layout, it would seem to have very little to offer. A scenic daytrip to the surrounding areas will soon have you entertained as you visit ruins of ancient Kasbahs, date palmeries and remote villages. Once you’re done seeing the older sights of the city, you may as well head to your accommodation where you will likely be treated to traditional Moroccan food as well as a display of Moroccan singing and dancing as a group of woman in traditional garb entertain the guests. Some hotels have a swimming pool which can be most useful for beating the extreme desert heat.\n",
      "On your second day you should definitely make arrangements to visit the studio. It is situated right outside of Ouarzazate and is quite impressive to see. Most days it is open to the public for tours and if you are lucky you will get the chance to see them filming a movie. Quite a number of well-known movies have either been filmed here in their entirety or have had their desert scenes shot here. Films such as Lawrence of Arabia, Star Wars and The Gladiator all have the Ouarzazate desert in common. After you finish your tour of the studio, you might try your hand at shopping, but might find that goods here are more expensive than they are in other parts of Morocco. The Kasbah has been recently restored and is worth a visit as is the Artisans Cooperative. Ouarzazate has an international airport to cater to the influx of international visitors involved in the film industry.\n",
      "At the end of the day you might find delight in dining at the famous Chez Dimitri restaurant. The restaurant serves pasta and salads and is a great change from the usual local food. It is also a welcome delight before heading into the hot sandy desert. Certainly Ouarzazate has more to offer than initially meets the eye!\n",
      "back to Souss-Massa-Draâ\n",
      "Title: Travel to Ouarzazate in Morocco\n",
      "paragraphs: Morocco's own special home of film, Ouarzazate lies in a valley at the foot of the Atlas Mountains. Most of its visitors are tourists who are making their way to the Sahara Desert. They stop here to stock up on provisions before making their way out to one of the greatest desserts in the world. Whether you are visiting just to see the sights or if you too are headed out to the Sahara, you should make time to see some of the attractions in Ouarzazate. Most visitors find that on first glance, Ouarzazate is not all that spectacular. Apart from its desert-like setting and prettily designed architectural layout, it would seem to have very little to offer. A scenic daytrip to the surrounding areas will soon have you entertained as you visit ruins of ancient Kasbahs, date palmeries and remote villages. Once you’re done seeing the older sights of the city, you may as well head to your accommodation where you will likely be treated to traditional Moroccan food as well as a display of Moroccan singing and dancing as a group of woman in traditional garb entertain the guests. Some hotels have a swimming pool which can be most useful for beating the extreme desert heat.\n",
      "On your second day you should definitely make arrangements to visit the studio. It is situated right outside of Ouarzazate and is quite impressive to see. Most days it is open to the public for tours and if you are lucky you will get the chance to see them filming a movie. Quite a number of well-known movies have either been filmed here in their entirety or have had their desert scenes shot here. Films such as Lawrence of Arabia, Star Wars and The Gladiator all have the Ouarzazate desert in common. After you finish your tour of the studio, you might try your hand at shopping, but might find that goods here are more expensive than they are in other parts of Morocco. The Kasbah has been recently restored and is worth a visit as is the Artisans Cooperative. Ouarzazate has an international airport to cater to the influx of international visitors involved in the film industry.\n",
      "At the end of the day you might find delight in dining at the famous Chez Dimitri restaurant. The restaurant serves pasta and salads and is a great change from the usual local food. It is also a welcome delight before heading into the hot sandy desert. Certainly Ouarzazate has more to offer than initially meets the eye!\n",
      "back to Souss-Massa-Draâ\n"
     ]
    },
    {
     "name": "stderr",
     "output_type": "stream",
     "text": [
      "C:\\Users\\pc\\AppData\\Local\\Temp\\ipykernel_3448\\789444246.py:41: FutureWarning: The frame.append method is deprecated and will be removed from pandas in a future version. Use pandas.concat instead.\n",
      "  df = df.append({\n",
      "C:\\Users\\pc\\AppData\\Local\\Temp\\ipykernel_3448\\789444246.py:12: DeprecationWarning: executable_path has been deprecated, please pass in a Service object\n",
      "  driver = webdriver.Chrome(chrome_driver_path)\n"
     ]
    },
    {
     "name": "stdout",
     "output_type": "stream",
     "text": [
      "Title: Journey to the Capital of Morocco – Rabat\n",
      "Text: Rabat is the second biggest city after Casablanca. It is famous for its many historical monuments, luxurious carpets and rich embroidered goods. A good thing about Rabat is that you can easily explore the city on your own without the help of a guide. This gives you time to chat with locals in the cafés who do not depend on the money of the tourists.\n",
      "Title: Journey to the Capital of Morocco – Rabat\n",
      "paragraphs: Rabat is home to the Moroccan government as well as a hub of traditional cuisine and architecture and much more. Well worth a visit! The Ville Nouvelle has beautiful modern French-built hotels. For a capital city, Rabat is very quiet and offers a number of excellent restaurants, clubs and pubs. Rabat is the second biggest city after Casablanca. It is famous for its many historical monuments, luxurious carpets and rich embroidered goods. A good thing about Rabat is that you can easily explore the city on your own without the help of a guide. This gives you time to chat with locals in the cafés who do not depend on the money of the tourists.\n",
      "Title 1: Accommodation\n",
      "Paragraph 1: The Ville Nouvelle has beautiful modern French-built hotels and also the standard chain hotels. Hotel space is limited – especially in midsummer and June – so be sure to book a room well in advance. If you don’t manage to organize a hotel room, you might try a luxury hotel, a villa, a self-catering cottage or a studio apartment.\n",
      "\n",
      "Title 2: Things to See & Do\n",
      "Paragraph 2: The Medina\n",
      "Rabat’s Medina is all there was before the French arrived in 1912 it’s a dense sector that is nestled between the sea and the river with stone and white washed buildings.\n",
      "Archaeological Museum \n",
      "Rabat’s Archeological Museum is probably the most important in Morocco. It hosts an exceptional collection of roman-era bronzes. Descriptions are in French and the museum guide will also be glad to give you a tour in French.\n",
      "The Palace Museum\n",
      "The palace itself was built in the seventeen century and is home to exhibitions of Moroccan arts and culture that are usually very fascinating.\n",
      "The Andalusian Gardens\n",
      "The Andalusian Gardens surround the Palace Museum and were constructed in the twentieth century by the French. It is the meeting place for woman on Friday and Sunday afternoons and is filled with the lovely scents of trees, bougainvillea, herbs and flowers.\n",
      "\n",
      "Title 3: Cuisine\n",
      "Paragraph 3: For a capital city, Rabat is very quiet and offers a number of excellent restaurants, clubs and pubs. The Medina is home to a few very good cafe-restaurants. The restaurants here are moderately priced and inexpensive. In the Ville Nouvelle you will find a fine selection of Moroccan and French restaurants for five-star cuisine and also a few Oriental Restaurants for a change in cuisine.\n",
      "\n",
      "Title 4: Getting Around\n",
      "Paragraph 4: With the city centre of Rabat being very compact, all the points of interest are in walking distance. Local Bus services can be very useful and they are marked very clearly. Petit and Grands taxis can be found at the airport, the train station and at Boulevard Hassan. Take note that Petit taxis are not authorized to operate between Rabat and Salé.\n",
      "Rabat Ville’s main train station is right in the middle of the Ville Nouvelle, just a few minutes walk to most of the hotels, so it is best to arrive in Rabat by train. There is even a bureau de change and a car rental office on the station platform. The main bus terminal is situated in Place Zerktouni – three kilometers west of the centre by the road intersection for Casablanca and Beni Mellal Grand taxis from Casablanca and Fez will drop you off at the main bus station. Rabat’s airport is seven kilometers km north of Rabat and grand taxis are the only public transport operating from here. It isn’t difficult to catch one.\n",
      "back to Rabat-Salé-Zemmour-Zaer\n",
      "\n"
     ]
    },
    {
     "name": "stderr",
     "output_type": "stream",
     "text": [
      "C:\\Users\\pc\\AppData\\Local\\Temp\\ipykernel_3448\\789444246.py:41: FutureWarning: The frame.append method is deprecated and will be removed from pandas in a future version. Use pandas.concat instead.\n",
      "  df = df.append({\n",
      "C:\\Users\\pc\\AppData\\Local\\Temp\\ipykernel_3448\\789444246.py:63: FutureWarning: The frame.append method is deprecated and will be removed from pandas in a future version. Use pandas.concat instead.\n",
      "  df = df.append({\n",
      "C:\\Users\\pc\\AppData\\Local\\Temp\\ipykernel_3448\\789444246.py:63: FutureWarning: The frame.append method is deprecated and will be removed from pandas in a future version. Use pandas.concat instead.\n",
      "  df = df.append({\n",
      "C:\\Users\\pc\\AppData\\Local\\Temp\\ipykernel_3448\\789444246.py:63: FutureWarning: The frame.append method is deprecated and will be removed from pandas in a future version. Use pandas.concat instead.\n",
      "  df = df.append({\n",
      "C:\\Users\\pc\\AppData\\Local\\Temp\\ipykernel_3448\\789444246.py:63: FutureWarning: The frame.append method is deprecated and will be removed from pandas in a future version. Use pandas.concat instead.\n",
      "  df = df.append({\n",
      "C:\\Users\\pc\\AppData\\Local\\Temp\\ipykernel_3448\\789444246.py:12: DeprecationWarning: executable_path has been deprecated, please pass in a Service object\n",
      "  driver = webdriver.Chrome(chrome_driver_path)\n"
     ]
    },
    {
     "name": "stdout",
     "output_type": "stream",
     "text": [
      "Title: Safi – Successful Fishing and Industrial Port\n",
      "Text: Safi is not only known as a successful fishing and industrial port, but is renowned for its traditional arts, ceramics and music. Considered the symbol of Safi, the Dar el-Bahar is a castle construction located in the sea. Dating back to the 16th Century, this attraction is possibly the most photographed in the whole city. Another attraction worth visiting is the Kechla, a Portuguese fortress. Once a prison, it now exhibits local ceramic wares. Not to be missed is the potters’ quarter. If you are looking for amazing pottery at great prices, this is the place to come. There are also several lovely beaches in and around Safi, which offer opportunities for surfing, sun tanning and swimming. Safi is a great place to relax and explore the culture of Morocco.\n",
      "back to Doukkala-Abda\n",
      "Title: Safi – Successful Fishing and Industrial Port\n",
      "paragraphs: Located on the shores of the Atlantic Ocean, Safi has been a vital port for centuries. Originally known as Asfi, the area was inhabited by Carthaginians, Romans and the Almohades over time. Between 1508 and 1541, the Portuguese took over rule of Safi. This was then followed by Saadian occupation, which saw the construction of the renowned Grand Mosque. After the Saadians came the Alawites. It later came under French control, until independence. Thus Safi has a vast and intriguing history, filled with a variety of influences, each age contributing to the unique attractions in the city. Safi is not only known as a successful fishing and industrial port, but is renowned for its traditional arts, ceramics and music. Considered the symbol of Safi, the Dar el-Bahar is a castle construction located in the sea. Dating back to the 16th Century, this attraction is possibly the most photographed in the whole city. Another attraction worth visiting is the Kechla, a Portuguese fortress. Once a prison, it now exhibits local ceramic wares. Not to be missed is the potters’ quarter. If you are looking for amazing pottery at great prices, this is the place to come. There are also several lovely beaches in and around Safi, which offer opportunities for surfing, sun tanning and swimming. Safi is a great place to relax and explore the culture of Morocco.\n",
      "back to Doukkala-Abda\n"
     ]
    },
    {
     "name": "stderr",
     "output_type": "stream",
     "text": [
      "C:\\Users\\pc\\AppData\\Local\\Temp\\ipykernel_3448\\789444246.py:41: FutureWarning: The frame.append method is deprecated and will be removed from pandas in a future version. Use pandas.concat instead.\n",
      "  df = df.append({\n",
      "C:\\Users\\pc\\AppData\\Local\\Temp\\ipykernel_3448\\789444246.py:12: DeprecationWarning: executable_path has been deprecated, please pass in a Service object\n",
      "  driver = webdriver.Chrome(chrome_driver_path)\n"
     ]
    },
    {
     "name": "stdout",
     "output_type": "stream",
     "text": [
      "Title: Sahara Desert – The World’s Largest Desert\n",
      "Text: The Sahara desert stretches across much of North Africa covering over 9,000,000 square kilometers (roughly the size of the United States). In fact, the Sahara covers some 30% of the entire African continent. It is the hottest place in the world with summer temperatures that often exceeds 57 degrees Celsius. It has an annual rainfall of 0 – 25 millimeters and is very windy with windstorms sweeping the sand up to heights of 1000 meters and moving the sand dunes constantly.\n",
      "The Sahara consists of one quarter volcanic mountains, one quarter sand, rocks and gravel-covered plains and small areas of vast permanent vegetation. The vegetation includes shrubs, grasses, and trees in the highland and in the oases along the river beds. Some of the plants are well adjusted to the climate since they sprout within three days of rain and sow their seeds within two weeks after that.\n",
      "Animals in the Sahara are mainly Gerbils, Cape Hare, Deer, Weasels, Baboons, Jackals, Sand Foxes, Mongooses, Desert Hedgehogs and over 300 bird species.\n",
      "The following towns and villages are located in the Sahara of Morocco:\n",
      "Tata: Located where the desert meets the mountains, this small desert town has the reputation for being the hottest town in Morocco.\n",
      "Tleta Tagmout: A desert oasis\n",
      "Foum Zguid: Located where the Jebel Bani range meets the desert, this charming desert town boasts one of the largest palm groves in Morocco.\n",
      "Zagora: Located in the magnificent Drâa Valley, this town is a popular starting for camel and 4×4 excursions into the desert. A sign proclaiming that it is 52 days to Timbuktu is one of the most photographed features of the town.\n",
      "Tinfou: This small town is located along the Draa Valley route where the stony ground gives way to the sand-dunes of the desert.\n",
      "Erg Chebbi: This settlement in the dunes of the Sahara offers basic tourist facilities for visitors exploring the enormous sand dunes.\n",
      "Ouarzazate: Catering for the tourist trade, Ouarzazate has a number of hotels and visitors enjoy the typical Moroccan market in the city center. The Kasbah is beautifully preserved and gives in interesting glimpse into the lives of the people who live there.\n",
      "Rissani: Also known as Tafilalt, a cluster of small villages around the town of Rissani, is located along the last stretch of the Ziz valley. The region has a long and fascinating history and was a kingdom separate from Morocco between the 8th and 14th centuries.\n",
      "Merzouga: Located at the start of the oasis zone, inhabitants tap the underground water sources for drinking and irrigation purposes, and the area around the town is well cultivated.\n",
      "Erfoud: This small oasis town is used by many travelers as a base for exploring the beautiful Ziz valley.\n",
      "Popular activities in the Sahara include sunrise and sunset camel rides over the dunes, sleeping out under the desert skies, ATV/4X4 trips, visiting traditional Berber villages, dune-boarding.\n",
      "back to Area Guide\n",
      "Title: Sahara Desert – The World’s Largest Desert\n",
      "paragraphs: The Sahara is the world's largest desert. Only a small part of the Sahara is fertile and it is here that corn, dates and other fruits grow. These parts are fed by underground rivers and oases. The Sahara can be an inspirational experience at night, with the air being crisp, clean and clear and the stars being so close you can almost touch them. The Sahara desert stretches across much of North Africa covering over 9,000,000 square kilometers (roughly the size of the United States). In fact, the Sahara covers some 30% of the entire African continent. It is the hottest place in the world with summer temperatures that often exceeds 57 degrees Celsius. It has an annual rainfall of 0 – 25 millimeters and is very windy with windstorms sweeping the sand up to heights of 1000 meters and moving the sand dunes constantly.\n",
      "The Sahara consists of one quarter volcanic mountains, one quarter sand, rocks and gravel-covered plains and small areas of vast permanent vegetation. The vegetation includes shrubs, grasses, and trees in the highland and in the oases along the river beds. Some of the plants are well adjusted to the climate since they sprout within three days of rain and sow their seeds within two weeks after that.\n",
      "Animals in the Sahara are mainly Gerbils, Cape Hare, Deer, Weasels, Baboons, Jackals, Sand Foxes, Mongooses, Desert Hedgehogs and over 300 bird species.\n",
      "The following towns and villages are located in the Sahara of Morocco:\n",
      "Tata: Located where the desert meets the mountains, this small desert town has the reputation for being the hottest town in Morocco.\n",
      "Tleta Tagmout: A desert oasis\n",
      "Foum Zguid: Located where the Jebel Bani range meets the desert, this charming desert town boasts one of the largest palm groves in Morocco.\n",
      "Zagora: Located in the magnificent Drâa Valley, this town is a popular starting for camel and 4×4 excursions into the desert. A sign proclaiming that it is 52 days to Timbuktu is one of the most photographed features of the town.\n",
      "Tinfou: This small town is located along the Draa Valley route where the stony ground gives way to the sand-dunes of the desert.\n",
      "Erg Chebbi: This settlement in the dunes of the Sahara offers basic tourist facilities for visitors exploring the enormous sand dunes.\n",
      "Ouarzazate: Catering for the tourist trade, Ouarzazate has a number of hotels and visitors enjoy the typical Moroccan market in the city center. The Kasbah is beautifully preserved and gives in interesting glimpse into the lives of the people who live there.\n",
      "Rissani: Also known as Tafilalt, a cluster of small villages around the town of Rissani, is located along the last stretch of the Ziz valley. The region has a long and fascinating history and was a kingdom separate from Morocco between the 8th and 14th centuries.\n",
      "Merzouga: Located at the start of the oasis zone, inhabitants tap the underground water sources for drinking and irrigation purposes, and the area around the town is well cultivated.\n",
      "Erfoud: This small oasis town is used by many travelers as a base for exploring the beautiful Ziz valley.\n",
      "Popular activities in the Sahara include sunrise and sunset camel rides over the dunes, sleeping out under the desert skies, ATV/4X4 trips, visiting traditional Berber villages, dune-boarding.\n",
      "back to Area Guide\n"
     ]
    },
    {
     "name": "stderr",
     "output_type": "stream",
     "text": [
      "C:\\Users\\pc\\AppData\\Local\\Temp\\ipykernel_3448\\789444246.py:41: FutureWarning: The frame.append method is deprecated and will be removed from pandas in a future version. Use pandas.concat instead.\n",
      "  df = df.append({\n",
      "C:\\Users\\pc\\AppData\\Local\\Temp\\ipykernel_3448\\789444246.py:12: DeprecationWarning: executable_path has been deprecated, please pass in a Service object\n",
      "  driver = webdriver.Chrome(chrome_driver_path)\n"
     ]
    },
    {
     "name": "stdout",
     "output_type": "stream",
     "text": [
      "Title: Tangier in Morocco Awaits You\n",
      "Text: Many famous writers like Paul Bowles and William Burroughs visited Tangier and even called it their home. Tangier was also the world’s first, and therefore famous, gay resort – a role it maintains to a lesser degree today. The city is very popular with tourists and Moroccan holiday makers as it has beautiful beaches to entertain them. This beautiful city is energetic, very likeable, extremely individual and has an enduring charm.\n",
      "Title: Tangier in Morocco Awaits You\n",
      "paragraphs: With its souks, traditional Moroccan cuisine and many historical and cultural attractions, it's the perfect destination for your Moroccan holiday. Tangier, also known as the White City, revolves around its state-of-the-art import and export port and you are sure to see many millionaire yachts on this stretch of Moroccan coastline where the Mediterranean Sea and Atlantic Ocean meet. Many famous writers like Paul Bowles and William Burroughs visited Tangier and even called it their home. Tangier was also the world’s first, and therefore famous, gay resort – a role it maintains to a lesser degree today. The city is very popular with tourists and Moroccan holiday makers as it has beautiful beaches to entertain them. This beautiful city is energetic, very likeable, extremely individual and has an enduring charm.\n",
      "Title 1: Accommodation\n",
      "Paragraph 1: Tangier has many hotels and pensions in either the Medina or the Ville Nouvelle. The city has two campsites: Camping Miramonte and Camping Tingis. Both are situated close to the city center and in walking distance of several beaches. They are safe and convenient.\n",
      "\n",
      "Title 2: Things to See & Do\n",
      "Paragraph 2: The beaches\n",
      "The beaches are a big attraction in Tangier with people enjoying camel rides, windsurfing, acrobatics and football. The beaches here have a number of beach bars that are only open in the summer. Most of the beaches offer showers, deck chairs, food and drink and some provide cabarets at night.\n",
      "Place de France\n",
      "Place de France is a small French-looking square right in the middle of the Ville Nouvelle with many friendly, inviting street cafés.\n",
      "The Grand Socco\n",
      "Visit the Grand Socco Market Square with its good street cafés and absorb the city life. The market sells everything including arts and crafts, fruit and vegetables and an assortment of trinkets.\n",
      "The Mendoubia Gardens\n",
      "Enjoy the inviting shade that surrounds the Grand Socco Square in the midsummer afternoons. This garden contains a fascinating banyan tree that’s over 800 years old.\n",
      "The Caves of Hercules\n",
      "The Caves of Hercules are situated 14km west of Tangier in the Cap Spartel area. It is a place of great beauty and archeological significance.\n",
      "\n",
      "Title 3: Cuisine & Nightlife\n",
      "Paragraph 3: Tangier’s nightlife is not really something to get excited about, although there are a few good bars and discos and some of the cafés in Grand Socco Square stay open all night. If you’re looking for a basic inexpensive restaurant or café you’ll find what you’re looking for in the Medina. If a fancy meal is more your style, then Ville Nouvelle is the place to be. Click here for traditional Moroccan Cuisine and Recipes.\n",
      "\n",
      "Title 4: Getting Around\n",
      "Paragraph 4: Tangier, like most Moroccan cities, consists of a Medina and a Ville Nouvelle that makes it very easy to move around. Grands taxis are allowed to carry up to six passengers; they are quick and efficient and are a good value for money. Petit taxis can be caught almost anywhere in town. They may not carry more than three passengers and are metered. Petit and Grands taxis increase their rates at fifty percent after 8pm at night. City buses are very useful; they operate between the airport, the train station, Grand Socco and the Caves of Hercules.\n",
      "back to Tangier-Tétouan\n",
      "\n"
     ]
    },
    {
     "name": "stderr",
     "output_type": "stream",
     "text": [
      "C:\\Users\\pc\\AppData\\Local\\Temp\\ipykernel_3448\\789444246.py:41: FutureWarning: The frame.append method is deprecated and will be removed from pandas in a future version. Use pandas.concat instead.\n",
      "  df = df.append({\n",
      "C:\\Users\\pc\\AppData\\Local\\Temp\\ipykernel_3448\\789444246.py:63: FutureWarning: The frame.append method is deprecated and will be removed from pandas in a future version. Use pandas.concat instead.\n",
      "  df = df.append({\n",
      "C:\\Users\\pc\\AppData\\Local\\Temp\\ipykernel_3448\\789444246.py:63: FutureWarning: The frame.append method is deprecated and will be removed from pandas in a future version. Use pandas.concat instead.\n",
      "  df = df.append({\n",
      "C:\\Users\\pc\\AppData\\Local\\Temp\\ipykernel_3448\\789444246.py:63: FutureWarning: The frame.append method is deprecated and will be removed from pandas in a future version. Use pandas.concat instead.\n",
      "  df = df.append({\n",
      "C:\\Users\\pc\\AppData\\Local\\Temp\\ipykernel_3448\\789444246.py:63: FutureWarning: The frame.append method is deprecated and will be removed from pandas in a future version. Use pandas.concat instead.\n",
      "  df = df.append({\n",
      "C:\\Users\\pc\\AppData\\Local\\Temp\\ipykernel_3448\\789444246.py:12: DeprecationWarning: executable_path has been deprecated, please pass in a Service object\n",
      "  driver = webdriver.Chrome(chrome_driver_path)\n"
     ]
    },
    {
     "name": "stdout",
     "output_type": "stream",
     "text": [
      "Title: Touring Taroudant in Morocco\n",
      "Text: Off hand, Taroudant may seem a bit confusing as there are a large number of ramparts that head off in every direction. However, once you figure it all out you can make your way to the souks and workshops in the central part of town and enjoy some shopping. The metal work here is very good; it can even be considered superior to most of that found elsewhere in Morocco. If you are not shopping for jewelry, the carpets here are also quite popular. Everything is reasonably priced and exceptionally good value for money. There are three shopping districts in Taroudant, Morocco, so you’d better make sure you find them all!\n",
      "Your Taroudant hotel will likely be the very pretty Palais Salam: a renovated old Kasbah. The courtyards are lavishly decked with beautiful green plants and numerous small animals while the walls, ceilings and woodwork are painted with colorful traditional Arabic graphics. Stained glass windows shed colorful light on soft sofas and large baths. If you book accommodation elsewhere, you can be sure you will be treated to similar ornamental beauty. Most hotels also have restaurants where you can enjoy your meals.\n",
      "Besides taking in the fantastic backdrop of the High Atlas in the north, you might also enjoy a walk along the city ramparts which were built by the Saadians in the sixteenth century. Many visitors envision what it must have been like to defend the city from these ramparts in times gone by and enjoy watching the hustle and bustle of daily life from this vantage point. Taroudant is a great place to stop if you land at Agadir or are en route to the Western High Atlas or the eastern Djebel Sirwa. Whatever reason you are visiting, you can be sure that you will enjoy your little stop in the ‘Grandmother of Marrakech’.\n",
      "back to Souss-Massa-Draâ\n",
      "Title: Touring Taroudant in Morocco\n",
      "paragraphs: Taroudant is a majestic, brown-walled city situated between Agadir and Ouarzazate. It is sometimes called the 'Grandmother of Marrakech' as it seems to be a smaller, slower-paced version of Marrakech. The city is one of the most elegant in the country and you will see beautiful buildings and the stunning craftsmanship that adorns the city's facades. Taroudant is perhaps most noted for its crafts - so if you plan to shop, this is the place to do it. Off hand, Taroudant may seem a bit confusing as there are a large number of ramparts that head off in every direction. However, once you figure it all out you can make your way to the souks and workshops in the central part of town and enjoy some shopping. The metal work here is very good; it can even be considered superior to most of that found elsewhere in Morocco. If you are not shopping for jewelry, the carpets here are also quite popular. Everything is reasonably priced and exceptionally good value for money. There are three shopping districts in Taroudant, Morocco, so you’d better make sure you find them all!\n",
      "Your Taroudant hotel will likely be the very pretty Palais Salam: a renovated old Kasbah. The courtyards are lavishly decked with beautiful green plants and numerous small animals while the walls, ceilings and woodwork are painted with colorful traditional Arabic graphics. Stained glass windows shed colorful light on soft sofas and large baths. If you book accommodation elsewhere, you can be sure you will be treated to similar ornamental beauty. Most hotels also have restaurants where you can enjoy your meals.\n",
      "Besides taking in the fantastic backdrop of the High Atlas in the north, you might also enjoy a walk along the city ramparts which were built by the Saadians in the sixteenth century. Many visitors envision what it must have been like to defend the city from these ramparts in times gone by and enjoy watching the hustle and bustle of daily life from this vantage point. Taroudant is a great place to stop if you land at Agadir or are en route to the Western High Atlas or the eastern Djebel Sirwa. Whatever reason you are visiting, you can be sure that you will enjoy your little stop in the ‘Grandmother of Marrakech’.\n",
      "back to Souss-Massa-Draâ\n"
     ]
    },
    {
     "name": "stderr",
     "output_type": "stream",
     "text": [
      "C:\\Users\\pc\\AppData\\Local\\Temp\\ipykernel_3448\\789444246.py:41: FutureWarning: The frame.append method is deprecated and will be removed from pandas in a future version. Use pandas.concat instead.\n",
      "  df = df.append({\n",
      "C:\\Users\\pc\\AppData\\Local\\Temp\\ipykernel_3448\\789444246.py:12: DeprecationWarning: executable_path has been deprecated, please pass in a Service object\n",
      "  driver = webdriver.Chrome(chrome_driver_path)\n"
     ]
    },
    {
     "name": "stdout",
     "output_type": "stream",
     "text": [
      "Title: Explore Tetouan in Morocco\n",
      "Text: At one time, Tetouan had acquired a reputation amongst foreigners as being a bit touristy – a place where foreigners had difficult experiences. Fortunately local government realized how the annoyance was hurting the city’s tourism so officials began making sure that ‘friendly guides’ remained friendly. As a result touring Tetouan has been a very pleasant experience for many years and you can be sure that a visit to Tetouan will be enjoyable. Indeed, you will be left to admire the truly beautiful backdrop to the city while you walk between the charming old buildings as you attempt to imagine living in Morocco’s historical past.\n",
      "Tetouan was established in 1305 as a base of operations against Sebta. Sometime later it became a pirate’s lair until it was destroyed, only to be repopulated in the 16th century by Muslims and Jews who had been exiled from Andalusia. It wasn’t long before the city began to prosper. Today you will find it surrounded by orchards of oranges, almonds, pomegranates and cypress trees. The city is noted for its culture. As you make your way around you will find woman selling their honey, butter, vegetables and herbs in oddly mixed clothing. The Hassan II Square is where the old and new town meet and is the heart of the city. It has distinct Andalusian charm with its wrought iron balconies, fountains and flower boxes, and kiosks and shops are plentiful. As you explore the streets you will likely find that each one is occupied by a trade guild which can be very interesting to watch.\n",
      "Besides all this, Tetouan has a number of monuments. A fort, walls and well preserved fences, mosques, fountains and foundouks all provide an interesting look into the city’s history. The Khalifa’s old palace, a seventeenth century building, is also definitely worth a look as it is an great example of Hispano-Moresque architecture. After that there are two museums, a conservatory, a School of Moroccan Art and a College of Fine Arts to visit. However none of these things quite surpass the experience of walking through the city’s winding streets and discovering the history hidden in its walls. Usually a hiring a guide is the best way to do this. If you are visiting Morocco, make sure that Tetouan is on your list of places to see!\n",
      "back to Tangier-Tétouan\n",
      "Title: Explore Tetouan in Morocco\n",
      "paragraphs: The city of Tetouan is strangely enchanting with its dramatic setting of the somber Rif Mountains and the cheerful and colorful Martil Valley. The discolored white walls give way to bursts of color here and there while green tile roofs frame the odd mixture of Spanish and Moorish architecture. The people here are friendly and very much engaged in the business of living. Traders guilds abound, which means shopping opportunities are good. At one time, Tetouan had acquired a reputation amongst foreigners as being a bit touristy – a place where foreigners had difficult experiences. Fortunately local government realized how the annoyance was hurting the city’s tourism so officials began making sure that ‘friendly guides’ remained friendly. As a result touring Tetouan has been a very pleasant experience for many years and you can be sure that a visit to Tetouan will be enjoyable. Indeed, you will be left to admire the truly beautiful backdrop to the city while you walk between the charming old buildings as you attempt to imagine living in Morocco’s historical past.\n",
      "Tetouan was established in 1305 as a base of operations against Sebta. Sometime later it became a pirate’s lair until it was destroyed, only to be repopulated in the 16th century by Muslims and Jews who had been exiled from Andalusia. It wasn’t long before the city began to prosper. Today you will find it surrounded by orchards of oranges, almonds, pomegranates and cypress trees. The city is noted for its culture. As you make your way around you will find woman selling their honey, butter, vegetables and herbs in oddly mixed clothing. The Hassan II Square is where the old and new town meet and is the heart of the city. It has distinct Andalusian charm with its wrought iron balconies, fountains and flower boxes, and kiosks and shops are plentiful. As you explore the streets you will likely find that each one is occupied by a trade guild which can be very interesting to watch.\n",
      "Besides all this, Tetouan has a number of monuments. A fort, walls and well preserved fences, mosques, fountains and foundouks all provide an interesting look into the city’s history. The Khalifa’s old palace, a seventeenth century building, is also definitely worth a look as it is an great example of Hispano-Moresque architecture. After that there are two museums, a conservatory, a School of Moroccan Art and a College of Fine Arts to visit. However none of these things quite surpass the experience of walking through the city’s winding streets and discovering the history hidden in its walls. Usually a hiring a guide is the best way to do this. If you are visiting Morocco, make sure that Tetouan is on your list of places to see!\n",
      "back to Tangier-Tétouan\n"
     ]
    },
    {
     "name": "stderr",
     "output_type": "stream",
     "text": [
      "C:\\Users\\pc\\AppData\\Local\\Temp\\ipykernel_3448\\789444246.py:41: FutureWarning: The frame.append method is deprecated and will be removed from pandas in a future version. Use pandas.concat instead.\n",
      "  df = df.append({\n",
      "C:\\Users\\pc\\AppData\\Local\\Temp\\ipykernel_3448\\789444246.py:12: DeprecationWarning: executable_path has been deprecated, please pass in a Service object\n",
      "  driver = webdriver.Chrome(chrome_driver_path)\n"
     ]
    },
    {
     "name": "stdout",
     "output_type": "stream",
     "text": [
      "Title: A Holiday in Zagora\n",
      "Text: Two things, however, redeem it. The first thing is Zagora‘s location: this is, without a doubt, the most dynamic stretch of the Draa. You only have to walk a mile or so out of the town to find yourself in the middle of the palms and oasis cultivation. The second thing is a distinct air of unreality. Directly behind the town rises the peculiar Hollywood-Sunset Mountain, and at the end of the main street is a mock-serious road sign to Timbuktu.\n",
      "Another draw for Zagora is its fabulous festivals. The Draa’s big event, the Moussem of Moulay Abdelkader Jilali, is celebrated here during the Mouloud and other national festivals, such as the Fete du Trone, are always entertaining.\n",
      "Zagora is an easy place to get around in. Almost everything of importance is on the main street, Boulevard Mohammed V, or the lower Avenue Hassan II. Across the river to the southeast is the palmary and hamlet of Amazrou. This is a good alternative base with a fast-growing collection of cosmopolitan hotels and campsites.\n",
      "Zagora and Amazrou have a good selection of hotels and some nicely located campsites. Travelers who are on tight budgets should also note that many mid-scale hotels will let you bed down on roof terraces or in nomad tents for very reasonable prices.\n",
      "Zagora has some excellent places for trekking and camels can be hired on almost every corner. The people of Zagora are very helpful and welcoming and will often invite you for tea while shopping at their craft markets. Zagora is the perfect place to unwind and to forget about the hustle and bustle of the busy city life.\n",
      "back to Souss-Massa-Draâ\n",
      "Title: A Holiday in Zagora\n",
      "paragraphs: Zagora seems without prospect at first sight: a one-street, modern market town with a big collection of hotels and government buildings. As the region's main staging post for journeys to the outer reaches of the Sahara, it attracts far more tourist awareness than it deserves in itself - not to mention the hustlers trying to hook up with potential clients for camel treks. Two things, however, redeem it. The first thing is Zagora‘s location: this is, without a doubt, the most dynamic stretch of the Draa. You only have to walk a mile or so out of the town to find yourself in the middle of the palms and oasis cultivation. The second thing is a distinct air of unreality. Directly behind the town rises the peculiar Hollywood-Sunset Mountain, and at the end of the main street is a mock-serious road sign to Timbuktu.\n",
      "Another draw for Zagora is its fabulous festivals. The Draa’s big event, the Moussem of Moulay Abdelkader Jilali, is celebrated here during the Mouloud and other national festivals, such as the Fete du Trone, are always entertaining.\n",
      "Zagora is an easy place to get around in. Almost everything of importance is on the main street, Boulevard Mohammed V, or the lower Avenue Hassan II. Across the river to the southeast is the palmary and hamlet of Amazrou. This is a good alternative base with a fast-growing collection of cosmopolitan hotels and campsites.\n",
      "Zagora and Amazrou have a good selection of hotels and some nicely located campsites. Travelers who are on tight budgets should also note that many mid-scale hotels will let you bed down on roof terraces or in nomad tents for very reasonable prices.\n",
      "Zagora has some excellent places for trekking and camels can be hired on almost every corner. The people of Zagora are very helpful and welcoming and will often invite you for tea while shopping at their craft markets. Zagora is the perfect place to unwind and to forget about the hustle and bustle of the busy city life.\n",
      "back to Souss-Massa-Draâ\n"
     ]
    },
    {
     "name": "stderr",
     "output_type": "stream",
     "text": [
      "C:\\Users\\pc\\AppData\\Local\\Temp\\ipykernel_3448\\789444246.py:41: FutureWarning: The frame.append method is deprecated and will be removed from pandas in a future version. Use pandas.concat instead.\n",
      "  df = df.append({\n"
     ]
    }
   ],
   "source": [
    "from selenium import webdriver\n",
    "from selenium.webdriver.common.by import By\n",
    "from selenium.webdriver.support.ui import WebDriverWait\n",
    "from selenium.webdriver.support import expected_conditions as EC\n",
    "from bs4 import BeautifulSoup\n",
    "import pandas as pd\n",
    "from time import sleep\n",
    "df = pd.DataFrame(columns=['Prompt', 'Response'])\n",
    "for l in all_links:\n",
    "    # Initialize WebDriver (Make sure to replace with your Chrome driver path)\n",
    "    chrome_driver_path = \"C:\\\\Users\\\\pc\\\\OneDrive\\\\Documents\\\\chromedriver-win64\\\\chromedriver.exe\"\n",
    "    driver = webdriver.Chrome(chrome_driver_path)\n",
    "    url = base+l\n",
    "    driver.get(url)\n",
    "    sleep(5)  # Add a pause to ensure content loads properl\n",
    "    # Récupération du contenu de la page avec BeautifulSoup\n",
    "    src = driver.page_source\n",
    "    soup = BeautifulSoup(src, 'html.parser')\n",
    "    div_content=soup.find('div',class_='content testing')\n",
    "    title = div_content.find('h1', class_='page-title').get_text()\n",
    "    content_div = div_content.find('div', class_='content-text')\n",
    "\n",
    "    # Extract paragraphs before the first h3\n",
    "    text = \"\"\n",
    "    for sibling in content_div.find_all(recursive=False):\n",
    "        if sibling.name == 'h3':\n",
    "            break\n",
    "        if sibling.name == 'p':\n",
    "            text += sibling.get_text() + \"\\n\"\n",
    "\n",
    "    print(\"Title:\", title)\n",
    "    print(\"Text:\", text.strip())\n",
    "    # Extract the text from the specified paragraphs\n",
    "    paragraphs = div_content.find('div', class_='excerpt')\n",
    "    paragraphs=paragraphs.get_text().strip()\n",
    "    # Combine the text from the selected paragraphs\n",
    "    paragraphs += ' '+ text.strip()\n",
    "\n",
    "    print(\"Title:\", title)\n",
    "    print(\"paragraphs:\", paragraphs)\n",
    "    df = df.append({\n",
    "            'Prompt':title,\n",
    "            'Response':paragraphs\n",
    "        }, ignore_index=True)\n",
    "    \n",
    "    titles = div_content.find_all('h3')\n",
    "\n",
    "    content = []\n",
    "    for title in titles:\n",
    "        title_text = title.get_text()\n",
    "        sibling = title.find_next_sibling()\n",
    "        paragraph_text = \"\"\n",
    "        while sibling and (sibling.name != 'h3'):\n",
    "            if sibling.name == 'p':\n",
    "                paragraph_text += sibling.get_text() + \"\\n\"\n",
    "            sibling = sibling.find_next_sibling()\n",
    "        content.append((title_text, paragraph_text.strip()))\n",
    "\n",
    "    # Print the extracted title and paragraph pairs\n",
    "    for idx, (title, paragraph) in enumerate(content):\n",
    "        print(f\"Title {idx + 1}: {title}\")\n",
    "        print(f\"Paragraph {idx + 1}: {paragraph}\\n\")\n",
    "        df = df.append({\n",
    "            'Prompt':title,\n",
    "            'Response':paragraph\n",
    "        }, ignore_index=True)\n",
    "    "
   ]
  },
  {
   "cell_type": "code",
   "execution_count": 3,
   "id": "1c7d5c4d",
   "metadata": {},
   "outputs": [
    {
     "data": {
      "text/html": [
       "<div>\n",
       "<style scoped>\n",
       "    .dataframe tbody tr th:only-of-type {\n",
       "        vertical-align: middle;\n",
       "    }\n",
       "\n",
       "    .dataframe tbody tr th {\n",
       "        vertical-align: top;\n",
       "    }\n",
       "\n",
       "    .dataframe thead th {\n",
       "        text-align: right;\n",
       "    }\n",
       "</style>\n",
       "<table border=\"1\" class=\"dataframe\">\n",
       "  <thead>\n",
       "    <tr style=\"text-align: right;\">\n",
       "      <th></th>\n",
       "      <th>Prompt</th>\n",
       "      <th>Response</th>\n",
       "    </tr>\n",
       "  </thead>\n",
       "  <tbody>\n",
       "    <tr>\n",
       "      <th>0</th>\n",
       "      <td>Travel to Agadir in Morocco</td>\n",
       "      <td>Agadir is Southern Morocco's most visited city...</td>\n",
       "    </tr>\n",
       "    <tr>\n",
       "      <th>1</th>\n",
       "      <td>Accommodation</td>\n",
       "      <td>There are plenty of hotels to choose from in M...</td>\n",
       "    </tr>\n",
       "    <tr>\n",
       "      <th>2</th>\n",
       "      <td>Beaches</td>\n",
       "      <td>The lack of monuments, museums and interesting...</td>\n",
       "    </tr>\n",
       "    <tr>\n",
       "      <th>3</th>\n",
       "      <td>Things to See &amp; Do</td>\n",
       "      <td>The Valley of the Birds (daily from 09:30-12:3...</td>\n",
       "    </tr>\n",
       "    <tr>\n",
       "      <th>4</th>\n",
       "      <td>Cuisine &amp; Nightlife</td>\n",
       "      <td>Besides what the large hotels have, there’s no...</td>\n",
       "    </tr>\n",
       "    <tr>\n",
       "      <th>5</th>\n",
       "      <td>Getting Around</td>\n",
       "      <td>Transport in Agadir is fairly efficient with m...</td>\n",
       "    </tr>\n",
       "    <tr>\n",
       "      <th>6</th>\n",
       "      <td>Explore Al Hoceima in Morocco</td>\n",
       "      <td>Al Hoceima is strongly Mediterranean and has d...</td>\n",
       "    </tr>\n",
       "    <tr>\n",
       "      <th>7</th>\n",
       "      <td>The Marvels of Casablanca in Morocco</td>\n",
       "      <td>Also known as Casa or Dar el Baida, Casablanca...</td>\n",
       "    </tr>\n",
       "    <tr>\n",
       "      <th>8</th>\n",
       "      <td>Transport</td>\n",
       "      <td>Petits Taxis are everywhere and you shouldn’t ...</td>\n",
       "    </tr>\n",
       "    <tr>\n",
       "      <th>9</th>\n",
       "      <td>Accommodation</td>\n",
       "      <td>There are plenty of hotels in and around Casa....</td>\n",
       "    </tr>\n",
       "    <tr>\n",
       "      <th>10</th>\n",
       "      <td>Beaches</td>\n",
       "      <td>Visitors can take a bus to Ain Diab, a small b...</td>\n",
       "    </tr>\n",
       "    <tr>\n",
       "      <th>11</th>\n",
       "      <td>Restaurants</td>\n",
       "      <td>Regardless of the size of your budget, you can...</td>\n",
       "    </tr>\n",
       "    <tr>\n",
       "      <th>12</th>\n",
       "      <td>Bars &amp; Nightclubs</td>\n",
       "      <td>Unfortunately Casa’s nightclub offerings are s...</td>\n",
       "    </tr>\n",
       "    <tr>\n",
       "      <th>13</th>\n",
       "      <td>Things to See &amp; Do</td>\n",
       "      <td>Rialto Cinema\\nThis beautiful Art Deco cinema ...</td>\n",
       "    </tr>\n",
       "    <tr>\n",
       "      <th>14</th>\n",
       "      <td>Getting Around</td>\n",
       "      <td>CTM has buses running constantly in and around...</td>\n",
       "    </tr>\n",
       "    <tr>\n",
       "      <th>15</th>\n",
       "      <td>Touring El Jadida in Morocco</td>\n",
       "      <td>El Jadida is a stylish and beautiful town, ret...</td>\n",
       "    </tr>\n",
       "    <tr>\n",
       "      <th>16</th>\n",
       "      <td>Journey to Erfoud in Morocco</td>\n",
       "      <td>Erfoud doesn't have a whole lot to offer a tou...</td>\n",
       "    </tr>\n",
       "    <tr>\n",
       "      <th>17</th>\n",
       "      <td>Accommodation</td>\n",
       "      <td>There are a number of hotels still left over f...</td>\n",
       "    </tr>\n",
       "    <tr>\n",
       "      <th>18</th>\n",
       "      <td>Cuisine</td>\n",
       "      <td>If you’re going to get a meal in Erfoud, you s...</td>\n",
       "    </tr>\n",
       "    <tr>\n",
       "      <th>19</th>\n",
       "      <td>Getting Around</td>\n",
       "      <td>Most CTM buses pass through Erfoud to Merzouga...</td>\n",
       "    </tr>\n",
       "    <tr>\n",
       "      <th>20</th>\n",
       "      <td>Essaouira – Natural Bay and Tourist Hotspot</td>\n",
       "      <td>Essaouira is a delightful destination in Moroc...</td>\n",
       "    </tr>\n",
       "    <tr>\n",
       "      <th>21</th>\n",
       "      <td>Enjoy your Stay in Fez</td>\n",
       "      <td>It seems that the city of Fez still lingers in...</td>\n",
       "    </tr>\n",
       "    <tr>\n",
       "      <th>22</th>\n",
       "      <td>Accommodation</td>\n",
       "      <td>You can either stay in the modern hotels of Vi...</td>\n",
       "    </tr>\n",
       "    <tr>\n",
       "      <th>23</th>\n",
       "      <td>Things to See &amp; Do</td>\n",
       "      <td>Fez has enough sights to keep you busy for thr...</td>\n",
       "    </tr>\n",
       "    <tr>\n",
       "      <th>24</th>\n",
       "      <td>Getting Around</td>\n",
       "      <td>By Train\\nThe train station is situated in the...</td>\n",
       "    </tr>\n",
       "    <tr>\n",
       "      <th>25</th>\n",
       "      <td>Guides</td>\n",
       "      <td>Getting a guide is fairly easy since they are ...</td>\n",
       "    </tr>\n",
       "    <tr>\n",
       "      <th>26</th>\n",
       "      <td>Transportation</td>\n",
       "      <td>The basic layout of Fez el Bali is very simple...</td>\n",
       "    </tr>\n",
       "    <tr>\n",
       "      <th>27</th>\n",
       "      <td>High Atlas Mountains – Explore Scenic Hiking T...</td>\n",
       "      <td>The High Atlas is the biggest mountain range i...</td>\n",
       "    </tr>\n",
       "    <tr>\n",
       "      <th>28</th>\n",
       "      <td>Take a Trip to Ifrane in Morocco</td>\n",
       "      <td>A small town situated in Morocco's Middle Atla...</td>\n",
       "    </tr>\n",
       "    <tr>\n",
       "      <th>29</th>\n",
       "      <td>Discover the Wonders of Marrakech</td>\n",
       "      <td>Marrakech is truly the city of entertainment i...</td>\n",
       "    </tr>\n",
       "    <tr>\n",
       "      <th>30</th>\n",
       "      <td>Accommodation</td>\n",
       "      <td>The accommodation in Marrakech ranges from che...</td>\n",
       "    </tr>\n",
       "    <tr>\n",
       "      <th>31</th>\n",
       "      <td>Things to See &amp; Do</td>\n",
       "      <td>It is not essential to have a guide in Marrake...</td>\n",
       "    </tr>\n",
       "    <tr>\n",
       "      <th>32</th>\n",
       "      <td>Cuisine</td>\n",
       "      <td>Marrakech eating and drinking options break do...</td>\n",
       "    </tr>\n",
       "    <tr>\n",
       "      <th>33</th>\n",
       "      <td>Getting Around</td>\n",
       "      <td>By Air\\nMarrakech’s airport is 4 km southwest ...</td>\n",
       "    </tr>\n",
       "    <tr>\n",
       "      <th>34</th>\n",
       "      <td>Meknes – Historical Significant City and Popul...</td>\n",
       "      <td>Meknes is renowned for its vast historical sig...</td>\n",
       "    </tr>\n",
       "    <tr>\n",
       "      <th>35</th>\n",
       "      <td>Travel to Ouarzazate in Morocco</td>\n",
       "      <td>Morocco's own special home of film, Ouarzazate...</td>\n",
       "    </tr>\n",
       "    <tr>\n",
       "      <th>36</th>\n",
       "      <td>Journey to the Capital of Morocco – Rabat</td>\n",
       "      <td>Rabat is home to the Moroccan government as we...</td>\n",
       "    </tr>\n",
       "    <tr>\n",
       "      <th>37</th>\n",
       "      <td>Accommodation</td>\n",
       "      <td>The Ville Nouvelle has beautiful modern French...</td>\n",
       "    </tr>\n",
       "    <tr>\n",
       "      <th>38</th>\n",
       "      <td>Things to See &amp; Do</td>\n",
       "      <td>The Medina\\nRabat’s Medina is all there was be...</td>\n",
       "    </tr>\n",
       "    <tr>\n",
       "      <th>39</th>\n",
       "      <td>Cuisine</td>\n",
       "      <td>For a capital city, Rabat is very quiet and of...</td>\n",
       "    </tr>\n",
       "    <tr>\n",
       "      <th>40</th>\n",
       "      <td>Getting Around</td>\n",
       "      <td>With the city centre of Rabat being very compa...</td>\n",
       "    </tr>\n",
       "    <tr>\n",
       "      <th>41</th>\n",
       "      <td>Safi – Successful Fishing and Industrial Port</td>\n",
       "      <td>Located on the shores of the Atlantic Ocean, S...</td>\n",
       "    </tr>\n",
       "    <tr>\n",
       "      <th>42</th>\n",
       "      <td>Sahara Desert – The World’s Largest Desert</td>\n",
       "      <td>The Sahara is the world's largest desert. Only...</td>\n",
       "    </tr>\n",
       "    <tr>\n",
       "      <th>43</th>\n",
       "      <td>Tangier in Morocco Awaits You</td>\n",
       "      <td>With its souks, traditional Moroccan cuisine a...</td>\n",
       "    </tr>\n",
       "    <tr>\n",
       "      <th>44</th>\n",
       "      <td>Accommodation</td>\n",
       "      <td>Tangier has many hotels and pensions in either...</td>\n",
       "    </tr>\n",
       "    <tr>\n",
       "      <th>45</th>\n",
       "      <td>Things to See &amp; Do</td>\n",
       "      <td>The beaches\\nThe beaches are a big attraction ...</td>\n",
       "    </tr>\n",
       "    <tr>\n",
       "      <th>46</th>\n",
       "      <td>Cuisine &amp; Nightlife</td>\n",
       "      <td>Tangier’s nightlife is not really something to...</td>\n",
       "    </tr>\n",
       "    <tr>\n",
       "      <th>47</th>\n",
       "      <td>Getting Around</td>\n",
       "      <td>Tangier, like most Moroccan cities, consists o...</td>\n",
       "    </tr>\n",
       "    <tr>\n",
       "      <th>48</th>\n",
       "      <td>Touring Taroudant in Morocco</td>\n",
       "      <td>Taroudant is a majestic, brown-walled city sit...</td>\n",
       "    </tr>\n",
       "    <tr>\n",
       "      <th>49</th>\n",
       "      <td>Explore Tetouan in Morocco</td>\n",
       "      <td>The city of Tetouan is strangely enchanting wi...</td>\n",
       "    </tr>\n",
       "    <tr>\n",
       "      <th>50</th>\n",
       "      <td>A Holiday in Zagora</td>\n",
       "      <td>Zagora seems without prospect at first sight: ...</td>\n",
       "    </tr>\n",
       "  </tbody>\n",
       "</table>\n",
       "</div>"
      ],
      "text/plain": [
       "                                               Prompt  \\\n",
       "0                         Travel to Agadir in Morocco   \n",
       "1                                       Accommodation   \n",
       "2                                             Beaches   \n",
       "3                                  Things to See & Do   \n",
       "4                                 Cuisine & Nightlife   \n",
       "5                                      Getting Around   \n",
       "6                       Explore Al Hoceima in Morocco   \n",
       "7                The Marvels of Casablanca in Morocco   \n",
       "8                                           Transport   \n",
       "9                                       Accommodation   \n",
       "10                                            Beaches   \n",
       "11                                        Restaurants   \n",
       "12                                  Bars & Nightclubs   \n",
       "13                                 Things to See & Do   \n",
       "14                                     Getting Around   \n",
       "15                       Touring El Jadida in Morocco   \n",
       "16                       Journey to Erfoud in Morocco   \n",
       "17                                      Accommodation   \n",
       "18                                            Cuisine   \n",
       "19                                     Getting Around   \n",
       "20        Essaouira – Natural Bay and Tourist Hotspot   \n",
       "21                             Enjoy your Stay in Fez   \n",
       "22                                      Accommodation   \n",
       "23                                 Things to See & Do   \n",
       "24                                     Getting Around   \n",
       "25                                             Guides   \n",
       "26                                     Transportation   \n",
       "27  High Atlas Mountains – Explore Scenic Hiking T...   \n",
       "28                   Take a Trip to Ifrane in Morocco   \n",
       "29                  Discover the Wonders of Marrakech   \n",
       "30                                      Accommodation   \n",
       "31                                 Things to See & Do   \n",
       "32                                            Cuisine   \n",
       "33                                     Getting Around   \n",
       "34  Meknes – Historical Significant City and Popul...   \n",
       "35                    Travel to Ouarzazate in Morocco   \n",
       "36          Journey to the Capital of Morocco – Rabat   \n",
       "37                                      Accommodation   \n",
       "38                                 Things to See & Do   \n",
       "39                                            Cuisine   \n",
       "40                                     Getting Around   \n",
       "41      Safi – Successful Fishing and Industrial Port   \n",
       "42         Sahara Desert – The World’s Largest Desert   \n",
       "43                      Tangier in Morocco Awaits You   \n",
       "44                                      Accommodation   \n",
       "45                                 Things to See & Do   \n",
       "46                                Cuisine & Nightlife   \n",
       "47                                     Getting Around   \n",
       "48                       Touring Taroudant in Morocco   \n",
       "49                         Explore Tetouan in Morocco   \n",
       "50                                A Holiday in Zagora   \n",
       "\n",
       "                                             Response  \n",
       "0   Agadir is Southern Morocco's most visited city...  \n",
       "1   There are plenty of hotels to choose from in M...  \n",
       "2   The lack of monuments, museums and interesting...  \n",
       "3   The Valley of the Birds (daily from 09:30-12:3...  \n",
       "4   Besides what the large hotels have, there’s no...  \n",
       "5   Transport in Agadir is fairly efficient with m...  \n",
       "6   Al Hoceima is strongly Mediterranean and has d...  \n",
       "7   Also known as Casa or Dar el Baida, Casablanca...  \n",
       "8   Petits Taxis are everywhere and you shouldn’t ...  \n",
       "9   There are plenty of hotels in and around Casa....  \n",
       "10  Visitors can take a bus to Ain Diab, a small b...  \n",
       "11  Regardless of the size of your budget, you can...  \n",
       "12  Unfortunately Casa’s nightclub offerings are s...  \n",
       "13  Rialto Cinema\\nThis beautiful Art Deco cinema ...  \n",
       "14  CTM has buses running constantly in and around...  \n",
       "15  El Jadida is a stylish and beautiful town, ret...  \n",
       "16  Erfoud doesn't have a whole lot to offer a tou...  \n",
       "17  There are a number of hotels still left over f...  \n",
       "18  If you’re going to get a meal in Erfoud, you s...  \n",
       "19  Most CTM buses pass through Erfoud to Merzouga...  \n",
       "20  Essaouira is a delightful destination in Moroc...  \n",
       "21  It seems that the city of Fez still lingers in...  \n",
       "22  You can either stay in the modern hotels of Vi...  \n",
       "23  Fez has enough sights to keep you busy for thr...  \n",
       "24  By Train\\nThe train station is situated in the...  \n",
       "25  Getting a guide is fairly easy since they are ...  \n",
       "26  The basic layout of Fez el Bali is very simple...  \n",
       "27  The High Atlas is the biggest mountain range i...  \n",
       "28  A small town situated in Morocco's Middle Atla...  \n",
       "29  Marrakech is truly the city of entertainment i...  \n",
       "30  The accommodation in Marrakech ranges from che...  \n",
       "31  It is not essential to have a guide in Marrake...  \n",
       "32  Marrakech eating and drinking options break do...  \n",
       "33  By Air\\nMarrakech’s airport is 4 km southwest ...  \n",
       "34  Meknes is renowned for its vast historical sig...  \n",
       "35  Morocco's own special home of film, Ouarzazate...  \n",
       "36  Rabat is home to the Moroccan government as we...  \n",
       "37  The Ville Nouvelle has beautiful modern French...  \n",
       "38  The Medina\\nRabat’s Medina is all there was be...  \n",
       "39  For a capital city, Rabat is very quiet and of...  \n",
       "40  With the city centre of Rabat being very compa...  \n",
       "41  Located on the shores of the Atlantic Ocean, S...  \n",
       "42  The Sahara is the world's largest desert. Only...  \n",
       "43  With its souks, traditional Moroccan cuisine a...  \n",
       "44  Tangier has many hotels and pensions in either...  \n",
       "45  The beaches\\nThe beaches are a big attraction ...  \n",
       "46  Tangier’s nightlife is not really something to...  \n",
       "47  Tangier, like most Moroccan cities, consists o...  \n",
       "48  Taroudant is a majestic, brown-walled city sit...  \n",
       "49  The city of Tetouan is strangely enchanting wi...  \n",
       "50  Zagora seems without prospect at first sight: ...  "
      ]
     },
     "execution_count": 3,
     "metadata": {},
     "output_type": "execute_result"
    }
   ],
   "source": [
    "df"
   ]
  },
  {
   "cell_type": "code",
   "execution_count": 4,
   "id": "d2ff42cc",
   "metadata": {},
   "outputs": [
    {
     "data": {
      "text/plain": [
       "Prompt      0\n",
       "Response    0\n",
       "dtype: int64"
      ]
     },
     "execution_count": 4,
     "metadata": {},
     "output_type": "execute_result"
    }
   ],
   "source": [
    "df.isna().sum()"
   ]
  },
  {
   "cell_type": "code",
   "execution_count": 5,
   "id": "8c30e33a",
   "metadata": {},
   "outputs": [],
   "source": [
    "extra_links = [\n",
    "    'https://www.morocco.com/regions/chaouia-ouardigha/',\n",
    "    'https://www.morocco.com/regions/doukkala-abda/',\n",
    "    'https://www.morocco.com/regions/f-es-boulemane/',\n",
    "    'https://www.morocco.com/regions/gharb-chrarda-beni-hssen/',\n",
    "    'https://www.morocco.com/regions/grand-casablanca/',\n",
    "    'https://www.morocco.com/regions/guelmim-es-semara/',\n",
    "    'https://www.morocco.com/regions/la-ayoune-boujdour-sakia-el-hamra/',\n",
    "    'https://www.morocco.com/regions/marrakech-tensift-el-haouz/',\n",
    "    'https://www.morocco.com/regions/mekn-es-tafilalet/',\n",
    "    'https://www.morocco.com/regions/oriental/',\n",
    "    'https://www.morocco.com/regions/oued-ed-dahab-lagouira/',\n",
    "    'https://www.morocco.com/regions/rabat-sale-zemmour-zaer/',\n",
    "    'https://www.morocco.com/regions/souss-massa-dra-a/',\n",
    "    'https://www.morocco.com/regions/tadla-azilal/',\n",
    "    'https://www.morocco.com/regions/tangier-tetouan/',\n",
    "    'https://www.morocco.com/regions/taza-al-hoceima-taounate/'\n",
    "]\n"
   ]
  },
  {
   "cell_type": "code",
   "execution_count": 6,
   "id": "cb2b3c89",
   "metadata": {},
   "outputs": [
    {
     "name": "stderr",
     "output_type": "stream",
     "text": [
      "C:\\Users\\pc\\AppData\\Local\\Temp\\ipykernel_3448\\3079940754.py:3: DeprecationWarning: executable_path has been deprecated, please pass in a Service object\n",
      "  driver = webdriver.Chrome(chrome_driver_path)\n"
     ]
    },
    {
     "name": "stdout",
     "output_type": "stream",
     "text": [
      "Chaouia-Ouardigha\n",
      "Situated in north-central Morocco, the region of Chaouia-Ouardigha has a population of more than 1.6 million. The city of Settat is the capital of the region. Encompassing an area of 7 010 square kilometers, the region of Chaouia-Ouardigha includes the provinces of Settat, Kouribga and Ben Slimane. There are many interesting places to explore in the region, including the Ziada cork oak forest, local markets, renowned casbahs and interesting towns. Activities in the area include hiking, hunting, golfing and fishing, making this the ideal destination for lovers of the great outdoors. Those looking for something a little different should definitely take some time to explore the Chaouia-Ouardigha region of Morocco.\n"
     ]
    },
    {
     "name": "stderr",
     "output_type": "stream",
     "text": [
      "C:\\Users\\pc\\AppData\\Local\\Temp\\ipykernel_3448\\3079940754.py:20: FutureWarning: The frame.append method is deprecated and will be removed from pandas in a future version. Use pandas.concat instead.\n",
      "  df = df.append({\n",
      "C:\\Users\\pc\\AppData\\Local\\Temp\\ipykernel_3448\\3079940754.py:3: DeprecationWarning: executable_path has been deprecated, please pass in a Service object\n",
      "  driver = webdriver.Chrome(chrome_driver_path)\n"
     ]
    },
    {
     "name": "stdout",
     "output_type": "stream",
     "text": [
      "Doukkala-Abda\n",
      "Situated in west-Central Morocco, the region of Doukkala-Abda has a population of close to 2 million. The capital city of the region is Safi. Within the 13 285 square kilometer region of Doukkala-Abda is the UNESCO World Heritage Site of Mazagan which now forms part of the city of El Jadida. This is certainly a fascinating site to visit and tourists should include this on their itinerary. Safi is a fisherman’s haven and boasts a very busy port. The area of Doukkala itself is a natural plain rich in agriculture. The region is well known for the unique tazota architecture, a stone structure thought to originate from the time of the Portuguese occupation. The quiet region of Doukkala-Abda is a great place to escape from the hustle and bustle of city life.\n"
     ]
    },
    {
     "name": "stderr",
     "output_type": "stream",
     "text": [
      "C:\\Users\\pc\\AppData\\Local\\Temp\\ipykernel_3448\\3079940754.py:20: FutureWarning: The frame.append method is deprecated and will be removed from pandas in a future version. Use pandas.concat instead.\n",
      "  df = df.append({\n",
      "C:\\Users\\pc\\AppData\\Local\\Temp\\ipykernel_3448\\3079940754.py:3: DeprecationWarning: executable_path has been deprecated, please pass in a Service object\n",
      "  driver = webdriver.Chrome(chrome_driver_path)\n"
     ]
    },
    {
     "name": "stdout",
     "output_type": "stream",
     "text": [
      "Fès-Boulemane\n",
      "Situated in northern Morocco, the region of Fes-Boulemane is home to more than 1.5 million people. The capital city of the region is the popular tourist destination of Fez. The 19,795 square kilometer region of Fes-Boulemane encompasses the prefectures of Fes-Dar-Dbibegh, Moulay Yacoub and Sefrou, as well as the province of Boulemane. There are a number of interesting attractions within the region, including Bou Inania Madrasa, the University of Al-Karaouine, Dar Batha, numerous markets, delightful villages, the Grand Mosque of Sefrou and much more. There is also a fine selection of accommodation, from budget hostels to luxury riads. The main draw to the region of Fez-Boulemane is the renowned city of Fez, but the region in general is rich in history and culture, and certainly well worth exploring.\n"
     ]
    },
    {
     "name": "stderr",
     "output_type": "stream",
     "text": [
      "C:\\Users\\pc\\AppData\\Local\\Temp\\ipykernel_3448\\3079940754.py:20: FutureWarning: The frame.append method is deprecated and will be removed from pandas in a future version. Use pandas.concat instead.\n",
      "  df = df.append({\n",
      "C:\\Users\\pc\\AppData\\Local\\Temp\\ipykernel_3448\\3079940754.py:3: DeprecationWarning: executable_path has been deprecated, please pass in a Service object\n",
      "  driver = webdriver.Chrome(chrome_driver_path)\n"
     ]
    },
    {
     "name": "stdout",
     "output_type": "stream",
     "text": [
      "Gharb-Chrarda-Béni Hssen\n",
      "Situated in north-western Morocco, the region of Gharb-Chrarda-Béni Hssen has a population of more than 1.8 million. The capital city of the region is Kenitra. The Gharb is a vital agricultural region, producing massive crops of rice, sugar cane and strawberries. A variety of factories have been set up so as to process a portion of the agricultural yield of the region. The city of Kenitra in the Gharb-Chrarda-Beni Hssen region is a port city located on the Sebou River. There are numerous attractions in and around the city. Also in the region is the city of Sidi Kacem. Nearby this destination is the renowned site of Volubilis, historical Roman town that was built on the remains of an ancient Carthaginian settlement. The region of Gharb-Chrarda-Beni Hssen is well worth a visit, especially for those who enjoy a bit of history.\n"
     ]
    },
    {
     "name": "stderr",
     "output_type": "stream",
     "text": [
      "C:\\Users\\pc\\AppData\\Local\\Temp\\ipykernel_3448\\3079940754.py:20: FutureWarning: The frame.append method is deprecated and will be removed from pandas in a future version. Use pandas.concat instead.\n",
      "  df = df.append({\n",
      "C:\\Users\\pc\\AppData\\Local\\Temp\\ipykernel_3448\\3079940754.py:3: DeprecationWarning: executable_path has been deprecated, please pass in a Service object\n",
      "  driver = webdriver.Chrome(chrome_driver_path)\n"
     ]
    },
    {
     "name": "stdout",
     "output_type": "stream",
     "text": [
      "Grand Casablanca\n",
      "Situated along the coast of north-western Morocco, the region of Grand Casablanca, with a population close to 3.9 million, is the most densely populated region of Morocco. The capital city of the region is the popular tourist destination of Casablanca. The 1,615 square kilometer region of Grand Casablanca includes the prefectures of Ain Chock Hay Hassani, Ain Sebaa-Hay Mohammedi, Ben Msik-Sidi Othmane, Casablanca-Anfa, El Fida-Derb-Soltane, Mechouar Casablanca, Sidi Bernoussi-Zenata and Mohammedia, as well as the provinces of Mediouna and Nouaceur. Casablanca is the region’s main tourist city. An all round travel destination, Casablanca boasts exciting attractions and world-class accommodations. Also in the region of Grand Casablanca is the seaside resort city of Mohammedia. Here visitors can enjoy such activities as tennis, golf, and gambling at the local casino. As a whole, however, the region has much to offer and visitors should definitely include a number of destinations in Grand Casablanca on their itineraries.\n"
     ]
    },
    {
     "name": "stderr",
     "output_type": "stream",
     "text": [
      "C:\\Users\\pc\\AppData\\Local\\Temp\\ipykernel_3448\\3079940754.py:20: FutureWarning: The frame.append method is deprecated and will be removed from pandas in a future version. Use pandas.concat instead.\n",
      "  df = df.append({\n",
      "C:\\Users\\pc\\AppData\\Local\\Temp\\ipykernel_3448\\3079940754.py:3: DeprecationWarning: executable_path has been deprecated, please pass in a Service object\n",
      "  driver = webdriver.Chrome(chrome_driver_path)\n"
     ]
    },
    {
     "name": "stdout",
     "output_type": "stream",
     "text": [
      "Guelmim-Es Semara\n",
      "With the southern half of the region of Guelmim-Es Semara falls into the disputed territory of Western Sahara. The region is home to around half a million people and has Guelmim as its capital city. The region of Guelmim-Es Semara covers 122 825 square kilometers and includes the provinces of Assa-Zag, Es Semara, Guelmim, Tan-Tan and Tata. The city of Guelmim is renowned for its camel market as well as its jewelry artisans. Encircled by date palms, the houses in the city are built from distinctive red clay. Semara or Smara is home to a number of interesting tourist attractions including the zawiyya of the Blue Sultan. Tan-Tan is a fascinating desert town in the Guelmim-Es Semara region. Attractions here include the port and the Venus of Tan-Tan. The town of Tata is frequently used as a base from which trekkers can explore the surrounding area of the Anti Atlas. Adventure travelers will definitely want to check this destination out. Whether you are looking for historical sites, adventure travel, or cultural experiences the region of Guelmim-Es Semara caters to all.\n"
     ]
    },
    {
     "name": "stderr",
     "output_type": "stream",
     "text": [
      "C:\\Users\\pc\\AppData\\Local\\Temp\\ipykernel_3448\\3079940754.py:20: FutureWarning: The frame.append method is deprecated and will be removed from pandas in a future version. Use pandas.concat instead.\n",
      "  df = df.append({\n",
      "C:\\Users\\pc\\AppData\\Local\\Temp\\ipykernel_3448\\3079940754.py:3: DeprecationWarning: executable_path has been deprecated, please pass in a Service object\n",
      "  driver = webdriver.Chrome(chrome_driver_path)\n"
     ]
    },
    {
     "name": "stdout",
     "output_type": "stream",
     "text": [
      "Laâyoune-Boujdour-Sakia El Hamra\n",
      "Most of this region falls within Western Sahara, which is subject to an ongoing dispute with regard to who has jurisdiction over the region. Around 260,000 people live in the region which has El Aaiun as its capital city. El Aaiun is easily reached via bus from major transportation hubs in the south of Morocco. Flights are also offered to the city from Casablanca, Dakhla and Agadir. The town can be explored on foot, and you can visit a variety of stores, a bird park and the tourism office. If you’re seeking solitude, there are a number of quiet beaches where you can spend the day relaxing. Also worth exploring in the region is Boujdour. This is a delightful seaside destination complete with a fishing harbor, extensive beach, and a lighthouse. Laayoune-Boujdour-Sakia el Hamra is a quiet region, the ideal place to get away from it all and just relax.\n"
     ]
    },
    {
     "name": "stderr",
     "output_type": "stream",
     "text": [
      "C:\\Users\\pc\\AppData\\Local\\Temp\\ipykernel_3448\\3079940754.py:20: FutureWarning: The frame.append method is deprecated and will be removed from pandas in a future version. Use pandas.concat instead.\n",
      "  df = df.append({\n",
      "C:\\Users\\pc\\AppData\\Local\\Temp\\ipykernel_3448\\3079940754.py:3: DeprecationWarning: executable_path has been deprecated, please pass in a Service object\n",
      "  driver = webdriver.Chrome(chrome_driver_path)\n"
     ]
    },
    {
     "name": "stdout",
     "output_type": "stream",
     "text": [
      "Marrakech-Tensift-El Haouz\n",
      "Situated in central Morocco, the population of the region of Marrakech-Tensift-El Haouz is around 3.1 million. The capital of the region is the popular tourist destination of Marrakech. This well visited region covers some 31 160 square kilometers and encompasses the prefectures of Marrakech Medina, Marrakech Menara and Sidi Youssef Ben Ali, as well as the provinces of Essaouira, Al Haouz, Chichaoua and El Kelaat Es-Sraghna. There is an absolute abundance of things to do and things to see in the regions, with Marrakech at the heart of it all. Marrakech is a tourist paradise, filled with attractions, activities and ideal accommodation. Visitors to the city can view such sites as Koutoubia Mosque, Ben Youssef Medrassa, El Badi Palace, Bahia Palace, Majorelle Garden, the Saadian Tombs, a large selection of souks, various museums and so much more. Another popular destination in the region of Marrakech-Tensift-El Haouz is Essaouira. The medina of the city has been declared a UNESCO World Heritage Site as it was once known as the fortified city of Mogador. This delightful city is known for its fishing, water sports, arts and crafts, and rich culture. This is just a small sampling of what awaits tourists in the Marrakech-Tensift-El Haouz region, why not visit and discover more for yourself.\n"
     ]
    },
    {
     "name": "stderr",
     "output_type": "stream",
     "text": [
      "C:\\Users\\pc\\AppData\\Local\\Temp\\ipykernel_3448\\3079940754.py:20: FutureWarning: The frame.append method is deprecated and will be removed from pandas in a future version. Use pandas.concat instead.\n",
      "  df = df.append({\n",
      "C:\\Users\\pc\\AppData\\Local\\Temp\\ipykernel_3448\\3079940754.py:3: DeprecationWarning: executable_path has been deprecated, please pass in a Service object\n",
      "  driver = webdriver.Chrome(chrome_driver_path)\n"
     ]
    },
    {
     "name": "stdout",
     "output_type": "stream",
     "text": [
      "Meknès-Tafilalet\n",
      "Situated in north-central Morocco, on the border of Algeria, the region of Meknès-Tafilalet is home to more than 2.1 million people. The capital city of the region is Meknès. Covering an area of 79 210 square kilometers, the region of Meknes-Tafilalet encompasses the prefectures of Al Ismailia and Meknes-El Menze, and the provinces of El Hajeb, Errachidia, Ifrane and Khenifra. Within the region you will find the renowned historical site of Volubilis, as well as a number of other attractions. The city of Meknes in the region boasts a number of interesting tourist attractions. Here you will be able to see the Bab Mansour, Medersa Bou Inania the Mausoleum of Moulay Ismail, the Medina of Meknes Mosque and much more. The city also has a variety of accommodation to suit all budgets. Also in the Meknes-Tafilalet region is the town of Erfoud. With spectacular scenery, the town has often been used by filmmakers. This is the ideal destination from which to explore the Ziz Valley and Merzouga. Ifrane 1s another popular tourist destination in the region. This ski resort town is located in the Middle Atlas and is known as the Garden City. There is much to see and do in the region of Meknes-Tafilalet, so be sure to take some time to explore the area.\n"
     ]
    },
    {
     "name": "stderr",
     "output_type": "stream",
     "text": [
      "C:\\Users\\pc\\AppData\\Local\\Temp\\ipykernel_3448\\3079940754.py:20: FutureWarning: The frame.append method is deprecated and will be removed from pandas in a future version. Use pandas.concat instead.\n",
      "  df = df.append({\n",
      "C:\\Users\\pc\\AppData\\Local\\Temp\\ipykernel_3448\\3079940754.py:3: DeprecationWarning: executable_path has been deprecated, please pass in a Service object\n",
      "  driver = webdriver.Chrome(chrome_driver_path)\n"
     ]
    },
    {
     "name": "stdout",
     "output_type": "stream",
     "text": [
      "Oriental\n",
      "Situated in north-eastern Morocco, with Algeria and Spanish Melilla as neighbors, the region of Oriental has a population of close to 2 million and has Oujda as its capital city. The Oriental region of Morocco encompasses and area of 82,900 square kilometers. It includes the provinces of Berkane, Figuig, Jerada, Nador and Taourirt, and the prefecture of Oujda-Angad. The city of Oujda is a great tourist destination. Visitors will appreciate the vibrant nightlife, historical attractions, musical shows, great food and fantastic accommodation. The region in general has numerous culturally rich towns, and is also known for its agricultural sector. Rural tourism is also popular in the region of Oriental and provides many opportunities for travelers to really get to know the local people.  \n"
     ]
    },
    {
     "name": "stderr",
     "output_type": "stream",
     "text": [
      "C:\\Users\\pc\\AppData\\Local\\Temp\\ipykernel_3448\\3079940754.py:20: FutureWarning: The frame.append method is deprecated and will be removed from pandas in a future version. Use pandas.concat instead.\n",
      "  df = df.append({\n",
      "C:\\Users\\pc\\AppData\\Local\\Temp\\ipykernel_3448\\3079940754.py:3: DeprecationWarning: executable_path has been deprecated, please pass in a Service object\n",
      "  driver = webdriver.Chrome(chrome_driver_path)\n"
     ]
    },
    {
     "name": "stdout",
     "output_type": "stream",
     "text": [
      "Oued Ed-Dahab-Lagouira\n",
      "The region of Oued Ed-Dahab-Lagouira is situated in the disputed territory of Western Sahara. The region has a population of around 99,000 and the coastal city of Dakhla is its capital. The region includes the prefecture of Aousserd and the province of Oued Ed-Dahab, and covers an area of 142 865 square kilometers. Dakhla is the main attraction in the region of Oued Ed-Dahab-Lagouira. The people here are very welcoming and the town certainly has its own vibe. There are plenty of opportunities for long relaxing walks that will take you to the old Spanish lighthouse or up to the tip of the peninsula of Dakhla. Spanish architecture dots the town, mostly consisting of military structures. Fishing is a popular activity here and swimming can be enjoyed to the north of the town. If you are looking for an escape from the hustle and bustle of life, Oued Ed-Dahab-Lagouira is the region to visit.  \n"
     ]
    },
    {
     "name": "stderr",
     "output_type": "stream",
     "text": [
      "C:\\Users\\pc\\AppData\\Local\\Temp\\ipykernel_3448\\3079940754.py:20: FutureWarning: The frame.append method is deprecated and will be removed from pandas in a future version. Use pandas.concat instead.\n",
      "  df = df.append({\n",
      "C:\\Users\\pc\\AppData\\Local\\Temp\\ipykernel_3448\\3079940754.py:3: DeprecationWarning: executable_path has been deprecated, please pass in a Service object\n",
      "  driver = webdriver.Chrome(chrome_driver_path)\n"
     ]
    },
    {
     "name": "stdout",
     "output_type": "stream",
     "text": [
      "Rabat-Salé-Zemmour-Zaer\n",
      "Situated in north-western Morocco, the region of Rabat-Salé-Zemmour-Zaer has a population of more than 2.3 million. The vibrant city of Rabat is the region’s capital, as well as being the capital of Morocco. The Rabat-Sale-Zemmour-Zaer region covers some 9 580 square kilometers and includes the prefectures of Rabat, Sale and Skhirat-Temara, and the province of Khemisset-Rommani. The region boasts a rich history based around the Phoenician settlement of Chellah which was later annexed by the Romans. Today it is a historical site frequently visited by tourists. Rabat, the capital, is a popular tourist destination known for attractions such as the Mausoleum of Mohammed V, Hassan Tower, parliamentary buildings and much more. Boasting top notch accommodation and much to see and do, visitors will certainly make many fond memories in this city. Rabat’s twin city of Salé is a melting pot of cultures. Many come here to see the old city as well as the port.\n"
     ]
    },
    {
     "name": "stderr",
     "output_type": "stream",
     "text": [
      "C:\\Users\\pc\\AppData\\Local\\Temp\\ipykernel_3448\\3079940754.py:20: FutureWarning: The frame.append method is deprecated and will be removed from pandas in a future version. Use pandas.concat instead.\n",
      "  df = df.append({\n",
      "C:\\Users\\pc\\AppData\\Local\\Temp\\ipykernel_3448\\3079940754.py:3: DeprecationWarning: executable_path has been deprecated, please pass in a Service object\n",
      "  driver = webdriver.Chrome(chrome_driver_path)\n"
     ]
    },
    {
     "name": "stdout",
     "output_type": "stream",
     "text": [
      "Souss-Massa-Draâ\n",
      "Situated in central Morocco, the region of Souss-Massa-Draâ is home to more than 3.1 million people. The capital city of the region is Agadir. Souss-Massa-Draa region encompasses 70 880 square kilometers. Within its boundaries are the prefectures of Agadir-Ida-Ou Tanane and Inezgane-Ait Melloul, as well as the provinces of Tiznit, Taroudant, Ouarzazate, Zagora and Chtouka Ait Baha. The main city of Agadir boasts exquisite beaches that are well maintained. Visitors can also make their way to such attractions as the Valley of the Birds, the Municipal Museum and Jardim de Olhao. Another popular destination in the region is Zagora, located in the Draa Valley. Here you will find the Almoravid fortress, a renowned attraction. Also well-known amongst travelers is the town of Ouarzazate. There is much to draw tourists here including the beautiful scenery, numerous Kasbahs, Ait Benhaddou, Oasis du Flint and more. These are just a few of the delightful destinations in the beautiful Souss-Massa-Draa region of Morocco. Be sure to take some time to discover all the region has to offer when you tour Morocco.\n"
     ]
    },
    {
     "name": "stderr",
     "output_type": "stream",
     "text": [
      "C:\\Users\\pc\\AppData\\Local\\Temp\\ipykernel_3448\\3079940754.py:20: FutureWarning: The frame.append method is deprecated and will be removed from pandas in a future version. Use pandas.concat instead.\n",
      "  df = df.append({\n",
      "C:\\Users\\pc\\AppData\\Local\\Temp\\ipykernel_3448\\3079940754.py:3: DeprecationWarning: executable_path has been deprecated, please pass in a Service object\n",
      "  driver = webdriver.Chrome(chrome_driver_path)\n"
     ]
    },
    {
     "name": "stdout",
     "output_type": "stream",
     "text": [
      "Tadla-Azilal\n",
      "Situated in central Morocco, the region of Tadla-Azilal is home to nearly 1.5 million people and has Beni Mellal as its capital city. Tadla Azilal region includes the provinces of Azilal and Beni-Mellal, covering an area of 17,125 square kilometers. It is well known as an agricultural region with a Mediterranean climate. The region has a long history extending by to the Idrissid Dynasty of 788 CE. It was mentioned in historical records between the 17th and 19th Centuries, where its villages, vestiges and Kasbahs were described. Today the city of Beni Mellal is quite modern and an economic hub for the region. Visitors can purchase delicious agricultural products from the markets in the town. There is a decent selection of accommodation and many good places to eat.\n"
     ]
    },
    {
     "name": "stderr",
     "output_type": "stream",
     "text": [
      "C:\\Users\\pc\\AppData\\Local\\Temp\\ipykernel_3448\\3079940754.py:20: FutureWarning: The frame.append method is deprecated and will be removed from pandas in a future version. Use pandas.concat instead.\n",
      "  df = df.append({\n",
      "C:\\Users\\pc\\AppData\\Local\\Temp\\ipykernel_3448\\3079940754.py:3: DeprecationWarning: executable_path has been deprecated, please pass in a Service object\n",
      "  driver = webdriver.Chrome(chrome_driver_path)\n"
     ]
    },
    {
     "name": "stdout",
     "output_type": "stream",
     "text": [
      "Tangier-Tétouan\n",
      "Situated in north-western Morocco, the region of Tangier-Tétouan has the Atlantic Ocean as its western border, with the Mediterranean Sea and Spain to its north. The population of the region is close to 2.5 million and has Tangier as its capital city. The region of Tangier-Tetouan covers 11,570 square kilometers of land. It encompasses the provinces of Larache and Chefchaouen, and the prefectures of Fahs Anjra, Tangier-Assilah and Tetouan. Visitors to the main tourist city of Tangier will find that the destination is rich in history spanning back to the 5th Century BC. It has become a modern city with world-class hotels and a variety of new developments. Tourists can explore the American Legation Museum and Dar El oued Makhazen, or join in the festivities of events such as Tanjazz. Also worth visiting in the Tangier-Tetouan region is the city of Tetouan. The medina has been declared a UNESCO World Heritage Site and there are several other fine attractions to explore. You may also wish to take time to visit the town of Chefchaouen in the Rif Mountains. Or you could spend some of your vacation in the harbor town of Larache. Wherever you choose to go in the Tangier-Tetouan region, you are sure to have a satisfying holiday.\n"
     ]
    },
    {
     "name": "stderr",
     "output_type": "stream",
     "text": [
      "C:\\Users\\pc\\AppData\\Local\\Temp\\ipykernel_3448\\3079940754.py:20: FutureWarning: The frame.append method is deprecated and will be removed from pandas in a future version. Use pandas.concat instead.\n",
      "  df = df.append({\n",
      "C:\\Users\\pc\\AppData\\Local\\Temp\\ipykernel_3448\\3079940754.py:3: DeprecationWarning: executable_path has been deprecated, please pass in a Service object\n",
      "  driver = webdriver.Chrome(chrome_driver_path)\n"
     ]
    },
    {
     "name": "stdout",
     "output_type": "stream",
     "text": [
      "Taza-Al Hoceima-Taounate\n",
      "Situated in northern Morocco, the region of Taza-Al Hoceima-Taounate has a population of about 1.8 million. The region’s capital city is Al Hoceima. The region of Taza-Al Hoceima-Taounate takes in some 24,155 square kilometers and includes the provinces of Al Hoceima, Taounate and Taza. Located in the Rif Mountains is the city and port of Al Hoceima. The relatively modern city reflects a strong Spanish influence. Visitors can relax on the beaches in and around Al Hoceima, take a stroll around the city or swim in its cool waters. The Port of Al Hoceima is also of interest. Be sure to also travel to the city of Taza. Boasting spectacular views, Taza has much to offer tourists. Shoppers will be thrilled with the souks, while sightseers will enjoy touring the city and viewing such sights as the Kasbah, Bab el-Rih, the city walls, and Great Mosque. A visit to the region of Taza-Al Hoceima-Taounate is certainly worth it.\n"
     ]
    },
    {
     "name": "stderr",
     "output_type": "stream",
     "text": [
      "C:\\Users\\pc\\AppData\\Local\\Temp\\ipykernel_3448\\3079940754.py:20: FutureWarning: The frame.append method is deprecated and will be removed from pandas in a future version. Use pandas.concat instead.\n",
      "  df = df.append({\n"
     ]
    }
   ],
   "source": [
    "for link in extra_links:\n",
    "    chrome_driver_path = \"C:\\\\Users\\\\pc\\\\OneDrive\\\\Documents\\\\chromedriver-win64\\\\chromedriver.exe\"\n",
    "    driver = webdriver.Chrome(chrome_driver_path)\n",
    "    driver.get(link)\n",
    "    sleep(5)  # Add a pause to ensure content loads properl\n",
    "    # Récupération du contenu de la page avec BeautifulSoup\n",
    "    src = driver.page_source\n",
    "    soup = BeautifulSoup(src, 'html.parser')\n",
    "    title = soup.find('h1', class_='page-title').get_text()\n",
    "    print(title)\n",
    "    content_div = soup.find('div', class_='content-text')\n",
    "    # Find all p tags within this div, excluding those with the class \"back-to-category\"\n",
    "    paragraphs = content_div.find_all('p')\n",
    "    filtered_paragraphs = [p for p in paragraphs if 'back-to-category' not in p.get('class', [])]\n",
    "\n",
    "    # Join the text from the filtered p tags\n",
    "    joined_text = ' '.join(p.get_text() for p in filtered_paragraphs)\n",
    "\n",
    "    print(joined_text)\n",
    "    df = df.append({\n",
    "            'Prompt':title,\n",
    "            'Response':joined_text\n",
    "        }, ignore_index=True)\n",
    "    "
   ]
  },
  {
   "cell_type": "code",
   "execution_count": 7,
   "id": "fd3fac41",
   "metadata": {},
   "outputs": [
    {
     "data": {
      "text/html": [
       "<div>\n",
       "<style scoped>\n",
       "    .dataframe tbody tr th:only-of-type {\n",
       "        vertical-align: middle;\n",
       "    }\n",
       "\n",
       "    .dataframe tbody tr th {\n",
       "        vertical-align: top;\n",
       "    }\n",
       "\n",
       "    .dataframe thead th {\n",
       "        text-align: right;\n",
       "    }\n",
       "</style>\n",
       "<table border=\"1\" class=\"dataframe\">\n",
       "  <thead>\n",
       "    <tr style=\"text-align: right;\">\n",
       "      <th></th>\n",
       "      <th>Prompt</th>\n",
       "      <th>Response</th>\n",
       "    </tr>\n",
       "  </thead>\n",
       "  <tbody>\n",
       "    <tr>\n",
       "      <th>0</th>\n",
       "      <td>Travel to Agadir in Morocco</td>\n",
       "      <td>Agadir is Southern Morocco's most visited city...</td>\n",
       "    </tr>\n",
       "    <tr>\n",
       "      <th>1</th>\n",
       "      <td>Accommodation</td>\n",
       "      <td>There are plenty of hotels to choose from in M...</td>\n",
       "    </tr>\n",
       "    <tr>\n",
       "      <th>2</th>\n",
       "      <td>Beaches</td>\n",
       "      <td>The lack of monuments, museums and interesting...</td>\n",
       "    </tr>\n",
       "    <tr>\n",
       "      <th>3</th>\n",
       "      <td>Things to See &amp; Do</td>\n",
       "      <td>The Valley of the Birds (daily from 09:30-12:3...</td>\n",
       "    </tr>\n",
       "    <tr>\n",
       "      <th>4</th>\n",
       "      <td>Cuisine &amp; Nightlife</td>\n",
       "      <td>Besides what the large hotels have, there’s no...</td>\n",
       "    </tr>\n",
       "    <tr>\n",
       "      <th>...</th>\n",
       "      <td>...</td>\n",
       "      <td>...</td>\n",
       "    </tr>\n",
       "    <tr>\n",
       "      <th>62</th>\n",
       "      <td>Rabat-Salé-Zemmour-Zaer</td>\n",
       "      <td>Situated in north-western Morocco, the region ...</td>\n",
       "    </tr>\n",
       "    <tr>\n",
       "      <th>63</th>\n",
       "      <td>Souss-Massa-Draâ</td>\n",
       "      <td>Situated in central Morocco, the region of Sou...</td>\n",
       "    </tr>\n",
       "    <tr>\n",
       "      <th>64</th>\n",
       "      <td>Tadla-Azilal</td>\n",
       "      <td>Situated in central Morocco, the region of Tad...</td>\n",
       "    </tr>\n",
       "    <tr>\n",
       "      <th>65</th>\n",
       "      <td>Tangier-Tétouan</td>\n",
       "      <td>Situated in north-western Morocco, the region ...</td>\n",
       "    </tr>\n",
       "    <tr>\n",
       "      <th>66</th>\n",
       "      <td>Taza-Al Hoceima-Taounate</td>\n",
       "      <td>Situated in northern Morocco, the region of Ta...</td>\n",
       "    </tr>\n",
       "  </tbody>\n",
       "</table>\n",
       "<p>67 rows × 2 columns</p>\n",
       "</div>"
      ],
      "text/plain": [
       "                         Prompt  \\\n",
       "0   Travel to Agadir in Morocco   \n",
       "1                 Accommodation   \n",
       "2                       Beaches   \n",
       "3            Things to See & Do   \n",
       "4           Cuisine & Nightlife   \n",
       "..                          ...   \n",
       "62      Rabat-Salé-Zemmour-Zaer   \n",
       "63             Souss-Massa-Draâ   \n",
       "64                 Tadla-Azilal   \n",
       "65              Tangier-Tétouan   \n",
       "66     Taza-Al Hoceima-Taounate   \n",
       "\n",
       "                                             Response  \n",
       "0   Agadir is Southern Morocco's most visited city...  \n",
       "1   There are plenty of hotels to choose from in M...  \n",
       "2   The lack of monuments, museums and interesting...  \n",
       "3   The Valley of the Birds (daily from 09:30-12:3...  \n",
       "4   Besides what the large hotels have, there’s no...  \n",
       "..                                                ...  \n",
       "62  Situated in north-western Morocco, the region ...  \n",
       "63  Situated in central Morocco, the region of Sou...  \n",
       "64  Situated in central Morocco, the region of Tad...  \n",
       "65  Situated in north-western Morocco, the region ...  \n",
       "66  Situated in northern Morocco, the region of Ta...  \n",
       "\n",
       "[67 rows x 2 columns]"
      ]
     },
     "execution_count": 7,
     "metadata": {},
     "output_type": "execute_result"
    }
   ],
   "source": [
    "df"
   ]
  },
  {
   "cell_type": "code",
   "execution_count": 8,
   "id": "487c63ab",
   "metadata": {},
   "outputs": [],
   "source": [
    "additional_links = [\n",
    "    'https://www.morocco.com/regions/area-guide/atlantic-coast/',\n",
    "    'https://www.morocco.com/regions/area-guide/beaches/',\n",
    "    'https://www.morocco.com/regions/area-guide/high-atlas/',\n",
    "    'https://www.morocco.com/regions/area-guide/mountains/',\n",
    "    'https://www.morocco.com/regions/area-guide/ports/',\n",
    "    'https://www.morocco.com/regions/area-guide/the-sahara/',\n",
    "    'https://www.morocco.com/regions/area-guide/touring-routes/'\n",
    "]\n"
   ]
  },
  {
   "cell_type": "code",
   "execution_count": 9,
   "id": "a416fefc",
   "metadata": {},
   "outputs": [
    {
     "name": "stderr",
     "output_type": "stream",
     "text": [
      "C:\\Users\\pc\\AppData\\Local\\Temp\\ipykernel_3448\\332224422.py:11: DeprecationWarning: executable_path has been deprecated, please pass in a Service object\n",
      "  driver = webdriver.Chrome(chrome_driver_path)\n"
     ]
    },
    {
     "name": "stdout",
     "output_type": "stream",
     "text": [
      "Title: Atlantic Coast – Explore the Tourism Meccas of Essaouira and Casablanca\n",
      "Text: Characterized by industry, culture and character, the Atlantic Coast of Morocco is a small section of coastline that definitely deserves a visit. As you idly make your way to the docks to buy fresh fish, you can visit and chat with the local fishermen who’re always willing to share a ‘fisherman’s tale’ of wild adventures at sea. Or you can take a refreshing swim. The choice is up to you.\n",
      "The cold Atlantic coast of Morocco plays a big role in the tourism industry as well as provides shipping ports and catering to the local fishing industry. The coastal towns and cities in Morocco on the Atlantic Coast are Essaouira – a tourism mecca, Skhirat – a small fishing community with panoramic beaches, and the chief fishing centers – Agadir, Safi and Casablanca. They catch pilchard, tuna mackerel, anchovies and shellfish in this area. You can try your hand at fishing amongst the locals, or cast from the shore line.\n",
      "If fishing is not quite your thing you might choose to go to Agadir to soak up some sun. This part of the world gets over 300 days of sunshine every year so you’re plans are not likely to get washed out. There are beautiful sandy beaches and pristine blue seas to help you relax.\n",
      "Perhaps you are a more adventurous person? Then you might try surfing or wind surfing. Morocco’s location makes it very popular with Europeans as it is only a short distance away and it provides some renowned surfing and windsurfing spots. Essaouria is one of the most popular wind surfing spots in Morocco. Just North of Agadir and some distance South of Essaouria, you will find some amazing surf spots made famous by Jimi Hendrix, who fell in love with the area. Anchor Point, Mysteries, Dog Steps, Source and Killer Point are surfing spots that can all be found in this area. They provide anything from 4ft to 14ft waves and the water temperature stays constant at around 17°C.\n",
      "Why not check out this part of Morocco and soak up some sun? You never know, you may enjoy it just as much as Jimi Hendrix did!\n",
      "back to Area Guide\n"
     ]
    },
    {
     "name": "stderr",
     "output_type": "stream",
     "text": [
      "C:\\Users\\pc\\AppData\\Local\\Temp\\ipykernel_3448\\332224422.py:30: FutureWarning: The frame.append method is deprecated and will be removed from pandas in a future version. Use pandas.concat instead.\n",
      "  df = df.append({\n",
      "C:\\Users\\pc\\AppData\\Local\\Temp\\ipykernel_3448\\332224422.py:11: DeprecationWarning: executable_path has been deprecated, please pass in a Service object\n",
      "  driver = webdriver.Chrome(chrome_driver_path)\n"
     ]
    },
    {
     "name": "stdout",
     "output_type": "stream",
     "text": [
      "Title: Discover Morocco’s Wonderful Beaches and Coastline\n",
      "Text: Grottes d’Hercules\n",
      "Located on the Atlantic Coast of Tangier.\n",
      "The beach at Grottes d’Hercules is generally clean and pleasant and tends to be very full during the holiday months of July and August. The only drawback is that the water here is noticeably colder than the Mediterranean beaches of Tangier.\n",
      "Dakhla\n",
      "Located in the Morocco-administered Western Sahara on the Atlantic coast\n",
      "This beach is mainly used by fisherman and is simply too littered for bathing or sun tanning. If you enjoy photography, there is a lot of attractive scenery and colorful wooden fishermen boats.\n",
      "Plage Quemada, Al Hoceima\n",
      "Located in the center of the Rif Mountains on the Mediterranean coastline in the north of Morocco.\n",
      "This beach has a reputation for always being busy and crowded; however this is no reason to stay away. It is a very clean, picturesque and pleasant beach.\n",
      "Asfiha, Al Hoceima\n",
      "Located in the center of the Rif Mountains on the Mediterranean coastline in the north of Morocco.\n",
      "Asfiha beach is not recommended for swimming or beach walks since the water is very shallow (about 1 meter) and the sand dirty and sticky. If you do go here you will find that there is a nice view of the Spanish Island a few hundred meters from the shore.\n",
      "El Jadida\n",
      "Located on the Atlantic coast about 110 miles north of Marrakech.\n",
      "The beach is close to town, clean and pleasant. The people are friendly and outgoing.\n",
      "Lalla Fatma\n",
      "Located about 10 kilometers north of Safi on the Atlantic coast.\n",
      "This is the cleanest and most popular beach in Morocco even though the waters are not very safe for swimming. The tourists enjoy the sand, sun tanning and the tranquility.\n",
      "Larache\n",
      "Located in the Tangier-Tetouan region in northern Morocco.\n",
      "This beach is very clean, popular, friendly and wonderful for swimming even though the waves can be a bit dangerous. There are lifeguards on duty all day.\n",
      "Tangier Town Beach\n",
      "Located where the Mediterranean meets the Atlantic Ocean in northern Morocco.\n",
      "This beautiful beach is surrounded by mountains and the white washed houses of Tangier and is very popular with both locals and visitors.\n",
      "Agadir\n",
      "Located on the Atlantic coast in southwest Morocco\n",
      "A number of the beach-side hotels have sections of the beach exclusively for the use of their guests, but there are still plenty of long sandy beaches for locals and tourists alike.\n",
      "Casablanca\n",
      "Located on the Atlantic coastline\n",
      "The long sandy beaches of Casablanca are dotted with resorts and hotels. The majority of the beaches are geared up for tourist trade and offer a range of facilities and water sports.\n",
      "back to Area Guide\n"
     ]
    },
    {
     "name": "stderr",
     "output_type": "stream",
     "text": [
      "C:\\Users\\pc\\AppData\\Local\\Temp\\ipykernel_3448\\332224422.py:30: FutureWarning: The frame.append method is deprecated and will be removed from pandas in a future version. Use pandas.concat instead.\n",
      "  df = df.append({\n",
      "C:\\Users\\pc\\AppData\\Local\\Temp\\ipykernel_3448\\332224422.py:11: DeprecationWarning: executable_path has been deprecated, please pass in a Service object\n",
      "  driver = webdriver.Chrome(chrome_driver_path)\n"
     ]
    },
    {
     "name": "stdout",
     "output_type": "stream",
     "text": [
      "Title: High Atlas Mountains – Explore Scenic Hiking Trails in Africa’s Largest Mountain Range\n",
      "Text: The High Atlas features some of the most beautiful regions of Morocco, Algeria and Tunisia. These mountains are the highest in the area, with Toubkal stretching to 4.165 meters above sea level. The Middle Atlas reaches heights of 3,350 meters and the highest peaks of the Anti Atlas reach 2.531 meters.\n",
      "The High Atlas has walks to suit all abilities, but mules and horses are also available in the villages if riding suits you better than walking. The villages in the High Atlas are small but thriving and are home to the Berbers who are enduring, hospitable and very friendly people. The villages offer stylish Moroccan accommodation in the local houses and there are established guides available. The high peaks force the clouds to give high quantities of rainfall; therefore the High Atlas has many fertile valleys surrounded by rivers and waterfalls. Mineral deposits found in the Atlas range include gold, silver, lead, iron, phosphates, lead and zinc.\n",
      "The following cities, towns and villages are located in the High Atlas :\n",
      "Marrakech: The very name of this vibrant city brings to mind the many exotic features of Morocco, and it lives up to its reputation.\n",
      "Aït-Benhaddou: This traditional mud brick city, which is on the UNESCO Heritage List, has been featured in a number of films, often as Jerusalem.\n",
      "Amizmiz: Often used as the starting point for exploring the High Atlas, this traditional Berber village is the venue for one of the region’s largest Berber souks.\n",
      "Asni: Situated in the foothills of the High Atlas, this small town lies on the two main routes into the Atlas Mountains and caters for a steady flow of tourist trade.\n",
      "Imlil: This village in the High Atlas serves as a base for muleteers and mountain guides working in the area of Jebel Toubkal and is a starting point for trekking in the mountains.\n",
      "Oukaimeden: This is Morocco’s best snow skiing resort which attracts skiing enthusiasts from far and wide during the winter months.\n",
      "Tinerhir: This small town is a popular access point to the Todra Gorge of the High Atlas.\n",
      "Aremd: Located at 1907 meters, this village is a haven of clean air and peace and quiet in the Toubkal region.\n",
      "Immouzzer: Located on the edge of Paradise Valley in the foothills of the Atlas Mountain, this town is an excellent base for exploring the natural wonders of the area, including fascinating limestone caves and rock formations.\n",
      "Le Haouz: Located at an altitude of 1200 meters, this family-oriented community is virtually self-sufficient and is an outstanding example of a Moroccan village which has been unaffected by modern living.\n",
      "Other small Berber villages located in the High Atlas include Hadd Imoulas, Assaka, Aguerd Ousguine, Tizi Ijarifen, Mellez, Aït Mancour, Ifrane and Ighil.\n",
      "Popular activities in the High Atlas include mountain biking, walking, hiking, rock climbing, mountaineering, peak-bagging and trekking, either on foot or on mules. Visiting Berber villages and experiencing life as a local is a popular activity, allowing tourists to gain in-depth knowledge of the people living in Morocco’s magnificent High Atlas.\n",
      "back to Area Guide\n"
     ]
    },
    {
     "name": "stderr",
     "output_type": "stream",
     "text": [
      "C:\\Users\\pc\\AppData\\Local\\Temp\\ipykernel_3448\\332224422.py:30: FutureWarning: The frame.append method is deprecated and will be removed from pandas in a future version. Use pandas.concat instead.\n",
      "  df = df.append({\n",
      "C:\\Users\\pc\\AppData\\Local\\Temp\\ipykernel_3448\\332224422.py:11: DeprecationWarning: executable_path has been deprecated, please pass in a Service object\n",
      "  driver = webdriver.Chrome(chrome_driver_path)\n"
     ]
    },
    {
     "name": "stdout",
     "output_type": "stream",
     "text": [
      "Title: Scenic Mountains, including the Atlas Mountains, Offering Adventure Activities and Hiking\n",
      "Text: Amtoudi Peak\n",
      "Amtoudi is a fascinating area with more than just mountains to explore. It is home to one of the oldest and best preserved agadirs (granaries) in North Africa. These resemble rocky outcrops in the mountains that feature caves and hollows which could have been used as storehouses by bandits in days gone by. While none of the agadirs are still in use, it is easy to imagine how grain, dates and gunpowder could have been stowed away from prying eyes, giving the bandits and tribes immense power in this dry and difficult country. The best agadir is about 800 years old and can be found at Amtoudi Peak. Half the adventure is getting there as you will have to either climb the narrow trail yourself or hire a mule to do the job for you. The spectacular view from the top makes any attempts most worthwhile.\n",
      "Chefchaouen Mountains\n",
      "The striking Chefchaouen Mountains are situated in the midst of a number of other mountains. This steep terrain makes them difficult to visit, but if you enjoy a challenging hike you might find the journey worth it. The mountains have two main peaks – Jebel Meggou and Jebel Tisouka. Jebel Meggou is situated at 1625 meters above sea level while Jebel Tisouka is situated at a striking 2050 meters above sea level. Jebel Tisouka also has a mosque at the top – the most breathtaking location to enjoy morning worship ever!\n",
      "Setti Fatma\n",
      "If you love hiking, there can be no better choice for a hike than the Setti Fatma Mountains. These mountains feature breathtaking views, brilliant trails and seven stunning waterfalls. Setti Fatma is located at the end of the Ourika Valley in Marrakech and it is possibly the best reason to bring your hiking shoes along in the country.\n",
      "Tafraoute Mountains\n",
      "The striking, pink-colored rocky mountains of Tafraoute are unarguably the main attractions in the area. Some of these tower in massive monolithic structures built by Mother Nature over centuries, while others seem to rise in a dusty, crumbly mass of stone and sand. Apparently a Belgian artist by the name of Jean Verame once painted some of the more striking rocks on the mountains blue in an effort to add interesting contrast to the landscape. However that was in 1984 and much of this has now faded. The city below these interesting mountains is also quite picturesque as the inhabitants do their best to ensure that everything is kept in tip-top shape.\n",
      "Oregano Mountains, Taliouine\n",
      "The Oregano Mountains have not been given their name for no reason. Covered with oregano plants, these mountains are perhaps the most fragrant mountains you will ever find. As you step on the plants or walk by them, the strong scent of this herb fills the air and can sometimes even be quite overpowering. Fortunately there is plenty of clean mountain air to help disperse the fragrant smell. The mountains tower to a height of approximately 1500 meters above sea level. At the top you will find two caves that are often used as a shelter by some of the local goats. You will also enjoy a spectacular view that is perfectly complimented by the fragrant smell of the mountains.\n",
      "Tan Tan Mountains\n",
      "Situated in the south western regions of Morocco, the Tan Tan Mountains overshadow the town of Tan Tan. They are noteworthy because they are flat-topped mountains which are very rare in this country. Apparently the best way to enjoy the unusual splendor of the Tan Tan Mountains is to climb them. Once at the top, you will be able to look back at the Southern Slope and see that it has a sort of massive depression. You will also be able to enjoy an elevated view of the Tan Tan plain with its sparkling brooks, ridges and sand dunes. All of this definitely makes for an interesting change in the Moroccan landscape.\n",
      "Sarhro Mountains\n",
      "The Sarhro Mountains are incredibly breathtaking. They seemed to be formed by massive blankets of rock that have been cut and sculpted by water and ice eons ago. There are places where rock is all you will see as the hardness of the earth has made it impossible for settlements to be established or plants to be cultivated. Here deep chasms provide the perfect hiding place for beautiful waterfalls to plummet into refreshing pools before feeding the rivers that wind through the area. In other places the rocks are broken up by patches of dry soil and hardy mountain plants and you may be fortunate enough to stumble on a settlement here and there. The Sarho Mountains are spectacular and should be explored if time allows. You can travel through them on foot or by car, but should always be careful not to disrupt the environment or drive too close to the edge of the road.\n",
      "back to Area Guide\n"
     ]
    },
    {
     "name": "stderr",
     "output_type": "stream",
     "text": [
      "C:\\Users\\pc\\AppData\\Local\\Temp\\ipykernel_3448\\332224422.py:30: FutureWarning: The frame.append method is deprecated and will be removed from pandas in a future version. Use pandas.concat instead.\n",
      "  df = df.append({\n",
      "C:\\Users\\pc\\AppData\\Local\\Temp\\ipykernel_3448\\332224422.py:11: DeprecationWarning: executable_path has been deprecated, please pass in a Service object\n",
      "  driver = webdriver.Chrome(chrome_driver_path)\n"
     ]
    },
    {
     "name": "stdout",
     "output_type": "stream",
     "text": [
      "Title: Ports in Morocco – Important to Local Economy\n",
      "Text: While their sizes may differ significantly from one port to the next, they all play an important and necessary role in the local economy. In addition to this, these ports are usually the best place to look if you enjoy good seafood since most of the best seafood restaurants are situated near the ports for easy access to fresh supplies. We have provided a basic description of Morocco’s main ports, so why not browse through the information supplied to get a better idea of what is available at each port in Morocco? It can save you a lot of time and energy when you travel.\n",
      "Port of Al Hoceima: \n",
      "The Port of Al Hoceima serves the many local fishing vessels and recreational boats, as well as the daily ferries which carry visitors to and from this popular sea-side town which is well-known for its beautiful beaches. The port’s busy fish market trades every day of the week and it is interesting for visitors to observe the traders negotiate on a price for the catch of the day and the clubs, restaurants and coffee shops at the port have earned a reputation for their good food and warm atmosphere.\n",
      "Port of Casablanca:\n",
      "The Port of Casablanca is probably the most well known and largest of all Morocco’s ports. This port is the biggest artificial port on the planet and that is one of many things that make it an attraction worth visiting. However, this is certainly not its only function and it serves the local shipping and fishing industry well and also receives boats with travelers from Spain. The port is situated near a large road and railway network which means that it has excellent land connections to other parts of the country. It is also protected from rough seas and strong winds by the Moulay Youssef Jetty. The port plays a very important role in Morocco’s economy and it is usually the first port that most people will think of when talking about Ports in Morocco.\n",
      "Port of Essaouira:\n",
      "With its extensive and fascinating history, the Port of Essaouira is a popular tourist attraction which caters for the colorful local fishing boats, as well as local and visiting leisure craft. As the port is not used for commercial purposes it has retained its authenticity and old-world charm. Visitors will find that there are many interesting features to this charming port, starting with the gateway which was constructed in 1793 and including local fishermen plying their wares while they keep an eye on the ever-present seagulls.\n",
      "Port of Tangier:\n",
      "This busy port is situated next to the medina and near the Ville Nouvelle, so visitors who arrive on the daily ferries can take a pleasant stroll to the town center. The port is also used for local fishing vessels and commercial purposes and as such, it is generally very busy. Future plans for the port, which should be completed in 2009, will separate the ever-increasing commercial traffic from passenger traffic, easing the congestion which is sometimes experienced at this bustling port.\n",
      "Port of Safi:\n",
      "Although Safi accommodates numerous fishing and passenger vessels, its primary function is to handle commercial goods and is one of Morocco’s key ports in this regard. The constant activity through the day with cranes, elevators, tractors and trailers moving goods around at an impressive rate can make for interesting viewing if you are mechanically minded.\n",
      "back to Area Guide\n"
     ]
    },
    {
     "name": "stderr",
     "output_type": "stream",
     "text": [
      "C:\\Users\\pc\\AppData\\Local\\Temp\\ipykernel_3448\\332224422.py:30: FutureWarning: The frame.append method is deprecated and will be removed from pandas in a future version. Use pandas.concat instead.\n",
      "  df = df.append({\n",
      "C:\\Users\\pc\\AppData\\Local\\Temp\\ipykernel_3448\\332224422.py:11: DeprecationWarning: executable_path has been deprecated, please pass in a Service object\n",
      "  driver = webdriver.Chrome(chrome_driver_path)\n"
     ]
    },
    {
     "name": "stdout",
     "output_type": "stream",
     "text": [
      "Title: Sahara Desert – The World’s Largest Desert\n",
      "Text: The Sahara desert stretches across much of North Africa covering over 9,000,000 square kilometers (roughly the size of the United States). In fact, the Sahara covers some 30% of the entire African continent. It is the hottest place in the world with summer temperatures that often exceeds 57 degrees Celsius. It has an annual rainfall of 0 – 25 millimeters and is very windy with windstorms sweeping the sand up to heights of 1000 meters and moving the sand dunes constantly.\n",
      "The Sahara consists of one quarter volcanic mountains, one quarter sand, rocks and gravel-covered plains and small areas of vast permanent vegetation. The vegetation includes shrubs, grasses, and trees in the highland and in the oases along the river beds. Some of the plants are well adjusted to the climate since they sprout within three days of rain and sow their seeds within two weeks after that.\n",
      "Animals in the Sahara are mainly Gerbils, Cape Hare, Deer, Weasels, Baboons, Jackals, Sand Foxes, Mongooses, Desert Hedgehogs and over 300 bird species.\n",
      "The following towns and villages are located in the Sahara of Morocco:\n",
      "Tata: Located where the desert meets the mountains, this small desert town has the reputation for being the hottest town in Morocco.\n",
      "Tleta Tagmout: A desert oasis\n",
      "Foum Zguid: Located where the Jebel Bani range meets the desert, this charming desert town boasts one of the largest palm groves in Morocco.\n",
      "Zagora: Located in the magnificent Drâa Valley, this town is a popular starting for camel and 4×4 excursions into the desert. A sign proclaiming that it is 52 days to Timbuktu is one of the most photographed features of the town.\n",
      "Tinfou: This small town is located along the Draa Valley route where the stony ground gives way to the sand-dunes of the desert.\n",
      "Erg Chebbi: This settlement in the dunes of the Sahara offers basic tourist facilities for visitors exploring the enormous sand dunes.\n",
      "Ouarzazate: Catering for the tourist trade, Ouarzazate has a number of hotels and visitors enjoy the typical Moroccan market in the city center. The Kasbah is beautifully preserved and gives in interesting glimpse into the lives of the people who live there.\n",
      "Rissani: Also known as Tafilalt, a cluster of small villages around the town of Rissani, is located along the last stretch of the Ziz valley. The region has a long and fascinating history and was a kingdom separate from Morocco between the 8th and 14th centuries.\n",
      "Merzouga: Located at the start of the oasis zone, inhabitants tap the underground water sources for drinking and irrigation purposes, and the area around the town is well cultivated.\n",
      "Erfoud: This small oasis town is used by many travelers as a base for exploring the beautiful Ziz valley.\n",
      "Popular activities in the Sahara include sunrise and sunset camel rides over the dunes, sleeping out under the desert skies, ATV/4X4 trips, visiting traditional Berber villages, dune-boarding.\n",
      "back to Area Guide\n"
     ]
    },
    {
     "name": "stderr",
     "output_type": "stream",
     "text": [
      "C:\\Users\\pc\\AppData\\Local\\Temp\\ipykernel_3448\\332224422.py:30: FutureWarning: The frame.append method is deprecated and will be removed from pandas in a future version. Use pandas.concat instead.\n",
      "  df = df.append({\n",
      "C:\\Users\\pc\\AppData\\Local\\Temp\\ipykernel_3448\\332224422.py:11: DeprecationWarning: executable_path has been deprecated, please pass in a Service object\n",
      "  driver = webdriver.Chrome(chrome_driver_path)\n"
     ]
    },
    {
     "name": "stdout",
     "output_type": "stream",
     "text": [
      "Title: Touring Routes – From the Valley of Roses to Todra Gorge\n",
      "Text: back to Area Guide\n"
     ]
    },
    {
     "name": "stderr",
     "output_type": "stream",
     "text": [
      "C:\\Users\\pc\\AppData\\Local\\Temp\\ipykernel_3448\\332224422.py:30: FutureWarning: The frame.append method is deprecated and will be removed from pandas in a future version. Use pandas.concat instead.\n",
      "  df = df.append({\n"
     ]
    }
   ],
   "source": [
    "from selenium import webdriver\n",
    "from selenium.webdriver.common.by import By\n",
    "from selenium.webdriver.support.ui import WebDriverWait\n",
    "from selenium.webdriver.support import expected_conditions as EC\n",
    "from bs4 import BeautifulSoup\n",
    "import pandas as pd\n",
    "from time import sleep\n",
    "for l in additional_links:\n",
    "    # Initialize WebDriver (Make sure to replace with your Chrome driver path)\n",
    "    chrome_driver_path = \"C:\\\\Users\\\\pc\\\\OneDrive\\\\Documents\\\\chromedriver-win64\\\\chromedriver.exe\"\n",
    "    driver = webdriver.Chrome(chrome_driver_path)\n",
    "    driver.get(l)\n",
    "    sleep(5)  # Add a pause to ensure content loads properl\n",
    "    # Récupération du contenu de la page avec BeautifulSoup\n",
    "    src = driver.page_source\n",
    "    soup = BeautifulSoup(src, 'html.parser')\n",
    "    title = soup.find('h1', class_='page-title').get_text()\n",
    "    content_div = soup.find('div', class_='content-text')\n",
    "\n",
    "    # Extract paragraphs before the first h3\n",
    "    text = \"\"\n",
    "    for sibling in content_div.find_all(recursive=False):\n",
    "        if sibling.name == 'h3':\n",
    "            break\n",
    "        if sibling.name == 'p':\n",
    "            text += sibling.get_text() + \"\\n\"\n",
    "\n",
    "    print(\"Title:\", title)\n",
    "    print(\"Text:\", text.strip())\n",
    "    df = df.append({\n",
    "            'Prompt':title,\n",
    "            'Response':text.strip()\n",
    "        }, ignore_index=True)\n",
    "    "
   ]
  },
  {
   "cell_type": "code",
   "execution_count": 10,
   "id": "a2420197",
   "metadata": {},
   "outputs": [
    {
     "data": {
      "text/html": [
       "<div>\n",
       "<style scoped>\n",
       "    .dataframe tbody tr th:only-of-type {\n",
       "        vertical-align: middle;\n",
       "    }\n",
       "\n",
       "    .dataframe tbody tr th {\n",
       "        vertical-align: top;\n",
       "    }\n",
       "\n",
       "    .dataframe thead th {\n",
       "        text-align: right;\n",
       "    }\n",
       "</style>\n",
       "<table border=\"1\" class=\"dataframe\">\n",
       "  <thead>\n",
       "    <tr style=\"text-align: right;\">\n",
       "      <th></th>\n",
       "      <th>Prompt</th>\n",
       "      <th>Response</th>\n",
       "    </tr>\n",
       "  </thead>\n",
       "  <tbody>\n",
       "    <tr>\n",
       "      <th>0</th>\n",
       "      <td>Travel to Agadir in Morocco</td>\n",
       "      <td>Agadir is Southern Morocco's most visited city...</td>\n",
       "    </tr>\n",
       "    <tr>\n",
       "      <th>1</th>\n",
       "      <td>Accommodation</td>\n",
       "      <td>There are plenty of hotels to choose from in M...</td>\n",
       "    </tr>\n",
       "    <tr>\n",
       "      <th>2</th>\n",
       "      <td>Beaches</td>\n",
       "      <td>The lack of monuments, museums and interesting...</td>\n",
       "    </tr>\n",
       "    <tr>\n",
       "      <th>3</th>\n",
       "      <td>Things to See &amp; Do</td>\n",
       "      <td>The Valley of the Birds (daily from 09:30-12:3...</td>\n",
       "    </tr>\n",
       "    <tr>\n",
       "      <th>4</th>\n",
       "      <td>Cuisine &amp; Nightlife</td>\n",
       "      <td>Besides what the large hotels have, there’s no...</td>\n",
       "    </tr>\n",
       "    <tr>\n",
       "      <th>...</th>\n",
       "      <td>...</td>\n",
       "      <td>...</td>\n",
       "    </tr>\n",
       "    <tr>\n",
       "      <th>69</th>\n",
       "      <td>High Atlas Mountains – Explore Scenic Hiking T...</td>\n",
       "      <td>The High Atlas features some of the most beaut...</td>\n",
       "    </tr>\n",
       "    <tr>\n",
       "      <th>70</th>\n",
       "      <td>Scenic Mountains, including the Atlas Mountain...</td>\n",
       "      <td>Amtoudi Peak\\nAmtoudi is a fascinating area wi...</td>\n",
       "    </tr>\n",
       "    <tr>\n",
       "      <th>71</th>\n",
       "      <td>Ports in Morocco – Important to Local Economy</td>\n",
       "      <td>While their sizes may differ significantly fro...</td>\n",
       "    </tr>\n",
       "    <tr>\n",
       "      <th>72</th>\n",
       "      <td>Sahara Desert – The World’s Largest Desert</td>\n",
       "      <td>The Sahara desert stretches across much of Nor...</td>\n",
       "    </tr>\n",
       "    <tr>\n",
       "      <th>73</th>\n",
       "      <td>Touring Routes – From the Valley of Roses to T...</td>\n",
       "      <td>back to Area Guide</td>\n",
       "    </tr>\n",
       "  </tbody>\n",
       "</table>\n",
       "<p>74 rows × 2 columns</p>\n",
       "</div>"
      ],
      "text/plain": [
       "                                               Prompt  \\\n",
       "0                         Travel to Agadir in Morocco   \n",
       "1                                       Accommodation   \n",
       "2                                             Beaches   \n",
       "3                                  Things to See & Do   \n",
       "4                                 Cuisine & Nightlife   \n",
       "..                                                ...   \n",
       "69  High Atlas Mountains – Explore Scenic Hiking T...   \n",
       "70  Scenic Mountains, including the Atlas Mountain...   \n",
       "71      Ports in Morocco – Important to Local Economy   \n",
       "72         Sahara Desert – The World’s Largest Desert   \n",
       "73  Touring Routes – From the Valley of Roses to T...   \n",
       "\n",
       "                                             Response  \n",
       "0   Agadir is Southern Morocco's most visited city...  \n",
       "1   There are plenty of hotels to choose from in M...  \n",
       "2   The lack of monuments, museums and interesting...  \n",
       "3   The Valley of the Birds (daily from 09:30-12:3...  \n",
       "4   Besides what the large hotels have, there’s no...  \n",
       "..                                                ...  \n",
       "69  The High Atlas features some of the most beaut...  \n",
       "70  Amtoudi Peak\\nAmtoudi is a fascinating area wi...  \n",
       "71  While their sizes may differ significantly fro...  \n",
       "72  The Sahara desert stretches across much of Nor...  \n",
       "73                                 back to Area Guide  \n",
       "\n",
       "[74 rows x 2 columns]"
      ]
     },
     "execution_count": 10,
     "metadata": {},
     "output_type": "execute_result"
    }
   ],
   "source": [
    "df"
   ]
  },
  {
   "cell_type": "code",
   "execution_count": 11,
   "id": "b596ff88",
   "metadata": {},
   "outputs": [],
   "source": [
    "urls = [\n",
    "    \"https://www.morocco.com/activities/fishing/\",\n",
    "    \"https://www.morocco.com/activities/golf/\",\n",
    "    \"https://www.morocco.com/activities/horse-riding/\",\n",
    "    \"https://www.morocco.com/activities/hot-air-ballooning/\",\n",
    "    \"https://www.morocco.com/activities/snow-skiing/\",\n",
    "    \"https://www.morocco.com/activities/surfing/\",\n",
    "    \"https://www.morocco.com/activities/trekking/\",\n",
    "    \"https://www.morocco.com/activities/water-sports/\"\n",
    "]\n"
   ]
  },
  {
   "cell_type": "code",
   "execution_count": 12,
   "id": "afb00af0",
   "metadata": {},
   "outputs": [
    {
     "name": "stderr",
     "output_type": "stream",
     "text": [
      "C:\\Users\\pc\\AppData\\Local\\Temp\\ipykernel_3448\\1421158965.py:7: DeprecationWarning: executable_path has been deprecated, please pass in a Service object\n",
      "  driver = webdriver.Chrome(chrome_driver_path)\n"
     ]
    },
    {
     "name": "stdout",
     "output_type": "stream",
     "text": [
      "Fishing in Moroccan Waters\n",
      "For many people living in Morocco, fishing is a way of life. For hundreds of tourists, however, it is a great way to pass the time. Despite the fact that foreigners often get the impression that Morocco is a desert country, fishing is quite a popular activity. Fishing in Morocco takes place in inland rivers and lakes as well as on the wide-open seas. Visitors can enjoy sitting in a boat in the middle of a lake or they can head out into the ocean for some great deep-sea fishing. Of course, for a fisherman it is all about the struggle between fish and man and the type of fish you are fishing for can have a big impact on how challenging that encounter is. If you decide to head inland, you will find that the main type of fish found in gorges and wadis is trout. However, if you prefer a little variety, head to one of the many lakes in Morocco. Morocco’s lakes are filled with pike, perch, black bass, carp, barbells, eels and roach. You can literally spend days trying to catch as many of these great fish varieties as possible. If you prefer to head out to the ocean for your game you will also not be disappointed. If Morocco’s vibrant fishing industry is anything to judge by, you will find the waters around Morocco teeming with life. The fish species you will find in these waters include sea perch, bonitos, chad, sea beam and mullet. If you’re looking for a bigger challenge, you will find swordfish, tuna, marlin, barracudas and grouper. Clearly there is no shortage of variety in the waters in and around Morocco. If you do want to go fishing in Morocco, you will find that fishing season for the lakes is between May and June. Fishing in the oceans is not as strictly monitored, though phoning the Moroccan fisheries office is never a bad idea. Two of the best fishing ports in the country are Sakhla (Sahara) and Mohammedia (Casablanca). So pack in your fishing rod the next time you visit this amazing country.\n"
     ]
    },
    {
     "name": "stderr",
     "output_type": "stream",
     "text": [
      "C:\\Users\\pc\\AppData\\Local\\Temp\\ipykernel_3448\\1421158965.py:35: FutureWarning: The frame.append method is deprecated and will be removed from pandas in a future version. Use pandas.concat instead.\n",
      "  df = df.append({\n",
      "C:\\Users\\pc\\AppData\\Local\\Temp\\ipykernel_3448\\1421158965.py:7: DeprecationWarning: executable_path has been deprecated, please pass in a Service object\n",
      "  driver = webdriver.Chrome(chrome_driver_path)\n"
     ]
    },
    {
     "name": "stdout",
     "output_type": "stream",
     "text": [
      "Golf in Morocco\n",
      "Make your mark on the golf courses of Morocco. A fine selection of courses will keep you busy for weeks. Check the list below for the course that suits you best. \n",
      "Golf Les Dunes \n",
      "Address: Golf Club Med les Dunes \n",
      "Holes: 27 Par: 72 \n",
      "Royal Golf Club of Agadir \n",
      "Address: Km 12 Route Ait Melloul \n",
      "Holes: 9 \n",
      "Meters: 3600 \n",
      "Par: 36 Ben Slimane Golf Club\n",
      "Address: Avenue des FAR BP 83 Ben Slimane \n",
      "Holes: 9 \n",
      "Meters: 3100 \n",
      "Par: 36 \n",
      "Golf Club of Anfa\n",
      "Address: Hippodrome d’Anfa-Casablanca \n",
      "Holes: 9 \n",
      "Meters: 2710 \n",
      "Par: 35 Royal Golf d’el Jadida\n",
      "Address: Km 7 Route de Casablanca BP542 \n",
      "Golf Club of El Jadida\n",
      "Address: Km 7 route de Casablanca\n",
      "Holes: 18\n",
      "Meters: 6274\n",
      "Par: 72 Royal Golf Dar Es-Salam\n",
      "Address: Dar Es-Salam, Rabat  Red Course\n",
      "Holes: 18\n",
      "Meters: 6702\n",
      "Par: 73  Blue Course\n",
      "Holes: 18\n",
      "Meters: 6205\n",
      "Par: 72  Green Course\n",
      "Holes: 9 \n",
      "Meters: 2170\n",
      "Par: 32 Fes Royal Golf Club\n",
      "Address: Route d’Ifrane-Imouzzer-Ain Chegag\n",
      "Holes: 9\n",
      "Meters: 3168\n",
      "Par: 37 La Palmeraie Golf Course\n",
      "Address: Les Jardins de la Palmeraie, Circuit de la Palmeraie, BP 1488\n",
      "Holes: 18\n",
      "Meters: 6214\n",
      "Par: 72 \n",
      "Club Amelkis\n",
      "Address: Km 12, Route de Ouarzazate\n",
      "Holes: 18\n",
      "Meters: 6657\n",
      "Par: 72 \n",
      "Royal Marrakech Golf Club\n",
      "Address: BP 634, Ancienne route de Ouarzazate\n",
      "Holes: 18\n",
      "Meters: 6200\n",
      "Par: 72 Golf Club of Meknes\n",
      "Address: Bab Belkari Jnane Lbahraoui\n",
      "Holes: 9\n",
      "Meters: 2707\n",
      "Par: 36 Golf Club of Ouarzazate\n",
      "Address: BP 83\n",
      "Holes: 9\n",
      "Meters: 3150\n",
      "Par: 36 Royal Golf Club of Tangier\n",
      "Address: BP 41\n",
      "Holes: 18\n",
      "Meters: 5545\n",
      "Par: 70 Cabo Negro Golf Club\n",
      "Address: BP 696 G\n",
      "Holes: 18\n"
     ]
    },
    {
     "name": "stderr",
     "output_type": "stream",
     "text": [
      "C:\\Users\\pc\\AppData\\Local\\Temp\\ipykernel_3448\\1421158965.py:35: FutureWarning: The frame.append method is deprecated and will be removed from pandas in a future version. Use pandas.concat instead.\n",
      "  df = df.append({\n",
      "C:\\Users\\pc\\AppData\\Local\\Temp\\ipykernel_3448\\1421158965.py:7: DeprecationWarning: executable_path has been deprecated, please pass in a Service object\n",
      "  driver = webdriver.Chrome(chrome_driver_path)\n"
     ]
    },
    {
     "name": "stdout",
     "output_type": "stream",
     "text": [
      "Horse Riding in Morocco – Adventure Rides in the Desert or on the Beach\n",
      "There is something so incredibly beautiful and enigmatic about Berbers mounted astride their noble horses as they cross the sea-like deserts of Morocco. The sight inspires and impresses. Not only do these people have incredibly beautiful horses, but survival of both horse and man likely depends on a strong bond of friendship, trust and respect. The Barb and Arab horses used in the country are hardy, sure-footed and lightweight in order to cope with the harsh climatic conditions. But they are also beautiful and inspire a sense of nostalgia in horse lovers from around the world. The idea of riding an Arab or Barb through the mountains and deserts of North Africa is something that appeals to many people. The combination of rural settlements, rustic landscapes and luxurious tented overnight camps is unbeatable. The High Atlas Mountains provide breathtaking views while the heat of the Sahara is an experience on its own. The palm groves in valleys fed by rivers add splashes of green to the otherwise arid landscape. Local Kasbahs provide the perfect opportunity to get better acquainted with the Berber people. Horse riding in Morocco is becoming an increasingly popular activity although, in truth, it has been available to vacationers for decades already. Horse riding holidays provide the perfect opportunity for horse lovers to explore the wilderness and culture of rural Morocco while experiencing first hand all the endearing qualities that have made these horse breeds the forerunners of most of the horse breeds found elsewhere in the world today. The enjoyment of your horse riding holiday in Morocco will be determined largely by which company you choose to employ for the occasion. There are a number of excellent horse riding establishments in the country – many of which are run by top equestrian authorities. Arabs and Barbs, being the most suitable breeds of horse for the terrain, are the most commonly used and riders will usually find themselves comfortably seated in an English–styled saddle instead of a western saddle. Tour routes vary from company to company and may include any number of fascinating features during the trip. You should definitely bring your camera along for this one! Most horse riding companies also offer somewhat luxurious overnight accommodation where you can relax tired muscles in comfort. Be warned, however, many of the horses used are stallions and riding skill must be moderate to experienced in order for riders to make the most of the experience.\n"
     ]
    },
    {
     "name": "stderr",
     "output_type": "stream",
     "text": [
      "C:\\Users\\pc\\AppData\\Local\\Temp\\ipykernel_3448\\1421158965.py:35: FutureWarning: The frame.append method is deprecated and will be removed from pandas in a future version. Use pandas.concat instead.\n",
      "  df = df.append({\n",
      "C:\\Users\\pc\\AppData\\Local\\Temp\\ipykernel_3448\\1421158965.py:7: DeprecationWarning: executable_path has been deprecated, please pass in a Service object\n",
      "  driver = webdriver.Chrome(chrome_driver_path)\n"
     ]
    },
    {
     "name": "stdout",
     "output_type": "stream",
     "text": [
      "Hot Air Ballooning – Adventure and Spectacular Views\n",
      "For any information regarding aerial sports such as parachuting and hot air ballooning in Morocco, the Royal Moroccan Federation for Light Aviation and Aerial Sports, which is located in Rabat, can be contacted. There are many aeroclubs scattered across Morocco but, for a hot air balloon ride in Morocco, visitors should head towards the Western High Atlas plains near Marrakech. Hot air ballooning in Morocco was brought to public attention when the Virgin Challenger lifted off from Marrakech with hot air balloon enthusiast Richard Branson in the basket. It is no small wonder that he built a luxurious resort in the Atlas Mountains for guests to be able to take advantage of the hot air balloon rides nearby. The adventure of riding in a hot air balloon has seen many people getting hooked on the sport. The thrill of being lifted high into the air and drifting on the winds has an allure of its own. Floating above the earth, with no engine noise braking the silence and tranquility of the heavens and nothing but endless landscapes stretching out in all directions, it is an experience that cannot be retold – only lived. To be part of a hot air balloon ride in Morocco, visitors will have to be prepared for an early start. Most pilots take off before sunrise, so they will be collected from their hotels or accommodations at approximately five or six-thirty in the morning, depending on the season. Hot air balloon pilots are in constant contact with the vehicles that follow them on the ground in case of emergency and to notify the ground crew as to their landing location. The flight duration is approximately one hour and passengers will be able to get spectacular views of the Atlas Mountains, Queds Tinsift and the Al Hawuz Plain. On landing, passengers will be given time to enjoy a hearty breakfast in the Berber villages and stroll around the little markets before being returned to their hotels. Different packages are available on request and bookings should be made in advance. A certificate will also be received from the Hot Air Balloon Company as proof of your ride. Passengers are reminded to take a warm sweater for the chilly early mornings and sunglasses for after sunrise. It is also essential not to forget your camera so that you can snap up the unforgettable moments of the journey.\n"
     ]
    },
    {
     "name": "stderr",
     "output_type": "stream",
     "text": [
      "C:\\Users\\pc\\AppData\\Local\\Temp\\ipykernel_3448\\1421158965.py:35: FutureWarning: The frame.append method is deprecated and will be removed from pandas in a future version. Use pandas.concat instead.\n",
      "  df = df.append({\n",
      "C:\\Users\\pc\\AppData\\Local\\Temp\\ipykernel_3448\\1421158965.py:7: DeprecationWarning: executable_path has been deprecated, please pass in a Service object\n",
      "  driver = webdriver.Chrome(chrome_driver_path)\n"
     ]
    },
    {
     "name": "stdout",
     "output_type": "stream",
     "text": [
      "Exciting Snow Skiing – A Popular Holiday Activity in Morocco\n",
      "Morocco may not be the first destination that comes to mind when one thinks of snow skiing – especially since you are more likely to picture mountains of sand than of snow. However, contrary to popular belief, Morocco does receive quite a high annual snowfall and snow skiing is fast becoming a very popular holiday activity in Morocco. There are quite a few different snow skiing resorts in Morocco that you can choose from. Most of them are found in the High Atlas Mountains where temperatures plummet and snow is plentiful. Though the snow line in Morocco is situated at around 1000 meters above sea level, the snow is thicker with higher altitudes and this is why the High Atlas Mountains are preferred. The two most popular ski resorts in the country include Oukaimeden and Jebel Mischliffen. Oukaimeden is perhaps one of the better established ones and it features a ski lift that will take you to a breathtaking 3268 meters above sea level. Ski Equipment can be rented and there are plenty of mountain trails that you can enjoy if you are not that into downhill skiing. The resort is usually open between January and February and the hotels provide basic accommodation. Jebel Mischliffen was opened by the French in the 1950s and has remained in its original state since then. It provides only the most basic of facilities and would be a great investment for any potential developers looking for a deal since the ski area is frequented by many Moroccans from Fez, Meknes, Rabat and Casablanca. Generally speaking visitors should find snow skiing in Morocco to be a pleasant, albeit simplistic, affair. You should not arrive expecting to find the latest in ski equipment, ramps and rails, but you certainly can expect to enjoy clean mountain air and plenty of space to yourself. Many Moroccans visit merely to enjoy the sights and pleasures of snow and do not even attempt to ski so the slopes are generally quite uncluttered. There are a number of other ski resorts but these are often more rudimentary or dangerous. Visitors will be happy to know that other activities such as snowshoeing, freestyle skiing and cross-country skiing are available at some of the resorts. Snow skiing in Morocco is a great way to spend at least a few days of your holiday – after all not many people can say that they’ve gone snow skiing this close to the equator.\n"
     ]
    },
    {
     "name": "stderr",
     "output_type": "stream",
     "text": [
      "C:\\Users\\pc\\AppData\\Local\\Temp\\ipykernel_3448\\1421158965.py:35: FutureWarning: The frame.append method is deprecated and will be removed from pandas in a future version. Use pandas.concat instead.\n",
      "  df = df.append({\n",
      "C:\\Users\\pc\\AppData\\Local\\Temp\\ipykernel_3448\\1421158965.py:7: DeprecationWarning: executable_path has been deprecated, please pass in a Service object\n",
      "  driver = webdriver.Chrome(chrome_driver_path)\n"
     ]
    },
    {
     "name": "stdout",
     "output_type": "stream",
     "text": [
      "Surfing in Morocco – Surfing Schools and Competitions\n",
      "The sport of surfing has slowly gained momentum in Morocco and many organizations have sprung up to educate the locals as to its tourism and visitor potential. Surfing schools have been opened and competitions have been organized to promote surfing in Morocco. Many people have not even considered Morocco as a surfing destination, which is quite a pity as it has some of the most wonderful surfing spots available all in one region. Surfing in Morocco was initiated by a group of Australian and American surfers in the 1970’s, but lately the Moroccan shores have seen many local surfing talents and Europeans enjoy the waves. Many surfing legends, such as Shaun Candell, Lowrie Turner, Alan Stokes, Tai Burrows, and Josh Ash, to name only a few, have come to Morocco to enjoy and experience the surf. The most popular surfing region in Morocco is the area around Agadir. Accommodation can be found in Agadir, Taghazoute or in the village of Tamrhakht – all of which are popular with surfers as most of the surfing hotspots are accessible from there and accommodation is very inexpensive. The best time for surfing in Morocco is during the late autumn and the winter months. Swells are consistent and the air is reasonably warm. In summer there are many flat spells and the waves are uneventful. There is hardly any overcrowding and there are good waves around every corner. Some spots have never even been surfed in, as access to the beach can be a bit tricky in areas. The most popular surfing spots around Taghazoute are as follows: Panorama’s is known for its right hand break point. Here waves are reasonable in size, but surfers must remain aware that the rip is very strong here and surfers will have to paddle to stay in position. This is not for the lazy surfer. Hash Point also has a right hand break point and wave size can be very good on particular days. Anchor Point is a little crowded on the best of days, because waves are constantly good here. Strong currents are also found here and surfers need to be vigilant not to end up on the rocks. Other spots include Banana Beach, Mysteries, Killer Point (best waves in the Taghazoute area), Boilers and Tamri. For surfing enthusiasts, Morocco is the place to be. With endless surfing, great weather and good food, the hardest part of the journey will be getting through customs. There are a few surfing companies in Morocco that will also gladly assist visitors. During a break from the waves surfers will be captivated by the fascinating and beautiful country that lies waiting to be explored.\n"
     ]
    },
    {
     "name": "stderr",
     "output_type": "stream",
     "text": [
      "C:\\Users\\pc\\AppData\\Local\\Temp\\ipykernel_3448\\1421158965.py:35: FutureWarning: The frame.append method is deprecated and will be removed from pandas in a future version. Use pandas.concat instead.\n",
      "  df = df.append({\n",
      "C:\\Users\\pc\\AppData\\Local\\Temp\\ipykernel_3448\\1421158965.py:7: DeprecationWarning: executable_path has been deprecated, please pass in a Service object\n",
      "  driver = webdriver.Chrome(chrome_driver_path)\n"
     ]
    },
    {
     "name": "stdout",
     "output_type": "stream",
     "text": [
      "Trekking – A Fantastic Way to Explore Morocco’s Mountains and Deserts\n",
      "Though not everyone may view the physical effort involved as being something pleasant, there is definitely something to be said for the way that trekking allows you to experience a foreign country such as Morocco. Taking your time to walk from place to place can open your eyes to the beauty of a landscape or give your mind time to meditate on the culture or people that you have just experienced. It gives your travels a leisurely, comfortable pace and helps you make the most of your time spent on holiday. If you plan to spend time trekking in Morocco, you should take note of the fact that the landscape is varied and may range from high mountains to vast deserts. Annual snows in higher-lying areas provide certain parts of the country with plenty of water so, while you may find yourself parched with thirst on one hand, you can also find yourself well shaded and hydrated in one of the many cultivated valleys to be found here. These unusual contrasts are part of what make the Moroccan landscape as unique and special as what it is and, if you are up for the challenge, a trek up the Atlas Mountains will have you gasping for breath and looking for your camera. Of course trekking companies will usually make the experience as pleasant as possible, providing mules to carry luggage and equipment and professional guides who can give you incredible insight into this intrinsically beautiful country. In fact, staff make the night camps as comfortable as possible and in some cases you may not feel that you are even ‘roughing it’ at all. Trekking in Morocco is definitely one of the better ways to explore the world of the mountain Berber tribes. These tribes have always lived in remote parts of the country and are relatively unaffected by other civilizations and global trends. Life is simple here – with woman gathering at the wells to draw water and shepherds tending their flocks on the mountainsides. The pace of life is slow but generous and the people seem rested and whole. Trekking not only makes you privy to their lifestyles but also helps you to understand that there is pleasure in simplicity and that family is important no matter where or how you live. So take a trek in Morocco and discover a whole new soul-searching approach to travel.\n"
     ]
    },
    {
     "name": "stderr",
     "output_type": "stream",
     "text": [
      "C:\\Users\\pc\\AppData\\Local\\Temp\\ipykernel_3448\\1421158965.py:35: FutureWarning: The frame.append method is deprecated and will be removed from pandas in a future version. Use pandas.concat instead.\n",
      "  df = df.append({\n",
      "C:\\Users\\pc\\AppData\\Local\\Temp\\ipykernel_3448\\1421158965.py:7: DeprecationWarning: executable_path has been deprecated, please pass in a Service object\n",
      "  driver = webdriver.Chrome(chrome_driver_path)\n"
     ]
    },
    {
     "name": "stdout",
     "output_type": "stream",
     "text": [
      "Water Sports – Canoeing, Kayaking and Surfing\n",
      "In a country that is as hot as Morocco, people love flocking to the beaches to enjoy the refreshingly cool waters of the ocean. During the summer months you will find scores of tourists making good use of both the Atlantic and Mediterranean coast. The local tourism agencies have long since recognized that there is a massive market for water sports in Morocco and so virtually every kind of non-team water sport you can imagine is available in this country. Some of the water sports available have been around for decades. Things like canoeing, kayaking, windsurfing and surfing have been practiced in Morocco for almost as long as they have been practiced in other parts of the globe. Water-skiing is still as popular as it was a few years ago and deep-sea fishing is gaining popularity. Scuba diving is fast becoming one of the best ways to explore the oceans surrounding Morocco with their beautiful abundance of marine life and sailing is a great way to spend time breathing in the salty sea air. Recent years have also seen more and more people making good use of the many rivers and lakes in Morocco and this, in turn, has brought about an increase in sports like white water rafting, rowing and yachting. Jet-skiing is another popular activity that hundreds of people participate in every year. The last couple of years have also seen growth in kite surfing in Morocco – an exciting new sport that has been taking the world by storm. The participant is harnessed to a powerful kite which he carefully controls by means of two handles. Once he straps his feet to a board, the kite can whisk him off across the ocean or lakes where, with enough practice, he can do almost any maneuver that he can think of. Kite surfing takes physical strength, a certain degree of intelligence and a great degree of sporting skill to be performed successfully. Thankfully there are a number of coaches available to teach you the basics and help get you started. Clearly there is no shortage of fantastic water sports in Morocco to enjoy. So pack your bathing suit and head out to the beaches the next time you visit this amazing country.\n"
     ]
    },
    {
     "name": "stderr",
     "output_type": "stream",
     "text": [
      "C:\\Users\\pc\\AppData\\Local\\Temp\\ipykernel_3448\\1421158965.py:35: FutureWarning: The frame.append method is deprecated and will be removed from pandas in a future version. Use pandas.concat instead.\n",
      "  df = df.append({\n"
     ]
    }
   ],
   "source": [
    "from selenium import webdriver\n",
    "from bs4 import BeautifulSoup\n",
    "from time import sleep\n",
    "\n",
    "for link in urls:\n",
    "    chrome_driver_path = \"C:\\\\Users\\\\pc\\\\OneDrive\\\\Documents\\\\chromedriver-win64\\\\chromedriver.exe\"\n",
    "    driver = webdriver.Chrome(chrome_driver_path)\n",
    "    driver.get(link)\n",
    "    sleep(5)  # Add a pause to ensure content loads properly\n",
    "\n",
    "    # Retrieve the content of the page with BeautifulSoup\n",
    "    src = driver.page_source\n",
    "    soup = BeautifulSoup(src, 'html.parser')\n",
    "    \n",
    "    # Get the title\n",
    "    title = soup.find('h1', class_='page-title').get_text()\n",
    "    print(title)\n",
    "    \n",
    "    # Get the excerpt paragraphs\n",
    "    paragraphs = soup.find('div', class_='excerpt')\n",
    "    excerpt_text = paragraphs.get_text().strip() if paragraphs else \"\"\n",
    "    #print(excerpt_text)\n",
    "    \n",
    "    # Get the content paragraphs\n",
    "    content_div = soup.find('div', class_='content-text')\n",
    "    paragraphs = content_div.find_all('p') if content_div else []\n",
    "    filtered_paragraphs = [p for p in paragraphs if 'back-to-category' not in p.get('class', [])]\n",
    "    \n",
    "    # Join the text from the filtered p tags\n",
    "    joined_text = ' '.join(p.get_text() for p in filtered_paragraphs)\n",
    "    \n",
    "    # Concatenate the excerpt text with the joined paragraphs text\n",
    "    combined_text = excerpt_text + ' ' + joined_text\n",
    "    print(combined_text)\n",
    "    df = df.append({\n",
    "            'Prompt':title,\n",
    "            'Response':combined_text\n",
    "        }, ignore_index=True)\n",
    "    # Close the browser after processing each link\n",
    "    driver.quit()\n"
   ]
  },
  {
   "cell_type": "code",
   "execution_count": 13,
   "id": "862db20a",
   "metadata": {},
   "outputs": [
    {
     "data": {
      "text/html": [
       "<div>\n",
       "<style scoped>\n",
       "    .dataframe tbody tr th:only-of-type {\n",
       "        vertical-align: middle;\n",
       "    }\n",
       "\n",
       "    .dataframe tbody tr th {\n",
       "        vertical-align: top;\n",
       "    }\n",
       "\n",
       "    .dataframe thead th {\n",
       "        text-align: right;\n",
       "    }\n",
       "</style>\n",
       "<table border=\"1\" class=\"dataframe\">\n",
       "  <thead>\n",
       "    <tr style=\"text-align: right;\">\n",
       "      <th></th>\n",
       "      <th>Prompt</th>\n",
       "      <th>Response</th>\n",
       "    </tr>\n",
       "  </thead>\n",
       "  <tbody>\n",
       "    <tr>\n",
       "      <th>0</th>\n",
       "      <td>Travel to Agadir in Morocco</td>\n",
       "      <td>Agadir is Southern Morocco's most visited city...</td>\n",
       "    </tr>\n",
       "    <tr>\n",
       "      <th>1</th>\n",
       "      <td>Accommodation</td>\n",
       "      <td>There are plenty of hotels to choose from in M...</td>\n",
       "    </tr>\n",
       "    <tr>\n",
       "      <th>2</th>\n",
       "      <td>Beaches</td>\n",
       "      <td>The lack of monuments, museums and interesting...</td>\n",
       "    </tr>\n",
       "    <tr>\n",
       "      <th>3</th>\n",
       "      <td>Things to See &amp; Do</td>\n",
       "      <td>The Valley of the Birds (daily from 09:30-12:3...</td>\n",
       "    </tr>\n",
       "    <tr>\n",
       "      <th>4</th>\n",
       "      <td>Cuisine &amp; Nightlife</td>\n",
       "      <td>Besides what the large hotels have, there’s no...</td>\n",
       "    </tr>\n",
       "    <tr>\n",
       "      <th>...</th>\n",
       "      <td>...</td>\n",
       "      <td>...</td>\n",
       "    </tr>\n",
       "    <tr>\n",
       "      <th>77</th>\n",
       "      <td>Hot Air Ballooning – Adventure and Spectacular...</td>\n",
       "      <td>For any information regarding aerial sports su...</td>\n",
       "    </tr>\n",
       "    <tr>\n",
       "      <th>78</th>\n",
       "      <td>Exciting Snow Skiing – A Popular Holiday Activ...</td>\n",
       "      <td>Morocco may not be the first destination that ...</td>\n",
       "    </tr>\n",
       "    <tr>\n",
       "      <th>79</th>\n",
       "      <td>Surfing in Morocco – Surfing Schools and Compe...</td>\n",
       "      <td>The sport of surfing has slowly gained momentu...</td>\n",
       "    </tr>\n",
       "    <tr>\n",
       "      <th>80</th>\n",
       "      <td>Trekking – A Fantastic Way to Explore Morocco’...</td>\n",
       "      <td>Though not everyone may view the physical effo...</td>\n",
       "    </tr>\n",
       "    <tr>\n",
       "      <th>81</th>\n",
       "      <td>Water Sports – Canoeing, Kayaking and Surfing</td>\n",
       "      <td>In a country that is as hot as Morocco, people...</td>\n",
       "    </tr>\n",
       "  </tbody>\n",
       "</table>\n",
       "<p>82 rows × 2 columns</p>\n",
       "</div>"
      ],
      "text/plain": [
       "                                               Prompt  \\\n",
       "0                         Travel to Agadir in Morocco   \n",
       "1                                       Accommodation   \n",
       "2                                             Beaches   \n",
       "3                                  Things to See & Do   \n",
       "4                                 Cuisine & Nightlife   \n",
       "..                                                ...   \n",
       "77  Hot Air Ballooning – Adventure and Spectacular...   \n",
       "78  Exciting Snow Skiing – A Popular Holiday Activ...   \n",
       "79  Surfing in Morocco – Surfing Schools and Compe...   \n",
       "80  Trekking – A Fantastic Way to Explore Morocco’...   \n",
       "81      Water Sports – Canoeing, Kayaking and Surfing   \n",
       "\n",
       "                                             Response  \n",
       "0   Agadir is Southern Morocco's most visited city...  \n",
       "1   There are plenty of hotels to choose from in M...  \n",
       "2   The lack of monuments, museums and interesting...  \n",
       "3   The Valley of the Birds (daily from 09:30-12:3...  \n",
       "4   Besides what the large hotels have, there’s no...  \n",
       "..                                                ...  \n",
       "77  For any information regarding aerial sports su...  \n",
       "78  Morocco may not be the first destination that ...  \n",
       "79  The sport of surfing has slowly gained momentu...  \n",
       "80  Though not everyone may view the physical effo...  \n",
       "81  In a country that is as hot as Morocco, people...  \n",
       "\n",
       "[82 rows x 2 columns]"
      ]
     },
     "execution_count": 13,
     "metadata": {},
     "output_type": "execute_result"
    }
   ],
   "source": [
    "df"
   ]
  },
  {
   "cell_type": "code",
   "execution_count": 14,
   "id": "c624bcc2",
   "metadata": {},
   "outputs": [],
   "source": [
    "urls_attractions = [\n",
    "    \"https://www.morocco.com/attractions/art-galleries/\",\n",
    "    \"https://www.morocco.com/attractions/heritage-sites/\",\n",
    "    \"https://www.morocco.com/attractions/mosques/\",\n",
    "    \"https://www.morocco.com/attractions/museums/\",\n",
    "    \"https://www.morocco.com/attractions/national-parks/\",\n",
    "    \"https://www.morocco.com/attractions/palaces/\",\n",
    "    \"https://www.morocco.com/attractions/theater/\",\n",
    "    \"https://www.morocco.com/attractions/wildlife/\"\n",
    "]\n"
   ]
  },
  {
   "cell_type": "code",
   "execution_count": 15,
   "id": "27aca517",
   "metadata": {},
   "outputs": [
    {
     "name": "stderr",
     "output_type": "stream",
     "text": [
      "C:\\Users\\pc\\AppData\\Local\\Temp\\ipykernel_3448\\2046694512.py:7: DeprecationWarning: executable_path has been deprecated, please pass in a Service object\n",
      "  driver = webdriver.Chrome(chrome_driver_path)\n"
     ]
    },
    {
     "name": "stdout",
     "output_type": "stream",
     "text": [
      "Visiting Morocco’s Diverse Art Galleries\n",
      "Feast your eyes on stunning masterpieces by many local and international artists at the art galleries featured on Morocco.com. The eclectic pulse and electrifying atmosphere that can be enjoyed throughout Morocco is often captured in the brilliant colors and bold designs that are visible in every city. The diverseness of the landscape and the intensity of the culture often seem somewhat captivated by the many forms of artwork that are so often seen and sometimes sold in galleries and on the streets in the various towns of this historical country. When traversing the country, you may find yourself eyeing the rich, expertly carved furniture. Or you might find you fancy the strong, geometric designs and amazing colors that are woven into the thick, intrinsically beautiful carpets available in so many shops and markets. Perhaps you would enjoy amazingly ornate ceramics with their intricate designs or captivating mosaics. You may prefer more conventional forms of art, such as sculpture, painting and calligraphy. All of these items can be found while winding through the bustling streets of the various towns and cities of Morocco. Really, if you have the opportunity to visit this resplendent country, your trip would be incomplete without a little memento of some sort. Be sure to visit our Art Gallery Listings.\n"
     ]
    },
    {
     "name": "stderr",
     "output_type": "stream",
     "text": [
      "C:\\Users\\pc\\AppData\\Local\\Temp\\ipykernel_3448\\2046694512.py:35: FutureWarning: The frame.append method is deprecated and will be removed from pandas in a future version. Use pandas.concat instead.\n",
      "  df = df.append({\n",
      "C:\\Users\\pc\\AppData\\Local\\Temp\\ipykernel_3448\\2046694512.py:7: DeprecationWarning: executable_path has been deprecated, please pass in a Service object\n",
      "  driver = webdriver.Chrome(chrome_driver_path)\n"
     ]
    },
    {
     "name": "stdout",
     "output_type": "stream",
     "text": [
      "Explore the Wonders of Morocco’s UNESCO World Heritage Sites\n",
      "World Heritage Sites are sites in certain countries that have been deemed by UNESCO to be of outstanding cultural or natural importance. This value is universal and so preserving such sites is seen as being beneficial to the entire world’s population. Most of the cultural heritage sites are historical in nature and provide evidence of the way early cultures lived their day-to-day lives. These sites provide a wealth of information and form part of a world of history that would remain dead and buried were it not for the discovery and study of such amazing archaeological ruins. There are as many as eight designated World Heritage Sites in Morocco. Archaeological Site of Volubilis:\n",
      "These ancient Roman ruins were originally part of the Mauritanian capital that was established in the area in 3 BC. In its prime Volubilis was graced with many stunning buildings and although today all that remains are some ruins, the remaining structures and intricate mosaics have been preserved as a reminder of a city that once thrived. Historic City of Meknes:\n",
      "Founded in the 11th century as a military settlement, this great city developed into a place of great beauty, filled with superb examples of Spanish-Moorish styled architecture, much of which is still present today. Parts of the city, such as the enormous doors of the city, were constructed from materials looted from Volubilis. Ksar of Ait-Ben-Haddou:\n",
      "Lying along the ancient caravan route between the Sahara Desert and the city of Marrakech, this amazing group of earthen buildings is a striking example of the ancient and practical architecture used in the southern parts of Morocco. Situated in the Quarzazate province, the buildings are surrounded by high, defensive walls which are reinforced by corner towers. This uniquely beautiful site has been used in a number of movies, including The Jewel of the Nile, The Living Daylights, Gladiator and Alexander. Mazagan:\n",
      "One of the country’s more recent inscriptions is that of the Portuguese City of Mazagan. According to sources at UNESCO, this ancient city was built as a fortified colony during the 16th century. It served as a Portuguese port on the Atlantic coast and is an excellent example of how European and Moroccan cultures were often combined during town planning. Today Mazagan is a part of El Jadida, which is not too far from Casablanca. The Medina of Essaouira:\n",
      "This once humble fishing village developed into a strategically significant seaport which was used by pirates in the 1500s. Within the city’s fortified walls, the Medina of Essaouira has been preserved and many buildings remain much the same as when they were constructed back in the 18th century. Medina of Fez:\n",
      "With a history that goes right back to the 9th century, the Medina of Fez is considered to be Morocco’s cultural and spiritual centre. The Medina consists of numerous beautifully preserved historical buildings, including mosques, palaces, residential home and squares with fountains, all set in a labyrinth of narrow streets and alleyways which are fascinating to explore. Medina of Marrakech:\n",
      "The Medina of Marrakech was established in the 11th century with successive occupants leaving their mark on the fascinating architecture of the city. The Almoravids built some of the most impressive structures in the Medina, including the Kasbah, a number of magnificent mosques and an open-air theatre which still stands today. The tombs of several prominent figures are located in the Medina of Marrakech and attract visitors from all over the world. Medina of Tetouan:\n",
      "The Medina of Tetouan is considered to be one of the finest examples of historical towns dating back to the 8th century, when it began to play an important role in the Islamic community. Tetouan was at one time occupied by Andalusian culture and their influence can be seen throughout the Medina. Visitors walking through the streets of the medina will come across locals engaging in various crafts such as leatherwork, weaving and making jewelry. So make sure you see as many of these great World Heritage Sites as you can the next time you visit Morocco.\n"
     ]
    },
    {
     "name": "stderr",
     "output_type": "stream",
     "text": [
      "C:\\Users\\pc\\AppData\\Local\\Temp\\ipykernel_3448\\2046694512.py:35: FutureWarning: The frame.append method is deprecated and will be removed from pandas in a future version. Use pandas.concat instead.\n",
      "  df = df.append({\n",
      "C:\\Users\\pc\\AppData\\Local\\Temp\\ipykernel_3448\\2046694512.py:7: DeprecationWarning: executable_path has been deprecated, please pass in a Service object\n",
      "  driver = webdriver.Chrome(chrome_driver_path)\n"
     ]
    },
    {
     "name": "stdout",
     "output_type": "stream",
     "text": [
      "Moroccan Mosques – Spiritual Centers for Muslims\n",
      "The majority of Moroccans are Muslim, practicing the Sunni variant of Islam. Other religions practiced in Morocco include Christianity, Judaism and Baha’I – a 19th century religion which evolved from Babism. With Islam being the dominant religion of the country, Mosques are considered to be of great importance and every settlement, village, town and city has at least one of these venerated places of worship. A mosque serves primarily as a place were Muslims gather together for worship, but also serves as a center for education, information and settlement of disputes. Mosques of the 7th century were generally open air spaces, but have evolved to incorporate domes and minarets, which immediately distinguish them as places of worship for followers of Islam. Having originated on the Arabian Peninsula, mosques are found wherever Muslims have settled all over the world. The Hassan II Mosque, located in Casablanca, is considered to be the second largest mosque in the world. From the mosque, which is placed on a prominent piece of land rising up from the shores of the Atlantic Ocean, visitors have a beautiful view of the ocean, adding to the tranquility of the setting. It is said that King Hassan II wanted worshippers to be reminded of the wonders of God’s creations and chose the site for the spectacular view. Another significant Mosque in Morocco is the historic Karaouine Mosque in Fez. This ancient Mosque, which dates back to 859, is superbly decorated with intricate designs that never fail to amaze visitors as to the skill of the craftsmen. The Karaouine Mosque is incorporated into the University of Al-Karaouine, which is listed in the Guinness Book of World Records as the ‘oldest existing educational institution in the world’. The building started off quite small and was extended, improved and refurbished over the subsequent 1000 years or so, thereafter remaining much as it is seen today where it is able to comfortably accommodate as many as 20,000 worshippers.</p. Located in Marrakech, the Koutoubia Mosque is one of the prominent landmarks of this bustling metropolitan city. Completed around 1199, the Mosque stands as an architectural and engineering masterpiece of its time. Visitors to the Koutoubia Mosque are astounded by the sheer size of the minaret that reportedly set the standard for other noteworthy minarets on various Mosques in other parts of the world. A visit to Morocco can be a deeply rewarding experience, and many visitors come back time and again. To gain insight into the lives of the people who live in this exotic country, it is well worth taking time out to visit some of the Mosques of Morocco.\n"
     ]
    },
    {
     "name": "stderr",
     "output_type": "stream",
     "text": [
      "C:\\Users\\pc\\AppData\\Local\\Temp\\ipykernel_3448\\2046694512.py:35: FutureWarning: The frame.append method is deprecated and will be removed from pandas in a future version. Use pandas.concat instead.\n",
      "  df = df.append({\n",
      "C:\\Users\\pc\\AppData\\Local\\Temp\\ipykernel_3448\\2046694512.py:7: DeprecationWarning: executable_path has been deprecated, please pass in a Service object\n",
      "  driver = webdriver.Chrome(chrome_driver_path)\n"
     ]
    },
    {
     "name": "stdout",
     "output_type": "stream",
     "text": [
      "Fascinating Museums like the Marrakech Museum or the Museum of Moroccan Arts\n",
      "Feast your culture cravings on Morocco's wide choice of museums. Packed with architecture, art, history, sciences and much more, a visit to any of Morocco's museums is guaranteed to widen your horizons. Museum of Antiquities:\n",
      "Housed in the former kitchens of the Sultan’s palace, Dar El Makhzen, this museum features a wide variety of objects and artefacts, including beautiful mosaics and bronze statues, that were retrieved from Roman archaeological sites. American Legation Museum:\n",
      "Housed in a beautiful stone building in the Medina of Tangier, this museum has on display beautiful examples of art from the 17th century right through to present day. Many of these relate to the history of Tangier. The rooftop lookout allows visitors a a stunning 360 degree view of the surrounding areas. Forbes Museum:\n",
      "Established by American billionaire Malcolm Forbes and passed onto the Moroccan government after his death in 1990, this museum is primarily dedicated to military battles of the past. By means of an impressive collection of more than 115,000 lead model soldiers, various battles of note have been re-enacted complete with lighting and sound effects. The battle theme is carried out into the garden where more than 600 statues pay tribute to the Battle of Three Kings. Museum of Moroccan Arts:\n",
      "Housed in a former palace in the Medina of Tangier, the Museum of Moroccan Arts displays a collection of unique artworks from many different cities and towns throughout Morocco. Visitors can expect to see intricate textiles, tile work, leather goods, jewelry, brass, copper and earthen-ware crockery and containers, and more. Archaeological Museum:\n",
      "This museum features a number of exhibits which are dedicated to the pre-historic and pre-Islamic period of Morocco’s history. Visitors will discover fascinating facts about the Romans, Phoenicians, Mauritanians and the Punics and the impact they had on this beautiful region of Morocco. Ethnographic Museum:\n",
      "The many colorful exhibits at this museum offer visitors immense insight into the lives of Morocco’s people, highlighting their many artistic talents and fascinating traditions. Dar Jamai Museum:\n",
      "Surrounded by beautifully landscaped gardens, this museum is housed in a 19th century home which belonged to the Jamai family. The building itself is exquisite and the exhibitions of traditional crafts are superb. Visitors can expect to see wrought iron, brass work, woodcarving, ceramics, leather work and copper. Oudaias Museum:\n",
      "The museum is housed in an authentic Moroccan mansion dating back to the 17th century which is nestled in lush gardens with a maze of pathways through endless beds of colorful flowers. The collections in the museum include a myriad of magnificent traditional Moroccan carpets, pottery, musical instruments, jewelry, ancient Korans and more. Natural Science Museum:\n",
      "Home to a fascinating collection of items which have been unearthed during archaeological expeditions, this museum chronicles the origins of the earth and the creatures which have inhabited it over millions of years. Archaeological Museum:\n",
      "The impressive collections housed in this museum include objects and artifacts dating back to the Paleolithic and Neolithic periods through to our time. Of particular interest are the intricately crafted bronze sculptures from Pre-Roman and Roman civilizations. Postal Museum:\n",
      "From Morocco’s first official stamp dated 12 May 1912, through to modern day technology, this museum is dedicated to the various methods of communication through the ages. Dar Batha Museum:\n",
      "This museum houses a notable collection of traditional arts and crafts. Many items, such as intricately carved wooden furniture, carpets, wrought iron furniture and a multitude of ceramics are not only superb examples of the craftsman’s skill, but are functional too. Borj-Nord Museum:\n",
      "Housed in a 16th century fortress which towers over the city of Fez, the Borj-Nord Museum provides insight into the military history of Morocco through a series of displays of weapons through the ages. Dar Si Said Museum:\n",
      "Housed in a luxurious palace, this museum is superbly decorated and overflowing with beautifully hand-crafted items. Although many of these items are hundreds of years old, similar items are still used by many Moroccans, especially in the more mountainous regions. Bert Flint Museum:\n",
      "This unusual and charming museum focuses on the culture and way of life of the people of the Souss Valley and the Sahara. An impressive display of ancient music instruments, fabrics, textiles and theatrical costumes shows the role that entertainment has played throughout history. Majorelle Museum and Gardens:\n",
      "Set in beautifully landscaped gardens, this museum stands as a colorful tribute to French-born artist Jacques Majorelle who designed and established the gardens. The intense shade of blue which is used to great effect throughout the gardens has come to be known as Majorelle Blue. Marrakech Museum:\n",
      "Often referred to as the “jewel of Marrakech”, the Dar M’Nebhi Palace which houses the Museum is a feast for the eyes. The dozens of beautifully decorated rooms, with magnificent archways, pillars, mosaics and more are home to a superb collection of Jewish, Berber and Muslim artifacts. Sidi Mohamed Ben Abdellah Museum:\n",
      "Located in a gracious 19th century residence, this museum houses a collection of traditional garments, tapestries, musical instruments and a variety of handicrafts. The house itself is a delight to explore. National Ceramics Museum:\n",
      "Housed in a majestic citadel which was built in the 16th century by the Portuguese, the National Ceramics Museum is home to a number of superb examples of Safiot pottery made in the traditional way which is passed down from generation to generation, as well as a multitude of other traditional pottery items.\n"
     ]
    },
    {
     "name": "stderr",
     "output_type": "stream",
     "text": [
      "C:\\Users\\pc\\AppData\\Local\\Temp\\ipykernel_3448\\2046694512.py:35: FutureWarning: The frame.append method is deprecated and will be removed from pandas in a future version. Use pandas.concat instead.\n",
      "  df = df.append({\n",
      "C:\\Users\\pc\\AppData\\Local\\Temp\\ipykernel_3448\\2046694512.py:7: DeprecationWarning: executable_path has been deprecated, please pass in a Service object\n",
      "  driver = webdriver.Chrome(chrome_driver_path)\n"
     ]
    },
    {
     "name": "stdout",
     "output_type": "stream",
     "text": [
      "National Parks and Reserves of Morocco\n",
      "Visit one of the National Parks shown below to discover the wonderful diversity that nature has to offer in Morocco. A huge variety of birds and mammals will ensure that you won't leave disappointed. The Arganeraie Biosphere Reserve:\n",
      "Covering a huge area which incorporates urban and forest areas, as well as cultivated agricultural lands, this reserve aims to protect the remaining Argan trees that are holding back the advancing Sahara Desert which threatens habitable land. The hardy drought-resistant Argan trees are prized for their nuts which yield much sought after Argan oil for use in cosmetics, as well as for their wood which is used as an ingredient in some medicines. The Mediterranean Intercontinental Biosphere Reserve of Morocco and Spain:\n",
      "Under the guidance of UNESCO’s Man and the Biosphere Program, the establishment of this Intercontinental Biosphere took place in 2006. Representatives of Morocco and Spain work together with the common goal of educating the public with regard to the importance of maintaining the Biosphere Reserve, as well as promoting conservation and co-operating on research projects. In Morocco the Intercontinental Biosphere Reserve includes the Talassemtane National Park, as well as Lagune de Smir, Koudiet Taifour, Jbel Moussa and Jbel Bouhachem. Oasis Du Sud Marocain Biosphere Reserve:\n",
      "This essential biosphere reserve focuses on fighting the battle against desertification and maintaining the many oases that entire communities rely upon. This includes research and education with regard to the correct use of water systems and ecosystems and the promotion of agriculture. Visitors can expect to see numerous breath-taking landscapes and unique habitats within the boundaries of the reserve. Oued Massa Nature Reserve:\n",
      "This bird-watcher’s paradise, which is located near Agadir, features a variety of habitats that are home to an incredible number of bird species. Visitors who take time to explore this beautiful nature reserve will also enjoy seeing a wide variety of plants and animals. Souss Masa National Park:\n",
      "The diverse terrain of this national park includes seemingly endless clean sandy beaches, cultivated fields, sand dunes, rocky cliffs and Argania forests, which support a wide variety of animal and bird life, including the endangered Northern Bald Ibis. Animals that visitors can look out for include the Algerian Hedgehog, Jackals, Weasels, Red Fox and a range of fascinating amphibians and reptiles. Tazekka National Park:\n",
      "Located in the Middle Atlas Mountain Range, the park is a superb example of what conservation efforts can achieve. Initially created with the goal of protecting a grove of cedar trees in the Jbel Tazekka area, the park has been extended to include areas with caves, canyons, rural landscapes, cork oak and holm oak forests and the majestic Jbel Tazekka Mountain. The varied terrain supports a host of animals and birds with many hiking trails for visitors to explore. Merdja Zerga Biological Reserve:\n",
      "Meaning “Blue Lagoon”, this tidal lagoon near the coastal town of Moullay Bousselham is home to thousands of wildfowl, waders and flamingos as well as playing host to migrating birds. Birding enthusiasts may have the good fortune to see the rare African Marsh Owl. Toubkal National Park:\n",
      "Incorporating the magnificent Jbel Toubkal Mountain, this national park situated near Marrakech offers adventurers a variety of hiking trails along which to enjoy a wide variety of flora and fauna. Local communities live in the same manner as their ancestors before them, unaffected by progress in the outside world. Talassemtane National Park:\n",
      "Located in the Rif are of Northern Morocco, this park incorporates and aims to conserve the last of Morocco’s fir forests. El Houceima National Park:\n",
      "Incorporating some of Morocco’s virtually untouched coastal and marine habitats, the park is home to one of the Mediterranean’s few remaining colonies of Osprey. Ifrane National Park: \n",
      "Located in the heart of the mighty Middle Atlas Mountains, the reserve incorporates the largest Atlas cedar forest which is home to a thriving population of the Barbary ape – the only primate that is indigenous to the Mediterranean. Birds 210 Species of Birds – including woodpecker, flamingo, spoonbills, storks, ducks, waders and coots – and eleven other threatened species can be found in Moroccan national parks and reserves. Mammals Wildlife areas in the country feature 105 Species of mammal, including golden jackal, red fox, leopard and 18 other threatened species. Wetland Wildlife Neighboring the Moulay Bousselham lagoon is a large wetland area that was recently given protected wildlife status. The area is known as Merdja Zerga. This open, unproductive space is used for grazing by wandering herds of sheep, cattle and goats. Around the margin are lines of dwarf palm and the giant succulent agave. This variety of habitat combines with the huge size of the site to ensure satisfying bird watching all year round. There are large numbers of waders, including a large colony of flamingoes, plus little ringed plovers, black-winged stilts and black tailed godwits. Cedar Forest Wildlife The cedar forest that lies to the south of Azrou is a unique habitat in Morocco; it has a luxuriant atmosphere and is surrounded by the Middle Atlas range. The cedar forest shelters many troupes of Barbary apes which are one of the wildlife highlights in Morocco. They can usually be found feeding along the forest margins though they are shy animals and any excessive intrusion will send them directly to the very top of the branches of the cedar forest. High Atlas Wildlife The High Atlas has unique fauna and flora that is accessible to even the most unenthusiastic hiker. If you base yourself at Oukaimeden, Imlil or Ouirgane, climbing these mountains is not as difficult. The butterflies that brave these heights include the Moroccan Copper and Desert Orange Tip. Other inhabitants range from the almost invisible praying mantis to the scampering ground squirrel and the rare elephant shrew.\n"
     ]
    },
    {
     "name": "stderr",
     "output_type": "stream",
     "text": [
      "C:\\Users\\pc\\AppData\\Local\\Temp\\ipykernel_3448\\2046694512.py:35: FutureWarning: The frame.append method is deprecated and will be removed from pandas in a future version. Use pandas.concat instead.\n",
      "  df = df.append({\n",
      "C:\\Users\\pc\\AppData\\Local\\Temp\\ipykernel_3448\\2046694512.py:7: DeprecationWarning: executable_path has been deprecated, please pass in a Service object\n",
      "  driver = webdriver.Chrome(chrome_driver_path)\n"
     ]
    },
    {
     "name": "stdout",
     "output_type": "stream",
     "text": [
      "Moroccan Palaces – Historic Architecture\n",
      "Morocco is a fascinating country with an ancient and colorful history which has left its mark in the form of architectural treasures in many towns and cities. Superb examples of historic architecture can be found in the many palaces scattered throughout Morocco. Visitors to the Tetouan medina will come across the 17th century Khalifa Palace, which was built during the reign of Moulay Ismael, a member of the Alaouite Dynasty. The Khalifa Palace is designed along the Hispano-Moorish architectural style based on 15th century Moorish buildings in the Iberian Peninsula. The palace was renovated in 1948, serving as the residence of his Majesty’s representative when Morocco was a protectorate, and today it is a popular tourist attraction not to be missed when visiting Tetouan. The Raissouni Palace in Asilah, on the northwest tip of Morocco, was built by the pirate Pasha Raissouni, serving as a base for pirates in the 19th and 20th century. By definition pirates were outlaws, feared by sailors as they made their way through the open ocean with ships laden with cargo. When visiting the Raissouni Palace it is evident that Pasha Raissouni was a master of his chosen trade. Morocco certainly has plenty to offer travelers who take time to explore all its historical, cultural and natural treasures. Visiting some of the palaces in Morocco will give visitors a glimpse of the past that will enrich their Moroccan experience.\n"
     ]
    },
    {
     "name": "stderr",
     "output_type": "stream",
     "text": [
      "C:\\Users\\pc\\AppData\\Local\\Temp\\ipykernel_3448\\2046694512.py:35: FutureWarning: The frame.append method is deprecated and will be removed from pandas in a future version. Use pandas.concat instead.\n",
      "  df = df.append({\n",
      "C:\\Users\\pc\\AppData\\Local\\Temp\\ipykernel_3448\\2046694512.py:7: DeprecationWarning: executable_path has been deprecated, please pass in a Service object\n",
      "  driver = webdriver.Chrome(chrome_driver_path)\n"
     ]
    },
    {
     "name": "stdout",
     "output_type": "stream",
     "text": [
      "Theater – Culture and Performing Arts Galore\n",
      "Theater in Morocco was established through the determination and passion for theater that lived in the hearts of men like Marun Al Naqquash, Sheikh Abou Khalil Qabbani and Ya'coub Sannu (also referred to as Abou Naddara). These men fought against opposing authorities and criticism to bring a form of art to life that had not yet been experienced in countries such as Morocco. Their example paved the way for theater in Morocco, which is today deeply rooted in the culture of the country. Marun Al Naqqash started his journey to bring theater to the Arab world in 1848, when he performed in his home, entertaining his audience with a production that was molded on a play named ‘Moliere’s L’Avare’. Sheik Abou Khalil Qabbani also tried to establish theater as a form of entertainment, but the authorities in Istanbul eventually closed down his operation. Abou Naddara had traveled to Europe and brought his love for the theater home to Egypt. He wasted no time in establishing a theater company in the hope of bringing theater to the country. Naddara saw theater as a vehicle to educate and express views. His scores, which implicated the government, caught the attention of the authorities who forced him to abandon his theater after two years. These efforts were noticed by many around the world and it did not take countries such as Morocco, Tunisia and Algeria long to establish their own theaters. Shadow Theaters were becoming very popular in Morocco. This form of theater involved a narrator telling the story with accompanying music to evoke emotions. The influence of the Western form of theater only started reaching Morocco many years after the efforts made by Naqqash and Quabbani. Traditionally, theater in Morocco was performed in open air theaters, but slowly progressed with the opening of theatre buildings. Reworked translations of Shakespeare and others started to reach the Moroccan stage, which was believed to have created a more sophisticated audience. Theaters in Morocco still present the classic reworked productions of love, tragedy, triumph and drama. More recent productions also include unique Moroccan Theater plays that are filled with tradition and culture. Moroccan theater is an unforgettable experience, with the stories recalling the legends of the past and creating a wonderful display of talent, color and entertainment. Be sure to visit these amazing theaters in Morocco. The Alliance Franco-Marocaine Theater:\n",
      "Located within the Municipal Theater Complex of Agadir, the Alliance Franco-Marocaine Theater offers a wide range of productions with French flair to entertain the local public as well as tourists. Shows change continuously to ensure that there is always something new and fresh for audiences to enjoy. The theater also hosts workshops, lectures and films.\n",
      "Address: Municipal Theater Complex, Agadir Amazigh Theater Festival:\n",
      "The charming city of Casablanca hosts the Amazigh Theater Festival which is held in May each year. Focusing on the Amazigh (Berber) people and language, the festival features a wide variety of performances highlighting traditional theatrical principles, including mime, masks and puppetry. Gran Teatro de Cervantes:\n",
      "Named in honor of the renowned 16th century novelist, playwright and poet, Miguel Cervantes, this quaint theater which opened in 1913 but has been somewhat neglected, is currently being restored. Although there are no theater productions being staged at the moment, the building is nonetheless fascinating and worth having a look at.\n",
      "Located in Tangier Marrakech Popular Arts Festival:\n",
      "Every year, either in June or July, the vibrant city of Marrakech hosts the Marrakech Popular Arts Festival, which attracts entertainers, artists and spectators from far and wide. Visitors can expect to see singers, snake charmers, fortune-tellers, dancers, acrobats, musicians, theater performers and more at this lively, colorful festival Municipal Theater Complex in Agadir:\n",
      "As the cultural center of the region, the Municipal Theater Complex in Agadir consists of a number of theaters and exhibition areas which are dedicated to entertaining and educating young and old, local and visitor with regard to the history and culture of Morocco. The Folk Art Museum which is housed in this complex also provides fascinating insight into the past and present of this exotic country.\n"
     ]
    },
    {
     "name": "stderr",
     "output_type": "stream",
     "text": [
      "C:\\Users\\pc\\AppData\\Local\\Temp\\ipykernel_3448\\2046694512.py:35: FutureWarning: The frame.append method is deprecated and will be removed from pandas in a future version. Use pandas.concat instead.\n",
      "  df = df.append({\n",
      "C:\\Users\\pc\\AppData\\Local\\Temp\\ipykernel_3448\\2046694512.py:7: DeprecationWarning: executable_path has been deprecated, please pass in a Service object\n",
      "  driver = webdriver.Chrome(chrome_driver_path)\n"
     ]
    },
    {
     "name": "stdout",
     "output_type": "stream",
     "text": [
      "Wildlife – Discover the Barbary Macaque or the Camels of Morocco\n",
      "The wildlife in Morocco has been under attack from humans for many years.\n",
      "Deforestation for pastures and agricultural use, pollution of the water sources in Morocco\n",
      "and overgrazing by livestock, have each played a role in the decrease of wildlife species in Morocco.\n",
      "Currently, there are eighteen mammal species that are on the brink of extinction and\n",
      "the survival of eleven bird species\n",
      "hangs in the balance. The tireless work that is being done by national parks, forest reserves and\n",
      "biological reserves is giving theses species a chance to increase in numbers and are also the best\n",
      "places to catch a glimpse of the exotic and spectacular wildlife in Morocco. Many marshlands have been drained over the years for use as cultivated land, which has led to\n",
      "the dramatic decline in Purple Heron, White-Headed Duck, Crested Coot and Marble Duck numbers.\n",
      "The destruction of land and plant species has seen approximately 182 plant species being added\n",
      "to the endangered list. Endangered wildlife species in Morocco include the Barbary Leopard,\n",
      "Waldrapp, Mediterranean Monk Seal, Barbary Hyena, Cuviers Gazelle and the Spanish Imperial Eagle.\n",
      "The Sahara Oryx and the Bulal Hartebeest have already become extinct. Fortunately, there is a\n",
      "large variety of wildlife species in Morocco that await the nature enthusiasts. The Souss Massa Biological Reserve\n",
      "and the Toubkal Biological reserve are known for their large number of bird species and it is\n",
      "estimated that there are more than 200 different species. Visitors can look forward to seeing\n",
      "Waders, Woodpeckers, Spoonbills, Flamingos and a few of the bird species that are on the endangered list.\n",
      "Egyptian Cobras, Golden Jackals, Red Foxes and Leopards are also found in theses reserves. For a\n",
      "rare viewing of Barbary Monkeys, guests should visit the Cedar Forest Wildlife Reserve. The High\n",
      "Atlas region of Morocco has a wonderful variety of elephants, squirrels and colorful butterflies. Along the desert coast of Morocco, visitors will find Ground Squirrels, Black-Headed Bush Shrikes,\n",
      "Moussier’s Redstarts, Wild Boars, Tiger Blues, Gulls, Ducks, Barbary Falcons, Eagles, Lizards and a\n",
      "multitude of other species. Some of the most breathtaking flowers of Morocco are also found in this region. Visitors will be able to lose themselves in the great number of different wildlife and bird species in Morocco\n",
      "and will also see why authorities are working so hard to protect the remaining species. The varied landscape\n",
      "of Morocco is home to a spectacular and breathtaking range of wildlife that has become the focal point of conservation.\n"
     ]
    },
    {
     "name": "stderr",
     "output_type": "stream",
     "text": [
      "C:\\Users\\pc\\AppData\\Local\\Temp\\ipykernel_3448\\2046694512.py:35: FutureWarning: The frame.append method is deprecated and will be removed from pandas in a future version. Use pandas.concat instead.\n",
      "  df = df.append({\n"
     ]
    }
   ],
   "source": [
    "from selenium import webdriver\n",
    "from bs4 import BeautifulSoup\n",
    "from time import sleep\n",
    "\n",
    "for link in urls_attractions:\n",
    "    chrome_driver_path = \"C:\\\\Users\\\\pc\\\\OneDrive\\\\Documents\\\\chromedriver-win64\\\\chromedriver.exe\"\n",
    "    driver = webdriver.Chrome(chrome_driver_path)\n",
    "    driver.get(link)\n",
    "    sleep(5)  # Add a pause to ensure content loads properly\n",
    "\n",
    "    # Retrieve the content of the page with BeautifulSoup\n",
    "    src = driver.page_source\n",
    "    soup = BeautifulSoup(src, 'html.parser')\n",
    "    \n",
    "    # Get the title\n",
    "    title = soup.find('h1', class_='page-title').get_text()\n",
    "    print(title)\n",
    "    \n",
    "    # Get the excerpt paragraphs\n",
    "    paragraphs = soup.find('div', class_='excerpt')\n",
    "    excerpt_text = paragraphs.get_text().strip() if paragraphs else \"\"\n",
    "    #print(excerpt_text)\n",
    "    \n",
    "    # Get the content paragraphs\n",
    "    content_div = soup.find('div', class_='content-text')\n",
    "    paragraphs = content_div.find_all('p') if content_div else []\n",
    "    filtered_paragraphs = [p for p in paragraphs if 'back-to-category' not in p.get('class', [])]\n",
    "    \n",
    "    # Join the text from the filtered p tags\n",
    "    joined_text = ' '.join(p.get_text() for p in filtered_paragraphs)\n",
    "    \n",
    "    # Concatenate the excerpt text with the joined paragraphs text\n",
    "    combined_text = excerpt_text + ' ' + joined_text\n",
    "    print(combined_text)\n",
    "    df = df.append({\n",
    "            'Prompt':title,\n",
    "            'Response':combined_text\n",
    "        }, ignore_index=True)\n",
    "    # Close the browser after processing each link\n",
    "    driver.quit()\n"
   ]
  },
  {
   "cell_type": "code",
   "execution_count": 16,
   "id": "b726049e",
   "metadata": {},
   "outputs": [
    {
     "data": {
      "text/html": [
       "<div>\n",
       "<style scoped>\n",
       "    .dataframe tbody tr th:only-of-type {\n",
       "        vertical-align: middle;\n",
       "    }\n",
       "\n",
       "    .dataframe tbody tr th {\n",
       "        vertical-align: top;\n",
       "    }\n",
       "\n",
       "    .dataframe thead th {\n",
       "        text-align: right;\n",
       "    }\n",
       "</style>\n",
       "<table border=\"1\" class=\"dataframe\">\n",
       "  <thead>\n",
       "    <tr style=\"text-align: right;\">\n",
       "      <th></th>\n",
       "      <th>Prompt</th>\n",
       "      <th>Response</th>\n",
       "    </tr>\n",
       "  </thead>\n",
       "  <tbody>\n",
       "    <tr>\n",
       "      <th>0</th>\n",
       "      <td>Travel to Agadir in Morocco</td>\n",
       "      <td>Agadir is Southern Morocco's most visited city...</td>\n",
       "    </tr>\n",
       "    <tr>\n",
       "      <th>1</th>\n",
       "      <td>Accommodation</td>\n",
       "      <td>There are plenty of hotels to choose from in M...</td>\n",
       "    </tr>\n",
       "    <tr>\n",
       "      <th>2</th>\n",
       "      <td>Beaches</td>\n",
       "      <td>The lack of monuments, museums and interesting...</td>\n",
       "    </tr>\n",
       "    <tr>\n",
       "      <th>3</th>\n",
       "      <td>Things to See &amp; Do</td>\n",
       "      <td>The Valley of the Birds (daily from 09:30-12:3...</td>\n",
       "    </tr>\n",
       "    <tr>\n",
       "      <th>4</th>\n",
       "      <td>Cuisine &amp; Nightlife</td>\n",
       "      <td>Besides what the large hotels have, there’s no...</td>\n",
       "    </tr>\n",
       "    <tr>\n",
       "      <th>...</th>\n",
       "      <td>...</td>\n",
       "      <td>...</td>\n",
       "    </tr>\n",
       "    <tr>\n",
       "      <th>85</th>\n",
       "      <td>Fascinating Museums like the Marrakech Museum ...</td>\n",
       "      <td>Feast your culture cravings on Morocco's wide ...</td>\n",
       "    </tr>\n",
       "    <tr>\n",
       "      <th>86</th>\n",
       "      <td>National Parks and Reserves of Morocco</td>\n",
       "      <td>Visit one of the National Parks shown below to...</td>\n",
       "    </tr>\n",
       "    <tr>\n",
       "      <th>87</th>\n",
       "      <td>Moroccan Palaces – Historic Architecture</td>\n",
       "      <td>Morocco is a fascinating country with an ancie...</td>\n",
       "    </tr>\n",
       "    <tr>\n",
       "      <th>88</th>\n",
       "      <td>Theater – Culture and Performing Arts Galore</td>\n",
       "      <td>Theater in Morocco was established through the...</td>\n",
       "    </tr>\n",
       "    <tr>\n",
       "      <th>89</th>\n",
       "      <td>Wildlife – Discover the Barbary Macaque or the...</td>\n",
       "      <td>The wildlife in Morocco has been under attack ...</td>\n",
       "    </tr>\n",
       "  </tbody>\n",
       "</table>\n",
       "<p>90 rows × 2 columns</p>\n",
       "</div>"
      ],
      "text/plain": [
       "                                               Prompt  \\\n",
       "0                         Travel to Agadir in Morocco   \n",
       "1                                       Accommodation   \n",
       "2                                             Beaches   \n",
       "3                                  Things to See & Do   \n",
       "4                                 Cuisine & Nightlife   \n",
       "..                                                ...   \n",
       "85  Fascinating Museums like the Marrakech Museum ...   \n",
       "86             National Parks and Reserves of Morocco   \n",
       "87           Moroccan Palaces – Historic Architecture   \n",
       "88       Theater – Culture and Performing Arts Galore   \n",
       "89  Wildlife – Discover the Barbary Macaque or the...   \n",
       "\n",
       "                                             Response  \n",
       "0   Agadir is Southern Morocco's most visited city...  \n",
       "1   There are plenty of hotels to choose from in M...  \n",
       "2   The lack of monuments, museums and interesting...  \n",
       "3   The Valley of the Birds (daily from 09:30-12:3...  \n",
       "4   Besides what the large hotels have, there’s no...  \n",
       "..                                                ...  \n",
       "85  Feast your culture cravings on Morocco's wide ...  \n",
       "86  Visit one of the National Parks shown below to...  \n",
       "87  Morocco is a fascinating country with an ancie...  \n",
       "88  Theater in Morocco was established through the...  \n",
       "89  The wildlife in Morocco has been under attack ...  \n",
       "\n",
       "[90 rows x 2 columns]"
      ]
     },
     "execution_count": 16,
     "metadata": {},
     "output_type": "execute_result"
    }
   ],
   "source": [
    "df"
   ]
  },
  {
   "cell_type": "code",
   "execution_count": 17,
   "id": "ffbf11f4",
   "metadata": {},
   "outputs": [],
   "source": [
    "urls_art_galleries = [\n",
    "    \"https://www.morocco.com/attractions/art-galleries/afalkay-art/\",\n",
    "    \"https://www.morocco.com/attractions/art-galleries/espace-othello/\",\n",
    "    \"https://www.morocco.com/attractions/art-galleries/frederic-damgaard/\",\n",
    "    \"https://www.morocco.com/attractions/art-galleries/lawrence-arnott/\",\n",
    "    \"https://www.morocco.com/attractions/art-galleries/matisse/\",\n",
    "    \"https://www.morocco.com/attractions/art-galleries/qoubba/\"\n",
    "]\n"
   ]
  },
  {
   "cell_type": "code",
   "execution_count": 18,
   "id": "b23c2cf1",
   "metadata": {},
   "outputs": [
    {
     "name": "stderr",
     "output_type": "stream",
     "text": [
      "C:\\Users\\pc\\AppData\\Local\\Temp\\ipykernel_3448\\2313717961.py:7: DeprecationWarning: executable_path has been deprecated, please pass in a Service object\n",
      "  driver = webdriver.Chrome(chrome_driver_path)\n"
     ]
    },
    {
     "name": "stdout",
     "output_type": "stream",
     "text": [
      "Afalkay Gallery – Home to Woodcarved Treasures\n",
      "Most people who wish to spend time visiting art galleries in Morocco will tend to focus on galleries that display fine art or graphics. Most of the main galleries will have at least a small section dedicated to the art of wood carving, but few are dedicated solely to this intricate, traditional form of art. The Afalkay Art Gallery in Essaouira is one of the top galleries to visit if you wish to spend time examining this ever-beautiful form of art. Most of the carved wood items in Morocco are made of ‘thuya wood’ (Tetraclinis articulate). This unusual wood comes from a coniferous tree that grows on the western foothills of the Atlas Mountains. The wood is ‘harvested’ by removing outgrowths on the roots of thuya trees which means that the entire tree does not have to be cut down in order to be used. The resulting burled grain is a delight to look at and is something that is exclusive to northern Africa. This beautiful wood is used to craft a delightful range of wooden gifts such as jewelry boxes or treasure chests. You can also purchase small sculptures from this wood, but these are somewhat more unusual since most craft-styled arts in Morocco have a practical aspect to them. Once the item is created, the craftsman will usually rub lemon juice and vegetable oil into the wood for hours to reveal and highlight the wood’s natural grain. So, if you’d like to purchase a truly unique and special treat for a loved one back home, the Afalkay Art Gallery may not be a bad place to start. You’ll find it at 9 Place Prince Moulay el Hassan in Essaouira and it is open during regular business hours.\n"
     ]
    },
    {
     "name": "stderr",
     "output_type": "stream",
     "text": [
      "C:\\Users\\pc\\AppData\\Local\\Temp\\ipykernel_3448\\2313717961.py:35: FutureWarning: The frame.append method is deprecated and will be removed from pandas in a future version. Use pandas.concat instead.\n",
      "  df = df.append({\n",
      "C:\\Users\\pc\\AppData\\Local\\Temp\\ipykernel_3448\\2313717961.py:7: DeprecationWarning: executable_path has been deprecated, please pass in a Service object\n",
      "  driver = webdriver.Chrome(chrome_driver_path)\n"
     ]
    },
    {
     "name": "stdout",
     "output_type": "stream",
     "text": [
      "Espace Othello Gallery – Expression of Emotion in an Artistic Mecca\n",
      "Art lovers should always spend at least a little time exploring the art galleries of whatever country they visit. Art can be an insightful way to examine the culture and influences of a country, but it is also a creative expression of emotion and thought. In this way art is universal – it exceeds language boundaries and communicates thought, feelings and intentions to viewers and art lovers regardless of their background. If you plan to spend time in Essaouira, you simply have to visit the Espace Othello Gallery. This great art gallery is a fascinating place to go if you are interested in viewing works by up and coming artists. Over the years, Essaouira has become somewhat of an artistic mecca. It started off gaining reputation as a little ‘blue and white’ town on the Atlantic coast of Morocco, but soon become a major trading post which led to a variety of people settling in the area. In 1949, Orson Welles made use of an old Portuguese trading post and fortress for his film ‘Othello’ which helped to put Essaouira in the spotlight even more. During the 60s and 70s Essaouira became the perfect place for musicians and artists to establish themselves in amidst a cosmopolitan mixture of people who had seen much of the globe and were perhaps more accepting than people where in other parts of the country. Today Essaouira continues to enjoy a rich musical and artistic legacy and the Espace Othello Gallery in Morocco creatively reflects the artistic past and present of the city in an enjoyable way. You’ll find the Espace Othello International Gallery at 9 Rue Mohammed Layachi which is situated just behind the Sahara Hotel. The gallery was opened in 1993 and mainly showcases the work of up-and-coming artists. It displays both paintings and sculptures and is the perfect place to go if you are looking for something unique and full of meaning. Artworks can be incredibly varied in terms of interpretation and artistic style, so if you are looking to make a purchase it might be best to have a good idea of what sort of work you would most like to buy before visiting the gallery. The gallery is open daily between 9:00 and 13:00, and 15:00 and 20:00 daily.\n"
     ]
    },
    {
     "name": "stderr",
     "output_type": "stream",
     "text": [
      "C:\\Users\\pc\\AppData\\Local\\Temp\\ipykernel_3448\\2313717961.py:35: FutureWarning: The frame.append method is deprecated and will be removed from pandas in a future version. Use pandas.concat instead.\n",
      "  df = df.append({\n",
      "C:\\Users\\pc\\AppData\\Local\\Temp\\ipykernel_3448\\2313717961.py:7: DeprecationWarning: executable_path has been deprecated, please pass in a Service object\n",
      "  driver = webdriver.Chrome(chrome_driver_path)\n"
     ]
    },
    {
     "name": "stdout",
     "output_type": "stream",
     "text": [
      "Galerie de Art Frederic Damgaard – Modern Art using Traditional Thuja Techniques\n",
      "Art is so varied from one artist to the next that people often find themselves asking ‘is it art?’ In the broadest meaning of the word, art can be defined as being the expression of creativity and imagination. However, art is often most valued when the skill needed to produce an artwork is particularly difficult – for otherwise anyone could produce art and art would lose its value in the eyes of mankind. Art may be modern, neo-classical or pop-like. It may reflect current trends, the work of past masters, or display a unique sense of style that is new to the world. Artists can express themselves through virtually any medium and they may choose to rework old mediums or to explore the world in search of new mediums. Essaouira wasn’t always the artistic center it is today. It started life as a small coastal town and grew into a massive trading port long before it became an artistic meeting place. During the 60s and 70s Essaouira became a place where artists knew they could freely meet and express themselves and their world would be embraced by art enthusiasts. In a country such as Morocco where centuries of customs may dictate ‘the norm’ and prevent it from changing, such freedom was embraced and welcomed. Today this trend continues in the many art galleries that can be found around Essaouira. One of these is the Galerie d’ Art Frederic Damgaard. This bright and colorful gallery was opened by M. Frederic Damgaard some years ago and it has been a hit with artists, locals and visitors ever since. M. Frederic Damgaard first arrived at Essaouira more than thirty years ago during the 60s when Essaouira was considered to be a great place to ‘hang out’ and ‘get stoned’. When everyone else left, Damgaard stayed on and went on to open an art gallery. He chose a voluminous house near the entrance of the city to establish himself in and he has become known for using traditional thuja techniques and an unusual, modern and imaginative way. He displays the works of local painters and wood sculptors in his gallery and seems to decorate the gallery in his own unique and inspiring way. Even if you are unlikely to purchase any art whilst in Morocco, a visit to this wonderfully colorful and imaginative gallery is a must. It mentally transports you to a whimsical world full of color and hope and it has been inspired by the souks and cafes of Essaouira. It makes for the perfect introduction to the city and should not be missed. You’ll find the Galerie d’ Art Frederic Damgaard in Morocco on Av Ogba Ibn Nafia and it is open daily between 10:00 and 13:00 and 15:00 and 19:00.\n"
     ]
    },
    {
     "name": "stderr",
     "output_type": "stream",
     "text": [
      "C:\\Users\\pc\\AppData\\Local\\Temp\\ipykernel_3448\\2313717961.py:35: FutureWarning: The frame.append method is deprecated and will be removed from pandas in a future version. Use pandas.concat instead.\n",
      "  df = df.append({\n",
      "C:\\Users\\pc\\AppData\\Local\\Temp\\ipykernel_3448\\2313717961.py:7: DeprecationWarning: executable_path has been deprecated, please pass in a Service object\n",
      "  driver = webdriver.Chrome(chrome_driver_path)\n"
     ]
    },
    {
     "name": "stdout",
     "output_type": "stream",
     "text": [
      "Lawrence-Arnott Art Gallery – Connoisseurs of Exceptional Moroccan Art\n",
      "Whether you are interested in purchasing a piece of fine Moroccan art or simply want a good look at some exquisite art works, the Lawrence-Arnott Art Gallery is for you. John Lawrence and Philip Arnott, the directors of the art gallery, have firmly established themselves as connoisseurs of exceptional Moroccan art. Since 1975 they have gained a fine reputation for promoting Moroccan art as well as developing the market for this country’s art. They have also been involved in several charity events. The Tangier Lawrence-Arnott Art Gallery was established in 1991 by Philip Arnott and John Lawrence, who are actually representatives of Bonhams in North Africa. The London-based auction house of Bonhams is the largest and also the oldest auctioneer dealing in antiques and fine art. Bonhams is known throughout the world and is involved in the collection, fine art and antiques markets worldwide. Since its establishment, the Tangier Lawrence-Arnott Art Gallery has seen some of the most intriguing art works by local and international artists including Mohamed Hamri, Colin Watson, Robert Heindel, Stacey Elko, Jerry Browning, Jacques Gatti, Jean-Pierre Favre and Katie Gabet. An additional Lawrence-Arnott Art Gallery was opened in Marrakech on 11 June 2007. The layout of this fine gallery was designed by the connoisseurs themselves. Much like the gallery in Tangier, the Lawrence-Arnott Art Gallery in Marrakech was set up with the aim of having a cultural and social effect on the city by representing new artists and displaying their art works for all to see. These two exceptional men have been instrumental in developing new talent amongst young Moroccan artists as well as bringing the works of international artists to Morocco. As previously mentioned, the Lawrence-Arnott Art Gallery has hosted a number of exhibits for renowned artists. Recently a retrospective of Mohamed Hamri’s works was hosted by the Tangier gallery. Mohamed Hamri (1932 – 2000) was a renowned Moroccan author and painter. Artist Ahmed Said Kadiri took part in a major display at the Tangier gallery of Lawrence-Arnott in 2003. Mohammed Mrabet exhibited here in August of 2006. In 2005, Houda Khalladi’s works were displayed at the gallery. Her works contain elements of realism and surrealism. Stacy Elko participated in a collective exhibition with Lawrence-Arnott Art Gallery in Tangier in May 2003.\n"
     ]
    },
    {
     "name": "stderr",
     "output_type": "stream",
     "text": [
      "C:\\Users\\pc\\AppData\\Local\\Temp\\ipykernel_3448\\2313717961.py:35: FutureWarning: The frame.append method is deprecated and will be removed from pandas in a future version. Use pandas.concat instead.\n",
      "  df = df.append({\n",
      "C:\\Users\\pc\\AppData\\Local\\Temp\\ipykernel_3448\\2313717961.py:7: DeprecationWarning: executable_path has been deprecated, please pass in a Service object\n",
      "  driver = webdriver.Chrome(chrome_driver_path)\n"
     ]
    },
    {
     "name": "stdout",
     "output_type": "stream",
     "text": [
      "Matisse Art Gallery – A Variety of Exhibitions of Top Moroccan Artists\n",
      "Any lover of art should spend at least a little time visiting the many art galleries in Morocco if they plan to spend some time in the country. These galleries can prove to be an oasis of tranquility and beauty in a busy market area filled with bartering, rugs and livestock. The art market of Morocco is still relatively young, having only really started coming into its own in the last few years. In fact, it was only really after the Matisse Art Gallery was launched in 1999 that many local artists started to gain the recognition that they have long deserved. The art gallery is named for artist Henri Matisse and is one of many art galleries around the world to bear his name. Henri Matisse is probably one of the best known artists to arise in the twentieth century. This incredibly skilled French artist was not only an artist, but also a draughtsman and printmaker. While he gained recognition for all of his art, it was his work as a painter that really gave him the fame and fortune he deserved. Matisse was noted mainly for his brilliant use of color and his original and brilliant draughtsmanship. Hence, he is the perfect representative for a number of top art galleries around the world which display the work of up-and-coming artists from a variety of different artistic fields. The Matisse Art Gallery in Morocco was launched by Nabil El Mellouki and Youssef Falaki in 1999 in collaboration with other Matisse Art Galleries across the globe. Since the opening of this gallery in Marrakech, the local art market has started blossoming. Local artists have been able to fully express themselves and to enjoy an atmosphere wherein such freedom of expression and development of the arts is encouraged. Today the gallery regularly hosts a variety of exhibitions by some of the top artists in the country, including Nourredine Chater, Mohamed Melehi and Hassan El Glaoui. Artists may be young or new to the scene or well established in the industry. The Matisse Art Gallery is open daily though opening hours may vary according to what exhibitions are currently being held at the gallery. So make a stop at the Matisse Art Gallery in Morocco and enjoy this oasis of art and culture.\n"
     ]
    },
    {
     "name": "stderr",
     "output_type": "stream",
     "text": [
      "C:\\Users\\pc\\AppData\\Local\\Temp\\ipykernel_3448\\2313717961.py:35: FutureWarning: The frame.append method is deprecated and will be removed from pandas in a future version. Use pandas.concat instead.\n",
      "  df = df.append({\n",
      "C:\\Users\\pc\\AppData\\Local\\Temp\\ipykernel_3448\\2313717961.py:7: DeprecationWarning: executable_path has been deprecated, please pass in a Service object\n",
      "  driver = webdriver.Chrome(chrome_driver_path)\n"
     ]
    },
    {
     "name": "stdout",
     "output_type": "stream",
     "text": [
      "Qoubba Art Gallery – Cultural Art Exhibits near the Museum of Marrakech\n",
      "Located in the beautiful, vibrant city of Marrakech in Morocco is the exceptional Qoubba Art Gallery. Art enthusiasts and those looking to explore the rich cultural wonders of Morocco will have a wonderful time exploring the Qoubba Art Gallery, which offers both a fascinating permanent exhibition as well as various temporary exhibitions. The Qoubba Art Gallery is situated at 91 Souk Talaa, near the Museum of Marrakech. The art gallery’s shop can be found at 115 Souk El Hanna in the Marrakech Medina. The art gallery itself is perfectly situated in the center of historical Marrakech. Marrakech is known fondly as the “Pearl of the South” and “Red Town”, providing the ideal setting for an art gallery filled with enlightening art works. Here, the sheer majesty of Marrakech is blended with the amazing skill of the artists. Indeed, those who visit Qoubba Art Gallery will discover some of the most amazing Moroccan art. From the architectural wonders outside, to the inspiring art works inside, this is a real journey for the senses. The Qoubba Art Gallery was established by Luciano Natali and Abdellatif El Karti beside the stunning dome of qoubba. Interestingly, the dome is the last remaining evidence of original Almoravid art in the city of Marrakech. Qoubba Art Gallery’s permanent exhibition features a wide variety of local and international artists. The featured artists include Moulay Youssef El Kahfai (National School of Beautiful Arts graduate), Iqbi Abderrahim, Koureur Nourdine, Nouiri Mohammed (School of Beautiful Arts graduate), Nyami Morabit Driss (School of Beautiful Arts graduate), El Hamidi Rahal (an international painter), Meryem Belhaj (School of Beautiful Arts graduate), Chrak Hamdi (graphic arts graduate), Ben Moussa Fatiha, Jebrane Moulay Driss (School of Beautiful Arts of Tetouan graduate), Ait Amghar L’Houssaine, Akh El Arb Abdelkarim, Zaubair Hallal (School of Beautiful Arts Graduate), Achibane Brahim, Maurafiq Mohamed, Badauini Said, Maudlib Abdessadek, Moulay Larbi Cherkaoui (painter-calligrapher). Aside from the stunning paintings permanently on exhibition at the Qoubba Art Gallery, various temporary exhibitions are held. These may feature the works of a single artist or may encompass art created by a variety of talented individuals. If you are interested in finding out more about the Qoubba Art Gallery, you can visit their website or email them on laqoubba@iam.net.ma. You won’t want to miss this visual journey in Marrakech.\n"
     ]
    },
    {
     "name": "stderr",
     "output_type": "stream",
     "text": [
      "C:\\Users\\pc\\AppData\\Local\\Temp\\ipykernel_3448\\2313717961.py:35: FutureWarning: The frame.append method is deprecated and will be removed from pandas in a future version. Use pandas.concat instead.\n",
      "  df = df.append({\n"
     ]
    }
   ],
   "source": [
    "from selenium import webdriver\n",
    "from bs4 import BeautifulSoup\n",
    "from time import sleep\n",
    "\n",
    "for link in urls_art_galleries:\n",
    "    chrome_driver_path = \"C:\\\\Users\\\\pc\\\\OneDrive\\\\Documents\\\\chromedriver-win64\\\\chromedriver.exe\"\n",
    "    driver = webdriver.Chrome(chrome_driver_path)\n",
    "    driver.get(link)\n",
    "    sleep(5)  # Add a pause to ensure content loads properly\n",
    "\n",
    "    # Retrieve the content of the page with BeautifulSoup\n",
    "    src = driver.page_source\n",
    "    soup = BeautifulSoup(src, 'html.parser')\n",
    "    \n",
    "    # Get the title\n",
    "    title = soup.find('h1', class_='page-title').get_text()\n",
    "    print(title)\n",
    "    \n",
    "    # Get the excerpt paragraphs\n",
    "    paragraphs = soup.find('div', class_='excerpt')\n",
    "    excerpt_text = paragraphs.get_text().strip() if paragraphs else \"\"\n",
    "    #print(excerpt_text)\n",
    "    \n",
    "    # Get the content paragraphs\n",
    "    content_div = soup.find('div', class_='content-text')\n",
    "    paragraphs = content_div.find_all('p') if content_div else []\n",
    "    filtered_paragraphs = [p for p in paragraphs if 'back-to-category' not in p.get('class', [])]\n",
    "    \n",
    "    # Join the text from the filtered p tags\n",
    "    joined_text = ' '.join(p.get_text() for p in filtered_paragraphs)\n",
    "    \n",
    "    # Concatenate the excerpt text with the joined paragraphs text\n",
    "    combined_text = excerpt_text + ' ' + joined_text\n",
    "    print(combined_text)\n",
    "    df = df.append({\n",
    "            'Prompt':title,\n",
    "            'Response':combined_text\n",
    "        }, ignore_index=True)\n",
    "    # Close the browser after processing each link\n",
    "    driver.quit()\n"
   ]
  },
  {
   "cell_type": "code",
   "execution_count": 19,
   "id": "30a6e7b5",
   "metadata": {},
   "outputs": [
    {
     "data": {
      "text/html": [
       "<div>\n",
       "<style scoped>\n",
       "    .dataframe tbody tr th:only-of-type {\n",
       "        vertical-align: middle;\n",
       "    }\n",
       "\n",
       "    .dataframe tbody tr th {\n",
       "        vertical-align: top;\n",
       "    }\n",
       "\n",
       "    .dataframe thead th {\n",
       "        text-align: right;\n",
       "    }\n",
       "</style>\n",
       "<table border=\"1\" class=\"dataframe\">\n",
       "  <thead>\n",
       "    <tr style=\"text-align: right;\">\n",
       "      <th></th>\n",
       "      <th>Prompt</th>\n",
       "      <th>Response</th>\n",
       "    </tr>\n",
       "  </thead>\n",
       "  <tbody>\n",
       "    <tr>\n",
       "      <th>0</th>\n",
       "      <td>Travel to Agadir in Morocco</td>\n",
       "      <td>Agadir is Southern Morocco's most visited city...</td>\n",
       "    </tr>\n",
       "    <tr>\n",
       "      <th>1</th>\n",
       "      <td>Accommodation</td>\n",
       "      <td>There are plenty of hotels to choose from in M...</td>\n",
       "    </tr>\n",
       "    <tr>\n",
       "      <th>2</th>\n",
       "      <td>Beaches</td>\n",
       "      <td>The lack of monuments, museums and interesting...</td>\n",
       "    </tr>\n",
       "    <tr>\n",
       "      <th>3</th>\n",
       "      <td>Things to See &amp; Do</td>\n",
       "      <td>The Valley of the Birds (daily from 09:30-12:3...</td>\n",
       "    </tr>\n",
       "    <tr>\n",
       "      <th>4</th>\n",
       "      <td>Cuisine &amp; Nightlife</td>\n",
       "      <td>Besides what the large hotels have, there’s no...</td>\n",
       "    </tr>\n",
       "    <tr>\n",
       "      <th>...</th>\n",
       "      <td>...</td>\n",
       "      <td>...</td>\n",
       "    </tr>\n",
       "    <tr>\n",
       "      <th>91</th>\n",
       "      <td>Espace Othello Gallery – Expression of Emotion...</td>\n",
       "      <td>Art lovers should always spend at least a litt...</td>\n",
       "    </tr>\n",
       "    <tr>\n",
       "      <th>92</th>\n",
       "      <td>Galerie de Art Frederic Damgaard – Modern Art ...</td>\n",
       "      <td>Art is so varied from one artist to the next t...</td>\n",
       "    </tr>\n",
       "    <tr>\n",
       "      <th>93</th>\n",
       "      <td>Lawrence-Arnott Art Gallery – Connoisseurs of ...</td>\n",
       "      <td>Whether you are interested in purchasing a pie...</td>\n",
       "    </tr>\n",
       "    <tr>\n",
       "      <th>94</th>\n",
       "      <td>Matisse Art Gallery – A Variety of Exhibitions...</td>\n",
       "      <td>Any lover of art should spend at least a littl...</td>\n",
       "    </tr>\n",
       "    <tr>\n",
       "      <th>95</th>\n",
       "      <td>Qoubba Art Gallery – Cultural Art Exhibits nea...</td>\n",
       "      <td>Located in the beautiful, vibrant city of Marr...</td>\n",
       "    </tr>\n",
       "  </tbody>\n",
       "</table>\n",
       "<p>96 rows × 2 columns</p>\n",
       "</div>"
      ],
      "text/plain": [
       "                                               Prompt  \\\n",
       "0                         Travel to Agadir in Morocco   \n",
       "1                                       Accommodation   \n",
       "2                                             Beaches   \n",
       "3                                  Things to See & Do   \n",
       "4                                 Cuisine & Nightlife   \n",
       "..                                                ...   \n",
       "91  Espace Othello Gallery – Expression of Emotion...   \n",
       "92  Galerie de Art Frederic Damgaard – Modern Art ...   \n",
       "93  Lawrence-Arnott Art Gallery – Connoisseurs of ...   \n",
       "94  Matisse Art Gallery – A Variety of Exhibitions...   \n",
       "95  Qoubba Art Gallery – Cultural Art Exhibits nea...   \n",
       "\n",
       "                                             Response  \n",
       "0   Agadir is Southern Morocco's most visited city...  \n",
       "1   There are plenty of hotels to choose from in M...  \n",
       "2   The lack of monuments, museums and interesting...  \n",
       "3   The Valley of the Birds (daily from 09:30-12:3...  \n",
       "4   Besides what the large hotels have, there’s no...  \n",
       "..                                                ...  \n",
       "91  Art lovers should always spend at least a litt...  \n",
       "92  Art is so varied from one artist to the next t...  \n",
       "93  Whether you are interested in purchasing a pie...  \n",
       "94  Any lover of art should spend at least a littl...  \n",
       "95  Located in the beautiful, vibrant city of Marr...  \n",
       "\n",
       "[96 rows x 2 columns]"
      ]
     },
     "execution_count": 19,
     "metadata": {},
     "output_type": "execute_result"
    }
   ],
   "source": [
    "df"
   ]
  },
  {
   "cell_type": "code",
   "execution_count": 20,
   "id": "659428e1",
   "metadata": {},
   "outputs": [],
   "source": [
    "urls_heritage_sites = [\n",
    "    \"https://www.morocco.com/attractions/heritage-sites/ait-ben-haddou/\",\n",
    "    \"https://www.morocco.com/attractions/heritage-sites/marrakech-medina/\",\n",
    "    \"https://www.morocco.com/attractions/heritage-sites/mazagon/\",\n",
    "    \"https://www.morocco.com/attractions/heritage-sites/medina-of-essaouira/\",\n",
    "    \"https://www.morocco.com/attractions/heritage-sites/medina-of-fez/\",\n",
    "    \"https://www.morocco.com/attractions/heritage-sites/medina-of-tetouan/\",\n",
    "    \"https://www.morocco.com/attractions/heritage-sites/meknes-2/\",\n",
    "    \"https://www.morocco.com/attractions/heritage-sites/volubilis/\"\n",
    "]\n"
   ]
  },
  {
   "cell_type": "code",
   "execution_count": 21,
   "id": "6ad427c6",
   "metadata": {},
   "outputs": [
    {
     "name": "stderr",
     "output_type": "stream",
     "text": [
      "C:\\Users\\pc\\AppData\\Local\\Temp\\ipykernel_3448\\2501834333.py:7: DeprecationWarning: executable_path has been deprecated, please pass in a Service object\n",
      "  driver = webdriver.Chrome(chrome_driver_path)\n"
     ]
    },
    {
     "name": "stdout",
     "output_type": "stream",
     "text": [
      "Ksar of Ait Ben-Haddou – UNESCO World Heritage Site\n",
      "It is believed that the town of Ait-Ben-Haddou was established in 757 and its founder, Ben-Haddou, still lies buried in his tomb behind this spectacular city. Most of the original inhabitants of the Ksar of Ait-Ben-Haddou have moved across the river to more modern homes. The river can be crossed by jumping the stepping stones, and some residents of the new village have small stores within the Ksar of Ait-Ben-Haddou, selling artifacts and other souvenirs to tourists. The word ‘Ksar’ refers to a large group of kasbas (homes) that are built close together and which are located behind the fortified walls of a city. Ait-Ben-Haddou is an earthen city that is constructed from clay bricks and has thick defensive walls protecting the interior. The corner towers reinforce the defenses and stand high above the walls, casting an intimidating shadow against the skyline. Ait-Ben-Haddou was listed as a UNESCO World Heritage Site in Morocco in 1987. Interestingly, this site has a very strong bond with Hollywood. David Lean chose Ait-Ben-Haddou as the perfect location for his movie, ‘Lawrence of Arabia’, in the year 1962. On closer inspection, Lean discovered that the buildings were starting to fall into disrepair and so he quickly set about restoring some of the unique homes. Due to continuous restoration work and the recognition of the importance of this site, the front half of this amazing site is in very good condition. Unfortunately there are buildings situated near the back of the city that are still in desperate need of attention. Other famous movies that have been filmed here include ‘The Jewel of the Nile’ in 1985, ‘The Living Daylights’ in 1987, ‘Kundun’ in 1994, ‘The Mummy’ in 1999 and more recently ‘Gladiator’ was filmed here in 2000 and ‘Alexander’ in 2004. Visitors to the site are not only astonished at the historical beauty and uniqueness of this World Heritage Site in Morocco, but many find themselves in awe of the fact that they can walk the same streets as some of their favorite movie stars once did. This once important city, on the caravan route between the Sahara Desert and the city of Marrakech, has become a significant historical site and a popular tourist destination. Visitors will also be able to enjoy a good meal and refreshments in the new village across the river. The surrounding landscape is breathtaking and every minute spent here is worth it, with a photographic opportunity waiting around every corner.\n"
     ]
    },
    {
     "name": "stderr",
     "output_type": "stream",
     "text": [
      "C:\\Users\\pc\\AppData\\Local\\Temp\\ipykernel_3448\\2501834333.py:35: FutureWarning: The frame.append method is deprecated and will be removed from pandas in a future version. Use pandas.concat instead.\n",
      "  df = df.append({\n",
      "C:\\Users\\pc\\AppData\\Local\\Temp\\ipykernel_3448\\2501834333.py:7: DeprecationWarning: executable_path has been deprecated, please pass in a Service object\n",
      "  driver = webdriver.Chrome(chrome_driver_path)\n"
     ]
    },
    {
     "name": "stdout",
     "output_type": "stream",
     "text": [
      "Marrakech Medina – Founded by the Almoravids in the 11th Century\n",
      "The Almoravids founded the Medina of Marrakech and built its walls in the 11th century. The Marrakech Medina is situated in the southwestern parts of Morocco near the Atlas Mountains, which extend for 2 400 kilometers. It is thought that the Medina's name 'Marrakech' originated from the Berber language. During the Almoravidian period the Marrakech Medina prospered and became an economic, political and cultural center of Morocco. Abu Yacoub Youssef and Yacoub el Mansour, successors of Abd el-Mou’men, played an important role in restoring the capital to its former glory. In later years the Medina of Marrakech influenced the style of buildings in a number of towns because of its prominence. The Almoravids built impressive monuments in Marrakech to represent their power and influence over the Muslim world. Some of these monuments include the Kasbah, the Ben Youssef Madrasa, the Koutoubiya Mosque, the Saadian Tombs, gardens, Bandiâ Palace, battlements, Place Jamaâ El Fna, the monumental doors and the open-air theatre that can still be found today in the Medina of Marrakech. The Koutoubiya Mosque was built under the direction of Abd el-Mou’men and is a wonderful example of Muslim architecture. The building had a 77-meter minaret, which is a slender turret that was connected to the mosque. The minaret was used by the muezzin to call during hours of prayer. The Marrakech Medina has a traditional market square that is among the biggest and busiest squares in Africa. Not only does the square in Marrakech have food stalls, but the local people are entertained by story-tellers, musicians, acrobats and dancers throughout the day. Another attraction in the Marrakech Medina is the ‘seven saints’ or seven prominent figures whose tombs you can visit. Visitors from all over the world come and visit the tombs of people like Sidi Abu al-Qasim Al-Suhayli and Sidi Muhammad al-Jazuli. The city of Marrakech is the second biggest city in Morocco and has nearly one million people inhabiting it – most of whom are of Berber origin. There are also people of German, French, English, Swiss and Italian origin living in this lively city. Marrakech is a fascinating city to visit and its Medina is well worth a visit.\n"
     ]
    },
    {
     "name": "stderr",
     "output_type": "stream",
     "text": [
      "C:\\Users\\pc\\AppData\\Local\\Temp\\ipykernel_3448\\2501834333.py:35: FutureWarning: The frame.append method is deprecated and will be removed from pandas in a future version. Use pandas.concat instead.\n",
      "  df = df.append({\n",
      "C:\\Users\\pc\\AppData\\Local\\Temp\\ipykernel_3448\\2501834333.py:7: DeprecationWarning: executable_path has been deprecated, please pass in a Service object\n",
      "  driver = webdriver.Chrome(chrome_driver_path)\n"
     ]
    },
    {
     "name": "stdout",
     "output_type": "stream",
     "text": [
      "Explore the Portuguese City of Mazagan on the Atlantic Coast\n",
      "The Portuguese city of Mazagan was built in the early 16th century on the Atlantic coast and was used as a defense settlement. Later in 1769 the settlement was taken over by the Moroccans. Today, the city of Mazagan serves as a good example of how well the Moroccan and European cultural influences can mix. The interchange of influences can be seen in the technology, architecture and the town planning found in the Portuguese city of Mazagan. Today the Portuguese fortifications, or military constructions, of Mazagan are part of El Jadida, a Moroccan city. The fortifications of Mazagan, which include the original ramparts, bastions and cistern, are an excellent example of the military design used in the Renaissance era. You can also see the surviving remains of the Church of the Assumption. This building was constructed using a late Gothic architectural style called Manueline. The Portuguese city of Mazagon lies southwest of Casablanca and it was one of the first Portuguese settlements to be developed by explorers traveling on their way to India. The city of Mazagon has survived for over five hundred years as a settlement that has been influenced by both European and Moroccan cultures. This has led to the Portuguese city of Mazagan being recognized internationally and this in turn has has boosted the tourism industry of the area. Recently, UNESCO (UN educational, scientific and cultural agency) has included the Portuguese city of Mazagan on its list of World Heritage Sites because of its rich history. This official list is well-known all over the world and includes over six hundred places, including manmade landscapes, natural sanctuaries, archaeological areas, individual monuments and urban centers. There are now nine World Heritage sites in Morocco and this makes it the country with the most sites on the UNESCO list. The Portuguese city of Mazagan is located on a piece of the Moroccan coastline that is not used often by tourists coming into the country and so is largely unknown. Having become a World Heritage Site has helped highlight Mazagan’s potential. The Portuguese city of Mazagan’s Portuguese architecture, stunning beaches, shallow lanes and the vibrant Moroccan flavors are attracting more and more visitors to the city. There are relatively few Portuguese people inhabiting Mazagan today, but there are a number of Jewish and European people living in the city.\n"
     ]
    },
    {
     "name": "stderr",
     "output_type": "stream",
     "text": [
      "C:\\Users\\pc\\AppData\\Local\\Temp\\ipykernel_3448\\2501834333.py:35: FutureWarning: The frame.append method is deprecated and will be removed from pandas in a future version. Use pandas.concat instead.\n",
      "  df = df.append({\n",
      "C:\\Users\\pc\\AppData\\Local\\Temp\\ipykernel_3448\\2501834333.py:7: DeprecationWarning: executable_path has been deprecated, please pass in a Service object\n",
      "  driver = webdriver.Chrome(chrome_driver_path)\n"
     ]
    },
    {
     "name": "stdout",
     "output_type": "stream",
     "text": [
      "Essaouira Medina – A Seaside UNESCO World Heritage Site\n",
      "The Medina of Essaouira was listed as a UNESCO World Heritage Site in Morocco in 2001. This extraordinary fishing village was once know as Mogador, but grew into a significant seaport in later years. It is a wonderfully preserved example of eighteenth century architecture and one of only a few fortified towns that have survived to this day. Today the Medina of Essaouira is considered to be a popular tourist resort and has remained one of the best anchorages in Morocco. This is mainly due to the fact that Mogador Island protects the harbor from high seas and strong winds. This amazing World Heritage Site in Morocco was first named after a Muslim Saint by the name of Sidi Mogdoul. Transcribed into Portuguese, the name Mogador was established. In the 1500’s the fortress, Castelo Real de Mogador, was constructed here by the King of Portugal. Despite this, the port remained a popular harbor for pirates and for sugar molasses exports until the eighteenth century. At about that time a number of major changes were made to the Medina of Essaouira under the instruction of Mohammed III who envisioned greater things for this small harbor town. French engineer Theodore Cornut along with a small group of European technicians and respected architects were recruited by Mohammed Ben Abdullah. They were instructed to create a modern fortress and a structured city. The seaport was renamed to Essaouira, derived from the word Souira, meaning ‘Small Fortress’. Cornut was greatly influenced by the architectural designs of Vauban at Saint Malo and the seaside resort still boast a stunning European style and fine buildings. The perfectly cobbled streets, secluded alleyways and snow white structures finished off with blue painted doors, provide insight into the past and still strongly reflect the way that Mohammed III had envisioned the new look of this striking seaport. It is recommended that visitors take a walk down to the daily fish market – even if buying fish is not on the itinerary – as it is a wonderful experience to watch the fishermen and traders. Stores along the streets sell a massive variety of beautiful handcrafted items, such as thuya wood products, embroidered clothes and carpets. Cabinet-makers and wood sculptors will fascinate guests. There are also camel rides available and it is a popular destination for wind surfers. The Medina of Essaouira is the perfect holiday destination as it is filled with history, arts and adventure.\n"
     ]
    },
    {
     "name": "stderr",
     "output_type": "stream",
     "text": [
      "C:\\Users\\pc\\AppData\\Local\\Temp\\ipykernel_3448\\2501834333.py:35: FutureWarning: The frame.append method is deprecated and will be removed from pandas in a future version. Use pandas.concat instead.\n",
      "  df = df.append({\n",
      "C:\\Users\\pc\\AppData\\Local\\Temp\\ipykernel_3448\\2501834333.py:7: DeprecationWarning: executable_path has been deprecated, please pass in a Service object\n",
      "  driver = webdriver.Chrome(chrome_driver_path)\n"
     ]
    },
    {
     "name": "stdout",
     "output_type": "stream",
     "text": [
      "Medina of Fez – Morocco’s Cultural and Spiritual Center\n",
      "The Medina of Fez is not only referred to as Morocco's cultural and spiritual center, but it is also one of the country's imperial cities. The Fez Medina was discovered in the 9th century and became prominent when it replaced Marrakech as the capital of Morocco. This all took place during the 13th and 14th century under the control of the Marinids. The Fez Medina is no longer the political capital of Morocco since Rabat was given this title in 1912. Today UNESCO has designated the entire Medina of Fez as a world monument. The Fez Medina is an incredible place made up of beautiful historical buildings that date back to medieval times. These well preserved buildings include mosques, palaces, fountains and residential homes. The oldest university in the world is also located in the Medina of Fez. These old buildings are surrounded by eight kilometers of fortified walls that were built in an attempt to keep invaders out of the city. The Fez Medina is also one of the most complex labyrinth cities in the world, with houses and shops built close together along tangled streets making it near impossible for visitors to find their own way around. What makes the Medina of Fez so extraordinary is the fact that these exclusive properties are available for people to rent during the holiday seasons. Until recently this experience was not an option, but in recent years a number of these ancient properties have been restored and made available for people to rent. Visitors now get an opportunity to experience how people lived in the 9th century. Those visiting the Fez Medina in this way are assisted by staff who care for their every need as well as maintaining these world heritage buildings. They are also provided with the use of a Moroccan cell phone during their stay. There is a choice of buildings for visitors to choose from including villas, a traditional riad house, antique royal suites and small palaces. Instead of the customary hotel, visitors are taken to a historic and romantic period of time where they are treated to a unique experience and a secret way of life that has only been opened to them in recent years.\n"
     ]
    },
    {
     "name": "stderr",
     "output_type": "stream",
     "text": [
      "C:\\Users\\pc\\AppData\\Local\\Temp\\ipykernel_3448\\2501834333.py:35: FutureWarning: The frame.append method is deprecated and will be removed from pandas in a future version. Use pandas.concat instead.\n",
      "  df = df.append({\n",
      "C:\\Users\\pc\\AppData\\Local\\Temp\\ipykernel_3448\\2501834333.py:7: DeprecationWarning: executable_path has been deprecated, please pass in a Service object\n",
      "  driver = webdriver.Chrome(chrome_driver_path)\n"
     ]
    },
    {
     "name": "stdout",
     "output_type": "stream",
     "text": [
      "Medina of Tetouan – Explore the Past at this UNESCO World Heritage Site\n",
      "The Medina of Tetouan is the capital of Tangier-Tetouan, a region of Morocco found in the northern parts of the country in the fertile Martil Valley. Tetouan (Tetuan, Tettawan, Tettawen) is also the cultural centre of the region and has the only open port on the Mediterranean Sea. The inhabitants of the medina officially speak Arabic, but use a number of languages in their everyday lives. These languages include Berber-Tamazight, Moroccan Darija-Arabic, Spanish and French. The main religion practiced in Tetouan is Islam, but religious denominations like Jews and Christians are supported by minority groups. Tetouan is the main agricultural district in Morocco producing citrus fruit, grain and livestock. The Tetouan medina also manufactures soap, flour products, tobacco products, building materials and textiles. There are a number of other industries in the city, including cabinet making, fish canning and printing. The medina of Tetouan is one of the smallest medinas in Morocco and is one of the few cities that have been relatively untouched by the outside world over the centuries. There are over 321, 000 inhabitants currently living in the medina. Tetouan has been well preserved and is considered one of the best examples of historical towns from the 8th century. The original sections of the medina of Tetouan now form part of UNESCO’s ‘World Heritage List’. Tetouan is also recognized for having played an important role in the Islamic community from the 8th century onwards. During that time period the Tetouan medina was used as the main point of contact between Andalusia (a region of Spain) and Morocco. Tetouan was later taken over by Andalusian refugees who had been removed from their home country. They were forced to take refuge in the medina, which was ruled by Spain at that stage. The refugee’s rebuilt Tetouan, leaving evidence of their influence on the architecture and the art work produced by the local people even today. The houses are low and are characteristically white in color. As you walk around the streets you will notice the local people weaving, working on leather and creating jewelry. The medina of Tetouan is a wonderful example of the Andalusian culture incorporating a lot of the features that would be expected from such a culture. Other attractions to look out for in the Medina of Tetouan include the royal palace, the public square, a number of mosques and the Kasbah (fortresses). Tetouan is a wonderful and lively city to visit with much to offer to the traveler passing through.\n"
     ]
    },
    {
     "name": "stderr",
     "output_type": "stream",
     "text": [
      "C:\\Users\\pc\\AppData\\Local\\Temp\\ipykernel_3448\\2501834333.py:35: FutureWarning: The frame.append method is deprecated and will be removed from pandas in a future version. Use pandas.concat instead.\n",
      "  df = df.append({\n",
      "C:\\Users\\pc\\AppData\\Local\\Temp\\ipykernel_3448\\2501834333.py:7: DeprecationWarning: executable_path has been deprecated, please pass in a Service object\n",
      "  driver = webdriver.Chrome(chrome_driver_path)\n"
     ]
    },
    {
     "name": "stdout",
     "output_type": "stream",
     "text": [
      "Meknes – Historic City and UNESCO World Heritage Site\n",
      "Near the beautiful archeological site of Volubilis and the ancient town of Moulay Idris, lies the breathtaking city of Meknes. The Historical City of Meknes was listed as a UNESCO World Heritage Site in Morocco in the year 1996. This is a city that is steeped in history and anyone who visits the city can feel the presence of the inhabitants of the past. Although some of the buildings have been restored, it looks as if the constructors of the city walked out yesterday. The city’s name, Meknes, is derived from the Miknasa, which was a Berber tribe. Roman communities inhabited this region in 117AD and the earliest history of the tribes that settled in this site date back to the eighth century. The Miknasa established a town here in the tenth century from where the fortified city grew in leaps and bounds. The doors to the city are massive and very intimidating. Known as “Bab el Mansour”, its columns were looted from the Volubilis archeological site and they definitely instill a feeling of anticipation and excitement when standing before them. Sultan Moulay Ismail founded the historical city of Meknes in the eleventh century as a military settlement for the Almoravids. He fortified the city with staggeringly high walls that are triple tiered and seem to carry on for miles. The narrow maze of cobblestone streets, endless stores and bustling street vendors, create a very authentic atmosphere within the city. Visitors will be amazed at the well preserved European and Islamic architectural styles from the seventeenth century that are easily found in the city. The son of Saltan Moulay Ismail destroyed parts of the city in rebellion and the ruins add to the rich history of the city. Some of the buildings have been restored and guests can look forward to visiting the Great Mosque, the Great Mosque Tower, the Royal Palace and the Moulay Ismail Mausoleum. This magnificent World Heritage Site in Morocco is an extremely noteworthy attraction that is popular with locals and foreign visitors. The city is easily accessible from destinations such as Rabat and Fez and is a significant historical monument to inhabitants of the past and the communities that shaped the future.\n"
     ]
    },
    {
     "name": "stderr",
     "output_type": "stream",
     "text": [
      "C:\\Users\\pc\\AppData\\Local\\Temp\\ipykernel_3448\\2501834333.py:35: FutureWarning: The frame.append method is deprecated and will be removed from pandas in a future version. Use pandas.concat instead.\n",
      "  df = df.append({\n",
      "C:\\Users\\pc\\AppData\\Local\\Temp\\ipykernel_3448\\2501834333.py:7: DeprecationWarning: executable_path has been deprecated, please pass in a Service object\n",
      "  driver = webdriver.Chrome(chrome_driver_path)\n"
     ]
    },
    {
     "name": "stdout",
     "output_type": "stream",
     "text": [
      "Archeological Site of Volubilis – Intriguing UNESCO World Heritage Site\n",
      "The Archeological Site of Volubilis was recognized by UNESCO as a World Heritage Site in Morocco in 1997. Even though this wonderful site has been looted for granite and marble to build structures in the nearby towns of Moulay Idris and Meknes, the remaining structures and mosaics tell the tale of a city that once thrived. The ruins that have been spared are beautifully preserved relics of the Roman era and it is for its historical value that the Archeological Site of Volubilis was listed as a UNESCO World Heritage Site in Morocco. It is believed that this spectacular city was constructed around 40 AD and that it was built on an old settlement which dated back to the third century. It became the administrative capital of the area and was known as Mauretania. The extremely fertile lands that surrounded the city produced olive oils and grains that were exported to Rome. Archeobotanical projects at the site have proved that two types of wheat were produced here. Scientists have found evidence of Emmer (Hulled Wheat) and of free-threshing wheat. It is suggested that most of the wheat was stored, while the excess was used as a fodder for livestock and animals. Over and above the evidence of wheat being present, studies have identified linseed, melon seeds, grapes and figs. Ongoing projects are examining wood charcoal pieces to investigate the species of vegetation that existed during this time. It is also known that after the Romans withdrew from Morocco – which happened around the end of the third century – the city was not left uninhabited. An earthquake in the fourth century is believed to have caused extensive damage to Volubilis, but documents have revealed the arrival of Idris I in the year 788. Idris founded the Idrisid dynasty and on his death in 791 he was laid to rest in Moulay Idris. Another earthquake rocked the site in 1755, possibly causing its final abandonment. In the eighteenth century builders started to loot the ruins for building materials. French archeologists started excavating the site in 1915 and more than 2 000 excavations by numerous institutions have followed. Today visitors will be able to view the Thermae, the Orpheus Mosaic, the Temple of Jupiter, oil presses, the Capitol, the third century Triumphal Arch and the Casilica. Most of the structures are still in impressive condition and the mosaics are as beautiful as the day they were created. This wonderfully preserved site should be visited by everyone who comes to Morocco as it provides a rare glimpse into the past.\n"
     ]
    },
    {
     "name": "stderr",
     "output_type": "stream",
     "text": [
      "C:\\Users\\pc\\AppData\\Local\\Temp\\ipykernel_3448\\2501834333.py:35: FutureWarning: The frame.append method is deprecated and will be removed from pandas in a future version. Use pandas.concat instead.\n",
      "  df = df.append({\n"
     ]
    }
   ],
   "source": [
    "from selenium import webdriver\n",
    "from bs4 import BeautifulSoup\n",
    "from time import sleep\n",
    "\n",
    "for link in urls_heritage_sites:\n",
    "    chrome_driver_path = \"C:\\\\Users\\\\pc\\\\OneDrive\\\\Documents\\\\chromedriver-win64\\\\chromedriver.exe\"\n",
    "    driver = webdriver.Chrome(chrome_driver_path)\n",
    "    driver.get(link)\n",
    "    sleep(5)  # Add a pause to ensure content loads properly\n",
    "\n",
    "    # Retrieve the content of the page with BeautifulSoup\n",
    "    src = driver.page_source\n",
    "    soup = BeautifulSoup(src, 'html.parser')\n",
    "    \n",
    "    # Get the title\n",
    "    title = soup.find('h1', class_='page-title').get_text()\n",
    "    print(title)\n",
    "    \n",
    "    # Get the excerpt paragraphs\n",
    "    paragraphs = soup.find('div', class_='excerpt')\n",
    "    excerpt_text = paragraphs.get_text().strip() if paragraphs else \"\"\n",
    "    #print(excerpt_text)\n",
    "    \n",
    "    # Get the content paragraphs\n",
    "    content_div = soup.find('div', class_='content-text')\n",
    "    paragraphs = content_div.find_all('p') if content_div else []\n",
    "    filtered_paragraphs = [p for p in paragraphs if 'back-to-category' not in p.get('class', [])]\n",
    "    \n",
    "    # Join the text from the filtered p tags\n",
    "    joined_text = ' '.join(p.get_text() for p in filtered_paragraphs)\n",
    "    \n",
    "    # Concatenate the excerpt text with the joined paragraphs text\n",
    "    combined_text = excerpt_text + ' ' + joined_text\n",
    "    print(combined_text)\n",
    "    df = df.append({\n",
    "            'Prompt':title,\n",
    "            'Response':combined_text\n",
    "        }, ignore_index=True)\n",
    "    # Close the browser after processing each link\n",
    "    driver.quit()\n"
   ]
  },
  {
   "cell_type": "code",
   "execution_count": 22,
   "id": "a4145e4a",
   "metadata": {},
   "outputs": [
    {
     "data": {
      "text/html": [
       "<div>\n",
       "<style scoped>\n",
       "    .dataframe tbody tr th:only-of-type {\n",
       "        vertical-align: middle;\n",
       "    }\n",
       "\n",
       "    .dataframe tbody tr th {\n",
       "        vertical-align: top;\n",
       "    }\n",
       "\n",
       "    .dataframe thead th {\n",
       "        text-align: right;\n",
       "    }\n",
       "</style>\n",
       "<table border=\"1\" class=\"dataframe\">\n",
       "  <thead>\n",
       "    <tr style=\"text-align: right;\">\n",
       "      <th></th>\n",
       "      <th>Prompt</th>\n",
       "      <th>Response</th>\n",
       "    </tr>\n",
       "  </thead>\n",
       "  <tbody>\n",
       "    <tr>\n",
       "      <th>0</th>\n",
       "      <td>Travel to Agadir in Morocco</td>\n",
       "      <td>Agadir is Southern Morocco's most visited city...</td>\n",
       "    </tr>\n",
       "    <tr>\n",
       "      <th>1</th>\n",
       "      <td>Accommodation</td>\n",
       "      <td>There are plenty of hotels to choose from in M...</td>\n",
       "    </tr>\n",
       "    <tr>\n",
       "      <th>2</th>\n",
       "      <td>Beaches</td>\n",
       "      <td>The lack of monuments, museums and interesting...</td>\n",
       "    </tr>\n",
       "    <tr>\n",
       "      <th>3</th>\n",
       "      <td>Things to See &amp; Do</td>\n",
       "      <td>The Valley of the Birds (daily from 09:30-12:3...</td>\n",
       "    </tr>\n",
       "    <tr>\n",
       "      <th>4</th>\n",
       "      <td>Cuisine &amp; Nightlife</td>\n",
       "      <td>Besides what the large hotels have, there’s no...</td>\n",
       "    </tr>\n",
       "    <tr>\n",
       "      <th>...</th>\n",
       "      <td>...</td>\n",
       "      <td>...</td>\n",
       "    </tr>\n",
       "    <tr>\n",
       "      <th>99</th>\n",
       "      <td>Essaouira Medina – A Seaside UNESCO World Heri...</td>\n",
       "      <td>The Medina of Essaouira was listed as a UNESCO...</td>\n",
       "    </tr>\n",
       "    <tr>\n",
       "      <th>100</th>\n",
       "      <td>Medina of Fez – Morocco’s Cultural and Spiritu...</td>\n",
       "      <td>The Medina of Fez is not only referred to as M...</td>\n",
       "    </tr>\n",
       "    <tr>\n",
       "      <th>101</th>\n",
       "      <td>Medina of Tetouan – Explore the Past at this U...</td>\n",
       "      <td>The Medina of Tetouan is the capital of Tangie...</td>\n",
       "    </tr>\n",
       "    <tr>\n",
       "      <th>102</th>\n",
       "      <td>Meknes – Historic City and UNESCO World Herita...</td>\n",
       "      <td>Near the beautiful archeological site of Volub...</td>\n",
       "    </tr>\n",
       "    <tr>\n",
       "      <th>103</th>\n",
       "      <td>Archeological Site of Volubilis – Intriguing U...</td>\n",
       "      <td>The Archeological Site of Volubilis was recogn...</td>\n",
       "    </tr>\n",
       "  </tbody>\n",
       "</table>\n",
       "<p>104 rows × 2 columns</p>\n",
       "</div>"
      ],
      "text/plain": [
       "                                                Prompt  \\\n",
       "0                          Travel to Agadir in Morocco   \n",
       "1                                        Accommodation   \n",
       "2                                              Beaches   \n",
       "3                                   Things to See & Do   \n",
       "4                                  Cuisine & Nightlife   \n",
       "..                                                 ...   \n",
       "99   Essaouira Medina – A Seaside UNESCO World Heri...   \n",
       "100  Medina of Fez – Morocco’s Cultural and Spiritu...   \n",
       "101  Medina of Tetouan – Explore the Past at this U...   \n",
       "102  Meknes – Historic City and UNESCO World Herita...   \n",
       "103  Archeological Site of Volubilis – Intriguing U...   \n",
       "\n",
       "                                              Response  \n",
       "0    Agadir is Southern Morocco's most visited city...  \n",
       "1    There are plenty of hotels to choose from in M...  \n",
       "2    The lack of monuments, museums and interesting...  \n",
       "3    The Valley of the Birds (daily from 09:30-12:3...  \n",
       "4    Besides what the large hotels have, there’s no...  \n",
       "..                                                 ...  \n",
       "99   The Medina of Essaouira was listed as a UNESCO...  \n",
       "100  The Medina of Fez is not only referred to as M...  \n",
       "101  The Medina of Tetouan is the capital of Tangie...  \n",
       "102  Near the beautiful archeological site of Volub...  \n",
       "103  The Archeological Site of Volubilis was recogn...  \n",
       "\n",
       "[104 rows x 2 columns]"
      ]
     },
     "execution_count": 22,
     "metadata": {},
     "output_type": "execute_result"
    }
   ],
   "source": [
    "df"
   ]
  },
  {
   "cell_type": "code",
   "execution_count": 23,
   "id": "547babfa",
   "metadata": {},
   "outputs": [],
   "source": [
    "urls_mosques = [\n",
    "    \"https://www.morocco.com/attractions/mosques/hassan-mosque/\",\n",
    "    \"https://www.morocco.com/attractions/mosques/karaouine-mosque/\",\n",
    "    \"https://www.morocco.com/attractions/mosques/koutoubia-mosque/\"\n",
    "]\n"
   ]
  },
  {
   "cell_type": "code",
   "execution_count": 24,
   "id": "4cb200ca",
   "metadata": {},
   "outputs": [
    {
     "name": "stderr",
     "output_type": "stream",
     "text": [
      "C:\\Users\\pc\\AppData\\Local\\Temp\\ipykernel_3448\\3285892632.py:7: DeprecationWarning: executable_path has been deprecated, please pass in a Service object\n",
      "  driver = webdriver.Chrome(chrome_driver_path)\n"
     ]
    },
    {
     "name": "stdout",
     "output_type": "stream",
     "text": [
      "Hassan II Mosque – Second Largest Mosque in the World\n",
      "The Hassan II Mosque is the second largest mosque in the world and is located in Casablanca, the economic and business capital of Morocco. Michel Pinseau, a French architect, designed the Hassan Mosque and its accompanying minaret. Pinseau designed the building in such a way that it is able to endure earthquakes. At night the minaret has lasers that shine in the direction of Mecca. Today, the minaret is considered the tallest in the world, standing at 689 feet or 210 meters. The construction of the mosque began in 1986 and was completed in 1993. This was four years over the due date, which was meant to be in 1989 on King Hassan II’s 60th birthday. Most of the materials used for the building of the mosque originated from Morocco but there were some materials, like the glass chandeliers and granite columns that were imported. The mosque stands on a prominent piece of land that rises up on the shore of the Atlantic and provides visitors with the most spectacular views of the ocean. It was decided by King Hassan II that the mosque should be built on this location because of a verse found in the Qur’an, which says that God’s throne was built over the water. The King wanted worshippers to be able to see God’s creations like the ocean and the sea. Up to 25,000 worshippers can be accommodated inside the mosque, where they pray on a glass floor. This special feature of the mosque allows worshippers to kneel and pray over the sea. A further 80,000 people can fit into the courtyard that surrounds the Hassan Mosque. The Hassan II Mosque has a number of modern features that have been included to provide worshipers with added comforts. This includes heated floors, a roof that slides open so the sky can be seen and electric doors. There are many mosques in Morocco most of which are closed off to people who are not of the Muslim faith. The Hassan II Mosque differs in that way, allowing visitors of all faiths the opportunity to come in and view the inside of the building. There is only one other mosque that functions similarly to the Hassan Mosque and that is the old Tin Mal Mosque. Visitors can come to the Mosque and enjoy a guided tour that lasts for about one hour. There are a number of tours that take place throughout the day – so make this one of your stops when visiting Casablanca.\n"
     ]
    },
    {
     "name": "stderr",
     "output_type": "stream",
     "text": [
      "C:\\Users\\pc\\AppData\\Local\\Temp\\ipykernel_3448\\3285892632.py:35: FutureWarning: The frame.append method is deprecated and will be removed from pandas in a future version. Use pandas.concat instead.\n",
      "  df = df.append({\n",
      "C:\\Users\\pc\\AppData\\Local\\Temp\\ipykernel_3448\\3285892632.py:7: DeprecationWarning: executable_path has been deprecated, please pass in a Service object\n",
      "  driver = webdriver.Chrome(chrome_driver_path)\n"
     ]
    },
    {
     "name": "stdout",
     "output_type": "stream",
     "text": [
      "Karaouine Mosque – Magnificent and Historic Religious Attraction\n",
      "If you are planning a trip to Fez, you simply must spend some time at the Karaouine Mosque. This brilliant attraction is worth seeing for several reasons. The first is that it is incredibly old and it has served as a home for the University of Al-Karaouine for centuries – giving cause for the Guinness Book of World Records to name the university as the ‘oldest existing educational institution in the world’. Another reason is to see the incredible architecture and decoration that can be found in every nook and cranny in the Mosque. The Karaouine Mosque in Morocco (also known as Al-Qarawiyyin Mosque) was founded in 859 by Fatima Al-Fihri, the daughter of Mohammed Al-Fihri who was a wealthy merchant at the time. The family was part of a group of migrants who had made the decision to move from Kairouan in Tunisia to Fes in Morocco in the early 9th century. Both Fatima and her sister were well educated and inherited a large amount of money from their father after his death. Instead of squandering her inheritance of daily trifles, Fatima vowed to spend it all on the building of a mosque that was suitable for the community that she loved. With this well-educated and strong-willed woman at the helm, the project soon grew from being simply a place of worship to a place for religious instruction and political discussion. Over the subsequent decades the syllabus taught at the university continued to grow and grow and in 1957, King Mohammed V introduced the further subjects of chemistry, physics, math and foreign languages. Today almost every subject imaginable is taught at this prestigious and old university, which has made the original Karaouine Mosque the place of fame that it is today. It continues to enjoy patronage from those with political power and is seen as being one of the best tourist attractions that Fez has to offer. What is particularly interesting about the mosque is that it has expanded over successive dynasties until it was able to gain the distinction of being the largest mosque in North Africa. Today it can cater to as many as 20 000 worshipers. Inside you will find odd contrasts – such as the forest of arches which gives a feeling of infinite majesty and intimacy, and the austere reed mats where lush carpets should be. There are tiles, plasterwork, woodcarvings, paintings and courtyards, which all add to the overall allure of this prestigious building. While the original mosque was only about 30 meters long with four aisles, the building has undergone roughly 1000 years of development. This means you may see unusual differences in architectural and decorative style as you make your way through this now massive building. So visit both the Karaouine Mosque and Al Karaouine University and discover a whole new facet of Morocco’s rich heritage.\n"
     ]
    },
    {
     "name": "stderr",
     "output_type": "stream",
     "text": [
      "C:\\Users\\pc\\AppData\\Local\\Temp\\ipykernel_3448\\3285892632.py:35: FutureWarning: The frame.append method is deprecated and will be removed from pandas in a future version. Use pandas.concat instead.\n",
      "  df = df.append({\n",
      "C:\\Users\\pc\\AppData\\Local\\Temp\\ipykernel_3448\\3285892632.py:7: DeprecationWarning: executable_path has been deprecated, please pass in a Service object\n",
      "  driver = webdriver.Chrome(chrome_driver_path)\n"
     ]
    },
    {
     "name": "stdout",
     "output_type": "stream",
     "text": [
      "Koutoubia Mosque – A Notable Landmark and Historical Masterpiece\n",
      "The Koutoubia Mosque is a landmark structure in Marrakech. Construction of the minaret was completed under the reign of Yacoub el Mansour (Almohad Caliph Yaqub al-Mansour), who ruled between 1184 and 1199. At the time that it was built, the Koutaoubia Mosque was an engineering feat. Today it is a historical masterpiece. Visitors will undoubtedly be astounded at the sheer size of the minaret that became the model example for other minarets, such as the Hassan Tower in the city of Rabat and the Giralda of Selville. The tower of the Koutoubia is sixty-nine meters in height and has a lateral length of 12.8 meters. The interior of the tower is made up of six rooms that are located one above the other. There is also a ramp that enabled the muezzin to ride all the way to the balcony. A local legend exists about the golden globes that adorn the top of the tower. The original design only had three globes, with the fourth being donated by Yacoub el Mansour’s wife. She had apparently eaten three grapes during the Ramadan fasting period, and, feeling guilty for her actions, she melted all her gold jewelry to create the forth dome which she donated to the Koutoubia. In the Arabic language the word ‘al-Koutoubiyyin’ means ‘librarian’. The mosque’s name was derived from and it was an appropriate choice since Koutoubia used to be surrounded by traders trying to sell manuscripts. Mosques are a place of worship for people who practice the Islam religion and worshipers come to the mosque five times a day to pray. The prayer hall in the Koutoubia Mosque can accommodate 25 thousand worshipers and is a staggering 54 square meters in size. The pulpit in the mosque is believed to have originated in Cordoba and was donated to the mosque by Sultan Al Ben Youssef. The tower of the Koutoubia Mosque can be seen from the Djemma el Fna, the main square of Marrakech, but for the best views visitors are advised to view the tower from the beautiful rose garden just west of the Koutoubia Mosque. It is a wonderfully preserved historical structure, a perfect example of the Almohad architectural style and a noteworthy attraction in Marrakech.\n"
     ]
    },
    {
     "name": "stderr",
     "output_type": "stream",
     "text": [
      "C:\\Users\\pc\\AppData\\Local\\Temp\\ipykernel_3448\\3285892632.py:35: FutureWarning: The frame.append method is deprecated and will be removed from pandas in a future version. Use pandas.concat instead.\n",
      "  df = df.append({\n"
     ]
    }
   ],
   "source": [
    "from selenium import webdriver\n",
    "from bs4 import BeautifulSoup\n",
    "from time import sleep\n",
    "\n",
    "for link in urls_mosques:\n",
    "    chrome_driver_path = \"C:\\\\Users\\\\pc\\\\OneDrive\\\\Documents\\\\chromedriver-win64\\\\chromedriver.exe\"\n",
    "    driver = webdriver.Chrome(chrome_driver_path)\n",
    "    driver.get(link)\n",
    "    sleep(5)  # Add a pause to ensure content loads properly\n",
    "\n",
    "    # Retrieve the content of the page with BeautifulSoup\n",
    "    src = driver.page_source\n",
    "    soup = BeautifulSoup(src, 'html.parser')\n",
    "    \n",
    "    # Get the title\n",
    "    title = soup.find('h1', class_='page-title').get_text()\n",
    "    print(title)\n",
    "    \n",
    "    # Get the excerpt paragraphs\n",
    "    paragraphs = soup.find('div', class_='excerpt')\n",
    "    excerpt_text = paragraphs.get_text().strip() if paragraphs else \"\"\n",
    "    #print(excerpt_text)\n",
    "    \n",
    "    # Get the content paragraphs\n",
    "    content_div = soup.find('div', class_='content-text')\n",
    "    paragraphs = content_div.find_all('p') if content_div else []\n",
    "    filtered_paragraphs = [p for p in paragraphs if 'back-to-category' not in p.get('class', [])]\n",
    "    \n",
    "    # Join the text from the filtered p tags\n",
    "    joined_text = ' '.join(p.get_text() for p in filtered_paragraphs)\n",
    "    \n",
    "    # Concatenate the excerpt text with the joined paragraphs text\n",
    "    combined_text = excerpt_text + ' ' + joined_text\n",
    "    print(combined_text)\n",
    "    df = df.append({\n",
    "            'Prompt':title,\n",
    "            'Response':combined_text\n",
    "        }, ignore_index=True)\n",
    "    # Close the browser after processing each link\n",
    "    driver.quit()\n"
   ]
  },
  {
   "cell_type": "code",
   "execution_count": 25,
   "id": "696410b3",
   "metadata": {},
   "outputs": [
    {
     "data": {
      "text/html": [
       "<div>\n",
       "<style scoped>\n",
       "    .dataframe tbody tr th:only-of-type {\n",
       "        vertical-align: middle;\n",
       "    }\n",
       "\n",
       "    .dataframe tbody tr th {\n",
       "        vertical-align: top;\n",
       "    }\n",
       "\n",
       "    .dataframe thead th {\n",
       "        text-align: right;\n",
       "    }\n",
       "</style>\n",
       "<table border=\"1\" class=\"dataframe\">\n",
       "  <thead>\n",
       "    <tr style=\"text-align: right;\">\n",
       "      <th></th>\n",
       "      <th>Prompt</th>\n",
       "      <th>Response</th>\n",
       "    </tr>\n",
       "  </thead>\n",
       "  <tbody>\n",
       "    <tr>\n",
       "      <th>0</th>\n",
       "      <td>Travel to Agadir in Morocco</td>\n",
       "      <td>Agadir is Southern Morocco's most visited city...</td>\n",
       "    </tr>\n",
       "    <tr>\n",
       "      <th>1</th>\n",
       "      <td>Accommodation</td>\n",
       "      <td>There are plenty of hotels to choose from in M...</td>\n",
       "    </tr>\n",
       "    <tr>\n",
       "      <th>2</th>\n",
       "      <td>Beaches</td>\n",
       "      <td>The lack of monuments, museums and interesting...</td>\n",
       "    </tr>\n",
       "    <tr>\n",
       "      <th>3</th>\n",
       "      <td>Things to See &amp; Do</td>\n",
       "      <td>The Valley of the Birds (daily from 09:30-12:3...</td>\n",
       "    </tr>\n",
       "    <tr>\n",
       "      <th>4</th>\n",
       "      <td>Cuisine &amp; Nightlife</td>\n",
       "      <td>Besides what the large hotels have, there’s no...</td>\n",
       "    </tr>\n",
       "    <tr>\n",
       "      <th>...</th>\n",
       "      <td>...</td>\n",
       "      <td>...</td>\n",
       "    </tr>\n",
       "    <tr>\n",
       "      <th>102</th>\n",
       "      <td>Meknes – Historic City and UNESCO World Herita...</td>\n",
       "      <td>Near the beautiful archeological site of Volub...</td>\n",
       "    </tr>\n",
       "    <tr>\n",
       "      <th>103</th>\n",
       "      <td>Archeological Site of Volubilis – Intriguing U...</td>\n",
       "      <td>The Archeological Site of Volubilis was recogn...</td>\n",
       "    </tr>\n",
       "    <tr>\n",
       "      <th>104</th>\n",
       "      <td>Hassan II Mosque – Second Largest Mosque in th...</td>\n",
       "      <td>The Hassan II Mosque is the second largest mos...</td>\n",
       "    </tr>\n",
       "    <tr>\n",
       "      <th>105</th>\n",
       "      <td>Karaouine Mosque – Magnificent and Historic Re...</td>\n",
       "      <td>If you are planning a trip to Fez, you simply ...</td>\n",
       "    </tr>\n",
       "    <tr>\n",
       "      <th>106</th>\n",
       "      <td>Koutoubia Mosque – A Notable Landmark and Hist...</td>\n",
       "      <td>The Koutoubia Mosque is a landmark structure i...</td>\n",
       "    </tr>\n",
       "  </tbody>\n",
       "</table>\n",
       "<p>107 rows × 2 columns</p>\n",
       "</div>"
      ],
      "text/plain": [
       "                                                Prompt  \\\n",
       "0                          Travel to Agadir in Morocco   \n",
       "1                                        Accommodation   \n",
       "2                                              Beaches   \n",
       "3                                   Things to See & Do   \n",
       "4                                  Cuisine & Nightlife   \n",
       "..                                                 ...   \n",
       "102  Meknes – Historic City and UNESCO World Herita...   \n",
       "103  Archeological Site of Volubilis – Intriguing U...   \n",
       "104  Hassan II Mosque – Second Largest Mosque in th...   \n",
       "105  Karaouine Mosque – Magnificent and Historic Re...   \n",
       "106  Koutoubia Mosque – A Notable Landmark and Hist...   \n",
       "\n",
       "                                              Response  \n",
       "0    Agadir is Southern Morocco's most visited city...  \n",
       "1    There are plenty of hotels to choose from in M...  \n",
       "2    The lack of monuments, museums and interesting...  \n",
       "3    The Valley of the Birds (daily from 09:30-12:3...  \n",
       "4    Besides what the large hotels have, there’s no...  \n",
       "..                                                 ...  \n",
       "102  Near the beautiful archeological site of Volub...  \n",
       "103  The Archeological Site of Volubilis was recogn...  \n",
       "104  The Hassan II Mosque is the second largest mos...  \n",
       "105  If you are planning a trip to Fez, you simply ...  \n",
       "106  The Koutoubia Mosque is a landmark structure i...  \n",
       "\n",
       "[107 rows x 2 columns]"
      ]
     },
     "execution_count": 25,
     "metadata": {},
     "output_type": "execute_result"
    }
   ],
   "source": [
    "df"
   ]
  },
  {
   "cell_type": "code",
   "execution_count": 26,
   "id": "bef86c51",
   "metadata": {},
   "outputs": [],
   "source": [
    "urls_museums = [\n",
    "    \"https://www.morocco.com/attractions/museums/american-legation/\",\n",
    "    \"https://www.morocco.com/attractions/museums/antiquities/\",\n",
    "    \"https://www.morocco.com/attractions/museums/archaeological-museum-rabat/\",\n",
    "    \"https://www.morocco.com/attractions/museums/archaeological-museum-tetouan/\",\n",
    "    \"https://www.morocco.com/attractions/museums/bert-flint/\",\n",
    "    \"https://www.morocco.com/attractions/museums/borj-nord/\",\n",
    "    \"https://www.morocco.com/attractions/museums/dar-batha/\",\n",
    "    \"https://www.morocco.com/attractions/museums/dar-jamai/\",\n",
    "    \"https://www.morocco.com/attractions/museums/dar-si-said/\",\n",
    "    \"https://www.morocco.com/attractions/museums/ethnographic-museum-tetouan/\",\n",
    "    \"https://www.morocco.com/attractions/museums/forbes/\",\n",
    "    \"https://www.morocco.com/attractions/museums/majorelle/\",\n",
    "    \"https://www.morocco.com/attractions/museums/marrakech-museum/\",\n",
    "    \"https://www.morocco.com/attractions/museums/moroccan-arts/\",\n",
    "    \"https://www.morocco.com/attractions/museums/national-ceramics/\",\n",
    "    \"https://www.morocco.com/attractions/museums/natural-science/\",\n",
    "    \"https://www.morocco.com/attractions/museums/oudaias/\",\n",
    "    \"https://www.morocco.com/attractions/museums/postal/\",\n",
    "    \"https://www.morocco.com/attractions/museums/sidi-mohamed-ben-abdellah/\"\n",
    "]\n"
   ]
  },
  {
   "cell_type": "code",
   "execution_count": 27,
   "id": "3e36010b",
   "metadata": {},
   "outputs": [
    {
     "name": "stderr",
     "output_type": "stream",
     "text": [
      "C:\\Users\\pc\\AppData\\Local\\Temp\\ipykernel_3448\\3319100563.py:7: DeprecationWarning: executable_path has been deprecated, please pass in a Service object\n",
      "  driver = webdriver.Chrome(chrome_driver_path)\n"
     ]
    },
    {
     "name": "stdout",
     "output_type": "stream",
     "text": [
      "American Legation Museum – Art Retraces from the 17th Century\n",
      "The American Legation Museum and Research Centre in Morocco is located in the Medina of Tangier, which was a fortified city decades ago. The beautiful Rue d’Amerique lies close to where the museum is situated. In 1821 the Sultan of Morocco, Moulay Suliman, gave this building as a gift to the United States of America. This was a significant event for the U.S. government as it was one of the first pieces of property the government had ever owned from abroad. The American Legation Museum is not only a building that is full of stories from the past, but it is also a beautiful building architecturally speaking. In the 18th century the American Legation Museum was originally a stone structure. It was later integrated into a complex that had been enlarged. There was also a beautiful courtyard surrounding the building providing an attractive setting for the stone building. In the 19th century another room was added onto the building, which would later be used as a reception room. Then in 1891 the American Legation Museum was enlarged further when a three-story building was built onto the reception area. Thirty years later, in 1920, properties across the street from the stone building were bought. These properties were improved and enlarged under the supervision of Maxwell Blake (Consul General) producing, in the end, the more than forty-room legation building. When you enter onto the fourth floor, rooftop room of the American Legation Museum you are provided with a picturesque view of the Straits of Gibraltar and of the harbor. This addition to the Legation building was added in 1999, providing visitors with a 360-degree view of Tangier and surrounding areas. On days when the sky is clear you can also see as far as Tarifa, Allegories (Spanish towns) and the Rif Mountains. The American Legation Museum has a number of art retraces that originate from the 17th century through to the 20th century. These art retraces provided information on Tangier’s function as a channel between North Africa and Europe. These compilations include the Angus Collection, which features over 700 prints of various countries and more specifically prints of Tangier and historical events that took place in the Medina. Then there is the McBey Collection, which covers the time period from 1901 to 1998. This collection includes a number of paintings from over forty artists originating from eleven countries. The American Legation Museum also has a variety of Moroccan rugs, furniture, maps and photographs.\n"
     ]
    },
    {
     "name": "stderr",
     "output_type": "stream",
     "text": [
      "C:\\Users\\pc\\AppData\\Local\\Temp\\ipykernel_3448\\3319100563.py:35: FutureWarning: The frame.append method is deprecated and will be removed from pandas in a future version. Use pandas.concat instead.\n",
      "  df = df.append({\n",
      "C:\\Users\\pc\\AppData\\Local\\Temp\\ipykernel_3448\\3319100563.py:7: DeprecationWarning: executable_path has been deprecated, please pass in a Service object\n",
      "  driver = webdriver.Chrome(chrome_driver_path)\n"
     ]
    },
    {
     "name": "stdout",
     "output_type": "stream",
     "text": [
      "Museum of Antiquities – Objects and Artifacts from Roman Sites\n",
      "The Museum of Antiquities is located in the village of Chefchaouen, in Tangier, and is found in what used to be the kitchens of the Sultan’s palace, Dar El Makhzen. Surrounding the museum is a beautiful Andalusian garden where visitors can walk and enjoy the peaceful surroundings. There is also a replica of an ancient necropolis, which is a large and elaborate cemetery that was used by ancient cities. The museum contains an array of objects and artifacts that come from Roman sites. These Roman sites include Banasa, Lixus, Volubilis and Cotta. They contained a number of mosaics and bronze pieces that can now be viewed at the Museum of Antiquities. One of the better known mosaics that came out of these locations was “The Voyage of Venus.” This mosaic depicts the Goddess Venus sitting on a throne that is situated on a ship. Surrounding the throne are a number of nymphs. The ship can be seen making its way to an unknown destination through clear, blue waters. You will find these fascinating objects in what used to be the Dar El Makhzen palace kitchens. When you enter the Museum of Antiquities you come across a number of displays that explain the history of Tangier and of the region that surrounds the city. There are also other rooms located on the ground floor that have displays focusing on more specific subjects. One of these rooms is devoted solely to ancient funeral rites that took place during the Roman era. In the room there is a model of a Carthaginian tomb scaled to size. Tangier was the destination for people wanting adventure, for the rich and for those wanting to avoid paying tax between the 1920’s and 1950’s. Artists and writers, like Tennessee Williams and Truman Capote, also found Tangier a welcome destination where they could accomplish their work in peace. Tangier saw a lot of change in the 1960’s when Morocco took over. With the loss of Tangiers’s duty-free status this led to a decrease in tourism which is only starting to recover and increase in recent years. Tourists are attracted to the walkways lined with palm trees, the sunny beaches and the luxurious resorts.\n"
     ]
    },
    {
     "name": "stderr",
     "output_type": "stream",
     "text": [
      "C:\\Users\\pc\\AppData\\Local\\Temp\\ipykernel_3448\\3319100563.py:35: FutureWarning: The frame.append method is deprecated and will be removed from pandas in a future version. Use pandas.concat instead.\n",
      "  df = df.append({\n",
      "C:\\Users\\pc\\AppData\\Local\\Temp\\ipykernel_3448\\3319100563.py:7: DeprecationWarning: executable_path has been deprecated, please pass in a Service object\n",
      "  driver = webdriver.Chrome(chrome_driver_path)\n"
     ]
    },
    {
     "name": "stdout",
     "output_type": "stream",
     "text": [
      "Archaeological Museum – Prehistoric-, Paleolithic- and Neolithic Periods Collections\n",
      "If you enjoy visiting museums, the Archaeological Museum in Morocco is a must-see. Built in 1932, the original museum has since been greatly enlarged in order to provide adequate housing for the ever-expanding plethora of archaeological discoveries that have been found in Morocco. The building itself has been the site of the National Museum Collection since 1986 and it certainly has a lot to offer the average visitor. The collections cover prehistoric periods, Paleolithic periods and Neolithic periods, thus taking you on a steady journey through time. Much of these early discoveries have long been a part of the Archaeological Museum in Rabat. But the collection certainly doesn’t end there. Visitors can then journey back in time to the 8th and 9th century where excavations from this period take on strong Islamic significance. This part of the museum continues to expand at a steady rate and it has given historians a good idea of the lives people led at this time since discoverers have unearthed articles from daily life such as jewelry, animals, baking items and even medical tools! However the most fascinating display in the Archaeological Museum has to be that belonging to the Pre-Roman and Roman civilizations that were once so prominent in the parts of Africa surrounding the Mediterranean. Here you will find Hellenistic-style bronze sculptures of exceptional quality. The ‘Drunken Donkey’ and ‘Volubilis Dog’ are generally always favorites while the ‘Young Man Crowned with Ivy’ is iconic of the grace and realism inherent in sculpture at the time. A more local touch can be seen in the ‘Heads of Young Berbers’ marble sculpture, which is absolutely incredible to see. Many remarks have been made about the strength of expression that can be seen in these well-carved marble busts. It is fascinating to see such a Hellenistic style of art being applied to the local Berber population and this is certainly not something you are likely to see elsewhere. So why not visit the Archaeological Museum in Rabat and take a journey through time? You’ll find the museum at 23 rue Brihi in a building so large that you simply cannot miss it!\n"
     ]
    },
    {
     "name": "stderr",
     "output_type": "stream",
     "text": [
      "C:\\Users\\pc\\AppData\\Local\\Temp\\ipykernel_3448\\3319100563.py:35: FutureWarning: The frame.append method is deprecated and will be removed from pandas in a future version. Use pandas.concat instead.\n",
      "  df = df.append({\n",
      "C:\\Users\\pc\\AppData\\Local\\Temp\\ipykernel_3448\\3319100563.py:7: DeprecationWarning: executable_path has been deprecated, please pass in a Service object\n",
      "  driver = webdriver.Chrome(chrome_driver_path)\n"
     ]
    },
    {
     "name": "stdout",
     "output_type": "stream",
     "text": [
      "Archaeological Museum in Tetouan – Pre-Historic and the Pre-Islamic Times\n",
      "Tetouan was once known as Tamouda and it is believed that this settlement was founded close to the third century B.C. The Roman occupiers destroyed the settlement in approximately the year forty-two A.D. during a revolt. A fortified camp was erected in place of the settlement by the Roman troops and traces of their occupation are still visible today. The Archaeological Museum in Tetouan preserves and exhibits beautiful artifacts and pieces of history that reminds and educates visitors of the rich historical roots of Tetouan. The Archaeological Museum in Tetouan was constructed in 1943. Its exhibits are dedicated to the fascinating pre-historic and the pre-Islamic times of Morocco. The pre-Islamic era in Morocco includes the history of the Romans, Phoenicians, Mauritanians and the Punics. Islamic history is also looked at through various exhibits in the museum. Throughout the centuries of re-settlements, battles, invasion and revolts, pieces of each occurrence have remained. When these pieces are put together they help us to create snippets of the culture and traditions that have been handed down over the centuries and can still be seen today. When visitors enter this inspiring museum in Morocco they will be greeted by the Three Graces. This is a mosaic that has survived since Roman times and depicts the celebration of mythological figures. Another wonderful masterpiece is the Sumerian statue that was discovered near Asilah. The rest of the museum has a wide variety of exhibits and artifacts that each tell a spectacular story. Some stories may seem trivial, but they highlight the progress and evolution of the Moroccan community. Visitors to the Archeaological Museum In Tetouan can look forward to seeing artifacts such as different currency coins, tools that have been crafted from stone or bone, pottery, bronze items, amphoras, mosaics, architectural discoveries and ancient inscriptions. The figurine collection that is on display is extremely important as most of the figurines date back to first century A.D. The protection and preservation of North African Literature can be viewed in the museum’s extensive library that is home to approximately sixty-thousand volumes of literature. This educational and fascinating attraction in Morocco is the pride of Tetouan and has become increasingly popular with foreign visitors and researchers. It is a treasure trove of historical finds and reminders of the past.\n"
     ]
    },
    {
     "name": "stderr",
     "output_type": "stream",
     "text": [
      "C:\\Users\\pc\\AppData\\Local\\Temp\\ipykernel_3448\\3319100563.py:35: FutureWarning: The frame.append method is deprecated and will be removed from pandas in a future version. Use pandas.concat instead.\n",
      "  df = df.append({\n",
      "C:\\Users\\pc\\AppData\\Local\\Temp\\ipykernel_3448\\3319100563.py:7: DeprecationWarning: executable_path has been deprecated, please pass in a Service object\n",
      "  driver = webdriver.Chrome(chrome_driver_path)\n"
     ]
    },
    {
     "name": "stdout",
     "output_type": "stream",
     "text": [
      "Bert Flint Museum – Costumes, Jewelry and Furniture from the Past\n",
      "Theater has played a massive role in the culture of many nations for many thousands of years. Whether it is simple or complex is not really all that important, for it is a prime method of communication that appeals to viewers and helps to stimulate the imagination and the senses. If you enjoy theatre and are interested in things like costumes, jewelry and furniture from the past, you might want to consider a visit to the Bert Flint Museum in Morocco. This stunning museum has everything needed to stimulate the imagination and revitalize the past. The Bert Flint Museum is named for Bert Flint, who assembled the museum’s beautiful collection. Bert Flint was an art historian from Denmark who spent much time in Morocco and saw fit to assemble this impressive collection. The museum’s collection focuses mainly on the popular traditions of two areas within Morocco’s boundaries – that of the Souss Valley and the Sahara. Hence they are a positive reflection of the culture and way of life of people from these areas. While the museum may seem to have a strong emphasis on theatrical arts, it certainly is not limited to this and the collection is a tribute to past cultures more than anything else. To start with, the collection has a good selection of fabrics, textiles and theatrical costumes – a compilation that is certainly complimented by a fine selection of historical musical instruments from the same time period and regions of Morocco. The craftsmanship is remarkable – especially when one considers how old it is and what sort of crude implements might have been used to craft it. The decorative arts display and the folk art exhibit are a visual feast. For those with an interest in weaponry and war, the armaments collection should not be missed. If you wish to visit this fascinating little museum, you will find it at Rue de la Bahia in Marrakech, Morocco. The museum displays are a part of the municipal theatre, so don’t be alarmed when all you find is a massive theatre at that address. It should also be noted that there is another facet of the museum that is located in Agadir. If what you discover in the Bert Flint Museum fascinates you, you might want to visit this branch of the museum too. So give the Bert Flint Museum in Morocco a try and discover a whole new aspect of Moroccan history and culture!\n"
     ]
    },
    {
     "name": "stderr",
     "output_type": "stream",
     "text": [
      "C:\\Users\\pc\\AppData\\Local\\Temp\\ipykernel_3448\\3319100563.py:35: FutureWarning: The frame.append method is deprecated and will be removed from pandas in a future version. Use pandas.concat instead.\n",
      "  df = df.append({\n",
      "C:\\Users\\pc\\AppData\\Local\\Temp\\ipykernel_3448\\3319100563.py:7: DeprecationWarning: executable_path has been deprecated, please pass in a Service object\n",
      "  driver = webdriver.Chrome(chrome_driver_path)\n"
     ]
    },
    {
     "name": "stdout",
     "output_type": "stream",
     "text": [
      "Borj-Nord Musuem – Housed in a 16th Century Fortress\n",
      "If you’re planning to visit Fez during your trip to Morocco, you should definitely schedule some time for a visit to the Borj-Nord Museum. This interesting museum seems to be an almost forgotten tribute to the past, with many visitors and locals neglecting to visit it. Nevertheless it is immensely interesting and provides interesting insight into the military history and traditions of Morocco through a variety of excellent collections that have been donated to the museum. The Borj-Nord Museum in Morocco is hard to miss since it is housed in a 16th century fortress that towers above the city, its stark walls clearly visible over quite a distance. The fortress was once a northern tower that formed part of the walled fortifications that surrounded Fez in times gone by. It was built in 1582 at the command of Saadian Sultan Ahmed El Mansour Eddahbi as part of efforts to ensure that Fez was adequately protected. No better location for the museum could have been chosen since the building itself is a testimony to the evolution of military warfare and architecture. Inside the tower you will find the Borj-Nord weapons museum. Here you will find weapons from virtually every age and corner of the country. The majority of the collection has been donated by royalty and as a result, there are even a number of rare pieces included in the displays. Overall, there are more than 5000 different arms in the collection which include 775 military items. All these articles are displayed in a serious of 13 different rooms and collections include everything from pre-historic weaponry to modern day rifles. The collection is also not limited to only Moroccan artifacts and includes Indian, European and Asian articles. The most outstanding portion of the museum simply has to be the Moroccan weaponry, which is not only dangerous, but decorative too. Daggers are encrusted with precious stones and rifle butts are carefully shaped and inlaid with jewels. These articles are so beautifully decorated that they hold appeal for art lovers too. The largest piece in the collection is a cannon that was used during the Battle of the Three Kings (Battle of the Wadi Al-makhazin). This massive weapon is five meters long and weighs a whopping 12 tons! The fortress that houses the Borj-Nord Museum has been recently restored and the collection is excellent. So give this great museum a visit the next time you’re in Fez. You won’t regret it.\n"
     ]
    },
    {
     "name": "stderr",
     "output_type": "stream",
     "text": [
      "C:\\Users\\pc\\AppData\\Local\\Temp\\ipykernel_3448\\3319100563.py:35: FutureWarning: The frame.append method is deprecated and will be removed from pandas in a future version. Use pandas.concat instead.\n",
      "  df = df.append({\n",
      "C:\\Users\\pc\\AppData\\Local\\Temp\\ipykernel_3448\\3319100563.py:7: DeprecationWarning: executable_path has been deprecated, please pass in a Service object\n",
      "  driver = webdriver.Chrome(chrome_driver_path)\n"
     ]
    },
    {
     "name": "stdout",
     "output_type": "stream",
     "text": [
      "Dar Batha Museum – Art, Craft and History\n",
      "If you have an appreciation for art, craft and history, the Dar Batha Museum in Morocco is a must-see attraction. This excellent collection of artifacts is housed in a Hispano-Moorish palace that dates back to the 19th century – a beautiful piece of art in itself. Located in Fez, the Dar Batha Museum is a tribute to some of the most brilliant traditional artwork of Fez. So exactly what sort of traditional artwork can you expect to find at the Dar Batha Museum? Most traditional forms of art were also practical in nature so they usually took the form of furniture that was given a decorative touch. Therefore you can expect to enjoy intricately carved wooden furniture, wrought iron with decorative finishing touches, carpets, embroidery and jewelry. Of course, there were also less functional pieces, such as artwork made from sculpted plaster or other decorative materials. The Dar Batha Museum also has a great collection of ancient coins. All of these intricately worked masterpieces of functional or decorative art are beautiful to behold and visitors may find themselves struggling to decide where to start and which item to look at next. The best part of the museum, however, is undoubtedly the pottery room where you will find an unbeatable display of ceramic objects that have been masterfully crafted by Fez craftsmen through the centuries. Of particular interest are the articles dating back to the 10th century which contain items of ‘fez blue’. At the time, this relatively groundbreaking way of coloring pottery involved the use of cobalt to obtain the bluish coloring. Typical ceramics feature a white enamel background with stylized floral motives interweaved on them in brilliant shades of blue. The floral motifs are both sophisticated and harmonious and are a delight to behold. Also worth seeing are the astrolabes – a display featuring a variety of fascinating astronomical instruments that were created and perfected by learned Arabs. They are not only functional, but wonderfully decorative with intricately worked metal and inset jewels. You’ll find the Dar Batha Museum at Place du Batha in Fez. Don’t miss it or you’ll miss out!\n"
     ]
    },
    {
     "name": "stderr",
     "output_type": "stream",
     "text": [
      "C:\\Users\\pc\\AppData\\Local\\Temp\\ipykernel_3448\\3319100563.py:35: FutureWarning: The frame.append method is deprecated and will be removed from pandas in a future version. Use pandas.concat instead.\n",
      "  df = df.append({\n",
      "C:\\Users\\pc\\AppData\\Local\\Temp\\ipykernel_3448\\3319100563.py:7: DeprecationWarning: executable_path has been deprecated, please pass in a Service object\n",
      "  driver = webdriver.Chrome(chrome_driver_path)\n"
     ]
    },
    {
     "name": "stdout",
     "output_type": "stream",
     "text": [
      "Dar Jamai Museum – Amazing Local Arts and Crafts\n",
      "The Dar Jamai Museum is located in the UNESCO World Heritage town centre of Meknes. Not only are the exhibits that are housed in the museum considered to be masterpieces, but so is the building itself. In the year 1882, construction of the home of the Jamai family was completed. This fine structure later became an important military hospital in 1912. By 1920 the significance of the building was recognized and the decision was made to transform this magnificent historical building into the Dar Jamai Museum. Today, the palace still displays much of its wealthy beginnings, with a luxurious garden that has been landscaped in an Arab-style and features fruit trees and beautiful cypresses. The building boasts elegant painted windows, detailed tiles, painted wood and even sculptured plasterwork. It still oozes a feeling of luxury and is a symbol of the wealth and prosperity that was enjoyed by the Jamai family. This spectacular museum in Morocco is dedicated to exhibiting the local talent and skill of the craftsmen of Morocco. It therefore displays vast and colorful exhibits of painted wood panels, decorated chests and breathtaking pottery pieces. Visitors will be astounded at the detail and time-consuming effort that is evident in every piece of wrought iron, brass, woodcarving, ceramics, metal work, coppersmith items and leatherwork. The museum also has a wonderful collection of jewelry, traditional costumes and rare carpets. This diverse and beautiful collection of crafts that is on display at this truly historic attraction in Morocco will fascinate and entertain visitors for hours. The Jamai Museum itself is a feat of brilliant architecture and the exhibits that are featured inside its walls are a testament to the talent and unmatched skills of the locals. The craftsmen of this region bring color and magnificent pieces of art to life. It is clear that each item that is on display was created with pride and dedication and has highlighted the amazing work that is being done by the artists and craftsmen of the Meknes region. It is recommended that visitors to Morocco stop at the Dar Jamai Museum, as it is a museum with diverse and interesting exhibits. To discover the beauty and hidden talents of Morocco’s Meknes region, visit the Dar Jamai Museum.\n"
     ]
    },
    {
     "name": "stderr",
     "output_type": "stream",
     "text": [
      "C:\\Users\\pc\\AppData\\Local\\Temp\\ipykernel_3448\\3319100563.py:35: FutureWarning: The frame.append method is deprecated and will be removed from pandas in a future version. Use pandas.concat instead.\n",
      "  df = df.append({\n",
      "C:\\Users\\pc\\AppData\\Local\\Temp\\ipykernel_3448\\3319100563.py:7: DeprecationWarning: executable_path has been deprecated, please pass in a Service object\n",
      "  driver = webdriver.Chrome(chrome_driver_path)\n"
     ]
    },
    {
     "name": "stdout",
     "output_type": "stream",
     "text": [
      "Dar Si Said Museum – Moroccan Culture in an Opulent Palace\n",
      "There are few museums in the world that manage to communicate a sense of living nostalgia in the same way as the Dar Si Said Museum does. This brilliant museum is situated in one of Morocco’s most beautiful cities – Marrakech. Here the old mixes with the new with effortless ease in a way that cannot be fully described in words. In the museum things are much the same for, though most of the articles inside date back hundreds of years, many of them are excellent examples of items that are still very much in use in the more mountainous parts of Morocco. The Dar Si Said Museum in Morocco is housed in an opulent palace that is a delight to explore. The ground floor provides the perfect starting place and it is here that visitors can get better acquainted with splendid items from the past that are still very much in use today. Beautifully decorated weapons are presented side by side with splendidly decorative clothing and beaten copper articles while traditional Berber jewelry captivates and enchants. After examining this delightful collection you can make your way up to the first floor where you are greeted by strong Hispano-Moorish decorations and stunning cedar wood complete with intricate carvings. This reproduction of a salon is incredibly accurate and so you can easily picture a blushing bride, complete in ceremonial dress, making her way to the armchair as she prepares for her big day. Other rooms on this floor are filled with an amazing variety of carpets that originate from every corner of the globe. Some have made use of leather while others make use of textiles to create items that accurately reflect the regions that they come from. After exploring the second floor you might want to make your way outside to the small courtyard where you will find exquisitely decorated doors and window frames. The refined ornamentation on these items is delicate and beautiful and it makes one marvel at the level of pride and joy taken in building homes in the past. Taking such a journey through the past helps you to better understand just how much of the past is still used by the living when you make your way through the city streets – ancient traditions are kept very much alive, though perhaps the general outlook on such practices has changed somewhat. So visit the Dar Si Said Museum in Riad Ez-Zaitoun El Jadid, Marrakech and enjoy this memorable journey through time for yourself.\n"
     ]
    },
    {
     "name": "stderr",
     "output_type": "stream",
     "text": [
      "C:\\Users\\pc\\AppData\\Local\\Temp\\ipykernel_3448\\3319100563.py:35: FutureWarning: The frame.append method is deprecated and will be removed from pandas in a future version. Use pandas.concat instead.\n",
      "  df = df.append({\n",
      "C:\\Users\\pc\\AppData\\Local\\Temp\\ipykernel_3448\\3319100563.py:7: DeprecationWarning: executable_path has been deprecated, please pass in a Service object\n",
      "  driver = webdriver.Chrome(chrome_driver_path)\n"
     ]
    },
    {
     "name": "stdout",
     "output_type": "stream",
     "text": [
      "Ethnographic Museum in Tetouan – ‘Museum of Indigenous Arts’\n",
      "The first Ethnographic Museum in Tetouan was founded in 1928 and was known as the 'Museum of Indigenous Arts' or as the 'Muslim House'. However the museum and its endless variety of exhibits was moved to the old military fortress of Sultan Moulay Abderrahman in 1948, which had been renovated to house the new and improved Ethnographic Museum in Tetouan. The Ethnographic Museum is an attraction in Morocco that visitors should not miss out on as it exhibits and educates the public on the traditions, culture and artistic history of the community. The Moroccan community, especially in Tetouan, can be seen as an extremely natural artistic community. Every object is important and their creative abilities are evident even in the most insignificant items. Baskets are decorated in bright and lively designs, bowls are painted in a variety of colors, pillows are embroidered and every design that can be seen on the traditional clothing has a specific message or meaning attached to it. The Tetouan Ethnographical Museum has been divided into specific sections and has authentic recreations of a Tetouani kitchen, celebration rooms, bedrooms and living areas with each displaying their own fascinating collection. From antiquities and costumes to weapons and crafts, each features the detailed and handcrafted designs and decorations commonly seen. One of the most popular rooms in the Tetouan Ethnographical Museum is the Trousseau Room. Here visitors will be able to view the traditions related to one of Morocco’s most important celebrations – marriage. Linens, clothing, bridal trousseau, marriage chest and other symbolic items are on display in this room. Sewing and embroidery is a significant part of the Moroccan tradition, as it is a form of individuality and identity. Visitors will be able to feast their eyes on spectacular linens, silks and materials. The intricate stitches and braiding techniques are also on display, as are different items of clothing made from wool, cotton and even camel hair. The museum also has magnificent exhibits of jewelry, mosaics, headdresses, bridal bed covers and pillows, paintings, furniture, woodcrafts, weaving, traditional instruments, firearms and weapons. The kitchen also proves to be an exciting exhibit, as visitors are able to get a little taste of true Tetouan cuisine and even try the non-alcoholic drinks that are made traditionally on the premises. Walking through this spectacular museum in Tetouan is a wonderful journey. It brings visitors and guests much closer to the culture of the city and gives them a glimpse into personal moments and celebrations in the community that most foreign visitors will never have the opportunity to experience normally.\n"
     ]
    },
    {
     "name": "stderr",
     "output_type": "stream",
     "text": [
      "C:\\Users\\pc\\AppData\\Local\\Temp\\ipykernel_3448\\3319100563.py:35: FutureWarning: The frame.append method is deprecated and will be removed from pandas in a future version. Use pandas.concat instead.\n",
      "  df = df.append({\n",
      "C:\\Users\\pc\\AppData\\Local\\Temp\\ipykernel_3448\\3319100563.py:7: DeprecationWarning: executable_path has been deprecated, please pass in a Service object\n",
      "  driver = webdriver.Chrome(chrome_driver_path)\n"
     ]
    },
    {
     "name": "stdout",
     "output_type": "stream",
     "text": [
      "Forbes Museum – Founded by Malcolm Forbes, publisher of Forbes Magazine\n",
      "The Tangier Forbes Museum is located on the Marshan in Tangier and was founded by Malcolm Forbes, who is also the publisher of the Forbes magazine. The Forbes museum is situated on a 10-acre piece of land called Palais Mendoub, which creates the perfect surroundings for this unique museum and its armament collection. The Tangier Forbes Museum remained in the Forbes family name until 1990 when Malcolm Forbes passed away. After their father’s death, the Forbes children decided to sell the property rather than keep it. Today the Forbes Museum is owned by the Moroccan government and is used as a place for visiting dignitaries to stay in. Malcom Forbes, an American billionaire, was recognized as a leading collector of lead soldiers. When Forbes opened the Tangier Forbes Museum he had 115,000 lead models to display in the building. The lead soldiers have been placed in various settings based on major battles that have occurred right through history. These lead soldiers re-enact battles like Waterloo and Dien Bien Phû in as realistic a manner as possible. Special sound effects and lighting have been added to complete the feel as you look upon these various battles. Some showcases have scenes of complete armies standing on guard, while others depict battle scenes. Outside of the Forbes Museum in the garden, there is a botanic display made up of over 600 statuettes paying respect to the Battle of Three Kings. You can write to the Tangier Forbes Museum at Forbes Museum, Palais Mendoub, rue Shakespeare, Tangier, Morocco. You can also phone the Museum at (212 9) 93 36 06 or you can fax them at (212 9) 93 43 28. The Forbes Museum is open every day of the week and including the weekend. The Museum opens every day at 10:00 am and closes everyday at 17:00 pm. The Medina of Tangier dates back to 500 B.C. and is located by a stunning bay. There are a number of sights and attractions that one can visit, including the Grand and Petite Socco, the harbor and the Kasbah as well as the fascinating Forbes Museum.\n"
     ]
    },
    {
     "name": "stderr",
     "output_type": "stream",
     "text": [
      "C:\\Users\\pc\\AppData\\Local\\Temp\\ipykernel_3448\\3319100563.py:35: FutureWarning: The frame.append method is deprecated and will be removed from pandas in a future version. Use pandas.concat instead.\n",
      "  df = df.append({\n",
      "C:\\Users\\pc\\AppData\\Local\\Temp\\ipykernel_3448\\3319100563.py:7: DeprecationWarning: executable_path has been deprecated, please pass in a Service object\n",
      "  driver = webdriver.Chrome(chrome_driver_path)\n"
     ]
    },
    {
     "name": "stdout",
     "output_type": "stream",
     "text": [
      "Majorelle Musuem – Relaxing and Bird Watching in the Gardens\n",
      "Art lovers simply have to spend time at the Majorelle Museum if they are planning a visit to Marrakech. This delightful museum is situated in a brilliant garden and every aspect of the grounds on which the museum stands seems to be a visionary tribute to color and light. The museum is named for the artist Jacque Majorelle who originally owned and developed the Majorelle Gardens. Both the gardens and the museum are a fitting dedication to this inspirational artist. Jacque Majorelle was born in Nancy, France, in 1886. His entire family was artistic and his father was a celebrated cabinet maker at the time. With the encouragement and backing of his father and friends, Majorelle was able to further his interest in art, finally studying Fine Art in both Nancy and at the Julian Paris Academy. His early inspiration was Brittany and so it wasn’t long before he set off for Spain. In Spain, he discovered a passion for the South and before long his travels took him to Morocco where art and culture are a beautiful mixture of passion and flair. In 1919 he made the decision to settle in Marrakech so that he could continue to be inspired by the vibrant colors and facets of life that surrounded him. It was here that he bought a large piece of ground with the idea of turning it into a public garden that could be enjoyed by all. His vision became a success in 1947 when he was able to open the gates of his garden to the public. Much of the garden was designed on the architectural grace and simplicity that he saw in Marrakech’s palaces. It placed strong emphasis on water and vegetation and this was further complimented by the ‘Blue Workshop’, which was designed by the architect Paul Sinoir in 1931. Today it is the ‘Blue Workshop’ that houses the Islamic art museum, better known as the ‘Majorelle Museum’. Unfortunately, Majorelle wasn’t able to enjoy his creation for too long since he was forced to return to France after being badly injured in a car accident. Majorelle died in France in 1962 at the reasonably old age of 76. Sometime later, in 1980, Pierre Berge and Yves Saint Laurent saw fit to purchase the garden and restore it. They have done an excellent job and today visitors are able to relax in the gardens and enjoy a spot of bird watching. They can also visit the Majorelle museum in Morocco and view a fine collection of Islamic art in this beautifully artistic building and surrounding garden. So visit the Majorelle Museum and Gardens and discover a place where art and nature merge.\n"
     ]
    },
    {
     "name": "stderr",
     "output_type": "stream",
     "text": [
      "C:\\Users\\pc\\AppData\\Local\\Temp\\ipykernel_3448\\3319100563.py:35: FutureWarning: The frame.append method is deprecated and will be removed from pandas in a future version. Use pandas.concat instead.\n",
      "  df = df.append({\n",
      "C:\\Users\\pc\\AppData\\Local\\Temp\\ipykernel_3448\\3319100563.py:7: DeprecationWarning: executable_path has been deprecated, please pass in a Service object\n",
      "  driver = webdriver.Chrome(chrome_driver_path)\n"
     ]
    },
    {
     "name": "stdout",
     "output_type": "stream",
     "text": [
      "Marrakech Museum – Traditional Art in the Dar M’Nebhi Palace\n",
      "One of the truly interesting things about Morocco is the way that traditional Moroccan art and architecture is still very much a part of everyday life. In some places it is as if time has stopped and you find traditionally clad people living traditional lifestyles in traditional homes. There is a strong sense of culture and family unity here that is almost tangible - even to the outsider. And it is here in this delightful setting that you will find the Marrakech Museum. Although the Marrakech Museum in Morocco displays a fine array of Jewish, Berber and Muslim artifacts, many will tell you that this is not the real reason that they come here. The true attraction is the Dar M’Nebhi Palace in which the Marrakech Museum is housed. This absolutely fabulous building dates back to the 19th century and features artistically decorated windows and archways, pillars and more. The building is often referred to as the ‘jewel of Marrakech’ and when you tour it you will see that it certainly is an amazing structure. There are dozens of different rooms, archways, pillars and passages in this massive maze of art and artifacts. Perhaps one of the most frequently photographed parts of the palace is the massive covered courtyard where huge sheets of fabric provide much needed shade and give the area an ethereal feeling. In the center there is an absolutely massive lamp chandelier hanging from the ceiling and all around the courtyard are traditional wrought iron chairs where visitors can relax and take in the sight. Of course the artifacts in the Marrakech Museum are interesting too, but the Dar M’Nebhi Palace really makes the whole experience a satisfying one. Don’t forget to pack in your camera for this one, because you are going to want to use it a lot! You might also want to plan anything between 30 minutes and one and a half hours to view the palace and its many artistic displays, so make sure that you plan your visit properly to make the most out of it. You’ll find the Palace at Place Ben Youssef in Marrakech, Morocco. If you enjoy architecture, art and history you shouldn’t miss this great attraction.\n"
     ]
    },
    {
     "name": "stderr",
     "output_type": "stream",
     "text": [
      "C:\\Users\\pc\\AppData\\Local\\Temp\\ipykernel_3448\\3319100563.py:35: FutureWarning: The frame.append method is deprecated and will be removed from pandas in a future version. Use pandas.concat instead.\n",
      "  df = df.append({\n",
      "C:\\Users\\pc\\AppData\\Local\\Temp\\ipykernel_3448\\3319100563.py:7: DeprecationWarning: executable_path has been deprecated, please pass in a Service object\n",
      "  driver = webdriver.Chrome(chrome_driver_path)\n"
     ]
    },
    {
     "name": "stdout",
     "output_type": "stream",
     "text": [
      "Museum of Moroccan Art – Unique Collections of Moroccan Artwork\n",
      "The Museum of Moroccan Art (Dar el Makhzen) is located in the Medina of Tangier. The Museum was formerly a palace that was built in the 17th century for the use of the Governor. You can contact the museum on (212 9) 93 20 97 and it is open from Monday to Wednesday at 08:30 am to 18:00 pm. The Museum of Moroccan Art is situated on beautiful grounds and is located specifically in the prince’s apartments at the palace. These rooms are exquisite and decorated with sculpted plasterwork and mosaics completed in colored marble and glass tile pieces. The prince’s apartments are finished off with beautiful wooden ceilings that have been painted. Housed in the Museum of Moroccan Art are unique collections of artwork that come from different cities and towns in different regions of Morocco. These art pieces act as celebrated ambassadors, representing the entire country. Before you walk into the palace you will notice a unique and stunning interior courtyard, which is beautifully enameled in glazed earthenware. In the northern rooms of the Museum of Moroccan Art there are a number of firearms decorating the walls. These firearms have been decorated with marquetry, which is a decorating technique that makes use of hot pieces of glass. The hot glass is applied to the surface of the firearm and later, when it has cooled, it is carved to produce a stunning piece of artwork. The museum also showcases intricate textiles and tile work, a variety of leather goods, stunning pieces of Moroccan Jewelry, Moroccan brass and copper products and rural earthenware crockery. On the walls of the museum you will also observe pottery pieces that have been engraved with motifs of feathers and flowers and other similar decorations. In another room there are exquisite carpets from Rabat that have been beautifully woven, incorporating the characteristic medallion associated with the city. In the Fez room you will find silks that have been dyed in every color imaginable. There are manuscripts written using calligraphy and dishes that are centuries of years old and come in an array of vibrant colors. There is also embroidery work that has been beautifully stitched with real gold and a number of other Moroccan artifacts. The Museum of Moroccan Art is a wonderful collection of handcrafted goods, which you definitely do not want to miss.\n"
     ]
    },
    {
     "name": "stderr",
     "output_type": "stream",
     "text": [
      "C:\\Users\\pc\\AppData\\Local\\Temp\\ipykernel_3448\\3319100563.py:35: FutureWarning: The frame.append method is deprecated and will be removed from pandas in a future version. Use pandas.concat instead.\n",
      "  df = df.append({\n",
      "C:\\Users\\pc\\AppData\\Local\\Temp\\ipykernel_3448\\3319100563.py:7: DeprecationWarning: executable_path has been deprecated, please pass in a Service object\n",
      "  driver = webdriver.Chrome(chrome_driver_path)\n"
     ]
    },
    {
     "name": "stdout",
     "output_type": "stream",
     "text": [
      "National Ceramics Museum – Incredible Safiot Pottery\n",
      "Perhaps one of the most interesting forms of ceramics is that of Safiot pottery. These incredibly ornate masterpieces are simply unbeatable for handcrafted decadence. The skill needed for Safiot pottery is passed down from generation to generation and many still practice this form of pottery today. In fact, visitors can take a course in it wherein they are housed with the family of a Safi artisan and are taught all the aspects of Safiot pottery. If you would like to see excellent examples of this ingenious way of decorating and molding clay, why not visit the National Ceramics Museum in Morocco? The National Ceramics Museum is housed in the Kechla citadel, which was built by the Portuguese in the 16th century. The building itself is an interesting treat since, not only does it offer a fantastic view of the roofs of the medina all the way to the cool blue waters of the Atlantic, but it has a number of interesting design elements incorporated into it. It also has great historical significance. Of course, the most interesting aspect of the building is not the building or the view, but rather the ceramic gems that are housed inside of it. The Kechla citadel is home to some of the finest pieces of Safiot pottery in the country. Each item housed here has been carefully handcrafted and finished under the hands of a skilled Safi artisan. Such exquisite work has been the pride of the residents of Safi for years. Each ceramic masterpiece provides a world of self-expression and is filled with meaningful designs, styles and colors. The pieces are trimmed with tooled silver overlay which gives a sort of richness to the design and adds to its uniqueness. Techniques used to create these beautiful designs include engraving, stamping, molding and sculpting and a skilled artisan may also used subtle differences in color and relief to further decorate their artworks. The excellent examples of this artwork on display at the National Ceramics Museum are, of course, not for sale – especially since many of them are very old. If seeing them inspires you to purchase the ultimate conversation piece for your home, you can visit the potter’s quarter in the Safi museum where a number of modern-day artists continue to practice this age-old trade. You will find them shaping, painting and baking a variety of dishes, tiles and other ceramics while you watch and there are always plenty of these items available for purchase. So visit the National Ceramics Museum in the Citadelle de la Kechla in Safi and discover a whole new facet of ceramic art.\n"
     ]
    },
    {
     "name": "stderr",
     "output_type": "stream",
     "text": [
      "C:\\Users\\pc\\AppData\\Local\\Temp\\ipykernel_3448\\3319100563.py:35: FutureWarning: The frame.append method is deprecated and will be removed from pandas in a future version. Use pandas.concat instead.\n",
      "  df = df.append({\n",
      "C:\\Users\\pc\\AppData\\Local\\Temp\\ipykernel_3448\\3319100563.py:7: DeprecationWarning: executable_path has been deprecated, please pass in a Service object\n",
      "  driver = webdriver.Chrome(chrome_driver_path)\n"
     ]
    },
    {
     "name": "stdout",
     "output_type": "stream",
     "text": [
      "Natural Science Museum – Dinosaurs and Fossilized Plants\n",
      "If you are interested in natural science and history, you will love the Natural Science Museum in Morocco. This reasonably good museum is situated in Rabat and it is filled with impressive displays that chronicle the origins of the earth and the creatures that have lived on it over the ages. Amateur archaeologists will delight in the many fascinating discoveries that are on display at the Natural Science Museum. So if you enjoy archaeology, why not arrange a trip to the museum during your stay and become better informed about the many interesting archaeological finds that have been made in Morocco? You may discover a wealth of information just waiting to be discovered! The most impressive display in the Natural Science Museum in Morocco is that of a sauropod dinosaur. This impressive creature was discovered in 1979 in the Azilal regions of the High Atlas Mountains, after which archaeologists spent years of painstaking and careful digging to unearth it. The results were surely worth it since now all the bones in this large skeleton are completely authentic. The animal measures a whopping fifteen meters in length and it is estimated that it must have lived approximately 150 million years ago. Of course, seeing a large skeleton is one thing, but some may find it hard to imagine such a framework of bones with skin, eyes, scales and nails. Therefore a massive, full-scale reproduction of this gentle giant has been created, complete with compelling scales, eyes and teeth. As you stand and stare up at this memorial to a massive but harmless herbivore, it is easier to imagine what it must have looked like when it actually roamed the earth all those millions of years ago. Certainly the earth must have been a very different place at the time in order for it to accommodate such massive creatures. So if you enjoy learning about dinosaurs and fossilized plants, come to the Natural Science Museum in Rabat and see all these amazing discoveries for yourself. The museum will transport you back in time to an era when everything in the world must have seemed very large and amazing. It’s a journey that is quite unforgettable.\n"
     ]
    },
    {
     "name": "stderr",
     "output_type": "stream",
     "text": [
      "C:\\Users\\pc\\AppData\\Local\\Temp\\ipykernel_3448\\3319100563.py:35: FutureWarning: The frame.append method is deprecated and will be removed from pandas in a future version. Use pandas.concat instead.\n",
      "  df = df.append({\n",
      "C:\\Users\\pc\\AppData\\Local\\Temp\\ipykernel_3448\\3319100563.py:7: DeprecationWarning: executable_path has been deprecated, please pass in a Service object\n",
      "  driver = webdriver.Chrome(chrome_driver_path)\n"
     ]
    },
    {
     "name": "stdout",
     "output_type": "stream",
     "text": [
      "Oudaias Museum – Breathtaking Garden and Lush Vegetation\n",
      "The Oudaias Museum is located in the historic town of Rabat. It is here that Moulay Ismail constructed his first luxurious mansion that is now home to the museum. This spectacular seventeenth century lodge is known for its breathtaking garden that is a maze of pathways, surrounded by lush vegetation, endless beds of vibrant flowers and beautiful ramparts and fountains. Over and above the immaculate gardens that attract many visitors each year, the museum building itself is an awesome sight. Its spacious rooms and ancient interior, which is decorated in true Moroccan fashion, instills an atmosphere of royalty, wealth and absolute luxury. The Oudaias Museum in Rabat features a reproduction of an ancient Moroccan room with its magnificent use of colors finished off with beautiful brocade cushions and couches (known as divans) that are upholstered with gold and silk. The carpets that are exhibited are not just woven masterpieces, but extraordinary feats of meticulous stitching and detailed work. A true Rabat carpet can have more than 130 thousand stitches in just one square meter. The motifs and patterns that are found on these carpets are traditional and often refer to the specific craftsman. Styles and techniques used to produce these rare carpets are unique to Morocco. The Oudaias Museum in Rabat has a magnificent variety of pottery, musical instruments, ancient Korans and jewelry. Visitors may also view the market place, furniture displays, diamond cutting exhibitions, statues, sculptures, textiles, fabrics, metalworking (with both silver and gold) exhibits, decorative arts and costume displays. From marble halls, priceless carpets, works of art and unmistakable elegance, the Oudaias Museum is a gateway into the past and the rich hypnotic history of Morocco. It is an attraction in Morocco that grows in popularity as the fascination with the romantic images and mystical interest in the country increases. To walk the halls and corridors of the luxurious lodge, which was constructed in an era that the present generation can only imagine, is a rare and wonderful opportunity. This museum is an attraction in Morocco that is well worth the visit. It is a structure that transports visitors to a world they could only dream about, while educating the public and foreign visitors about the rich and unique history of Morocco and its many talented craftsmen, present and past.\n"
     ]
    },
    {
     "name": "stderr",
     "output_type": "stream",
     "text": [
      "C:\\Users\\pc\\AppData\\Local\\Temp\\ipykernel_3448\\3319100563.py:35: FutureWarning: The frame.append method is deprecated and will be removed from pandas in a future version. Use pandas.concat instead.\n",
      "  df = df.append({\n",
      "C:\\Users\\pc\\AppData\\Local\\Temp\\ipykernel_3448\\3319100563.py:7: DeprecationWarning: executable_path has been deprecated, please pass in a Service object\n",
      "  driver = webdriver.Chrome(chrome_driver_path)\n"
     ]
    },
    {
     "name": "stdout",
     "output_type": "stream",
     "text": [
      "Postal Museum – Philately and Communication\n",
      "If you are interested in philately, then you will already probably know what the term means. For those of us who are less knowledgeable, philately is the in-depth study of postage stamps. It is different from stamp collecting, since it requires that a practitioner be interested in the design, production and use of stamps after their date of issue. Philatelists may not even own the stamps that they study, while stamp collectors are interested more specifically in owning and collecting stamps and often spare little thought to the same aspects of stamps that a philatelist may consider. Well, whether you are a philatelist or a stamp collector, you may well enjoy a visit to the Postal Museum in Rabat. The Postal Museum in Morocco is about more than just stamps however; it is about communication. Since writing was the most common form of early long distance communication, quite a substantial part of the museum is dedicated to it. There are Moroccan stamps and envelopes that will be of particular interest to both philatelists and stamp collectors. Part of this impressive section of the collection is the first official stamp of Morocco, which bares the date 12 May 1912. It depicts the Aissaoua Mosque in Tangier and is quite interesting to see. From here the postal museum goes on to document the gradual advancements in long distance communication, including the use of telephones and telegraph machines. Of particular interest are the Baudot, which is a telegraph complete with a printer, and the belinographs which were used for sending photographs over a long distance. There is also a section of the museum dedicated to postal vans. In fact, virtually every role played by the postal service over the centuries is accurately documented at the Postal Museum for the pleasure of all interested parties. The Postal Museum in Morocco was founded in 1970 and it has been fascinating visitors ever since. This is especially true of our modern day era when many of the items on display are often unheard of by younger generations. You’ll find the Postal Museum in Rabat at the Ministry of P&T. So give this great museum a try and discover the legacy that the postal services of Morocco have left to the world.\n"
     ]
    },
    {
     "name": "stderr",
     "output_type": "stream",
     "text": [
      "C:\\Users\\pc\\AppData\\Local\\Temp\\ipykernel_3448\\3319100563.py:35: FutureWarning: The frame.append method is deprecated and will be removed from pandas in a future version. Use pandas.concat instead.\n",
      "  df = df.append({\n",
      "C:\\Users\\pc\\AppData\\Local\\Temp\\ipykernel_3448\\3319100563.py:7: DeprecationWarning: executable_path has been deprecated, please pass in a Service object\n",
      "  driver = webdriver.Chrome(chrome_driver_path)\n"
     ]
    },
    {
     "name": "stdout",
     "output_type": "stream",
     "text": [
      "Sidi Mohamed Ben Abdellah Museum – Traditional Garments, Musical Instruments and Tapestries\n",
      "Some would argue that the only museum in Essaouira that is worth seeing is the Sidi Mohamed Ben Abdellah Museum. This excellent museum is certainly worth spending time in. Not only is the collection absolutely fabulous, but the building it is housed in is delightful too. Together they present the perfect Moroccan museum where you can lose yourself in the culture and history of Morocco for hours if you should wish to do so. The Sidi Mohamed Ben Abdellah Museum in Morocco is situated in a pasha residence that dates back to the 19th century. The graceful mansion is certainly worthy of attention since it is typical of such buildings at the time. Within its walls it is easy to imagine the graceful lifestyle that a person in such a position of authority must have enjoyed. This particular mansion is the setting of a great ethnographic museum where you can get a taste for the local art in its many different forms. You will find traditional garments for special occasions, tapestries, musical instruments (both old and modern) and a number of other articles. There is a strong focus on the Berber culture and many of the articles originate with this people. There are some articles that are used in Berber rituals and there are a number of handicraft traditions specific to particular tribes, which have been well documented and presented. Of course, there is also an excellent collection of woodwork and carpets and a wonderful display of old photographs of traditional costumes. Some of the ethnographic parts of the display are located on the upper floor, so make sure that you don’t accidentally skip them. If any of these various aspects of regional art, history and culture appeal to you, you should definitely make an effort to visit the Sidi Mohamed Ben Abdellah Museum in Morocco.\n"
     ]
    },
    {
     "name": "stderr",
     "output_type": "stream",
     "text": [
      "C:\\Users\\pc\\AppData\\Local\\Temp\\ipykernel_3448\\3319100563.py:35: FutureWarning: The frame.append method is deprecated and will be removed from pandas in a future version. Use pandas.concat instead.\n",
      "  df = df.append({\n"
     ]
    }
   ],
   "source": [
    "from selenium import webdriver\n",
    "from bs4 import BeautifulSoup\n",
    "from time import sleep\n",
    "\n",
    "for link in urls_museums:\n",
    "    chrome_driver_path = \"C:\\\\Users\\\\pc\\\\OneDrive\\\\Documents\\\\chromedriver-win64\\\\chromedriver.exe\"\n",
    "    driver = webdriver.Chrome(chrome_driver_path)\n",
    "    driver.get(link)\n",
    "    sleep(5)  # Add a pause to ensure content loads properly\n",
    "\n",
    "    # Retrieve the content of the page with BeautifulSoup\n",
    "    src = driver.page_source\n",
    "    soup = BeautifulSoup(src, 'html.parser')\n",
    "    \n",
    "    # Get the title\n",
    "    title = soup.find('h1', class_='page-title').get_text()\n",
    "    print(title)\n",
    "    \n",
    "    # Get the excerpt paragraphs\n",
    "    paragraphs = soup.find('div', class_='excerpt')\n",
    "    excerpt_text = paragraphs.get_text().strip() if paragraphs else \"\"\n",
    "    #print(excerpt_text)\n",
    "    \n",
    "    # Get the content paragraphs\n",
    "    content_div = soup.find('div', class_='content-text')\n",
    "    paragraphs = content_div.find_all('p') if content_div else []\n",
    "    filtered_paragraphs = [p for p in paragraphs if 'back-to-category' not in p.get('class', [])]\n",
    "    \n",
    "    # Join the text from the filtered p tags\n",
    "    joined_text = ' '.join(p.get_text() for p in filtered_paragraphs)\n",
    "    \n",
    "    # Concatenate the excerpt text with the joined paragraphs text\n",
    "    combined_text = excerpt_text + ' ' + joined_text\n",
    "    print(combined_text)\n",
    "    df = df.append({\n",
    "            'Prompt':title,\n",
    "            'Response':combined_text\n",
    "        }, ignore_index=True)\n",
    "    # Close the browser after processing each link\n",
    "    driver.quit()\n"
   ]
  },
  {
   "cell_type": "code",
   "execution_count": 28,
   "id": "317d9952",
   "metadata": {},
   "outputs": [
    {
     "data": {
      "text/html": [
       "<div>\n",
       "<style scoped>\n",
       "    .dataframe tbody tr th:only-of-type {\n",
       "        vertical-align: middle;\n",
       "    }\n",
       "\n",
       "    .dataframe tbody tr th {\n",
       "        vertical-align: top;\n",
       "    }\n",
       "\n",
       "    .dataframe thead th {\n",
       "        text-align: right;\n",
       "    }\n",
       "</style>\n",
       "<table border=\"1\" class=\"dataframe\">\n",
       "  <thead>\n",
       "    <tr style=\"text-align: right;\">\n",
       "      <th></th>\n",
       "      <th>Prompt</th>\n",
       "      <th>Response</th>\n",
       "    </tr>\n",
       "  </thead>\n",
       "  <tbody>\n",
       "    <tr>\n",
       "      <th>0</th>\n",
       "      <td>Travel to Agadir in Morocco</td>\n",
       "      <td>Agadir is Southern Morocco's most visited city...</td>\n",
       "    </tr>\n",
       "    <tr>\n",
       "      <th>1</th>\n",
       "      <td>Accommodation</td>\n",
       "      <td>There are plenty of hotels to choose from in M...</td>\n",
       "    </tr>\n",
       "    <tr>\n",
       "      <th>2</th>\n",
       "      <td>Beaches</td>\n",
       "      <td>The lack of monuments, museums and interesting...</td>\n",
       "    </tr>\n",
       "    <tr>\n",
       "      <th>3</th>\n",
       "      <td>Things to See &amp; Do</td>\n",
       "      <td>The Valley of the Birds (daily from 09:30-12:3...</td>\n",
       "    </tr>\n",
       "    <tr>\n",
       "      <th>4</th>\n",
       "      <td>Cuisine &amp; Nightlife</td>\n",
       "      <td>Besides what the large hotels have, there’s no...</td>\n",
       "    </tr>\n",
       "    <tr>\n",
       "      <th>...</th>\n",
       "      <td>...</td>\n",
       "      <td>...</td>\n",
       "    </tr>\n",
       "    <tr>\n",
       "      <th>121</th>\n",
       "      <td>National Ceramics Museum – Incredible Safiot P...</td>\n",
       "      <td>Perhaps one of the most interesting forms of c...</td>\n",
       "    </tr>\n",
       "    <tr>\n",
       "      <th>122</th>\n",
       "      <td>Natural Science Museum – Dinosaurs and Fossili...</td>\n",
       "      <td>If you are interested in natural science and h...</td>\n",
       "    </tr>\n",
       "    <tr>\n",
       "      <th>123</th>\n",
       "      <td>Oudaias Museum – Breathtaking Garden and Lush ...</td>\n",
       "      <td>The Oudaias Museum is located in the historic ...</td>\n",
       "    </tr>\n",
       "    <tr>\n",
       "      <th>124</th>\n",
       "      <td>Postal Museum – Philately and Communication</td>\n",
       "      <td>If you are interested in philately, then you w...</td>\n",
       "    </tr>\n",
       "    <tr>\n",
       "      <th>125</th>\n",
       "      <td>Sidi Mohamed Ben Abdellah Museum – Traditional...</td>\n",
       "      <td>Some would argue that the only museum in Essao...</td>\n",
       "    </tr>\n",
       "  </tbody>\n",
       "</table>\n",
       "<p>126 rows × 2 columns</p>\n",
       "</div>"
      ],
      "text/plain": [
       "                                                Prompt  \\\n",
       "0                          Travel to Agadir in Morocco   \n",
       "1                                        Accommodation   \n",
       "2                                              Beaches   \n",
       "3                                   Things to See & Do   \n",
       "4                                  Cuisine & Nightlife   \n",
       "..                                                 ...   \n",
       "121  National Ceramics Museum – Incredible Safiot P...   \n",
       "122  Natural Science Museum – Dinosaurs and Fossili...   \n",
       "123  Oudaias Museum – Breathtaking Garden and Lush ...   \n",
       "124        Postal Museum – Philately and Communication   \n",
       "125  Sidi Mohamed Ben Abdellah Museum – Traditional...   \n",
       "\n",
       "                                              Response  \n",
       "0    Agadir is Southern Morocco's most visited city...  \n",
       "1    There are plenty of hotels to choose from in M...  \n",
       "2    The lack of monuments, museums and interesting...  \n",
       "3    The Valley of the Birds (daily from 09:30-12:3...  \n",
       "4    Besides what the large hotels have, there’s no...  \n",
       "..                                                 ...  \n",
       "121  Perhaps one of the most interesting forms of c...  \n",
       "122  If you are interested in natural science and h...  \n",
       "123  The Oudaias Museum is located in the historic ...  \n",
       "124  If you are interested in philately, then you w...  \n",
       "125  Some would argue that the only museum in Essao...  \n",
       "\n",
       "[126 rows x 2 columns]"
      ]
     },
     "execution_count": 28,
     "metadata": {},
     "output_type": "execute_result"
    }
   ],
   "source": [
    "df"
   ]
  },
  {
   "cell_type": "code",
   "execution_count": 29,
   "id": "ae95db08",
   "metadata": {},
   "outputs": [],
   "source": [
    "urls_national_parks = [\n",
    "    \"https://www.morocco.com/attractions/national-parks/arganeraie-reserve/\",\n",
    "    \"https://www.morocco.com/attractions/national-parks/mediterranean-intercontinental/\",\n",
    "    \"https://www.morocco.com/attractions/national-parks/oasis-du-sud-marocain/\",\n",
    "    \"https://www.morocco.com/attractions/national-parks/oued-massa-reserve/\",\n",
    "    \"https://www.morocco.com/attractions/national-parks/souss-masa-national-park/\",\n",
    "    \"https://www.morocco.com/attractions/national-parks/tazekka-national-park/\"\n",
    "]\n"
   ]
  },
  {
   "cell_type": "code",
   "execution_count": 30,
   "id": "54ba14c8",
   "metadata": {},
   "outputs": [
    {
     "name": "stderr",
     "output_type": "stream",
     "text": [
      "C:\\Users\\pc\\AppData\\Local\\Temp\\ipykernel_3448\\3675700327.py:7: DeprecationWarning: executable_path has been deprecated, please pass in a Service object\n",
      "  driver = webdriver.Chrome(chrome_driver_path)\n"
     ]
    },
    {
     "name": "stdout",
     "output_type": "stream",
     "text": [
      "Arganeraie Biosphere Reserve – Wildlife Species and Argan trees\n",
      "The last barrier that lies between desertification and Morocco is the Argan Forest. Even though this forest is dense and is home to many wildlife species, it is threatened by the market value of the Argan trees (Argania spinosa). The Argan trees produce oils used in cosmetics while its wood is used for various purposes such as the creation of medicines. The area the forest is situated on is often used to provide pastures for farm animals. Approximately forty environmental systems have been recognized in Morocco and these are significant to the survival of various vegetation species and the Arganeraie Biosphere Reserve is one of them. The Arganeraie Biosphere Reserve covers over 2 560 000 hectares of terrain, of which some is inhabited and therefore it incorporates urban areas, forest areas and agricultural lands. It was established in the year 1998 to protect the remaining species and to assist researchers in their reforestation efforts. At present, the two most prominent ecosystem types that are found within the Arganeraie Biosphere Reserve are the sclerophyllous forests and the deserts, which fall into semi-desert and warm desert regions. As the Sahara Desert slowly eats away at the bordering territories, it is vital to conserve the forests that are already in existence to protect against the advancing desert. The continued existence and acceptance of fishing communities and farming communities within the borders of the biosphere reserve have brought about an increase in national parks in Morocco. Most of these parks are found within the borders of much larger biosphere reserves and they contain and completely protect various areas. National parks, such as the Souss Masa National Park, are vital to the survival of the Argan tree. Scientists and researchers from these facilities try to reach out to the communities, to educate them about the threat of desertification and the importance of the preservation of the forests. These great efforts, which are practiced at most of the biosphere reserves and national parks in Morocco, have received international attention and support. Scientists have also been tirelessly trying to establish what sort of success artificial pollination might have. Efforts by Israel have also been noted, as they have tried to introduce the Argan tree species into the Negev desert. The Argan tree, and many of the species that are found in the forests, have a wonderful resistance to drought and are capable of adjusting to many environmental changes. With the assistance of local communities and by reducing the risk of human exploitation, the forests can be protected and many areas that are threatened by desertification may be saved.\n"
     ]
    },
    {
     "name": "stderr",
     "output_type": "stream",
     "text": [
      "C:\\Users\\pc\\AppData\\Local\\Temp\\ipykernel_3448\\3675700327.py:35: FutureWarning: The frame.append method is deprecated and will be removed from pandas in a future version. Use pandas.concat instead.\n",
      "  df = df.append({\n",
      "C:\\Users\\pc\\AppData\\Local\\Temp\\ipykernel_3448\\3675700327.py:7: DeprecationWarning: executable_path has been deprecated, please pass in a Service object\n",
      "  driver = webdriver.Chrome(chrome_driver_path)\n"
     ]
    },
    {
     "name": "stdout",
     "output_type": "stream",
     "text": [
      "Mediterranean Intercontinental Biosphere Reserve – UNESCO Reserve\n",
      "To establish a biosphere reserve that spans over two countries is certainly an enormous undertaking. Through UNESCO’s Man and the Biosphere Program the establishment of the Mediterranean Intercontinental Biosphere Reserve in 2006 was made possible. The two counties, Morocco and Spain, both share a similar cultural history and have ecological and geological similarities. Biosphere reserves that are under the Man and the Biosphere Program are located in areas where the communities that live in these regions play a vital role in the goals of the biosphere reserves. As in the case of the Mediterranean Intercontinental Biosphere Reserve, communities from both Spain and Morocco are dedicated to the education of the public, research of the different species in the biosphere, promoting development in biodiversity conservation and supporting socio-economic growth. Communities are also involved in training, management and the monitoring of the reserve. Trans-boundary reserves are difficult to maintain without the assistance and loyal services received from the communities. Biosphere Reserves often have national parks created within their boundaries, as most reserves cover urban, agricultural and conservation areas. Both countries have their own parks to preserve and protect from exploitation from humans. The national parks on the Spanish side of the Mediterranean Intercontinental Biosphere Reserve include Del Estrecho, Sierra de las Neive, Los Alcornocales and Sierra de Grazalema. The national parks in Morocco that are included in the reserve are the Talassemtane National Park and sites such as Koudiet Taifour, Lagune de Smir, Jbel Bouhachem and Jbel Moussa. Many of the provinces in Morocco, have biosphere reserves, but the Mediterranean Intercontinental Biosphere Reserve is the first of its kind in the Mediterranean. The biosphere reserves and national parks in Morocco do not only assist greatly in the conservation of habitats and species but bring attention and tourism to many rural communities and this helps build a biological culture. Many communities feel a sense of pride and self worth by being included into such a large and important project. They work continuously and selflessly to protect and to maintain the beautiful forests of Morocco. Together, UNESCO, Spain and Morocco have secured a future for nature and for the many people who live and work within the biosphere reserves.\n"
     ]
    },
    {
     "name": "stderr",
     "output_type": "stream",
     "text": [
      "C:\\Users\\pc\\AppData\\Local\\Temp\\ipykernel_3448\\3675700327.py:35: FutureWarning: The frame.append method is deprecated and will be removed from pandas in a future version. Use pandas.concat instead.\n",
      "  df = df.append({\n",
      "C:\\Users\\pc\\AppData\\Local\\Temp\\ipykernel_3448\\3675700327.py:7: DeprecationWarning: executable_path has been deprecated, please pass in a Service object\n",
      "  driver = webdriver.Chrome(chrome_driver_path)\n"
     ]
    },
    {
     "name": "stdout",
     "output_type": "stream",
     "text": [
      "Oasis Du Sud Marocain Biosphere Reserve – Spanning 7 Million Hectares\n",
      "The Oasis Du Sud Marocain Biosphere Reserve spans over a region of seven million hectares and is vital in the battle against desertification. One of its most successful weapons against the encroaching desert are oases. The communities that live within the boundaries of the Oasis Du Sud Marocain Biosphere Reserve depend on agriculture for their livelihoods as they are not tourist or craft orientated. The over exploitation of the land, misuse of water and deforestation of the area causes a great loss of agricultural land and income. The landscape of the Oasis De Sud Marocain Biosphere Reserve consists mainly of temperate grasslands, highland systems, desert areas (both semi-desert and warm-desert) and various mountain systems. The agricultural areas provide grazing but are mostly used for the cultivation of olives, cereals, dates and potatoes. Most of the habitats within this national reserve in Morocco are made up of Acacia forests, cliffs, lakes, mountain lakes, palm oases, sand dunes and desert steppes. The biosphere reserve in this area is dedicated to the research and awareness of the correct use of water systems, freshwater systems and ecosystems. To maintain the quality of the current water supply and to protect against the degradation of the ecosystems is vital. Some ecosystems within the Oasis De Sud Marocain Biosphere Reserve are impoverished and it is therefore important that they are rehabilitated. The goal of the biosphere reserve, as with many national parks in Morocco, is to enhance research on date palm trees, study the history of the area, provide education and assistance to communities in regard to the correct use of water and agricultural cultivation and to monitor the growth of the reserve. It has been shown that the encroachment of the Sahara Desert is only one threat to the area. The use of incorrect farming methods, the introduction of foreign plant species to the environment and drought all play a significant role in the degradation of the natural habitat. Educating local farmers and communities can empower them and help them to restore their culture, to grow successful crops, or graze their animals without causing devastating damage to the habitat. The wonder of the Oasis De Sud Marocain Biosphere Reserve does not end with breathtaking landscapes and unique habitats; it is also home to a World Heritage Site. The Ksar of Ait-Ben-Haddou is located within the reserve and is of great historical importance and an architectural wonder. Biosphere reserves protect ancient habitats and promote their future survival.\n"
     ]
    },
    {
     "name": "stderr",
     "output_type": "stream",
     "text": [
      "C:\\Users\\pc\\AppData\\Local\\Temp\\ipykernel_3448\\3675700327.py:35: FutureWarning: The frame.append method is deprecated and will be removed from pandas in a future version. Use pandas.concat instead.\n",
      "  df = df.append({\n",
      "C:\\Users\\pc\\AppData\\Local\\Temp\\ipykernel_3448\\3675700327.py:7: DeprecationWarning: executable_path has been deprecated, please pass in a Service object\n",
      "  driver = webdriver.Chrome(chrome_driver_path)\n"
     ]
    },
    {
     "name": "stdout",
     "output_type": "stream",
     "text": [
      "Oued Massa Nature Reserve – A Birder’s Paradise\n",
      "When people think of Morocco they think of sprawling whitewashed villages, noisy souks and miles and miles of sand. But Morocco is actually much more varied than that and, in fact, the country is home to dozens of spectacular national parks and nature reserves. Since the 1930s the local government has been improving government law regarding the protection of national parks so that natural areas are better protected against exploitation and environmental encroachment. While some wilderness areas feature vast plains of desert, others are home to snow-capped mountain ranges and densely vegetated valleys. Amidst this wonderful abundance of biological richness you will find a variety of nature reserves and national parks that have been carefully established to protect the country’s natural heritage and environment. The Oued Massa Nature Reserve is only a short drive from Agadir and it boasts some of the best bird watching opportunities in the country. The reserve features a rich mixture of habitats and this in turn attracts a wonderful variety of both birds and animals. Avid bird watchers will be pleased to learn that one can spot Sand Grouse, Cranes, Turnstone, Waders, Godwit, Snipe, Little Crake and Dunlin in the reserve in one area. A short journey to another part of the reserve will allow you to see Spoonbill, Stork, Flamingo, Stilt, Harrier and Osprey. The park is also home to one of the world’s rarest birds, the Bald Ibis. Visiting this stunning nature reserve will enable birdwatchers to see all these birds and more. The season can also affect the variety of birds that you are able to see, so if you have a preference for something in particular it would be good to do some research before booking your tickets to Morocco. For example, if you visit during spring you can see Hoopoes, Woodchat, Orphean, Shrike, Warblers and Bee-eaters. Winter, however, will allow you to see Great Grey Shrike, Siren and Stone Curlew. The Oued Massa Nature Reserve in Morocco is a virtual paradise of plants, birds and other animals. So make sure that you get to spend at least a little time enjoying this natural gem the next time you visit Morocco.\n"
     ]
    },
    {
     "name": "stderr",
     "output_type": "stream",
     "text": [
      "C:\\Users\\pc\\AppData\\Local\\Temp\\ipykernel_3448\\3675700327.py:35: FutureWarning: The frame.append method is deprecated and will be removed from pandas in a future version. Use pandas.concat instead.\n",
      "  df = df.append({\n",
      "C:\\Users\\pc\\AppData\\Local\\Temp\\ipykernel_3448\\3675700327.py:7: DeprecationWarning: executable_path has been deprecated, please pass in a Service object\n",
      "  driver = webdriver.Chrome(chrome_driver_path)\n"
     ]
    },
    {
     "name": "stdout",
     "output_type": "stream",
     "text": [
      "Spectacular Birding in Souss Massa National Park\n",
      "The Souss Massa National Park, also spelled Souss Masa National Park, was established in the year 1991 and is located near the city of Agadir in Morocco. There are many national parks in Morocco, but none provide a more spectacular variety of bird species than the Souss Massa National Park. Although the increase in population numbers does cause concern, the park and the Moroccan authorities have taken various steps to protect the wildlife and the habitat of the park. What makes the Souss Massa National Park especially beautiful is its diverse habitat that ranges from endless beaches and cultivated fields to intimidating sand dunes, rocky cliffs and dense Argania forests. As with most and around the world, certain habitats attract specific species and the more diverse the habitat selection, the wider the range of inhabiting species becomes. Because the park is known for its unlimited range of bird species and migrating birds, avid bird watchers flock to the park to catch a glimpse of the sea of color that decorates the landscape and trees. Visitors can look forward to seeing Hoopoes, Marbled Ducks, Peregrines, Barbary Falcons, Booted Eagles, Spoonbills, Great Spotted Cuckoos, Purple Herons, Swallows, Bee-eaters and Ruddy Shelducks, to name a few. Of course the birds share their surroundings with fascinating animals such as the Jackal, Algerian Hedgehog, African Wild Cat, Leopard Lizards, Weasels, the Red Fox and quite a range of different reptiles and rare amphibians. But it is one bird in particular that steals the show and nearly all who come here hope to see it. The Souss Massa National Park is one of two parks that are home to the only remaining Northern Bald Ibis. The species has been reduced in numbers so dramatically over the years that it is believed that only 100 breeding pairs still remain – of which 75 of are located in the Souss Massa National Park. In the year 2000 the park had only thirty-three breeding pairs but due to the park’s devotion to protect and conserve this spectacular species their numbers have almost doubled. Tourism in Morocco has led to the demise of many beautiful animals as they are killed for souvenirs or used to entertain international visitors. The park appeals to visitors and tries to educate them about the fact that buying these products and encouraging entertainment acts involving animals costs countless wildlife species their lives. Their deaths are often brutal and involve plenty of suffering. The Soussa Massa National Parks proves that seeing animals and birds in their natural environment is much more rewarding.\n"
     ]
    },
    {
     "name": "stderr",
     "output_type": "stream",
     "text": [
      "C:\\Users\\pc\\AppData\\Local\\Temp\\ipykernel_3448\\3675700327.py:35: FutureWarning: The frame.append method is deprecated and will be removed from pandas in a future version. Use pandas.concat instead.\n",
      "  df = df.append({\n",
      "C:\\Users\\pc\\AppData\\Local\\Temp\\ipykernel_3448\\3675700327.py:7: DeprecationWarning: executable_path has been deprecated, please pass in a Service object\n",
      "  driver = webdriver.Chrome(chrome_driver_path)\n"
     ]
    },
    {
     "name": "stdout",
     "output_type": "stream",
     "text": [
      "Tazekka National Park – Experience Morocco’s Wildlife\n",
      "There are a number of great national parks in Morocco where you can experience the country’s wildlife to the fullest degree possible. The Tazekka National Park is one of them. Created in 1950 with only 580 hectares of land, it was hoped that the park would help to protect the many natural resources that could be found at Jbel Tazekka in the Middle Atlas mountain range. The park has certainly proved to be a successful venture and today it covers an area of approximately 12,800 hectares of land. The Tazekka National Park in Morocco was created by ‘Arrête viziriel’ with the main goal of protecting a grove of cedar trees (Cedrus atlantica) found in the Jbel Tazekka area. The park has since been extended on more than one occasion to include a variety of natural habitats. It now features forests of cork oak and holm oak, caves, canyons, rural landscapes, cascades and a mountain – Jbel Tazekka – which is some 1 980 meters high. The interesting variety of altitudes and resulting flora is home to a variety of wildlife and the national park has become a haven for bird watchers. The park was first extended in 1989 and now includes a central core zone of 2,500 hectares and a cork-oak production zone of 6,000 hectares. The original parcel of land is a tourist zone and features a number of excellent forests that make for particularly good nature hikes. The fact that the area is protected by law has not put a damper on local citizens who have long used the region to raise their livestock and grow a variety of agricultural products. As a result the eastern slopes of Jbel Tazekka have been overgrazed. However, the local population fully supports conservation efforts and they work together with forest-conservation authorities to ensure the continued survival of this massive natural area. Recent years have seen a drastic improvement in tourist facilities with the development of tourist circuits, picnic areas and even an ecological museum. This has resulted in great numbers of tourists visiting the Tazekka National Park. If you should wish to visit this park yourself, please take care not to disturb the natural way of things to the greatest degree possible and so contribute to the continued survival of this incredible national park.\n"
     ]
    },
    {
     "name": "stderr",
     "output_type": "stream",
     "text": [
      "C:\\Users\\pc\\AppData\\Local\\Temp\\ipykernel_3448\\3675700327.py:35: FutureWarning: The frame.append method is deprecated and will be removed from pandas in a future version. Use pandas.concat instead.\n",
      "  df = df.append({\n"
     ]
    }
   ],
   "source": [
    "from selenium import webdriver\n",
    "from bs4 import BeautifulSoup\n",
    "from time import sleep\n",
    "\n",
    "for link in urls_national_parks:\n",
    "    chrome_driver_path = \"C:\\\\Users\\\\pc\\\\OneDrive\\\\Documents\\\\chromedriver-win64\\\\chromedriver.exe\"\n",
    "    driver = webdriver.Chrome(chrome_driver_path)\n",
    "    driver.get(link)\n",
    "    sleep(5)  # Add a pause to ensure content loads properly\n",
    "\n",
    "    # Retrieve the content of the page with BeautifulSoup\n",
    "    src = driver.page_source\n",
    "    soup = BeautifulSoup(src, 'html.parser')\n",
    "    \n",
    "    # Get the title\n",
    "    title = soup.find('h1', class_='page-title').get_text()\n",
    "    print(title)\n",
    "    \n",
    "    # Get the excerpt paragraphs\n",
    "    paragraphs = soup.find('div', class_='excerpt')\n",
    "    excerpt_text = paragraphs.get_text().strip() if paragraphs else \"\"\n",
    "    #print(excerpt_text)\n",
    "    \n",
    "    # Get the content paragraphs\n",
    "    content_div = soup.find('div', class_='content-text')\n",
    "    paragraphs = content_div.find_all('p') if content_div else []\n",
    "    filtered_paragraphs = [p for p in paragraphs if 'back-to-category' not in p.get('class', [])]\n",
    "    \n",
    "    # Join the text from the filtered p tags\n",
    "    joined_text = ' '.join(p.get_text() for p in filtered_paragraphs)\n",
    "    \n",
    "    # Concatenate the excerpt text with the joined paragraphs text\n",
    "    combined_text = excerpt_text + ' ' + joined_text\n",
    "    print(combined_text)\n",
    "    df = df.append({\n",
    "            'Prompt':title,\n",
    "            'Response':combined_text\n",
    "        }, ignore_index=True)\n",
    "    # Close the browser after processing each link\n",
    "    driver.quit()\n"
   ]
  },
  {
   "cell_type": "code",
   "execution_count": 31,
   "id": "992d103d",
   "metadata": {},
   "outputs": [],
   "source": [
    "urls_palaces = [\n",
    "    \"https://www.morocco.com/attractions/palaces/el-bahia-palace/\",\n",
    "    \"https://www.morocco.com/attractions/palaces/khalifa-palace/\",\n",
    "    \"https://www.morocco.com/attractions/palaces/raissouni-palace/\"\n",
    "]\n"
   ]
  },
  {
   "cell_type": "code",
   "execution_count": 32,
   "id": "6ea87763",
   "metadata": {},
   "outputs": [
    {
     "data": {
      "text/html": [
       "<div>\n",
       "<style scoped>\n",
       "    .dataframe tbody tr th:only-of-type {\n",
       "        vertical-align: middle;\n",
       "    }\n",
       "\n",
       "    .dataframe tbody tr th {\n",
       "        vertical-align: top;\n",
       "    }\n",
       "\n",
       "    .dataframe thead th {\n",
       "        text-align: right;\n",
       "    }\n",
       "</style>\n",
       "<table border=\"1\" class=\"dataframe\">\n",
       "  <thead>\n",
       "    <tr style=\"text-align: right;\">\n",
       "      <th></th>\n",
       "      <th>Prompt</th>\n",
       "      <th>Response</th>\n",
       "    </tr>\n",
       "  </thead>\n",
       "  <tbody>\n",
       "    <tr>\n",
       "      <th>0</th>\n",
       "      <td>Travel to Agadir in Morocco</td>\n",
       "      <td>Agadir is Southern Morocco's most visited city...</td>\n",
       "    </tr>\n",
       "    <tr>\n",
       "      <th>1</th>\n",
       "      <td>Accommodation</td>\n",
       "      <td>There are plenty of hotels to choose from in M...</td>\n",
       "    </tr>\n",
       "    <tr>\n",
       "      <th>2</th>\n",
       "      <td>Beaches</td>\n",
       "      <td>The lack of monuments, museums and interesting...</td>\n",
       "    </tr>\n",
       "    <tr>\n",
       "      <th>3</th>\n",
       "      <td>Things to See &amp; Do</td>\n",
       "      <td>The Valley of the Birds (daily from 09:30-12:3...</td>\n",
       "    </tr>\n",
       "    <tr>\n",
       "      <th>4</th>\n",
       "      <td>Cuisine &amp; Nightlife</td>\n",
       "      <td>Besides what the large hotels have, there’s no...</td>\n",
       "    </tr>\n",
       "    <tr>\n",
       "      <th>...</th>\n",
       "      <td>...</td>\n",
       "      <td>...</td>\n",
       "    </tr>\n",
       "    <tr>\n",
       "      <th>127</th>\n",
       "      <td>Mediterranean Intercontinental Biosphere Reser...</td>\n",
       "      <td>To establish a biosphere reserve that spans ov...</td>\n",
       "    </tr>\n",
       "    <tr>\n",
       "      <th>128</th>\n",
       "      <td>Oasis Du Sud Marocain Biosphere Reserve – Span...</td>\n",
       "      <td>The Oasis Du Sud Marocain Biosphere Reserve sp...</td>\n",
       "    </tr>\n",
       "    <tr>\n",
       "      <th>129</th>\n",
       "      <td>Oued Massa Nature Reserve – A Birder’s Paradise</td>\n",
       "      <td>When people think of Morocco they think of spr...</td>\n",
       "    </tr>\n",
       "    <tr>\n",
       "      <th>130</th>\n",
       "      <td>Spectacular Birding in Souss Massa National Park</td>\n",
       "      <td>The Souss Massa National Park, also spelled So...</td>\n",
       "    </tr>\n",
       "    <tr>\n",
       "      <th>131</th>\n",
       "      <td>Tazekka National Park – Experience Morocco’s W...</td>\n",
       "      <td>There are a number of great national parks in ...</td>\n",
       "    </tr>\n",
       "  </tbody>\n",
       "</table>\n",
       "<p>132 rows × 2 columns</p>\n",
       "</div>"
      ],
      "text/plain": [
       "                                                Prompt  \\\n",
       "0                          Travel to Agadir in Morocco   \n",
       "1                                        Accommodation   \n",
       "2                                              Beaches   \n",
       "3                                   Things to See & Do   \n",
       "4                                  Cuisine & Nightlife   \n",
       "..                                                 ...   \n",
       "127  Mediterranean Intercontinental Biosphere Reser...   \n",
       "128  Oasis Du Sud Marocain Biosphere Reserve – Span...   \n",
       "129    Oued Massa Nature Reserve – A Birder’s Paradise   \n",
       "130   Spectacular Birding in Souss Massa National Park   \n",
       "131  Tazekka National Park – Experience Morocco’s W...   \n",
       "\n",
       "                                              Response  \n",
       "0    Agadir is Southern Morocco's most visited city...  \n",
       "1    There are plenty of hotels to choose from in M...  \n",
       "2    The lack of monuments, museums and interesting...  \n",
       "3    The Valley of the Birds (daily from 09:30-12:3...  \n",
       "4    Besides what the large hotels have, there’s no...  \n",
       "..                                                 ...  \n",
       "127  To establish a biosphere reserve that spans ov...  \n",
       "128  The Oasis Du Sud Marocain Biosphere Reserve sp...  \n",
       "129  When people think of Morocco they think of spr...  \n",
       "130  The Souss Massa National Park, also spelled So...  \n",
       "131  There are a number of great national parks in ...  \n",
       "\n",
       "[132 rows x 2 columns]"
      ]
     },
     "execution_count": 32,
     "metadata": {},
     "output_type": "execute_result"
    }
   ],
   "source": [
    "df"
   ]
  },
  {
   "cell_type": "code",
   "execution_count": 33,
   "id": "69a4d087",
   "metadata": {},
   "outputs": [
    {
     "name": "stderr",
     "output_type": "stream",
     "text": [
      "C:\\Users\\pc\\AppData\\Local\\Temp\\ipykernel_3448\\1599465966.py:7: DeprecationWarning: executable_path has been deprecated, please pass in a Service object\n",
      "  driver = webdriver.Chrome(chrome_driver_path)\n"
     ]
    },
    {
     "name": "stdout",
     "output_type": "stream",
     "text": [
      "El Bahia Palace – Exquisite Eastern Architecture\n",
      "As you tour Morocco, you will find that almost every palace is different in one respect or another – even if they all indicate former glories once enjoyed by royal courts. The El Bahia Palace in Marrakech is certainly no exception. This beautiful building is an excellent example of Eastern Architecture from the 19th century that represents trends and standards of the wealthy who lived at that time. Even though the detail may not be as rich as that found in earlier palaces, a visit to the El Bahia Palace in Morocco is never a waste of time. The El Bahia Palace was built for Ahmed Ibn Moussa (or Ba Ahmed) between 1894 and 1900 in the Alawi style that was popular at the time. Craftsmen were brought from Fez to work on this monumental task which took approximately fifteen years to complete. It is said that the palace was built as a home for Ba Ahmed’s official concubines, and it has also been said that the importance or favor of each concubine increased along with the size of their bedroom. The name ‘Bahia’ means ‘palace of the beautiful’ and this would certainly seem to fit the purpose of this massive palace. There are 160 different rooms in the palace which are sprawled out in an open, rambling fashion. The reception halls and private quarters are lavishly decorated and there are several tiled courts – often complete with water features – that serve as open air areas where the women could have washed and rested themselves. Decorations take the form of subtle stucco panels, zellij decorations, tiled floors, smooth arches, carved-cedar ceilings, shiny marble (tadlak) finishes and zouak painted ceilings. As if this wasn’t enough, the palace is surrounded by an eight-hectare garden where visitors can literally lose themselves in the beauty of the place. Though the entire palace is sometimes closed when the royal family come to town, it is usually open for touring. Because of its size you may want to hire a guide who will not only ensure that you don’t get lost, but give you fascinating snippets of information to make your tour of this popular attraction in Marrakech even more worthwhile.\n"
     ]
    },
    {
     "name": "stderr",
     "output_type": "stream",
     "text": [
      "C:\\Users\\pc\\AppData\\Local\\Temp\\ipykernel_3448\\1599465966.py:35: FutureWarning: The frame.append method is deprecated and will be removed from pandas in a future version. Use pandas.concat instead.\n",
      "  df = df.append({\n",
      "C:\\Users\\pc\\AppData\\Local\\Temp\\ipykernel_3448\\1599465966.py:7: DeprecationWarning: executable_path has been deprecated, please pass in a Service object\n",
      "  driver = webdriver.Chrome(chrome_driver_path)\n"
     ]
    },
    {
     "name": "stdout",
     "output_type": "stream",
     "text": [
      "Khalifa Palace – Fine Example of Hispano-Moorish Architecture\n",
      "Tetouan is a beautiful Moroccan city and the only open port on the Mediterranean Sea. It is set against a backdrop of mountains to the west and south. Tetouan boasts seven superbly sculpted gateways that lead through the ramparts into the medina: a maze of intricate alleys, twisting around the houses and stores. There are many interesting sights, sounds and aromas to experience in the medina of Tetouan. Some of the finest examples of Hispano-Moorish architecture are found in Tetouan. Hispano-Moorish is an architectural style based upon 8th to 15th century Moorish buildings in the Iberian Peninsula. Outstanding examples of this style of architecture are the Khalifa Palace and The Three Graces: a Roman mosaic in the Archaeological Museum. The Khalifa Palace is found just outside one of the gateways leading into the medina. Visitors to the Tetouan medina should take some time to explore this attraction. The Khalifa Palace was built in the 17th century during the reign of Moulay Ismael, who was a member of the Alaouite Dynasty, originating in the Shorfa of Tafilalet. This dynasty emerged in the mid-15th century but first wielded authority over Morocco in 1666. The founder and spiritual leader of the Alaouites was Moulay Ali Cherif. He, along with his successors, carried out economic and military strategies in an effort to re-unite the divided country. In 1672 Moulay Ismael ascended to the throne. Building upon the achievements of his predecessors, Moulay Ismael wielded absolute power. He built and named Meknès as the capital of the Kingdom. He overthrew local political and religious authorities and founded the Cherifian Empire. His rulership extended as far as Senegal and he set about establishing a network of fortresses as far as Senegal. Moulay Ismael then spent much time and energy in establishing diplomatic relations with foreign powers, notably during the reigns of James II of England and Louis XIV of France. The Khalifa Palace was renovated and restored in 1948. When Morocco was a protectorate, the Khalifa Palace was used as the residence of his Majesty’s representative. Today it is a popular tourist attraction that you may wish to visit.\n"
     ]
    },
    {
     "name": "stderr",
     "output_type": "stream",
     "text": [
      "C:\\Users\\pc\\AppData\\Local\\Temp\\ipykernel_3448\\1599465966.py:35: FutureWarning: The frame.append method is deprecated and will be removed from pandas in a future version. Use pandas.concat instead.\n",
      "  df = df.append({\n",
      "C:\\Users\\pc\\AppData\\Local\\Temp\\ipykernel_3448\\1599465966.py:7: DeprecationWarning: executable_path has been deprecated, please pass in a Service object\n",
      "  driver = webdriver.Chrome(chrome_driver_path)\n"
     ]
    },
    {
     "name": "stdout",
     "output_type": "stream",
     "text": [
      "Raissouni Palace – Historical Building Built by the Pirate, Pasha Raissouni\n",
      "Asilah is situated on the northwest tip of Morocco on the shores of the Atlantic Ocean. It is a trading town with a history going back thousands of years. The town was initially used as a base for trade by the Phoenicians in 1500 B.C. Then, during the 15th century, Asilah was occupied by the Portuguese who built defensive walls around the town. It once again came under Morocco rule in the 1500s and between 1912 and 1956 Asilah was part of Spanish Morocco. The town thus joined the rest of the country when it finally gained its independence in 1956. One of the notable historical buildings in Asilah is the Raissouni Palace, built by the pirate Pasha Raissouni. In the 19th and 20th centuries Asilah served as a base for pirates. The history of piracy dates back more the 3,000 years, but there was some dissension as to the definition of a pirate. In 100 A.D. the Greek historian Plutarch gave a clear definition of piracy. Pirates were described as persons who illegally attacked ships and maritime cities. In medieval England the term “sea thieves” was used when referring to pirates. By definition then, pirates were outlaws. Pasha Raissouni had chosen piracy as his trade and by all accounts excelled at his job, having gained the means to build his own palace – Raissouni Palace. After centuries of virtually being forgotten, Asilah is being transformed into an oasis of culture. A great restoration work was started in the mid 1970s by a group of local intellectuals headed by Mohammed Benaissa and Mohammed Melehi. Local craftsmen and masons have carried out the bulk of the work in which mostly traditional methods and materials were used. Historical sites that have been restored are the Portuguese fortifications, the Al-Kamra Tower and the Raissouni Palace. Tourists are attracted to Asilah throughout the year due to the history, ancient buildings and the temperate climate. In addition to this, musicians, theatre groups, singers and artists from around the world have been gathering here each year to perform, teach and learn from one another since 1978. This has proven to be an enormous boost to this almost forgotten town. The restoration of historical sites, such as the Raissouni Palace, has added to the cultural richness of this annual event known as the “moussim”, which is a French translation of the Arabic word for “festival”. Whether it is festival time or not, Raissouni Palace is a fascinating attraction to visit whilst in Asilah.\n"
     ]
    },
    {
     "name": "stderr",
     "output_type": "stream",
     "text": [
      "C:\\Users\\pc\\AppData\\Local\\Temp\\ipykernel_3448\\1599465966.py:35: FutureWarning: The frame.append method is deprecated and will be removed from pandas in a future version. Use pandas.concat instead.\n",
      "  df = df.append({\n"
     ]
    }
   ],
   "source": [
    "from selenium import webdriver\n",
    "from bs4 import BeautifulSoup\n",
    "from time import sleep\n",
    "\n",
    "for link in urls_palaces:\n",
    "    chrome_driver_path = \"C:\\\\Users\\\\pc\\\\OneDrive\\\\Documents\\\\chromedriver-win64\\\\chromedriver.exe\"\n",
    "    driver = webdriver.Chrome(chrome_driver_path)\n",
    "    driver.get(link)\n",
    "    sleep(5)  # Add a pause to ensure content loads properly\n",
    "\n",
    "    # Retrieve the content of the page with BeautifulSoup\n",
    "    src = driver.page_source\n",
    "    soup = BeautifulSoup(src, 'html.parser')\n",
    "    \n",
    "    # Get the title\n",
    "    title = soup.find('h1', class_='page-title').get_text()\n",
    "    print(title)\n",
    "    \n",
    "    # Get the excerpt paragraphs\n",
    "    paragraphs = soup.find('div', class_='excerpt')\n",
    "    excerpt_text = paragraphs.get_text().strip() if paragraphs else \"\"\n",
    "    #print(excerpt_text)\n",
    "    \n",
    "    # Get the content paragraphs\n",
    "    content_div = soup.find('div', class_='content-text')\n",
    "    paragraphs = content_div.find_all('p') if content_div else []\n",
    "    filtered_paragraphs = [p for p in paragraphs if 'back-to-category' not in p.get('class', [])]\n",
    "    \n",
    "    # Join the text from the filtered p tags\n",
    "    joined_text = ' '.join(p.get_text() for p in filtered_paragraphs)\n",
    "    \n",
    "    # Concatenate the excerpt text with the joined paragraphs text\n",
    "    combined_text = excerpt_text + ' ' + joined_text\n",
    "    print(combined_text)\n",
    "    df = df.append({\n",
    "            'Prompt':title,\n",
    "            'Response':combined_text\n",
    "        }, ignore_index=True)\n",
    "    # Close the browser after processing each link\n",
    "    driver.quit()\n"
   ]
  },
  {
   "cell_type": "code",
   "execution_count": 34,
   "id": "4757bbaf",
   "metadata": {},
   "outputs": [
    {
     "data": {
      "text/html": [
       "<div>\n",
       "<style scoped>\n",
       "    .dataframe tbody tr th:only-of-type {\n",
       "        vertical-align: middle;\n",
       "    }\n",
       "\n",
       "    .dataframe tbody tr th {\n",
       "        vertical-align: top;\n",
       "    }\n",
       "\n",
       "    .dataframe thead th {\n",
       "        text-align: right;\n",
       "    }\n",
       "</style>\n",
       "<table border=\"1\" class=\"dataframe\">\n",
       "  <thead>\n",
       "    <tr style=\"text-align: right;\">\n",
       "      <th></th>\n",
       "      <th>Prompt</th>\n",
       "      <th>Response</th>\n",
       "    </tr>\n",
       "  </thead>\n",
       "  <tbody>\n",
       "    <tr>\n",
       "      <th>0</th>\n",
       "      <td>Travel to Agadir in Morocco</td>\n",
       "      <td>Agadir is Southern Morocco's most visited city...</td>\n",
       "    </tr>\n",
       "    <tr>\n",
       "      <th>1</th>\n",
       "      <td>Accommodation</td>\n",
       "      <td>There are plenty of hotels to choose from in M...</td>\n",
       "    </tr>\n",
       "    <tr>\n",
       "      <th>2</th>\n",
       "      <td>Beaches</td>\n",
       "      <td>The lack of monuments, museums and interesting...</td>\n",
       "    </tr>\n",
       "    <tr>\n",
       "      <th>3</th>\n",
       "      <td>Things to See &amp; Do</td>\n",
       "      <td>The Valley of the Birds (daily from 09:30-12:3...</td>\n",
       "    </tr>\n",
       "    <tr>\n",
       "      <th>4</th>\n",
       "      <td>Cuisine &amp; Nightlife</td>\n",
       "      <td>Besides what the large hotels have, there’s no...</td>\n",
       "    </tr>\n",
       "    <tr>\n",
       "      <th>...</th>\n",
       "      <td>...</td>\n",
       "      <td>...</td>\n",
       "    </tr>\n",
       "    <tr>\n",
       "      <th>130</th>\n",
       "      <td>Spectacular Birding in Souss Massa National Park</td>\n",
       "      <td>The Souss Massa National Park, also spelled So...</td>\n",
       "    </tr>\n",
       "    <tr>\n",
       "      <th>131</th>\n",
       "      <td>Tazekka National Park – Experience Morocco’s W...</td>\n",
       "      <td>There are a number of great national parks in ...</td>\n",
       "    </tr>\n",
       "    <tr>\n",
       "      <th>132</th>\n",
       "      <td>El Bahia Palace – Exquisite Eastern Architecture</td>\n",
       "      <td>As you tour Morocco, you will find that almost...</td>\n",
       "    </tr>\n",
       "    <tr>\n",
       "      <th>133</th>\n",
       "      <td>Khalifa Palace – Fine Example of Hispano-Moori...</td>\n",
       "      <td>Tetouan is a beautiful Moroccan city and the o...</td>\n",
       "    </tr>\n",
       "    <tr>\n",
       "      <th>134</th>\n",
       "      <td>Raissouni Palace – Historical Building Built b...</td>\n",
       "      <td>Asilah is situated on the northwest tip of Mor...</td>\n",
       "    </tr>\n",
       "  </tbody>\n",
       "</table>\n",
       "<p>135 rows × 2 columns</p>\n",
       "</div>"
      ],
      "text/plain": [
       "                                                Prompt  \\\n",
       "0                          Travel to Agadir in Morocco   \n",
       "1                                        Accommodation   \n",
       "2                                              Beaches   \n",
       "3                                   Things to See & Do   \n",
       "4                                  Cuisine & Nightlife   \n",
       "..                                                 ...   \n",
       "130   Spectacular Birding in Souss Massa National Park   \n",
       "131  Tazekka National Park – Experience Morocco’s W...   \n",
       "132   El Bahia Palace – Exquisite Eastern Architecture   \n",
       "133  Khalifa Palace – Fine Example of Hispano-Moori...   \n",
       "134  Raissouni Palace – Historical Building Built b...   \n",
       "\n",
       "                                              Response  \n",
       "0    Agadir is Southern Morocco's most visited city...  \n",
       "1    There are plenty of hotels to choose from in M...  \n",
       "2    The lack of monuments, museums and interesting...  \n",
       "3    The Valley of the Birds (daily from 09:30-12:3...  \n",
       "4    Besides what the large hotels have, there’s no...  \n",
       "..                                                 ...  \n",
       "130  The Souss Massa National Park, also spelled So...  \n",
       "131  There are a number of great national parks in ...  \n",
       "132  As you tour Morocco, you will find that almost...  \n",
       "133  Tetouan is a beautiful Moroccan city and the o...  \n",
       "134  Asilah is situated on the northwest tip of Mor...  \n",
       "\n",
       "[135 rows x 2 columns]"
      ]
     },
     "execution_count": 34,
     "metadata": {},
     "output_type": "execute_result"
    }
   ],
   "source": [
    "df"
   ]
  },
  {
   "cell_type": "code",
   "execution_count": 35,
   "id": "cbe1098f",
   "metadata": {},
   "outputs": [],
   "source": [
    "urls_theaters = [\n",
    "    \"https://www.morocco.com/attractions/theater/alliance-franco-marocaine/\",\n",
    "    \"https://www.morocco.com/attractions/theater/amazigh-theater-festival/\",\n",
    "    \"https://www.morocco.com/attractions/theater/gran-teatro-de-cervantes/\",\n",
    "    \"https://www.morocco.com/attractions/theater/marrakech-popular-arts-festival/\",\n",
    "    \"https://www.morocco.com/attractions/theater/municipal-complex-agadir/\"\n",
    "]\n"
   ]
  },
  {
   "cell_type": "code",
   "execution_count": 36,
   "id": "e8c30e7d",
   "metadata": {},
   "outputs": [
    {
     "name": "stderr",
     "output_type": "stream",
     "text": [
      "C:\\Users\\pc\\AppData\\Local\\Temp\\ipykernel_3448\\1060490893.py:7: DeprecationWarning: executable_path has been deprecated, please pass in a Service object\n",
      "  driver = webdriver.Chrome(chrome_driver_path)\n"
     ]
    },
    {
     "name": "stdout",
     "output_type": "stream",
     "text": [
      "Alliance Franco-Marocaine Theater – French Theater with a Variety of Productions\n",
      "Theater in Morocco has taken on various forms over the years and has become a unique and culturally rich form of entertainment. Locals enjoy the theater for its diversity in topics such as politics and culture and for its ever-changing productions. The Alliance Franco-Marocaine Theater has become especially popular with tourists for its ability to offer the audience a full program that has a different type of theatrical art gracing its stage every night. The Alliance Franco-Marocaine Theater is a French theater in Morocco that has a range of productions which appeal to the local public and to tourists. This wonderful asset to the theatrical community in Agadir was opened with the Municipal Theater complex. Traditional French productions can be viewed at the Alliance Franco-Marocaine Theater and some plays have been adapted to relate to the people of Morocco. Some productions touch on issues involving politics, while still others tell the romantic tale of lovers, embrace the heroic legends of the past and bring tears to the audiences through tragic dramatizations. There is something for every mood and interest. Visitors to the Alliance Franco-Marocaine Theater will also be able to sit in on fascinating lectures. The Theater has a few film shows as well and this adds to the diversity of talent and art that is on display here. Interested guests will be able to get their hands on a theater program from the Syndicat d’initiative, which enables guests to browse the upcoming events and shows. Times and dates for the productions are also available. Theater in Morocco has expanded greatly and now includes opera, kabuki, Indian dance, mime and even Chinese Opera. Morocco has embraced this beautiful form of art and through the massive support it receives from the public it been able to establish different forms of theater to suit the needs of individuals. This unique form of entertainment in Morocco has evolved from speech and gestures into a festival of puppetry, actors and music. Visitors are encouraged to support the wonderful efforts being made by theater companies in the Moroccan Theater industry and the vital role they play in the culture and tradition of the country. The Alliance Franco-Marocaine Theater offers visitor the unique opportunity to experience and enjoy true Moroccan Theater.\n"
     ]
    },
    {
     "name": "stderr",
     "output_type": "stream",
     "text": [
      "C:\\Users\\pc\\AppData\\Local\\Temp\\ipykernel_3448\\1060490893.py:35: FutureWarning: The frame.append method is deprecated and will be removed from pandas in a future version. Use pandas.concat instead.\n",
      "  df = df.append({\n",
      "C:\\Users\\pc\\AppData\\Local\\Temp\\ipykernel_3448\\1060490893.py:7: DeprecationWarning: executable_path has been deprecated, please pass in a Service object\n",
      "  driver = webdriver.Chrome(chrome_driver_path)\n"
     ]
    },
    {
     "name": "stdout",
     "output_type": "stream",
     "text": [
      "Amazigh Theater Festival – Berber Theater Productions\n",
      "Almost everyone enjoys a good theatrical production; the combination of acting, music and speech appeal to humans in a way that no other combination of mediums does. It draws spectators in and helps them to identify with what they are seeing. The concept and popularity of theater is certainly not new and many of the theaters or theatrical festivals that exist today have been around for centuries. The Amazigh Theater Festival in Morocco is a theatrical spectacle with a bit of a unique twist. While the usual elements of speech, gesture, music, dance and sound are all incorporated in more or less the same way as they are in theaters across the globe, they are also unique in that all theatrical productions put on during this festival are in Berber. This ancient North African language has been an integral part of Moroccan culture for centuries and it continues to play a large role in the lives of many Moroccans today. Of course, combined with this wonderfully ancient language is the use of traditional theatrical principles and things such as masks, miming and puppetry may be found at this popular Moroccan festival. So if you want to enjoy the theatrical delights of the Amazigh Theater Festival in Morocco, you should do your best to get to Casablanca during the month of May. Of course, the exact dates of this festival may change according the calendar for that year, so it would be best to check in advance if you would like to make sure that you are able to enjoy as much of this festival as possible. Even if you do not understand the Berber language, a visit to such a festival will provide interesting insight into the language and customs of those who view Berber as their birthright. Theatrical genres may include comedies, horrors, musical theater and much more and you can expect to find something for everyone. So come and enjoy this remarkable and unique form of theater in Casablanca, Morocco. It is the only place in the world where you will ever see a theatrical production staged in this ancient language.\n"
     ]
    },
    {
     "name": "stderr",
     "output_type": "stream",
     "text": [
      "C:\\Users\\pc\\AppData\\Local\\Temp\\ipykernel_3448\\1060490893.py:35: FutureWarning: The frame.append method is deprecated and will be removed from pandas in a future version. Use pandas.concat instead.\n",
      "  df = df.append({\n",
      "C:\\Users\\pc\\AppData\\Local\\Temp\\ipykernel_3448\\1060490893.py:7: DeprecationWarning: executable_path has been deprecated, please pass in a Service object\n",
      "  driver = webdriver.Chrome(chrome_driver_path)\n"
     ]
    },
    {
     "name": "stdout",
     "output_type": "stream",
     "text": [
      "Grand Teatro de Cervantes – Historical Theater Attraction\n",
      "Even if you do not speak the local language, a person should always try to enjoy at least one theatrical production in whatever foreign country he/she is visiting. Theatrical productions are a great way to gain insight into the culture and artistic society of a particular land. If you are planning to spend time in Tangier in Morocco, you simply have to head to the Gran Teatro de Cervantes. The Gran Teatro de Cervantes in Morocco may look a bit broken down, but this is to be expected of a theatre which opened in 1913. By this stage you may be wondering why the name ‘Cervantes’ is vaguely familiar. Miguel Cervantes Saavedra is famous mainly for his literary work ‘Don Quixote’, though he was not only a novelist but also a playwright and poet. In fact, when Cervantes was alive in the 16th century, he was regarded as being one of the most important and influential people with regard to literature and culture in Spain. But Cervantes’ life was not always so glamorous. Though he was likely born into minor gentry and he debuted at just 21 years of age, he also spent time as a soldier, was captured by Barbary pirates and spent time working as a purveyor for the Spanish Armada and as a Tax Collector. He even spent three years in jail. Nevertheless, he went on to create some of the greatest literary works of his time and was even dubbed ‘The Prince of Wits’. The Gran Teatro de Cervantes was created at a time when Morocco was brimming with Spaniards. In fact, the theater was created to fill the cultural needs of what was then the largest non-Moroccan community in Tangier. Opening just one year before the First World War, the theatre might have been doomed to failure. However, regardless of this untimely opening, it continued to be popular in the interwar years. During the 1950s, it enjoyed its heyday years with plays, operas and a variety of cultural meetings taking place at this lovely theater. In recent years its decrepit state led to its temporary closure and it is now being restored with Spanish funding. While you may not yet be able to enjoy a world-class performance at this theater, you can enjoy the beautiful Art Deco façade and other aspects of this building’s architecture. It makes for a great tourist attraction and is a striking reminder of a time when there were almost more Spaniards in Tangier than there were Moroccans.\n"
     ]
    },
    {
     "name": "stderr",
     "output_type": "stream",
     "text": [
      "C:\\Users\\pc\\AppData\\Local\\Temp\\ipykernel_3448\\1060490893.py:35: FutureWarning: The frame.append method is deprecated and will be removed from pandas in a future version. Use pandas.concat instead.\n",
      "  df = df.append({\n",
      "C:\\Users\\pc\\AppData\\Local\\Temp\\ipykernel_3448\\1060490893.py:7: DeprecationWarning: executable_path has been deprecated, please pass in a Service object\n",
      "  driver = webdriver.Chrome(chrome_driver_path)\n"
     ]
    },
    {
     "name": "stdout",
     "output_type": "stream",
     "text": [
      "Marrakech Popular Arts Festival – Entertainers and Artists from across Europe and Asia\n",
      "It is very hard to believe that the city of Marrakech could become more frenzied, energetic and noteworthy than it already is on any given day of the year. This Moroccan city is alive with street vendors, locals, tourists, shops, stores and attractions. Amongst the bustle of city life, tourists usually escape to quieter sights such as the gardens of the Saadian Tombs or the peaceful grounds of the Majorelle gardens. But every year, either in June or July (depending on the organizers), the city is home to the Marrakech Popular Arts Festival. The Marrakech Popular Arts Festival attracts entertainers, artists and visitors from destinations such as Ukraine, Poland, China and Spain. It has become a festival known for its wonderful variety of fire-swallowers, fortune-tellers, story-tellers, singers, snake charmers, dancers, acrobats, craftsmen, trick horse riders, theater performers and musicians. To accommodate all these acts and shows, historical sights such as the El Badi Palace ruins have to sacrifice their tranquil, deserted isolation for a few entertaining days. The grounds of the El Badi Palace are enormous and give visitors a sense of its former grand and luxurious past. The red walls and foundation are all that remains of this once great palace which was constructed by El Monsour in the sixteenth century. Unfortunately Moulay Ismael destroyed the palace, leaving behind only a small glimpse into the history of this amazing site. El Badi hosts most of the events that take place during the festival, with some of the main events taking place in the city’s main square, Djemaa el Fna. The Popular Arts Festival is one of the most popular attractions in Marrakech, as it combines modern entertainment with ancient folkdances, traditional Berber musicians and the enchantment of belly dancers. It brings all the corners of Morocco together in one event, with the cultures of all the various regions melting together to create a visual and sensory extravaganza of sound, color and rhythm. When deciding on which attractions to visit in Marrakech, do not forget to mark this spectacular event on the calendar. It is an event and artistic festival adventure that visitors should not miss!\n"
     ]
    },
    {
     "name": "stderr",
     "output_type": "stream",
     "text": [
      "C:\\Users\\pc\\AppData\\Local\\Temp\\ipykernel_3448\\1060490893.py:35: FutureWarning: The frame.append method is deprecated and will be removed from pandas in a future version. Use pandas.concat instead.\n",
      "  df = df.append({\n",
      "C:\\Users\\pc\\AppData\\Local\\Temp\\ipykernel_3448\\1060490893.py:7: DeprecationWarning: executable_path has been deprecated, please pass in a Service object\n",
      "  driver = webdriver.Chrome(chrome_driver_path)\n"
     ]
    },
    {
     "name": "stdout",
     "output_type": "stream",
     "text": [
      "Municipal Theatre Complex in Agadir – Wonderful Folklore Productions\n",
      "Agadir, and the whole of Morocco, is known as a destination that is steeped in the romantic images of nomadic caravans crossing the dry desert, lush oases that provide the weary traveler with relief from the heat, and the exotic and deep colors that complete this magical world. But it is also a world that has a rich history, heroic legends and dark folklores. All the splendor of this dream-like culture and tradition is brought to life at the Municipal Theatre Complex in Agadir. To literally live through the folklores and tales that have been passed down through generations in Morocco, Agadir is the perfect destination. The dramatic entrance of the arrival of the horsemen and their marching army is enough to make any brave man tremble. The oncoming arrival of this majestic force can be heard as rushing hooves meet the street and the earth trembles. This medieval entourage will drive fear into the hearts of the audience and sweep them up into a story that has been retold through the ages. It is a unique and truly unforgettable performance. Not many audiences have the opportunity to smell the sweat of the horses, feel the impending danger and see folklore become reality through these characters, dressed in authentic robes and bearing intimidating weapons. These wonderful folklore productions are accompanied by energetic dances, music and lyrics that have crept from the pages of history to be heard by a modern society. They have the ability to burn vibrant images into the memories of the audience. The Municipal Theatre Complex is dedicated to reviving the old and educating both visitors and locals on the spectacular history of Morocco. Guests are able to explore this world of fantasy, magic and history further in the Folk Art Museum, which is located in the Municipal Theatre Complex. It was established in the year 1992 and has an amazing collection of folk art and exhibits of the traditions that originated from the Souss Valley. To visit this extraordinary Municipal Theatre Complex in Agadir is an experience that guest will always remember and cherish the adventures that are experienced here.\n"
     ]
    },
    {
     "name": "stderr",
     "output_type": "stream",
     "text": [
      "C:\\Users\\pc\\AppData\\Local\\Temp\\ipykernel_3448\\1060490893.py:35: FutureWarning: The frame.append method is deprecated and will be removed from pandas in a future version. Use pandas.concat instead.\n",
      "  df = df.append({\n"
     ]
    }
   ],
   "source": [
    "from selenium import webdriver\n",
    "from bs4 import BeautifulSoup\n",
    "from time import sleep\n",
    "\n",
    "for link in urls_theaters:\n",
    "    chrome_driver_path = \"C:\\\\Users\\\\pc\\\\OneDrive\\\\Documents\\\\chromedriver-win64\\\\chromedriver.exe\"\n",
    "    driver = webdriver.Chrome(chrome_driver_path)\n",
    "    driver.get(link)\n",
    "    sleep(5)  # Add a pause to ensure content loads properly\n",
    "\n",
    "    # Retrieve the content of the page with BeautifulSoup\n",
    "    src = driver.page_source\n",
    "    soup = BeautifulSoup(src, 'html.parser')\n",
    "    \n",
    "    # Get the title\n",
    "    title = soup.find('h1', class_='page-title').get_text()\n",
    "    print(title)\n",
    "    \n",
    "    # Get the excerpt paragraphs\n",
    "    paragraphs = soup.find('div', class_='excerpt')\n",
    "    excerpt_text = paragraphs.get_text().strip() if paragraphs else \"\"\n",
    "    #print(excerpt_text)\n",
    "    \n",
    "    # Get the content paragraphs\n",
    "    content_div = soup.find('div', class_='content-text')\n",
    "    paragraphs = content_div.find_all('p') if content_div else []\n",
    "    filtered_paragraphs = [p for p in paragraphs if 'back-to-category' not in p.get('class', [])]\n",
    "    \n",
    "    # Join the text from the filtered p tags\n",
    "    joined_text = ' '.join(p.get_text() for p in filtered_paragraphs)\n",
    "    \n",
    "    # Concatenate the excerpt text with the joined paragraphs text\n",
    "    combined_text = excerpt_text + ' ' + joined_text\n",
    "    print(combined_text)\n",
    "    df = df.append({\n",
    "            'Prompt':title,\n",
    "            'Response':combined_text\n",
    "        }, ignore_index=True)\n",
    "    # Close the browser after processing each link\n",
    "    driver.quit()\n"
   ]
  },
  {
   "cell_type": "code",
   "execution_count": 37,
   "id": "d8e1df28",
   "metadata": {},
   "outputs": [
    {
     "data": {
      "text/html": [
       "<div>\n",
       "<style scoped>\n",
       "    .dataframe tbody tr th:only-of-type {\n",
       "        vertical-align: middle;\n",
       "    }\n",
       "\n",
       "    .dataframe tbody tr th {\n",
       "        vertical-align: top;\n",
       "    }\n",
       "\n",
       "    .dataframe thead th {\n",
       "        text-align: right;\n",
       "    }\n",
       "</style>\n",
       "<table border=\"1\" class=\"dataframe\">\n",
       "  <thead>\n",
       "    <tr style=\"text-align: right;\">\n",
       "      <th></th>\n",
       "      <th>Prompt</th>\n",
       "      <th>Response</th>\n",
       "    </tr>\n",
       "  </thead>\n",
       "  <tbody>\n",
       "    <tr>\n",
       "      <th>0</th>\n",
       "      <td>Travel to Agadir in Morocco</td>\n",
       "      <td>Agadir is Southern Morocco's most visited city...</td>\n",
       "    </tr>\n",
       "    <tr>\n",
       "      <th>1</th>\n",
       "      <td>Accommodation</td>\n",
       "      <td>There are plenty of hotels to choose from in M...</td>\n",
       "    </tr>\n",
       "    <tr>\n",
       "      <th>2</th>\n",
       "      <td>Beaches</td>\n",
       "      <td>The lack of monuments, museums and interesting...</td>\n",
       "    </tr>\n",
       "    <tr>\n",
       "      <th>3</th>\n",
       "      <td>Things to See &amp; Do</td>\n",
       "      <td>The Valley of the Birds (daily from 09:30-12:3...</td>\n",
       "    </tr>\n",
       "    <tr>\n",
       "      <th>4</th>\n",
       "      <td>Cuisine &amp; Nightlife</td>\n",
       "      <td>Besides what the large hotels have, there’s no...</td>\n",
       "    </tr>\n",
       "    <tr>\n",
       "      <th>...</th>\n",
       "      <td>...</td>\n",
       "      <td>...</td>\n",
       "    </tr>\n",
       "    <tr>\n",
       "      <th>135</th>\n",
       "      <td>Alliance Franco-Marocaine Theater – French The...</td>\n",
       "      <td>Theater in Morocco has taken on various forms ...</td>\n",
       "    </tr>\n",
       "    <tr>\n",
       "      <th>136</th>\n",
       "      <td>Amazigh Theater Festival – Berber Theater Prod...</td>\n",
       "      <td>Almost everyone enjoys a good theatrical produ...</td>\n",
       "    </tr>\n",
       "    <tr>\n",
       "      <th>137</th>\n",
       "      <td>Grand Teatro de Cervantes – Historical Theater...</td>\n",
       "      <td>Even if you do not speak the local language, a...</td>\n",
       "    </tr>\n",
       "    <tr>\n",
       "      <th>138</th>\n",
       "      <td>Marrakech Popular Arts Festival – Entertainers...</td>\n",
       "      <td>It is very hard to believe that the city of Ma...</td>\n",
       "    </tr>\n",
       "    <tr>\n",
       "      <th>139</th>\n",
       "      <td>Municipal Theatre Complex in Agadir – Wonderfu...</td>\n",
       "      <td>Agadir, and the whole of Morocco, is known as ...</td>\n",
       "    </tr>\n",
       "  </tbody>\n",
       "</table>\n",
       "<p>140 rows × 2 columns</p>\n",
       "</div>"
      ],
      "text/plain": [
       "                                                Prompt  \\\n",
       "0                          Travel to Agadir in Morocco   \n",
       "1                                        Accommodation   \n",
       "2                                              Beaches   \n",
       "3                                   Things to See & Do   \n",
       "4                                  Cuisine & Nightlife   \n",
       "..                                                 ...   \n",
       "135  Alliance Franco-Marocaine Theater – French The...   \n",
       "136  Amazigh Theater Festival – Berber Theater Prod...   \n",
       "137  Grand Teatro de Cervantes – Historical Theater...   \n",
       "138  Marrakech Popular Arts Festival – Entertainers...   \n",
       "139  Municipal Theatre Complex in Agadir – Wonderfu...   \n",
       "\n",
       "                                              Response  \n",
       "0    Agadir is Southern Morocco's most visited city...  \n",
       "1    There are plenty of hotels to choose from in M...  \n",
       "2    The lack of monuments, museums and interesting...  \n",
       "3    The Valley of the Birds (daily from 09:30-12:3...  \n",
       "4    Besides what the large hotels have, there’s no...  \n",
       "..                                                 ...  \n",
       "135  Theater in Morocco has taken on various forms ...  \n",
       "136  Almost everyone enjoys a good theatrical produ...  \n",
       "137  Even if you do not speak the local language, a...  \n",
       "138  It is very hard to believe that the city of Ma...  \n",
       "139  Agadir, and the whole of Morocco, is known as ...  \n",
       "\n",
       "[140 rows x 2 columns]"
      ]
     },
     "execution_count": 37,
     "metadata": {},
     "output_type": "execute_result"
    }
   ],
   "source": [
    "df"
   ]
  },
  {
   "cell_type": "code",
   "execution_count": 38,
   "id": "5e9e1ac6",
   "metadata": {},
   "outputs": [],
   "source": [
    "urls_wildlife = [\n",
    "    \"https://www.morocco.com/attractions/wildlife/barbary-macaque/\",\n",
    "    \"https://www.morocco.com/attractions/wildlife/birds/\",\n",
    "    \"https://www.morocco.com/attractions/wildlife/camels/\",\n",
    "    \"https://www.morocco.com/attractions/wildlife/cheetah/\",\n",
    "    \"https://www.morocco.com/attractions/wildlife/dorcas-gazelle/\",\n",
    "    \"https://www.morocco.com/attractions/wildlife/egyptian-cobra/\",\n",
    "    \"https://www.morocco.com/attractions/wildlife/fennec-fox/\",\n",
    "    \"https://www.morocco.com/attractions/wildlife/fish/\"\n",
    "]\n"
   ]
  },
  {
   "cell_type": "code",
   "execution_count": 39,
   "id": "1540c001",
   "metadata": {},
   "outputs": [
    {
     "name": "stderr",
     "output_type": "stream",
     "text": [
      "C:\\Users\\pc\\AppData\\Local\\Temp\\ipykernel_3448\\2897336268.py:7: DeprecationWarning: executable_path has been deprecated, please pass in a Service object\n",
      "  driver = webdriver.Chrome(chrome_driver_path)\n"
     ]
    },
    {
     "name": "stdout",
     "output_type": "stream",
     "text": [
      "The Gregarious Barbary Macaque\n",
      "The Barbary Macaque (Macaca sylvanus) resides chiefly in Morocco and in the\n",
      "mountains of Algeria, with a much smaller population making their home in Gibraltar. The species is\n",
      "considered one of the Old World monkeys and are the only free living primates in Europe, with the\n",
      "exception of humans. They are also sometimes referred to as the Barbary Ape, however\n",
      "they are true monkeys. Morocco’s Barbary Macaque measures somewhere between 38 and 76 cm in length and has a\n",
      "mass between 5 to 13 kg. They are tailless macaques and their front limbs are longer than the hind limbs.\n",
      "The fur of the Barbary Macaque is yellow-brown to grayish with paler undersides. Their faces are a dark\n",
      "pink color. In general, they are recorded to live for approximately 22 years. So where will you find Barbary Macaques in Morocco? They are typically found at elevations between\n",
      "1 600 and 2 100 m or higher, in the Atlas Mountains.\n",
      "They prefer forests consisting of oak, cedar and pine trees. Their waking hours, which are during the day, are\n",
      "spent both in the trees and on the ground. They are an herbivorous species and thus feed on fruit, leaves and\n",
      "roots, but are also known to nibble on insects. Barbary Macaques are gregarious and live in troops of between 10 to 30 monkeys. It is a matriarchal system,\n",
      "which means that the head female leads the group. However the troop is generally a blend of males and females.\n",
      "The lead female is determined through family lineage and the entire troop hierarchy is also run according to\n",
      "lineage. Barbary’s are unique amongst the macaques in that the males play a vital role in rearing and caring\n",
      "for offspring. They participate in grooming and playing with the young monkeys and thus form close social bonds.\n",
      "They have even been noted to have favorite youngsters with whom they spend more time. It appears the females\n",
      "prefer to select males which show greater parental ability and willingness. Mating season for the Barbary Macaques is between November and March. Following conception, the gestation\n",
      "period lasts 196 days. The female will give birth to a single offspring. These young monkeys will only reach\n",
      "maturity at around 3 to 4 years of age. Sadly, the Barbary Macaque is under threat due to habitat loss and ignorance. The IUCN Red List has added\n",
      "the species to the “Vulnerable” list.\n"
     ]
    },
    {
     "name": "stderr",
     "output_type": "stream",
     "text": [
      "C:\\Users\\pc\\AppData\\Local\\Temp\\ipykernel_3448\\2897336268.py:35: FutureWarning: The frame.append method is deprecated and will be removed from pandas in a future version. Use pandas.concat instead.\n",
      "  df = df.append({\n",
      "C:\\Users\\pc\\AppData\\Local\\Temp\\ipykernel_3448\\2897336268.py:7: DeprecationWarning: executable_path has been deprecated, please pass in a Service object\n",
      "  driver = webdriver.Chrome(chrome_driver_path)\n"
     ]
    },
    {
     "name": "stdout",
     "output_type": "stream",
     "text": [
      "An Abundance of Birds in Morocco\n",
      "Most people don’t envision Morocco as being a top birding spot in the world, but this\n",
      "country actually has a great variety of birds. What’s more, many of these species are\n",
      "incredibly rare or even globally threatened. This makes Morocco quite a hot spot for\n",
      "spotting rare and endangered birds and should lure more and more bird enthusiasts to the country. According to Bergier & Thévenot 2006, there are 454 species of birds in Morocco.\n",
      "Research indicates that only five have been introduced to the country by humans. This means that 449\n",
      "of the bird species\n",
      "that occur in Morocco are indigenous to the country. Of these, 156 are considered to be rare or accidental\n",
      "and fifteen are globally threatened. So exactly what sort of birds can you expect to find in Morocco?\n",
      "Well, to start with you will find pheasants, partridges, guinea fowl, pigeons, doves, hoopoes and woodpeckers –\n",
      "these are some common birds that you may well expect to find in Morocco. If you head to the coast, you will\n",
      "find albatross, gannets, boobies, cormorants, pelicans, oystercatchers, terns and gulls – to mention a few.\n",
      "Inland water holes yield further swans, geese, ducks, herons, storks and flamingo. The biggest\n",
      "Moroccan bird is the ostrich and there are plenty of birds of prey to admire such as barn\n",
      "owls, kites, hawks and eagles. There are even parrots! Of course, true bird lovers will have noticed that no passerine birds have been mentioned yet. There are\n",
      "certainly no shortage of these either. Morocco is filled with swallows, larks, wagtails, wrens, thrushes,\n",
      "kinglets, wallcreepers, nuthatches, shrikes, crows, magpies, starlings, waxbills, vireos and buntings. Of\n",
      "course there are many more birds in Morocco that have not been mentioned here, but listing all 454 of them\n",
      "would certainly prove to be a challenge! Besides, the best way to experience Morocco’s birds is to spend time\n",
      "amongst them yourself. Of course you’ll be able to see birds almost everywhere you go, but for a truly\n",
      "exceptional bird watching experience, it would be best to head to the\n",
      "national parks in the country.\n",
      "So book your flight and get packing for a great birding holiday.\n"
     ]
    },
    {
     "name": "stderr",
     "output_type": "stream",
     "text": [
      "C:\\Users\\pc\\AppData\\Local\\Temp\\ipykernel_3448\\2897336268.py:35: FutureWarning: The frame.append method is deprecated and will be removed from pandas in a future version. Use pandas.concat instead.\n",
      "  df = df.append({\n",
      "C:\\Users\\pc\\AppData\\Local\\Temp\\ipykernel_3448\\2897336268.py:7: DeprecationWarning: executable_path has been deprecated, please pass in a Service object\n",
      "  driver = webdriver.Chrome(chrome_driver_path)\n"
     ]
    },
    {
     "name": "stdout",
     "output_type": "stream",
     "text": [
      "Dromedary Camels – Ships of the Moroccan Desert\n",
      "To say that there are camels in Morocco is open to discussion. This is because traditional\n",
      "camels have two humps on their backs and the camels used in Morocco only have one. Camels in Morocco are\n",
      "therefore known as Dromedaries, which are a part of the camel family. Dromedary camels (Camelus dromedaries)\n",
      "are rarely found in the wild and most of those seen walking around the landscape do have owners. Often herds\n",
      "that have not been domesticated to a certain degree can be seen, but they will still follow their nomadic\n",
      "owners from one feeding ground to another. Dromedaries have always been said to be very aggressive and stubborn animals, but this is only true when it\n",
      "comes to the leader of a herd. They will become aggressive if they feel that the herd is threatened or in danger.\n",
      "Most of the time, these are very gentle creatures that are highly intelligent and extremely patient. These animals\n",
      "are native to the northern parts of Africa, but interestingly enough the only population of truly wild\n",
      "Dromedary Camel herds are found in Australia. They have long thick eyelashes and very hairy\n",
      "ears that protect their eyes and ears from the sand. Full-grown camels can stand at a height of between six or\n",
      "seven feet and their lifespan ranges between twenty-five to fifty years of age. Owners and locals respect the\n",
      "Dromedaries for their natures and their ability to survive in the desert with very little food and water. Their\n",
      "amazing ability to survive the desert heat is by being able to increase their own body heat. The allure of Morocco goes hand in hand with the images and culture of caravans of camels and their owners\n",
      "trekking across the desert. Even though the camels of Morocco are not used as a method of transport, they have\n",
      "become vital in the tourism industry and to the income of many locals. Visitors are offered the opportunity to\n",
      "experience a camel trek in Morocco and they may stop off at some of the most exotic\n",
      "destinations in Morocco along the way. Traveling by camel through Morocco under the clear blue skies and across the vast landscapes of breathtaking\n",
      "beauty is an unforgettable experience. To discover the small villages and settlements that are found off the\n",
      "beaten track, while being safely carried across the unforgiving desert on one of the most the desert’s most\n",
      "wonderful animals, is an unforgettable experience – one that will leave visitors with spectacular memories and a\n",
      "respect for the Dromedary Camel.\n"
     ]
    },
    {
     "name": "stderr",
     "output_type": "stream",
     "text": [
      "C:\\Users\\pc\\AppData\\Local\\Temp\\ipykernel_3448\\2897336268.py:35: FutureWarning: The frame.append method is deprecated and will be removed from pandas in a future version. Use pandas.concat instead.\n",
      "  df = df.append({\n",
      "C:\\Users\\pc\\AppData\\Local\\Temp\\ipykernel_3448\\2897336268.py:7: DeprecationWarning: executable_path has been deprecated, please pass in a Service object\n",
      "  driver = webdriver.Chrome(chrome_driver_path)\n"
     ]
    },
    {
     "name": "stdout",
     "output_type": "stream",
     "text": [
      "The Majestic Cheetah in Morocco\n",
      "Most of us will be familiar with the graceful spotted cat known as the cheetah (Acinonyx jubatus).\n",
      "We will have likely seen images of this amazing creature on our televisions or may have even seen one or two\n",
      "at the local zoo. What few of us know, however, is that the cheetah is listed as a ‘vulnerable species’ on the\n",
      "World Conservation Union’s (IUCN) Red List. This enchanting cat has been steadily decreasing in numbers since\n",
      "the 20th century and today it is estimated that only about 12 400 cheetahs continue to exist\n",
      "in the wild. These cats are spread out over 25 different African countries. Despite the fact that these cats\n",
      "have been successfully bred at cheetah centers and zoos around the world, little can be done to improve the\n",
      "numbers of these cats in the wild. The beautiful cheetah is a poor climber and does not make use of trees as do other members of the cat family.\n",
      "It hunts by speed and stealth and is capable of reaching incredible speeds in an incredibly short period of time.\n",
      "In fact, when the cheetah bursts into action, it can go from 0 to 110 km/h in just three seconds. What’s more,\n",
      "it can maintain speeds of 105 km/h for up to 460 meters. This is usually all that is needed for the cheetah to\n",
      "successfully hunt gazelle and other prey. The cheetah is easy to recognize since, not only does it have long legs,\n",
      "a slender body and a small head, but it has black ‘tear marks’ running from the bottom of its eyes down the sides\n",
      "of its snout to the bottom of its mouth. Of course the cheetah also has spots. A cheetah’s spots are small and\n",
      "circular and seem to fall in a very random pattern. The underside of the cat is white and tail tip will usually\n",
      "be black with a white tuft at the very end of it. The Northwest African cheetah is one of the rarest and least studied of all of the mammals that\n",
      "roam this part of Africa. Though it once roamed the area in reasonably large numbers, massive decreases in the\n",
      "availability of prey and aggressive hunting of the cheetah itself has led to it becoming extinct in many\n",
      "different parts of North Africa. Still, it continues to remain in several North African countries – namely Egypt,\n",
      "Algeria, Morocco and possibly\n",
      "Libya. Because these animals are so secretive it is difficult to study them in the wild accurately. However,\n",
      "their presence is usually indicated by things such as tracks, droppings, vegetation scratches, skins and shed hair.\n",
      "Though no cheetahs have been spotted by scientists in Morocco of late, local nomads have confirmed the existence of\n",
      "several cheetahs in the country. If you are fortunate, maybe you will be able to see one of these amazing creatures\n",
      "in the wild the next time you visit the country. Cheetahs in Morocco are very rare, but the\n",
      "importance of their continued existence simply cannot be overlooked.\n"
     ]
    },
    {
     "name": "stderr",
     "output_type": "stream",
     "text": [
      "C:\\Users\\pc\\AppData\\Local\\Temp\\ipykernel_3448\\2897336268.py:35: FutureWarning: The frame.append method is deprecated and will be removed from pandas in a future version. Use pandas.concat instead.\n",
      "  df = df.append({\n",
      "C:\\Users\\pc\\AppData\\Local\\Temp\\ipykernel_3448\\2897336268.py:7: DeprecationWarning: executable_path has been deprecated, please pass in a Service object\n",
      "  driver = webdriver.Chrome(chrome_driver_path)\n"
     ]
    },
    {
     "name": "stdout",
     "output_type": "stream",
     "text": [
      "The Graceful Dorcas Gazelle\n",
      "The Dorcas gazelle (Gazella dorcas) is a fairly small and common and occurs throughout\n",
      "Africa, Arabia and northern India. The gazelle feeds on vegetation and can usually be found in grasslands,\n",
      "steppe, wadis, desert or semi-desert climates and is therefore quite easily spotted in Morocco. In fact,\n",
      "there are quite good populations of Dorcas gazelle in many of Morocco’s national parks. The Dorcas gazelle in Morocco is closely related to the mountain gazelle, but it is smaller with\n",
      "longer ears and more curved horns. The Dorcas gazelle is easily spotted. Standing at about 53 cm in height, the body\n",
      "of this beautiful gazelle features a brown stripe above the white underbelly which is bordered by a sandy stripe.\n",
      "The top of the gazelle found in Morocco and other parts of North Africa are usually quite a dark reddish brown.\n",
      "The Dorcas gazelle’s face and forehead are always darker than the body, and the flanks may be quite dark too.\n",
      "These delicate, graceful creatures are a delight to behold. What makes this creature truly special is the fact that it is so incredibly adapted to the desert. A Dorcas\n",
      "gazelle does not need water – it can draw all the moisture it needs from the plants it consumes. This does not\n",
      "mean that it never drinks water. The Dorcas gazelle consumes water when it is available. The gazelle is also well\n",
      "adapted to withstanding high temperatures and they tend to limit their activities during the heat of the day to\n",
      "conserve energy. They feed mainly on leaves, flowers and tree pods, but have also been known to eat twigs and\n",
      "fruit and can stand on their back legs to graze off trees. The Dorcas Gazelle can reach speeds of 80 km/h and move\n",
      "in a series of light, energetic leaps. The Dorcas gazelle’s natural predators mainly take the form of cheetahs, leopards and lions, but there are few\n",
      "of these left to pose much of a threat. In fact, the biggest threat faced by the gazelle today is that of habitat\n",
      "encroachment since more and more of them die off each year due to expanding farmlands and other human developments.\n",
      "During the last part of the 20th century these beautiful creatures became extinct in many parts of Africa.\n",
      "In fact, the largest and most stable population was a group of about 1000-1500 gazelle which remained in Israel.\n",
      "Though the situation has since greatly improved, the Dorcas gazelle continues to be listed as a vulnerable species.\n",
      "For this reason every effort should be made to ensure the continued existence and preservation of this delightful desert creature.\n"
     ]
    },
    {
     "name": "stderr",
     "output_type": "stream",
     "text": [
      "C:\\Users\\pc\\AppData\\Local\\Temp\\ipykernel_3448\\2897336268.py:35: FutureWarning: The frame.append method is deprecated and will be removed from pandas in a future version. Use pandas.concat instead.\n",
      "  df = df.append({\n",
      "C:\\Users\\pc\\AppData\\Local\\Temp\\ipykernel_3448\\2897336268.py:7: DeprecationWarning: executable_path has been deprecated, please pass in a Service object\n",
      "  driver = webdriver.Chrome(chrome_driver_path)\n"
     ]
    },
    {
     "name": "stdout",
     "output_type": "stream",
     "text": [
      "The Renowned Egyptian Cobra\n",
      "Not everyone will be all too pleased to meet up with an Egyptian cobra (Naja haje), but\n",
      "travelers to Morocco should be aware that it is the most common variety of cobra in North Africa. This somewhat attractive\n",
      "but deadly snake lives in hot, desert-like regions and much of Morocco fits that description. Still,\n",
      "the Egyptian cobra in Morocco does not go out of its way to make contact with humans\n",
      "and most visitors never even encounter one during their travels. The Egyptian cobra is a nocturnal creature, though it may be spotted basking in the sun during the early hours of\n",
      "the morning. Much of its body is yellowish, dark brown or black with a brown underbelly it will usually have brown\n",
      "cross-bands and its head may be black or brown. This can make it difficult to see at night. The head is large and\n",
      "depressed and has a broad snout and large, round eyes. The neck, complete with hood, may be up to 18 cm wide. Like\n",
      "all other cobras, the Egyptian cobra raises its hood when threatened and if you see one you should do your best to\n",
      "avoid coming into contact with it. These snakes are extremely dangerous, having the second most toxic venom of all\n",
      "the cobras. Only the Cape cobra has a more toxic venom. However the Egyptian cobra is considered to be more dangerous\n",
      "since it is bigger, more aggressive and capable of injecting more venom per bite. Fortunately they are seldom seen in\n",
      "homes or hotels and are more likely to be found in cultivated farmlands, open fields or arid landscapes. In ancient times the Egyptian cobra was worshiped by the Egyptians. Also called the ‘Asp’, it is thought that it\n",
      "was an Egyptian cobra which Cleopatra used to kill herself. Whether that is true or not will never be known, but\n",
      "what is known is that the bite of this cobra results in a relatively quick and painless death. Despite their fearful\n",
      "association with humans, the Egyptian cobra has no interest in people whatsoever. Instead they prefer to prey on\n",
      "small mammals, toads, lizards and other snakes. Egyptian cobras usually range in size from 1.5 to 2 meters, but have\n",
      "been known to grow as long as 2.5 meters. The only recommended contact with these deadly but enchanting creatures is\n",
      "through the fortified glass of a zoo enclosure.\n"
     ]
    },
    {
     "name": "stderr",
     "output_type": "stream",
     "text": [
      "C:\\Users\\pc\\AppData\\Local\\Temp\\ipykernel_3448\\2897336268.py:35: FutureWarning: The frame.append method is deprecated and will be removed from pandas in a future version. Use pandas.concat instead.\n",
      "  df = df.append({\n",
      "C:\\Users\\pc\\AppData\\Local\\Temp\\ipykernel_3448\\2897336268.py:7: DeprecationWarning: executable_path has been deprecated, please pass in a Service object\n",
      "  driver = webdriver.Chrome(chrome_driver_path)\n"
     ]
    },
    {
     "name": "stdout",
     "output_type": "stream",
     "text": [
      "The Fascinating Fennec Fox\n",
      "It is easy to see why so many people fall in love with the Fennec Fox (Vulpes zerda).\n",
      "With its large ears, small and delicate face and at a full-grown size of twenty centimeters, they are adorable.\n",
      "But it is because these rare foxes are mercilessly hunted and captured to be sold as domestic animals that this\n",
      "wonderful animal's name has been written on the endangered list. This nocturnal animal is rarely seen in the wild and so there is uncertainty as to their actual number. The Fennec Fox\n",
      "is easily identified by its sandy colored coat, small body and their remarkable ears that can grow to fifteen centimeters\n",
      "in length. Natural habitats for this fox are desert areas, and the Sahara desert\n",
      "is one of its known territories. Their oversized ears are used to cool their bodies during the day and at night they serve\n",
      "as extremely accurate prey detectors. Fennec Foxes are not fussy eaters and have a diet that ranges from berries and leaves,\n",
      "to small insects, bird eggs and lizards. As they are well adapted to the warm and dry conditions of the desert, the Fennec\n",
      "Fox can survive without water for long periods of time. The Fennec Fox of Morocco was located in the southern and very dry regions of the country, away from human\n",
      "settlements. Because of the rare opportunities to view these animals, locals began catching them and putting them on display\n",
      "for tourists as a means of income. Species numbers have declined dramatically because of these actions, scaring the families\n",
      "of foxes away from these areas. The survival of the Fennec Fox in Morocco is dangerously threatened by the ignorance of the\n",
      "tourists that purchase the captured foxes and the uneducated locals that use the foxes as a source of income. Conservation\n",
      "efforts to protect the Fennec Fox are underway in Morocco and have already been established in countries such as Niger,\n",
      "Egypt, Tunisia, Mauritania and Algeria. Many Fennec Foxes are found in zoos across the world, but no breeding programs have been founded. Fortunately it is much\n",
      "more rewarding to see a Fennec Fox in their natural habitat than in a cage or artificial environment. Even though some\n",
      "organizations house these animals to protect them against hunters, capture and a life as a domestic pet, it still does not\n",
      "answer the plight of the wild foxes. The future of the Fennec Fox in Morocco is one that is filled with uncertainty. It is\n",
      "an amazingly beautiful and fascinating animal that should be allowed to thrive in a world that was created for them, the\n",
      "sand dunes and endless landscapes of the desert.\n"
     ]
    },
    {
     "name": "stderr",
     "output_type": "stream",
     "text": [
      "C:\\Users\\pc\\AppData\\Local\\Temp\\ipykernel_3448\\2897336268.py:35: FutureWarning: The frame.append method is deprecated and will be removed from pandas in a future version. Use pandas.concat instead.\n",
      "  df = df.append({\n",
      "C:\\Users\\pc\\AppData\\Local\\Temp\\ipykernel_3448\\2897336268.py:7: DeprecationWarning: executable_path has been deprecated, please pass in a Service object\n",
      "  driver = webdriver.Chrome(chrome_driver_path)\n"
     ]
    },
    {
     "name": "stdout",
     "output_type": "stream",
     "text": [
      "Discover the Fish of Morocco’s Waters\n",
      "Morocco is known for having the richest fish territory in the Atlantic Ocean. Over and above the ocean, the landscape is\n",
      "littered with rivers, streams and lakes that also attract many visitors to fishing in Morocco.\n",
      "The lure of the variety of fish in Morocco is irresistible, but the environment has suffered greatly due to the contamination of water\n",
      "sources and from over-fishing. Authorities have implemented restrictions to catch loads and all fishermen, commercial and recreational, need a permit\n",
      "to fish in these amazing waters. The coastline of Morocco covers a 3500 kilometer stretch and it is hard to imagine that these waters can be depleted of fish,\n",
      "but both Morocco and Spain have been fishing here. The blocking of European Union fishing vessels has sparked many disagreements\n",
      "as Spain suffers greatly when not permitted to fish in Morocco. Over-fishing from permitted vessels is just part of the concern,\n",
      "as many foreign vessels enter these waters to poach fish, attracted by the vision of a boat load of Mullet, Sea Beams, Marlin,\n",
      "Sea Perch, Grouper, Tuna, Barracudas and Swordfish. Dwindling numbers of these fish species in Morocco increases\n",
      "the level of urgency to repopulate the water. Unfortunately this means that there are now more young fish in the water than matured\n",
      "fish and vessels therefore harvest bigger loads because of the smaller fish sizes. It is a continuous battle to conserve and protect\n",
      "the fish species in Morocco. Recreational fishing vessels can be hired to take visitors, with permits, for deep sea fishing and the\n",
      "two most popular ports are Mohammedia located near the city of Casablanca and the Saharan port of Sakhla. Contamination due to waste dumping and litter threaten the numbers of fish that are found in the inland water sources. Fortunately,\n",
      "conservation efforts and the education of the public is breathing new life into many of the regions. Beautiful, tranquil lakes and\n",
      "rippling rivers are home to a number of fish species in Morocco. Here visitors will be able to find fish such as Carp, Perch, Black\n",
      "Bass, Trout, Barbell, Eel, and Roach. When fishing in Morocco, visitors are urged to catch only the specified amount of fish as indicated on the permit. Morocco depends\n",
      "on locals and visitors to abide by the rules and regulations to give the fish of Morocco a chance for survival and to prevent the\n",
      "Moroccan waters from becoming an empty mass of water. Economically, environmentally and in regard to tourism, it is essential for\n",
      "Morocco to maintain a strong grip on fishing in Morocco and the efforts being made to protect their waters.\n"
     ]
    },
    {
     "name": "stderr",
     "output_type": "stream",
     "text": [
      "C:\\Users\\pc\\AppData\\Local\\Temp\\ipykernel_3448\\2897336268.py:35: FutureWarning: The frame.append method is deprecated and will be removed from pandas in a future version. Use pandas.concat instead.\n",
      "  df = df.append({\n"
     ]
    }
   ],
   "source": [
    "from selenium import webdriver\n",
    "from bs4 import BeautifulSoup\n",
    "from time import sleep\n",
    "\n",
    "for link in urls_wildlife:\n",
    "    chrome_driver_path = \"C:\\\\Users\\\\pc\\\\OneDrive\\\\Documents\\\\chromedriver-win64\\\\chromedriver.exe\"\n",
    "    driver = webdriver.Chrome(chrome_driver_path)\n",
    "    driver.get(link)\n",
    "    sleep(5)  # Add a pause to ensure content loads properly\n",
    "\n",
    "    # Retrieve the content of the page with BeautifulSoup\n",
    "    src = driver.page_source\n",
    "    soup = BeautifulSoup(src, 'html.parser')\n",
    "    \n",
    "    # Get the title\n",
    "    title = soup.find('h1', class_='page-title').get_text()\n",
    "    print(title)\n",
    "    \n",
    "    # Get the excerpt paragraphs\n",
    "    paragraphs = soup.find('div', class_='excerpt')\n",
    "    excerpt_text = paragraphs.get_text().strip() if paragraphs else \"\"\n",
    "    #print(excerpt_text)\n",
    "    \n",
    "    # Get the content paragraphs\n",
    "    content_div = soup.find('div', class_='content-text')\n",
    "    paragraphs = content_div.find_all('p') if content_div else []\n",
    "    filtered_paragraphs = [p for p in paragraphs if 'back-to-category' not in p.get('class', [])]\n",
    "    \n",
    "    # Join the text from the filtered p tags\n",
    "    joined_text = ' '.join(p.get_text() for p in filtered_paragraphs)\n",
    "    \n",
    "    # Concatenate the excerpt text with the joined paragraphs text\n",
    "    combined_text = excerpt_text + ' ' + joined_text\n",
    "    print(combined_text)\n",
    "    df = df.append({\n",
    "            'Prompt':title,\n",
    "            'Response':combined_text\n",
    "        }, ignore_index=True)\n",
    "    # Close the browser after processing each link\n",
    "    driver.quit()\n"
   ]
  },
  {
   "cell_type": "code",
   "execution_count": 40,
   "id": "53916715",
   "metadata": {},
   "outputs": [
    {
     "data": {
      "text/html": [
       "<div>\n",
       "<style scoped>\n",
       "    .dataframe tbody tr th:only-of-type {\n",
       "        vertical-align: middle;\n",
       "    }\n",
       "\n",
       "    .dataframe tbody tr th {\n",
       "        vertical-align: top;\n",
       "    }\n",
       "\n",
       "    .dataframe thead th {\n",
       "        text-align: right;\n",
       "    }\n",
       "</style>\n",
       "<table border=\"1\" class=\"dataframe\">\n",
       "  <thead>\n",
       "    <tr style=\"text-align: right;\">\n",
       "      <th></th>\n",
       "      <th>Prompt</th>\n",
       "      <th>Response</th>\n",
       "    </tr>\n",
       "  </thead>\n",
       "  <tbody>\n",
       "    <tr>\n",
       "      <th>0</th>\n",
       "      <td>Travel to Agadir in Morocco</td>\n",
       "      <td>Agadir is Southern Morocco's most visited city...</td>\n",
       "    </tr>\n",
       "    <tr>\n",
       "      <th>1</th>\n",
       "      <td>Accommodation</td>\n",
       "      <td>There are plenty of hotels to choose from in M...</td>\n",
       "    </tr>\n",
       "    <tr>\n",
       "      <th>2</th>\n",
       "      <td>Beaches</td>\n",
       "      <td>The lack of monuments, museums and interesting...</td>\n",
       "    </tr>\n",
       "    <tr>\n",
       "      <th>3</th>\n",
       "      <td>Things to See &amp; Do</td>\n",
       "      <td>The Valley of the Birds (daily from 09:30-12:3...</td>\n",
       "    </tr>\n",
       "    <tr>\n",
       "      <th>4</th>\n",
       "      <td>Cuisine &amp; Nightlife</td>\n",
       "      <td>Besides what the large hotels have, there’s no...</td>\n",
       "    </tr>\n",
       "    <tr>\n",
       "      <th>...</th>\n",
       "      <td>...</td>\n",
       "      <td>...</td>\n",
       "    </tr>\n",
       "    <tr>\n",
       "      <th>143</th>\n",
       "      <td>The Majestic Cheetah in Morocco</td>\n",
       "      <td>Most of us will be familiar with the graceful ...</td>\n",
       "    </tr>\n",
       "    <tr>\n",
       "      <th>144</th>\n",
       "      <td>The Graceful Dorcas Gazelle</td>\n",
       "      <td>The Dorcas gazelle (Gazella dorcas) is a fairl...</td>\n",
       "    </tr>\n",
       "    <tr>\n",
       "      <th>145</th>\n",
       "      <td>The Renowned Egyptian Cobra</td>\n",
       "      <td>Not everyone will be all too pleased to meet u...</td>\n",
       "    </tr>\n",
       "    <tr>\n",
       "      <th>146</th>\n",
       "      <td>The Fascinating Fennec Fox</td>\n",
       "      <td>It is easy to see why so many people fall in l...</td>\n",
       "    </tr>\n",
       "    <tr>\n",
       "      <th>147</th>\n",
       "      <td>Discover the Fish of Morocco’s Waters</td>\n",
       "      <td>Morocco is known for having the richest fish t...</td>\n",
       "    </tr>\n",
       "  </tbody>\n",
       "</table>\n",
       "<p>148 rows × 2 columns</p>\n",
       "</div>"
      ],
      "text/plain": [
       "                                    Prompt  \\\n",
       "0              Travel to Agadir in Morocco   \n",
       "1                            Accommodation   \n",
       "2                                  Beaches   \n",
       "3                       Things to See & Do   \n",
       "4                      Cuisine & Nightlife   \n",
       "..                                     ...   \n",
       "143        The Majestic Cheetah in Morocco   \n",
       "144            The Graceful Dorcas Gazelle   \n",
       "145            The Renowned Egyptian Cobra   \n",
       "146             The Fascinating Fennec Fox   \n",
       "147  Discover the Fish of Morocco’s Waters   \n",
       "\n",
       "                                              Response  \n",
       "0    Agadir is Southern Morocco's most visited city...  \n",
       "1    There are plenty of hotels to choose from in M...  \n",
       "2    The lack of monuments, museums and interesting...  \n",
       "3    The Valley of the Birds (daily from 09:30-12:3...  \n",
       "4    Besides what the large hotels have, there’s no...  \n",
       "..                                                 ...  \n",
       "143  Most of us will be familiar with the graceful ...  \n",
       "144  The Dorcas gazelle (Gazella dorcas) is a fairl...  \n",
       "145  Not everyone will be all too pleased to meet u...  \n",
       "146  It is easy to see why so many people fall in l...  \n",
       "147  Morocco is known for having the richest fish t...  \n",
       "\n",
       "[148 rows x 2 columns]"
      ]
     },
     "execution_count": 40,
     "metadata": {},
     "output_type": "execute_result"
    }
   ],
   "source": [
    "df"
   ]
  },
  {
   "cell_type": "code",
   "execution_count": 41,
   "id": "d6a34641",
   "metadata": {},
   "outputs": [],
   "source": [
    "urls_culture = [\n",
    "    \"https://www.morocco.com/culture/ancient-morocco/\",\n",
    "    \"https://www.morocco.com/culture/architecture/\",\n",
    "    \"https://www.morocco.com/culture/art/\",\n",
    "    \"https://www.morocco.com/culture/celebrations/\",\n",
    "    \"https://www.morocco.com/culture/cuisine/\",\n",
    "    \"https://www.morocco.com/culture/education/\",\n",
    "    \"https://www.morocco.com/culture/famous-moroccan-people/\",\n",
    "    \"https://www.morocco.com/culture/folklore/\",\n",
    "    \"https://www.morocco.com/culture/language/\",\n",
    "    \"https://www.morocco.com/culture/literature/\",\n",
    "    \"https://www.morocco.com/culture/moroccan-proverbs/\",\n",
    "    \"https://www.morocco.com/culture/music/\",\n",
    "    \"https://www.morocco.com/culture/people/\",\n",
    "    \"https://www.morocco.com/culture/photo-gallery/\",\n",
    "    \"https://www.morocco.com/culture/radio/\",\n",
    "    \"https://www.morocco.com/culture/universities/\",\n",
    "    \"https://www.morocco.com/culture/weddings-customs/\"\n",
    "]\n"
   ]
  },
  {
   "cell_type": "code",
   "execution_count": 43,
   "id": "7e2c4f93",
   "metadata": {},
   "outputs": [
    {
     "name": "stderr",
     "output_type": "stream",
     "text": [
      "C:\\Users\\pc\\AppData\\Local\\Temp\\ipykernel_3448\\1046621111.py:7: DeprecationWarning: executable_path has been deprecated, please pass in a Service object\n",
      "  driver = webdriver.Chrome(chrome_driver_path)\n"
     ]
    },
    {
     "name": "stdout",
     "output_type": "stream",
     "text": [
      "History of Morocco – Discover an Ancient Land\n",
      "Morocco is an ancient country with a strong sense of culture. Though the ancient culture of Morocco has influenced its people for centuries, it is diverse and seems to have been derived from several other ancient cultures. If you would like to know more about the history, developments and influences of this country’s unusual culture, you will no doubt enjoy reading our basic description of Moroccan history below. The original inhabitants of Morocco were the Berber people. These people lived in large familial tribes and there was no actual recognized government over the area. Instead, tribal Berbers lived according to the rules of their tribal leaders and the rules of one tribe could be far removed from the rules of another tribe. Because of this lack of unification of authority, Morocco was constantly invaded during the early stages of its development. The first attackers were the Phoenicians in the twelfth century B.C. They claimed a number of coastal settlements with great success, but were later conquered in return by the Carthaginians. In the 2nd century B.C., the Carthaginians became the target of an extensive Roman campaign and soon all their strongholds in the area were captured and converted. Over time the Roman Empire fell apart, allowing Arabs to move in and take over. Short but intense fights for control of the country between the Arabs and the Jews left it reeling and largely unstable. Fortunately, a man by the name of Ahmed I al-Man-sur managed to bring stability to the country during his dynasty. As a result the country flourished between 1579 and 1603 as Jews and Moors from Spain settled in Morocco. They each brought with them their culture and art and in the end gave Morocco much of the culture which is still present today. Conflict between the Spanish and Portuguese in the early 15th century left the Portuguese in control of the Port of Cueta in 1415. In 1578, however, the Moroccans rose against the Portuguese and regained control of that port. This was a start of a nationwide battle that resulted in Moroccan’s reclaiming almost all the coastal towns that were under Portugal’s rule by 1700. In 1904 Morocco was divided between France and Spain with France receiving the larger portion. In 1911 Germany sent a gunboat to the French owned coastline of Morocco with the goal of claiming some of it for themselves. Fortunately war was averted when the French made an agreement with Germany whereby the French would keep control of Morocco whilst they allowed the Germans concessions elsewhere. In 1950 the sultan of Morocco requested that Morocco become an independent country. Their initial request was declined. In 1957 Sultan Mohammed became king. This opened the way for independence and it wasn’t long afterwards that Spain relinquished the majority of its holdings in Morocco. In 1974 King Hassan began a major campaign to reclaim control over the entire Sahara – much of which was still owned by Spain. The International Court of Justice rejected Morocco’s application for total control of the Sahara. However, King Hussan was persistent and pushed forward nonetheless. Eventually, after secretly holding negotiations, Spain & Morocco made a deal. The Sahara was split into three between Morocco, Spain and Mauritania. In 1978 the Polisaro front succeeded in forcing the Mauritania out of the Sahara, but Morocco stood firm and unmoved. The United Nations organized a referendum of self-determination between those concerned and whilst this was generally agreed upon, to this day Morocco has continued to push for full control of the entire Saharan Desert. On Friday July 23, 1999, King Hussan died. His death concluded the longest monarchy in modern history of the Arab world with a total of 38 years. Currently, King Hassan’s son Crown Prince sidi Mohammed rules Morocco as the 18th king in the Alawite Dynasty.\n"
     ]
    },
    {
     "name": "stderr",
     "output_type": "stream",
     "text": [
      "C:\\Users\\pc\\AppData\\Local\\Temp\\ipykernel_3448\\1046621111.py:35: FutureWarning: The frame.append method is deprecated and will be removed from pandas in a future version. Use pandas.concat instead.\n",
      "  df = df.append({\n",
      "C:\\Users\\pc\\AppData\\Local\\Temp\\ipykernel_3448\\1046621111.py:7: DeprecationWarning: executable_path has been deprecated, please pass in a Service object\n",
      "  driver = webdriver.Chrome(chrome_driver_path)\n"
     ]
    },
    {
     "name": "stdout",
     "output_type": "stream",
     "text": [
      "Architecture – Culture and Tradition through Buildings\n",
      "Morocco is often viewed as a destination that is surrounded by mystery, seduction and beauty. These opinions are reflected in the breathtaking architecture of Morocco. Although modern buildings have crept in and formed part of Moroccan architecture, it is the older buildings that ooze allure, secrecy and architectural marvels from years gone by. Moroccan architecture has a somewhat exotic charm and many tourists visit the country to look at a world that is steeped in tradition and culture. In fact, the architectural roots of Morocco can still be seen in the modern buildings that are constructed today. Architecture in Morocco is a blend of Black African and Islamic design styles, with the Islamic styles dominating in this combination. This is not only viewed in the building itself, but the lavish gardens, extravagant decorations and elaborate use of deep and contrasting color. Turbulence in the history of Morocco is clearly seen in the strong desert fortifications and the well-protected palace walls. It is also the style with which Moroccans choose to decorate the interiors of buildings that gives these architectural wonders a unique and majestic atmosphere. There are a few dominant characteristics in regard to the architecture of Morocco. Most buildings feature large, intimidating archways and beautiful domes that complete them. It is also common to find enchanting courtyards, sprawling gardens and the use of ornaments to decorate the exterior of the building. Moroccan architecture also makes use of Islamic calligraphy as decoration as opposed to pictures. And, as mentioned before, the use of color also plays a significant role in their designs. Geometric patterns are also commonly found in the architecture of Morocco. Noteworthy buildings to visit while in Morocco would include the Royal Palace, the Mohammed V Mausoleum and the Kasbah des Oudaias. While in Fez it is recommended that tourists visit the Museum of Moroccan Arts – not so much for what it exhibits but rather for the fact that the museum building was constructed approximately one hundred years ago. The city of Marrakech is home to the Palace of the Dead, the Saadian Tombs and the Bahia Palace. Many cities have spectacular examples of Moroccan architecture and visitors will be amazed at the diversity and uniqueness of each building. Morocco has been loyal to its age-old traditions and cultures – not only in lifestyles, but in its architectural style. They have managed to modernize their cities without losing the richness and beauty of the past.\n"
     ]
    },
    {
     "name": "stderr",
     "output_type": "stream",
     "text": [
      "C:\\Users\\pc\\AppData\\Local\\Temp\\ipykernel_3448\\1046621111.py:35: FutureWarning: The frame.append method is deprecated and will be removed from pandas in a future version. Use pandas.concat instead.\n",
      "  df = df.append({\n",
      "C:\\Users\\pc\\AppData\\Local\\Temp\\ipykernel_3448\\1046621111.py:7: DeprecationWarning: executable_path has been deprecated, please pass in a Service object\n",
      "  driver = webdriver.Chrome(chrome_driver_path)\n"
     ]
    },
    {
     "name": "stdout",
     "output_type": "stream",
     "text": [
      "Art – Traditional Woodworks and Colorful Woven Carpets\n",
      "The eclectic pulse and electrifying atmosphere that can be enjoyed throughout Morocco is largely captured through the brilliant colors and bold designs that are visible in every city. The diverseness of the landscape and the intensity of the culture have been captured in many forms by artists and craftsmen. These can be found in the art galleries of Morocco, as well as in the country's vibrant marketplaces. During your travels, you may find yourself eyeing some of the beautiful artwork that is on sale at the local markets. The creative abilities of the locals are expressed in so many different forms that you may find it quite difficult to choose which you like best. Wood and furniture is so intricately decorated with rich and expressive carvings. This is a skill that has been passed down over many generations and many of the works today are still created with traditional work tools. If you are fortunate enough to see a carpenter plying his trade, you will likely be fascinated by the ingenuity and skill involved in such a craft. Another popular art form is that of the colorful woven carpets that are so abundant at village markets. The strong, geometric designs and rich coloring is carefully and meticulously constructed on a manual loom by individual crafters in many of the city’s carpet houses. Some carpets are also woven by skilled crafters at their homesteads further away from the cities. You can be sure that these intrinsically beautiful carpets are of the finest quality and are worth every bit of the money you pay for them – regardless of how much or little you pay for them. There are also quite a few ornate ceramics that boast captivating mosaics which are on sale at galleries and at some markets. These ceramics are usually incredibly ornate and are the masterpieces of a few skilled artisans. You may prefer more conventional forms of art, such as sculpture, painting and calligraphy. All of these items can be found while winding through the bustling streets of the various towns and cities of Morocco. If you have the opportunity to visit this resplendent country your trip would be incomplete without a little memento of some sort. So visit the many art galleries and stalls around the country and pick out a few favorites to take home.\n"
     ]
    },
    {
     "name": "stderr",
     "output_type": "stream",
     "text": [
      "C:\\Users\\pc\\AppData\\Local\\Temp\\ipykernel_3448\\1046621111.py:35: FutureWarning: The frame.append method is deprecated and will be removed from pandas in a future version. Use pandas.concat instead.\n",
      "  df = df.append({\n",
      "C:\\Users\\pc\\AppData\\Local\\Temp\\ipykernel_3448\\1046621111.py:7: DeprecationWarning: executable_path has been deprecated, please pass in a Service object\n",
      "  driver = webdriver.Chrome(chrome_driver_path)\n"
     ]
    },
    {
     "name": "stdout",
     "output_type": "stream",
     "text": [
      "Celebrations in Morocco – Festivals and Holidays\n",
      "Know where to be and when to be there! A guide to some of the cultural, historical and religious holidays and festivals throughout the year in Morocco. Understanding Cultural and Religious Festivals The inhabitants of Morocco celebrate numerous Muslim and national festivals through the year. The dates for most of their religious holidays are worked out on the lunar calendar and this makes it virtually impossible to predict when these dates will fall on the western calendar that most people in other parts of the world use. During the festivals, there can be fasting, dancing and feasting – all depending on the type of holiday being celebrated. The Muslim festivals are observed by all Islamic residents regardless of how long they last. This may not be that easy since, for example, Ramadan celebrations last an entire month and its observers have to fast for the period and abstain from sex, smoking and drink. Moussems (ammougars) are normally festivals held in honor of saints. For the most part, the celebrations are a lot of fun and visiting during one of them can greatly enhance your trip to the country. January  New Years Day – Western Celebration\n",
      "Independence Celebration (1 of 5 during the year) Secular February  Tafraoute – End of the winter rains.\n",
      "Aid Al Adha / A’d el-Khebir – Commemoration of Abrahams sacrifice March & April  Beni Mellal – Cotton harvest moussem \n",
      "Fatih Mouharam – Islamic New Years \n",
      "Ashura – Day of tithing\n",
      "Aid el Arch – The coronation of King Mohammed VI May  Moulay Bousselham – Moussem of Sidi Ahmed Ben Mansour\n",
      "Berkane – Harvest moussem for clementines \n",
      "El Kelia des Mgouna – Rose festival to celebrate the new crops \n",
      "Labor Day – May 1 \n",
      "Id el Mouloud – Prophet Mohammed’s birthday\n",
      "Ben Aissa Moussem – the largest of all moussems which includes amazing displays of fantasia, glass swallowing, etc. June  Music Festival – Held in Fez. Musicians from all around the world join in this festival\n",
      "Independence Day – A week long oceanside festival/party \n",
      "Goulimine – traditionally a fair for camel traders \n",
      "Tan Tan – Moussem of Sidi Mohammed Ma el Ainin. Guedra dance may be performed at this festival. \n",
      "Gnaoua Festival – Music Festival July  Marrakesh Popular Arts Festival – Traditional Moroccan folklore\n",
      "Tetouan – Moussem of Moulay Abdessalem which is celebrated very religiously in great splendor and ceremony. \n",
      "Sefrou – Festival of the cherry harvest \n",
      "Al Hoceima – festival of the sea harvest \n",
      "Celebration of the Throne – Parades and fireworks – 30 July August Asilah Arts Festival – Exposure for local artists \n",
      "Celebration of the Young – August 21 \n",
      "Setti Fatma – Popular moussem held in the Ourika valley \n",
      "Sefrou – Moussem of Sidi Lahcen el Youssi \n",
      "El Jadida – Moussem of Moulay Abdallah. It features fantasias. \n",
      "Tiznit – Moussem of Sidi Ahmed ou Moussa. This is principally a religious festival. \n",
      "Immouzer du Kandar – a moussem for harvesting apples and pears. \n",
      "Immouzer des Ida Outanane – a honey moussem which last about a week. September  Chefchaouen – Moussem of Sidi Allal al Hadh. \n",
      "Moulay Idriss Zerhoun – Moussem of Moulay Idriss, the patron saint of Fez, which is the biggest religious moussem. \n",
      "Imilchil – a marriage festival in the Atlas mountains (see marriage customs)also a showcase for traditional costumes October  The Date Festival – Held in Erfoud November  Ramadan – month of fasting \n",
      "Independence Day – Nov 18\n",
      "Eid al Fitr – Endof Ramadan \n",
      "Erfoud – a harvest festival December  Rafsae – olive harvest festival \n",
      "Hajj Day – Dec 31 For more information on Public Holiday’s in Morocco, click here .\n"
     ]
    },
    {
     "name": "stderr",
     "output_type": "stream",
     "text": [
      "C:\\Users\\pc\\AppData\\Local\\Temp\\ipykernel_3448\\1046621111.py:35: FutureWarning: The frame.append method is deprecated and will be removed from pandas in a future version. Use pandas.concat instead.\n",
      "  df = df.append({\n",
      "C:\\Users\\pc\\AppData\\Local\\Temp\\ipykernel_3448\\1046621111.py:7: DeprecationWarning: executable_path has been deprecated, please pass in a Service object\n",
      "  driver = webdriver.Chrome(chrome_driver_path)\n"
     ]
    },
    {
     "name": "stdout",
     "output_type": "stream",
     "text": [
      "Delicious Moroccan Food\n",
      "Moroccan cuisine has been enriched by the many aspects of its long and eventful history and over the centuries has been refined into a fascinating blend of Arab, Berber, Middle Eastern, Moorish, Iberian, Mediterranean, African and Jewish influences which is uniquely Moroccan. Spices hold pride of place in any Moroccan kitchen and are used skillfully to create a variety of distinctive flavors to tempt any palate. Common spices include cumin, cinnamon, turmeric, ginger, paprika, aniseed, pepper, coriander, sesame seeds, saffron and mint. Couscous plays an important role in Moroccan cuisine and is gaining popularity world-wide. Traditionally the main meal is enjoyed at midday, with the holy month of Ramadan being the exception. Bread is offered at every meal and it is common for Moroccans to eat with the fingers of one hand while bread in the other hand is used as a utensil. A meal may start with salads that are followed by a traditional Moroccan tagine. Mint tea will be served either with the meal or at the end. Seasonal fruit may complete a meal, or on special occasions a pastry stuffed with almond paste and dusted with sugar known as kaab el ghzal (gazelles horns) may be served. Halwa shebekai, a pretzel shaped piece of deep fried dough, dipped in honey and sprinkled with sesame seeds, is also popular. Visiting a foreign country is always exciting, and enjoying the food of the local people you meet during your travels completes the experience, so be sure to try out the many flavor-filled aspects of Moroccan cuisine. Moroccan Dishes The variety of Moroccan dishes seems endless, but they all have something in common – they are all delicious. So when you are in Morocco, be sure to try out traditional favorites such as the triple-layered savory pastry known as Bisteeya, or Mechoui slow-roasted lamb. Not to be missed is a Morocco tagine, a savory dish of chicken, fish, beef or lamb and vegetables which is slow-cooked to perfection in a unique pottery container. Moroccan Recipes Tempt your senses with delicious Moroccan Cuisine and Recipes. Moroccans have always been praised for their unique spice combinations resulting in incredible taste sensations. Get some recipes here and try them out yourself. Restaurant Guide Whilst in Morocco, eat like a Moroccan! Have a look at this list of Moroccan Restaurants and choose where to eat tonight!\n"
     ]
    },
    {
     "name": "stderr",
     "output_type": "stream",
     "text": [
      "C:\\Users\\pc\\AppData\\Local\\Temp\\ipykernel_3448\\1046621111.py:35: FutureWarning: The frame.append method is deprecated and will be removed from pandas in a future version. Use pandas.concat instead.\n",
      "  df = df.append({\n",
      "C:\\Users\\pc\\AppData\\Local\\Temp\\ipykernel_3448\\1046621111.py:7: DeprecationWarning: executable_path has been deprecated, please pass in a Service object\n",
      "  driver = webdriver.Chrome(chrome_driver_path)\n"
     ]
    },
    {
     "name": "stdout",
     "output_type": "stream",
     "text": [
      "Education and Studying in Morocco\n",
      "Get educated! A number of fine Moroccan and Western schools are available in Morocco thus ensuring the highest level of grade and tertiary education. The following is a list of some of the schools in Morocco Rabat American School\n",
      "Address: 1 Bis Rue Emir Ibn Abdelkader, Agdal, Rabat\n",
      "Telephone: +212 (0) 37 671 476\n",
      "Fax: 212 (0) 37 670 963 George Washington Academy\n",
      "Address: Km 5.6 Rte d’Azemmour, Dar Bouazza, Casablanca\n",
      "Telephone: +212 (0) 22 95 30 00\n",
      "Fax: +212 (0) 22 95 30 01 American School of Tangier\n",
      "Address: 149, Rue Christophe Colombe, Tangier\n",
      "Telephone: +212 (0) 39 93 98 27\n",
      "Fax: +212 (0) 39 94 75 35 The British Council Morocco (Rabat)\n",
      "Address: 36, Rue de Tanger, Rabat\n",
      "Telephone: +212 (0) 37 21 81 30\n",
      "Fax: +212 (0) 37 76 08 50\n",
      "E-mail: info@britishcouncil.org.ma The British Council Morocco (Casablanca)\n",
      "Address: 87, Boulevard Nador, Polo, Casablanca\n",
      "Telephone: +212 (0) 22 52 93 60\n",
      "Fax: +212 (0) 22 52 09 64 American Cultural Association (Agadir)\n",
      "Address: Ave. des Nationa-Unies, Cite Suisse, Agadir\n",
      "Telephone: 028 82 15 89\n",
      "Fax: 028 84 82 79\n",
      "E-mail: alcagad@menara.ma American Cultural Association (Casablanca)\n",
      "Address: 1 Place de la Fraternite, Casablanca\n",
      "Telephone: 022 27 77 65\n",
      "Fax: 022 20 74 57\n",
      "E-mail: casa_dir@aca.org.ma American Cultural Association (Fes)\n",
      "Address: 2 Rue Ahmed Hiba, Fes\n",
      "Telephone: 035 62 48 50\n",
      "Fax: 035 93 16 08\n",
      "E-mail: alcfes@aca.org.ma American Cultural Association (Kenitra)\n",
      "Address: 2 Boulevard Kadissia, Kenitra\n",
      "Telephone: 037 37 66 03\n",
      "Fax: 037 36 19 40\n",
      "E-mail: alcken@aca.org.ma American Cultural Association (Marrakech)\n",
      "Address: 3 Impasse du Moulin, Gueliz, Marrakech\n",
      "Telephone: 024 44 72 59\n",
      "Fax: 024 43 07 24\n",
      "E-mail: alcmarr@aca.org.ma American Cultural Association (Meknes)\n",
      "Address: 4 Bis Rue de Mentons, Meknes\n",
      "Telephone: 035 52 36 36\n",
      "Fax: 035 51 64 44\n",
      "E-mail: alc_mek@menara.ma American Cultural Association (Mohammedia)\n",
      "Address: Complex Mont Joli, 15 Rue de Sebta, 2 Etage, Appt 15, Mohammedia\n",
      "Telephone: 023 32 68 70\n",
      "Fax: 023 32 79 17\n",
      "E-mail: alcmoh@mtds.com American Cultural Association (Rabat)\n",
      "Address: 4 Zankat Tanja, Rabat\n",
      "Telephone: 037 76 71 03\n",
      "Fax: 037 76 62 55\n",
      "E-mail: dir@alcrabat.org American Cultural Association (Tangier)\n",
      "Address: 1 Rue Emsallah, Tangier\n",
      "Telephone: 039 93 36 16\n",
      "Fax: 039 93 55 66\n",
      "E-mail: alctangier@menara.ma American Cultural Association (Tetouan)\n",
      "Address: 1 Rue Maarakate Zalaka, Tetouan\n",
      "Telephone: 039 96 33 08\n",
      "Fax: 039 96 33 08\n",
      "E-mail: alctetouan@menara.ma Anglo-Moroccan School\n",
      "Address: Km 5.5, Route de Rabat, Ziaten, TANGER\n",
      "Telephone: Tel : +212 (0) 531 06 06 70\n",
      "Tel / Fax: +212 (0) 531 06 06 72\n",
      "E-mail: info@amschools.ma\n"
     ]
    },
    {
     "name": "stderr",
     "output_type": "stream",
     "text": [
      "C:\\Users\\pc\\AppData\\Local\\Temp\\ipykernel_3448\\1046621111.py:35: FutureWarning: The frame.append method is deprecated and will be removed from pandas in a future version. Use pandas.concat instead.\n",
      "  df = df.append({\n",
      "C:\\Users\\pc\\AppData\\Local\\Temp\\ipykernel_3448\\1046621111.py:7: DeprecationWarning: executable_path has been deprecated, please pass in a Service object\n",
      "  driver = webdriver.Chrome(chrome_driver_path)\n"
     ]
    },
    {
     "name": "stdout",
     "output_type": "stream",
     "text": [
      "The Famous People from Morocco\n",
      "We have compiled an interesting list of famous Moroccan people, however feel free to send us suggestions of other famous Moroccan people who you believe should be added. Mohammed Hajoui\n",
      "Born into a prestigious Moroccan family in the city of Fez, Mohammed Hajoui went on to hold the office of governor of Oujda for a period of seventeen years. Despite taking the French side during the Protectorate, he remained governor of Oujda after Independence in 1956, returning to Fez for his retirement. Mohammed Khair Eddine\n",
      "Counted among the most famous of the 20th century Moroccan literary figures Mohammed Khair Eddine often featured the cities and towns of Agadir and Tiznit amongst others in his works. He was a controversial writer who defied conventionalism by raising pertinent sociological and political questions, drawing his inspiration from the people and life around him. Leila Abouzeid\n",
      "This Moroccan author writes in Arabic and has the distinction of being the first female Moroccan literary figure to have her work translated into English. Abouzeid explores issues that her readership readily identifies with, such as the struggle against poverty and interfamilial conflict, as well as the conflict between modernism and traditional culture, presenting them from a woman’s perspective. Mohammed Berrada (Beradah)\n",
      "Considered to be one of Morocco’s finest modern authors, Berrada is a novelist, literary critic and translator. He writes in Arabic and teaches Arab literature at the Mohammed V University in Rabat. He is also an active member of the advisory board for Prologue, a Moroccan literary magazine. Mohammed Choukri\n",
      "Best known for his autobiography For Bread Alone, which would later be translated into more than thirty languages, this Moroccan author was born in a small village in the Rif Mountains. As a runaway living on the streets of Tangier, Choukri was determined to lift himself out of the poverty that surrounded him, which he did successfully. He also wrote of his encounters in Tangier with noted writers Paul Bowles, Tennessee Williams and Jean Genet, as well as a further two autobiographical works, Streetwise and Faces, which together with For Bread Alone were combined into a trilogy. Abdelhadi Tazi\n",
      "As a scholar, historian and writer, Abdelhadi Tazi is a member of academic societies in Morocco and several other countries. He has received numerous awards and decorations, including the Gold Medal of the Academy of the Kingdom of Morocco in 1992 and the Intellectual first Class Merit Medal of Morocco in 1976. Halima Ferhat\n",
      "As a Moroccan historian and an expert in the middle ages of the Maghreb, Halima Ferhat is a professor at the Mohammed V University. She has had a number of books and articles published which are related to her field of expertise. Mohammed Kaghat\n",
      "In addition to writing plays, many of which he produced as stage director, Kaghat directed several feature films and wrote a number of books based on drama the theater in Morocco. He also acted in more than twenty films and television series. Mohamed Zafzaf\n",
      "Writing in Arabic, this forward-thinking Moroccan novelist and poet displayed a talent for weaving tales that addressed the concerns of society in a way that has held the attention of his readers for decades. He was also known as an outspoken critic of cultural ignorance. Mostafa Nissaboury\n",
      "Considered to be one of the pioneers of modern Moroccan Poetry, Mostafa Nissaboury was a co-founder of the avant-garde magazine known as Anfas/Souffles, which featured essays, poetry and fiction and was banned in 1971. Fouzia Rhissassi\n",
      "Currently holding a position on the UNESCO Chair on Women Rights, Fouzia Rhissassi is employed at the Ibn Tofail University in Kenitra as a professor of social science and faculty of arts. The professor has authored and co-authored a number of publications with regard to gender studies and women’s rights. Imad Kotbi\n",
      "As a popular radio presenter and disk jockey presenting a program called “Ze Kotbi Show” on Casa FM, Imad Kotbi’s claim to fame is holding a Guinness World Record for broadcasting for fifty hours non-stop at the end of December 2006. Mohammed Abed Al-Jabri \n",
      "Born in 1936, Mohammed Abed Al-Jabri was a Moroccan critic, as well as a professor of Islamic thought and philosophy, and an expert in Arabic literature. Before his death in May 2010, he published several important books about Arab philosophical tradition and is also renowned for his work “The critique of the Arab Mind”.\n"
     ]
    },
    {
     "name": "stderr",
     "output_type": "stream",
     "text": [
      "C:\\Users\\pc\\AppData\\Local\\Temp\\ipykernel_3448\\1046621111.py:35: FutureWarning: The frame.append method is deprecated and will be removed from pandas in a future version. Use pandas.concat instead.\n",
      "  df = df.append({\n",
      "C:\\Users\\pc\\AppData\\Local\\Temp\\ipykernel_3448\\1046621111.py:7: DeprecationWarning: executable_path has been deprecated, please pass in a Service object\n",
      "  driver = webdriver.Chrome(chrome_driver_path)\n"
     ]
    },
    {
     "name": "stdout",
     "output_type": "stream",
     "text": [
      "Moroccan Folklore – Mysterious and Historical Traditions\n",
      "A fascinating bit of insight into the intricate and historical folklore of Morocco. Learn about their dances, music and more.Moroccan Folklore is extremely diverse and equally fascinating. Even to say that it is diverse would be a massive understatement. The folklore varies in different areas, amongst different tribes and even from one language to another. The folklore traditions are as plentiful as the people themselves. The Awash \n",
      "The dance originates from the High Atlas and Ouarzazate areas. Woman in colorful dresses stand motionless around a group of men sitting around a fire. The men each have “bendir’s”. A “bendir” is a circular piece of wood with a hide stretched over it. The sombre silence is broken by a piercing cry and the men begin to beat their drums and the woman sway slowly from side to side. Their speed of their swaying and the playing of the drums increase until the grand finale. The Ouais \n",
      "This ballet-like dance is set to ancient Middle Eastern music. The ‘orchestra’ comprises a single-stringed fiddle and a number of 3 stringed, turtle-shell mandolins. These are played whilst another person keeps beat with a piece of iron hit on the ground. The dancers wear colorful kaftans, a silk belt and a colorful spangled cord wrapped around their head. It’s a simple dance with only a few steps, but as the couples alternate their steps in unison, it creates a wonderfully intricate spectacle. The Ait Atta \n",
      "Similar to the Awash dance in certain ways, this dance marks the end of the working season. As the cold creeps over the mountains the workers get ready to put their tools down and prepare for a season of relaxation. A row of women face a row of men and dance with gestures from which it is clear to see their enthusiasm and happiness to be finished with their work for the season. The Ait Bodar \n",
      "Ancient warriors placed much importance on the warriors fighting as one: creating an unbreakable line of defense to ensure their victory. This dance encompasses this belief. A row of men wearing white gandoras link into each others’ arms and chant their song whilst perpetually moving forwards and backwards as one unit. Ha Ha \n",
      "A single, 7-holed flute is the only instrument used in this dance. Combined with the stamping of feet and the clapping of hands it creates an mesmerizing effect. The dancing men are incredibly disciplined and precise. The Fantasia \n",
      "Performed entirely on horseback, this dance is an amazing and dazzling sight. A procession on woman on horseback begins the proceedings. Behind them men, wearing their individual tribe’s emblem and riding in order of rank in the tribe, ride in an organized procession. As soon as this procession is complete the real Fantasia begins: The Aid el Broud (Festival of Gunpowder). Intense gun-fire and bursts of gunshots pierce through the night. Horsemen, in a somewhat organized chaos, ride in their ranks all the while shouting and shooting until the grand finale when everything breaks loose with maddened gun-fire from their “moukhahla” rifles. It’s a spectacle bar none!\n"
     ]
    },
    {
     "name": "stderr",
     "output_type": "stream",
     "text": [
      "C:\\Users\\pc\\AppData\\Local\\Temp\\ipykernel_3448\\1046621111.py:35: FutureWarning: The frame.append method is deprecated and will be removed from pandas in a future version. Use pandas.concat instead.\n",
      "  df = df.append({\n",
      "C:\\Users\\pc\\AppData\\Local\\Temp\\ipykernel_3448\\1046621111.py:7: DeprecationWarning: executable_path has been deprecated, please pass in a Service object\n",
      "  driver = webdriver.Chrome(chrome_driver_path)\n"
     ]
    },
    {
     "name": "stdout",
     "output_type": "stream",
     "text": [
      "Languages of Morocco – French to Arabic to English\n",
      "Though most of us are not born linguists, striving to achieve even a small level of communication between ourselves and the inhabitants of the country we are visiting can be a most rewarding endeavor. Because of the varied historical influences on the people of Morocco, there is a large variety of languages spoken throughout the country. In order to help you in your pursuit to communicate better, we have provided a list of these languages. Communicating to some degree in one of the nine living languages still spoken in Morocco can greatly enhance your experiences in the country. When Moroccans note your attempts to communicate, they are often treat you quite differently are become much more friendly and helpful. Thus, a world of adventure becomes opened to you, simply because you put a little effort into\n",
      "it. Fortunately for us, most Moroccans are capable of speaking more than just one of their native languages. At least half of the country’s population is capable of speaking French and many of those involved in the tourism industry are capable of speaking some English and a few other foreign languages as well. This means you should be able to get by in most parts of the country quite easily without even trying very hard. But if you really want to open doors or have a less frustrating adventure, you should really try to speak a little Arabic or French. There are several different forms of the various languages spoken in Morocco, as well as a few that are non-verbal. The following is a breakdown of the 11 listed languages that are or were spoken in Morocco: Moroccan Arabic – This is the official language of Morocco. Though it is somewhat different from most other types of Arabic, most Moroccans can understand conventional Arabic. Hassaniyya Arabic – Also known as Moor. Over 40 000 in\n",
      "Southern Morocco people speak this form of Arabic. Judeo-Moroccan Arabic – Only about 8 925 people speak this\n",
      "form of Arabic. It is generally confined to certain small areas in Morocco. Standard Arabic – Most Moroccans can understand this form of Arabic which is spoken and written much throughout the rest of the Middle East and North Africa. Most Arabic television programs are in this form of Arabic. Moroccan Sign Language – There is a large number of deaf men who speak sign language in the city of Oujda. It is hard to determine how many women are capable of sign language as they do not speak it in the streets. There are a few small deaf schools which teach the language though it is not generally used in Rabat, Tangier and Casablanca. Most people who use MSL cannot read or write Arabic. MSL is very different from American Sign Language and people conversant in the two sign languages would struggle to understand each other. Spanish – Over 20 000 people in Morocco are capable of\n",
      "speaking Spanish. Besides being only a short distance away, Spain also acted as a protectorate of Morocco for a while after 1912. This resulted in Spanish\n",
      "influence in culture and language. Tachelhit – 3 to 4 million of the people of Morocco speak\n",
      "this form of Berber. Central Atlas Tamazight – This is also spoken by roughly 3\n",
      "million of the inhabitants of Morocco. It is a dialect of Berber. Tarifit – a lesser used dialect of the Berber language. It\n",
      "is spoken by about 1.5 million people in Morocco. Ghomara – was a dialect of Berber which is generally\n",
      "considered to no longer be in use. Senhaja de Srair – this is the fifth dialect of Berber which has also unfortunately fallen into disuse. French – though not seen as an indigenous language in\n",
      "Morocco, at least half of the population is capable of speaking it. This is due to the strong French influence during the period of 1912 to 1956, which has also left a large amount of French architecture in parts of Morocco. For more interesting facts on Morocco, click here.\n"
     ]
    },
    {
     "name": "stderr",
     "output_type": "stream",
     "text": [
      "C:\\Users\\pc\\AppData\\Local\\Temp\\ipykernel_3448\\1046621111.py:35: FutureWarning: The frame.append method is deprecated and will be removed from pandas in a future version. Use pandas.concat instead.\n",
      "  df = df.append({\n",
      "C:\\Users\\pc\\AppData\\Local\\Temp\\ipykernel_3448\\1046621111.py:7: DeprecationWarning: executable_path has been deprecated, please pass in a Service object\n",
      "  driver = webdriver.Chrome(chrome_driver_path)\n"
     ]
    },
    {
     "name": "stdout",
     "output_type": "stream",
     "text": [
      "Moroccan Literature – A Treasure Trove of Written Arts\n",
      "Over the years, Moroccan literature has grown and evolved tremendously. Books and poetry that form part of literature in Morocco have amazed, shocked and fulfilled the citizens. They have also shed light on the talents that had not yet been discovered or explored. Some of the literature in Morocco is written in Arabic, French, Berber and even in English. The diversity of Moroccan literature is truly amazing, as are the writers who pen these literary masterpieces. Moroccan literature has been delivering wonderful pieces of poetry and writings for centuries. The University of Al Karaouine, for instance, was established in the year 859. This university can still be visited in the city of Fez today and has played a vital role in the development of literature in Morocco of the centuries. It has a proud history of nurtured talents such as Ibn Harazim, Ibn Khaldoun and Ibn Wazzan. But the most prolific and celebrated literary mind and an iconic Moroccan figure is Ibn Battuta. He published his narrative called “Rihla”, meaning “Travels”, in 1356 after he had toured from Mali through to India and even visited China. Poetry and literature also found its way into the royal family, with Ahmed al-Mansour being famously known as the “Poet King”. This amazing Saadian ruler was in power between the years 1578 to 1603 and was one of the biggest contributors to the Taroudant library. Another significant library in Morocco, is the Moroccan National Library that was established in 1920. It was constructed in Rabat and is still functioning as a leading library. The University Library in the city of Fez and the Library of Casablanca are also amongst the most important literary establishments in Morocco. Morocco became a literary sanctuary during the 1950’s and 1960’s. Well-known authors such as William S. Burroughs, Paul Bowles and Tennessee Williams flocked to Morocco for inspiration and to enjoy the literary freedom of the country. Many native Moroccans also bloomed during this time, including Driss El Khori, Mohamed Choukri and Driss Chraibi. Authors such as Mohamed Zefzaf and Abdellah Laroui are noted for writing in Arabic. Driss Chraibi made a massive impact on the Moroccan public with his French novel “Le Passe Simple”, or “The Past Tense”, that was published in 1954. He went on to write the “Naissance a l’aube” in 1986, which was later translated to English in 1990. Moroccan literature is an intricately woven quilt of novels, poetry, essays, documents, biographies, historiography, science and natural science. It encompasses a diverse range of subjects, shocking revelations and triumphant writers and novelist.\n"
     ]
    },
    {
     "name": "stderr",
     "output_type": "stream",
     "text": [
      "C:\\Users\\pc\\AppData\\Local\\Temp\\ipykernel_3448\\1046621111.py:35: FutureWarning: The frame.append method is deprecated and will be removed from pandas in a future version. Use pandas.concat instead.\n",
      "  df = df.append({\n",
      "C:\\Users\\pc\\AppData\\Local\\Temp\\ipykernel_3448\\1046621111.py:7: DeprecationWarning: executable_path has been deprecated, please pass in a Service object\n",
      "  driver = webdriver.Chrome(chrome_driver_path)\n"
     ]
    },
    {
     "name": "stdout",
     "output_type": "stream",
     "text": [
      "Proverbs – Common Sayings Used in Morocco\n",
      "A few words from the wise. Get clued up on some common proverbs and sayings used in and around Morocco. Truth Proverbs  Love truth even if it harms you, and hate lies even if they serve you Believe what you see and lay aside what you hear A known mistake is better than an unknown truth No land without stones, no meat without bones Friendship Nothing dries sooner than a tear He who gives fair words feeds you with an empty spoon The enemy of my enemy is my friend Many are the roads that do not lead to the heart Contradictory  Don’t cross the bridge till you come to it One who is not moved by words is not moved by the stick Meat and mass never hindered man Many hands make light work Success Exert effort, you shall be rewarded You can’t catch two frogs with one hand Kill two birds with the one stone\n"
     ]
    },
    {
     "name": "stderr",
     "output_type": "stream",
     "text": [
      "C:\\Users\\pc\\AppData\\Local\\Temp\\ipykernel_3448\\1046621111.py:35: FutureWarning: The frame.append method is deprecated and will be removed from pandas in a future version. Use pandas.concat instead.\n",
      "  df = df.append({\n",
      "C:\\Users\\pc\\AppData\\Local\\Temp\\ipykernel_3448\\1046621111.py:7: DeprecationWarning: executable_path has been deprecated, please pass in a Service object\n",
      "  driver = webdriver.Chrome(chrome_driver_path)\n"
     ]
    },
    {
     "name": "stdout",
     "output_type": "stream",
     "text": [
      "Music in Morocco\n",
      "Rhythms of Moroccan music\n",
      "One of the richest aspects of Morocco’s culture is its music. Made up of more than twenty-five different types, Moroccan music reflects the richness of its diversity and echoes its present and past history. Depending on which region of the country you visit, you will be sure to hear the sounds of Andalusian, Berber, Raï, Chaabi or Gnawa permeating the air. \n",
      "Andalusian music, as its name indicates, comes from Al-Andalus or Andalusia. It is a blend of Arab and Spanish music that Moroccans call El-Ala and is considered to be Morocco’s classical music which is sung in classical Arabic. Andalusian music dates back to the 9th century when the famous Persian singer and musician Ziriab made this type of music popular. It makes use of many musical instruments such as the violin, lute and many others. In Morocco, Andalusian singers and musicians are mostly men who perform in traditional clothing. Moroccans usually listen to Andalusian music during religious ceremonies. \n",
      "The second type of music is Berber music. The three different Berber regions in Morocco each possesses their own language and, in turn, their own Berber rhythms. Berber music has survived thanks to a few Berber musicians and poets. Many Arab Moroccans do not listen to Berber music since most do not speak or understand Berber. The main instruments of Berber music are the round drum – or Bendir – and the banjo. Berber music has undergone many changes during the past twenty years. One of the more notable changes is the presence of more and more women performing it. \n",
      "Another type of Moroccan music is Rai. With its origins in Algeria, it has been adopted by Morocco and is associated to the eastern region of the country, especially the city of Oujda. Rai music gained a lot of popularity in Morocco in the 90s with the death of the famous Algerian Raï singer Cheb Hasni. Since then, Raï has blossomed in the North East of Morocco. \n",
      "Chaabi is probably considered pop music since it is indeed the most popular music listened to in Morocco. It is another form of Moroccan music that is widely listened to because it is sung in Darija, Moroccan Arabic. In the 70s it was the music that was used to express people’s overall political views and feelings via groups such as Jil Jilala and Nas El Ghiwane. Chaabi can be heard at weddings and other festive occasions or group gatherings. \n",
      "Even if you speak Moroccan Arabic, do not be surprised if you cannot understand the lyrics of Gnawa music. For Gnawa music is a fusion of Arab, Berber and African rhythms. It is powerful trance music that goes back to the 16th century and has gained international popularity over the last few years. If you are in Morocco during the month of June, don’t miss the three-day Gnawa festival in the city of Essaouira in the south of Morocco. The main instruments of Gnawa music is the double-headed drum – or tbal – and metal castanets or qerqbat. Gnawa has also gone through changes and can be heard mixed with different musical styles such as Jazz. \n",
      "If you are planning to visit Morocco, be sure you get informed of the music festival taking place during your visit. There are many of them in different cities and it is most likely that your visit coincides with one of them. There are, for example, a festival in Rabat called Mawazin, another in Fez called sacred music (or la musique sacrée) and another one in Chefchaouen called Allegria. There are also many others.\n"
     ]
    },
    {
     "name": "stderr",
     "output_type": "stream",
     "text": [
      "C:\\Users\\pc\\AppData\\Local\\Temp\\ipykernel_3448\\1046621111.py:35: FutureWarning: The frame.append method is deprecated and will be removed from pandas in a future version. Use pandas.concat instead.\n",
      "  df = df.append({\n",
      "C:\\Users\\pc\\AppData\\Local\\Temp\\ipykernel_3448\\1046621111.py:7: DeprecationWarning: executable_path has been deprecated, please pass in a Service object\n",
      "  driver = webdriver.Chrome(chrome_driver_path)\n"
     ]
    },
    {
     "name": "stdout",
     "output_type": "stream",
     "text": [
      "The People of Morocco – Cultured and Diverse People\n",
      "It has often been said that the people are the pulse of a nation. The rich culture and diversity of Morocco is reflected in every inch of the vibrant nation that trade frantically and enthusiastically in the bustling streets while songs of worship ring out overhead. These people have a long and fascinating heritage and, though they've slowly started to embrace the modernizing of their world, there is a sort of captivated timelessness that still hangs over them all. Below you will find a bit about the demographics of the country as well as a little about the history of the nation. The Moroccan nation owes its diversity to the many cultures that have influenced it during the course of its history. Initially, the area now known as Morocco seems to have been inhabited by Libyans and Ethiopians who were collectively called Barbaroi or Berbers. They lived in tribal groups in the area during a period of sultanate dynasties. There was no subjection to a singular government in the area at the time. Slowly, various national groups started to impact on the area such as Arabs, Phoenicians, Byzantines, Romans, Spaniards, Portuguese, Turks, Europeans and the French. Much of this influence came in the form of hostilities on the Spanish coast. Over a long period of time, the area became claimed and ruled by other countries until it established its independence in 1956. Though it would seem most Berbers were once pagan worshipers, the majority (98.7%) of the country now practice Islam. The rest of the population practice Christianity or Judaism. Most of the Moroccans today can claim both Berber and Arab ancestry, though they are generally referred to as Berbers. There is a small amount that can claim pure Arab decent and a few small groups of true Berbers which exist in the Rif Mountains, Atlas Mountains and Souss Valley and who are able to speak several ancient Berber languages. There is also a small number of Jews and black African Moroccans. The population of Morocco numbers over 30 million people and many of them are not well off. Lifestyles differ depending on the areas that people live in. People living in rural areas are often unable to get fairly basic items, such as plasters. They generally tend to grow plants or tend livestock for food. However there are far greater clusters of people in the cities, which bustle with life at all times of the day. Souks (markets) are virtually a way of life for most Moroccans and can be found in every town and city. The Majority of souks, however, are closed during the lunch period and on Fridays. Most Moroccans are friendly and hospitable and will extend warm invitations if you do not act rude or unfriendly towards them. Population Density:\n",
      "72 People per square kilometer Age Structure\n",
      "0-14yrs Males: 5,355,388; Females: 5,156,762\n",
      "15-64yrs Males 10,013,466; Females: 10,112,060\n",
      "65+ Males: 692,465; Females: 878,960 Ethnic Groups\n",
      "Arab Berber: 99.1%\n",
      "Jewish: 0.2%\n",
      "Other: 0.7% Religion\n",
      "Muslim: 98.7%\n",
      "Christian: 1.1%\n",
      "Jewish: 0.2% Literacy Rate:\n",
      "Men: 64.1%\n",
      "Woman: 39.4%\n"
     ]
    },
    {
     "name": "stderr",
     "output_type": "stream",
     "text": [
      "C:\\Users\\pc\\AppData\\Local\\Temp\\ipykernel_3448\\1046621111.py:35: FutureWarning: The frame.append method is deprecated and will be removed from pandas in a future version. Use pandas.concat instead.\n",
      "  df = df.append({\n",
      "C:\\Users\\pc\\AppData\\Local\\Temp\\ipykernel_3448\\1046621111.py:7: DeprecationWarning: executable_path has been deprecated, please pass in a Service object\n",
      "  driver = webdriver.Chrome(chrome_driver_path)\n"
     ]
    },
    {
     "name": "stdout",
     "output_type": "stream",
     "text": [
      "Morocco Photos\n",
      "Photographs are a great way to get a feel for a country. They help you to visualize what you will be likely to see and enjoy whilst on your travels and they also help you to mentally prepare yourself for what you might experience.They can serve to familiarize you with certain places and even help you to meet people you have never seen face to face! Photographs can serve as a fantastic ‘window’ to other worlds and will help you to acquire a taste for countries that you have never even stepped foot in.Certainly, they will make you want to visit as quickly as possible. In this regard, they serve as a powerful advertising tool. But photos are more than this. They help you to remember the joyous holidays that you have experienced in the past. They also help you to learn about other cultures and peoples.If you have some original, professional quality photographs that you would like to share with Morocco.com, you can do so by writing to us at member@virtualcountries.com and describe the contents of your photos.Help us to show the world the unique beauty of your country. If you would like your photos featured on this site then please contact us. Thank you! Team Morocco.com\n"
     ]
    },
    {
     "name": "stderr",
     "output_type": "stream",
     "text": [
      "C:\\Users\\pc\\AppData\\Local\\Temp\\ipykernel_3448\\1046621111.py:35: FutureWarning: The frame.append method is deprecated and will be removed from pandas in a future version. Use pandas.concat instead.\n",
      "  df = df.append({\n",
      "C:\\Users\\pc\\AppData\\Local\\Temp\\ipykernel_3448\\1046621111.py:7: DeprecationWarning: executable_path has been deprecated, please pass in a Service object\n",
      "  driver = webdriver.Chrome(chrome_driver_path)\n"
     ]
    },
    {
     "name": "stdout",
     "output_type": "stream",
     "text": [
      "Morocco Radio Stations\n",
      " Morocco radio broadcasts are quite diverse and you can be sure that you will be able to enjoy at least one radio station in a language that you understand. The majority of radio stations are based in either Casablanca or Tangier. If you have access to a short-wave radio you will also be able to pick up the BBC World Service and the Voice of America. For many foreigners this is a real treat. Casablanca Morocco radio stations are the most numerous in the country. Radio Casablanca, MEDI 1, Radio Sawa Morocco and 2M Radio are perhaps the most popular stations in Casablanca. Stations based in Tangier include MEDI 1 and Radio Sawa Morocco, both of which repeat their Casablanca counterparts’ broadcasts. It is very likely that you will hear some locally produced music while in this beautiful country. Why not take a moment to let these sounds enter your heart and mind and to enhance your experience in this historical country? Morocco radio is one of the easiest ways to experience the musical side of a truly colorful and diverse country. Radio Atlantic – 92.5 FM\n",
      "2M Radio – 93.1 FM\n",
      "MEDI 1 – 99.6 FM\n",
      "Hit Maroc – 100.3 FM\n",
      "Chada FM – 100.8 FM\n",
      "Radio Sawa Morocco – 101.5 FM\n",
      "Casa FM – 103.1 FM\n",
      "Radio Aswat – 104.3 FM 2M Radio – 93.7 FM\n",
      "Radio Sawa Morocco – 97.9 FM\n",
      "Radio Aswat – 99.9 FM\n",
      "MEDI 1 – 101.4 FM 2M Radio – 93.8 FM\n",
      "Hit Maroc – 94.4 FM\n",
      "SNRT Chaine Nationale – 94.9 FM\n",
      "Atlas FM – 96.3 FM\n",
      "Radio Aswat – 100.6 FM\n",
      "Radio Sawa Morocco – 101.7 FM\n",
      "MEDI 1 – 105.3 FM 2M Radio – 93.5 FM\n",
      "Radio Aswat – 95.7 FM\n",
      "MEDI 1 – 97.5 FM\n",
      "Hit Maroc – 99.8 FM\n",
      "Radio Sawa Morocco – 101.0 FM\n",
      "SNRT La Radio Amazigh – 104.6 FM\n",
      "Radio Atlantic – 106.9 FM\n"
     ]
    },
    {
     "name": "stderr",
     "output_type": "stream",
     "text": [
      "C:\\Users\\pc\\AppData\\Local\\Temp\\ipykernel_3448\\1046621111.py:35: FutureWarning: The frame.append method is deprecated and will be removed from pandas in a future version. Use pandas.concat instead.\n",
      "  df = df.append({\n",
      "C:\\Users\\pc\\AppData\\Local\\Temp\\ipykernel_3448\\1046621111.py:7: DeprecationWarning: executable_path has been deprecated, please pass in a Service object\n",
      "  driver = webdriver.Chrome(chrome_driver_path)\n"
     ]
    },
    {
     "name": "stdout",
     "output_type": "stream",
     "text": [
      "Universities in Morocco – Providing Top Education\n",
      "After completing their school education, Moroccans have the option to pursue a tertiary education at the\n",
      "various institutions scattered throughout the country. There are approximately forty tertiary education\n",
      "institutions including 14 universities, private higher education institutions and polytechnics. The chief\n",
      "language of instruction at these educational institutions is French, along with a few Arabic courses and\n",
      "several English institutions. Moroccans are not the only ones who study at Morocco's universities;\n",
      "foreign students also attend. Mohammed V University is probably the best-known of Morocco’s universities. The University was\n",
      "established in 1957 and was amongst the first modern universities to be founded in Morocco. This fine\n",
      "tertiary education institution in Morocco was named in honor of King Mohammed V, a renowned Moroccan\n",
      "monarch. In the year 1993 the Mohammed V University was split into two institutions, namely Mohammed\n",
      "V University at Souissi and Mohammed V University at Agdal. Students attending Mohammed V University\n",
      "can make use of the faculties of medicine, sciences, law and liberal arts. The University of Al-Karaouine is also renowned. This historical institution was established back in\n",
      "859 and was named the “oldest existing educational institution in the world” by the famed Guinness Book\n",
      "of World Records. Since its inception it has been an important education center for Islamic studies with\n",
      "international students also coming here to study theology. Al Akhawayn University in Ifrane is an international university with an American based curriculum. It\n",
      "was also the first private English university to be founded in North Africa. The Al Akhawayn University\n",
      "was officially inaugurated in January 1995 by King Hassan II. Below is a list of universities in Morocco: Mohammed V University – Rabat Al Akhawayn University – Ifrane Hassan II Ain Chok University – Casablanca Hassan II Mohammedia University – Mohammedia Mohamed Premier University – Oujda Cadi Ayyad University – Marrakech Ibnou Zohr University – Agadir Hassan Premier University – Settat Chaouaib Doukkali University – El Jadida Ibn Tofail University – Kenitra\n"
     ]
    },
    {
     "name": "stderr",
     "output_type": "stream",
     "text": [
      "C:\\Users\\pc\\AppData\\Local\\Temp\\ipykernel_3448\\1046621111.py:35: FutureWarning: The frame.append method is deprecated and will be removed from pandas in a future version. Use pandas.concat instead.\n",
      "  df = df.append({\n",
      "C:\\Users\\pc\\AppData\\Local\\Temp\\ipykernel_3448\\1046621111.py:7: DeprecationWarning: executable_path has been deprecated, please pass in a Service object\n",
      "  driver = webdriver.Chrome(chrome_driver_path)\n"
     ]
    },
    {
     "name": "stdout",
     "output_type": "stream",
     "text": [
      "Wedding Customs – Age-old Marriage Traditions\n",
      "Every culture treasures the wedding ceremony in some way. Traditions and ceremonies differ in each land and Morocco is no exception. Read on to learn more about a few Moroccan wedding traditions. The traditional Moroccan wedding has quite an elaborate and meaningful process. The wedding process can take up to seven days and there are many pre-wedding ceremonies that take place before the actual wedding. Morocco is a place with a very rich cultural heritage and active traditions and many of these can be seen at Moroccan wedding ceremonies. Usually the entire affair is quite expensive. It starts with the paying of a dowry that is spent on household items and furniture for the bride. If the grooms parents are very wealthy, they will pay for these items themselves. The bride also receives golden jewelry and is sent presents of cloth, clothing and perfume from her groom every feast day. The courtship period can last from six months to two years. Once a date has been set for the wedding, the real preparations begin. Five days before the matrimonial event, necessities such as a mattress and blanket are taken to the bridal chamber. There the bride is given a bath in hammam which is a sort of milk bath that is meant to purify the bride. Her negaffa (female attendants) will usually supervise the event. The negaffa – who are usually older married woman, female friends and relatives – then set about trying to beautify her. After dressing her in an elaborately decorated wedding kaftan (usually white) they proceed to decorate her with heavy jewelry and darken her eyes with kohl which looks a bit like thick dark eyeliner. The group then proceeds to have a beberiska ceremony in which the hands and feet of the bride and her party are painted with henna. The bride’s designs are always the most intricate and the various floral and geometric designs are meant to ward off evil spirits, bring good luck and increase fertility. The grooms name is often hidden in the henna designs. The negaffa will usually take this opportunity to discuss the ‘secrets’ of marriage with the young virgin. In some ceremonies the bride will then be placed behind a curtain to symbolize her change of lifestyle. In more remote areas, this ceremony would only take place the day before the wedding. Often, a bride is not expected to do any house work until her henna has faded. Once all this preparation is complete, food is prepared in excess to cater for unexpected guests and the festivities begin. In times past, the men and woman would celebrate these festivities at separate locations. At some point in the evening, the groom would leave to make his way towards the bridal party accompanied by a group of friends who sing, beat drums and dance. The bride would be lifted up on a circular cushion or table and the groom on the shoulders of his friends. The two would then be carried to the bridal chamber where they would be expected to consummate their marriage. The bridal party would then examine their sheets for signs of blood to confirm the bride’s virginity. The two would journey to their new home and the bride would circle her home three times before becoming the keeper of her new hearth. Today things have changed somewhat. Although the hamman bath is still used quite often in more rural areas, it is sometimes completely overlooked in the cities and towns. And though young brides are still quite happy to don their ceremonial kaftans, these are now more often shop bought because modern machinery has caused hand-made kaftans to be considered an expensive rarity. Many women who consider themselves to be more ‘modern’ have also rejected the intricate henna designs that usually adorn the bride. The food is now more often provided by caterers instead of family members. Most young people have begun to choose their own marriage partners and ask for their parent’s blessing on the arrangement. In the past, a marriage partner was always chosen for them. The celebrations still take place at different locations for the men and woman. Often, someone is employed to paint the hands of guests with henna. Music at these occasions can be traditional Berber, Andalusian or Arabian, or they can be popular modern tunes played on traditional instruments. The young groom is accompanied by singing, dancing friends although usually, there are a few car hooters to add to the din. Nowadays, instead of immediately consummating their marriage at this point, the two parties more often join together and the bride changes into an outfit reflecting her region. After more celebrations, the bride then changes again and the newly wed couple leaves the party for some private time. They usually go to a hotel instead of the traditional marriage chamber and no one expects them to display their sheets as proof of the bride’s virginity. The festivities do not end here. Throughout the week, the newly weds will visit friends and relatives as well as show off their new home and gifts. To this day, marriage is generally thought of as being the most important decision that both the man and woman can make. Because of this, the whole affair is expensive and elaborate.  The Imilchil Moussem/Wedding Fair Once a year the people of the various mountain tribes in the Atlas Mountains converge at a special meeting place for the Imilchil Moussem. This special meeting, which takes place in September, is primarily a massive souk where 30 000 or more Berbers gather to sell and trade their possessions. However, the gathering is not merely an exercise in financial expertise – it is also the place of the largest wedding fair in the country. The tradition was started when officials during the colonial area insisted that Berbers assemble once a year to register births, deaths and marriages. After Morocco claimed independence the tourist office encouraged the continuation of the festival. Contrary to popular belief, very few of the marriages here are prearranged. The woman arrive in ceremonial garb and they spend time flirting and getting to know the available men during the festivities and dances. Many of them already know each other. Then, near the end of the celebration, the marriage ceremonies begin and several new marriages are made simultaneously. This ceremony has, in more recent times, received a lot of tourist attention that has detracted from the ceremonies authenticity. However, the joyous occasion continues down to this day and the exact date of the festival can be obtained from the tourist board should you wish to be a part of it.\n"
     ]
    },
    {
     "name": "stderr",
     "output_type": "stream",
     "text": [
      "C:\\Users\\pc\\AppData\\Local\\Temp\\ipykernel_3448\\1046621111.py:35: FutureWarning: The frame.append method is deprecated and will be removed from pandas in a future version. Use pandas.concat instead.\n",
      "  df = df.append({\n"
     ]
    }
   ],
   "source": [
    "from selenium import webdriver\n",
    "from bs4 import BeautifulSoup\n",
    "from time import sleep\n",
    "\n",
    "for link in urls_culture:\n",
    "    chrome_driver_path = \"C:\\\\Users\\\\pc\\\\OneDrive\\\\Documents\\\\chromedriver-win64\\\\chromedriver.exe\"\n",
    "    driver = webdriver.Chrome(chrome_driver_path)\n",
    "    driver.get(link)\n",
    "    sleep(5)  # Add a pause to ensure content loads properly\n",
    "\n",
    "    # Retrieve the content of the page with BeautifulSoup\n",
    "    src = driver.page_source\n",
    "    soup = BeautifulSoup(src, 'html.parser')\n",
    "    \n",
    "    # Get the title\n",
    "    title = soup.find('h1', class_='page-title').get_text()\n",
    "    print(title)\n",
    "    \n",
    "    # Get the excerpt paragraphs\n",
    "    paragraphs = soup.find('div', class_='excerpt')\n",
    "    excerpt_text = paragraphs.get_text().strip() if paragraphs else \"\"\n",
    "    #print(excerpt_text)\n",
    "    \n",
    "    # Get the content paragraphs\n",
    "    content_div = soup.find('div', class_='content-text')\n",
    "    paragraphs = content_div.find_all('p') if content_div else []\n",
    "    filtered_paragraphs = [p for p in paragraphs if 'back-to-category' not in p.get('class', [])]\n",
    "    \n",
    "    # Join the text from the filtered p tags\n",
    "    joined_text = ' '.join(p.get_text() for p in filtered_paragraphs)\n",
    "    \n",
    "    # Concatenate the excerpt text with the joined paragraphs text\n",
    "    combined_text = excerpt_text + ' ' + joined_text\n",
    "    print(combined_text)\n",
    "    df = df.append({\n",
    "            'Prompt':title,\n",
    "            'Response':combined_text\n",
    "        }, ignore_index=True)\n",
    "    # Close the browser after processing each link\n",
    "    driver.quit()\n"
   ]
  },
  {
   "cell_type": "code",
   "execution_count": 44,
   "id": "062920d0",
   "metadata": {},
   "outputs": [
    {
     "data": {
      "text/html": [
       "<div>\n",
       "<style scoped>\n",
       "    .dataframe tbody tr th:only-of-type {\n",
       "        vertical-align: middle;\n",
       "    }\n",
       "\n",
       "    .dataframe tbody tr th {\n",
       "        vertical-align: top;\n",
       "    }\n",
       "\n",
       "    .dataframe thead th {\n",
       "        text-align: right;\n",
       "    }\n",
       "</style>\n",
       "<table border=\"1\" class=\"dataframe\">\n",
       "  <thead>\n",
       "    <tr style=\"text-align: right;\">\n",
       "      <th></th>\n",
       "      <th>Prompt</th>\n",
       "      <th>Response</th>\n",
       "    </tr>\n",
       "  </thead>\n",
       "  <tbody>\n",
       "    <tr>\n",
       "      <th>0</th>\n",
       "      <td>Travel to Agadir in Morocco</td>\n",
       "      <td>Agadir is Southern Morocco's most visited city...</td>\n",
       "    </tr>\n",
       "    <tr>\n",
       "      <th>1</th>\n",
       "      <td>Accommodation</td>\n",
       "      <td>There are plenty of hotels to choose from in M...</td>\n",
       "    </tr>\n",
       "    <tr>\n",
       "      <th>2</th>\n",
       "      <td>Beaches</td>\n",
       "      <td>The lack of monuments, museums and interesting...</td>\n",
       "    </tr>\n",
       "    <tr>\n",
       "      <th>3</th>\n",
       "      <td>Things to See &amp; Do</td>\n",
       "      <td>The Valley of the Birds (daily from 09:30-12:3...</td>\n",
       "    </tr>\n",
       "    <tr>\n",
       "      <th>4</th>\n",
       "      <td>Cuisine &amp; Nightlife</td>\n",
       "      <td>Besides what the large hotels have, there’s no...</td>\n",
       "    </tr>\n",
       "    <tr>\n",
       "      <th>...</th>\n",
       "      <td>...</td>\n",
       "      <td>...</td>\n",
       "    </tr>\n",
       "    <tr>\n",
       "      <th>175</th>\n",
       "      <td>The People of Morocco – Cultured and Diverse P...</td>\n",
       "      <td>It has often been said that the people are the...</td>\n",
       "    </tr>\n",
       "    <tr>\n",
       "      <th>176</th>\n",
       "      <td>Morocco Photos</td>\n",
       "      <td>Photographs are a great way to get a feel for ...</td>\n",
       "    </tr>\n",
       "    <tr>\n",
       "      <th>177</th>\n",
       "      <td>Morocco Radio Stations</td>\n",
       "      <td>Morocco radio broadcasts are quite diverse an...</td>\n",
       "    </tr>\n",
       "    <tr>\n",
       "      <th>178</th>\n",
       "      <td>Universities in Morocco – Providing Top Education</td>\n",
       "      <td>After completing their school education, Moroc...</td>\n",
       "    </tr>\n",
       "    <tr>\n",
       "      <th>179</th>\n",
       "      <td>Wedding Customs – Age-old Marriage Traditions</td>\n",
       "      <td>Every culture treasures the wedding ceremony i...</td>\n",
       "    </tr>\n",
       "  </tbody>\n",
       "</table>\n",
       "<p>180 rows × 2 columns</p>\n",
       "</div>"
      ],
      "text/plain": [
       "                                                Prompt  \\\n",
       "0                          Travel to Agadir in Morocco   \n",
       "1                                        Accommodation   \n",
       "2                                              Beaches   \n",
       "3                                   Things to See & Do   \n",
       "4                                  Cuisine & Nightlife   \n",
       "..                                                 ...   \n",
       "175  The People of Morocco – Cultured and Diverse P...   \n",
       "176                                     Morocco Photos   \n",
       "177                             Morocco Radio Stations   \n",
       "178  Universities in Morocco – Providing Top Education   \n",
       "179      Wedding Customs – Age-old Marriage Traditions   \n",
       "\n",
       "                                              Response  \n",
       "0    Agadir is Southern Morocco's most visited city...  \n",
       "1    There are plenty of hotels to choose from in M...  \n",
       "2    The lack of monuments, museums and interesting...  \n",
       "3    The Valley of the Birds (daily from 09:30-12:3...  \n",
       "4    Besides what the large hotels have, there’s no...  \n",
       "..                                                 ...  \n",
       "175  It has often been said that the people are the...  \n",
       "176  Photographs are a great way to get a feel for ...  \n",
       "177   Morocco radio broadcasts are quite diverse an...  \n",
       "178  After completing their school education, Moroc...  \n",
       "179  Every culture treasures the wedding ceremony i...  \n",
       "\n",
       "[180 rows x 2 columns]"
      ]
     },
     "execution_count": 44,
     "metadata": {},
     "output_type": "execute_result"
    }
   ],
   "source": [
    "df"
   ]
  },
  {
   "cell_type": "code",
   "execution_count": 45,
   "id": "43fee381",
   "metadata": {},
   "outputs": [
    {
     "name": "stderr",
     "output_type": "stream",
     "text": [
      "C:\\Users\\pc\\AppData\\Local\\Temp\\ipykernel_3448\\1904172854.py:12: DeprecationWarning: executable_path has been deprecated, please pass in a Service object\n",
      "  driver = webdriver.Chrome(chrome_driver_path)\n"
     ]
    },
    {
     "name": "stdout",
     "output_type": "stream",
     "text": [
      "Traditional Moroccan Dishes\n",
      "Take your taste-buds on a rollercoaster ride of spices, flavors and textures. This guide to Moroccan cuisine and dishes will whet your appetite for a taste of Morocco. Moroccan cuisine is as varied as its culture. It has had so many diverse influences that its food is often layered with many different spices. The following spices are commonly used in Moroccan cuisine: \n",
      "Cinnamon \n",
      "Cumin \n",
      "Turmeric \n",
      "Ginger \n",
      "Cayenne Pepper \n",
      "Paprika \n",
      "Aniseed \n",
      "Sesame Seed \n",
      "Black Pepper \n",
      "Parsley \n",
      "Green Coriander \n",
      "Marjoram \n",
      "Grey Verbena \n",
      "Mint \n",
      "Fragrant Waters \n",
      "Basil \n",
      "Onions \n",
      "Lemons \n",
      "Garlic \n",
      "Eggs \n",
      "Honey \n",
      "Couscous \n",
      "Chick Peas \n",
      "Bread \n",
      "Olives \n",
      "Buttermilk Bisteeya A triple layered savory pastry: A layer of chicken is covered with a layer of eggs and a lemony-onion sauce and then topped with a layer of crushed almonds. Everything is wrapped in phyllo pastry and delicately covered with cinnamon and sugar. Harira Soup This traditionally Berber soup is usually served during the holy festival month of Ramadan. Also great for cold weather! Mechoui This roasted lamb dish is a great favorite! A paprika and cumin spice combination is pasted over the lamb and then it’s slowly cooked for about three hours. Generally seasoned with cumin & salt. Click here for a Moroccan Restaurant Guide and for other Moroccan Recipes.\n"
     ]
    },
    {
     "name": "stderr",
     "output_type": "stream",
     "text": [
      "C:\\Users\\pc\\AppData\\Local\\Temp\\ipykernel_3448\\1904172854.py:40: FutureWarning: The frame.append method is deprecated and will be removed from pandas in a future version. Use pandas.concat instead.\n",
      "  df = df.append({\n",
      "C:\\Users\\pc\\AppData\\Local\\Temp\\ipykernel_3448\\1904172854.py:12: DeprecationWarning: executable_path has been deprecated, please pass in a Service object\n",
      "  driver = webdriver.Chrome(chrome_driver_path)\n"
     ]
    },
    {
     "name": "stdout",
     "output_type": "stream",
     "text": [
      "Recipes of Traditional Food from Braised Beef to Lamb Kebabs\n",
      "Bring Morocco home! Try these recipes at home, light some candles and let your imagination run free as you taste the flavors of Moroccan cuisine. Ingredients:\n",
      "3 Tablespoons Olive Oil (separately)\n",
      "2.5lbs beef (cut into quarter inch cubes)\n",
      "2 cups of onions, chopped 3 garlic cloves\n",
      "1 tablespoon garam masala (chopped)\n",
      "1 tablespoon paprika\n",
      "1 teaspoon ground cumin\n",
      "half teaspoon turmeric\n",
      "half teaspoon cayenne pepper\n",
      "1 cup dry red wine\n",
      "half cup dry sherry\n",
      "2 cups beef broth\n",
      "a 14.5 ounce can of diced tomatoes in juice\n",
      "1.5 cups gold raisins Method:\n",
      "Put 2 tablespoons of olive oil into a big pot. Whilst the oil is heating up, sprinkle your meat with salt and pepper. When the oil is hot, put your meat into the pot and sauté until brown. This should take about 5 minutes. Put the meat into a bowl and then put another spoon of olive oil into your pot. Sauté your onions until brown. Then add the garlic, masala, paprika, cumin, turmeric and pepper. Stir this mixture for about a minute or so. Add the wine and sherry and boil until a light glaze. Stir in the tomatoes and juice, broth and raisin. Add the beef to this mixture. Reduce the heat and boil for about an hour uncovered until the mixture is thick, stirring occasionally.\n",
      "Serves 6-8. Ingredients:\n",
      "three quarter cup of olive oil\n",
      "two thirds cup of lemon juice\n",
      "6 finely copped garlic cloves\n",
      "2 tablespoons finely chopped mint\n",
      "4 teaspoons salt\n",
      "4 teaspoons grated lemon peel\n",
      "2 teaspoons black pepper (ground)\n",
      "2 teaspoons coriander (ground)\n",
      "1 teaspoon cumin (ground)\n",
      "4lbs lamb (leg) cut into 2in cubes\n",
      "16 skewers 32 dried apricots (whole) boiled in water for 15 min\n",
      "4 red onions cut into 8 pieces Method:\n",
      "Whisk the olive oil, lemon juice, garlic, mint, salt, lemon, pepper, coriander and cumin together until blended. Set aside half a cup of this mixture in the fridge to use later to baste the kebabs. Put the kebabs in this mixture for 2 hours at room temperature. Ensure they they’re well coated by the marinade. Prepare your barbecue. Thread 3 lamb cubes onto 1 skewer. Then thread 3 apricots and 3 onion chunks alternately on the next skewer. Baste everything with the reserved marinade. Grill the apricot/onion skewers until onions soft & brown. Grill lamb to your preference, basting continuously.\n",
      "Serve on couscous Ingredients:\n",
      "2 lbs of chicken, whole or in pieces\n",
      "1 T Ginger\n",
      "2 cloves garlic, minced\n",
      "7-8 threads of saffron (soaked for 10 minutes in hot water)\n",
      "3 T olive oil\n",
      "1 small onion\n",
      "skin of one preserved lemon cut in four pieces\n",
      "1 dozen green olives\n",
      "2 T butter\n",
      "Salt Method:\n",
      "Brown the chicken with the olive oil in a saucepan, add the salt, butter, ginger, onions, garlic, saffron (and saffron soaking water) and a further 1.5 cups of water. Bring the water to boil and turn the chicken, stir the mixture and reduce the heat to medium simmer. Add more water if necessary, to prevent the sauce from reducing completely. Remove the onion from the pot when it is cooked. When the chicken is cooked, remove it from the pot, rub it with butter and put it in the oven at 350 degrees, for 10 – 15 minutes or until the skin is brown. Put the chicken back into the pot, add the olives and the preserved lemon, and cook for another 10 – 15 minutes. Place the chicken olives and lemon on a platter, let the sauce thicken and reduce and pour it over the chicken before serving. Ingredients for 60 to 70 macaroons:\n",
      "7 beaten eggs\n",
      "250 g of granulated sugar\n",
      "1 sachet of chemical yeast\n",
      "1 zest of shabby lemon\n",
      "1 kg of hulled and chopped almonds\n",
      "200 g of fine semolina\n",
      "water of orange blossom\n",
      "icing sugar Method:\n",
      "Beat the eggs. Mix the eggs, sugar, yeast, and the lemon zest. Add the chopped almonds and the semolina. Mix and kneed mixture until it forms a soft dough. Dampen your hands with the water of orange blossom. Roll the dough into small balls, flatten the balls, and roll it into the icing sugar. Arrange them in an oiled baking pan. Bake in middle of oven on 356 ‘F (180’C) for 20 to 25 minutes or until golden brown. Ingredients:\n",
      "1 kg of egg plant\n",
      "500 g of tomatoes\n",
      "5 to 6 cloves of garlic\n",
      "5 tbsp of olive oil\n",
      "1 tbsp of lemon juice\n",
      "1 tbsp of red pepper\n",
      "1 tbsp of cumin\n",
      "salt\n",
      "a half tbsp of pepper\n",
      "black olives and preserved slice lemon Method:\n",
      "Cut the egg plant into big pieces and cook for 30 minutes in salty water. Cut tomatoes into pieces, and fry in shallow frying pan, together with the red pepper, cumin, garlic, salt and lemon juice for 5 minutes. When the egg plant is almost done, drain all the water, and add to the tomato mix. Mix everything together and simmer for about 20 minutes. Serve cool. Ingredients:\n",
      "2 lbs chicken in parts or lamb\n",
      "2 lbs onions, thinly sliced\n",
      "1 lb couscous (not instant)\n",
      "2 C raisins\n",
      "1 1/2 C chickpeas soaked overnight (or one can)\n",
      "1 1/2 t Ginger\n",
      "1 1/2 t Turmeric\n",
      "1/2 t Black pepper\n",
      "1 t Salt\n",
      "3 t Cinnamon\n",
      "3-4 T Sugar or honey\n",
      "Olive oil Method:\n",
      "Soak the couscous for a half an hour with 1- 1.5 cups of water, rubbing it between your hands to remove any lumps. Place the couscous in the top part of a couscoussier and fill the bottom with water, bring the water to boil and steam the couscous while you prepare the chicken. Fry chicken, half of the onions, in olive until brown, when brown, lower the heat and simmer for 20 minutes. Add all the spices, the rest of the onions, the raisons, and 1.5 cups of water, (except the cinnamon), simmer for a further 10 minutes. Add the cinnamon and the chickpeas; continue to simmer until the chicken is cooked. When chicken is fully cooked, remove it from the pot, and continue to simmer the chickpeas, onions and raisins. Add more cinnamon to taste and add water to prevent the mixture from burning. After about 10 minutes, add the sugar or honey and let it dissolve, add more water if necessary, simmer until mixture starts caramelizing. Add chicken to warm up. To serve put couscous in a large plate forming a hole in the middle. Put chicken in the whole forming a pyramid; pour the chickpeas, raisins, and onions over the pyramid. Harira is the traditional meal eaten to break the fast during Ramadan; it is usually served with dates, figs and special sweets called chabakiya. A Moroccan proverb says that if someone tells you the Harira is cold, tell him to put his hand in it. Broth:\n",
      "1 lb of lamb cut in large pieces\n",
      "1 small onion, minced\n",
      "1/4 head of cabbage cut in largish pieces\n",
      "1 C chickpeas soaked overnight (or from a can)\n",
      "1/3 C lentils\n",
      "2 quarts of water\n",
      "1/4 C olive oil\n",
      "1/3 C fresh parsley, minced\n",
      "6-7 strands of saffron (soaked in a few tablespoons of hot water)\n",
      "1/2 – 1 t pepper\n",
      "2/3 t ginger\n",
      "1 cube of chicken bouillon\n",
      "salt\n",
      "1/2 lemon Cook the lentils in slated water, when soft drain the water, and squeeze the juice of half a lemon over them.\n",
      "Cook the rest of the ingredients, in a soup pot over a low heat for 50- 60 minutes until the chickpeas and meat is cooked. Additional ingredients:\n",
      "1/4 C rice\n",
      "1/4 C angel hair pasta, broken up\n",
      "2 lbs crushed tomatoes (in cans)\n",
      "3 T flour\n",
      "1/3 C fresh coriander, minced\n",
      "salt Method\n",
      "Add the tomatoes to the broth and cook for 10 minutes. Mix the flour with a little water to form a paste, add to the soup, and stir continuously to avoid lumps. Bring the soup to a boil, add the pasta, rice, coriander and salt, simmer for a further 10 – 15 minutes, stirring occasionally. Add the lentils, cook for further 5 minutes.\n"
     ]
    },
    {
     "name": "stderr",
     "output_type": "stream",
     "text": [
      "C:\\Users\\pc\\AppData\\Local\\Temp\\ipykernel_3448\\1904172854.py:40: FutureWarning: The frame.append method is deprecated and will be removed from pandas in a future version. Use pandas.concat instead.\n",
      "  df = df.append({\n",
      "C:\\Users\\pc\\AppData\\Local\\Temp\\ipykernel_3448\\1904172854.py:12: DeprecationWarning: executable_path has been deprecated, please pass in a Service object\n",
      "  driver = webdriver.Chrome(chrome_driver_path)\n"
     ]
    },
    {
     "name": "stdout",
     "output_type": "stream",
     "text": [
      "Restaurant Guide of Morocco\n",
      "Morocco boasts a wide variety of restaurants and cafés in and around its cities, that either specialize in a particular cuisine, such as French, Italian or Oriental, or offer a range of tantalizing treats on the menu. Of course, a Moroccan adventure must include exploring the delights of traditional Moroccan cuisine and you'll find many restaurants and cafés offering expertly prepared traditional items to choose from. Moroccan food has a very distinctive flavor, accompanied by warm, spicy aromas that even the most jaded palate will enjoy. Because of the French connection in Morocco’s history, French cuisine also features prominently throughout the country. You will also find a range of western style foods, especially in the bigger cities, but rather than just sticking to what you know, be adventurous and eat as the locals do – this is sure to add a rich and delightful dimension to your Moroccan experience.\n"
     ]
    },
    {
     "name": "stderr",
     "output_type": "stream",
     "text": [
      "C:\\Users\\pc\\AppData\\Local\\Temp\\ipykernel_3448\\1904172854.py:40: FutureWarning: The frame.append method is deprecated and will be removed from pandas in a future version. Use pandas.concat instead.\n",
      "  df = df.append({\n"
     ]
    }
   ],
   "source": [
    "urls_cuisine = [\n",
    "    \"https://www.morocco.com/culture/cuisine/moroccan-dishes/\",\n",
    "    \"https://www.morocco.com/culture/cuisine/moroccan-recipes/\",\n",
    "    \"https://www.morocco.com/culture/cuisine/restaurant-guide/\"\n",
    "]\n",
    "from selenium import webdriver\n",
    "from bs4 import BeautifulSoup\n",
    "from time import sleep\n",
    "\n",
    "for link in urls_cuisine:\n",
    "    chrome_driver_path = \"C:\\\\Users\\\\pc\\\\OneDrive\\\\Documents\\\\chromedriver-win64\\\\chromedriver.exe\"\n",
    "    driver = webdriver.Chrome(chrome_driver_path)\n",
    "    driver.get(link)\n",
    "    sleep(5)  # Add a pause to ensure content loads properly\n",
    "\n",
    "    # Retrieve the content of the page with BeautifulSoup\n",
    "    src = driver.page_source\n",
    "    soup = BeautifulSoup(src, 'html.parser')\n",
    "    \n",
    "    # Get the title\n",
    "    title = soup.find('h1', class_='page-title').get_text()\n",
    "    print(title)\n",
    "    \n",
    "    # Get the excerpt paragraphs\n",
    "    paragraphs = soup.find('div', class_='excerpt')\n",
    "    excerpt_text = paragraphs.get_text().strip() if paragraphs else \"\"\n",
    "    #print(excerpt_text)\n",
    "    \n",
    "    # Get the content paragraphs\n",
    "    content_div = soup.find('div', class_='content-text')\n",
    "    paragraphs = content_div.find_all('p') if content_div else []\n",
    "    filtered_paragraphs = [p for p in paragraphs if 'back-to-category' not in p.get('class', [])]\n",
    "    \n",
    "    # Join the text from the filtered p tags\n",
    "    joined_text = ' '.join(p.get_text() for p in filtered_paragraphs)\n",
    "    \n",
    "    # Concatenate the excerpt text with the joined paragraphs text\n",
    "    combined_text = excerpt_text + ' ' + joined_text\n",
    "    print(combined_text)\n",
    "    df = df.append({\n",
    "            'Prompt':title,\n",
    "            'Response':combined_text\n",
    "        }, ignore_index=True)\n",
    "    # Close the browser after processing each link\n",
    "    driver.quit()\n"
   ]
  },
  {
   "cell_type": "code",
   "execution_count": 46,
   "id": "6df2233e",
   "metadata": {},
   "outputs": [
    {
     "data": {
      "text/html": [
       "<div>\n",
       "<style scoped>\n",
       "    .dataframe tbody tr th:only-of-type {\n",
       "        vertical-align: middle;\n",
       "    }\n",
       "\n",
       "    .dataframe tbody tr th {\n",
       "        vertical-align: top;\n",
       "    }\n",
       "\n",
       "    .dataframe thead th {\n",
       "        text-align: right;\n",
       "    }\n",
       "</style>\n",
       "<table border=\"1\" class=\"dataframe\">\n",
       "  <thead>\n",
       "    <tr style=\"text-align: right;\">\n",
       "      <th></th>\n",
       "      <th>Prompt</th>\n",
       "      <th>Response</th>\n",
       "    </tr>\n",
       "  </thead>\n",
       "  <tbody>\n",
       "    <tr>\n",
       "      <th>0</th>\n",
       "      <td>Travel to Agadir in Morocco</td>\n",
       "      <td>Agadir is Southern Morocco's most visited city...</td>\n",
       "    </tr>\n",
       "    <tr>\n",
       "      <th>1</th>\n",
       "      <td>Accommodation</td>\n",
       "      <td>There are plenty of hotels to choose from in M...</td>\n",
       "    </tr>\n",
       "    <tr>\n",
       "      <th>2</th>\n",
       "      <td>Beaches</td>\n",
       "      <td>The lack of monuments, museums and interesting...</td>\n",
       "    </tr>\n",
       "    <tr>\n",
       "      <th>3</th>\n",
       "      <td>Things to See &amp; Do</td>\n",
       "      <td>The Valley of the Birds (daily from 09:30-12:3...</td>\n",
       "    </tr>\n",
       "    <tr>\n",
       "      <th>4</th>\n",
       "      <td>Cuisine &amp; Nightlife</td>\n",
       "      <td>Besides what the large hotels have, there’s no...</td>\n",
       "    </tr>\n",
       "    <tr>\n",
       "      <th>...</th>\n",
       "      <td>...</td>\n",
       "      <td>...</td>\n",
       "    </tr>\n",
       "    <tr>\n",
       "      <th>178</th>\n",
       "      <td>Universities in Morocco – Providing Top Education</td>\n",
       "      <td>After completing their school education, Moroc...</td>\n",
       "    </tr>\n",
       "    <tr>\n",
       "      <th>179</th>\n",
       "      <td>Wedding Customs – Age-old Marriage Traditions</td>\n",
       "      <td>Every culture treasures the wedding ceremony i...</td>\n",
       "    </tr>\n",
       "    <tr>\n",
       "      <th>180</th>\n",
       "      <td>Traditional Moroccan Dishes</td>\n",
       "      <td>Take your taste-buds on a rollercoaster ride o...</td>\n",
       "    </tr>\n",
       "    <tr>\n",
       "      <th>181</th>\n",
       "      <td>Recipes of Traditional Food from Braised Beef ...</td>\n",
       "      <td>Bring Morocco home! Try these recipes at home,...</td>\n",
       "    </tr>\n",
       "    <tr>\n",
       "      <th>182</th>\n",
       "      <td>Restaurant Guide of Morocco</td>\n",
       "      <td>Morocco boasts a wide variety of restaurants a...</td>\n",
       "    </tr>\n",
       "  </tbody>\n",
       "</table>\n",
       "<p>183 rows × 2 columns</p>\n",
       "</div>"
      ],
      "text/plain": [
       "                                                Prompt  \\\n",
       "0                          Travel to Agadir in Morocco   \n",
       "1                                        Accommodation   \n",
       "2                                              Beaches   \n",
       "3                                   Things to See & Do   \n",
       "4                                  Cuisine & Nightlife   \n",
       "..                                                 ...   \n",
       "178  Universities in Morocco – Providing Top Education   \n",
       "179      Wedding Customs – Age-old Marriage Traditions   \n",
       "180                        Traditional Moroccan Dishes   \n",
       "181  Recipes of Traditional Food from Braised Beef ...   \n",
       "182                        Restaurant Guide of Morocco   \n",
       "\n",
       "                                              Response  \n",
       "0    Agadir is Southern Morocco's most visited city...  \n",
       "1    There are plenty of hotels to choose from in M...  \n",
       "2    The lack of monuments, museums and interesting...  \n",
       "3    The Valley of the Birds (daily from 09:30-12:3...  \n",
       "4    Besides what the large hotels have, there’s no...  \n",
       "..                                                 ...  \n",
       "178  After completing their school education, Moroc...  \n",
       "179  Every culture treasures the wedding ceremony i...  \n",
       "180  Take your taste-buds on a rollercoaster ride o...  \n",
       "181  Bring Morocco home! Try these recipes at home,...  \n",
       "182  Morocco boasts a wide variety of restaurants a...  \n",
       "\n",
       "[183 rows x 2 columns]"
      ]
     },
     "execution_count": 46,
     "metadata": {},
     "output_type": "execute_result"
    }
   ],
   "source": [
    "df"
   ]
  },
  {
   "cell_type": "code",
   "execution_count": 47,
   "id": "983aba16",
   "metadata": {},
   "outputs": [],
   "source": [
    "urls_travel = [\n",
    "    'https://www.morocco.com/travel/',\n",
    "    \"https://www.morocco.com/travel/hotels/\",\n",
    "    \"https://www.morocco.com/travel/flights/\",\n",
    "    \"https://www.morocco.com/travel/car-rental/\",\n",
    "    \"https://www.morocco.com/travel/cruises/\",\n",
    "    \"https://www.morocco.com/travel/accommodation/\",\n",
    "    \"https://www.morocco.com/travel/airports/\",\n",
    "    \"https://www.morocco.com/travel/embassies/\",\n",
    "    \"https://www.morocco.com/travel/essentials/\",\n",
    "    \"https://www.morocco.com/travel/tours/\",\n",
    "    \"https://www.morocco.com/travel/train-stations/\",\n",
    "    \"https://www.morocco.com/travel/vacations/\"\n",
    "]\n"
   ]
  },
  {
   "cell_type": "code",
   "execution_count": 48,
   "id": "82f28985",
   "metadata": {},
   "outputs": [
    {
     "name": "stderr",
     "output_type": "stream",
     "text": [
      "C:\\Users\\pc\\AppData\\Local\\Temp\\ipykernel_3448\\3100010137.py:7: DeprecationWarning: executable_path has been deprecated, please pass in a Service object\n",
      "  driver = webdriver.Chrome(chrome_driver_path)\n"
     ]
    },
    {
     "name": "stdout",
     "output_type": "stream",
     "text": [
      "Travel in Morocco and Book Hotels\n",
      "Compare your options for flight reservations, car rentals, travel packages in Morocco and much more. Though Morocco is a world away from most countries we know, it offers many of the same travel options that we are able to access in other countries. For example, the accommodation options in Morocco are remarkably good. A wide choice is open to you for Hotels in Marrakesh that will suit both your style and taste. Alternatively, if your travels are in Casablanca, try one of the fabulous Hotels in Casablanca. With regards to travel, you can fly to Morocco, as well as take connecting flights in-between the larger cities. You can also catch a train or taxi, hire a car or travel by motorbike. This means that getting around Morocco is relatively easy and should pose no problem for you – regardless of whether you are the more adventurous type or more reserved and cautious. Below is a basic list of some of the travel services that are offered in Morocco. Air\n",
      "RAM (Royal Air Maroc) operates domestic flights from Casablanca to major cities nationwide. Between any other two points you will usually have to change planes at Casablanca, unless both points are stops on a single Casa-bound flight. In general flight are expensive but will save you a lot of time. Train\n",
      "The trains in Morocco are very comfortable and fairly inexpensive. They cover a limited network of routes, but travel between all the major cities so they are easily the best option. They are reliable, comfortable, fast and efficient. Shared Taxi\n",
      "The Shared Taxis are one of the best features of Moroccan transport. They operate on a wide variety of routes and are much quicker than the public buses. The fares are very reasonable. The taxis are usually big Mercedes cars that may carry up to six passengers. Bus\n",
      "Buses are usually cheaper than the shared taxis and they do more regular routes. Shared Taxis will bring you to your destination much faster, but the buses are far more comfortable and safer. Car\n",
      "There aren’t many problems driving by car in Morocco. The speed limit in town is 50km/hour and outside town on the highways it is 100km/hour. By law all drivers and passengers are required to wear seatbelts. However you should be careful of driving at night. It is legal to drive without lights at up to 20km/hour and there are many cyclists, animals and hikers at night, so drivers need to be extra vigilant. There are many car rental depots, though you should have insurance and they are very expensive. The petrol prices in Morocco are also fairly high. Motorbike\n",
      "Motorcycling in Morocco is increasing each year. Although you should be careful of your safety at night, you will be able to visit all the sought after places for the enthusiast. It will be advisable to take a good tool kit and puncture repair kit.\n"
     ]
    },
    {
     "name": "stderr",
     "output_type": "stream",
     "text": [
      "C:\\Users\\pc\\AppData\\Local\\Temp\\ipykernel_3448\\3100010137.py:35: FutureWarning: The frame.append method is deprecated and will be removed from pandas in a future version. Use pandas.concat instead.\n",
      "  df = df.append({\n",
      "C:\\Users\\pc\\AppData\\Local\\Temp\\ipykernel_3448\\3100010137.py:7: DeprecationWarning: executable_path has been deprecated, please pass in a Service object\n",
      "  driver = webdriver.Chrome(chrome_driver_path)\n"
     ]
    },
    {
     "name": "stdout",
     "output_type": "stream",
     "text": [
      "Hotel and Accommodation Guide for Morocco\n",
      "Morocco is a large country with a wide number of intriguing destinations simply waiting to be explored and enjoyed. From the bustling city of Marrakech, to the fascinating sands of the Sahara, Morocco is a land of diversity that tourists simply can’t resist. Rounding off a vacation in Morocco are the many outstanding hotels and accommodation establishments.A variety of international hotel chains have set up top-class luxury hotels in Morocco’s cities. Those searching for a truly authentic Moroccan hotel will not be disappointed by the various riads offering wonderful rooms and excellent service. These stunning riads in Morocco boast exquisite architecture and décor, and many are well priced. As tourism continues to expand in Morocco, so do the hotel options. A number of resort and hotel developments are in the works, and news plans are constantly being considered.Don’t miss out on a wonderful stay in Morocco’s hotels. Book now! Morocco is a large country with a wide number of intriguing destinations simply waiting to be explored and enjoyed. From the bustling city of Marrakech, to the fascinating sands of the Sahara, Morocco is a land of diversity that tourists simply can’t resist. Rounding off a vacation in Morocco are the many outstanding hotels and accommodation establishments.\n"
     ]
    },
    {
     "name": "stderr",
     "output_type": "stream",
     "text": [
      "C:\\Users\\pc\\AppData\\Local\\Temp\\ipykernel_3448\\3100010137.py:35: FutureWarning: The frame.append method is deprecated and will be removed from pandas in a future version. Use pandas.concat instead.\n",
      "  df = df.append({\n",
      "C:\\Users\\pc\\AppData\\Local\\Temp\\ipykernel_3448\\3100010137.py:7: DeprecationWarning: executable_path has been deprecated, please pass in a Service object\n",
      "  driver = webdriver.Chrome(chrome_driver_path)\n"
     ]
    },
    {
     "name": "stdout",
     "output_type": "stream",
     "text": [
      "Flights and Airfare to Morocco – Make Your Reservations Now\n",
      "So you’ve decided that your next vacation will be in Morocco. The next consideration is how to get there. Cheap flights to Morocco are offered by major airlines from airports around the world.Morocco’s three major international airports are Casablanca, Agadir and Tangier. You can also take a direct flight from certain cities in Europe to Morocco’s airports in Marrakech, Oujda and Fes. Casablanca is the most commonly used airport for long distance flights to Morocco. This modern airport has brilliant facilities. From here you will be able to take a bus or taxi to the town center or take a flight to one of the domestic airports in Morocco.A large number of nationalities do not require a visa to enter Morocco when on a vacation. These include people from the United Kingdom, United States of America and Canada. Most travel agents will be able to inform you whether you require a visa or not. On arrival in Morocco your passport will be stamped and from that time you are permitted to stay in the country for 90 days. You can request and extension should you desire to stay longer; however, this is quite a complex process.We are certain you will find the right cheap flight to Morocco to suit your schedule and your budget. Morocco.com wishes you a wonderful stay in this fascinating country. So you’ve decided that your next vacation will be in Morocco. The next consideration is how to get there. Cheap flights to Morocco are offered by major airlines from airports around the world. Morocco’s three major international airports are Casablanca, Agadir and Tangier. You can also take a direct flight from certain cities in Europe to Morocco’s airports in Marrakech, Oujda and Fes. Casablanca is the most commonly used airport for long distance flights to Morocco. This modern airport has brilliant facilities. From here you will be able to take a bus or taxi to the town center or take a flight to one of the domestic airports in Morocco. A large number of nationalities do not require a visa to enter Morocco when on a vacation. These include people from the United Kingdom, United States of America and Canada. Most travel agents will be able to inform you whether you require a visa or not. On arrival in Morocco your passport will be stamped and from that time you are permitted to stay in the country for 90 days. You can request and extension should you desire to stay longer; however, this is quite a complex process. We are certain you will find the right cheap flight to Morocco to suit your schedule and your budget. Morocco.com wishes you a wonderful stay in this fascinating country.\n"
     ]
    },
    {
     "name": "stderr",
     "output_type": "stream",
     "text": [
      "C:\\Users\\pc\\AppData\\Local\\Temp\\ipykernel_3448\\3100010137.py:35: FutureWarning: The frame.append method is deprecated and will be removed from pandas in a future version. Use pandas.concat instead.\n",
      "  df = df.append({\n",
      "C:\\Users\\pc\\AppData\\Local\\Temp\\ipykernel_3448\\3100010137.py:7: DeprecationWarning: executable_path has been deprecated, please pass in a Service object\n",
      "  driver = webdriver.Chrome(chrome_driver_path)\n"
     ]
    },
    {
     "name": "stdout",
     "output_type": "stream",
     "text": [
      "Rental Cars in Morocco\n",
      "Business and leisure travelers will find that car rental in Morocco offers a wide range of vehicles to suit all requirements and budgets. Exploring the country at your own pace and convenience is one of the main reasons for car rental in Morocco, but bear in mind that it is best to plan your journey in advance to ensure that you get to see all the attractions of the area you plan to visit. When considering whether or not to rent a car in Morocco, you need to remember that you will need an international driver’s license in order to do so. You will also need to have your wits about you – especially at night when hikers, cyclists and animals pose an unseen danger. Also of danger is the fact that a car is allowed to travel under 20 km/h with no lights on so you will really have to keep on the look out. Otherwise, driving is really straightforward and since not many locals have access to vehicles or have the need to drive long distances, the roads are usually clear and easy to navigate. By some standards, car rental could be considered to be quite costly but it really depends on what you are used to and how much you plan to use the vehicle as well as what sort of car you intend on hiring. The price of petrol in the country is also considered to be somewhat higher than that paid in other countries so be sure to budget a little extra. You will need to make sure that your insurance is all in order as most car rental agencies will not hand over the keys if it isn’t. Otherwise you will likely have a great time exploring the country at your own pace. Getting around on your own can add a whole new dimension to your trip. Hiring a car is often the perfect way to do this.    \n"
     ]
    },
    {
     "name": "stderr",
     "output_type": "stream",
     "text": [
      "C:\\Users\\pc\\AppData\\Local\\Temp\\ipykernel_3448\\3100010137.py:35: FutureWarning: The frame.append method is deprecated and will be removed from pandas in a future version. Use pandas.concat instead.\n",
      "  df = df.append({\n",
      "C:\\Users\\pc\\AppData\\Local\\Temp\\ipykernel_3448\\3100010137.py:7: DeprecationWarning: executable_path has been deprecated, please pass in a Service object\n",
      "  driver = webdriver.Chrome(chrome_driver_path)\n"
     ]
    },
    {
     "name": "stdout",
     "output_type": "stream",
     "text": [
      "Find Best Cruise Deals on Morocco.com\n",
      "The exotic African destination of Morocco attracts thousands of travelers every month and with most of the major passenger cruise lines stopping along the Popular Moroccan Atlantic Coastline, including the famous cities of Tangier, Rabat and Casablanca, makes it simply irresistible to join them.Morocco.com is pleased to offer our Price Comparison Search Tool that will help you find the best published rates not only to Morocco but to many destinations throughout the world. \n"
     ]
    },
    {
     "name": "stderr",
     "output_type": "stream",
     "text": [
      "C:\\Users\\pc\\AppData\\Local\\Temp\\ipykernel_3448\\3100010137.py:35: FutureWarning: The frame.append method is deprecated and will be removed from pandas in a future version. Use pandas.concat instead.\n",
      "  df = df.append({\n",
      "C:\\Users\\pc\\AppData\\Local\\Temp\\ipykernel_3448\\3100010137.py:7: DeprecationWarning: executable_path has been deprecated, please pass in a Service object\n",
      "  driver = webdriver.Chrome(chrome_driver_path)\n"
     ]
    },
    {
     "name": "stdout",
     "output_type": "stream",
     "text": [
      "Accomodations for Visitors and Travelers to Morocco\n",
      "There is quite a variety of choices when it comes to choosing accommodation in Morocco. Below is a description of the basic types of accommodation available in this vibrant and exotic country. Hotels Morocco has about 100,000 hotel beds to provide for its thriving tourist market, and there is quite a wide choice of accommodation in all sizeable centers. The upper end of the market is represented by internationally known hotels in most main towns, notably Agadir, Marrakech, Tangier and Casablanca. Self-catering Apartments and Guesthouses Self-catering apartments are available in Agadir, Marrakech and Tangier. They are a little cheaper than most hotels and are very comfortable. A self-catering apartment or a guesthouse might be a better choice if you want to save money or if the whole family is with you on vacation. Camping and Caravanning There are established campsites with good facilities in many parts of Morocco. Camping or caravanning will be a good social experience. Because of Morocco’s thriving tourist market, the campsites are always well visited and very vibrant. Youth Hostels There are hostels in Asni, Azrou, Casablanca, Fez, Ifrane, Meknes and Rabat. They are very comfortable and are notably cheaper than most hotels and self-catering apartments. Riads or Mansion d’hote A Riad is a house built around a patio garden – in fact, the word ‘riad’ correctly refers to the garden rather than to the house. ‘Mansion d’hote’, on the other hand, is French for ‘guest house’. Usually Riads are rented by the room or often the whole house. Most of them have roof terraces and some have a plunge pool or Jacuzzis. Almost all offer en-suite rooms and breakfast is usually included in the room price.\n"
     ]
    },
    {
     "name": "stderr",
     "output_type": "stream",
     "text": [
      "C:\\Users\\pc\\AppData\\Local\\Temp\\ipykernel_3448\\3100010137.py:35: FutureWarning: The frame.append method is deprecated and will be removed from pandas in a future version. Use pandas.concat instead.\n",
      "  df = df.append({\n",
      "C:\\Users\\pc\\AppData\\Local\\Temp\\ipykernel_3448\\3100010137.py:7: DeprecationWarning: executable_path has been deprecated, please pass in a Service object\n",
      "  driver = webdriver.Chrome(chrome_driver_path)\n"
     ]
    },
    {
     "name": "stdout",
     "output_type": "stream",
     "text": [
      "Airports Guide – Local and International Airports\n",
      "The most common way for international visitors to enter Morocco is by air, and air travel in Morocco is also a good option if you are in a hurry to get somewhere. If you are planning to fly there are several airports in Morocco that will be able to serve your needs. Both local and international Moroccan airports operate throughout the country. All of Morocco's airports are under the care of the Office National Des Aéroports or ONDA. This airport operator was established in 1989, and is based at the famous Mohammed V International Airport. The Mohammed V International Airport in Casablanca is probably the best known and most commonly used international airport in Morocco. Named in honor of King Mohammed V, this is an extremely busy airport that saw over 5 million passengers in 2006. The airport is identified by the IATA code of CMN and the ICAO code of GMMN. Taxis, buses and train shuttles carry people between Casablanca city and the airport. Car rental is also available at Mohammed V Airport. Inside the airport you will find stores, bars, restaurants, currency exchange facilities and ATMs. Another major airport in Morocco is the Menara International Airport. The IATA code for the Moroccan airport is RAK. Situated just six km from Marrakech, the airport is easily reached via taxi. Or, if you prefer, you can rent a car from one of the on-site agencies. Airport facilities include currency exchange, banks, stores, snack bars and restaurants. The airport handles flights to a certain number of destinations such as Brussels, Milan, London-Gatwick, Lyon, Geneva, Paris and others. National airlines operating in Morocco that will be able to transport you between the various Moroccan airports include Royal Air Maroc, Jet4you, Air Atlas Express, Atlas Blue, Regional Air Lines and Mondair. Below is a list of civil airports in Morocco along with their identification codes: Al Massira Airport in Agadir – ICAO: GMAD; IATA: AGA\n",
      "Cherif Al Idrisi Airport in Al Hoceima – ICAO: GMTA; IATA: AHU\n",
      "Beni Mellal Airport in Beni Mellal – ICAO: GMMD\n",
      "Anfa Airport in Casablanca – ICAO: GMMC; IATA: CAS \n",
      "Mohammed V International Airport in Casablanca – ICAO: GMMN; IATA: CMN\n",
      "Tet Mellil Airport in Casablanca – ICAO: GMMT\n",
      "Dakhla Airport in Dakhla – IATA: VIL\n",
      "El Jadida Airport in El Jadida – ICAO: GMMJ\n",
      "Moulay Ali Cherif Airport in Errachida – ICAO: GMFK; IATA: ERH\n",
      "Mogador Airport in Essaouira– ICAO: GMMI; IATA: ESU\n",
      "Saiss Airport in Fes – ICAO: GMFF; IATA: FEZ\n",
      "Sefrou Airport in Fes – ICAO: GMFU\n",
      "Ifrane Airport in Ifrane – ICAO: GMFI\n",
      "Bassatine Airport in Meknes – ICAO:GMFM; IATA: MEK\n",
      "Kenitra Airport in Kenitra – ICAO: GMMP; IATA: MMP\n",
      "Menara International Airport in Marrakech – ICAO: GMMX; IATA: RAK\n",
      "Nador International Airport in Nador – ICAO: GMFN; IATA: NDR\n",
      "Ouarzazate Airport in Ouarzazate – ICAO: GMMZ; IATA: OZZ\n",
      "Ouezzane Airport in Ouezzane – ICAO: GMFA\n",
      "Angads Airport in Oujda – ICAO: GMFO; IATA: OUD\n",
      "Sale Airport in Rabat – ICAO: GMME; IATA: RBA\n",
      "Safi Airport in Safi – ICAO: GMMS; IATA: SFI\n",
      "Sidi Ifni Airport in Sidi Ifni – ICAO: GMMF; IATA: SII\n",
      "Ibn Batouta International Airport in Tangier – ICAO: GMTT; IATA: TNG\n",
      "Plage Blanche Airport in Tan-Tan – ICAO: GMAT; IATA: TTA\n",
      "Taroudant Airport in Taroudant – ICAO: GMMO\n",
      "Sania Ramel Airport in Tétouan – ICAO: GMTN; IATA: TTU\n"
     ]
    },
    {
     "name": "stderr",
     "output_type": "stream",
     "text": [
      "C:\\Users\\pc\\AppData\\Local\\Temp\\ipykernel_3448\\3100010137.py:35: FutureWarning: The frame.append method is deprecated and will be removed from pandas in a future version. Use pandas.concat instead.\n",
      "  df = df.append({\n",
      "C:\\Users\\pc\\AppData\\Local\\Temp\\ipykernel_3448\\3100010137.py:7: DeprecationWarning: executable_path has been deprecated, please pass in a Service object\n",
      "  driver = webdriver.Chrome(chrome_driver_path)\n"
     ]
    },
    {
     "name": "stdout",
     "output_type": "stream",
     "text": [
      "Consulates and Embassies\n",
      "Morocco is a country that lures people to its shores with its beautiful beaches, contagious heartwarming energy and friendly locals. Tourists flock here in thousands each year to experience the Moroccan culture, tradition and endless list of activities that are offered. In amongst the fun, nightlife and sightseeing, a few unfortunate tourists run into a few difficulties such as losing their passports, being injured or falling ill. And they turn to the foreign embassies in Morocco for assistance. There are many foreign embassies and consulates located in Morocco, with most embassies being in the city of Rabat. Core responsibilities involve the consulate duties of these embassies to serve the public. This includes services, such as passport services, visas and information, but they also promote their own countries within Morocco, maintain relations between them and their host country and serve as an important source of information for their countrymen. Some of the information that is generally supplied by embassies includes travel information, listings of doctors, lawyers and medical centers, safety measures and the laws of Morocco. Foreign Embassies in Morocco must obey and respect the Moroccan laws and cannot intervene if a tourist or citizen living in Morocco is arrested or detained. They can often advise on lawyers to be contacted, visit the inmate and be a liaison between the prisoner and their families. Embassies can also notify families in case of emergencies, death or injury. They exist to be of service to the public and they are there to protect and ensure a peaceful existence between their home countries and Morocco. Some of the consulates and foreign embassies in Morocco include Angola, Argentina, Albania, Algeria, Austria, Belgium, Burundi, Bangladesh, Cameroon, Chile, China, Canada, China, Costa Rica, Czech Republic, Denmark, Ecuador, Egypt, Equatorial Guinea, Finland, France, Greece, Guatemala, Germany, Italy, Ireland, Japan, Malaysia, Netherlands, Nepal, Nicaragua, Norway, Oman, Poland, Russia, Romania, Sweden, South Africa, Switzerland, Thailand, Ukraine, United Arab Emirates, United States and Vanuatu. The foreign embassies in Morocco are vital to the promotion if their own and host countries. Many embassies work closely with the media to promote and educate the Moroccan people regarding their country’s goals, tourism industries, news and policies. And tourists and visitors are in turn educated and Morocco promoted by the feedback and advertisement that these embassies spread across the globe.\n"
     ]
    },
    {
     "name": "stderr",
     "output_type": "stream",
     "text": [
      "C:\\Users\\pc\\AppData\\Local\\Temp\\ipykernel_3448\\3100010137.py:35: FutureWarning: The frame.append method is deprecated and will be removed from pandas in a future version. Use pandas.concat instead.\n",
      "  df = df.append({\n",
      "C:\\Users\\pc\\AppData\\Local\\Temp\\ipykernel_3448\\3100010137.py:7: DeprecationWarning: executable_path has been deprecated, please pass in a Service object\n",
      "  driver = webdriver.Chrome(chrome_driver_path)\n"
     ]
    },
    {
     "name": "stdout",
     "output_type": "stream",
     "text": [
      "Helpful Information for Travelling in Morocco\n",
      "When going to Morocco there are a few formalities to follow. Be sure to read our list of essentials before getting yourself into a fix. Things to Expect Though you might feel as though you are inundated with offers and deals in many Moroccan souks, it would be wisest if you avoid rude or aggressive behavior. If you are genuinely not interested in making any purchases at the time, a friendly decline and your body language will likely tell them this. In general, never keep silent if you are offered something. Silence is considered to be rude and can be offensive. Rather talk your way out of the situation. You will often find yourself confronted by numerous Tour Guides in the bigger cities. Some of these are official and can really enhance your trip. Many more, however, are unofficial. You need to be cautious. If you do not have an official guide and you would like someone to show you around, try to determine if the person is genuinely interested in showing you around. Some guides prey on tourists and take you into unsavory areas or pester you into hotels or cafés that are not appealing. Always avoid people offering to take you to a hotel or restaurant. They usually have a deal with the people at these establishments which results in you being charged more. Also, avoid offers for a ‘tour of the town’ – especially if you do not know where they intend to take you. In general, it is best to affirm that this is your second visit and to give the feel that you know what you are doing. If you get this right, most bargain hunters will decline and leave you alone. Never allow a guide to bully you into using his services and if you are interested, you could suggest sharing a cup of tea to get to know them better before hiring them. If you decide to go ahead, you should get an idea of what rate you will pay and what your guide is planning to show you before you actually hire him. Also beware of conmen. These individuals take advantage of unwitting tourists by conning them into giving them money or by taking them into a shop where they drive a sale down your throat. Their stories can be anything from ‘please translate this letter for me’ to ‘I need money to help get a passport/help a sick relative’. Some even act as though you are racially prejudiced to act on your conscience. Don’t allow yourself to fall victim to these scams. If a guide ‘just wants to take you to his uncles for tea’, decline politely. Or if someone wishes you to ‘take a parcel to a relative in your country’ you will likely be unwittingly smuggling drugs. Often you might encounter begging children. Their demands can get quite overwhelming and you can even feel as though you are being harassed. Always try not to give them anything, as this only encourages them. Instead keep your sense of humor, smile, laugh and find a way to brush them off. Always watch for pickpockets in market areas as these are rife in certain parts of the country. Rather leave you money in a safe place when going out and take only what you need with you. Also mugging, although rare, is not unheard of. Do not go to areas that you are unsure of. British passport holders do not need any visas to get into Morocco. Your stay as a visitor is restricted to 3 months, but may be extended at a Moroccan police station. The Currency of Morocco is the dirham (dh). It is divided into 100 centimes (c). Centimes exchange hands at market places more often than dirhams. This money is available in 10c, 20c, 50c, 1dh, 5dh, 10dh (all coins) and 10dh, 20dh, 50dh, 100dh and 200dh (all notes). VERY IMPORTANT: DRESS Though Moroccans are advancing fast, they are still for the most part a very traditional nation. This is clearly reflected in their dress. As tourists, it would be wisest to pay attention to your own dress as what you wear could offend locals or lead to harassment. Legs and shoulders are considered to be ‘private body parts’ in most parts of morocco and men and woman should do their utmost to keep these areas covered. Woman are generally covered from wrist to ankle and men are covered elbow to below the knee. This sort of covering will be accepted in most areas of Morocco and woman not covered sufficiently will often get harassed. It may be that some women in the cities will tend towards more modernized dress and don short-sleeved tops with knee lengths skirts, but it is not suggested that you follow this trend since these woman often get unwanted attention. Both sexes should stay away from vests, ordinary T-shirts (worn as underwear in Morocco) and shorts. They should also avoid tight clothing. If a man does approach you and gets too friendly, it is suggested that you keep conversation polite but very formal. Stay confident and never tolerate bad and rude behavior. If you feel that the man has crossed the line, you should make a scene and shout “shooma!” (shame on you!). Usually, other people will then come to your aid and the situation will not go any further. It is also wise to avoid smoking in public.\n"
     ]
    },
    {
     "name": "stderr",
     "output_type": "stream",
     "text": [
      "C:\\Users\\pc\\AppData\\Local\\Temp\\ipykernel_3448\\3100010137.py:35: FutureWarning: The frame.append method is deprecated and will be removed from pandas in a future version. Use pandas.concat instead.\n",
      "  df = df.append({\n",
      "C:\\Users\\pc\\AppData\\Local\\Temp\\ipykernel_3448\\3100010137.py:7: DeprecationWarning: executable_path has been deprecated, please pass in a Service object\n",
      "  driver = webdriver.Chrome(chrome_driver_path)\n"
     ]
    },
    {
     "name": "stdout",
     "output_type": "stream",
     "text": [
      "Tours in Morocco – Tour the Mountains, Desert and Historical Sites\n",
      "Morocco is a land of mystery, a place where the sun is warm and the people are enigmatic. To many it is a far away place where the cry of worship is heard at the rising and setting of the sun and the gentle winds blow sand and water about in a peaceful manner. The strong culture of Morocco is a lure to many. The beautifully carved wooden furniture, the unusually barred doors and the colorful markets have a timeless appeal. However how do you go about seeing the sights? How do you find your way, decide where to go and what to do? This is where tourism agencies come in. The mystical lure of cities such as Fez, Marrakesh and Essaouira can easily be experienced for yourself as you tour the country. The famous Casablanca, and the well known city of Tangier are waiting to be discovered and enjoyed. All it takes is a simple phone call or perhaps a few clicks of the mouse and you’ll soon find yourself trying to decide what to pack for this most unique destination. What sort of activities can you expect to enjoy in Morocco? You can take a camel ride across the desert plains, bargain until you have gone blue in the face at local crafters markets or even go surfing off Morocco’s coast! Nature reserves, beautiful gardens, sparkling rivers and ancient buildings are just a few more possibilities. This is a place where the past becomes the present and history feels alive. See snake tamers ply their trade or watch youthful acrobats dance at festivals. Experience traditional wedding ceremonies with all their glorious splendor in the rural mountainous regions. Ride in land rovers over the demanding dessert or enjoy and traditional meal in the comfort of a top quality local restaurant. These are but a few of the things you can enjoy while on tour. It is obvious that you will find no shortage of things to do here. So contact a tour operator and have a tour tailor-made to suit your desires today!\n"
     ]
    },
    {
     "name": "stderr",
     "output_type": "stream",
     "text": [
      "C:\\Users\\pc\\AppData\\Local\\Temp\\ipykernel_3448\\3100010137.py:35: FutureWarning: The frame.append method is deprecated and will be removed from pandas in a future version. Use pandas.concat instead.\n",
      "  df = df.append({\n",
      "C:\\Users\\pc\\AppData\\Local\\Temp\\ipykernel_3448\\3100010137.py:7: DeprecationWarning: executable_path has been deprecated, please pass in a Service object\n",
      "  driver = webdriver.Chrome(chrome_driver_path)\n"
     ]
    },
    {
     "name": "stdout",
     "output_type": "stream",
     "text": [
      "Train Stations – The Most Popular Form of Transport\n",
      "Trains are the most popular form of transportation in Morocco and it is advised that train tickets are booked and paid for in advance. Train and bus tickets are available at train stations in Morocco in the larger cities and are called Rail and Route passes. But for the most part, traveling by train in Morocco is a pleasant experience and Moroccan Train Stations are quite easy to navigate. There are a few lingering reminders of the influence that the French have had in this country in some Moroccan Train Stations, such as the one located in Tangier. Train fares are quite reasonably priced and travel between cities in Morocco is easier by train than bus or taxicab. The railway network that is owned by the state is known as the ONCF and the trains are quite comfortable and well maintained. Train Stations in Morocco have clear information boards that display times and platform numbers in both French and Arabic. Delays and cancellations are also posted on the boards. When disembarking in one of the cities, travelers will find many buses and taxis waiting at the train station to transport them further. There are a few points that travelers should be aware of in regard to etiquette and culture when on the trains. Local travelers are very friendly and easy to talk to. Smokers are generally found in the corridors of the train cars, as that is the only place on the train that is viewed as an acceptable smoking area. If the train cars of the train do not have corridors, smokers will have to fight their craving until they have reached their destination. Safety measures on Moroccan trains are the same as found anywhere in the world. Petty criminals also target trains here, but if you are vigilant and keep your luggage and valuables at your side at all times, you will have a safe journey. If you do incur any problems during the journey, train staff and police at the train stations will be able to assist you. It is also important to ensure that you are familiar with the routes and travel system within the city you are visiting. Most cities have one main station and one or two smaller train stations. Marrakech has one major train station, whereas Casablanca has two. Casablanca’s main station is the Casa Voyageurs and the smaller Casa Port Train Station does not have much rail traffic. The Mohammed V Airport in Morocco has its own underground train station that can transport travelers to their destinations or connecting destinations. Casa Voyageurs Station:\n",
      "As the main railway station in Casablanca, Casa Voyageurs Station links Casablanca to many destinations in Morocco, including Rabat, Marrakech, Tangier, Meknes, Fes and El Jadida. With its high clock tower rising above the entrance, the Casa Voyageurs Station is easy for travelers to find, where they can be sure of safe and efficient transportation by train to their destination of choice. Casa Port Station:\n",
      "The smaller of Casablanca’s two train stations, Casa Port Station is located near the city’s port and primarily serves passenger trains traveling to Casablanca from the city of Kenitra. Trains travel from Casa Port Station to the main station of Casablanca, Casa Voyageurs, and from there on to many other destinations. Marrakech Railway Station:\n",
      "With its sparkling white buildings in sharp contrast with the backdrop of the Atlas Mountains, the Marrakech Railway Station is a landmark which is easy to find. With architecture and adornments reminiscent of the colonial era, the Marrakech Railway Station offer travelers a reliable, safe and affordable mode of transport. Rabat Ville Train Station:\n",
      "The old-fashioned exterior of Rabat’s main train station is a contrast to the modern, clean and well-maintained facilities inside. The station is situated close to Rabat’s major tourist attractions and hotels and links the city to a host of destinations in Morocco. Tanger Ville Train Station:\n",
      "As the closest station to the city center of Tangier, the modern and efficient Tanger Ville Train station is extremely busy with numerous trains arriving and leaving throughout the day. The train stations in Morocco are safe and well organized and so is train travel. Seeing the country while traveling between cities is spectacular through a train window and also gives travelers the opportunity to relax and enjoy Moroccan hospitality.\n"
     ]
    },
    {
     "name": "stderr",
     "output_type": "stream",
     "text": [
      "C:\\Users\\pc\\AppData\\Local\\Temp\\ipykernel_3448\\3100010137.py:35: FutureWarning: The frame.append method is deprecated and will be removed from pandas in a future version. Use pandas.concat instead.\n",
      "  df = df.append({\n",
      "C:\\Users\\pc\\AppData\\Local\\Temp\\ipykernel_3448\\3100010137.py:7: DeprecationWarning: executable_path has been deprecated, please pass in a Service object\n",
      "  driver = webdriver.Chrome(chrome_driver_path)\n"
     ]
    },
    {
     "name": "stdout",
     "output_type": "stream",
     "text": [
      "Vacations – Plan Your Trip to this Popular North African Destination\n",
      "Planning a vacation in morocco can be somewhat difficult - where does one start? With so much to do and see, deciding exactly how you want to spend you precious time in this intriguing country can be somewhat difficult. Most people like to start with a tour of the city they arrive at. The majority of the bigger\n",
      "Moroccan cities are bustling with activity and full of things to see and experience. There are\n",
      "Roman ruins, Berber Kasbahs and many other interesting sights. Some places are renowned for\n",
      "their interesting architecture while others are known for their historical interest. Also worth\n",
      "seeing in the cities are the markets where you will be able to find anything from snake charmers\n",
      "to carpet merchants. You will also likely enjoy taking in a good meal or two at some of the fine\n",
      "restaurants in the cities. When the allure of the cities begins to wear off, you can head for the dessert, the beach or\n",
      "the mountains – take your pick. You will have the opportunity to ride camels, go on 4×4 excursions,\n",
      "enjoy the unique and fascinating wildlife of the desert on an eco tour or enjoy a relaxing\n",
      "holiday surfing or windsurfing at the coast. Head towards the Atlas Mountains and you will be\n",
      "able to enjoy hiking, climbing and skiing. You will also be privy to some incredibly breathtaking\n",
      "natural views. If your legs don’t quite feel up to the exertion, you can also hire a mule to\n",
      "carry you up the mountains. Mountain biking is another popular activity and bikes are available\n",
      "for hire all over the country. Clearly, there is no shortage of activities to be enjoyed in this mystical country. So how does\n",
      "one go about planning their Moroccan Vacation? If you are at a complete loss for ideas, why visit our Tour Operator Listings to find a tour operator who can assist you. They will have information on all the best spots and activities and will\n",
      "likely be able to arrange a package which has your best interest in.\n"
     ]
    },
    {
     "name": "stderr",
     "output_type": "stream",
     "text": [
      "C:\\Users\\pc\\AppData\\Local\\Temp\\ipykernel_3448\\3100010137.py:35: FutureWarning: The frame.append method is deprecated and will be removed from pandas in a future version. Use pandas.concat instead.\n",
      "  df = df.append({\n"
     ]
    }
   ],
   "source": [
    "from selenium import webdriver\n",
    "from bs4 import BeautifulSoup\n",
    "from time import sleep\n",
    "\n",
    "for link in urls_travel:\n",
    "    chrome_driver_path = \"C:\\\\Users\\\\pc\\\\OneDrive\\\\Documents\\\\chromedriver-win64\\\\chromedriver.exe\"\n",
    "    driver = webdriver.Chrome(chrome_driver_path)\n",
    "    driver.get(link)\n",
    "    sleep(5)  # Add a pause to ensure content loads properly\n",
    "\n",
    "    # Retrieve the content of the page with BeautifulSoup\n",
    "    src = driver.page_source\n",
    "    soup = BeautifulSoup(src, 'html.parser')\n",
    "    \n",
    "    # Get the title\n",
    "    title = soup.find('h1', class_='page-title').get_text()\n",
    "    print(title)\n",
    "    \n",
    "    # Get the excerpt paragraphs\n",
    "    paragraphs = soup.find('div', class_='excerpt')\n",
    "    excerpt_text = paragraphs.get_text().strip() if paragraphs else \"\"\n",
    "    #print(excerpt_text)\n",
    "    \n",
    "    # Get the content paragraphs\n",
    "    content_div = soup.find('div', class_='content-text')\n",
    "    paragraphs = content_div.find_all('p') if content_div else []\n",
    "    filtered_paragraphs = [p for p in paragraphs if 'back-to-category' not in p.get('class', [])]\n",
    "    \n",
    "    # Join the text from the filtered p tags\n",
    "    joined_text = ' '.join(p.get_text() for p in filtered_paragraphs)\n",
    "    \n",
    "    # Concatenate the excerpt text with the joined paragraphs text\n",
    "    combined_text = excerpt_text + ' ' + joined_text\n",
    "    print(combined_text)\n",
    "    df = df.append({\n",
    "            'Prompt':title,\n",
    "            'Response':combined_text\n",
    "        }, ignore_index=True)\n",
    "    # Close the browser after processing each link\n",
    "    driver.quit()\n"
   ]
  },
  {
   "cell_type": "code",
   "execution_count": 49,
   "id": "6ef8ac7c",
   "metadata": {},
   "outputs": [
    {
     "data": {
      "text/html": [
       "<div>\n",
       "<style scoped>\n",
       "    .dataframe tbody tr th:only-of-type {\n",
       "        vertical-align: middle;\n",
       "    }\n",
       "\n",
       "    .dataframe tbody tr th {\n",
       "        vertical-align: top;\n",
       "    }\n",
       "\n",
       "    .dataframe thead th {\n",
       "        text-align: right;\n",
       "    }\n",
       "</style>\n",
       "<table border=\"1\" class=\"dataframe\">\n",
       "  <thead>\n",
       "    <tr style=\"text-align: right;\">\n",
       "      <th></th>\n",
       "      <th>Prompt</th>\n",
       "      <th>Response</th>\n",
       "    </tr>\n",
       "  </thead>\n",
       "  <tbody>\n",
       "    <tr>\n",
       "      <th>0</th>\n",
       "      <td>Travel to Agadir in Morocco</td>\n",
       "      <td>Agadir is Southern Morocco's most visited city...</td>\n",
       "    </tr>\n",
       "    <tr>\n",
       "      <th>1</th>\n",
       "      <td>Accommodation</td>\n",
       "      <td>There are plenty of hotels to choose from in M...</td>\n",
       "    </tr>\n",
       "    <tr>\n",
       "      <th>2</th>\n",
       "      <td>Beaches</td>\n",
       "      <td>The lack of monuments, museums and interesting...</td>\n",
       "    </tr>\n",
       "    <tr>\n",
       "      <th>3</th>\n",
       "      <td>Things to See &amp; Do</td>\n",
       "      <td>The Valley of the Birds (daily from 09:30-12:3...</td>\n",
       "    </tr>\n",
       "    <tr>\n",
       "      <th>4</th>\n",
       "      <td>Cuisine &amp; Nightlife</td>\n",
       "      <td>Besides what the large hotels have, there’s no...</td>\n",
       "    </tr>\n",
       "    <tr>\n",
       "      <th>...</th>\n",
       "      <td>...</td>\n",
       "      <td>...</td>\n",
       "    </tr>\n",
       "    <tr>\n",
       "      <th>190</th>\n",
       "      <td>Consulates and Embassies</td>\n",
       "      <td>Morocco is a country that lures people to its ...</td>\n",
       "    </tr>\n",
       "    <tr>\n",
       "      <th>191</th>\n",
       "      <td>Helpful Information for Travelling in Morocco</td>\n",
       "      <td>When going to Morocco there are a few formalit...</td>\n",
       "    </tr>\n",
       "    <tr>\n",
       "      <th>192</th>\n",
       "      <td>Tours in Morocco – Tour the Mountains, Desert ...</td>\n",
       "      <td>Morocco is a land of mystery, a place where th...</td>\n",
       "    </tr>\n",
       "    <tr>\n",
       "      <th>193</th>\n",
       "      <td>Train Stations – The Most Popular Form of Tran...</td>\n",
       "      <td>Trains are the most popular form of transporta...</td>\n",
       "    </tr>\n",
       "    <tr>\n",
       "      <th>194</th>\n",
       "      <td>Vacations – Plan Your Trip to this Popular Nor...</td>\n",
       "      <td>Planning a vacation in morocco can be somewhat...</td>\n",
       "    </tr>\n",
       "  </tbody>\n",
       "</table>\n",
       "<p>195 rows × 2 columns</p>\n",
       "</div>"
      ],
      "text/plain": [
       "                                                Prompt  \\\n",
       "0                          Travel to Agadir in Morocco   \n",
       "1                                        Accommodation   \n",
       "2                                              Beaches   \n",
       "3                                   Things to See & Do   \n",
       "4                                  Cuisine & Nightlife   \n",
       "..                                                 ...   \n",
       "190                           Consulates and Embassies   \n",
       "191      Helpful Information for Travelling in Morocco   \n",
       "192  Tours in Morocco – Tour the Mountains, Desert ...   \n",
       "193  Train Stations – The Most Popular Form of Tran...   \n",
       "194  Vacations – Plan Your Trip to this Popular Nor...   \n",
       "\n",
       "                                              Response  \n",
       "0    Agadir is Southern Morocco's most visited city...  \n",
       "1    There are plenty of hotels to choose from in M...  \n",
       "2    The lack of monuments, museums and interesting...  \n",
       "3    The Valley of the Birds (daily from 09:30-12:3...  \n",
       "4    Besides what the large hotels have, there’s no...  \n",
       "..                                                 ...  \n",
       "190  Morocco is a country that lures people to its ...  \n",
       "191  When going to Morocco there are a few formalit...  \n",
       "192  Morocco is a land of mystery, a place where th...  \n",
       "193  Trains are the most popular form of transporta...  \n",
       "194  Planning a vacation in morocco can be somewhat...  \n",
       "\n",
       "[195 rows x 2 columns]"
      ]
     },
     "execution_count": 49,
     "metadata": {},
     "output_type": "execute_result"
    }
   ],
   "source": [
    "df"
   ]
  },
  {
   "cell_type": "code",
   "execution_count": 50,
   "id": "188d1052",
   "metadata": {},
   "outputs": [],
   "source": [
    "urls_hotels = [\n",
    "    \"https://www.morocco.com/travel/hotels/amadil-beach-hotel/\",\n",
    "    \"https://www.morocco.com/travel/hotels/argana-hotel/\",\n",
    "    \"https://www.morocco.com/travel/hotels/crown-palace-fez/\",\n",
    "    \"https://www.morocco.com/travel/hotels/es-saadi-gardens-and-resort/\",\n",
    "    \"https://www.morocco.com/travel/hotels/golden-tulip-farah-rabat-hotel/\",\n",
    "    \"https://www.morocco.com/travel/hotels/helnan-chellah-hotel/\",\n",
    "    \"https://www.morocco.com/travel/hotels/hotel-coralia-club-la-kasbah-agadir/\",\n",
    "    \"https://www.morocco.com/travel/hotels/hotel-mansour-eddahbi/\",\n",
    "    \"https://www.morocco.com/travel/hotels/hotel-merinedes/\",\n",
    "    \"https://www.morocco.com/travel/hotels/hotel-results/\",\n",
    "    \"https://www.morocco.com/travel/hotels/hotel-tghat/\",\n",
    "    \"https://www.morocco.com/travel/hotels/hotel-wassim/\",\n",
    "    \"https://www.morocco.com/travel/hotels/hotels-in-agadir/\",\n",
    "    \"https://www.morocco.com/travel/hotels/hotels-in-casablanca/\",\n",
    "    \"https://www.morocco.com/travel/hotels/hotels-in-marrakech/\",\n",
    "    \"https://www.morocco.com/travel/hotels/hotels-in-rabat/\",\n",
    "    \"https://www.morocco.com/travel/hotels/hyatt-regency-casablanca/\",\n",
    "    \"https://www.morocco.com/travel/hotels/iberostar-founty-beach/\",\n",
    "    \"https://www.morocco.com/travel/hotels/ibis-hotels/\",\n",
    "    \"https://www.morocco.com/travel/hotels/jnan-palace-hotel/\",\n",
    "    \"https://www.morocco.com/travel/hotels/kenzi-hotels/\",\n",
    "    \"https://www.morocco.com/travel/hotels/la-tour-hassan/\",\n",
    "    \"https://www.morocco.com/travel/hotels/le-diwan-rabat/\",\n",
    "    \"https://www.morocco.com/travel/hotels/melia-al-madina-salam/\",\n",
    "    \"https://www.morocco.com/travel/hotels/mercure-rabat-sheherazade/\",\n",
    "    \"https://www.morocco.com/travel/hotels/multi-hotels/\",\n",
    "    \"https://www.morocco.com/travel/hotels/naoura-barriere/\",\n",
    "    \"https://www.morocco.com/travel/hotels/novotel-casablanca-city-centre/\",\n",
    "    \"https://www.morocco.com/travel/hotels/palmeraie-golf-palace/\",\n",
    "    \"https://www.morocco.com/travel/hotels/rabat-hilton/\",\n",
    "    \"https://www.morocco.com/travel/hotels/ramada-hotels/\",\n",
    "    \"https://www.morocco.com/travel/hotels/royal-mirage-hotels/\",\n",
    "    \"https://www.morocco.com/travel/hotels/sofitel-hotels/\",\n",
    "    \"https://www.morocco.com/travel/hotels/starwood-hotels/\"\n",
    "]\n"
   ]
  },
  {
   "cell_type": "code",
   "execution_count": 51,
   "id": "0a48bfaf",
   "metadata": {},
   "outputs": [
    {
     "name": "stderr",
     "output_type": "stream",
     "text": [
      "C:\\Users\\pc\\AppData\\Local\\Temp\\ipykernel_3448\\4222071137.py:7: DeprecationWarning: executable_path has been deprecated, please pass in a Service object\n",
      "  driver = webdriver.Chrome(chrome_driver_path)\n"
     ]
    },
    {
     "name": "stdout",
     "output_type": "stream",
     "text": [
      "Amadil Beach Hotel in Agadir\n",
      "There is no better way to spend a vacation than to have accommodation at a four star hotel that is conveniently located near the city centre of Agadir and that offers its guests access to a private beach. The Amadil Beach Hotel prides itself on providing guests with comfortable accommodation and facilities where they are able to relax and rejuvenate. Located near to a number of noteworthy sites and attractions in Agadir, the Amadil Beach Hotel is ideally situated, enabling guests to explore the city a little each day, and return to accommodation that is clean, tidy and filled with fun activities.  In regard to guest rooms, the Amadil Beach Hotel has three hundred and thirty-six rooms available that have all been stylishly furnished to blend in with contemporary Moroccan design of the hotel. The spacious rooms, decorated in autumn tones provides guests with a warm and welcoming ambiance and features wonderful amenities such as balconies with spectacular views, mini bar on request, air-conditioning, satellite television, in room safe and high speed internet connection. Of course guests try to spend most of their time enjoying the services provided by the hotel and discovering the city, and the Amadil Beach Hotel has left no stone unturned when it comes to facilities. Visitors are able to forget the stress of daily life by spoiling themselves to one of many treatments and massages provided by the hammam and beauty salon, or they can relax in the sauna or outdoor pool. If it is fitness and activity that guests prefer, they will enjoy the well equipped fitness centre, aerobic classes, mini-football, French bowls, miniature golf, volley ball and table tennis. The beachfront not only offers romantic strolls and sun tanning opportunities but also a variety of water sports such as jet skiing, parasailing, windsurfing and water skiing. Businessmen are invited to make use of the business centre at the hotel that has three meeting rooms available, which are able to accommodate approximately two hundred and fifty people and offer features such as audio visual equipment for meetings and conferences. With the Golf des Dunes and the Golf de Sofitel golf courses being located within five kilometers of the hotel, golf enthusiasts are reminded to pack their golf bags to enjoy the magnificence of these two eighteen hole courses. Children’s activities are also available at the hotel to keep younger guests occupied. Guest will also be able to enjoy fine dining or kick back and enjoy a quiet drink at the onsite establishments. The Strada Lounge Bar, Alcazar and Atlantic Restaurant offer everything from Moroccan cuisine to Italian flavors, and a relaxing ambiance everyone can enjoy. The Amadil Beach Hotel is a wonderful establishment in Agadir, that will be enjoyed as much as the city itself.\n"
     ]
    },
    {
     "name": "stderr",
     "output_type": "stream",
     "text": [
      "C:\\Users\\pc\\AppData\\Local\\Temp\\ipykernel_3448\\4222071137.py:35: FutureWarning: The frame.append method is deprecated and will be removed from pandas in a future version. Use pandas.concat instead.\n",
      "  df = df.append({\n",
      "C:\\Users\\pc\\AppData\\Local\\Temp\\ipykernel_3448\\4222071137.py:7: DeprecationWarning: executable_path has been deprecated, please pass in a Service object\n",
      "  driver = webdriver.Chrome(chrome_driver_path)\n"
     ]
    },
    {
     "name": "stdout",
     "output_type": "stream",
     "text": [
      "Argana Hotel in Agadir\n",
      "Located just 750 meters from Agadir’s CBD, the Argana Hotel is housed in a beautiful colonial-style building. Not only is it close to shops and businesses, but the Argana Hotel in Agadir is located just 300 meters away from a beautiful stretch of sandy beach, making it possible for holidaymakers to enjoy the sand between their toes during their stay. With as many as 238 guestrooms spread out over four floors, guests at the Argana Hotel are spoilt for choice. The rooms are separated into Single or Double room categories and each one has been carefully decorated with airy décor and fabrics to ensure that you always feel refreshed on returning to your room. All rooms have a TV with satellite, a shower, a direct-dial phone, a bathroom, a hairdryer and air conditioning. A mini-bar and baby cot can be made available on request and a safe is available for an additional fee. One of the most delightful room features are the sliding glass doors which open onto a balcony overlooking either the garden or the pool. Every room has this feature and guests find it most refreshing. In addition to the wonderfully refreshing rooms, guests can enjoy 24-hour reception, an elevator, a complimentary car park, laundry service, room service, multilingual staff, locked parking, a secretarial service, a boutique and a safe at the front desk for a fee. The outdoor pool is a popular attraction as guests unwind with a cocktail while they revive their bodies in the water or they enjoy a refreshing walk on the garden terrace during the calm of the evening. If you take pride in your body, you’ll enjoy making use of the sauna, the fully equipped gym, the hair salon, the beautician and the message parlor. This four-star hotel also caters well to children with babysitting and childcare services, a kid’s club and a children’s pool located on the hotel property. When it comes to dining there is a great restaurant in the hotel called the El Paradiso Restaurant. The establishment offers regional specialties and has a large, airy terrace where guests can enjoy stunning views of the Mohammed V Boulevard. After dinner you can head to the hotel’s night club which is open every night. Business persons will want to make use of the business center and the conference or meeting venues. The rooms are equipped with audio-visual equipment if you need to make presentations. As if that wasn’t enough, guests at the Argana Hotel will also delight to know that a traditional market and the awesome Valley of the Birds is just a short way away.\n"
     ]
    },
    {
     "name": "stderr",
     "output_type": "stream",
     "text": [
      "C:\\Users\\pc\\AppData\\Local\\Temp\\ipykernel_3448\\4222071137.py:35: FutureWarning: The frame.append method is deprecated and will be removed from pandas in a future version. Use pandas.concat instead.\n",
      "  df = df.append({\n",
      "C:\\Users\\pc\\AppData\\Local\\Temp\\ipykernel_3448\\4222071137.py:7: DeprecationWarning: executable_path has been deprecated, please pass in a Service object\n",
      "  driver = webdriver.Chrome(chrome_driver_path)\n"
     ]
    },
    {
     "name": "stdout",
     "output_type": "stream",
     "text": [
      "Crown Palace Hotel Fez\n",
      "For convenience and luxury, the Crown Palace in Fez is an ideal choice. The hotel is located in the new part of the city and is just 5 minutes from the nearest train station and 25 minutes from the city’s airport. It offers guests stunning accommodation with great service and plenty of entertainment – the perfect choice for business and leisure travelers. Located at 85 Avenue des Far, the Crown Palace has 128 stunning rooms and 5 lavish suites to choose from. Room categories include Classic, Higher and Executive. The rooms may have queen sized beds or smaller individual beds and are equipped with hairdryer, safe, mini-bar, climate control, satellite TV, radio, telephone, writing bureau, coffee/tea making facilities, marble bathrooms and double glazed glass. The rooms are scheduled to have WiFi internet access soon and guests may choose from smoking and non-smoking floors. Business travelers will find two meeting rooms at their disposal. One is a theater-style room with natural lighting capable of seating 100 people. This can be altered to seat 80 dinner guests with tables of ten people. On the ground floor there is a meeting room which can seat up to 60 people or it can hold 50 people for a seated cocktail dinner. The hotel’s two restaurants can also be used to hose private parties or dinner discussions. For delectable food, guests can head to the Fontana Restaurant, with its international menu or the Oasis Restaurant, with its terrace and poolside location. The latter offers grilled meats, desserts and salads. Sam’s Bar has a daily happy hour and is perfect if you enjoy watching sports, while the Havana Club Lounge is the perfect place to meet with friends and enjoy some live entertainment. For the party lovers the VIP Night Club is open every night from Monday to Saturday until the early hours of the morning. Other facilities and services guests can enjoy are a spa with a cardio training facility, a steam bath, a sauna, massage rooms, an outdoor pool and a salon. The hotel also offers a laundry service, a childcare service, limousine rentals, 24-hour room service, car rental, guarded private parking, hairdressing, security, a currency exchange and a business center for corporate individuals. The city’s main attractions are also only a short drive away. If all this appeals to you then you should book your stay now to make sure you don’t miss out!\n"
     ]
    },
    {
     "name": "stderr",
     "output_type": "stream",
     "text": [
      "C:\\Users\\pc\\AppData\\Local\\Temp\\ipykernel_3448\\4222071137.py:35: FutureWarning: The frame.append method is deprecated and will be removed from pandas in a future version. Use pandas.concat instead.\n",
      "  df = df.append({\n",
      "C:\\Users\\pc\\AppData\\Local\\Temp\\ipykernel_3448\\4222071137.py:7: DeprecationWarning: executable_path has been deprecated, please pass in a Service object\n",
      "  driver = webdriver.Chrome(chrome_driver_path)\n"
     ]
    },
    {
     "name": "stdout",
     "output_type": "stream",
     "text": [
      "Marrakech’s Es Saadi Gardens and Resort\n",
      "Most guests of the Es Saadi Gardens and Resort return to this historic establishment that has become synonymous with luxury accommodation and hospitality. This magnificent five-star hotel is located on twenty acres of breathtaking parkland and landscaped gardens, offering visitors picturesque mountain views and convenient access to all the attractions in Marrakech. Its extensive accommodation options provide guests with choices to suit their budgets and requirements. Each room upholds the grandeur and style that the Es Saadi Gardens and Resort has become famous for. The Es Saadi Gardens and Resort has three accommodation options available, namely The Hotel, the Palace and The Villas, each with its own unique history and features. The Hotel is constructed in 1950’s architecture that has been greatly influenced by French design. It has been welcoming guests since 1966 and its spacious one hundred and fifty rooms were renovated in 2005. Balconies in each room allow visitors to enjoy the view of the swimming pool area and have features installed such as satellite television, high speed internet access, air-conditioning, bathrobes and slippers, turndown service, hairdryer and telephone. The Palace, which is of ancient oriental palace design, oozes style and stateliness, and features eight Ksars Poolside Villas, fifteen superior suites, seventeen executive suites and fifty-two junior suites. The Villas consists of ten individual villas that continue the oriental theme in their architecture and design and are located amongst exotic gardens, each with their own private pool and butler service. The Es Saadi Gardens and Resort also offers guests a host of activities and services including babysitting, twenty-four hour room service, sight seeing assistance and secure parking. Outdoor pool areas and heated pools are amongst the amenities at the hotel, as is the fitness centre, tennis courts, spa, traditional Moroccan hammam, sauna and beauty salon. The Casino de Marrakech is also located at the Es Saadi Gardens and Resort, and does not only offer guests the opportunity to try their luck at the slot machines and tables, but features live entertainment including acrobats and dancers. The Estrade Gourmande restaurant is situated inside the casino and specializes in French cuisine, while the Gastronomic Restaurant offers both Moroccan and French delicacies. A snack bar next to the pool provides light refreshments and drinks on the terrace. Guests are invited to spend an evening of dancing and fun at the hotel nightclub, which compliments the energy and excitement of the casino. The Es Saadi Gardens and Resort is an establishment that provides guests with the best accommodation and quality services, ensuring that guests look forward to returning.\n"
     ]
    },
    {
     "name": "stderr",
     "output_type": "stream",
     "text": [
      "C:\\Users\\pc\\AppData\\Local\\Temp\\ipykernel_3448\\4222071137.py:35: FutureWarning: The frame.append method is deprecated and will be removed from pandas in a future version. Use pandas.concat instead.\n",
      "  df = df.append({\n",
      "C:\\Users\\pc\\AppData\\Local\\Temp\\ipykernel_3448\\4222071137.py:7: DeprecationWarning: executable_path has been deprecated, please pass in a Service object\n",
      "  driver = webdriver.Chrome(chrome_driver_path)\n"
     ]
    },
    {
     "name": "stdout",
     "output_type": "stream",
     "text": [
      "Golden Tulip Farah Hotel Rabat\n",
      "The Golden Tulip Farah Rabat Hotel is one of Rabat’s leisure travel treasures. The hotel is situated on the banks of the Bourgreb River, making it a sort of sanctuary despite its location near the city center. Moreover, the hotel is located adjacent to two of Morocco’s most famous monuments – the Hassan Tower and the King Mohamed V Mausoleum. Guests staying at the four-storey Golden Tulip Farah Rabat will find that it has 192 rooms to choose from. Like the building, the rooms have been designed with certain traditional accents which compliment the surrounding buildings. Guests will never forget that they are in the ancient kingdom of Morocco yet they will also never be lacking for anything. All the rooms are wonderfully spacious (approximately 30 m2) and comfortable, and guests may choose from a one or two bedroom layout, a dressing room and a living room depending on what room category they select. The fourth floor is the Executive floor where all the rooms are generously spacious and fitted with high-end amenities, such as a Lavazza espresso machine. Guests staying on this floor will be able to make use of an exclusive lounge and enjoy an Express Continental breakfast or snack during the day. Depending on the room category, guests can expect to find safety deposit boxes, marbled bathrooms with branded linen, bathrobes and slippers, satellite TV, two telephones, ADSL internet access, king-sized or double beds, a mini-bar and an espresso machine in their room. Dining is best enjoyed at the Farah Restaurant, the La Tulipe Brasserie, the Panorama Lounge or La Patio. The Farah Restaurant offers a range of buffet meals or Moroccan specialties prepared by the hotel’s culinary expert. At La Tulipe, you can enjoy traditional brasserie specialties, while the Panorama Lounge is the perfect place to sip a cocktail while taking in the view and enjoying good lounge music. Le Patio is a piano lounge which combines modern and traditional trends to create a sophisticated and unique atmosphere where you can enjoy drinks and socialize. Other facilities and service guests can expect to enjoy at the hotel include a swimming pool, a healthy and fitness center and meeting rooms for business purposes. The Health and Fitness center provides a range of spa and beauty therapies and treatments to help you relax after a stressful day, while the meeting facilities will ensure that your event is a roaring success. The largest room is the main ballroom which can seat 300 guests, but smaller rooms are available. Business persons can also arrange to make use of the state-of-the art audiovisual equipment available to ensure that their meetings are a success. So whether you’re traveling for business or pleasure, book your stay at the Golden Tulip Farah Rabat hotel today!\n"
     ]
    },
    {
     "name": "stderr",
     "output_type": "stream",
     "text": [
      "C:\\Users\\pc\\AppData\\Local\\Temp\\ipykernel_3448\\4222071137.py:35: FutureWarning: The frame.append method is deprecated and will be removed from pandas in a future version. Use pandas.concat instead.\n",
      "  df = df.append({\n",
      "C:\\Users\\pc\\AppData\\Local\\Temp\\ipykernel_3448\\4222071137.py:7: DeprecationWarning: executable_path has been deprecated, please pass in a Service object\n",
      "  driver = webdriver.Chrome(chrome_driver_path)\n"
     ]
    },
    {
     "name": "stdout",
     "output_type": "stream",
     "text": [
      "Helnan Chellah Hotel in Rabat\n",
      "The Helnan Chellah Hotel has been nicknamed the “Chellah Hotel” due to the fact that it was the first hotel in Rabat and it was very close to the city’s Chellah monuments. While this hotel may have a fairly long history, it is certainly not old-fashioned, having recently been completely renovated and upgraded by the Helnan International Hotel group that owns it. Today it is one of the top hotels in Rabat. The Helnan Chellah Hotel in Rabat has 111 rooms and 6 business suites to choose from. All of them are warm and cozy, providing a comfortable atmosphere in which guests can unwind after a busy day. The rooms have a mini-bar, TV with satellite channels, air conditioning, direct-dial telephones, 24-hour room service and in-rooms safes. The beds are comfortable and the sheets are clean and cool. There are several non-smoking rooms available. One of the attractions of the Helnan Chellah Hotel is it’s proximity to the city’s main facilities. It is just 1km from the Central Business District, 0.8 km from the city’s main train station and 10 km from the Rabat airport. The hotel is also not far from many of the city’s historical monuments and attractions and shopping centers are never far away. One of the best ways to appreciate all this is to head to the hotel’s roof top where a large sundeck will enable you to soak up the sun and the view whilst enjoying a beverage of your choice. When it comes to food, hotel guests don’t have far to go. The ‘Chellah’ Restaurant can be found on the ground floor of the building. The restaurant serves up delicious international breakfast, lunch and dinner buffets that will not only slake your appetite but also satisfy your taste buds. For a merrier atmosphere, the Lions Pub is the perfect place to go for a drink and a bit of live music entertainment. The Helnan Chellah Hotel also has a Café where you can enjoy coffee or Moroccan green tea while savoring a range of locally made pastries. A further option is that of the Kanoun Restaurant on the 6th floor, which offers guests a stunning terrace view, an a la carte menu and a number of special grills. Some of the other facilities available include a Health Club complete with gym, sauna and massage therapies. There are a range of conference, meeting, banqueting and exhibition facilities in the building which can cater for up to 600 guests. The Cyber Café offers guests the chance to keep up with their electronic mail or to surf the World Wide Web; while the Dar El Salam Royal Golf Course is just 10 km away. So book your stay at this great hotel today!\n"
     ]
    },
    {
     "name": "stderr",
     "output_type": "stream",
     "text": [
      "C:\\Users\\pc\\AppData\\Local\\Temp\\ipykernel_3448\\4222071137.py:35: FutureWarning: The frame.append method is deprecated and will be removed from pandas in a future version. Use pandas.concat instead.\n",
      "  df = df.append({\n",
      "C:\\Users\\pc\\AppData\\Local\\Temp\\ipykernel_3448\\4222071137.py:7: DeprecationWarning: executable_path has been deprecated, please pass in a Service object\n",
      "  driver = webdriver.Chrome(chrome_driver_path)\n"
     ]
    },
    {
     "name": "stdout",
     "output_type": "stream",
     "text": [
      "Hotel Coralia Club La Kasbah in Agadir\n",
      "For a truly memorable holiday in Morocco you might want to consider booking your stay at the Hotel Coralia Club La Kasbah in Agadir. This stunning hotel is located in the Agadir city centre and is only 500 meters from Agadir beach. While it is wonderfully close to the city’s attractions, shops and businesses, it has been established as a sort of holiday village that is spread out over 12.4 acres (5 ha) of beautiful park so guests can easily relax during their stay here. Guests looking to stay at the Coralia Club La Kasbah Hotel will have 212 white bungalows to choose from. The design of the chalets was inspired by traditional south Moroccan architecture and so even though they are spacious and comfortable one never quite forgets where you are. The accommodation is also ideal for families and couples and everything in the village has been designed to provide for the needs of hotel guests. Pets are allowed at this great location and parents are allowed one child in their room for free. The bungalows have air conditioning, a mini-bar, color TV with satellite/cable, a telephone, an in-room safe deposit box and a hair dryer in the bathroom. When it comes to dining there is certainly no shortage of choices. There are four restaurants and three bars to choose from. The La Palmeraie Restaurant has international buffets, Moroccan beverages theme evenings and meals can be enjoyed by the pool or on the Terrace. The Marocoriental Restaurant also has themed activities and offers regional cuisine in an air conditioned environment. The Italien Restaurant has Mediterranean style food and the Gandhara Restaurant offers Japanese food which can be enjoyed on the Terrace if you want. The Coralia Bar can be found near the pool and has live music, the Hibiscus snack bar can be found in the gardens and the Xanadou Night Club is open all night for those who want to party up a storm. Business persons will find five meeting rooms and copy, print and fax facilities. Families will enjoy the fact that baby sitting services and children’s clubs are available for children of varying ages. For relaxation and fitness, guests can make use of the Hammam, the massage parlor, the outdoor heated pool, the sauna and the fitness center. There are also outdoor tennis courts and facilities for archery, badminton, basketball, billiards/snooker, boules/petanque, squash, table tennis and volley ball on the premises. Dozens of other activities, including horse riding, golf, water skiing, snorkeling and wind surfing are available in close proximity to the hotel. So don’t wait another second – book your stay at the Hotel Coralia Club La Kasbah today!\n"
     ]
    },
    {
     "name": "stderr",
     "output_type": "stream",
     "text": [
      "C:\\Users\\pc\\AppData\\Local\\Temp\\ipykernel_3448\\4222071137.py:35: FutureWarning: The frame.append method is deprecated and will be removed from pandas in a future version. Use pandas.concat instead.\n",
      "  df = df.append({\n",
      "C:\\Users\\pc\\AppData\\Local\\Temp\\ipykernel_3448\\4222071137.py:7: DeprecationWarning: executable_path has been deprecated, please pass in a Service object\n",
      "  driver = webdriver.Chrome(chrome_driver_path)\n"
     ]
    },
    {
     "name": "stdout",
     "output_type": "stream",
     "text": [
      "Mansour Eddahbi Hotel in Marrakech\n",
      "When it comes to luxury and grandeur, the Mansour Eddahbi Hotel provides its guests with the very best in accommodation and services, living up to its five-star status in every way. This massive hotel is spread across two buildings and forms part of the Palais Des Congres Conference Centre. It is one of the most popular and highly recommended establishments in Marrakech, and its convenient location makes it the perfect accommodation option for first time visitors, seasoned travelers and business people. The enormity of the hotel only sinks in when visitors arrive, as the endless landscaped gardens embrace guests and leave the noise and bustle of Marrakech at the gates. With four hundred and forty-one rooms available, the Mansour Eddahbi Hotel is amongst the biggest hotel establishments in the city and each room has been carefully designed and decorated to offer guests spacious and comfortable accommodation. Marble finishes and balconies add to the luxury of each room and suite, and features such as telephone, satellite television, mini-bar, high speed internet access and air-conditioning compliment the stylish outlay of the accommodation options. Other services and facilities to look forward to include shops, babysitting, business centre, gift shop, shoe shine services, currency exchange, dry cleaning, beauty salon and barber shop. Guests are also invited to relax at the outdoor pool, enjoy treatments at the hammam and spa, or rejuvenate in the steam bath and Jacuzzi. A fitness centre is available for guests who prefer to remain active while on vacation. Hotel Mansour Eddahbi has left nothing to chance and has even ensured that every type of personality is catered for in regard to restaurants and bars that are located on-site. For light meals next to the swimming pool, guests can enjoy scrumptious dishes from Le Rendez-voux, while the La Palmeraie specializes in international cuisine. To enjoy traditional Moroccan flavors, guests can dine at the Le Behja or try a little Italian cuisine at the Le Caesar. The Latino Karaoke bar has a vibrant ambiance, with the Omar Khayam over looking the swimming pool and the Octogonal offers a quieter atmosphere. For something a little more intimate, the Select Bar has magnificent views of the gardens and for those who want to enjoy hip swinging fun and dance, the La Paradise nightclub has the right beats every night. Exploring the attractions and activities surrounding the hotel is relatively convenient, as the Hotel Mansour Eddahbi is a mere fifteen minutes away from the old city, within five minutes of the railway station and approximately fifteen minutes from three of the best eighteen hole golf courses in Marrakech. Staying at the Hotel Mansour Eddahbi ensures luxury accommodation, wonderful services and a vacation that visitors will never forget.\n"
     ]
    },
    {
     "name": "stderr",
     "output_type": "stream",
     "text": [
      "C:\\Users\\pc\\AppData\\Local\\Temp\\ipykernel_3448\\4222071137.py:35: FutureWarning: The frame.append method is deprecated and will be removed from pandas in a future version. Use pandas.concat instead.\n",
      "  df = df.append({\n",
      "C:\\Users\\pc\\AppData\\Local\\Temp\\ipykernel_3448\\4222071137.py:7: DeprecationWarning: executable_path has been deprecated, please pass in a Service object\n",
      "  driver = webdriver.Chrome(chrome_driver_path)\n"
     ]
    },
    {
     "name": "stdout",
     "output_type": "stream",
     "text": [
      "Hotel Merinedes in Fes\n",
      "Located on the hills surrounding the magnificent city of Fes, the Merinedes Hotel offers guests breathtaking views of this imperial city’s medina. The five-star hotel offers guests excellent service, comfortable lodgings and a memorable experience. The Hotel Merinedes has all the modern conveniences you’d expect in a five-star hotel. It is also close to major attractions in the historical city of Fez, so sightseeing is easy. The Merinedes Hotel has 102 stunning rooms and 4 suites to choose from. All rooms have air conditioning to help fight off the Moroccan heat. They also have telephones, satellite TV, a mini-bar, hair dryers and much more. The beds are soft and hotel guests are given a complimentary breakfast for each day of their stay. Guests will be able to make use of the safe deposit box, the Restaurant, the outdoor pool, the laundry service, the heated pool, the concierge service and the business centre. Checking in and getting things arranged is easy with a 24-hour front desk. The hotel also offers guests free parking and there is a gift shop where you can pick up a few things during your stay. The hotel’s location on Borj Nord is also perfect for business conferences. Guests can make use of three conferences rooms while taking in the clean air that one enjoys at this slightly elevated position. The conference rooms are equipped to cater for groups of various sizes. There is also a business centre for business persons who need to get work done during their stay here. For dining and business meals, the Merinedes Hotel has two restaurants to choose from. The one offers international fare while the other specializes in tasty Moroccan dishes. There is also a tapas bar and a discotheque where you can blow off some steam until the early hours of the morning. Guests with children or babies will be happy to know that there is a child-minding and baby sitting service. Animal lovers are also allowed to bring their pets. Other services offered at this hotel include an airport shuttle, banquet facilities, a bar/lounge, a bath/hot tub, inter-connecting rooms, currency exchange, dry cleaning, an elevator/lift, a florist, high-speed internet access, housekeeping, multilingual staff, a news stand, non-smoking rooms, porters, room service, a secretarial service, a security guard, a solarium, a tour desk and a wake up service. The hotel also has medical assistance available on call. Staff can easily arrange land rover rides or other sporting activities to give your stay here an extra special dimension.\n"
     ]
    },
    {
     "name": "stderr",
     "output_type": "stream",
     "text": [
      "C:\\Users\\pc\\AppData\\Local\\Temp\\ipykernel_3448\\4222071137.py:35: FutureWarning: The frame.append method is deprecated and will be removed from pandas in a future version. Use pandas.concat instead.\n",
      "  df = df.append({\n",
      "C:\\Users\\pc\\AppData\\Local\\Temp\\ipykernel_3448\\4222071137.py:7: DeprecationWarning: executable_path has been deprecated, please pass in a Service object\n",
      "  driver = webdriver.Chrome(chrome_driver_path)\n"
     ]
    },
    {
     "name": "stdout",
     "output_type": "stream",
     "text": [
      "Hotels Search on Morocco.com\n",
      " \n"
     ]
    },
    {
     "name": "stderr",
     "output_type": "stream",
     "text": [
      "C:\\Users\\pc\\AppData\\Local\\Temp\\ipykernel_3448\\4222071137.py:35: FutureWarning: The frame.append method is deprecated and will be removed from pandas in a future version. Use pandas.concat instead.\n",
      "  df = df.append({\n",
      "C:\\Users\\pc\\AppData\\Local\\Temp\\ipykernel_3448\\4222071137.py:7: DeprecationWarning: executable_path has been deprecated, please pass in a Service object\n",
      "  driver = webdriver.Chrome(chrome_driver_path)\n"
     ]
    },
    {
     "name": "stdout",
     "output_type": "stream",
     "text": [
      "Tghat Hotel in Fez\n",
      "Located in the center of the historic city of Fez, the Tghat Hotel offers guests a memorable stay in Morocco. The establishment is located about 300 meters away from Hassan Avenue and provides easy access to the New Medina. It is also close to major forms of transportation, with the train station just five minutes away and the airport just 15 minutes away. Hotel Tghat has 94 rooms and 8 junior suites for guest to choose from. All the rooms are equipped with individual air conditioning, satellite TV, and a direct-dial telephone. The rooms also have their own bathroom with a separate toilet, a bathtub and a shower. The windows open to let in fresh air, while the refrigerator keeps any beverages cold and food fresh. The rooms have hairdryers, a mini-bar, a safety deposit box and a baby cot. They are all cleaned thoroughly on a regular basis and are well maintained. They may have single or twin beds and are spacious, elegant and refreshing. For dining guests can head to one of three establishments located in the hotel. The two restaurants offer either mouth-watering international cuisine or spicy Moroccan food. The ‘international’ restaurant can seat up to 200 people and is very popular with guests. Another alternative is the “Le Hawai” bar where guests can enjoy a refreshing cocktail or other beverage in a fun and relaxed atmosphere. This four-star hotel also has a 24-hour reception, 24-hour currency exchange, a laundry service and a secretarial office. While the Tghat Hotel doesn’t cater very well to business, it does ensure that leisure travelers will have everything they need for an enjoyable stay. The winter garden has one outdoor swimming pool while the “Le Felix” Club offers a discothèque atmosphere for night time fun. There are hiking trails, a golf course, skiing facilities and a tennis court all with-in a 5-10 kilometer radius of the hotel, making it possible for guests to engage in a range of activities depending on the time of year. The hotel is also very close to several of the city’s attractions, including the Royal Palace, the Jewish Cemetery, the Roman Volubilis, the Moulay Idriss Tomb, the cedar forests, the historical Fes souks, a number of stunning Middle Atlas lakes and waterfalls and the Al-Karaouine University. All this is conveniently located just 30 minutes from the airport. So book your stay and make the most of your Moroccan holiday today!\n"
     ]
    },
    {
     "name": "stderr",
     "output_type": "stream",
     "text": [
      "C:\\Users\\pc\\AppData\\Local\\Temp\\ipykernel_3448\\4222071137.py:35: FutureWarning: The frame.append method is deprecated and will be removed from pandas in a future version. Use pandas.concat instead.\n",
      "  df = df.append({\n",
      "C:\\Users\\pc\\AppData\\Local\\Temp\\ipykernel_3448\\4222071137.py:7: DeprecationWarning: executable_path has been deprecated, please pass in a Service object\n",
      "  driver = webdriver.Chrome(chrome_driver_path)\n"
     ]
    },
    {
     "name": "stdout",
     "output_type": "stream",
     "text": [
      "Hotel Wassim in Fez\n",
      "Located in the heart of the Fez, Hotel Wassim is the perfect place for business and leisure travelers. Not only is it conveniently close to major businesses and attractions, but it offers guests good value for money. The Wassim Hotel is also just minutes away from the Royal Golf Course, so you can easily make the most of this great facility. The hotel has 104 luxurious and well-appointed rooms for guests to choose from. The rooms are well-kept, medium-sized and have an airy light-beige color scheme to help ease off the hot Moroccan heat. All the rooms have air conditioning, a mini-bar, satellite TV, a direct dial phone, tea/coffee making facilities and 220 v plugs. They also have wonderfully spacious and clean bathrooms where guests can indulge in a bubble bath or a refreshing shower. Other facilities include two lifts, which provide easy access to the hotel’s three floors, coach parking, a medium-sized lobby, 24-hour room service, laundry facilities, car rental, 24-hour porterage and parking. When it comes to dining guests can head to the hotel restaurant for a stunning international menu. The restaurant can seat 120 people and has a light and airy atmosphere. There is also a smaller restaurant with seating for 70 people. The lobby has a central seating area and a rear lounge from which guests can enjoy a quaint view of the gardens. There is also a snack bar in the lobby and a beverage bar off to the one side. Business people can make use of the hotel’s meeting room which comes fully-equipped with audio-visual and conferencing equipment and which can accommodate 40 persons at a time. At night guests can head to the hotel’s night club for a bit of fun, or they can unwind on the terrace which has a stunning view of the city. The solarium is also a popular choice. Hotel Wassim also has a number of additional facilities and services to make your stay as comfortable as possible. The hotel has a currency exchange service, laundry facilities, 24-hour reception, an airport shuttle, a concierge service, a tour desk, a wake-up service and more. Guests are provided a free breakfast daily as part of their room costs and staff are happy to help with whatever problems may arise where they can. All this and more is located just minutes away from the Fes Saiss Airport, making it easily accessible and convenient. So book your stay today and make the most of this great value-for-money hotel.\n"
     ]
    },
    {
     "name": "stderr",
     "output_type": "stream",
     "text": [
      "C:\\Users\\pc\\AppData\\Local\\Temp\\ipykernel_3448\\4222071137.py:35: FutureWarning: The frame.append method is deprecated and will be removed from pandas in a future version. Use pandas.concat instead.\n",
      "  df = df.append({\n",
      "C:\\Users\\pc\\AppData\\Local\\Temp\\ipykernel_3448\\4222071137.py:7: DeprecationWarning: executable_path has been deprecated, please pass in a Service object\n",
      "  driver = webdriver.Chrome(chrome_driver_path)\n"
     ]
    },
    {
     "name": "stdout",
     "output_type": "stream",
     "text": [
      "Agadir Hotels\n",
      "Ibis Moussafir Agadir - The cool white exterior of the Ibis Moussafir Agadir gives visitors the sense that relaxation and escape from the warm Moroccan sun lies behind its front doors. A twenty-four hour front desk gives guests the convenience of checking in at any time, and the hotel strives to provide all of its guests with comforts and service to ensure that their stay at the Ibis Moussafir Agadir is as rejuvenating and memorable as exploring the city of Agadir. Sofitel Agadir Royal Bay Resort – The Sofitel Agadir Royal Bay Resort could not have been situated on a more perfect location, and offers visitors the luxury of walking straight onto the beach, as well as being a mere ten minutes away from the city centre. Exotic Kasbah architecture greets visitors as they arrive and the numerous riads and water features found throughout the hotel afford it an oasis ambiance. Melia Al Madina Salam – Located within walking distance of most the attractions and activities in Agadir, the Melia Al Madina Salam is a popular establishment known for its rejuvenating ambiance and luxury accommodation. The building has been designed in an Old Arabian Medina style, creating a look and atmosphere of a desert oasis. Royal Mirage Agadir Hotel – The Royal Mirage Agadir Hotel is ideally located on the beachfront, offering guests breathtaking views of the ocean and opportunities for unique activities. It is a four-star establishment that is spread out over six floors and provides guests with the very best in accommodation and spectacular services. Maintaining international standards, the Royal Mirage Agadir ensures the comforts and luxury that will make your stay an enjoyable one. Kenzi Europa Hotel – The Kenzi Europa Hotel is a four-star establishment that is housed on eight floors. Its convenient location allows visitors to be within walking distance of one of the most popular beaches in Agadir, and also has spectacular ocean views for guests to enjoy. It is an establishment that prides itself on comfortable accommodation, providing guests with superior services and facilities. Ramada Les Almohades Agadir – Approximately ten kilometers from the city centre of Agadir is one of the city’s most popular hotel establishments, the Ramada Les Almohades Agadir. As a part of the Ramada hotel group, this establishment guarantees spacious and comfortable accommodation with convenient access to a variety of facilities and services. Amadil Beach Hotel – There is no better way to spend a vacation than to have accommodation at a four star hotel that is conveniently located near the city centre of Agadir and that offers its guests access to a private beach. The Amadil Beach Hotel prides itself on providing guests with comfortable accommodation and facilities where they are able to relax and rejuvenate. Hotel Coralia Club La Kasbah – For a truly memorable holiday in Morocco you might want to consider booking your stay at the Hotel Coralia Club La Kasbah in Agadir. This stunning hotel is located in the Agadir city centre and is only 500 meters from Agadir beach. While it is wonderfully close to the city’s attractions, shops and businesses, it has been established as a sort of holiday village that is spread out over 12.4 acres (5 ha) of beautiful park so guests can easily relax during their stay here. Argana Hotel – Located just 750 meters from Agadir’s CBD, the Argana Hotel is housed in a beautiful colonial-style building. Not only is it close to shops and businesses, but the Argana Hotel in Agadir is located just 300 meters away from a beautiful stretch of sandy beach, making it possible for holidaymakers to enjoy the sand between their toes during their stay. Iberostar Founty Beach Hotel – If you want to enjoy the enchanting delights of the Atlantic ocean combined with the age-old charm of Morocco, the Iberostar Founty Beach Hotel would not be a bad choice. This four-star hotel is not only located at the doorstep of Agadir – one of Morocco’s prime tourist destinations – but it’s facilities are frosted with fine beach sand due to it’s close proximity to the dazzling Atlantic ocean.\n"
     ]
    },
    {
     "name": "stderr",
     "output_type": "stream",
     "text": [
      "C:\\Users\\pc\\AppData\\Local\\Temp\\ipykernel_3448\\4222071137.py:35: FutureWarning: The frame.append method is deprecated and will be removed from pandas in a future version. Use pandas.concat instead.\n",
      "  df = df.append({\n",
      "C:\\Users\\pc\\AppData\\Local\\Temp\\ipykernel_3448\\4222071137.py:7: DeprecationWarning: executable_path has been deprecated, please pass in a Service object\n",
      "  driver = webdriver.Chrome(chrome_driver_path)\n"
     ]
    },
    {
     "name": "stdout",
     "output_type": "stream",
     "text": [
      "Casablanca Hotels\n",
      "Sheraton Casablanca Hotel & Towers - Are you traveling to Casablanca and still trying to decide where to stay? One of the best accommodation options would be the Sheraton Casablanca Hotel & Towers. As a part of the Sheraton Hotel Group, this wonderful establishment guarantees comfortable accommodation, convenient facilities and world class services. The Sheraton Casablanca Hotel & Towers ensures an unforgettable stay in the vibrant and colorful city of Casablanca. Ibis Moussafir Casablanca Hotel – Constructed in 1998, the Ibis Moussafir Casablanca Hotel has secured itself a prime location that is conveniently situated near the bustle of the city and some of the popular attractions in Casablanca. Its recognizable white walls offer visitors a comfortable refuge from a day of exploration and excitement. The classy hotel prides itself in providing great accommodation and quality services to its guests. Hyatt Regency Casablanca – The Hyatt Regency Casablanca is a hotel that is known for spoiling its guests with luxury accommodation and world class services. It is conveniently located amongst the bustle of the city, yet manages to close off the noise and excitement to provide guests with a sanctuary of relaxation and rejuvenation. Its exquisitely designed structure is home to a range of fashionable rooms and suites. Kenzi Tower Hotel – The Kenzi Tower Hotel has become a landmark building in Casablanca, with its two massive hotel towers looming over the city. This new luxury hotel has been erected in the booming and fashionable district of the city, allowing for magnificent views of the city, of the well known Hassan II Mosque and the peaceful waters of the Casablanca port. Le Royal Mansour Meridien – Casablanca prides itself on its historical attractions, tourism infrastructure and world class accommodation. One of the top establishments in the city, and Morocco, is the Le Royal Mansour Meridien, which not only offers visitors breathtaking views of the Hassan II Mosque and the harbor of the city, but boasts luxury accommodation and wonderful facilities. Ramada Les Almohades Casablanca Hotel – The Ramada Les Almohades Casablanca Hotel is located in the business district of Casablanca, opening up a world of attractions and noteworthy sites to its guests, of which some are within walking distance. Multi-lingual staff, spacious accommodation and wonderful facilities allow guests to feel relaxed and taken care of from the time of their arrival. Ibis Moussafir Casablanca City Center Hotel – The breathtaking and modern Ibis Moussafir Casablanca City Center Hotel is located next to the Port of Casablanca, giving visitors unique access to a variety of activities. Visitors will also be near the city’s transportation hubs, such as the airport which is thirty minutes away from the hotel, and the Casablanca railway station that is within walking distance. Novotel Casablanca City Centre Hotel – The Novotel Casablanca City Centre Hotel strives to provide travelers, business people and families with luxury, affordable accommodation, first class services and top facilities. Located in the city centre of Casablanca, guests have convenient access to transport, activities and some of the city’s most popular attractions.\n"
     ]
    },
    {
     "name": "stderr",
     "output_type": "stream",
     "text": [
      "C:\\Users\\pc\\AppData\\Local\\Temp\\ipykernel_3448\\4222071137.py:35: FutureWarning: The frame.append method is deprecated and will be removed from pandas in a future version. Use pandas.concat instead.\n",
      "  df = df.append({\n",
      "C:\\Users\\pc\\AppData\\Local\\Temp\\ipykernel_3448\\4222071137.py:7: DeprecationWarning: executable_path has been deprecated, please pass in a Service object\n",
      "  driver = webdriver.Chrome(chrome_driver_path)\n"
     ]
    },
    {
     "name": "stdout",
     "output_type": "stream",
     "text": [
      "Marrakech Hotels\n",
      "Le Méridien N'Fis - The Le Méridien N'Fis is an accommodation establishment in Marrakech that is able to combine the uniqueness of the city with luxury rooms and world class services and facilities. The five and a half acres of land on which the Le Méridien N'Fis Hotel is located, complete with landscaped Andalusian gardens and lawns, has created a tranquil oasis for the establishment and its guests amidst the bustle of the city. Kenzi Farah Marrakech – The Kenzi Farah Marrakech hotel is part of the Kenzi Hotel Group and is a five star establishment that offers visitors luxury accommodation and top class services and facilities. It is a hotel that is surrounded by natural beauty and splendor, with landscaped gardens and majestic palm trees that decorate the three hectare park that it is located on. Ibis Marrakech Centre Gare – Located between Jamaa El Fna Square and La Palmeraie, the Ibis Marrakech Centre Gare is situated near all the transportation hubs, allowing guests to explore picturesque Marrakech with convenience. It is also an establishment that strives to provide guests with the most comfortable accommodation and quality services. Staying at the Ibis Marrakech Centre Gare will ensure that guests are able to combine memorable accommodation with unforgettable adventures. Sofitel Marrakech Lounge and Spa – The Sofitel Marrakech Lounge and Spa hotel has been designed with the goal of providing guests with stylish and luxurious accommodation, while creating a retreat that rejuvenates and relaxes. Its contemporary Andualusian design and décor is enhanced by breathtaking gardens that surround the hotel, and all its services and facilities are focused on providing comfort and convenience to all its guests. Naoura Barriere – There are many establishments that offer wonderful facilities and services, but when it comes to luxury, relaxation and breathtaking beauty, the Naoura Barriere comes out on top. Covering an area of more than twenty-two thousand square meters, this hotel has taken rejuvenation to a new level, surrounding the buildings with picturesque landscaped gardens, peaceful ponds and water features and endless numbers of palm trees to bring the ambiance of a desert oasis to Marrakech. Kenzi Club Oasis – The Kenzi Club Oasis in Marrakech can be best described as a hotel oasis in the heart of Morocco, bringing the majestic beauty of the desert to the doorstep of the hotel. Its location in the city of Marrakech gives the Kenzi Club Oasis the advantage of being near to attractions such as the Ben Youssef Mosque, Marrakech Museum and the Djemaa El Fna. Palmeraie Golf Palace – The Palmeraie Golf Palace in Marrakech is one of the most popular establishments in the city. This five star hotel boasts a combination relaxation, style and luxurious accommodation. As its name suggests, it is home to one of the most breathtaking golf courses in Morocco, and golf enthusiasts from all over the world visit the Palmeraie Golf Palace to enjoy its facilities. Royal Mirage Marrakech – The Royal Mirage Marrakech is a massive hotel that forms part of the Royal Mirage Hotels and Resorts group. Its unique location allows visitors to gaze upon the snowy peaks of the Atlas in winter, and enjoy its magnificent intimidating features in the warmer months. This hotel offers wonderful accommodation and has ensured that they provide quality services and facilities to makes guests comfortable. Mansour Eddahbi Hotel – When it comes to luxury and grandeur, the Mansour Eddahbi Hotel provides its guests with the very best in accommodation and services, living up to its five-star status in every way. This massive hotel is spread across two buildings and forms part of the Palais Des Congres Conference Centre. It is one of the most popular and highly recommended establishments in Marrakech, and its convenient location makes it the perfect accommodation option for first time visitors, seasoned travelers and business people. Ibis Marrakech Palmeraie – The Ibis Marrakech Palmeraie is a picturesque establishment on the outskirts of the city and its design has incorporated modern features with traditional décor. Its tranquil ambiance allows guests to enjoy their peaceful surroundings, and have a rejuvenating establishment to return to after a day of discovery and exploration. Everyone who has ever stayed at the Ibis Marrakech Palmeraie has commented positively on this establishment, which is known for its cleanliness and friendly staff. Es Saadi Gardens and Resort – Most guests of the Es Saadi Gardens and Resort return to this historic establishment that has become synonymous with luxury accommodation and hospitality. This magnificent five-star hotel is located on twenty acres of breathtaking parkland and landscaped gardens, offering visitors picturesque mountain views and convenient access to all the attractions in Marrakech. Kenzi Menara Palace – The Kenzi Menara Palace hotel must be the envy of other accommodation establishments in Marrakech, as it has located itself in a prime position in the city. Situated near the Jamaa El Fna Square, the hotel overlooks the breathtaking Agdal royal gardens and the ancient ramparts of the city. Guests at the hotel also have magnificent views of the Atlas Mountains, and surrounding the hotel are breathtaking landscaped gardens that cover the five hectares on which the hotel is built.\n"
     ]
    },
    {
     "name": "stderr",
     "output_type": "stream",
     "text": [
      "C:\\Users\\pc\\AppData\\Local\\Temp\\ipykernel_3448\\4222071137.py:35: FutureWarning: The frame.append method is deprecated and will be removed from pandas in a future version. Use pandas.concat instead.\n",
      "  df = df.append({\n",
      "C:\\Users\\pc\\AppData\\Local\\Temp\\ipykernel_3448\\4222071137.py:7: DeprecationWarning: executable_path has been deprecated, please pass in a Service object\n",
      "  driver = webdriver.Chrome(chrome_driver_path)\n"
     ]
    },
    {
     "name": "stdout",
     "output_type": "stream",
     "text": [
      "Rabat Hotel\n",
      "Rabat Hilton - Approximately thirteen kilometers from the Sale Airport in Rabat, is a hotel that is synonymous with elegance, luxury and world class service, namely the Rabat Hilton. This magnificent hotel offers spectacular views of the city and of the Royal Palace and has created an oasis for visitors, surrounding the hotel with breathtaking landscaped gardens, massive palm trees and colorful flower beds to complete the scenes of beauty and tranquility. Ibis Moussafir Rabat Hotel – Located at 32-34 rue Abderrahmanne El Ghafiki place de la Gare in Rabat, the Ibis Moussafir Rabat Hotel provides comfortable and stylish accommodation right in the city center. The hotel is just 20 minutes from the nearest railway station, 15 minutes from the beach, village of Moroccan arts and zoological gardens and 10 minutes from the Mohammed V Mausoleum, the Kasbah des Oudayas and the Palais Royal. La Tour Hassan Hotel – Walking through the doors of the La Tour Hassan Hotel, visitors feel as if they have just entered a romantic Moroccan palace, with its massive halls, beautifully decorated arches, elaborate tiles and stylish décor. It is an establishment that oozes elegance and luxury. It is easy to see why this hotel is considered one of the most popular establishments in Rabat. Mercure Sheherazade Rabat – Located at 21 Rue de Tunis Quartier Hassan, the Mercure Sheherazade Rabat hotel is a fantastic place to stay. Located in the city center in close proximity to businesses, shops and major attractions, the hotel provides luxury accommodation to both business and leisure travelers. Le Diwan Rabat – Located at 10005 Place de l’Unite Africaine in Rabat, Le Diwan Rabat is a great place to stay. Not only does the hotel combine modern trends with traditional Moroccan touches to give your accommodation an authentic but comfortable feel, but the hotel is located near the city center so guests can easily explore the surrounding attractions on foot. Helnan Chellah Hotel – he Helnan Chellah Hotel has been nicknamed the “Chellah Hotel” due to the fact that it was the first hotel in Rabat and it was very close to the city’s Chellah monuments. While this hotel may have a fairly long history, it is certainly not old-fashioned, having recently been completely renovated and upgraded by the Helnan International Hotel group that owns it. Today it is one of the top hotels in Rabat. Golden Tulip Farah Rabat – he Golden Tulip Farah Rabat Hotel is one of Rabat’s leisure travel treasures. The hotel is situated on the banks of the Bourgreb River, making it a sort of sanctuary despite its location near the city center. Moreover, the hotel is located adjacent to two of Morocco’s most famous monuments – the Hassan Tower and the King Mohamed V Mausoleum. Sofitel Rabat Jardin Des Roses – Located in one of Rabat’s more elite districts, the Sofitel Rabat Jardin Des Roses provides guests with an oasis of pleasure. The hotel is situated in 17 acres of beautiful Andalusian gardens and is just a short distance from both the Atlantic Ocean and the administrative and business center of the city. This makes it ideal for both business or leisure travelers.\n"
     ]
    },
    {
     "name": "stderr",
     "output_type": "stream",
     "text": [
      "C:\\Users\\pc\\AppData\\Local\\Temp\\ipykernel_3448\\4222071137.py:35: FutureWarning: The frame.append method is deprecated and will be removed from pandas in a future version. Use pandas.concat instead.\n",
      "  df = df.append({\n",
      "C:\\Users\\pc\\AppData\\Local\\Temp\\ipykernel_3448\\4222071137.py:7: DeprecationWarning: executable_path has been deprecated, please pass in a Service object\n",
      "  driver = webdriver.Chrome(chrome_driver_path)\n"
     ]
    },
    {
     "name": "stdout",
     "output_type": "stream",
     "text": [
      "Hyatt Regency Hotel Casablanca\n",
      "The Hyatt Regency Casablanca is a hotel that is known for spoiling its guests with luxury accommodation and world class services. It is conveniently located amongst the bustle of the city, yet manages to close off the noise and excitement to provide guests with a sanctuary of relaxation and rejuvenation. Its exquisitely designed structure is home to a range of fashionable rooms and suites. The Hyatt Regency Casablanca is an establishment that is just as noteworthy as the attractions and sites that Casablanca has to offer. Each of the two hundred and fifty-five rooms have been carefully designed and decorated to ensure that guests enjoy spacious accommodation together with a variety of convenient and modern features. Rooms have a number of amenities and services, such as satellite television, robes, high speed internet access, mini bar, hairdryer, in-room safe and air-conditioning. Breathtaking views also await guests, as some rooms look out over the ocean, the lively old Medina, the magnificence of the Great Hassan II Mosque or the vibrant energy of the city. The hotel also offers business people the use of their business centre for conferences and meetings. Active guests will be able to enjoy the use of the fitness centre, swimming pool, squash courts and the golf courses that are located near the Hyatt Regency Casablanca. To provide guests with relaxation and luxury treatments, the hotel also has a Moroccan hammam on site. There is fine dining and entertainment available at the lounges and restaurants at the Hyatt Regency, such as Café M, where guests can enjoy a natural ambiance while tasting unique cuisine. Alternatively patrons can indulge in traditional Moroccan cuisine that is enhanced by singers, dancers and the soft sounds of an Oriental orchestra at Dar Beida. The breathtaking Bissat has a varied menu; while Les Bougainvillees offers outdoor dining pleasure by the poolside. At the lobby bar, The Living Room, guests can enjoy a few quiet drinks with friends or sip on a tasty cocktail in the concept bar, SixPM Lounge Bar, which entertains its patrons with trendy playlists and DJs. And for guests who want to dance the night away, the Black House Discotheque opens its dance floor at midnight. Casablanca is a destination in Morocco that is filled with mystery, discovery and attractions. And after a day of exploration and activity, there is no better place to come home to, than the tranquility, beauty and luxury of the Hyatt Regency Casablanca.\n"
     ]
    },
    {
     "name": "stderr",
     "output_type": "stream",
     "text": [
      "C:\\Users\\pc\\AppData\\Local\\Temp\\ipykernel_3448\\4222071137.py:35: FutureWarning: The frame.append method is deprecated and will be removed from pandas in a future version. Use pandas.concat instead.\n",
      "  df = df.append({\n",
      "C:\\Users\\pc\\AppData\\Local\\Temp\\ipykernel_3448\\4222071137.py:7: DeprecationWarning: executable_path has been deprecated, please pass in a Service object\n",
      "  driver = webdriver.Chrome(chrome_driver_path)\n"
     ]
    },
    {
     "name": "stdout",
     "output_type": "stream",
     "text": [
      "Iberostar Founty Beach Hotel in Agadir\n",
      "If you want to enjoy the enchanting delights of the Atlantic Ocean combined with the age-old charm of Morocco, the Iberostar Founty Beach Hotel would not be a bad choice. This four-star hotel is not only located at the doorstep of Agadir – one of Morocco’s prime tourist destinations – but it’s facilities are frosted with fine beach sand due to it’s close proximity to the dazzling Atlantic ocean.  The Iberostar Founty Beach Hotel has everything a person could need for a great stay in Morocco. It has 470 comfortable rooms which are spread out over three, three storey buildings. Room options include Double Rooms, Superior Rooms, Suites, Family Rooms and Special Needs Rooms for the handicapped/disabled. The double rooms cater for two people and have a telephone, satellite TV, air conditioning, central heating, a hair dryer, a safety deposit box and a mini-bar. The rooms also have balconies from which guests can enjoy a stunning view of the hotel grounds. The Superior rooms have the same number of amenities as well as a bathroom and the best sea views available at the hotel. The suites are designed for people who want to splurge on themselves or a loved one. They have two independent bathrooms, two toilets, two balconies, two satellite TVs and two telephones and a spacious living room facing the beach. The family rooms have a spacious balcony with great sea views and are furnished with two beds and a sofa, providing enough space for a small family to room together. When it comes to dining guests can choose from a number of restaurants and bars. The Mercure Restaurant is the hotel’s main restaurant and it serves a variety of traditional Moroccan dishes and a variety of beverages. The restaurant is formal and dressing up adds to the elegant atmosphere. The same is true of the Antares Restaurant which has a selection of national and international cuisine. For lighter fare, you can try the Fountry Snack Bar for a selection of salads, pizzas, ice-creams or famous Moroccan sweets. The Orion Lobby Bar serves refreshments and beverages while the Cassiopee Animation Bar serves beverages in an interesting and lively atmosphere. Parents with children can enroll their youths at the Mini Club for children 4-12 or the Teenieclub for youths 13-16. Leisure activities at the Iberostar Founty Beach Hotel includes a range of night-time entertainment and sports such as aerobics, beach volleyball, bowling, basketball and dancing. There are also two outdoor pools, a children’s pool, an indoor pool and a Jacuzzi. Those who like to look their best will be able to make use of the wide range of spa and personal care treatments available at the health center and mini spa which makes good use of the relaxing ocean nearby. Further to this there are plenty of great hammocks in the gardens to help you relax during your stay. Business and conference facilities are also available. A short 1 km drive is all that is needed to visit Agadir to see the sights of the city. So book your stay today and make the most of your holiday in Morocco.\n"
     ]
    },
    {
     "name": "stderr",
     "output_type": "stream",
     "text": [
      "C:\\Users\\pc\\AppData\\Local\\Temp\\ipykernel_3448\\4222071137.py:35: FutureWarning: The frame.append method is deprecated and will be removed from pandas in a future version. Use pandas.concat instead.\n",
      "  df = df.append({\n",
      "C:\\Users\\pc\\AppData\\Local\\Temp\\ipykernel_3448\\4222071137.py:7: DeprecationWarning: executable_path has been deprecated, please pass in a Service object\n",
      "  driver = webdriver.Chrome(chrome_driver_path)\n"
     ]
    },
    {
     "name": "stdout",
     "output_type": "stream",
     "text": [
      "Ibis Hotels\n",
      "Ibis Marrakech Centre Gare - Every traveler has his or her own requirements in regard to accommodation, many preferring to be close to transportation and attractions. Located between Jamaa El Fna Square and La Palmeraie, the Ibis Marrakech Centre Gare is situated near all the transportation hubs, allowing guests to explore picturesque Marrakech with convenience. It is also an establishment that strives to provide guests with the most comfortable accommodation and quality services. Ibis Marrakech Palmeraie – The Ibis Marrakech Palmeraie is a picturesque establishment on the outskirts of the city and its design has incorporated modern features with traditional décor. Its tranquil ambiance allows guests to enjoy their peaceful surroundings, and have a rejuvenating establishment to return to after a day of discovery and exploration. Everyone who has ever stayed at the Ibis Marrakech Palmeraie has commented positively on this establishment, which is known for its cleanliness and friendly staff. The hotel offers quality services and convenient facilities to ensure guests enjoy a comfortable stay. Ibis Moussafir Agadir – The cool white exterior of the Ibis Moussafir Agadir gives visitors the sense that relaxation and escape from the warm Moroccan sun lies behind its front doors. A twenty-four hour front desk gives guests the convenience of checking in at any time, and the hotel strives to provide all of its guests with comforts and service to ensure that their stay at the Ibis Moussafir Agadir is as rejuvenating and memorable as exploring the city of Agadir. Ibis Moussafir Casablanca City Center – The breathtaking and modern Ibis Moussafir Casablanca City Center Hotel is located next to the Port of Casablanca, giving visitors unique access to a variety of activities. Visitors will also be near the city’s transportation hubs, such as the airport which is thirty minutes away from the hotel, and the Casablanca railway station that is within walking distance. With the hotel in close proximity to the city Center guests can explore the city and its attractions without venturing too far from their accommodation. Ibis Moussafir Casablanca – Constructed in 1998, the Ibis Moussafir Casablanca Hotel has secured itself a prime location that is conveniently situated near the bustle of the city and some of the popular attractions in Casablanca. Its recognizable white walls offer visitors a comfortable refuge from a day of exploration and excitement. The classy hotel prides itself in providing great accommodation and quality services to its guests. Ibis Moussafir Fès – Located at 30000 Avenue des Almohades Place de la Gare in Fez, the Ibis Moussafir Fes Hotel is a beautiful establishment. Guests staying at the Ibis Moussafir Fes will find that it is well located. The hotel is situated just 40 meters from the nearest railway station and 12 kilometers from the airport. This makes travel to, from and around the city relatively easy and convenient. Ibis Moussafir Rabat – Located at 32-34 rue Abderrahmanne El Ghafiki place de la Gare in Rabat, the Ibis Moussafir Rabat Hotel provides comfortable and stylish accommodation right in the city center. The hotel is just 20 minutes from the nearest railway station, 15 minutes from the beach, village of Moroccan arts and zoological gardens and 10 minutes from the Mohammed V Mausoleum, the Kasbah des Oudayas and the Palais Royal. It is convenient, spacious and has everything you could want in a hotel.\n"
     ]
    },
    {
     "name": "stderr",
     "output_type": "stream",
     "text": [
      "C:\\Users\\pc\\AppData\\Local\\Temp\\ipykernel_3448\\4222071137.py:35: FutureWarning: The frame.append method is deprecated and will be removed from pandas in a future version. Use pandas.concat instead.\n",
      "  df = df.append({\n",
      "C:\\Users\\pc\\AppData\\Local\\Temp\\ipykernel_3448\\4222071137.py:7: DeprecationWarning: executable_path has been deprecated, please pass in a Service object\n",
      "  driver = webdriver.Chrome(chrome_driver_path)\n"
     ]
    },
    {
     "name": "stdout",
     "output_type": "stream",
     "text": [
      "Hotel Jnan Palace\n",
      "The Jnan Palace Hotel is conveniently located approximately ten minutes from the Fez airport and is not only able to accommodate tourists and vacationers, but is one of the best convention facilities in the city. It is surrounded by a peaceful residential area, ensuring that guests enjoy a relaxing stay at the Jnan Palace Hotel. Fez is a city filled with exciting adventures, a rich and colorful history and noteworthy attractions, all of which is enhanced by the fact that the city is also able to offer world class accommodation at establishments such as the Jnan Palace. There are two hundred and forty-four rooms at the Jnan Palace, of which ninety-three are double rooms, thirty-four are apartments and there are eleven junior suites, with five ambassador suites and just one royal suite available. All rooms have been decorated in great detail. Features and facilities in the rooms include hairdryers, mini bars, telephones, satellite television, air-conditioning and in-room safes. The hotel also offers guests a great variety of other services that includes secure parking, laundry, babysitting, luggage storage, news stand, shops, gift shop, souvenir shop, currency exchange, ironing service and tour desk. Guests at the Jnan Palace will also find a world of activities and pampering opportunities at the hotel for them to enjoy. Active guests will enjoy making use of the outdoor swimming pool, fitness centre, table tennis tables and tennis courts; while the sauna, beauty salon and trained massage therapists wait to spoil guests and rejuvenate their weary minds and bodies. Guests can also steal a few quiet moments for themselves in the hotel library. Refreshments and diverse cuisine options are available on-site from restaurants such as the Les Miroirs, Casa Verdi and L’Herbier de l’Atlas, while the on-site bars offer colorful recreational areas which includes the Lounge Bar, The Palace Night Club and the Pool Bar. Fez is a very exciting destination in Morocco and guests to the hotel will be a mere two kilometers away from the train station, for convenient transportation to attractions and sites. A few minutes from the hotel there are spectacular horse back trails available, allowing visitors the chance to explore the natural splendor of the city, and golf enthusiasts will be relieved to know that the eighteen hole Royal Golf de Fez golf course is located so close to the hotel that a shuttle service is available for hotel guests. The Jnan Palace is an establishment that combines traditional Moroccan flair and culture, with luxury accommodation and modern comforts.\n"
     ]
    },
    {
     "name": "stderr",
     "output_type": "stream",
     "text": [
      "C:\\Users\\pc\\AppData\\Local\\Temp\\ipykernel_3448\\4222071137.py:35: FutureWarning: The frame.append method is deprecated and will be removed from pandas in a future version. Use pandas.concat instead.\n",
      "  df = df.append({\n",
      "C:\\Users\\pc\\AppData\\Local\\Temp\\ipykernel_3448\\4222071137.py:7: DeprecationWarning: executable_path has been deprecated, please pass in a Service object\n",
      "  driver = webdriver.Chrome(chrome_driver_path)\n"
     ]
    },
    {
     "name": "stdout",
     "output_type": "stream",
     "text": [
      "Kenzi Hotels\n",
      "Kenzi Club Oasis- The Kenzi Club Oasis in Marrakech can be best described as a hotel oasis in the heart of Morocco, bringing the majestic beauty of the desert to the doorstep of the hotel. Its location in the city of Marrakech gives the Kenzi Club Oasis the advantage of being near to attractions such as the Ben Youssef Mosque, Marrakech Museum and the Djemaa El Fna. However, it is the fact that this picturesque establishment is located on a palm tree plantation that lures guests to the hotel, as it is surrounded by the peacefulness and tranquility of nature. Kenzi Farah Marrakech – The Kenzi Farah Marrakech hotel is part of the Kenzi Hotel Group and is a five star establishment that offers visitors luxury accommodation and top class services and facilities. It is a hotel that is surrounded by natural beauty and splendor, with landscaped gardens and majestic palm trees that decorate the three hectare park that it is located on. The picturesque surroundings, detailed décor and focus on service make this hotel an establishment that is as beautiful as it is comfortable and relaxing. Kenzi Menara Palace – The Kenzi Menara Palace hotel must be the envy of other accommodation establishments in Marrakech, as it has located itself in a prime position in the city. Situated near the Jamaa El Fna Square, the hotel overlooks the breathtaking Agdal royal gardens and the ancient ramparts of the city. Guests at the hotel also have magnificent views of the Atlas Mountains, and surrounding the hotel are breathtaking landscaped gardens that cover the five hectares on which the hotel is built. It is also a stylish and beautifully designed establishment, with Arabo Moorish and featuring detailed décor to complete the lavish structure. Kenzi Europa Hotel – The Kenzi Europa Hotel is a four-star establishment that is housed on eight floors. Its convenient location allows visitors to be within walking distance of one of the most popular beaches in Agadir, and also has spectacular ocean views for guests to enjoy. It is an establishment that prides itself on comfortable accommodation, providing guests with superior services and facilities. Kenzi Tower Hotel – The Kenzi Tower Hotel has become a landmark building in Casablanca, with its two massive hotel towers looming over the city. This new luxury hotel has been erected in the booming and fashionable district of the city, allowing for magnificent views of the city, of the well known Hassan II Mosque and the peaceful waters of the Casablanca port. Its location in the city centre allows guests to explore the shopping district of Casablanca, discover the wonders of its historical sites and travel the surrounding areas of the city, with the Kenzi Tower Hotel as their base.\n"
     ]
    },
    {
     "name": "stderr",
     "output_type": "stream",
     "text": [
      "C:\\Users\\pc\\AppData\\Local\\Temp\\ipykernel_3448\\4222071137.py:35: FutureWarning: The frame.append method is deprecated and will be removed from pandas in a future version. Use pandas.concat instead.\n",
      "  df = df.append({\n",
      "C:\\Users\\pc\\AppData\\Local\\Temp\\ipykernel_3448\\4222071137.py:7: DeprecationWarning: executable_path has been deprecated, please pass in a Service object\n",
      "  driver = webdriver.Chrome(chrome_driver_path)\n"
     ]
    },
    {
     "name": "stdout",
     "output_type": "stream",
     "text": [
      "Hotel La Tour Hassan\n",
      "Walking through the doors of the La Tour Hassan Hotel, visitors feel as if they have just entered a romantic Moroccan palace, with its massive halls, beautifully decorated arches, elaborate tiles and stylish décor. It is an establishment that oozes elegance and luxury. It is easy to see why this hotel is considered one of the most popular establishments in Rabat. This magnificent five star establishment is also located in the heart of the city, giving guests easy access to a variety of attractions and activities within walking distance of the hotel. The La Tour Hassan was originally built in 1914, and its unique historic Moorish architecture gives the hotel an exclusive ambiance. It boasts one hundred and forty-four rooms, each lavishly decorated along with modern features. Guests have quite a range of rooms to choose from such as the sixty-six standard rooms, seventeen superior rooms, thirty-six deluxe rooms, four Consul suites, ten Ambassador suites, three Vizier suites and four Grand Vizier suites, which have two bedrooms each. Guests will find features such as an in room safe, phone, air-conditioner and television in each room. Corporate guests will also feel at home at the La Tour Hassan, as it has a fully equipped business centre and seven rooms that are ideal for meetings, banquets and conferences. For the relaxation of the guests at the La Tour Hassan, its five star rejuvenating facilities have a solarium, sauna, spa, Jacuzzi, hammam and fitness centre. Other convenient services and amenities include babysitting services, tennis court, beauty salon, high speed internet connection, laundry, room service, discotheque and concierge. Dining at the La Tour Hassan is also a world class experience, as it has a number of bars and restaurants on site that offer a wide range of cuisine, such as eastern and Moroccan dishes at the La Maison Arabe, a gourmet menu at the Royal Garden, and French and International flavors are available at The Imperial. Other establishments to visit include the Al Kasabah, the Andalusian Patio, Jimmy’s Karaoke Night Club and the Pasha and Lounge Tapas Bar. Golf enthusiasts are invited to test their skills at the Royal Golf Dar Es Salam golf course that is ideal for beginner and advanced golfers, where they are able to enjoy the designing skills of Robert Trent Jones and the breathtaking landscapes on which the course is located. The La Tour Hassan offers visitors an unforgettable accommodation experience that is filled with luxury, great services and helpful and professional staff.\n"
     ]
    },
    {
     "name": "stderr",
     "output_type": "stream",
     "text": [
      "C:\\Users\\pc\\AppData\\Local\\Temp\\ipykernel_3448\\4222071137.py:35: FutureWarning: The frame.append method is deprecated and will be removed from pandas in a future version. Use pandas.concat instead.\n",
      "  df = df.append({\n",
      "C:\\Users\\pc\\AppData\\Local\\Temp\\ipykernel_3448\\4222071137.py:7: DeprecationWarning: executable_path has been deprecated, please pass in a Service object\n",
      "  driver = webdriver.Chrome(chrome_driver_path)\n"
     ]
    },
    {
     "name": "stdout",
     "output_type": "stream",
     "text": [
      "Le Diwan Rabat Hotel\n",
      "Located at 10005 Place de l’Unite Africaine in Rabat, Le Diwan Rabat is a great place to stay. Not only does the hotel combine modern trends with traditional Moroccan touches to give your accommodation an authentic ambiance, but the hotel is located near Rabat's city center so guests can easily explore the surrounding attractions on foot.  The Le Diwan Rabat in Morocco is found in one of the country’s most royal cities. Here guests are surrounded by centuries of history, embassies and foreign ministries. There are dozens of monuments, attractions and even interesting districts to be explored on foot. A short walk will have you scouring the souks trying to get your hands on a good bargain. However, after the hustle and bustle of the city and the heat of the day, you will likely find it very refreshing to return to your luxurious hotel room to relax and cool down. There are so many services on offer at Le Diwan Rabat hotel that guests will find themselves lacking nothing. Guests will be able to communicate with staff in Arabic, English, Spanish or French and you will be able to make use of a porter service, a dry cleaning/ironing facility, a concierge desk, a shoe shine machine, a safe deposit box at reception and a currency exchange service. The hotel also has audible smoke alarms in public areas and rooms, 24-hour security staff, Wi-Fi Internet access and a video camera at the entrance of the building. There are a total of 94 rooms to choose from, including six suites and sixteen non-smoking rooms. All the rooms have air conditioning, safe deposit boxes, a mini-bar, color TV with satellite/cable, an RJ 45 outlet and a bathroom with a telephone, bath tub, hair dryer and makeup/magnifying mirror. Adults are allowed to have one child stay in their room for free. There is also a 24-hour room service facility offering both hot dishes and cold snacks. Dining is best enjoyed at the hotel Restaurant, La Brasseie, which offers guests a delectable selection of French food in an enchanting environment. The restaurant also has seafood and traditional Moroccan dishes for the more adventurous. Alternatively you may head to the bar where you can enjoy a beverage to the sounds of jazz, blues or French chansons. Business persons will be able to make use of the hotel meeting room to conduct business deals. It can seat 80 people and staff will be happy to help you make sure the event is a success. The hotel business center has a fax machine, copy/print service and support staff for those who need to see to business during their stay. And of course there are some great golf courses nearby – perfect for clinching the deal or just relaxing \n"
     ]
    },
    {
     "name": "stderr",
     "output_type": "stream",
     "text": [
      "C:\\Users\\pc\\AppData\\Local\\Temp\\ipykernel_3448\\4222071137.py:35: FutureWarning: The frame.append method is deprecated and will be removed from pandas in a future version. Use pandas.concat instead.\n",
      "  df = df.append({\n",
      "C:\\Users\\pc\\AppData\\Local\\Temp\\ipykernel_3448\\4222071137.py:7: DeprecationWarning: executable_path has been deprecated, please pass in a Service object\n",
      "  driver = webdriver.Chrome(chrome_driver_path)\n"
     ]
    },
    {
     "name": "stdout",
     "output_type": "stream",
     "text": [
      "Hotel Melia Al Madina Salam\n",
      "The city of Agadir is located on the shores of the Atlantic Ocean, and being able to hear the roar of the water and the chatter of the seagulls from your hotel room is a relaxing and wonderful way to wake up each day. Located within walking distance of most the attractions and activities in Agadir, the Melia Al Madina Salam is a popular establishment known for its rejuvenating ambiance and luxury accommodation. The hotel boasts a hundred and eighty guest rooms and twenty-six suites that are stylishly decorated to compliment the architecture of the hotel. The building has been designed in an Old Arabian Medina style, creating a look and atmosphere of a desert oasis. The iron grill work, arched windows and bright traditional carpets look as if the rooms have been ripped from the pages of a magazine, and remind guests that they are truly in Morocco, amidst the modern features and facilities. For the convenience of guests, the rooms in the Melia Al Madina Salam hotel offer a variety of amenities such as satellite television, in room safe deposit box, air-conditioning, hairdryer, telephone and mini-bar. Visitors are also invited to make use of the other facilities at the hotel, such as their babysitting service, news stand, currency exchange, laundry, car rental and banking service. Whilst on vacation some guests enjoy the opportunity to pamper themselves with treatments they do not have time for in their daily lives. The Melia Al Madina Salam has therefore ensured that there is a diverse range of facilities available to their guests such as a beauty salon, balneotherapy centre, hairdresser and fitness centre. For the ultimate in relaxation and rejuvenation, guests are advised to try a hammam treatment, enjoy a stress relieving massage or unwind in the sauna. There are also two pools at the hotel, one for adults and one for the younger guests that has been decorated with animation and fun especially for them. Of course dining in a foreign country can be just as exciting as exploring the city, and onsite restaurants and bars will be able to cater to guests needs. International cuisine can be enjoyed at the Golden Cruise; while La Grappa specializes in Italian food. Other choices are Grill Panoramique, Taco Loco, Johara, Feyrouz and Valentine Pizzeria. To enjoy a few drinks with friends or to start off the evening, the Los Locos Karaoke Bar, Pool Bar, Le Dawliz and Tapas Bar will be able to conjure up a few exotic flavors. With the Agadir nightlife, shopping and beachfront at its feet, the Melia Al Madina Salam has more than just luxury accommodation and facilities to offer its guests.\n"
     ]
    },
    {
     "name": "stderr",
     "output_type": "stream",
     "text": [
      "C:\\Users\\pc\\AppData\\Local\\Temp\\ipykernel_3448\\4222071137.py:35: FutureWarning: The frame.append method is deprecated and will be removed from pandas in a future version. Use pandas.concat instead.\n",
      "  df = df.append({\n",
      "C:\\Users\\pc\\AppData\\Local\\Temp\\ipykernel_3448\\4222071137.py:7: DeprecationWarning: executable_path has been deprecated, please pass in a Service object\n",
      "  driver = webdriver.Chrome(chrome_driver_path)\n"
     ]
    },
    {
     "name": "stdout",
     "output_type": "stream",
     "text": [
      "Mercure Hotel Rabat Sheherazade\n",
      "Located at 21 Rue de Tunis Quartier Hassan, the Mercure Sheherazade Rabat hotel is a fantastic place to stay. Located in the city center in close proximity to businesses, shops and major attractions, the  hotel provides luxury accommodation to both business and leisure travelers. The Mercure Sheherazade Hotel in Rabat has 77 rooms to choose from including six non-smoking rooms for the health conscious. The rooms are spacious and comfortably furnished and feature audible smoke alarms, air conditioning, a safe deposit box, a mini-bar, a radio, a color TV with cable/satellite, a telephone and a hair dryer in the bathroom. One child is allowed to sleep in the parent’s room for free. Guests can communicate with staff in Arabic, English, French and German and can utilize a dry cleaning/ironing service, an overnight shoe shine service, a porter, a safe deposit box at the reception, Wi-Fi wireless internet access, a currency exchange service, a self-service business center with support staff, a fax machine and a copy/print service. The building is very secure with 24-hour staff security, video surveillance in the hallways and building entrance and smoke alarms in all parts of the hotel. Guests can also utilize the free outdoor parking nearby and there are two meeting rooms which can seat 60 people. Dining is best enjoyed at the hotel restaurant, Kangourou Grill, which offers guests a variety of international flavors. The restaurant has a delightful terrace, air conditioning and non-smoking areas and it caters to children. Alternatively you can visit the Aladin Bar where snacks and drinks are available. The ideal location of this hotel puts you in close proximity to several tourist attractions, parks and cultural attractions. Guests can visit La Tour Hassan, Palais Royal, Le Chellah, Les Ouddayas, De Dawliz Cinema, Le Royal Cinema, La Tour Hassan Quartier Theatre, Mohamed V Theatre, the De Temara Zoo and the Jardin Exotique Botanical Gardens. Sports lovers will want to go to the Belle Vue sports center of the Moulay Abdellah stadium complex. As if that wasn’t enough, there are plenty of other activates to be enjoyed nearby the hotel. Some of the leisure activities and facilities available nearby include golf at the Royal Golf Course, a sauna, a Jacuzzi, a fitness center, a Hammam, an athletics stadium, a jogging track, boules/petanque, basketball courts, billiards, snooker and massage therapies. So book your stay here for a fantastic holiday in Morocco!\n"
     ]
    },
    {
     "name": "stderr",
     "output_type": "stream",
     "text": [
      "C:\\Users\\pc\\AppData\\Local\\Temp\\ipykernel_3448\\4222071137.py:35: FutureWarning: The frame.append method is deprecated and will be removed from pandas in a future version. Use pandas.concat instead.\n",
      "  df = df.append({\n",
      "C:\\Users\\pc\\AppData\\Local\\Temp\\ipykernel_3448\\4222071137.py:7: DeprecationWarning: executable_path has been deprecated, please pass in a Service object\n",
      "  driver = webdriver.Chrome(chrome_driver_path)\n"
     ]
    },
    {
     "name": "stdout",
     "output_type": "stream",
     "text": [
      "Multi Hotels in Morocco\n",
      "Zalagh Parc Palace - Few places in Morocco are more beautiful than Fez. Situated at the foot of the Atlas Mountains near Mount Tghat, the city enjoys breathtaking scenery. Striking peaks, green forests and refreshing Andalusian gardens are all a part of staying at the Zalagh Parc Palace. The hotel is located in one the city’s biggest palaces in the heart of the city, just minutes from the medina and other great attractions. Menzeh Zalagh Hotel – Situated just 10 kilometers from the nearest airport in the heart of the more modern portion of Fez, the Menzeh Zalagh Hotel is a stunning mid-range hotel that offers convenience, quality and comfort. The hotel enjoys a great location in the midst of a very green and picturesque part of the city, yet it is not far from many of the city’s tourist attractions and the Fez Medina, so tourists will find it easy to tour the city from this hotel.\n"
     ]
    },
    {
     "name": "stderr",
     "output_type": "stream",
     "text": [
      "C:\\Users\\pc\\AppData\\Local\\Temp\\ipykernel_3448\\4222071137.py:35: FutureWarning: The frame.append method is deprecated and will be removed from pandas in a future version. Use pandas.concat instead.\n",
      "  df = df.append({\n",
      "C:\\Users\\pc\\AppData\\Local\\Temp\\ipykernel_3448\\4222071137.py:7: DeprecationWarning: executable_path has been deprecated, please pass in a Service object\n",
      "  driver = webdriver.Chrome(chrome_driver_path)\n"
     ]
    },
    {
     "name": "stdout",
     "output_type": "stream",
     "text": [
      "Hotel Naoura Barriere\n",
      "As a popular tourist city in Morocco, Marrakech offers a variety of accommodation options and luxury hotels. There are many establishments that offer wonderful facilities and services, but when it comes to luxury, relaxation and breathtaking beauty, the Naoura Barriere comes out on top. Covering an area of more than twenty-two thousand square meters, this hotel has taken rejuvenation to a new level, surrounding the buildings with picturesque landscaped gardens, peaceful ponds and water features and endless numbers of palm trees to bring the ambiance of a desert oasis to Marrakech. The accommodation options available to guests are extremely modern, stylish and very lavish. Suites come complete with a butler, king size bed, dressing room and office. The large terrace outside the suites offer guests spectacular views of the lush gardens. For more private accommodation, the hotel has thirty ryads which are available in three to six bedroom facilities. Each ryad is enhanced by a private garden, library, kitchen, lounge, terrace and a pool. Luxury has never been this exquisite and the hotel prides itself in providing accommodation that is tranquil and promotes wellbeing. The services and facilities at the Naoura Barriere are as exceptional as their accommodation and include amenities such as high speed internet access, airport shuttle service, room service, wheelchair accessibility, fitness centre, laundry, babysitting, business centre, outdoor pool and secure parking. Pet owners can request more information in regard to pet restriction and regulations from the hotel. Patrons will be able to enjoy relaxing treatments and spoil themselves with a hammam experience at the U-Spa in the hotel. The stunning spa takes care of guests in an environment that is serene and soothing and guarantees to refresh any visitor. Of course the hotel also caters for their younger guests, and while the adults unwind in the spa or pool, children are invited to join in the fun and excitement of the Diwi Club. This facility runs holiday events and activities for children and includes special meals for their young guests. For a great meal or a relaxing drink, the Naoura Barriere can take care of all your dining needs with its diverse range of onsite dining and bar establishments. Some of the restaurants to choose from include the Le Fouquet’s Marrakech, the Le Wardya and the Nuphar Bar. The Naoura Barriere is also within walking distance to many of the attractions and activities in Marrakech, while giving their guests a peaceful environment to come home to every evening.\n"
     ]
    },
    {
     "name": "stderr",
     "output_type": "stream",
     "text": [
      "C:\\Users\\pc\\AppData\\Local\\Temp\\ipykernel_3448\\4222071137.py:35: FutureWarning: The frame.append method is deprecated and will be removed from pandas in a future version. Use pandas.concat instead.\n",
      "  df = df.append({\n",
      "C:\\Users\\pc\\AppData\\Local\\Temp\\ipykernel_3448\\4222071137.py:7: DeprecationWarning: executable_path has been deprecated, please pass in a Service object\n",
      "  driver = webdriver.Chrome(chrome_driver_path)\n"
     ]
    },
    {
     "name": "stdout",
     "output_type": "stream",
     "text": [
      "Novotel Hotel Casablanca City Centre\n",
      "The Novotel Casablanca City Centre Hotel strives to provide travelers, business people and families with luxury, affordable accommodation, first class services and top facilities. Located in the city centre of Casablanca, guests have convenient access to transport, activities and some of the city’s most popular attractions. With breathtaking views of the Great Hassan II Mosque and the port of Casablanca, this luxury four-star establishment has everything available that guests might need and more. Standing at a height of seventeen floors, the Novotel Casablanca City Centre provides ample accommodation options to its guests, with two hundred and eighty-one rooms available. For the safety of patrons, each room has been fitted with an audible smoke alarm and security peephole. Guestroom features include modern accessories such as high speed internet access, in-room safe deposit box, mini bar, satellite television, hairdryer and air-conditioning. The hotel also offers accessibility for disabled guests, twenty-four hour security staff, dry cleaning, ironing services, currency exchange and shoe shining service. Pets are permitted under certain conditions. For business persons, there are a number of facilities offered by the hotel in their business centre. There are five meeting rooms that are able to accommodate approximately two hundred and fifty people, and there is also support staff available. Rooms have flip charts, fax machines and copier services, with other equipment such as overhead projector, television, internet connectivity, WiFi internet access, computers and video equipment on hand by request. These facilities enable business people to conduct meetings and conferences in the comfort of their hotel. Restaurants and lounges at the hotel give guests the opportunity to unwind and relax in tranquil surroundings, and the Restaurant Lounge offers gourmet dishes that are accompanied by relaxing music and professional service. Guests can enjoy their international cuisine indoors or on the terrace, and the Lounge Bar provides a warm ambiance for patrons to take pleasure in good conversation with friends and a few drinks. Staying at the Novotel Casablanca City Centre Hotel not only gives guests the opportunity to indulge in relaxation and luxury accommodation but to discover the wonders of Casablanca from a base that is conveniently located and close to many of the noteworthy sites in the city. This establishment ensures that a vacation in Casablanca is an unforgettable adventure.\n"
     ]
    },
    {
     "name": "stderr",
     "output_type": "stream",
     "text": [
      "C:\\Users\\pc\\AppData\\Local\\Temp\\ipykernel_3448\\4222071137.py:35: FutureWarning: The frame.append method is deprecated and will be removed from pandas in a future version. Use pandas.concat instead.\n",
      "  df = df.append({\n",
      "C:\\Users\\pc\\AppData\\Local\\Temp\\ipykernel_3448\\4222071137.py:7: DeprecationWarning: executable_path has been deprecated, please pass in a Service object\n",
      "  driver = webdriver.Chrome(chrome_driver_path)\n"
     ]
    },
    {
     "name": "stdout",
     "output_type": "stream",
     "text": [
      "Palmeraie Golf Palace in Marrakech\n",
      "The Palmeraie Golf Palace in Marrakech is one of the most popular establishments in the city. This five star hotel boasts a combination relaxation, style and luxurious accommodation. As its name suggests, it is home to one of the most breathtaking golf courses in Morocco, and golf enthusiasts from all over the world visit the Palmeraie Golf Palace to enjoy its facilities. Fortunately, the hotel has a host of activities and services to entertain the rest of the family and also accommodates corporate guests. Staying at the magnificent Palmeraie Golf Palace and Resort is a unique and unforgettable experience.  The Palmeraie Golf Palace has three hundred and sixty-eight rooms that have all been recently renovated to enhance the magical Moroccan architecture that adorns this magnificent building. There are also six double suites available and twenty single suites, and visitors have the choice of either an outlook over the Atlas Mountains, swimming pool or the golf course. Each room has been given a terrace or balcony, adding to the comfort and beauty of every unit. The hotel also offers a wide variety of services and facilities to their guests such as newspapers, shops, room service, laundry, babysitting services, barber shop, beauty salon and wireless internet access. Guests who want to rejuvenate their bodies are invited to enjoy relaxing treatments at the traditional Hammam, the Solarium and the Spa & Wellness Centre. The Palmeraie Spa has designed its treatments to offer guests extraordinary spa experiences, such as being pampered on the terrace, outdoor massages and great beauty treatments. There are fifteen treatment rooms at the spa, as well as a sauna, Jacuzzi, indoor pool and fitness centre. For more excitement and activity, guests can enjoy the warming Moroccan sun next to the outdoor pool that is surrounded by landscaped gardens and palm trees. A children’s playground is also available and visitors can enjoy horse back trails, cycling and a few sets of tennis on the hotel tennis courts. With the hotel being located on seventy-seven hectares of land, the eighteen-hole golf course is laid out amongst breathtaking lawns and offers a spectacular view of the Atlas Mountains. Dining at the Palmeraie Golf Palace is always a delight and diners are presented with a choice of a wide variety of dishes, from traditional Moroccan meals, to international, Japanese and Italian cuisine choices. Everything about the Palmeraie Golf Palace and Resort has been created with the comfort of guests in mind, therefore offering guests the ultimate in luxury accommodation.\n"
     ]
    },
    {
     "name": "stderr",
     "output_type": "stream",
     "text": [
      "C:\\Users\\pc\\AppData\\Local\\Temp\\ipykernel_3448\\4222071137.py:35: FutureWarning: The frame.append method is deprecated and will be removed from pandas in a future version. Use pandas.concat instead.\n",
      "  df = df.append({\n",
      "C:\\Users\\pc\\AppData\\Local\\Temp\\ipykernel_3448\\4222071137.py:7: DeprecationWarning: executable_path has been deprecated, please pass in a Service object\n",
      "  driver = webdriver.Chrome(chrome_driver_path)\n"
     ]
    },
    {
     "name": "stdout",
     "output_type": "stream",
     "text": [
      "Hilton Hotel Rabat\n",
      "Approximately thirteen kilometers from the Sale Airport in Rabat, is a hotel that is synonymous with elegance, luxury and world class service, namely the Rabat Hilton. This magnificent hotel offers spectacular views of the city and of the Royal Palace and has created an oasis for visitors, surrounding the hotel with breathtaking landscaped gardens, massive palm trees and colorful flower beds to complete the scenes of beauty and tranquility. The Rabat Hilton is known as one of the top establishments in Rabat and offers visitors comfortable accommodation and convenient services to make their stay as memorable and enjoyable as possible. There are two hundred and sixty-nine rooms available at the Rabat Hilton, of which twenty-seven are suite options. Guests are able to choose between executive rooms, deluxe rooms and guest rooms, while the suites are divided into presidential suites, ambassador suites and executive suites, each being fitted with their own unique features and facilities. Some of the features include telephone, air-conditioning, satellite television, hairdryer, DVD player, mini bar and high speed internet access. Their stylish layout and exclusive views make each room comfortable and convenient for all guests. Other services offered by the Rabat Hilton include airport shuttle, complimentary toiletries, currency exchange, automatic teller machines, babysitting, housekeeping, newsstand, room service and disabled access, to name a few. The hotel is also pet-friendly and guests can inquire at the hotel about the regulations regarding pets. To ensure that guests get the most out of their vacations, the hotel has a variety of activities and facilities for guests to make use of. For relaxation or staying in shape while enjoying the beauty of Morocco, the Rabat Hilton has an outdoor pool, spa, Jacuzzi, fitness centre, sauna, tennis courts and golf course. Walking through the breathtaking Andalousian Garden is another popular activity, and the gardens have made the hotel famous in the country. The beachfront is only ten minutes away from the hotel, and for guests who want to do a little shopping, the hotel is home to a number of shops and boutiques. Dining at the Rabat Hilton is an adventure on its own, as the restaurants offer guests an extensive menu that varies from international to traditional Moroccan dishes. Live entertainment and music is also available at some of these establishments and includes the Dar Al Andalous Restaurant, Scalini, La Terrazza, Hamilton Bar, Les Palmiers and Hiltonia Club. Business persons will not only be able to enjoy the comfort of the accommodation offered at the Rabat Hilton, but are able to host conferences and meetings in its business centre. There are three options available to corporate guests, namely the Business Room Bahia, the Imperial Cities Meeting Room and the Grand Maghreb Ballroom that is able to accommodate over a thousand guests at one time. The Rabat Hilton not only focuses on offering stunning accommodation and great service, but tries to ensure that all guests have a memorable experience.\n"
     ]
    },
    {
     "name": "stderr",
     "output_type": "stream",
     "text": [
      "C:\\Users\\pc\\AppData\\Local\\Temp\\ipykernel_3448\\4222071137.py:35: FutureWarning: The frame.append method is deprecated and will be removed from pandas in a future version. Use pandas.concat instead.\n",
      "  df = df.append({\n",
      "C:\\Users\\pc\\AppData\\Local\\Temp\\ipykernel_3448\\4222071137.py:7: DeprecationWarning: executable_path has been deprecated, please pass in a Service object\n",
      "  driver = webdriver.Chrome(chrome_driver_path)\n"
     ]
    },
    {
     "name": "stdout",
     "output_type": "stream",
     "text": [
      "Ramada Hotels\n",
      "Ramada Les Almohades Casablanca - The Ramada Les Almohades Casablanca Hotel is located in the business district of Casablanca, opening up a world of attractions and noteworthy sites to its guests, of which some are within walking distance. Multi-lingual staff, spacious accommodation and wonderful facilities allow guests to feel relaxed and taken care of from the time of their arrival. Ramada Les Almohades Agadir – Approximately ten kilometers from the city centre of Agadir is one of the city’s most popular hotel establishments, the Ramada Les Almohades Agadir. As a part of the Ramada hotel group, this establishment guarantees spacious and comfortable accommodation with convenient access to a variety of facilities and services. Guests to the Ramada Les Almohades Agadir Hotel can look forward to international standards and professional staff members who strive to make your stay at this breathtaking hotel unforgettable.\n"
     ]
    },
    {
     "name": "stderr",
     "output_type": "stream",
     "text": [
      "C:\\Users\\pc\\AppData\\Local\\Temp\\ipykernel_3448\\4222071137.py:35: FutureWarning: The frame.append method is deprecated and will be removed from pandas in a future version. Use pandas.concat instead.\n",
      "  df = df.append({\n",
      "C:\\Users\\pc\\AppData\\Local\\Temp\\ipykernel_3448\\4222071137.py:7: DeprecationWarning: executable_path has been deprecated, please pass in a Service object\n",
      "  driver = webdriver.Chrome(chrome_driver_path)\n"
     ]
    },
    {
     "name": "stdout",
     "output_type": "stream",
     "text": [
      "Royal Mirage Hotels & Resorts\n",
      "Royal Mirage Marrakech - the Royal Mirage Marrakech is a massive hotel that forms part of the Royal Mirage Hotels and Resorts group. Its unique location allows visitors to gaze upon the snowy peaks of the Atlas in winter, and enjoy its magnificent intimidating features in the warmer months. This hotel offers wonderful accommodation and has ensured that they provide quality services and facilities to makes guests comfortable. Marrakech is a popular destination in Morocco, and the Royal Mirage Marrakech is amongst the top hotels in the city. Royal Mirage Fez – Guests at the Royal Mirage Fez will be able to enjoy a variety of accommodation choices, with two hundred and seventy-one rooms in the building. The hotel has seven junior suites, five royal suites and twenty-seven of the rooms available are non-smoking. All the rooms are spacious and have been stylishly decorated to allow visitors to enjoy a comfortable stay and relish the luxury of this magnificent establishment. Royal Mirage Agadir – The Royal Mirage Agadir Hotel is ideally located on the beachfront, offering guests breathtaking views of the ocean and opportunities for unique activities. It is a four-star establishment that is spread out over six floors and provides guests with the very best in accommodation and spectacular services. Maintaining international standards, the Royal Mirage Agadir ensures the comforts and luxury that will make your stay an enjoyable one.\n"
     ]
    },
    {
     "name": "stderr",
     "output_type": "stream",
     "text": [
      "C:\\Users\\pc\\AppData\\Local\\Temp\\ipykernel_3448\\4222071137.py:35: FutureWarning: The frame.append method is deprecated and will be removed from pandas in a future version. Use pandas.concat instead.\n",
      "  df = df.append({\n",
      "C:\\Users\\pc\\AppData\\Local\\Temp\\ipykernel_3448\\4222071137.py:7: DeprecationWarning: executable_path has been deprecated, please pass in a Service object\n",
      "  driver = webdriver.Chrome(chrome_driver_path)\n"
     ]
    },
    {
     "name": "stdout",
     "output_type": "stream",
     "text": [
      "Sofitel Hotels\n",
      "Sofitel Marrakech Lounge & Spa - The Sofitel Marrakech Lounge and Spa hotel has been designed with the goal of providing guests with stylish and luxurious accommodation, while creating a retreat that rejuvenates and relaxes. Its contemporary Andualusian design and décor is enhanced by breathtaking gardens that surround the hotel, and all its services and facilities are focused on providing comfort and convenience to all its guests. Sofitel Agadir Royal Bay Resort – The Sofitel Agadir Royal Bay Resort could not have been situated on a more perfect location, and offers visitors the luxury of walking straight onto the beach, as well as being a mere ten minutes away from the city centre. Exotic Kasbah architecture greets visitors as they arrive and the numerous riads and water features found throughout the hotel afford it an oasis ambiance. The Décor in the hotel and its rooms has carefully been selected to combine contemporary modern features with traditional Moroccan styles to create an elegant establishment. Sofitel Palais Jamais Fez – There is an establishment in Morocco where visitors to the country can live within a historical masterpiece. Originally constructed in 1879, the beautifully designed structure, showcasing detailed decorations in the Moorish style, was once the residence of Grand Vizir of Jamai. Now it allows its guests to share in the grandeur and magnificence of the building. Surrounded by breathtaking landscaped gardens, the Sofitel Palais Jamais Fez is one of the most stunning establishments in the city of Fez. Sofitel Rabat Jardin Des Roses – Located in one of Rabat’s more elite districts, the Sofitel Rabat Jardin Des Roses provides guests with an oasis of pleasure. The hotel is situated in 17 acres of beautiful Andalusian gardens and is just a short distance from both the Atlantic Ocean and the administrative and business center of the city. This makes it ideal for both business or leisure travelers.\n"
     ]
    },
    {
     "name": "stderr",
     "output_type": "stream",
     "text": [
      "C:\\Users\\pc\\AppData\\Local\\Temp\\ipykernel_3448\\4222071137.py:35: FutureWarning: The frame.append method is deprecated and will be removed from pandas in a future version. Use pandas.concat instead.\n",
      "  df = df.append({\n",
      "C:\\Users\\pc\\AppData\\Local\\Temp\\ipykernel_3448\\4222071137.py:7: DeprecationWarning: executable_path has been deprecated, please pass in a Service object\n",
      "  driver = webdriver.Chrome(chrome_driver_path)\n"
     ]
    },
    {
     "name": "stdout",
     "output_type": "stream",
     "text": [
      "Starwood Resorts and Hotels\n",
      "Le Méridien N'Fis - The five and a half acres of land on which the Le Méridien N'Fis Hotel is located, complete with landscaped Andalusian gardens and lawns, has created a tranquil oasis for the establishment and its guests amidst the bustle of the city. There are two hundred and seventy-seven guest rooms available at the hotel, each providing stylish and comfortable accommodation. Le Royal Mansour Meridien – Casablanca prides itself on its historical attractions, tourism infrastructure and world class accommodation. One of the top establishments in the city, and Morocco, is the Le Royal Mansour Meridien, which not only offers visitors breathtaking views of the Hassan II Mosque and the harbor of the city, but boasts luxury accommodation and wonderful facilities. Sheraton Casablanca Hotel & Towers – As a part of the Sheraton Hotel Group, this wonderful establishment guarantees comfortable accommodation, convenient facilities and world class services. The Sheraton Casablanca Hotel & Towers ensures an unforgettable stay in the vibrant and colorful city of Casablanca. Friendly staff who are able to speak English, Arabic, French, Spanish and Italian are always eager to help guests with any queries or concerns.\n"
     ]
    },
    {
     "name": "stderr",
     "output_type": "stream",
     "text": [
      "C:\\Users\\pc\\AppData\\Local\\Temp\\ipykernel_3448\\4222071137.py:35: FutureWarning: The frame.append method is deprecated and will be removed from pandas in a future version. Use pandas.concat instead.\n",
      "  df = df.append({\n"
     ]
    }
   ],
   "source": [
    "from selenium import webdriver\n",
    "from bs4 import BeautifulSoup\n",
    "from time import sleep\n",
    "\n",
    "for link in urls_hotels:\n",
    "    chrome_driver_path = \"C:\\\\Users\\\\pc\\\\OneDrive\\\\Documents\\\\chromedriver-win64\\\\chromedriver.exe\"\n",
    "    driver = webdriver.Chrome(chrome_driver_path)\n",
    "    driver.get(link)\n",
    "    sleep(5)  # Add a pause to ensure content loads properly\n",
    "\n",
    "    # Retrieve the content of the page with BeautifulSoup\n",
    "    src = driver.page_source\n",
    "    soup = BeautifulSoup(src, 'html.parser')\n",
    "    \n",
    "    # Get the title\n",
    "    title = soup.find('h1', class_='page-title').get_text()\n",
    "    print(title)\n",
    "    \n",
    "    # Get the excerpt paragraphs\n",
    "    paragraphs = soup.find('div', class_='excerpt')\n",
    "    excerpt_text = paragraphs.get_text().strip() if paragraphs else \"\"\n",
    "    #print(excerpt_text)\n",
    "    \n",
    "    # Get the content paragraphs\n",
    "    content_div = soup.find('div', class_='content-text')\n",
    "    paragraphs = content_div.find_all('p') if content_div else []\n",
    "    filtered_paragraphs = [p for p in paragraphs if 'back-to-category' not in p.get('class', [])]\n",
    "    \n",
    "    # Join the text from the filtered p tags\n",
    "    joined_text = ' '.join(p.get_text() for p in filtered_paragraphs)\n",
    "    \n",
    "    # Concatenate the excerpt text with the joined paragraphs text\n",
    "    combined_text = excerpt_text + ' ' + joined_text\n",
    "    print(combined_text)\n",
    "    df = df.append({\n",
    "            'Prompt':title,\n",
    "            'Response':combined_text\n",
    "        }, ignore_index=True)\n",
    "    # Close the browser after processing each link\n",
    "    driver.quit()\n"
   ]
  },
  {
   "cell_type": "code",
   "execution_count": 52,
   "id": "0055f73b",
   "metadata": {},
   "outputs": [
    {
     "data": {
      "text/html": [
       "<div>\n",
       "<style scoped>\n",
       "    .dataframe tbody tr th:only-of-type {\n",
       "        vertical-align: middle;\n",
       "    }\n",
       "\n",
       "    .dataframe tbody tr th {\n",
       "        vertical-align: top;\n",
       "    }\n",
       "\n",
       "    .dataframe thead th {\n",
       "        text-align: right;\n",
       "    }\n",
       "</style>\n",
       "<table border=\"1\" class=\"dataframe\">\n",
       "  <thead>\n",
       "    <tr style=\"text-align: right;\">\n",
       "      <th></th>\n",
       "      <th>Prompt</th>\n",
       "      <th>Response</th>\n",
       "    </tr>\n",
       "  </thead>\n",
       "  <tbody>\n",
       "    <tr>\n",
       "      <th>0</th>\n",
       "      <td>Travel to Agadir in Morocco</td>\n",
       "      <td>Agadir is Southern Morocco's most visited city...</td>\n",
       "    </tr>\n",
       "    <tr>\n",
       "      <th>1</th>\n",
       "      <td>Accommodation</td>\n",
       "      <td>There are plenty of hotels to choose from in M...</td>\n",
       "    </tr>\n",
       "    <tr>\n",
       "      <th>2</th>\n",
       "      <td>Beaches</td>\n",
       "      <td>The lack of monuments, museums and interesting...</td>\n",
       "    </tr>\n",
       "    <tr>\n",
       "      <th>3</th>\n",
       "      <td>Things to See &amp; Do</td>\n",
       "      <td>The Valley of the Birds (daily from 09:30-12:3...</td>\n",
       "    </tr>\n",
       "    <tr>\n",
       "      <th>4</th>\n",
       "      <td>Cuisine &amp; Nightlife</td>\n",
       "      <td>Besides what the large hotels have, there’s no...</td>\n",
       "    </tr>\n",
       "    <tr>\n",
       "      <th>...</th>\n",
       "      <td>...</td>\n",
       "      <td>...</td>\n",
       "    </tr>\n",
       "    <tr>\n",
       "      <th>224</th>\n",
       "      <td>Hilton Hotel Rabat</td>\n",
       "      <td>Approximately thirteen kilometers from the Sal...</td>\n",
       "    </tr>\n",
       "    <tr>\n",
       "      <th>225</th>\n",
       "      <td>Ramada Hotels</td>\n",
       "      <td>Ramada Les Almohades Casablanca - The Ramada L...</td>\n",
       "    </tr>\n",
       "    <tr>\n",
       "      <th>226</th>\n",
       "      <td>Royal Mirage Hotels &amp; Resorts</td>\n",
       "      <td>Royal Mirage Marrakech - the Royal Mirage Marr...</td>\n",
       "    </tr>\n",
       "    <tr>\n",
       "      <th>227</th>\n",
       "      <td>Sofitel Hotels</td>\n",
       "      <td>Sofitel Marrakech Lounge &amp; Spa - The Sofitel M...</td>\n",
       "    </tr>\n",
       "    <tr>\n",
       "      <th>228</th>\n",
       "      <td>Starwood Resorts and Hotels</td>\n",
       "      <td>Le Méridien N'Fis - The five and a half acres ...</td>\n",
       "    </tr>\n",
       "  </tbody>\n",
       "</table>\n",
       "<p>229 rows × 2 columns</p>\n",
       "</div>"
      ],
      "text/plain": [
       "                            Prompt  \\\n",
       "0      Travel to Agadir in Morocco   \n",
       "1                    Accommodation   \n",
       "2                          Beaches   \n",
       "3               Things to See & Do   \n",
       "4              Cuisine & Nightlife   \n",
       "..                             ...   \n",
       "224             Hilton Hotel Rabat   \n",
       "225                  Ramada Hotels   \n",
       "226  Royal Mirage Hotels & Resorts   \n",
       "227                 Sofitel Hotels   \n",
       "228    Starwood Resorts and Hotels   \n",
       "\n",
       "                                              Response  \n",
       "0    Agadir is Southern Morocco's most visited city...  \n",
       "1    There are plenty of hotels to choose from in M...  \n",
       "2    The lack of monuments, museums and interesting...  \n",
       "3    The Valley of the Birds (daily from 09:30-12:3...  \n",
       "4    Besides what the large hotels have, there’s no...  \n",
       "..                                                 ...  \n",
       "224  Approximately thirteen kilometers from the Sal...  \n",
       "225  Ramada Les Almohades Casablanca - The Ramada L...  \n",
       "226  Royal Mirage Marrakech - the Royal Mirage Marr...  \n",
       "227  Sofitel Marrakech Lounge & Spa - The Sofitel M...  \n",
       "228  Le Méridien N'Fis - The five and a half acres ...  \n",
       "\n",
       "[229 rows x 2 columns]"
      ]
     },
     "execution_count": 52,
     "metadata": {},
     "output_type": "execute_result"
    }
   ],
   "source": [
    "df"
   ]
  },
  {
   "cell_type": "code",
   "execution_count": 53,
   "id": "3866b890",
   "metadata": {},
   "outputs": [],
   "source": [
    "urls_embassies = [\n",
    "    \"https://www.morocco.com/travel/embassies/canada/\",\n",
    "    \"https://www.morocco.com/travel/embassies/france/\",\n",
    "    \"https://www.morocco.com/travel/embassies/south-africa/\",\n",
    "    \"https://www.morocco.com/travel/embassies/uk/\",\n",
    "    \"https://www.morocco.com/travel/embassies/usa/\"\n",
    "]\n"
   ]
  },
  {
   "cell_type": "code",
   "execution_count": 54,
   "id": "2be837b2",
   "metadata": {},
   "outputs": [
    {
     "name": "stderr",
     "output_type": "stream",
     "text": [
      "C:\\Users\\pc\\AppData\\Local\\Temp\\ipykernel_3448\\2802536495.py:7: DeprecationWarning: executable_path has been deprecated, please pass in a Service object\n",
      "  driver = webdriver.Chrome(chrome_driver_path)\n"
     ]
    },
    {
     "name": "stdout",
     "output_type": "stream",
     "text": [
      "Canadian Embassy\n",
      "Not many people know that Canada and Morocco have being enjoying positive diplomatic relations since as early as 1962. Today, the Canadian Embassy in Morocco not only has a long history of positively assisting the Moroccan community, but has also assisted thousands of Canadians to improve trade and travel relations with the country. If you are a Moroccan wishing to travel to Canada or a Canadian visiting Morocco, the Canadian Embassy in Morocco can definitely help you. There are so many services offered by the Canadian Embassy in Morocco that it is impossible to explain them all here. Simply put, the embassy is able to provide full consular services to all Canadians currently situated in Morocco for what ever reason. This may include the supplying of temporary visas in the case of an emergency and other necessary services. While they provide every basic service that may be needed by a Canadian citizen visiting or living in the country, they also provide a full range of services with regard to the providing of visas and immigration. Many young Moroccans enjoy the prospect of later studying in Canada, where the level of tuition is often considered to be greater than that offered locally. In fact, roughly a thousand students make the journey to Canada to further their education each year! While the majority of Moroccans leaving the country for Canada are students, there are also those who are fortunate enough to travel for business or pleasure. Various visas can be supplied for these individuals and immigration papers can also be organized through the embassy. Another facet of the embassy is the role it plays in the small but growing trade and investment sectors of Morocco’s economy. Although this role is small at best, it continues to grow each year due to favorable relations and trade conditions. Moreover, the Canadian Embassy in Morocco is able to quickly and effectively settle any dispute relating to trade and investment between the two countries. It is interesting to note that the Canadian Embassy in Morocco also represents many of the interests of Canada in Mauritania. You will find the consular aspect of the embassy at 13 bis rue Jaâfa-as-Sadik, Agdal in Rabat while the visa services are operated from 31 rue Hamza, Agdal. The embassy is open from Monday to Thursday between 8:00 and 17:30 with a daily lunch break between 12:00 and 13:30. On Fridays the office hours run from 8:00 to 13:30.\n"
     ]
    },
    {
     "name": "stderr",
     "output_type": "stream",
     "text": [
      "C:\\Users\\pc\\AppData\\Local\\Temp\\ipykernel_3448\\2802536495.py:35: FutureWarning: The frame.append method is deprecated and will be removed from pandas in a future version. Use pandas.concat instead.\n",
      "  df = df.append({\n",
      "C:\\Users\\pc\\AppData\\Local\\Temp\\ipykernel_3448\\2802536495.py:7: DeprecationWarning: executable_path has been deprecated, please pass in a Service object\n",
      "  driver = webdriver.Chrome(chrome_driver_path)\n"
     ]
    },
    {
     "name": "stdout",
     "output_type": "stream",
     "text": [
      "French Embassy\n",
      "France has long enjoyed a strong influence on Morocco and this can be seen in the fact that the French language is still considered to be the unofficial second language of Morocco. It is also evident in the many instances of French architecture that can be found across the country. Past historical affiliations with the country have fortunately grown into positive trade and travel relations and today many French citizens visit the country while many Moroccans likewise travel to France. In fact France has long enjoyed particularly close relations with Morocco since 1990. King Mohammed VI chose France as the first place that he would visit abroad – a successful state visit which took place in March 2000. Since then, many prominent Moroccans have been visiting the country in order to benefit from the excellent relations present between Morocco and France. Such relations have definitely not been one-sided with many politically involved and prominent Frenchmen also journeying to Morocco to further improve and investigate trade and travel relations with the country. In all, Morocco’s relationship with the French government has truly proved to be very profitable with France providing many millions of dollars worth of government aid to the country. But, while the French Embassy in Morocco has certainly had a role to play in all this, such politically motivated activities are not the only thing that the embassy is involved in. Like most embassies, the French Embassy in Morocco continues to serve the basic role of providing visas and other important travel documents for Moroccans wishing to travel or study in France. It also improves trade relations between Moroccan and French companies and thus contributes to the economies of both countries. If you should need any assistance with regard to trade or travel between Morocco and France, you should contact the French Embassy in Morocco for more information. As with travel to any country, it is vital that you ensure that you have the correct passport information, visas or work related paperwork before attempting to pursue the matter further. The Embassy is located at 3 rue Sahnoun in Agdal, Rabat. The staff are reasonably friendly and helpful and will do their best to assist you.\n"
     ]
    },
    {
     "name": "stderr",
     "output_type": "stream",
     "text": [
      "C:\\Users\\pc\\AppData\\Local\\Temp\\ipykernel_3448\\2802536495.py:35: FutureWarning: The frame.append method is deprecated and will be removed from pandas in a future version. Use pandas.concat instead.\n",
      "  df = df.append({\n",
      "C:\\Users\\pc\\AppData\\Local\\Temp\\ipykernel_3448\\2802536495.py:7: DeprecationWarning: executable_path has been deprecated, please pass in a Service object\n",
      "  driver = webdriver.Chrome(chrome_driver_path)\n"
     ]
    },
    {
     "name": "stdout",
     "output_type": "stream",
     "text": [
      "South African Embassy\n",
      "Despite the fact that both countries are located on the same continent, Moroccan travelers wishing to journey to South Africa will have to first obtain the correct documentation before boarding an airplane and leaving the country. Fortunately, there is a South African Embassy in Morocco to make this process as quick and easy as possible. This means that travelers will not have to wait for long-distance correspondence in order to get their travel visas ready before leaving for South Africa. The South African Embassy in Morocco, like most embassies, performs many different travel-related functions. South Africans visiting Morocco can go to the embassy to sort out any problems they may encounter legally in the country, or they may turn to the embassy for help if they are pick-pocketed and loose their visa. In this instance the embassy may see fit to issue them with a temporary visa based on the information already on their computer systems from their original, existing visa. The South African Embassy in Morocco can also assist them with other services, like language translation, if necessary. Thus the embassy is well-structured and able to provide most of the basic services rendered by any embassy or consulate. If you wish to go to the South African Embassy in Morocco, you will find it at 34, Rue Des Saadiens in Hassan, Rabat. The phone number for the embassy is: +212 537 706760, while the fax number is: +212 537 72 4550. If you prefer to contact the embassy via email, you will find that they can be reached at: sudaf@menara.ma. These details were updated in October 2009, but visitors to our website should be aware that they are subject to change. Therefore any difficulties experienced when trying to use this information cannot be deemed the fault of Morocco.com.\n"
     ]
    },
    {
     "name": "stderr",
     "output_type": "stream",
     "text": [
      "C:\\Users\\pc\\AppData\\Local\\Temp\\ipykernel_3448\\2802536495.py:35: FutureWarning: The frame.append method is deprecated and will be removed from pandas in a future version. Use pandas.concat instead.\n",
      "  df = df.append({\n",
      "C:\\Users\\pc\\AppData\\Local\\Temp\\ipykernel_3448\\2802536495.py:7: DeprecationWarning: executable_path has been deprecated, please pass in a Service object\n",
      "  driver = webdriver.Chrome(chrome_driver_path)\n"
     ]
    },
    {
     "name": "stdout",
     "output_type": "stream",
     "text": [
      "Embassy of the United Kingdom\n",
      "The United Kingdom has long enjoyed good travel relations with hundreds of countries around the world. Oftentimes this dates back to the time when Britain was a massive world power that enjoyed the luxuries of having a large number of colonies across the globe. While today virtually every country enjoys a strong sense of independence, many former British colonies have maintained good travel relations with the United Kingdom, recognizing the benefits thereof. Morocco is one of the many countries that enjoy good travel relations with the United Kingdom. Travelers from Morocco wishing to visit the United Kingdom should visit the British Embassy to establish what sort of visa requirements they will have to meet before setting off half way across the globe. Fortunately, modern technology has made visa applications even easier with the United Kingdom having recently introduced an online application service to Moroccans. The service is currently available in seventy different countries across the globe with the Morocco being one of the most recent additions to the list. Unfortunately the on-line application process still requires that applicants visit the UK Embassy in Morocco at least once to ensure that all the necessary documentation and paperwork is in order. However, in order to facilitate the process, a dedicated time has been set aside for processing customers who have applied for a visa on-line. This greatly speeds up the process and will enable you to not only spend less time in queues, but also less time waiting for your visa application to be processed. Potential travelers will be glad to know that there is more than one UK Embassy in Morocco that can assist them. The main embassy is located in Rabat at 17 Boulevard De La Tour Hassan – B.P. 45. This is the best place to go for visa applications and other travel related enquiries. However, those with special needs may find it necessary to visit either the Consulate General or the UK Consulate. The Consulate General is located in Casablanca at 43, Boulevard d’Anfa and the UK Consulate is located at 9 Rue Amerique du Sud in Tanger. All branches can be reached by phone, fax and email and will do their best to assist you in whatever way possible.\n"
     ]
    },
    {
     "name": "stderr",
     "output_type": "stream",
     "text": [
      "C:\\Users\\pc\\AppData\\Local\\Temp\\ipykernel_3448\\2802536495.py:35: FutureWarning: The frame.append method is deprecated and will be removed from pandas in a future version. Use pandas.concat instead.\n",
      "  df = df.append({\n",
      "C:\\Users\\pc\\AppData\\Local\\Temp\\ipykernel_3448\\2802536495.py:7: DeprecationWarning: executable_path has been deprecated, please pass in a Service object\n",
      "  driver = webdriver.Chrome(chrome_driver_path)\n"
     ]
    },
    {
     "name": "stdout",
     "output_type": "stream",
     "text": [
      "United States Embassy\n",
      "The Ambassador for the U.S. Embassy in Morocco is Thomas T. Riley. He accepted his position in 2004 and is dedicated to maintaining and improving the lengthy relationship between Morocco and the United States of America. His position as Ambassador oversees many aspects of the United States Embassy, such as services to the public, political matters and dealing with the media. The U.S. Embassy in Morocco promotes America within Morocco and offers American tourists in the country support, assistance and information. The United States Embassy in Morocco assists with the application and issue of visas and issue of passports or help with the renewal of passports. They also assist with voting from Morocco, birth certificates, documentation for marriages, adoption and tax. The United States Embassy cannot perform wedding ceremonies. The information they offer to American Citizens in Morocco is vital. Marriage and financial scams are exposed by the U.S. Embassy and it can also advise on travel destinations, safety and the legal system within Morocco. Lost luggage and cost incurred while in Morocco is not the responsibility of the United States Embassy. Visitors are responsible for their own costs and luggage. The U.S. Embassy can also not change or cancel any bookings on your behalf. If an American citizen is detained or arrested in Morocco, they will have to go through the country’s legal system. The United States Embassy is not permitted in any way to intervene, and do not have the power to make arrangements in regard to detainment or representing the party that has been detained. They are able to visit and act as a liaison between the detained and their family back home. The embassy will also be able to supply a list of legal representatives that are English speaking. During times of crisis or natural disasters, the embassy will assist with evacuations. They can also assist in emergencies such as death, illness or injury. The United States Embassy in Morocco is vital to the relationship between the two countries and also to the public who might need their assistance. It is always advisable to register your arrival with the embassy in case of emergencies. Please find the details for the embassy and consulate below. Embassy of the United States of America\n",
      "2 Avenue de Mohamed El Fassi\n",
      "Rabat, Morocco\n",
      "Telephone: (+212 37) 762 265 or after hours (+212 37) 769 639\n",
      "Fax: (+212 37) 765 561 Consulate General in Casablanca\n",
      "8 Boulevard Moulay Youssef\n",
      "Casablanca, Morocco\n",
      "Telephone: (+212 22) 264 550 Fax: (+212 22) 204 127 Please Note: Contact details are subject to change.\n"
     ]
    },
    {
     "name": "stderr",
     "output_type": "stream",
     "text": [
      "C:\\Users\\pc\\AppData\\Local\\Temp\\ipykernel_3448\\2802536495.py:35: FutureWarning: The frame.append method is deprecated and will be removed from pandas in a future version. Use pandas.concat instead.\n",
      "  df = df.append({\n"
     ]
    }
   ],
   "source": [
    "from selenium import webdriver\n",
    "from bs4 import BeautifulSoup\n",
    "from time import sleep\n",
    "\n",
    "for link in urls_embassies:\n",
    "    chrome_driver_path = \"C:\\\\Users\\\\pc\\\\OneDrive\\\\Documents\\\\chromedriver-win64\\\\chromedriver.exe\"\n",
    "    driver = webdriver.Chrome(chrome_driver_path)\n",
    "    driver.get(link)\n",
    "    sleep(5)  # Add a pause to ensure content loads properly\n",
    "\n",
    "    # Retrieve the content of the page with BeautifulSoup\n",
    "    src = driver.page_source\n",
    "    soup = BeautifulSoup(src, 'html.parser')\n",
    "    \n",
    "    # Get the title\n",
    "    title = soup.find('h1', class_='page-title').get_text()\n",
    "    print(title)\n",
    "    \n",
    "    # Get the excerpt paragraphs\n",
    "    paragraphs = soup.find('div', class_='excerpt')\n",
    "    excerpt_text = paragraphs.get_text().strip() if paragraphs else \"\"\n",
    "    #print(excerpt_text)\n",
    "    \n",
    "    # Get the content paragraphs\n",
    "    content_div = soup.find('div', class_='content-text')\n",
    "    paragraphs = content_div.find_all('p') if content_div else []\n",
    "    filtered_paragraphs = [p for p in paragraphs if 'back-to-category' not in p.get('class', [])]\n",
    "    \n",
    "    # Join the text from the filtered p tags\n",
    "    joined_text = ' '.join(p.get_text() for p in filtered_paragraphs)\n",
    "    \n",
    "    # Concatenate the excerpt text with the joined paragraphs text\n",
    "    combined_text = excerpt_text + ' ' + joined_text\n",
    "    print(combined_text)\n",
    "    df = df.append({\n",
    "            'Prompt':title,\n",
    "            'Response':combined_text\n",
    "        }, ignore_index=True)\n",
    "    # Close the browser after processing each link\n",
    "    driver.quit()\n"
   ]
  },
  {
   "cell_type": "code",
   "execution_count": 55,
   "id": "80a8d5d8",
   "metadata": {},
   "outputs": [],
   "source": [
    "urls_essentials = [\n",
    "    \"https://www.morocco.com/travel/essentials/currency-converter/\",\n",
    "    \"https://www.morocco.com/travel/essentials/getting-there/\",\n",
    "    \"https://www.morocco.com/travel/essentials/health-advice/\",\n",
    "    \"https://www.morocco.com/travel/essentials/tour-operators/\",\n",
    "    \"https://www.morocco.com/travel/essentials/visas-passports/\"\n",
    "]\n"
   ]
  },
  {
   "cell_type": "code",
   "execution_count": 56,
   "id": "1a879202",
   "metadata": {},
   "outputs": [
    {
     "name": "stderr",
     "output_type": "stream",
     "text": [
      "C:\\Users\\pc\\AppData\\Local\\Temp\\ipykernel_3448\\740527247.py:7: DeprecationWarning: executable_path has been deprecated, please pass in a Service object\n",
      "  driver = webdriver.Chrome(chrome_driver_path)\n"
     ]
    },
    {
     "name": "stdout",
     "output_type": "stream",
     "text": [
      "Currency Converter\n",
      "The following is a guide to Moroccan currencies and a converter to help you figure it all out. The Currency of Morocco is the dirham (dh). It is divided into 100 centimes (c). Centimes exchange hands at market places more often than dirhams. This money is available in 10c, 20c, 50c, 1dh, 5dh, 10dh (all coins) and 10dh, 20dh, 50dh, 100dh and 200dh (all notes). Outside of Morocco, you can usually get dirhams in Algeciras (Spain) and in Gibraltar. There are also usually foreign exchange shops in the seaports and airports of Morocco. Traveler’s checks can be quite useless as they can only normally be exchanged at the bank which makes them an inconvenience for the average person in Morocco. Many of the classier hotels support credit cards and most major banks have ATM machines. A currency converter has been included at this website for your convenience. The currency converted is currently unavailable, please check back soon.\n"
     ]
    },
    {
     "name": "stderr",
     "output_type": "stream",
     "text": [
      "C:\\Users\\pc\\AppData\\Local\\Temp\\ipykernel_3448\\740527247.py:35: FutureWarning: The frame.append method is deprecated and will be removed from pandas in a future version. Use pandas.concat instead.\n",
      "  df = df.append({\n",
      "C:\\Users\\pc\\AppData\\Local\\Temp\\ipykernel_3448\\740527247.py:7: DeprecationWarning: executable_path has been deprecated, please pass in a Service object\n",
      "  driver = webdriver.Chrome(chrome_driver_path)\n"
     ]
    },
    {
     "name": "stdout",
     "output_type": "stream",
     "text": [
      "Travelling To and Around Morocco\n",
      "Make sure you're mobile by using any one of the many forms of transport in Morocco. Whether you choose to travel by bus, train, car or air, you'll be sure to get to your destination quickly! Air\n",
      "RAM (Royal Air Maroc) operates domestic flights from Casablanca to major cities nationwide. Between any other two points, you will usually have to change planes at Casablanca, unless both points are stops on a single Casa-bound flight. In general flight is expensive, but it will save you a lot of time. Sea\n",
      "Car Ferry Services are available from Algeciras to Tangier as well as from Sete, France to Tangier. Passengers can also be ferried from Gibraltar to Tangier. Further information may be collected at the Moroccan National Tourist Office. Train\n",
      "The trains in Morocco are very comfortable and fairly inexpensive. They cover a limited network of routes, but travel between the major cities. They are easily the best option. They are reliable, comfortable, fast, and efficient. Shared Taxi\n",
      "The Shared Taxis are one of the best features of Moroccan transport. They operate on a wide variety of routes and are much quicker than the public buses. The fares are very reasonable. The taxis are usually big Mercedes cars carrying six passengers. Bus\n",
      "Buses are usually cheaper than the shared taxis and they do more regular routes. Shared Taxis will bring you to your destination much faster, but the buses are far more comfortable and safer. Car\n",
      "There aren’t many problems with driving a car in Morocco. The speed limit in town is 50km/hour and outside town on the highways it is 100km/hour. By law all drivers and passengers are required to wear seatbelts. However you should be careful of driving at night. It is legal to drive without lights at up to 20km/hour and there are many cyclists, animals and hikers at night. There are many car rental depots, though you should have insurance and they are very expensive. The petrol prices in Morocco are also fairly high. Motorbike Motorcycling in Morocco is increasing each year. Although you should be careful of your safety at night, you will be able to visit all the sought after places for the enthusiast. It will be advisable to take a good tool kit and puncture repair kit.\n"
     ]
    },
    {
     "name": "stderr",
     "output_type": "stream",
     "text": [
      "C:\\Users\\pc\\AppData\\Local\\Temp\\ipykernel_3448\\740527247.py:35: FutureWarning: The frame.append method is deprecated and will be removed from pandas in a future version. Use pandas.concat instead.\n",
      "  df = df.append({\n",
      "C:\\Users\\pc\\AppData\\Local\\Temp\\ipykernel_3448\\740527247.py:7: DeprecationWarning: executable_path has been deprecated, please pass in a Service object\n",
      "  driver = webdriver.Chrome(chrome_driver_path)\n"
     ]
    },
    {
     "name": "stdout",
     "output_type": "stream",
     "text": [
      "Health Advice when Travelling to Morocco\n",
      "Below are some handy tips to staying healthy during your holiday in Morocco... Climate and Health\n",
      "The climate and general conditions of Morocco shouldn’t pose a risk to most healthy people. The Atlantic Coast, however, will pose a problem for asthma sufferers, people with rheumatism and people who have liver problems. Due to the extreme heat during the summer months, it is recommended that you keep plenty of water and fruit on your person. Water\n",
      "Most minor health complaints can be solved by visiting a pharmacy. However you can also try and be prepared for certain health complaints that you can expect along the way. You should also pack in water purification tablets. Though most water in Morocco is safe for consumption, you might want to use them in the southern regions of Morocco where bilharzia and schistosomiasis has been a problem in the past. Never drink from mountain streams unless a local says it is safe to do so. The purification tablets are also handy for bartering with Moroccans living in isolated areas. Diarrhea\n",
      "Most visitors will experience diarrhea at some stage. This is usually due to a sensitive stomach. If it occurs, it is suggested that you change your diet to simpler foods and take measures to re-hydrate your body. Oral re-hydration salts are good for this purpose. Usually it is nothing to worry about but if symptoms persist for a week or get worse, you should seek professional help. Dangerous Animals\n",
      "If you are trekking or hiking in Morocco, you should know that there are several hazardous if not potentially deadly creatures living in the area. Snakes, scorpions and palm rats can all deliver nasty and dangerous bites in the blink of an eye. However, being bitten is not a frequent occurrence and most travelers will never even see these animals. Morocco is considered to be a non-malaria region so you do not have to get any inoculations. Sexually Transmitted Diseases\n",
      "AIDS, hepatitis and other sexually transmitted diseases do exist in Morocco, though the rate of infection is very low. If it is your intention to practice sexual acts in this country, it is suggested that you exercise the same amount of caution as you would in any other country. It is also not a bad idea to bring your own condoms. Health Insurance\n",
      "Full health Insurance is recommended. However, remember that the majority of health risks do not affect many tourists and this should not deter you from making a trip to Morocco.\n"
     ]
    },
    {
     "name": "stderr",
     "output_type": "stream",
     "text": [
      "C:\\Users\\pc\\AppData\\Local\\Temp\\ipykernel_3448\\740527247.py:35: FutureWarning: The frame.append method is deprecated and will be removed from pandas in a future version. Use pandas.concat instead.\n",
      "  df = df.append({\n",
      "C:\\Users\\pc\\AppData\\Local\\Temp\\ipykernel_3448\\740527247.py:7: DeprecationWarning: executable_path has been deprecated, please pass in a Service object\n",
      "  driver = webdriver.Chrome(chrome_driver_path)\n"
     ]
    },
    {
     "name": "stdout",
     "output_type": "stream",
     "text": [
      "Tour Operators – Adventure and Scenic Tours of Morocco\n",
      "While exploring Morocco without the assistance of a tour operator can be exciting, if your time is limited, or you want to make sure that you don't miss out on anything in the city or region you're exploring, it really is a good idea to make use of the services of a tour operator. Check out the Morocco.com Business Listings for a tour operator in the area of your choice. Be sure to let the tour operator know what you expect from your trip, as they may be able to tailor-make your Moroccan adventure to your requirements. However, be open to suggestions from the tour operator - after all, they are the experts in their field and are keen to show you the very best that this exotic vacation destination has to offer. \n"
     ]
    },
    {
     "name": "stderr",
     "output_type": "stream",
     "text": [
      "C:\\Users\\pc\\AppData\\Local\\Temp\\ipykernel_3448\\740527247.py:35: FutureWarning: The frame.append method is deprecated and will be removed from pandas in a future version. Use pandas.concat instead.\n",
      "  df = df.append({\n",
      "C:\\Users\\pc\\AppData\\Local\\Temp\\ipykernel_3448\\740527247.py:7: DeprecationWarning: executable_path has been deprecated, please pass in a Service object\n",
      "  driver = webdriver.Chrome(chrome_driver_path)\n"
     ]
    },
    {
     "name": "stdout",
     "output_type": "stream",
     "text": [
      "Visa and Passport Info when Travelling to Morocco\n",
      "British passport holders do not need any visas to get into Morocco. Your stay as a visitor is restricted to three months, but may be extended at a Moroccan police station.The majority of Western Sahara isn't that great for travel as its under military control and is thus quite restricted. Visiting areas outside of recognized tourist areas isn't recommended for safety reasons. Travel regulations are known to change without notice to the public. We\n",
      "recommend that before you travel, check the current regulations with your travel agent.   VISAS: Required by all except the following:\n",
      "Nationals of countries shown in the chart above for stays of up to 3 months;\n",
      "Nationals of Andorra, Argentina, Bahrain, Brazil, Chile, Congo (Rep), Côte d’Ivoire, Guinea, Hungary, Iceland, Indonesia, Korea (Rep), Kuwait, Libya, Liechtenstein, Mali, Malta, Mexico, Monaco, Niger, Norway, Oman, Peru, Philippines, Puerto Rico, Qatar, Romania, Saudi Arabia, Senegal, Singapore, Switzerland, Tunisia, Turkey, United Arab Emirates and Venezuela for stays of up to three months. Transit passengers continuing their journey by the same or first connecting aircraft within 24 hours provided holding onward or return documentation and not leaving the airport. What documents will be required?\n",
      "In order to enter Morocco: Please Note: Entry visas are only valid for three months; visitors that wish to stay longer should apply at the local police station within fifteen days of arrival. For other visa enquiries you should contact the Embassy.\n"
     ]
    },
    {
     "name": "stderr",
     "output_type": "stream",
     "text": [
      "C:\\Users\\pc\\AppData\\Local\\Temp\\ipykernel_3448\\740527247.py:35: FutureWarning: The frame.append method is deprecated and will be removed from pandas in a future version. Use pandas.concat instead.\n",
      "  df = df.append({\n"
     ]
    }
   ],
   "source": [
    "from selenium import webdriver\n",
    "from bs4 import BeautifulSoup\n",
    "from time import sleep\n",
    "\n",
    "for link in urls_essentials:\n",
    "    chrome_driver_path = \"C:\\\\Users\\\\pc\\\\OneDrive\\\\Documents\\\\chromedriver-win64\\\\chromedriver.exe\"\n",
    "    driver = webdriver.Chrome(chrome_driver_path)\n",
    "    driver.get(link)\n",
    "    sleep(5)  # Add a pause to ensure content loads properly\n",
    "\n",
    "    # Retrieve the content of the page with BeautifulSoup\n",
    "    src = driver.page_source\n",
    "    soup = BeautifulSoup(src, 'html.parser')\n",
    "    \n",
    "    # Get the title\n",
    "    title = soup.find('h1', class_='page-title').get_text()\n",
    "    print(title)\n",
    "    \n",
    "    # Get the excerpt paragraphs\n",
    "    paragraphs = soup.find('div', class_='excerpt')\n",
    "    excerpt_text = paragraphs.get_text().strip() if paragraphs else \"\"\n",
    "    #print(excerpt_text)\n",
    "    \n",
    "    # Get the content paragraphs\n",
    "    content_div = soup.find('div', class_='content-text')\n",
    "    paragraphs = content_div.find_all('p') if content_div else []\n",
    "    filtered_paragraphs = [p for p in paragraphs if 'back-to-category' not in p.get('class', [])]\n",
    "    \n",
    "    # Join the text from the filtered p tags\n",
    "    joined_text = ' '.join(p.get_text() for p in filtered_paragraphs)\n",
    "    \n",
    "    # Concatenate the excerpt text with the joined paragraphs text\n",
    "    combined_text = excerpt_text + ' ' + joined_text\n",
    "    print(combined_text)\n",
    "    df = df.append({\n",
    "            'Prompt':title,\n",
    "            'Response':combined_text\n",
    "        }, ignore_index=True)\n",
    "    # Close the browser after processing each link\n",
    "    driver.quit()\n"
   ]
  },
  {
   "cell_type": "code",
   "execution_count": 57,
   "id": "44c86fdf",
   "metadata": {},
   "outputs": [
    {
     "data": {
      "text/html": [
       "<div>\n",
       "<style scoped>\n",
       "    .dataframe tbody tr th:only-of-type {\n",
       "        vertical-align: middle;\n",
       "    }\n",
       "\n",
       "    .dataframe tbody tr th {\n",
       "        vertical-align: top;\n",
       "    }\n",
       "\n",
       "    .dataframe thead th {\n",
       "        text-align: right;\n",
       "    }\n",
       "</style>\n",
       "<table border=\"1\" class=\"dataframe\">\n",
       "  <thead>\n",
       "    <tr style=\"text-align: right;\">\n",
       "      <th></th>\n",
       "      <th>Prompt</th>\n",
       "      <th>Response</th>\n",
       "    </tr>\n",
       "  </thead>\n",
       "  <tbody>\n",
       "    <tr>\n",
       "      <th>0</th>\n",
       "      <td>Travel to Agadir in Morocco</td>\n",
       "      <td>Agadir is Southern Morocco's most visited city...</td>\n",
       "    </tr>\n",
       "    <tr>\n",
       "      <th>1</th>\n",
       "      <td>Accommodation</td>\n",
       "      <td>There are plenty of hotels to choose from in M...</td>\n",
       "    </tr>\n",
       "    <tr>\n",
       "      <th>2</th>\n",
       "      <td>Beaches</td>\n",
       "      <td>The lack of monuments, museums and interesting...</td>\n",
       "    </tr>\n",
       "    <tr>\n",
       "      <th>3</th>\n",
       "      <td>Things to See &amp; Do</td>\n",
       "      <td>The Valley of the Birds (daily from 09:30-12:3...</td>\n",
       "    </tr>\n",
       "    <tr>\n",
       "      <th>4</th>\n",
       "      <td>Cuisine &amp; Nightlife</td>\n",
       "      <td>Besides what the large hotels have, there’s no...</td>\n",
       "    </tr>\n",
       "    <tr>\n",
       "      <th>...</th>\n",
       "      <td>...</td>\n",
       "      <td>...</td>\n",
       "    </tr>\n",
       "    <tr>\n",
       "      <th>234</th>\n",
       "      <td>Currency Converter</td>\n",
       "      <td>The following is a guide to Moroccan currencie...</td>\n",
       "    </tr>\n",
       "    <tr>\n",
       "      <th>235</th>\n",
       "      <td>Travelling To and Around Morocco</td>\n",
       "      <td>Make sure you're mobile by using any one of th...</td>\n",
       "    </tr>\n",
       "    <tr>\n",
       "      <th>236</th>\n",
       "      <td>Health Advice when Travelling to Morocco</td>\n",
       "      <td>Below are some handy tips to staying healthy d...</td>\n",
       "    </tr>\n",
       "    <tr>\n",
       "      <th>237</th>\n",
       "      <td>Tour Operators – Adventure and Scenic Tours of...</td>\n",
       "      <td>While exploring Morocco without the assistance...</td>\n",
       "    </tr>\n",
       "    <tr>\n",
       "      <th>238</th>\n",
       "      <td>Visa and Passport Info when Travelling to Morocco</td>\n",
       "      <td>British passport holders do not need any visas...</td>\n",
       "    </tr>\n",
       "  </tbody>\n",
       "</table>\n",
       "<p>239 rows × 2 columns</p>\n",
       "</div>"
      ],
      "text/plain": [
       "                                                Prompt  \\\n",
       "0                          Travel to Agadir in Morocco   \n",
       "1                                        Accommodation   \n",
       "2                                              Beaches   \n",
       "3                                   Things to See & Do   \n",
       "4                                  Cuisine & Nightlife   \n",
       "..                                                 ...   \n",
       "234                                 Currency Converter   \n",
       "235                   Travelling To and Around Morocco   \n",
       "236           Health Advice when Travelling to Morocco   \n",
       "237  Tour Operators – Adventure and Scenic Tours of...   \n",
       "238  Visa and Passport Info when Travelling to Morocco   \n",
       "\n",
       "                                              Response  \n",
       "0    Agadir is Southern Morocco's most visited city...  \n",
       "1    There are plenty of hotels to choose from in M...  \n",
       "2    The lack of monuments, museums and interesting...  \n",
       "3    The Valley of the Birds (daily from 09:30-12:3...  \n",
       "4    Besides what the large hotels have, there’s no...  \n",
       "..                                                 ...  \n",
       "234  The following is a guide to Moroccan currencie...  \n",
       "235  Make sure you're mobile by using any one of th...  \n",
       "236  Below are some handy tips to staying healthy d...  \n",
       "237  While exploring Morocco without the assistance...  \n",
       "238  British passport holders do not need any visas...  \n",
       "\n",
       "[239 rows x 2 columns]"
      ]
     },
     "execution_count": 57,
     "metadata": {},
     "output_type": "execute_result"
    }
   ],
   "source": [
    "df"
   ]
  },
  {
   "cell_type": "code",
   "execution_count": 58,
   "id": "49ad4b7e",
   "metadata": {},
   "outputs": [],
   "source": [
    "urls_train_stations = [\n",
    "    \"https://www.morocco.com/travel/train-stations/casa-port/\",\n",
    "    \"https://www.morocco.com/travel/train-stations/casa-voyageurs/\",\n",
    "    \"https://www.morocco.com/travel/train-stations/marrakech-2/\",\n",
    "    \"https://www.morocco.com/travel/train-stations/rabat-ville/\",\n",
    "    \"https://www.morocco.com/travel/train-stations/tanger-ville/\"\n",
    "]\n"
   ]
  },
  {
   "cell_type": "code",
   "execution_count": 59,
   "id": "4233031c",
   "metadata": {},
   "outputs": [
    {
     "name": "stderr",
     "output_type": "stream",
     "text": [
      "C:\\Users\\pc\\AppData\\Local\\Temp\\ipykernel_3448\\1832516716.py:7: DeprecationWarning: executable_path has been deprecated, please pass in a Service object\n",
      "  driver = webdriver.Chrome(chrome_driver_path)\n"
     ]
    },
    {
     "name": "stdout",
     "output_type": "stream",
     "text": [
      "Casa Port Station – Travel by Train to Casablanca\n",
      "ONCF is the national rail service in Morocco with a total of 669,637 passenger cars serving 1,893 kilometers of track. ONCF provides over 9,767 thousand people with jobs and has thousands of passengers using its services every year. Every two hours there is a train leaving one of the many stations in Morocco providing passengers with reasonably good rail service. In Casablanca, ONCF has established two rail stations: Casa Voyageurs and Casa Port. These two stations are only five kilometers away from each other. Casa Voyageurs is the bigger of the two stations and provides all the long distance train trips around Morocco as well as in and out of the country. Some of the routes that the Casa Voyageurs Station provides are to destinations like Marrakech (El Jadida) in the south, Rabat in the north and to Fes, Oujda and Tangier (Meknes). Mohammed V International Airport has an airport shuttle service, which stops at Casa Voyageurs Station for passengers wanting to go onto further destinations. The smaller station, Casa Port, is situated near the port in Casablanca and serves mainly passenger or commuter trains coming from the city of Kenitra to Casablanca. Casa Port Station also serves trains that connect to Casa Voyageurs Station. Passengers can choose from first and second-class passenger cars when they go and buy tickets at the Casa Port Station. There is not much difference in the price between the first and second-class coaches. The second-class compartments can take up to six passengers comfortably. They have air conditioning and clean padded seats. Casablanca is a wonderful city to visit and is located in the western parts of Morocco near the Atlantic Ocean. There are over 3.9 million people living in the largest city and port in Morocco. The majority of the inhabitants of Casablanca live in urban areas. Trains leaving Casa Port and Casa Voyageurs Stations provide passengers with a relaxing trip to whatever destination they are going. You get a wonderful opportunity to see the Moroccan landscape in all its varied forms. You will see from dry country landscapes, urban cities, tropical palms and mountainous areas. It really is a treat, so if there is a destination or a friend you want to visit, then head on down to Casa Port Station and buy your tickets.\n"
     ]
    },
    {
     "name": "stderr",
     "output_type": "stream",
     "text": [
      "C:\\Users\\pc\\AppData\\Local\\Temp\\ipykernel_3448\\1832516716.py:35: FutureWarning: The frame.append method is deprecated and will be removed from pandas in a future version. Use pandas.concat instead.\n",
      "  df = df.append({\n",
      "C:\\Users\\pc\\AppData\\Local\\Temp\\ipykernel_3448\\1832516716.py:7: DeprecationWarning: executable_path has been deprecated, please pass in a Service object\n",
      "  driver = webdriver.Chrome(chrome_driver_path)\n"
     ]
    },
    {
     "name": "stdout",
     "output_type": "stream",
     "text": [
      "Casablanca Voyageurs Train Station – Safe and Cheap Transport\n",
      "Casablanca is an important port city in Morocco and one of the largest in the country. It is also home to the Royal Moroccan Navy and its rail history started in the year 1907 when the French tried to construct a railway near the city’s port. Today the Casablanca Voyageurs or Casa Voyageurs train station is a vital part of the Casablanca’s transport network. The Casablanca Voyageurs station is the main railway station in Casablanca, with the smaller Casa Port Railway Station located nearby. This secondary station, Casa Port, only deals with commuter trains and very few of the trains that leave Casa Voyageurs stop here. For travelers, the railway station in Casablanca is vital for their journey through Morocco, as trains at this station service many different destinations. A train also runs between the airport and the Casablanca Voyageurs. This train trip usually takes about thirty-five minutes. Most of the railway stations in Morocco are not clearly marked or signposted. For a railway station to be easily recognizable and be a landmark, makes it easier for travelers to orientate themselves in a new city and to find the station without problems. The Casa Voyageurs is no different. From the street, the bright, white walls and large parking area are a sight that cannot be missed. The railway station building also has a very high clock tower that rises almost two to three stories above the entrance. The Casablanca Voyageurs is an extremely clean and beautiful building from inside. Its age is given away by its elegantly high, dome-shaped ceilings. Its walls are painted in a light crème shade and the chandeliers and wall lights brighten up the building. All the platforms of the train station in Casablanca are undercover, neat and well maintained. Large electronic display boards inform travelers and passengers of the relevant times, platforms and train numbers of departing and arriving trains. Any delays are also indicated on the boards. The Casablanca Voyageurs is serviced by the state owned ONCF Railway Company and trains run to destinations such as Rabat, Marrakech, Meknes, Tangier, Fes and El Jadida. There are generally two trains that leave in the morning, two in the afternoon and one in the early evening. Trains are a safe, comfortable and very cheap mode of transport in Morocco and local passengers are usually friendly and courteous. Travelers will find buses and taxis outside the railway station which will be able to transport them to their hotels or final destinations.\n"
     ]
    },
    {
     "name": "stderr",
     "output_type": "stream",
     "text": [
      "C:\\Users\\pc\\AppData\\Local\\Temp\\ipykernel_3448\\1832516716.py:35: FutureWarning: The frame.append method is deprecated and will be removed from pandas in a future version. Use pandas.concat instead.\n",
      "  df = df.append({\n",
      "C:\\Users\\pc\\AppData\\Local\\Temp\\ipykernel_3448\\1832516716.py:7: DeprecationWarning: executable_path has been deprecated, please pass in a Service object\n",
      "  driver = webdriver.Chrome(chrome_driver_path)\n"
     ]
    },
    {
     "name": "stdout",
     "output_type": "stream",
     "text": [
      "Marrakech Railway Station – Recognizable Landmark and Easy Transport\n",
      "There are many travelers that flock to Marrakech because of its beauty and easy-going atmosphere. It is a city that was immortalized by Winston Churchill in his well-publicized War Memoirs. He wrote: \"Here, surrounded by its extensive palm-groves that have sprung out of the desert, the traveler may rest assured that he will never tire of the majestic view of the snow-covered Atlas Mountains. The sun is dazzling and warm, but never unbearably so; the air is sharp and refreshing, yet never unpleasantly cold; the days are perfect, the nights are cool.\" And waiting to welcome you to this spectacular city is the Marrakech Railway Station. The Marrakech Railway Station is a recognizable landmark with its pure white buildings that stand out from the backdrop of the Atlas Mountains. It is the only train station in Marrakech and there are regular trains between various destinations such as Casablanca, Tangier, Rabat and Fez. The train station in Marrakech is known to locals as the Gare de Marrakech. The station forms part of the Moroccan State Railway and this means that the trains and the Marrakech Railway Station building falls under the management of ONFC. This beautiful reminder of the colonial era offers travelers a safe, reliable and affordable form of transport. The Marrakech Railway Station has a direct travel route to Tangier, which is an overnight route, and direct rail services to cities such as Fez, Rabat and Casablanca. Tickets can be booked in advance and first class coaches are fitted with air-conditioning systems. They have both steam and electric trains that service their lines. Since they are located at the end of the railway line, the selection of destinations that are offered are somewhat limited. Being located near the Medina and the Ville Nouvelle, the railway station in Marrakech is within walking distance of the most visited areas and most popular traveler accommodation. There is a bus service and many taxis that wait outside the station, but getting to one of these can be a fight at times. The station is located on Avenue Hassan II in Marrakesh and can be contacted by telephone on (+212 0) 244 465 69 (Number subject to change). Any queries or timetable and cost information can be found on the ONCF website. The Marrakesh Railway Station also offers travelers services such as ticket purchasing, train information boards and refreshments to make their journey more comfortable and enjoyable.\n"
     ]
    },
    {
     "name": "stderr",
     "output_type": "stream",
     "text": [
      "C:\\Users\\pc\\AppData\\Local\\Temp\\ipykernel_3448\\1832516716.py:35: FutureWarning: The frame.append method is deprecated and will be removed from pandas in a future version. Use pandas.concat instead.\n",
      "  df = df.append({\n",
      "C:\\Users\\pc\\AppData\\Local\\Temp\\ipykernel_3448\\1832516716.py:7: DeprecationWarning: executable_path has been deprecated, please pass in a Service object\n",
      "  driver = webdriver.Chrome(chrome_driver_path)\n"
     ]
    },
    {
     "name": "stdout",
     "output_type": "stream",
     "text": [
      "Rabat Ville Train Station – Travel to Rabat from the Airport\n",
      "When arriving at the Mohamed V International Airport, travelers will be able to board a train that will transport them directly to Rabat or to Casablanca. Trains leave the airport at hourly intervals and a ticket from the airport to the Rabat Ville Train Station will cost travelers in the region of 80 dirhams (Price subject to change). Travelers should be attentive when requesting a ticket or when disembarking the train, as Rabat has two train stations, namely the Rabat Agdal Station and the Rabat Ville Station. The Rabat Ville Station is the main train station in Rabat and passengers should ensure that they have reached the correct station. The faded and discolored white walls of the Rabat Ville Station building might raise a few eyebrows, even though the water fountain outside the front of the building is beautiful. But it is what you find when you pass through the arched entrance that really amazes. The main train station in Rabat is completely modernized on the inside of the building. It is clean and well maintained with electronic display boards and refreshment kiosks. There are many passenger services available and travelers will even be able to hire a car for their journey from within the Rabat Ville Station. The platforms are also very neat, but are not completely covered. There are waiting chairs available where passengers will be able to find some shade. Many travelers try to overnight in the Rabat Ville Station as it is very safe and secure. Unfortunately the station is closed between the early morning hours of one o’clock to three o’clock. Those that opt for curling up in the front of the station are usually reminded by friendly and helpful policemen that sleeping might not be such a good idea. Their presence does form a blanket of security around the area and most end up dozing off again. In addition, the station is not completely deserted as some of the cleaning staff work during these hours. Another favorable fact about the main station in Rabat is that it is located near to most tourist hotels, accommodation and attractions. Its safety and the comfortable journeys it offers makes train travel a popular mode of transport in Morocco. It is also very affordable and taxis and buses are available outside the train station, even though most passengers walk to the station because of its close proximity to Ville Nouvelle. For bookings or general inquiries you can contact the Rabat Ville Train Station by telephone on (+212 37) 70 14 69 (Contact number subject to change). The ONCF website is also very helpful in regard to train schedules and routes.\n"
     ]
    },
    {
     "name": "stderr",
     "output_type": "stream",
     "text": [
      "C:\\Users\\pc\\AppData\\Local\\Temp\\ipykernel_3448\\1832516716.py:35: FutureWarning: The frame.append method is deprecated and will be removed from pandas in a future version. Use pandas.concat instead.\n",
      "  df = df.append({\n",
      "C:\\Users\\pc\\AppData\\Local\\Temp\\ipykernel_3448\\1832516716.py:7: DeprecationWarning: executable_path has been deprecated, please pass in a Service object\n",
      "  driver = webdriver.Chrome(chrome_driver_path)\n"
     ]
    },
    {
     "name": "stdout",
     "output_type": "stream",
     "text": [
      "Tanger Ville Train Station – Closest Station to the City Centre\n",
      "ONCF, Morocco's national railway operator, opened Tanger Ville in 2003. Tanger Morora Station was the original end of the line, but since Tanger Ville Station has been created it has taken over this role and is now the closest station to the city center. There are numerous trains coming through Tanger Ville every day, so you won't have to wait long to catch yours. Since September 2006 ONCF has been working on another large project in an attempt to keep up with the ongoing changes that are taking place with train stations all over the world. The project puts forward a proposition to create a high-speed rail. The high-speed rail is one of the first of its kind in Morocco and will connect, in the beginning, Tangier to Marrakech. At the moment all passengers traveling on trains from Tangier to Marrakech have to endure a long ten-hour trip before they reach their destination. With the proposed high-speed rail passengers will be able to enjoy a two and a half hour train trip. This will reduce the train trip by seven and a half hours! Once the proposal has been approved it will probably only start operating by 2030. ONCF employs about 9767 people to keep all the train stations that it owns and supervises running smoothly. ONCF not only provides passenger transport from train stations like Tanger Ville, it also provides goods transportation and phosphate transportation. ONCF continues to try and improve the train stations and services available to the thousands of passengers who use their services each year. Morocco has an excellent railway system, which provides over-night train services throughout Europe, connecting these countries to Morocco, as well as excellent intercity passenger services. Altogether the railway system uses a total of 669,637 passenger cars and has 1,893 kilometers, or 1,176 miles, of track. There are direct, non-stop trains and non-direct trains, which include unscheduled stops at various destinations. Traveling by train in Morocco provides relatively cheap transport. There is not much difference between the second-class and first class tickets, but there are a few advantages that you may want to keep in mind. Second class compartments tend to be a little more cramped and not as comfortable, whereas first class compartments are more spacious and the seats are more comfortable.\n"
     ]
    },
    {
     "name": "stderr",
     "output_type": "stream",
     "text": [
      "C:\\Users\\pc\\AppData\\Local\\Temp\\ipykernel_3448\\1832516716.py:35: FutureWarning: The frame.append method is deprecated and will be removed from pandas in a future version. Use pandas.concat instead.\n",
      "  df = df.append({\n"
     ]
    }
   ],
   "source": [
    "from selenium import webdriver\n",
    "from bs4 import BeautifulSoup\n",
    "from time import sleep\n",
    "\n",
    "for link in urls_train_stations:\n",
    "    chrome_driver_path = \"C:\\\\Users\\\\pc\\\\OneDrive\\\\Documents\\\\chromedriver-win64\\\\chromedriver.exe\"\n",
    "    driver = webdriver.Chrome(chrome_driver_path)\n",
    "    driver.get(link)\n",
    "    sleep(5)  # Add a pause to ensure content loads properly\n",
    "\n",
    "    # Retrieve the content of the page with BeautifulSoup\n",
    "    src = driver.page_source\n",
    "    soup = BeautifulSoup(src, 'html.parser')\n",
    "    \n",
    "    # Get the title\n",
    "    title = soup.find('h1', class_='page-title').get_text()\n",
    "    print(title)\n",
    "    \n",
    "    # Get the excerpt paragraphs\n",
    "    paragraphs = soup.find('div', class_='excerpt')\n",
    "    excerpt_text = paragraphs.get_text().strip() if paragraphs else \"\"\n",
    "    #print(excerpt_text)\n",
    "    \n",
    "    # Get the content paragraphs\n",
    "    content_div = soup.find('div', class_='content-text')\n",
    "    paragraphs = content_div.find_all('p') if content_div else []\n",
    "    filtered_paragraphs = [p for p in paragraphs if 'back-to-category' not in p.get('class', [])]\n",
    "    \n",
    "    # Join the text from the filtered p tags\n",
    "    joined_text = ' '.join(p.get_text() for p in filtered_paragraphs)\n",
    "    \n",
    "    # Concatenate the excerpt text with the joined paragraphs text\n",
    "    combined_text = excerpt_text + ' ' + joined_text\n",
    "    print(combined_text)\n",
    "    df = df.append({\n",
    "            'Prompt':title,\n",
    "            'Response':combined_text\n",
    "        }, ignore_index=True)\n",
    "    # Close the browser after processing each link\n",
    "    driver.quit()\n"
   ]
  },
  {
   "cell_type": "code",
   "execution_count": 60,
   "id": "5534f0f4",
   "metadata": {},
   "outputs": [
    {
     "data": {
      "text/html": [
       "<div>\n",
       "<style scoped>\n",
       "    .dataframe tbody tr th:only-of-type {\n",
       "        vertical-align: middle;\n",
       "    }\n",
       "\n",
       "    .dataframe tbody tr th {\n",
       "        vertical-align: top;\n",
       "    }\n",
       "\n",
       "    .dataframe thead th {\n",
       "        text-align: right;\n",
       "    }\n",
       "</style>\n",
       "<table border=\"1\" class=\"dataframe\">\n",
       "  <thead>\n",
       "    <tr style=\"text-align: right;\">\n",
       "      <th></th>\n",
       "      <th>Prompt</th>\n",
       "      <th>Response</th>\n",
       "    </tr>\n",
       "  </thead>\n",
       "  <tbody>\n",
       "    <tr>\n",
       "      <th>0</th>\n",
       "      <td>Travel to Agadir in Morocco</td>\n",
       "      <td>Agadir is Southern Morocco's most visited city...</td>\n",
       "    </tr>\n",
       "    <tr>\n",
       "      <th>1</th>\n",
       "      <td>Accommodation</td>\n",
       "      <td>There are plenty of hotels to choose from in M...</td>\n",
       "    </tr>\n",
       "    <tr>\n",
       "      <th>2</th>\n",
       "      <td>Beaches</td>\n",
       "      <td>The lack of monuments, museums and interesting...</td>\n",
       "    </tr>\n",
       "    <tr>\n",
       "      <th>3</th>\n",
       "      <td>Things to See &amp; Do</td>\n",
       "      <td>The Valley of the Birds (daily from 09:30-12:3...</td>\n",
       "    </tr>\n",
       "    <tr>\n",
       "      <th>4</th>\n",
       "      <td>Cuisine &amp; Nightlife</td>\n",
       "      <td>Besides what the large hotels have, there’s no...</td>\n",
       "    </tr>\n",
       "    <tr>\n",
       "      <th>...</th>\n",
       "      <td>...</td>\n",
       "      <td>...</td>\n",
       "    </tr>\n",
       "    <tr>\n",
       "      <th>239</th>\n",
       "      <td>Casa Port Station – Travel by Train to Casablanca</td>\n",
       "      <td>ONCF is the national rail service in Morocco w...</td>\n",
       "    </tr>\n",
       "    <tr>\n",
       "      <th>240</th>\n",
       "      <td>Casablanca Voyageurs Train Station – Safe and ...</td>\n",
       "      <td>Casablanca is an important port city in Morocc...</td>\n",
       "    </tr>\n",
       "    <tr>\n",
       "      <th>241</th>\n",
       "      <td>Marrakech Railway Station – Recognizable Landm...</td>\n",
       "      <td>There are many travelers that flock to Marrake...</td>\n",
       "    </tr>\n",
       "    <tr>\n",
       "      <th>242</th>\n",
       "      <td>Rabat Ville Train Station – Travel to Rabat fr...</td>\n",
       "      <td>When arriving at the Mohamed V International A...</td>\n",
       "    </tr>\n",
       "    <tr>\n",
       "      <th>243</th>\n",
       "      <td>Tanger Ville Train Station – Closest Station t...</td>\n",
       "      <td>ONCF, Morocco's national railway operator, ope...</td>\n",
       "    </tr>\n",
       "  </tbody>\n",
       "</table>\n",
       "<p>244 rows × 2 columns</p>\n",
       "</div>"
      ],
      "text/plain": [
       "                                                Prompt  \\\n",
       "0                          Travel to Agadir in Morocco   \n",
       "1                                        Accommodation   \n",
       "2                                              Beaches   \n",
       "3                                   Things to See & Do   \n",
       "4                                  Cuisine & Nightlife   \n",
       "..                                                 ...   \n",
       "239  Casa Port Station – Travel by Train to Casablanca   \n",
       "240  Casablanca Voyageurs Train Station – Safe and ...   \n",
       "241  Marrakech Railway Station – Recognizable Landm...   \n",
       "242  Rabat Ville Train Station – Travel to Rabat fr...   \n",
       "243  Tanger Ville Train Station – Closest Station t...   \n",
       "\n",
       "                                              Response  \n",
       "0    Agadir is Southern Morocco's most visited city...  \n",
       "1    There are plenty of hotels to choose from in M...  \n",
       "2    The lack of monuments, museums and interesting...  \n",
       "3    The Valley of the Birds (daily from 09:30-12:3...  \n",
       "4    Besides what the large hotels have, there’s no...  \n",
       "..                                                 ...  \n",
       "239  ONCF is the national rail service in Morocco w...  \n",
       "240  Casablanca is an important port city in Morocc...  \n",
       "241  There are many travelers that flock to Marrake...  \n",
       "242  When arriving at the Mohamed V International A...  \n",
       "243  ONCF, Morocco's national railway operator, ope...  \n",
       "\n",
       "[244 rows x 2 columns]"
      ]
     },
     "execution_count": 60,
     "metadata": {},
     "output_type": "execute_result"
    }
   ],
   "source": [
    "df"
   ]
  },
  {
   "cell_type": "code",
   "execution_count": 63,
   "id": "98256585",
   "metadata": {},
   "outputs": [],
   "source": [
    "links=['https://www.morocco.com/business/currency/',\n",
    "      'https://www.morocco.com/business/classifieds/',\n",
    "      'https://www.morocco.com/business/demographics/',\n",
    "      'https://www.morocco.com/business/shopping/',\n",
    "      'https://www.morocco.com/business/stock-market/',\n",
    "      'https://www.morocco.com/business/translation/',\n",
    "     'https://www.morocco.com/business/tv/']"
   ]
  },
  {
   "cell_type": "code",
   "execution_count": 64,
   "id": "467718f9",
   "metadata": {},
   "outputs": [
    {
     "name": "stderr",
     "output_type": "stream",
     "text": [
      "C:\\Users\\pc\\AppData\\Local\\Temp\\ipykernel_3448\\4213806409.py:7: DeprecationWarning: executable_path has been deprecated, please pass in a Service object\n",
      "  driver = webdriver.Chrome(chrome_driver_path)\n"
     ]
    },
    {
     "name": "stdout",
     "output_type": "stream",
     "text": [
      "Money in Morocco – Dirham, Francs and Pestas\n",
      "If you are planning to travel to Morocco, it would be wise to exchange some of your money into Moroccan dirhams (MAD/DH). It would also be prudent to spend a little time getting to know how the local currency works since visitors to this exciting country often find it quite confusing. Essentially, the currency of Morocco is quite simple. A dirham is made up of 100 centimes but confusion arises with the introduction of rials (also reales). In the majority of the country, 20 rials make up a dirham. However in Tangier and the Rif, only two rials are needed to make a Dirham. The rial is more of a form of monetary expression than an actual monetary unit and this is why it has no set standard. To add to the confusion, centimes are sometimes also called francs and pesetas in certain parts of the country. If you are bargaining for an item, it is usually best to ascertain exactly how many dirhams or centimes the seller is marketing his goods for. Moroccan coins are available in 5c 10c 20c, 50c, 1dh, 5dh and 10dh. Notes are available in 20dh, 50dh, 100dh and 200dh. While the Moroccan economy is fairly stable you may find that you will be able to buy dirhams at a cheaper rate at some travel agents in Morocco than from others so it is usually a good idea to shop around. You will be able to exchange your money at most travel agents and at most major ports or stations that regularly deal with foreigners.\n"
     ]
    },
    {
     "name": "stderr",
     "output_type": "stream",
     "text": [
      "C:\\Users\\pc\\AppData\\Local\\Temp\\ipykernel_3448\\4213806409.py:35: FutureWarning: The frame.append method is deprecated and will be removed from pandas in a future version. Use pandas.concat instead.\n",
      "  df = df.append({\n",
      "C:\\Users\\pc\\AppData\\Local\\Temp\\ipykernel_3448\\4213806409.py:7: DeprecationWarning: executable_path has been deprecated, please pass in a Service object\n",
      "  driver = webdriver.Chrome(chrome_driver_path)\n"
     ]
    },
    {
     "name": "stdout",
     "output_type": "stream",
     "text": [
      "Classified Ads on Morocco.com\n",
      "Classifieds powered by Morocco.com is an Online Local Free Classifieds service where you can buy and sell cars, pets, furniture, real estate, personals, tickets, and more.Find what you want or get rid of what you don’t want right here on Morocco.com Classifieds. \n"
     ]
    },
    {
     "name": "stderr",
     "output_type": "stream",
     "text": [
      "C:\\Users\\pc\\AppData\\Local\\Temp\\ipykernel_3448\\4213806409.py:35: FutureWarning: The frame.append method is deprecated and will be removed from pandas in a future version. Use pandas.concat instead.\n",
      "  df = df.append({\n",
      "C:\\Users\\pc\\AppData\\Local\\Temp\\ipykernel_3448\\4213806409.py:7: DeprecationWarning: executable_path has been deprecated, please pass in a Service object\n",
      "  driver = webdriver.Chrome(chrome_driver_path)\n"
     ]
    },
    {
     "name": "stdout",
     "output_type": "stream",
     "text": [
      "Demographic Trends of Moroccan Society\n",
      "Most people living in Morocco live west of the Atlas Mountains, a 2,400-kilometer range of mountains, which start off in northwest Africa and go through Morocco, Algeria and Tunisia. The city of Tangier is a major port and is where many go to if they want to go to Spain. Casablanca is also a leading port in Morocco and is the center of Moroccan industry and commerce. Marrakech is the tourist center of the country. The seat of government is in Rabat, the capital of Morocco. The religious and cultural center of the country is the city of Fez. The Moroccan population is mainly made up of Arabs, a mixture of Arab-Berber and Sunni Muslims of Berber descent. There is also a group of people referred to as the Gnaoua and Haratin, which are a highly mixed or black race of people. There is a Jewish minority group in Morocco and a number of foreign residents of Spanish and French origin. The Berbers, indigenous people of North Africa, have made Morocco home for the last five thousand years. The Arab population found in Morocco today originated from the Arab people who conquered this territory in the 7th and 11th century. There are an estimated 34,343,219 people living in Morocco. The official language of Morocco is classical Arabic. A large number of Moroccans speak Berber while other local inhabitants use a distinct dialect called Morocco-Arabic. The unofficial language of Morocco is French, which is used primarily for economics, commerce, government and for educational purposes. In the northern parts of the country about twenty thousand Moroccans speak Spanish. English is becoming Morocco’s second foreign language and is taught in schools from the fourth year onwards. Children attending primary school receive free education in Morocco. Although education is compulsory many children, especially girls, do not attend school, which has led to high rates of illiteracy in the country. There are fourteen public universities of which Mohammed V, in Rabat, is the oldest and most prestigious in Morocco. The University of Karueein specializes in Islamic studies and Al-Akhawayn is the only private English medium University. Population: 34,343,219 – as per July 2008 estimate Age structure of population: Median age (the age which splits the population in half): Population growth rate: 1.505 percent Birth rate: 21.31 births per 1,000 of the population Death rate: 5.49 deaths per 1,000 of the population Ethnic groups: Languages: Arabic (official), Berber dialects, French Literacy (defined as aged 15 and over can read and write):\n"
     ]
    },
    {
     "name": "stderr",
     "output_type": "stream",
     "text": [
      "C:\\Users\\pc\\AppData\\Local\\Temp\\ipykernel_3448\\4213806409.py:35: FutureWarning: The frame.append method is deprecated and will be removed from pandas in a future version. Use pandas.concat instead.\n",
      "  df = df.append({\n",
      "C:\\Users\\pc\\AppData\\Local\\Temp\\ipykernel_3448\\4213806409.py:7: DeprecationWarning: executable_path has been deprecated, please pass in a Service object\n",
      "  driver = webdriver.Chrome(chrome_driver_path)\n"
     ]
    },
    {
     "name": "stdout",
     "output_type": "stream",
     "text": [
      "Shopping in Morocco – Traditional Arts and Tapestries\n",
      "Souks and markets are major features of Moroccan life and they are among the countries greatest attractions. They are to be found everywhere; each town has its own special souks. Large cities like Fez and Marrakech have labyrinths of individual souks (each filling a street or square and devoted to one particular craft) and in the countryside there are hundreds of weekly souks, on a different day in each village of the region. Moroccan Crafts\n",
      "Craft (artesanie) traditions are still highly active and even the goods that are mass-produced for tourists are surprisingly untacky. However, to find pieces of real quality is not that easy. Some crafts have become dulled by centuries of repetition and others have been corrupted by modern techniques and chemical dyes. If you’re planning on buying something it’s always worth getting as close to the source of the goods as possible. You can get a good idea of the original standards by visiting one of the various traditional craft museums that are spread around the country. There are pretty good ones in Fez, Meknes, Tangier, Rabat, and Marrakech. Carpets Rugs and Blankets\n",
      "Moroccan carpets aren’t very cheap; you can pay thousands of dollars for the finer Arab designs in Fez or Rabat. However it is possible to find rugs and kellims, which are woven rather than knotted, at more reasonable prices. Pottery\n",
      "Pottery in Morocco is colorful if fairly crudely made on the whole, though the blue-and-white designs of Fez and the multicolored parts of the Chefchaouen are highly attractive. Food\n",
      "You’ll find quite a big variety of food products in Morocco that you won’t find very easily back at home. Many of these make an easy and inexpensive gift or souvenir. Locally produced olive oil is very easy to find and it is distinctive with a very strong flavor. Olives also come in numerous varieties, and there are many shops that specialize only in the selling of olives. Bargaining\n",
      "Bargaining is entirely natural in Morocco. Never pay attention to initial prices. This is simply a device to test the limits of a particular deal or situation. The best thing to do is to visit a fixed price store to determine the real prices of the crafts. Set your mind on how much you are willing to pay and then go back to the souks to negotiate the prices of the articles. You should always take your time when bargaining. You might get a better deal than some other tourist with less patience or experience. So be patient and stick to what you feel is a fair price. Morocco Mall\n",
      "Stretching across the Corniche of Casablanca and with a total surface area of 10 hectares, the Morocco Mall is the largest shopping mall project in North Africa.\n"
     ]
    },
    {
     "name": "stderr",
     "output_type": "stream",
     "text": [
      "C:\\Users\\pc\\AppData\\Local\\Temp\\ipykernel_3448\\4213806409.py:35: FutureWarning: The frame.append method is deprecated and will be removed from pandas in a future version. Use pandas.concat instead.\n",
      "  df = df.append({\n",
      "C:\\Users\\pc\\AppData\\Local\\Temp\\ipykernel_3448\\4213806409.py:7: DeprecationWarning: executable_path has been deprecated, please pass in a Service object\n",
      "  driver = webdriver.Chrome(chrome_driver_path)\n"
     ]
    },
    {
     "name": "stdout",
     "output_type": "stream",
     "text": [
      "Morocco’s Stock Market\n",
      "There are only certain economic sectors that still remain within the hands of the Moroccan Government. Most of Morocco’s fairly stable economy is based on the principle of ‘supply and demand’ and the country thus enjoys a liberal economy. France has played a major part in Morocco’s economy since it was the country’s first foreign investor, creditor and most importantly the first trade partner. Many agreements have since taken place with other countries, the latest two being the ‘US-Morocco Free Trade Agreement’ with the USA, which came into being on 1 January 2006, and the ‘free exchange’ with Turkey. Over the last 50 years Morocco has continued to grow, with its GDP per capita rising to 47% in the 60s and, just ten years later, peaking to a massive 274%. Unfortunately a massive change in trend caused it to recess to just 8.9% by the nineties. Morocco’s economy, like so many other developing countries, faces many setbacks with trying to reduce the constraints on private activity, restraining government spending, foreign trade and sustainable economic growth. Morocco is also one of the few Arab countries that cannot rely on a substantial reserve of oil and gas. It is of great interest, however, that Morocco is considered one of the world’s major producers and exporters of cannabis, providing most of Northern Morocco’s economic base as the primary source of stable currency. Cannabis is classically processed into hashish making up 0.57% of Morocco’s GDP. However, legislation was passed in 1992 with its new strategy against drugs being formulated by the ‘National Committee on Narcotics’, which saw the decrease in Cannabis resin by 10% in 2004. Morocco is an exporter of inorganic chemicals, clothing, fish, transistors, fertilizers, crude minerals, petroleum products, vegetables and fruits while importing textile fabric, crude petroleum, telecommunications equipment, gas and electricity, wheat and plastic imports to mention a few. Morocco’s stock exchange in Casablanca is the third oldest in Africa being established in 1929. There is only one index and this is known as the ‘the index de la Bourse des Valeurs de Casablanca’. It currently has fourteen members with below fifty listed securities. In 1993 the stock exchange saw a major reformation that has lead to the installation of a modern electronic trading system with the future hope of implementing a central scrip depository. There are no restrictions when it comes to foreign investment or foreign ownership of companies on the stock exchange. However local and foreign investors receive a 10% tax implication on dividends but no capital gains tax. Casablanca and the Tunis stock markets are covered by a quarterly report that includes individual indexes for each market on the Arab stock exchange which was established by the Arab Monetary fund based in Abu Dhabi.\n"
     ]
    },
    {
     "name": "stderr",
     "output_type": "stream",
     "text": [
      "C:\\Users\\pc\\AppData\\Local\\Temp\\ipykernel_3448\\4213806409.py:35: FutureWarning: The frame.append method is deprecated and will be removed from pandas in a future version. Use pandas.concat instead.\n",
      "  df = df.append({\n",
      "C:\\Users\\pc\\AppData\\Local\\Temp\\ipykernel_3448\\4213806409.py:7: DeprecationWarning: executable_path has been deprecated, please pass in a Service object\n",
      "  driver = webdriver.Chrome(chrome_driver_path)\n"
     ]
    },
    {
     "name": "stdout",
     "output_type": "stream",
     "text": [
      "Morocco Language Translation\n",
      "Morocco is a country of many languages and many Moroccans speak two or more languages. Morocco's official language is Classical Arabic, however people tend to speak a Moroccan Arabic dialect. Following Arabic are the three dialects of Berber, namely Tarifit, Tamazight and Tashelhit, spoken mostly in rural areas. Most people who visit Morocco make no effort to learn any Arabic or Berber phrases, yet you will find the locals very appreciative even if you utter just a greeting in their language. Why not purchase a Moroccan Arabic language translation phrasebook. In fact most dialects of Arabic will be understood in Morocco. Besides speaking Arabic and Berber dialects, French is popular language in Morocco for business and is spoken by most Moroccans. If you can speak some French or have an English-French translation phrasebook you will fare well when purchasing goods and getting around. In the northern cities of Morocco, Spanish is often the second language. English is becoming increasingly popular amongst the youth. You may wish to learn just a few words of Arabic rather then purchase an entire Moroccan language translation book. If this is the case then Morocco.com is at your service. Below we have listed a few useful Arabic language phrases along with some notes on pronunciation. All written letters must be pronounced, even double vowels. Hello – La bes (informal when addressing one person)\n",
      "Hello – Beheer (in response to above) \n",
      "Hello – Salam walaykoom (formal when addressing a group)\n",
      "My name is … – Ismee … \n",
      "Good-bye – Bslemah\n",
      "Please – Minfadlik or Afek \n",
      "Thank you – Shokran or Barakalowfik\n",
      "Yes – Na’am \n",
      "No – La\n"
     ]
    },
    {
     "name": "stderr",
     "output_type": "stream",
     "text": [
      "C:\\Users\\pc\\AppData\\Local\\Temp\\ipykernel_3448\\4213806409.py:35: FutureWarning: The frame.append method is deprecated and will be removed from pandas in a future version. Use pandas.concat instead.\n",
      "  df = df.append({\n",
      "C:\\Users\\pc\\AppData\\Local\\Temp\\ipykernel_3448\\4213806409.py:7: DeprecationWarning: executable_path has been deprecated, please pass in a Service object\n",
      "  driver = webdriver.Chrome(chrome_driver_path)\n"
     ]
    },
    {
     "name": "stdout",
     "output_type": "stream",
     "text": [
      "Morocco Television and Local Entertainment\n",
      "Most people enjoy a bit of light evening entertainment and Television is often the easiest and most convenient way to see to that need. During your time in Morocco you will find that there are quite a few different TV stations and channels that you can investigate and enjoy at your leisure. While you’re not likely to find a Television set in every household in this age old country, the country does have a very good television network. The main television network in Morocco is Radiodiffusion Television Marocaine, which is state operated and functions on a national level. The network is responsible for broadcasting a wide variety of programs and shows in languages such as Arabic, French, Berber, Spanish and English, which means that if your hotel room comes equipped with a TV you will be quite likely to find a program that you understand. However the vast majority of shows on the two local TV channels are broadcast in Arabic and French. The majority of hotels offering Morocco TV services also receive satellite TV stations, which means you will have access to quite a number of channels from other countries. If you are staying in Tangier, you may be able to pick up some TV stations from Gibraltar and these are usually in English. So if you are planning to stay in Morocco, you might very well be able to enjoy a number of Television programs. However, if you simply wish to find out the latest news each day, we suggest you consult the Newspapers or Radio as a cheaper alternative. Morocco’s television networks: RTM (Radiodiffusion-Television Marocaine) \n",
      "With its offices based in Rabat, this government run television network broadcasts nationally and is available via the internet to listeners beyond Morocco’s borders. 2M TV\n",
      "Focusing on education and entertainment, 2M presents a wide variety of programming covering news, talk shows and dramas 24/7 which are suitable for the entire family to view. Partly owned by the Moroccan government, 2M broadcasts country-wide and is available on Globecast satellite.\n"
     ]
    },
    {
     "name": "stderr",
     "output_type": "stream",
     "text": [
      "C:\\Users\\pc\\AppData\\Local\\Temp\\ipykernel_3448\\4213806409.py:35: FutureWarning: The frame.append method is deprecated and will be removed from pandas in a future version. Use pandas.concat instead.\n",
      "  df = df.append({\n"
     ]
    }
   ],
   "source": [
    "from selenium import webdriver\n",
    "from bs4 import BeautifulSoup\n",
    "from time import sleep\n",
    "\n",
    "for link in links:\n",
    "    chrome_driver_path = \"C:\\\\Users\\\\pc\\\\OneDrive\\\\Documents\\\\chromedriver-win64\\\\chromedriver.exe\"\n",
    "    driver = webdriver.Chrome(chrome_driver_path)\n",
    "    driver.get(link)\n",
    "    sleep(5)  # Add a pause to ensure content loads properly\n",
    "\n",
    "    # Retrieve the content of the page with BeautifulSoup\n",
    "    src = driver.page_source\n",
    "    soup = BeautifulSoup(src, 'html.parser')\n",
    "    \n",
    "    # Get the title\n",
    "    title = soup.find('h1', class_='page-title').get_text()\n",
    "    print(title)\n",
    "    \n",
    "    # Get the excerpt paragraphs\n",
    "    paragraphs = soup.find('div', class_='excerpt')\n",
    "    excerpt_text = paragraphs.get_text().strip() if paragraphs else \"\"\n",
    "    #print(excerpt_text)\n",
    "    \n",
    "    # Get the content paragraphs\n",
    "    content_div = soup.find('div', class_='content-text')\n",
    "    paragraphs = content_div.find_all('p') if content_div else []\n",
    "    filtered_paragraphs = [p for p in paragraphs if 'back-to-category' not in p.get('class', [])]\n",
    "    \n",
    "    # Join the text from the filtered p tags\n",
    "    joined_text = ' '.join(p.get_text() for p in filtered_paragraphs)\n",
    "    \n",
    "    # Concatenate the excerpt text with the joined paragraphs text\n",
    "    combined_text = excerpt_text + ' ' + joined_text\n",
    "    print(combined_text)\n",
    "    df = df.append({\n",
    "            'Prompt':title,\n",
    "            'Response':combined_text\n",
    "        }, ignore_index=True)\n",
    "    # Close the browser after processing each link\n",
    "    driver.quit()\n"
   ]
  },
  {
   "cell_type": "code",
   "execution_count": 65,
   "id": "657756f5",
   "metadata": {},
   "outputs": [
    {
     "data": {
      "text/html": [
       "<div>\n",
       "<style scoped>\n",
       "    .dataframe tbody tr th:only-of-type {\n",
       "        vertical-align: middle;\n",
       "    }\n",
       "\n",
       "    .dataframe tbody tr th {\n",
       "        vertical-align: top;\n",
       "    }\n",
       "\n",
       "    .dataframe thead th {\n",
       "        text-align: right;\n",
       "    }\n",
       "</style>\n",
       "<table border=\"1\" class=\"dataframe\">\n",
       "  <thead>\n",
       "    <tr style=\"text-align: right;\">\n",
       "      <th></th>\n",
       "      <th>Prompt</th>\n",
       "      <th>Response</th>\n",
       "    </tr>\n",
       "  </thead>\n",
       "  <tbody>\n",
       "    <tr>\n",
       "      <th>0</th>\n",
       "      <td>Travel to Agadir in Morocco</td>\n",
       "      <td>Agadir is Southern Morocco's most visited city...</td>\n",
       "    </tr>\n",
       "    <tr>\n",
       "      <th>1</th>\n",
       "      <td>Accommodation</td>\n",
       "      <td>There are plenty of hotels to choose from in M...</td>\n",
       "    </tr>\n",
       "    <tr>\n",
       "      <th>2</th>\n",
       "      <td>Beaches</td>\n",
       "      <td>The lack of monuments, museums and interesting...</td>\n",
       "    </tr>\n",
       "    <tr>\n",
       "      <th>3</th>\n",
       "      <td>Things to See &amp; Do</td>\n",
       "      <td>The Valley of the Birds (daily from 09:30-12:3...</td>\n",
       "    </tr>\n",
       "    <tr>\n",
       "      <th>4</th>\n",
       "      <td>Cuisine &amp; Nightlife</td>\n",
       "      <td>Besides what the large hotels have, there’s no...</td>\n",
       "    </tr>\n",
       "    <tr>\n",
       "      <th>...</th>\n",
       "      <td>...</td>\n",
       "      <td>...</td>\n",
       "    </tr>\n",
       "    <tr>\n",
       "      <th>246</th>\n",
       "      <td>Demographic Trends of Moroccan Society</td>\n",
       "      <td>Most people living in Morocco live west of the...</td>\n",
       "    </tr>\n",
       "    <tr>\n",
       "      <th>247</th>\n",
       "      <td>Shopping in Morocco – Traditional Arts and Tap...</td>\n",
       "      <td>Souks and markets are major features of Morocc...</td>\n",
       "    </tr>\n",
       "    <tr>\n",
       "      <th>248</th>\n",
       "      <td>Morocco’s Stock Market</td>\n",
       "      <td>There are only certain economic sectors that s...</td>\n",
       "    </tr>\n",
       "    <tr>\n",
       "      <th>249</th>\n",
       "      <td>Morocco Language Translation</td>\n",
       "      <td>Morocco is a country of many languages and man...</td>\n",
       "    </tr>\n",
       "    <tr>\n",
       "      <th>250</th>\n",
       "      <td>Morocco Television and Local Entertainment</td>\n",
       "      <td>Most people enjoy a bit of light evening enter...</td>\n",
       "    </tr>\n",
       "  </tbody>\n",
       "</table>\n",
       "<p>251 rows × 2 columns</p>\n",
       "</div>"
      ],
      "text/plain": [
       "                                                Prompt  \\\n",
       "0                          Travel to Agadir in Morocco   \n",
       "1                                        Accommodation   \n",
       "2                                              Beaches   \n",
       "3                                   Things to See & Do   \n",
       "4                                  Cuisine & Nightlife   \n",
       "..                                                 ...   \n",
       "246             Demographic Trends of Moroccan Society   \n",
       "247  Shopping in Morocco – Traditional Arts and Tap...   \n",
       "248                             Morocco’s Stock Market   \n",
       "249                       Morocco Language Translation   \n",
       "250         Morocco Television and Local Entertainment   \n",
       "\n",
       "                                              Response  \n",
       "0    Agadir is Southern Morocco's most visited city...  \n",
       "1    There are plenty of hotels to choose from in M...  \n",
       "2    The lack of monuments, museums and interesting...  \n",
       "3    The Valley of the Birds (daily from 09:30-12:3...  \n",
       "4    Besides what the large hotels have, there’s no...  \n",
       "..                                                 ...  \n",
       "246  Most people living in Morocco live west of the...  \n",
       "247  Souks and markets are major features of Morocc...  \n",
       "248  There are only certain economic sectors that s...  \n",
       "249  Morocco is a country of many languages and man...  \n",
       "250  Most people enjoy a bit of light evening enter...  \n",
       "\n",
       "[251 rows x 2 columns]"
      ]
     },
     "execution_count": 65,
     "metadata": {},
     "output_type": "execute_result"
    }
   ],
   "source": [
    "df"
   ]
  },
  {
   "cell_type": "code",
   "execution_count": 66,
   "id": "289f0c2f",
   "metadata": {},
   "outputs": [],
   "source": [
    "df.to_csv('morocco.com.csv')"
   ]
  },
  {
   "cell_type": "code",
   "execution_count": null,
   "id": "2476217c",
   "metadata": {},
   "outputs": [],
   "source": []
  }
 ],
 "metadata": {
  "kernelspec": {
   "display_name": "Python 3 (ipykernel)",
   "language": "python",
   "name": "python3"
  },
  "language_info": {
   "codemirror_mode": {
    "name": "ipython",
    "version": 3
   },
   "file_extension": ".py",
   "mimetype": "text/x-python",
   "name": "python",
   "nbconvert_exporter": "python",
   "pygments_lexer": "ipython3",
   "version": "3.9.18"
  }
 },
 "nbformat": 4,
 "nbformat_minor": 5
}
