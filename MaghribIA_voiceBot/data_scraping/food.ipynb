{
 "cells": [
  {
   "cell_type": "code",
   "execution_count": 2,
   "id": "83d84b59",
   "metadata": {},
   "outputs": [
    {
     "name": "stderr",
     "output_type": "stream",
     "text": [
      "C:\\Users\\pc\\AppData\\Local\\Temp\\ipykernel_5456\\3430273836.py:11: DeprecationWarning: executable_path has been deprecated, please pass in a Service object\n",
      "  driver = webdriver.Chrome(chrome_driver_path)\n"
     ]
    },
    {
     "name": "stdout",
     "output_type": "stream",
     "text": [
      "Dish: Couscous (dish)\n",
      "Link: https://www.tasteatlas.com/Moroccan-Couscous\n",
      "Numerous tiny, light, tender grains, ideally arranged to form a pyramid and served on a platter at the end of a meal - that is couscous, the national dish of Morocco and Algeria and a must-have dish in any Moroccan and Algerian restaurant. The word itself refers both to the complete dish and the tiny grains of semolina.Semolina flour is sprinkled with water until it forms into tiny pellets that are then pushed through a sieve. Couscous is usually prepared on Fridays for lunch, when whole families get together for the most important meal of the week. The dish is traditionally made in a metal steamer pot called a couscoussier, where the stew is on the bottom, while the small grains are in the perforated basket on top, cooking in the steam that is rising from the rich stew.Although couscous dishes are often full of vegetables, they are rarely vegetarian.  Read more Some classics include couscous with seven vegetables and couscous with raisins and caramelized onions, but there are many more varieties such as spicy with chili peppers, sweet with chickpeas, lamb and raisins, Berber-style with chicken, milk and turnips, or fish couscous with fish, fennel stalks, and wild turnips.There is even a dessert couscous dish served with butter and enhanced with cinnamon and sugar. After couscous is served, it is covered with meat or fish and vegetables, while the broth from the same stew is served on the side, for the ones who want to ladle some on top of the grains.However, don't be mistaken - it is not the main course, as it is served at the end of a long string of courses to totally satiate the consumer, as the popular Arabian hospitality saying goes - \"No guest should go home hungry\".\n",
      "Stew\n",
      "Side Dish\n",
      " Semolina Olive Oil\n",
      "------------------------------\n"
     ]
    },
    {
     "name": "stderr",
     "output_type": "stream",
     "text": [
      "C:\\Users\\pc\\AppData\\Local\\Temp\\ipykernel_5456\\3430273836.py:64: FutureWarning: The frame.append method is deprecated and will be removed from pandas in a future version. Use pandas.concat instead.\n",
      "  df = df.append({\n"
     ]
    },
    {
     "name": "stdout",
     "output_type": "stream",
     "text": [
      "Dish: Tajine\n",
      "Link: https://www.tasteatlas.com/tajine\n",
      "Tajine, also known as tagine, refers both to the rich Moroccan stews and the cooking vessel used to make them. When referring to the cooking vessel, it is a round and shallow, clay or ceramic casserole with a tall, pointy, conical lid.The same lid fits into the base, so the steam condenses on its interior and drops back into the stew without any waste of flavors and moisture. The pots are ideal for slow cooking over embers or on a stove, resulting in buttery, tender vegetables and meat that falls off the bone.Tajines can be glazed or unglazed - the unglazed ones are earthier and darken over time, while the glazed ones are recommended for people who cook infrequently. There are also serving tajines, which are usually decorated and lighter than the other tajines, but they're not resistant to heat.  Read more In the area of Rif Mountains, there's tagra, an unglazed tajine with little clay handles and without a lid. A Berber tajine is known as chalhaoui, and it has a rounded, dome-shaped lid instead of the conical one. Tajines show Moroccan cuisine's affinity for combining different textures and mixing flavors, such as a well-balanced blend of savory and sweet, for example, chicken with tomato and almonds, and veal cuts with stewed, sliced pears.Baby artichokes, spring peas, and various nuts such as almonds or pistachios are a common ingredient in tajines. These dishes are often accompanied by couscous, steamed rice, or fresh, hot bread, and the varieties are virtually limitless – from seafood tajines with mussels and tomato sauce, to lamb tajines with vegetables such as onions, carrots, potatoes, and olives, fruits such as apricots and raisins, and lots of spices such as red and black pepper, cumin, saffron, and turmeric, tajines are a national dish full of creativity and flavour.\n",
      "Technique\n",
      "Stew\n",
      " Lamb Chicken Potatoes Onion Carrot Olives Almonds Ras el hanout\n"
     ]
    },
    {
     "name": "stderr",
     "output_type": "stream",
     "text": [
      "C:\\Users\\pc\\AppData\\Local\\Temp\\ipykernel_5456\\3430273836.py:64: FutureWarning: The frame.append method is deprecated and will be removed from pandas in a future version. Use pandas.concat instead.\n",
      "  df = df.append({\n"
     ]
    },
    {
     "name": "stdout",
     "output_type": "stream",
     "text": [
      "------------------------------\n",
      "Dish: Chicken Tajine\n",
      "Link: https://www.tasteatlas.com/chicken-tajine\n",
      "As the name suggests, the star ingredient in this traditional Moroccan dish is chicken, preferably bone-in chicken cuts such as legs, thighs, or drumsticks. Like other tajine dishes, this chicken variety is also prepared in the eponymous conical cooking vessel.The meat is neatly arranged with various vegetables such as onions, carrots, tomatoes, or potatoes, and the whole dish is usually seasoned with cumin, saffron, parsley, or coriander. Typical variations also may include preserved lemons, olives, almonds, or apricots.Chicken tajine is usually served with bread on the side.\n",
      "Stew\n",
      "Chicken Dish\n",
      " Chicken Carrot Potatoes Onion Olives Apricot Almonds Saffron\n"
     ]
    },
    {
     "name": "stderr",
     "output_type": "stream",
     "text": [
      "C:\\Users\\pc\\AppData\\Local\\Temp\\ipykernel_5456\\3430273836.py:64: FutureWarning: The frame.append method is deprecated and will be removed from pandas in a future version. Use pandas.concat instead.\n",
      "  df = df.append({\n"
     ]
    },
    {
     "name": "stdout",
     "output_type": "stream",
     "text": [
      "------------------------------\n",
      "Dish: Pastilla\n",
      "Link: https://www.tasteatlas.com/pastilla\n",
      "Pastilla is a stuffed pastry from Morocco, also known as b'stilla or bastilla. The rich, sweet and savory pie is filled with an unusual mix of pigeon or chicken meat, eggs, almonds, and cinnamon. It is commonly prepared for special events such as holidays, weddings, or parties.The name stems from the Spanish word for pastry – pastilla. It is a time-consuming dish, but well worth the effort, as the end result is an incredibly flavorful, crispy warqa pastry, concealing savory meat and spices such as saffron, nutmeg, and ginger, topped with fried almonds and a dash of powdered sugar and cinnamon.Although it is quite sweet on the exterior, this is a main course dish and not a dessert, as it is a plat complet, a dish with everything - the contrasts of savoriness and sweetness working together in unison. For the adventurous, there is also a modern and popular seafood pastilla, filled with fish, calamari, shrimp, and Asian rice noodles.\n",
      "Savory Pie\n",
      "Sweet Pie\n",
      " Flour Squab Chicken Almonds Eggs Butter Onion Garlic\n",
      "------------------------------\n"
     ]
    },
    {
     "name": "stderr",
     "output_type": "stream",
     "text": [
      "C:\\Users\\pc\\AppData\\Local\\Temp\\ipykernel_5456\\3430273836.py:64: FutureWarning: The frame.append method is deprecated and will be removed from pandas in a future version. Use pandas.concat instead.\n",
      "  df = df.append({\n"
     ]
    },
    {
     "name": "stdout",
     "output_type": "stream",
     "text": [
      "Dish: Harira\n",
      "Link: https://www.tasteatlas.com/harira\n",
      "Harira is a herb-rich, tomato-based soup with a velvety-smooth, creamy texture, as the word hareer signifies velvetiness in Arabic. It's the most popular soup in Morocco, symbolizing the unification of people during Ramadan, the holy month of fasting in the Muslim calendar.According to religious law, practitioners may not eat or drink anything between dawn and sunset. At sunset, when the cannons strike, Moroccans eat their first meal of the day - the obligatory harira soup, accompanied by dates, figs, coffee, or milk, along with fried honey cookies shaped like flowers and sprinkled with sesame, called chebakia.Harira is made from a variety of legumes such as lentils, fava beans, and chickpeas, tomato sauce, harissa paste, and fresh herbs such as parsley, turmeric, saffron, lemon, caraway seeds, and coriander, but every region in Morocco has its own version of the soup.  Read more It's also very popular in Algeria. Harira can be either vegetarian or stuffed with bits of lamb, chicken, beef, or fish meat. In some cases, beaten eggs or flour and water mixture are whisked into the soup near the end of cooking in order to give it a slightly different texture and to thicken it.Spicy, peppery, nourishing, rich with vegetables and meat, harira is a true delicacy in the world of soups.\n",
      "Soup\n",
      "\n",
      " Lamb Beef Onion Garlic Lentils Fava Beans Chickpeas Tomato Sauce\n",
      "------------------------------\n"
     ]
    },
    {
     "name": "stderr",
     "output_type": "stream",
     "text": [
      "C:\\Users\\pc\\AppData\\Local\\Temp\\ipykernel_5456\\3430273836.py:64: FutureWarning: The frame.append method is deprecated and will be removed from pandas in a future version. Use pandas.concat instead.\n",
      "  df = df.append({\n"
     ]
    },
    {
     "name": "stdout",
     "output_type": "stream",
     "text": [
      "Dish: M'semen\n",
      "Link: https://www.tasteatlas.com/msemen\n",
      "M'semen is a traditional Maghrebi flatbread made with a combination of flour, semolina, sugar, salt, yeast, warm water, oil, and clarified butter. The dough is kneaded until it becomes smooth, and pieces of it are then flattened and shaped into squares.Once the dough has been folded and shaped, it is cooked on a griddle or fried in a pan until it becomes crispy on the exterior and chewy on the inside. Although m'semen is traditionally consumed on its own as an accompaniment to coffee or tea, it can also be stuffed with various meats and vegetables.In Tunisia, the flatbread is often based on semolina flour and made without yeast.\n",
      "Flatbread\n",
      "\n",
      " Semolina Flour Wheat Flour Yeast Butter Sugar Salt\n",
      "------------------------------\n"
     ]
    },
    {
     "name": "stderr",
     "output_type": "stream",
     "text": [
      "C:\\Users\\pc\\AppData\\Local\\Temp\\ipykernel_5456\\3430273836.py:64: FutureWarning: The frame.append method is deprecated and will be removed from pandas in a future version. Use pandas.concat instead.\n",
      "  df = df.append({\n"
     ]
    },
    {
     "name": "stdout",
     "output_type": "stream",
     "text": [
      "Dish: Tanjia\n",
      "Link: https://www.tasteatlas.com/tanjia\n",
      "Tanjia is a unique Moroccan specialty made by cooking lamb meat in a clay urn along with flavorings such as saffron, cumin, garlic, lemons, and olive oil. The dish is especially popular in Marrakech, where the urns are filled with all of the ingredients, then placed in the coals of a public bath (hammam) to slowly cook overnight until the meat is so tender that it falls off the bone.Originally, tanjia was created and cooked by men who would go on outdoor picnics.\n",
      "Lamb Dish\n",
      "\n",
      " Lamb Saffron Cumin Lemon Olive Oil\n",
      "------------------------------\n"
     ]
    },
    {
     "name": "stderr",
     "output_type": "stream",
     "text": [
      "C:\\Users\\pc\\AppData\\Local\\Temp\\ipykernel_5456\\3430273836.py:64: FutureWarning: The frame.append method is deprecated and will be removed from pandas in a future version. Use pandas.concat instead.\n",
      "  df = df.append({\n"
     ]
    },
    {
     "name": "stdout",
     "output_type": "stream",
     "text": [
      "Dish: Baghrir\n",
      "Link: https://www.tasteatlas.com/baghrir\n",
      "Baghrir is a soft and spongy Moroccan and Algerian pancake made with semolina flour. It is characterized by numerous holes on its surface, a result of yeast-produced bubbles in the batter that form and break as the pancake cooks. The pancake is cooked on one side only.It's recommended to serve baghrir with fruit jams or a syrup made with butter and honey.\n",
      "Pancake\n",
      "Dessert\n",
      " Semolina Flour Wheat Flour Yeast Baking Powder Sugar Salt\n",
      "------------------------------\n"
     ]
    },
    {
     "name": "stderr",
     "output_type": "stream",
     "text": [
      "C:\\Users\\pc\\AppData\\Local\\Temp\\ipykernel_5456\\3430273836.py:64: FutureWarning: The frame.append method is deprecated and will be removed from pandas in a future version. Use pandas.concat instead.\n",
      "  df = df.append({\n"
     ]
    },
    {
     "name": "stdout",
     "output_type": "stream",
     "text": [
      "Dish: Chebakia\n",
      "Link: https://www.tasteatlas.com/chebakia\n",
      "Chebakia is a chewy, crunchy, and fragrant Moroccan pastry made by arranging strips of dough into a flower shape. It is then fried, coated in honey, and sprinkled with sesame seeds. This sweet treat is traditionally prepared during the month of Ramadan, and is typically served alongside harira.It takes a lot of time and effort to prepare chebakia, so Moroccan women often ask sisters, mothers, or friends to help them in making large quantities of these cookies.\n",
      "Sweet Pastry\n",
      "Deep-fried Dessert\n",
      "\n",
      "------------------------------\n"
     ]
    },
    {
     "name": "stderr",
     "output_type": "stream",
     "text": [
      "C:\\Users\\pc\\AppData\\Local\\Temp\\ipykernel_5456\\3430273836.py:64: FutureWarning: The frame.append method is deprecated and will be removed from pandas in a future version. Use pandas.concat instead.\n",
      "  df = df.append({\n"
     ]
    },
    {
     "name": "stdout",
     "output_type": "stream",
     "text": [
      "Dish: Zaalouk\n",
      "Link: https://www.tasteatlas.com/zaalouk\n",
      "Zaalouk is a traditional Moroccan salad made by cooking eggplant, tomatoes, garlic, and flavorings such as cumin, paprika, coriander, and parsley. Although it can be served on its own, zaalouk is also often served as a side dish, a spread for sandwiches, or a dip, when it is paired with crusty bread.\n",
      "Salad\n",
      "Side Dish\n",
      " Eggplant Tomato Garlic Cumin Paprika Coriander Parsley\n",
      "------------------------------\n"
     ]
    },
    {
     "name": "stderr",
     "output_type": "stream",
     "text": [
      "C:\\Users\\pc\\AppData\\Local\\Temp\\ipykernel_5456\\3430273836.py:64: FutureWarning: The frame.append method is deprecated and will be removed from pandas in a future version. Use pandas.concat instead.\n",
      "  df = df.append({\n"
     ]
    },
    {
     "name": "stdout",
     "output_type": "stream",
     "text": [
      "Dish: Matbucha\n",
      "Link: https://www.tasteatlas.com/matbucha\n",
      "Though its origins presumably lie in Morocco, matbucha is also a favorite in Israel, where it was brought by Jewish immigrants. The dish consists of roasted bell peppers and tomatoes seasoned with garlic and ground paprika. In Morocco, it is typically enjoyed as meze—assorted small dishes—while Israelis typically think of it as an appetizer.Matbucha should always be served drizzled with a generous amount of olive oil, accompanied by a warm flatbread on the side.\n",
      "Vegetable Dish\n",
      "Appetizer\n",
      " Tomato Garlic Paprika Olive Oil\n",
      "------------------------------\n"
     ]
    },
    {
     "name": "stderr",
     "output_type": "stream",
     "text": [
      "C:\\Users\\pc\\AppData\\Local\\Temp\\ipykernel_5456\\3430273836.py:64: FutureWarning: The frame.append method is deprecated and will be removed from pandas in a future version. Use pandas.concat instead.\n",
      "  df = df.append({\n"
     ]
    },
    {
     "name": "stdout",
     "output_type": "stream",
     "text": [
      "Dish: Maakouda\n",
      "Link: https://www.tasteatlas.com/maakouda\n",
      "Maakouda are traditional potato fritters that are popular throughout the Maghreb, especially in Morocco, Algeria, and Tunisia. The fritters are usually prepared plain, but they can also be stuffed with meat, tuna, or cheese, although not that often.They're made with potatoes, parsley, garlic, flour, salt, and pepper. The potatoes are boiled, mashed, and mixed with other ingredients into small disks which are then deep-fried in hot oil until golden brown. Maakouda is traditionally served as an appetizer, a side dish, or an ingredient in a long sandwich roll that's usually sold as street food and served with harissa, coriander, and lemon juice.The fritters are especially popular during the month of Ramadan.\n",
      "Appetizer\n",
      "Snack\n",
      " Potatoes Parsley Garlic Wheat Flour Salt Black Pepper\n",
      "------------------------------\n"
     ]
    },
    {
     "name": "stderr",
     "output_type": "stream",
     "text": [
      "C:\\Users\\pc\\AppData\\Local\\Temp\\ipykernel_5456\\3430273836.py:64: FutureWarning: The frame.append method is deprecated and will be removed from pandas in a future version. Use pandas.concat instead.\n",
      "  df = df.append({\n"
     ]
    },
    {
     "name": "stdout",
     "output_type": "stream",
     "text": [
      "Dish: Loubia\n",
      "Link: https://www.tasteatlas.com/loubia\n",
      "Loubia is a traditional North African dish consisting of stewed white beans. This dish is very popular in Moroccan, Tunisian, Algerian, and Libyan homes, where the beans that have been simmered in a zesty tomato-based sauce are typically scooped up with homemade flatbread.It is comfort food that can be served both as an appetizer, garnished with some coriander or parsley, and as a side dish - especially when used as an accompaniment to fried fish. Simple, quick, and delicious - it is unsurprising that loubia is commonly found in homes throughout Maghreb region.\n",
      "Stew\n",
      "Appetizer\n",
      " White Beans Tomato Onion Ginger Garlic Parsley Coriander Turmeric\n",
      "------------------------------\n"
     ]
    },
    {
     "name": "stderr",
     "output_type": "stream",
     "text": [
      "C:\\Users\\pc\\AppData\\Local\\Temp\\ipykernel_5456\\3430273836.py:64: FutureWarning: The frame.append method is deprecated and will be removed from pandas in a future version. Use pandas.concat instead.\n",
      "  df = df.append({\n"
     ]
    },
    {
     "name": "stdout",
     "output_type": "stream",
     "text": [
      "Dish: Kaab el ghazal\n",
      "Link: https://www.tasteatlas.com/kaab-el-ghazal\n",
      "These crescent-shaped cookies are usually associated with Morocco, but they can be found throughout Algeria and Tunisia in slightly different forms and under various names. Their name translates as gazelle ankles, but they are better known as gazelle horns.They consist of a thin pastry shell that is wrapped around a sweet cinnamon-flavored almond filling. Both filling and the pastry dough are typically enriched with orange blossom water. The cookies can be coated in crushed nuts or optionally dipped in orange blossom water and then dusted with sugar, in which case they are typically referred as kaab el ghazal m'fenned.\n",
      "Sweet Pastry\n",
      "Cookie\n",
      " Flour Butter Marzipan Orange Flower Water Rose Water Cinnamon\n",
      "------------------------------\n"
     ]
    },
    {
     "name": "stderr",
     "output_type": "stream",
     "text": [
      "C:\\Users\\pc\\AppData\\Local\\Temp\\ipykernel_5456\\3430273836.py:64: FutureWarning: The frame.append method is deprecated and will be removed from pandas in a future version. Use pandas.concat instead.\n",
      "  df = df.append({\n"
     ]
    },
    {
     "name": "stdout",
     "output_type": "stream",
     "text": [
      "Dish: Chermoula\n",
      "Link: https://www.tasteatlas.com/chermoula\n",
      "Chermoula is a North African marinade consisting of lemon juice, olive oil, coriander, parsley, garlic, cumin, paprika, chili peppers, and salt. The final result is a rough-textured paste that is traditionally used with fish or seafood dishes. Although it is mostly used to give flavor to fish, chermoula might also be used on meat and vegetables, as a dipping sauce, or as a dressing for salads.\n",
      "Dip\n",
      "Sauce\n",
      " Lemon Juice Olive Oil Coriander Parsley Garlic Cumin Paprika Hot Peppers\n",
      "------------------------------\n"
     ]
    },
    {
     "name": "stderr",
     "output_type": "stream",
     "text": [
      "C:\\Users\\pc\\AppData\\Local\\Temp\\ipykernel_5456\\3430273836.py:64: FutureWarning: The frame.append method is deprecated and will be removed from pandas in a future version. Use pandas.concat instead.\n",
      "  df = df.append({\n"
     ]
    },
    {
     "name": "stdout",
     "output_type": "stream",
     "text": [
      "Dish: Khobz\n",
      "Link: https://www.tasteatlas.com/khobz\n",
      "Khobz is a traditional Moroccan bread that is shaped into round, flat loaves and baked in an oven until it develops a crispy crust. It can be made with different types of flour such as wheat, bran, barley, and semolina. Some bakers like to add anise, nigella, or cumin in order to enhance its flavors.The bread often replaces utensils and is used to scoop up sauces, dips, meat, and vegetables in numerous Moroccan dishes.\n",
      "Bread\n",
      "\n",
      "\n",
      "------------------------------\n"
     ]
    },
    {
     "name": "stderr",
     "output_type": "stream",
     "text": [
      "C:\\Users\\pc\\AppData\\Local\\Temp\\ipykernel_5456\\3430273836.py:64: FutureWarning: The frame.append method is deprecated and will be removed from pandas in a future version. Use pandas.concat instead.\n",
      "  df = df.append({\n"
     ]
    },
    {
     "name": "stdout",
     "output_type": "stream",
     "text": [
      "Dish: Batbout\n",
      "Link: https://www.tasteatlas.com/batbout\n",
      "Batbout is a traditional flatbread originating from Morocco. The bread is usually made with a combination of wheat flour, semolina, yeast, salt, sugar, and olive oil or vegetable oil. The dough is shaped into balls that are left to rest and rolled into thin rounds.The bread is baked in a large pan or on a griddle on both sides until the air bubbles begin to appear on the surface. This puffy and chewy flatbread is then left to cool before consumption. Batbout is typically served as an accompaniment to grilled meat, but it can also be served for breakfast with jam, butter, or honey.Alternatively, the flatbread can also be used to make various sandwiches.\n",
      "Flatbread\n",
      "\n",
      " Wheat Flour Semolina Yeast Olive Oil Vegetable Oil Salt Sugar\n",
      "------------------------------\n"
     ]
    },
    {
     "name": "stderr",
     "output_type": "stream",
     "text": [
      "C:\\Users\\pc\\AppData\\Local\\Temp\\ipykernel_5456\\3430273836.py:64: FutureWarning: The frame.append method is deprecated and will be removed from pandas in a future version. Use pandas.concat instead.\n",
      "  df = df.append({\n"
     ]
    },
    {
     "name": "stdout",
     "output_type": "stream",
     "text": [
      "Dish: Briouat\n",
      "Link: https://www.tasteatlas.com/briouat\n",
      "Briouats are small and crispy Moroccan pastries that can be stuffed with a variety of ingredients such as chicken, lamb, cheese, or lemon. The pastry is either fried or baked, and it is often additionally sprinkled with various herbs and spices.It is typically folded into cylindrical or triangular shapes, then served as an appetizer. Briouats are especially popular during the month of Ramadan.\n",
      "Savory Pastry\n",
      "Appetizer\n",
      " Beef Lamb Onion Paprika Cumin Black Pepper Salt Flour\n",
      "------------------------------\n"
     ]
    },
    {
     "name": "stderr",
     "output_type": "stream",
     "text": [
      "C:\\Users\\pc\\AppData\\Local\\Temp\\ipykernel_5456\\3430273836.py:64: FutureWarning: The frame.append method is deprecated and will be removed from pandas in a future version. Use pandas.concat instead.\n",
      "  df = df.append({\n"
     ]
    },
    {
     "name": "stdout",
     "output_type": "stream",
     "text": [
      "Dish: Sfenj\n",
      "Link: https://www.tasteatlas.com/sfenj\n",
      "Sfenj are popular Moroccan and Algerian doughnut-like fritters made from sticky unleavened batter, similar to Libyan sfinz and Tunisian bambalouni. The dough is traditionally shaped into rings and deep-fried until it develops a golden, crispy exterior.The interior should be fluffy, tender, and chewy. These fritters are usually served hot when sold by street vendors, and they can be consumed plain or dusted with icing sugar.\n",
      "Sweet Pastry\n",
      "Snack\n",
      "\n",
      "------------------------------\n"
     ]
    },
    {
     "name": "stderr",
     "output_type": "stream",
     "text": [
      "C:\\Users\\pc\\AppData\\Local\\Temp\\ipykernel_5456\\3430273836.py:64: FutureWarning: The frame.append method is deprecated and will be removed from pandas in a future version. Use pandas.concat instead.\n",
      "  df = df.append({\n"
     ]
    },
    {
     "name": "stdout",
     "output_type": "stream",
     "text": [
      "Dish: Bessara\n",
      "Link: https://www.tasteatlas.com/bessara-morocco\n",
      "Bissara is a comforting Egyptian and Moroccan dish made with puréed beans – either split peas or dried fava beans. It can be prepared in the form of a soup or porridge, while the thicker versions are commonly used as a dip. The puréed beans are typically seasoned with olive oil, lemon juice, and garlic, and the dish is often served with paprika and cumin on the side, while crusty bread is almost mandatory.Bissara is traditionally served for breakfast, and it is especially popular during winter.\n",
      "Vegetable Soup\n",
      "Breakfast\n",
      " Split Peas Fava Beans Garlic Paprika Cumin Harissa Olive Oil Lemon Juice\n",
      "------------------------------\n"
     ]
    },
    {
     "name": "stderr",
     "output_type": "stream",
     "text": [
      "C:\\Users\\pc\\AppData\\Local\\Temp\\ipykernel_5456\\3430273836.py:64: FutureWarning: The frame.append method is deprecated and will be removed from pandas in a future version. Use pandas.concat instead.\n",
      "  df = df.append({\n"
     ]
    },
    {
     "name": "stdout",
     "output_type": "stream",
     "text": [
      "Dish: Seffa\n",
      "Link: https://www.tasteatlas.com/seffa\n",
      "Seffa is a traditional Moroccan dish that is typically reserved for celebrations and festivities. It consists of either vermicelli noodles or couscous combined with a savory-sweet onion sauce and a topping of icing sugar, cinnamon, raisins, and ground almonds.It is not unusual to see pieces of chicken in the dish, as there are a number of variations on seffa. The dish is quite easy to prepare, and it is usually served as a side dish. It is recommended to pair seffa with a glass of warm milk.\n",
      "Side Dish\n",
      "Dessert\n",
      "\n",
      "------------------------------\n"
     ]
    },
    {
     "name": "stderr",
     "output_type": "stream",
     "text": [
      "C:\\Users\\pc\\AppData\\Local\\Temp\\ipykernel_5456\\3430273836.py:64: FutureWarning: The frame.append method is deprecated and will be removed from pandas in a future version. Use pandas.concat instead.\n",
      "  df = df.append({\n"
     ]
    },
    {
     "name": "stdout",
     "output_type": "stream",
     "text": [
      "Dish: Harsha\n",
      "Link: https://www.tasteatlas.com/harsha\n",
      "Harsha is a popular Moroccan bread that is usually made with a combination of semolina, sugar, butter, milk, baking powder, and salt. It is traditionally fried in a pan until it develops a soft, crumbly texture. Most Moroccans prepare it for breakfast or as an afternoon snack, serving it with butter, honey, or cheese.It is recommended to pair harsha with a cup of hot Moroccan tea.\n",
      "Bread\n",
      "\n",
      "\n",
      "------------------------------\n"
     ]
    },
    {
     "name": "stderr",
     "output_type": "stream",
     "text": [
      "C:\\Users\\pc\\AppData\\Local\\Temp\\ipykernel_5456\\3430273836.py:64: FutureWarning: The frame.append method is deprecated and will be removed from pandas in a future version. Use pandas.concat instead.\n",
      "  df = df.append({\n"
     ]
    },
    {
     "name": "stdout",
     "output_type": "stream",
     "text": [
      "Dish: Amlou\n",
      "Link: https://www.tasteatlas.com/amlou\n",
      "Amlou is a traditional Moroccan spread made from toasted almonds, argan oil, and honey. It has a rich, nutty flavor and a creamy texture similar to natural peanut butter. The preparation of amlou starts with raw almonds, which are toasted to enhance their flavor and crunchiness.Once toasted, the almonds are ground into a smooth paste. The next key ingredient is addition of argan oil, extracted from the kernels of the argan tree and renowned for its nutritional and medicinal properties. This rare oil is prized for its rich, nutty flavor and a host of health benefits, including high levels of Vitamin E and essential fatty acids.The final touch is honey, which adds a natural sweetness and binds the almond paste and argan oil into a smooth, creamy spread. Amlou is enjoyed as a dip or spread on bread or pancakes. In Moroccan culture, amlou is often associated with hospitality and celebration, commonly presented to guests as a symbol of warmth and generosity.\n",
      "Spread\n",
      "Dip\n",
      " Almonds Argan oil Honey Salt\n",
      "------------------------------\n"
     ]
    },
    {
     "name": "stderr",
     "output_type": "stream",
     "text": [
      "C:\\Users\\pc\\AppData\\Local\\Temp\\ipykernel_5456\\3430273836.py:64: FutureWarning: The frame.append method is deprecated and will be removed from pandas in a future version. Use pandas.concat instead.\n",
      "  df = df.append({\n"
     ]
    },
    {
     "name": "stdout",
     "output_type": "stream",
     "text": [
      "Dish: Taktouka\n",
      "Link: https://www.tasteatlas.com/taktouka\n",
      "Taktouka is a healthy and nutritious Moroccan salad consisting of cooked tomatoes and green peppers mashed into a purée. The salad is often served as a side dish to grilled meat and fish dishes, although it can also be used as a dip, when it's consumed with crusty bread, used for scooping up the salad.It is recommended to garnish taktouka with freshly chopped parsley or coriander and a drizzle of olive oil.\n",
      "Salad\n",
      "Dip\n",
      " Tomato Peppers Garlic Parsley Coriander Paprika Cumin Olive Oil\n",
      "------------------------------\n"
     ]
    },
    {
     "name": "stderr",
     "output_type": "stream",
     "text": [
      "C:\\Users\\pc\\AppData\\Local\\Temp\\ipykernel_5456\\3430273836.py:64: FutureWarning: The frame.append method is deprecated and will be removed from pandas in a future version. Use pandas.concat instead.\n",
      "  df = df.append({\n"
     ]
    },
    {
     "name": "stdout",
     "output_type": "stream",
     "text": [
      "Dish: Leems\n",
      "Link: https://www.tasteatlas.com/leems\n",
      "Leems are a Moroccan and North African specialty consisting of preserved lemons pickled in lemon juice and sea salt. These lemons are especially valued for their intense flavor, and are usually added to various tagines, stews, and soups. Leems can also be finely chopped and added to salads, or used as a unique accompaniment to numerous fish and seafood dishes.\n",
      "Pickling\n",
      "Side Dish\n",
      "\n",
      "------------------------------\n"
     ]
    },
    {
     "name": "stderr",
     "output_type": "stream",
     "text": [
      "C:\\Users\\pc\\AppData\\Local\\Temp\\ipykernel_5456\\3430273836.py:64: FutureWarning: The frame.append method is deprecated and will be removed from pandas in a future version. Use pandas.concat instead.\n",
      "  df = df.append({\n"
     ]
    },
    {
     "name": "stdout",
     "output_type": "stream",
     "text": [
      "Dish: Fekkas\n",
      "Link: https://www.tasteatlas.com/fekkas\n",
      "These traditional Moroccan twice-baked cookies come in both sweet and savory versions. They are prepared with shortbread or yeasted dough that is usually enriched with orange blossom water, aniseed, or citrus zest, as well as toasted nuts and dried fruit such as almonds, walnuts, raisins, pistachios, or sesame seeds.Often dubbed as the Moroccan biscotti, these crunchy treats are best paired with tea or coffee.\n",
      "Cookie\n",
      "\n",
      "\n",
      "------------------------------\n"
     ]
    },
    {
     "name": "stderr",
     "output_type": "stream",
     "text": [
      "C:\\Users\\pc\\AppData\\Local\\Temp\\ipykernel_5456\\3430273836.py:64: FutureWarning: The frame.append method is deprecated and will be removed from pandas in a future version. Use pandas.concat instead.\n",
      "  df = df.append({\n"
     ]
    },
    {
     "name": "stdout",
     "output_type": "stream",
     "text": [
      "Dish: Tfaya\n",
      "Link: https://www.tasteatlas.com/tfaya\n",
      "Tfaya is a traditional Moroccan side dish or condiment that's a specialty of Fez. It's made with caramelized onions, raisins, honey, cinnamon, saffron, and ginger. Once prepared, this sweet topping is used immediately or it's left to cool. Tfaya is most commonly used as a topping for couscous, spooned over the top of the dish.It's also served with grilled meat, in sandwiches, or alongside fruit, nuts, and cheese on a cheeseboard. In Fez, there is also a savory tfaya made with slowly cooked lamb, onions, hard-boiled eggs, and blanched almonds, and this type of tfaya is served only during festive events and celebrations.\n",
      "Side Dish\n",
      "\n",
      "\n",
      "------------------------------\n"
     ]
    },
    {
     "name": "stderr",
     "output_type": "stream",
     "text": [
      "C:\\Users\\pc\\AppData\\Local\\Temp\\ipykernel_5456\\3430273836.py:64: FutureWarning: The frame.append method is deprecated and will be removed from pandas in a future version. Use pandas.concat instead.\n",
      "  df = df.append({\n"
     ]
    },
    {
     "name": "stdout",
     "output_type": "stream",
     "text": [
      "Dish: Ghoriba\n",
      "Link: https://www.tasteatlas.com/ghoriba\n",
      "Ghoriba are traditional Middle Eastern cookies that come in a few varieties – some can be chewy, while others have a shortbread-like, crumbly texture. The cookies are traditionally shaped into balls or disks, and often have characteristical cracks across their surface.Ghoriba cookies usually consist of flour, sugar, butter, and almonds. It is recommended to serve them with a cup of tea or coffee on the side.\n",
      "Cookie\n",
      "\n",
      "\n",
      "------------------------------\n"
     ]
    },
    {
     "name": "stderr",
     "output_type": "stream",
     "text": [
      "C:\\Users\\pc\\AppData\\Local\\Temp\\ipykernel_5456\\3430273836.py:64: FutureWarning: The frame.append method is deprecated and will be removed from pandas in a future version. Use pandas.concat instead.\n",
      "  df = df.append({\n"
     ]
    },
    {
     "name": "stdout",
     "output_type": "stream",
     "text": [
      "Dish: Sellou\n",
      "Link: https://www.tasteatlas.com/sellou\n",
      "Sellou is a popular Moroccan sweet consisting of oven-browned flour, fried almonds, and toasted sesame seeds. The dessert is not baked, as all of the ingredients are combined instead. Rich and nutty, sellou acts as food that restores energy and health, which is the reason why it is traditionally served during Ramadan and at celebrations or special occasions.\n",
      "Dessert\n",
      "\n",
      "\n",
      "------------------------------\n"
     ]
    },
    {
     "name": "stderr",
     "output_type": "stream",
     "text": [
      "C:\\Users\\pc\\AppData\\Local\\Temp\\ipykernel_5456\\3430273836.py:64: FutureWarning: The frame.append method is deprecated and will be removed from pandas in a future version. Use pandas.concat instead.\n",
      "  df = df.append({\n"
     ]
    },
    {
     "name": "stdout",
     "output_type": "stream",
     "text": [
      "Dish: Moroccan Meatball Tagine (Kefta Tagine)\n",
      "Link: https://www.tasteatlas.com/kefta-tagine\n",
      "Kefta tagine is a classic Morrocan tagine variety consisting of small meatballs in a homemade tomato sauce, and are prepared in the eponymous conical cooking vessel.The meatballs are shaped into spheres the size of a cherry tomato, made of ground lamb or beef meat (or a combination of two), and flavored with spices such as paprika, cumin, parsley, coriander, black pepper, and salt, and cooked in a piquant tomato sauce.Sometimes kofta tagine also includes eggs, which are added to the sauce near the end of cooking and cooked until poached.Kefta tagine is mainly prepared at home and is a communal dish traditionally served straight from the tagine pot, with khobz or some other Moroccan bread used to scoop the tasty stew.\n",
      "Stew\n",
      "Meatballs\n",
      " Lamb Beef Tomato Parsley Coriander Paprika Cumin Black Pepper\n",
      "------------------------------\n"
     ]
    },
    {
     "name": "stderr",
     "output_type": "stream",
     "text": [
      "C:\\Users\\pc\\AppData\\Local\\Temp\\ipykernel_5456\\3430273836.py:64: FutureWarning: The frame.append method is deprecated and will be removed from pandas in a future version. Use pandas.concat instead.\n",
      "  df = df.append({\n"
     ]
    },
    {
     "name": "stdout",
     "output_type": "stream",
     "text": [
      "Dish: Mrouzia\n",
      "Link: https://www.tasteatlas.com/mrouzia\n",
      "Mrouzia is one of the most loved sweet-and-savory Moroccan dishes, consisting of a tagine with lamb, honey, almonds, raisins, and ras el hanout spices. The dish is traditionally reserved for festivities, celebrations, holidays, and similar large gatherings.This tagine is one of the most popular dishes during the Muslim festival of Eid al-Adha. It is recommended to garnish the dish with a generous sprinkling of sesame seeds.\n",
      "Lamb Dish\n",
      "\n",
      " Lamb Almonds Raisins Honey Ras el hanout Sesame Seeds\n",
      "------------------------------\n"
     ]
    },
    {
     "name": "stderr",
     "output_type": "stream",
     "text": [
      "C:\\Users\\pc\\AppData\\Local\\Temp\\ipykernel_5456\\3430273836.py:64: FutureWarning: The frame.append method is deprecated and will be removed from pandas in a future version. Use pandas.concat instead.\n",
      "  df = df.append({\n"
     ]
    },
    {
     "name": "stdout",
     "output_type": "stream",
     "text": [
      "Dish: Shakshouka\n",
      "Link: https://www.tasteatlas.com/shakshouka-morocco\n",
      "Shakshouka is a delicious combination of eggs poached in a spicy tomato sauce. Although it has an unusual name, the dish is straightforward and easy to make. It is usually made in a skillet in which onions, tomatoes, and spices are cooked until they form a delicious tomato sauce.Eggs are then added directly to the tomato sauce and poached until done. Merguez sausage can also be added to the dish. It is believed that shakshouka originated in Tunisia, but the dish is well-known and commonly eaten throughout North Africa and the Middle East as well.Almost every region has formed their distinctive variety of shakshouka: in Egypt, eggs are usually scrambled and served in a sandwich, and in Israel it is often served with salty feta cheese on top. The consistency of the sauce and eggs is also variable – the sauce can be thinner or thicker, while the eggs can be completely firm or soft.For a more nutritious meal, meat, most commonly sausages, can be included in the dish. Shakshouka is suitable for any meal of the day and is usually served warm or sizzling hot, with bread on the side. Because it is budget-friendly, simple, and easy to prepare, the dish has recently gained popularity both in Europe and North America.\n",
      "Egg Dish\n",
      "Breakfast\n",
      " Eggs Onion Tomato Bell Pepper Cumin Paprika Turmeric Olive Oil\n",
      "------------------------------\n"
     ]
    },
    {
     "name": "stderr",
     "output_type": "stream",
     "text": [
      "C:\\Users\\pc\\AppData\\Local\\Temp\\ipykernel_5456\\3430273836.py:64: FutureWarning: The frame.append method is deprecated and will be removed from pandas in a future version. Use pandas.concat instead.\n",
      "  df = df.append({\n"
     ]
    },
    {
     "name": "stdout",
     "output_type": "stream",
     "text": [
      "Dish: Rfissa\n",
      "Link: https://www.tasteatlas.com/rfissa\n",
      "Rfissa is a traditional Moroccan dish of stewed chicken pieces, onions, and lentils served over shredded msemmen, old bread, or trid pastry. The full list of ingredients is as follows: chicken, onions, saffron, ginger, lentils, msemmen, fenugreek seeds, and ras el hanout.The dish is traditionally served on the third day after the birth of a child or for similar festive occasions. It's typically consumed by a group of people gathering around the large dish, and each person then eats from his side of the platter.\n",
      "Chicken Dish\n",
      "\n",
      "\n",
      "------------------------------\n"
     ]
    },
    {
     "name": "stderr",
     "output_type": "stream",
     "text": [
      "C:\\Users\\pc\\AppData\\Local\\Temp\\ipykernel_5456\\3430273836.py:64: FutureWarning: The frame.append method is deprecated and will be removed from pandas in a future version. Use pandas.concat instead.\n",
      "  df = df.append({\n"
     ]
    },
    {
     "name": "stdout",
     "output_type": "stream",
     "text": [
      "Dish: Krachel\n",
      "Link: https://www.tasteatlas.com/krachel\n",
      "These traditional Moroccan bread rolls are prepared with a yeasted, brioche-like dough that is enriched with aniseed. They also incorporate toasted sesame seeds and are usually flavored with orange blossom water. Before baking, krachel are brushed with egg wash, while the top is sprinkled with toasted sesame seeds or pearl sugar.The buns can be enjoyed plain, but they are also commonly served with cheese and savory or sweet spreads such as butter, jams, or chocolate spreads. They perfectly pair with coffee or tea.\n",
      "Bread Roll\n",
      "\n",
      "\n",
      "------------------------------\n"
     ]
    },
    {
     "name": "stderr",
     "output_type": "stream",
     "text": [
      "C:\\Users\\pc\\AppData\\Local\\Temp\\ipykernel_5456\\3430273836.py:64: FutureWarning: The frame.append method is deprecated and will be removed from pandas in a future version. Use pandas.concat instead.\n",
      "  df = df.append({\n"
     ]
    },
    {
     "name": "stdout",
     "output_type": "stream",
     "text": [
      "Dish: Meskouta\n",
      "Link: https://www.tasteatlas.com/meskouta\n",
      "Meskouta is a traditional cake originating from Morocco. This orange and almond cake is made with a combination of almonds, eggs, sugar, honey, orange juice, lemon juice, orange flower water, oil, flour, baking soda, and baking powder. Once prepared, the batter is poured into a pan and baked until golden.This cake is traditionally prepared in the winter, when oranges ripen. It's often accompanied by hot mint tea or coffee on the side.\n",
      "Cake\n",
      "\n",
      " Almonds Flour Eggs Sugar Honey Orange Lemon Orange Flower Water\n",
      "------------------------------\n"
     ]
    },
    {
     "name": "stderr",
     "output_type": "stream",
     "text": [
      "C:\\Users\\pc\\AppData\\Local\\Temp\\ipykernel_5456\\3430273836.py:64: FutureWarning: The frame.append method is deprecated and will be removed from pandas in a future version. Use pandas.concat instead.\n",
      "  df = df.append({\n"
     ]
    },
    {
     "name": "stdout",
     "output_type": "stream",
     "text": [
      "Dish: Khlea\n",
      "Link: https://www.tasteatlas.com/khlea\n",
      "Khlea is a Moroccan specialty consisting of preserved dried meat that is usually made in advance, at least two days ahead. The meat, often lamb or beef, is cut into strips and rubbed with spices, then dried in the sun and cooked in a combination of oil, fat, and water.The dried strips are stored in cooking fat, then refrigerated. Khlea can be served with eggs or it can be used as a filling for numerous dough-based dishes.\n",
      "Meat Dish\n",
      "\n",
      "\n",
      "------------------------------\n"
     ]
    },
    {
     "name": "stderr",
     "output_type": "stream",
     "text": [
      "C:\\Users\\pc\\AppData\\Local\\Temp\\ipykernel_5456\\3430273836.py:64: FutureWarning: The frame.append method is deprecated and will be removed from pandas in a future version. Use pandas.concat instead.\n",
      "  df = df.append({\n"
     ]
    },
    {
     "name": "stdout",
     "output_type": "stream",
     "text": [
      "Dish: M'hanncha\n",
      "Link: https://www.tasteatlas.com/mhanncha\n",
      "M’hanncha or snake cake is a traditional Moroccan dessert in which warqa pastry is filled with a delicious almond paste, then shaped into a snake-like form. Although there are numerous recipes for the almond paste, it is typically prepared with almonds, sugar, cinnamon, mastic powder, butter, and orange flower water.M’hanncha can be shaped into small coils, but at social gatherings and festive occasions, it is made in a large version, so the guests can enjoy it by breaking off smaller portions from the end of the coil. When baked, the pastry is often dusted with powdered sugar or brushed with warm honey.It is recommended to garnish the snake cake with sliced or ground almonds and pair it with a cup of sweet mint tea.\n",
      "Sweet Pastry\n",
      "Dessert\n",
      "\n",
      "------------------------------\n"
     ]
    },
    {
     "name": "stderr",
     "output_type": "stream",
     "text": [
      "C:\\Users\\pc\\AppData\\Local\\Temp\\ipykernel_5456\\3430273836.py:64: FutureWarning: The frame.append method is deprecated and will be removed from pandas in a future version. Use pandas.concat instead.\n",
      "  df = df.append({\n"
     ]
    },
    {
     "name": "stdout",
     "output_type": "stream",
     "text": [
      "Dish: Boulfaf\n",
      "Link: https://www.tasteatlas.com/boulfaf\n",
      "Boulfaf is a traditional Moroccan dish consisting of grilled and skewered lamb liver rubbed with cumin, paprika, salt, and pepper. It is typically served hot with the same spice mixture that was used for rubbing the meat. The dish is especially popular during Eid-al-Adha (the Feast of Sacrifice) in Morocco.\n",
      "Offal Dish\n",
      "\n",
      " Offal Cumin Paprika Salt Black Pepper\n",
      "------------------------------\n"
     ]
    },
    {
     "name": "stderr",
     "output_type": "stream",
     "text": [
      "C:\\Users\\pc\\AppData\\Local\\Temp\\ipykernel_5456\\3430273836.py:64: FutureWarning: The frame.append method is deprecated and will be removed from pandas in a future version. Use pandas.concat instead.\n",
      "  df = df.append({\n"
     ]
    },
    {
     "name": "stdout",
     "output_type": "stream",
     "text": [
      "Dish: Raib\n",
      "Link: https://www.tasteatlas.com/raib\n",
      "Raib is a Moroccan-style yogurt that is usually prepared at home. The base is made with milk, yogurt, sugar, and it is often flavored with orange blossom water, rose water, syrups, mint, or orange. When the ingredients are combined, the mix needs to rest for several hours in a warm place. The texture of this yogurt can vary, from soft to firm, but it should always be served well-chilled.Raib is usually homemade, but it is also available at the local markets and mahlaba stores that typically sell dairy products and pastries. It is enjoyed as a dessert, and it is also commonly eaten for iftar or suhur (the meal consumed early in the morning before fasting).Raib is served in individual portions, and it can be topped with fresh fruit.\n",
      "Dessert\n",
      "\n",
      " Milk Sugar Yogurt\n",
      "------------------------------\n"
     ]
    },
    {
     "name": "stderr",
     "output_type": "stream",
     "text": [
      "C:\\Users\\pc\\AppData\\Local\\Temp\\ipykernel_5456\\3430273836.py:64: FutureWarning: The frame.append method is deprecated and will be removed from pandas in a future version. Use pandas.concat instead.\n",
      "  df = df.append({\n"
     ]
    },
    {
     "name": "stdout",
     "output_type": "stream",
     "text": [
      "Dish: Berber Pizza (Khobza medfouna)\n",
      "Link: https://www.tasteatlas.com/berber-pizza\n",
      "Berber pizza or khobza medfouna is a traditional dish originating from Morocco, and it is believed that its true birthplace is Rissani, a small oasis town near the northwest edge of Sahara. Although it's called a pizza, this is more of a stuffed flatbread that's similar to calzone or stromboli.The flatbread dough is stuffed with beef or lamb, diced onions, and various spices, and it's then baked in a fire pit until done, while many restaurants and local Berbers cook it in a mud oven. Fried almonds and hard-boiled eggs are welcome, but optional additions.The name medfouna means buried, referring to the ingredients that are buried or hidden in the flatbread dough. Once prepared, Berber pizza is cut into slices, and it's usually accompanied by hot mint tea, which is believed to be a palate balancer that will contrast the flavor of fat from the meat.\n",
      "Flatbread\n",
      "\n",
      "\n",
      "------------------------------\n"
     ]
    },
    {
     "name": "stderr",
     "output_type": "stream",
     "text": [
      "C:\\Users\\pc\\AppData\\Local\\Temp\\ipykernel_5456\\3430273836.py:64: FutureWarning: The frame.append method is deprecated and will be removed from pandas in a future version. Use pandas.concat instead.\n",
      "  df = df.append({\n"
     ]
    },
    {
     "name": "stdout",
     "output_type": "stream",
     "text": [
      "Dish: Jawhara\n",
      "Link: https://www.tasteatlas.com/ktefa\n",
      "Ktefa or jawhara is a layered Moroccan dessert that is assembled with paper-thin sheets of fried warqa pastry. The filling between the crispy layers is usually made with a combination of toasted ground or roughly chopped almonds and sugar, while the whole dessert is served doused in a custard cream that is flavored with orange blossom water.Ktefa or jawhara consists of five to six layers and may come garnished with almond slivers, cinnamon, powdered sugar, mint, or fresh fruit. The dish is also popular in France, where it goes as pastilla au lait.\n",
      "Sweet Pastry\n",
      "Dessert\n",
      "\n",
      "------------------------------\n"
     ]
    },
    {
     "name": "stderr",
     "output_type": "stream",
     "text": [
      "C:\\Users\\pc\\AppData\\Local\\Temp\\ipykernel_5456\\3430273836.py:64: FutureWarning: The frame.append method is deprecated and will be removed from pandas in a future version. Use pandas.concat instead.\n",
      "  df = df.append({\n"
     ]
    },
    {
     "name": "stdout",
     "output_type": "stream",
     "text": [
      "Dish: Moroccan Cigars\n",
      "Link: https://www.tasteatlas.com/moroccan-cigars\n",
      "Moroccan cigars or sigarim is a traditional dish originating from Morocco, but it's especially popular in Israel. The dish consists of phyllo pastry that's filled with ground lamb (or beef), onions, garlic, and a variety of spices such as cinnamon, cumin, coriander, and nutmeg.Once filled, the phyllo pastry is rolled into an elongated shape reminiscent of a cigar. The rolls are then fried in oil until golden brown. Once prepared, Moroccan cigars are served as an appetizer, usually with a sumac-yogurt dip on the side. The dish is a staple at North African eateries called mizrahi, where it's often accompanied by mint tea.\n",
      "Appetizer\n",
      "Snack\n",
      " Flour Corn Starch Olive Oil White Wine Vinegar Beef Tomato Cinnamon Cumin\n",
      "------------------------------\n"
     ]
    },
    {
     "name": "stderr",
     "output_type": "stream",
     "text": [
      "C:\\Users\\pc\\AppData\\Local\\Temp\\ipykernel_5456\\3430273836.py:64: FutureWarning: The frame.append method is deprecated and will be removed from pandas in a future version. Use pandas.concat instead.\n",
      "  df = df.append({\n"
     ]
    },
    {
     "name": "stdout",
     "output_type": "stream",
     "text": [
      "Dish: Krichlate\n",
      "Link: https://www.tasteatlas.com/krichlate\n",
      "These tiny Moroccan cookies are prepared with a shortbread dough that is usually enriched with aniseed and toasted sesame seeds. The cookies are usually associated with Ashura festival—the tenth day of the first month of the Islamic calendar.On that occasion, they are typically served with a variety of dry fruits and nuts. The cookies are also prepared for other festivities and can be enjoyed as an everyday snack that best pairs with coffee or tea.\n",
      "Cookie\n",
      "Snack\n",
      "\n",
      "------------------------------\n"
     ]
    },
    {
     "name": "stderr",
     "output_type": "stream",
     "text": [
      "C:\\Users\\pc\\AppData\\Local\\Temp\\ipykernel_5456\\3430273836.py:64: FutureWarning: The frame.append method is deprecated and will be removed from pandas in a future version. Use pandas.concat instead.\n",
      "  df = df.append({\n"
     ]
    },
    {
     "name": "stdout",
     "output_type": "stream",
     "text": [
      "Dish: Moroccan Stuffed Fried Sardines (Sardine mzeouej)\n",
      "Link: https://www.tasteatlas.com/sardine-mzeouej\n",
      "Moroccan stuffed sardines or sardine mzeouej (married sardines) is a traditional Moroccan fish dish. The dish is usually made by butterflying sardine fillets and stuffing them with chermoula, a concoction made with a combination of garlic, paprika, hot peppers, cumin, salt, olive oil, parsley, lemon juice, and coriander.The sardines are rubbed with chermoula, coated with flour, and fried in hot oil on both sides. Once done, the fried stuffed sardines are served warm or at room temperature, often accompanied by lemon wedges, harissa, or fresh salads based on tomatoes, cucumbers, and onions.The dish is also very popular as a street food item, especially in coastal areas.\n",
      "Saltwater Fish Dish\n",
      "Street Food\n",
      " Sardines Chermoula Flour Oil and Animal Fat\n",
      "------------------------------\n"
     ]
    },
    {
     "name": "stderr",
     "output_type": "stream",
     "text": [
      "C:\\Users\\pc\\AppData\\Local\\Temp\\ipykernel_5456\\3430273836.py:64: FutureWarning: The frame.append method is deprecated and will be removed from pandas in a future version. Use pandas.concat instead.\n",
      "  df = df.append({\n"
     ]
    },
    {
     "name": "stdout",
     "output_type": "stream",
     "text": [
      "Dish: Mreifisa\n",
      "Link: https://www.tasteatlas.com/mreifisa\n",
      "Mreifisa is a traditional dish originating from Western Sahara. This comforting stew is usually served for larger groups of people and is prepared with lamb, onions, garlic, beef broth, and olive oil. The lamb is cut into cubes, then combined with garlic, onions, and olive oil until the vegetables soften and the lamb is slightly browned.The concoction is then combined with the broth, water, and salt to cook until the lamb becomes tender. Mreifisa is traditionally served with a simple bread consisting of flour, water, and salt. The meat is often served separately from the broth, which is poured over the bread.\n",
      "Stew\n",
      "Lamb Dish\n",
      " Lamb Onion Garlic Olive Oil Flour Salt\n",
      "------------------------------\n"
     ]
    },
    {
     "name": "stderr",
     "output_type": "stream",
     "text": [
      "C:\\Users\\pc\\AppData\\Local\\Temp\\ipykernel_5456\\3430273836.py:64: FutureWarning: The frame.append method is deprecated and will be removed from pandas in a future version. Use pandas.concat instead.\n",
      "  df = df.append({\n"
     ]
    },
    {
     "name": "stdout",
     "output_type": "stream",
     "text": [
      "Dish: Khobz el dar\n",
      "Link: https://www.tasteatlas.com/khobz-el-dar-morocco\n",
      "Khobz el dar is an Algerian and Moroccan bread that requires no kneading. It consists of semolina, salt, sugar, yeast, oil, eggs, milk, and optional sesame seeds for decoration. Once it has been baked, the bread develops a soft and tender texture and a slightly sweet flavor.This bread can be found it almost every household in Algeria, hence its name, which translates to bread of the house.\n",
      "Bread\n",
      "\n",
      " Semolina Flour Wheat Flour Eggs Milk Sugar Vegetable Oil Black Sesame Seeds Yeast\n",
      "------------------------------\n"
     ]
    },
    {
     "name": "stderr",
     "output_type": "stream",
     "text": [
      "C:\\Users\\pc\\AppData\\Local\\Temp\\ipykernel_5456\\3430273836.py:64: FutureWarning: The frame.append method is deprecated and will be removed from pandas in a future version. Use pandas.concat instead.\n",
      "  df = df.append({\n"
     ]
    },
    {
     "name": "stdout",
     "output_type": "stream",
     "text": [
      "Dish: Kalinté\n",
      "Link: https://www.tasteatlas.com/kalinte\n",
      "Kalinté is a traditional Moroccan street bread originating from Tangier. It's usually made with a combination of chickpea flour, eggs, olive oil, salt, lukewarm water, and ground cumin or harissa sauce. Once prepared, the batter should be smooth and chilled for a while before it's baked in a brick oven, usually in a deep-dish pan.The top of kalinté is brushed with oil and it should be golden brown and glazed once it's baked. Kalinté is eaten by the slice, often as a small rectangle, and it's sprinkled with cumin or harissa before serving. The name of this flan-like dish is the Tangier slang word for heat.\n",
      "Street Food\n",
      "Snack\n",
      " Chickpea Flour Eggs Olive Oil Cumin Harissa Salt\n",
      "------------------------------\n"
     ]
    },
    {
     "name": "stderr",
     "output_type": "stream",
     "text": [
      "C:\\Users\\pc\\AppData\\Local\\Temp\\ipykernel_5456\\3430273836.py:64: FutureWarning: The frame.append method is deprecated and will be removed from pandas in a future version. Use pandas.concat instead.\n",
      "  df = df.append({\n"
     ]
    },
    {
     "name": "stdout",
     "output_type": "stream",
     "text": [
      "Dish: Stuffed Camel Spleen\n",
      "Link: https://www.tasteatlas.com/stuffed-camel-spleen\n",
      "Stuffed camel spleen is a traditional Moroccan specialty prepared with tehal (camel's spleen) that's stuffed with camel meat, lamb, and ground beef along with spices, olives, and hump fat. These huge loaves are baked in communal bread ovens.After it has been baked, the stuffed camel spleen is sliced, fried, and served in a sandwich, often using batbout (a Moroccan type of pita bread). The filling can be enriched with vegetables, eggs, and herbs, and the texture of stuffed spleen is described as creamy and soft, with a gamey flavor.\n",
      "Offal Dish\n",
      "\n",
      "\n",
      "------------------------------\n"
     ]
    },
    {
     "name": "stderr",
     "output_type": "stream",
     "text": [
      "C:\\Users\\pc\\AppData\\Local\\Temp\\ipykernel_5456\\3430273836.py:64: FutureWarning: The frame.append method is deprecated and will be removed from pandas in a future version. Use pandas.concat instead.\n",
      "  df = df.append({\n"
     ]
    },
    {
     "name": "stdout",
     "output_type": "stream",
     "text": [
      "Dish: Kouraine\n",
      "Link: https://www.tasteatlas.com/kouraine\n",
      "Kouraine is a traditional Moroccan dish that's often prepared during Eid. The dish is made with a combination of lamb, cow, or goat legs, cumin, garlic, chickpeas, paprika, ginger, turmeric, and saffron. Some people like to add raisins to the dish in order to give kouraine a slightly sweet flavor.The stew is cooked until the sauce develops a thick consistency, and it's then served, ideally with some hot peppers and bread.\n",
      "Stew\n",
      "\n",
      "\n",
      "------------------------------\n"
     ]
    },
    {
     "name": "stderr",
     "output_type": "stream",
     "text": [
      "C:\\Users\\pc\\AppData\\Local\\Temp\\ipykernel_5456\\3430273836.py:64: FutureWarning: The frame.append method is deprecated and will be removed from pandas in a future version. Use pandas.concat instead.\n",
      "  df = df.append({\n"
     ]
    },
    {
     "name": "stdout",
     "output_type": "stream",
     "text": [
      "Dish: Medjool dates\n",
      "Link: https://www.tasteatlas.com/medjool-dates\n",
      "Medjool dates are one of the most popular date varieties in the world, first cultivated in the Moroccan oasis Talifalt, and nowadays grown primarily in the Middle East (Israel being the main producer and exporter) and Northern Africa. They are larger and sweeter than other varieties and are often dubbed the \"king of dates\" due to their superior taste and versatility.The flavor can be described as caramel-like, the texture is chewy, and they are chock-full of fiber, potassium, and antioxidants. Medjool dates can be eaten on their own (fresh or dried) but can also be a part of various regional recipes, from porridges and desserts to stews, tagines, and pilafs.\n",
      "Dates\n",
      "\n",
      "\n",
      "------------------------------\n"
     ]
    },
    {
     "name": "stderr",
     "output_type": "stream",
     "text": [
      "C:\\Users\\pc\\AppData\\Local\\Temp\\ipykernel_5456\\3430273836.py:64: FutureWarning: The frame.append method is deprecated and will be removed from pandas in a future version. Use pandas.concat instead.\n",
      "  df = df.append({\n"
     ]
    },
    {
     "name": "stdout",
     "output_type": "stream",
     "text": [
      "Dish: Argan oil\n",
      "Link: https://www.tasteatlas.com/argane\n",
      "Argan oil is a plant oil produced from the kernels of the argan tree (lat. Argania spinosa L), which is native to Morocco. Well adapted to the harsh environment, surviving extreme heat and thriving in the barren soil, the endemic argan trees are traditionally grown in the Sous savanna valley.Each part of this diverse tree is usable: the fruits are edible, its precious oil can be extracted from the nuts and the wood is typically used for fuel. Argan fruit has a thick, bitter peel surrounding its fragrant pulp and nut, inside which there are one to three oil-rich kernels. If the argan oil is to be used for cooking, the kernels are roasted before being crushed, to bring out the flavor.Producing argan oil is a difficult process done by Moroccan Berber women using traditional knowledge. They work in cooperatives such as the Amal Cooperative in Tamanar and the Tifaout Women’s Agricultural Cooperative in the Souss-Massa-Drâa region. To produce just one liter of argan oil, it takes approximately twenty kilograms of argan fruit and almost twenty hours of work.  Read more The country is famous for its tree-climbing goats who eat argan fruit and leaves, excreting the undigestable seeds in the process, which are then traditionally collected and processed, although in modern times argan oil is often manufactured by hand.Therefore, this is one of the rarest oils on the market, but also one of the best quality. It has a delicate hazelnut taste and unique properties that make it usable in cosmetics, medicine and cuisine.\n",
      "Vegetable Oil\n",
      "\n",
      "\n",
      "------------------------------\n"
     ]
    },
    {
     "name": "stderr",
     "output_type": "stream",
     "text": [
      "C:\\Users\\pc\\AppData\\Local\\Temp\\ipykernel_5456\\3430273836.py:64: FutureWarning: The frame.append method is deprecated and will be removed from pandas in a future version. Use pandas.concat instead.\n",
      "  df = df.append({\n"
     ]
    },
    {
     "name": "stdout",
     "output_type": "stream",
     "text": [
      "Dish: Ras el hanout\n",
      "Link: https://www.tasteatlas.com/ras-el-hanout\n",
      "Ras el hanout is a mixture which often includes up to 40 different spices, while some blends claim to include over 100. Literally translated, ras el hanout means top of the shop, suggesting that the spice blend is the best and finest thing a consumer can buy from the merchants.Overall, the spice mix should be aromatic, warm, sharp, and slightly pungent, including some common, and some unusual ingredients such as dried lavender, caraway, galangal, a variety of peppers, dried rosebuds, and Japanese white ginger. Sometimes, ras el hanout can even contain hashish or a Spanish fly.It is quite versatile, so it can be rubbed into meat or stirred into rice dishes, and it is especially significant for giving the spicy and sweet aromas to the famous Moroccan tajines. Although each spice blend varies and no particular spice will stick out of the blend, when working together, ras el hanout gives serious flavor and punch to a number of dishes.\n",
      "Spice Blend and Seasoning\n",
      "\n",
      "\n",
      "------------------------------\n"
     ]
    },
    {
     "name": "stderr",
     "output_type": "stream",
     "text": [
      "C:\\Users\\pc\\AppData\\Local\\Temp\\ipykernel_5456\\3430273836.py:64: FutureWarning: The frame.append method is deprecated and will be removed from pandas in a future version. Use pandas.concat instead.\n",
      "  df = df.append({\n"
     ]
    },
    {
     "name": "stdout",
     "output_type": "stream",
     "text": [
      "Dish: Za'atar\n",
      "Link: https://www.tasteatlas.com/zaatar-morocco\n",
      "Za'atar is a traditional spice blend with Middle Eastern and Levantine origins. The ingredients used in za'atar vary from region to region, and the list often includes the wild za'atar herb (hyssop, growing throughout the Levant), marjoram, thyme, oregano, coriander, cumin, toasted sesame seeds, sumac, and salt.The sumac imparts a lemony, citrusy flavor, oregano gives a slight bitterness, while marjoram gives notes of sweetness. The spice blend is commonly sprinkled over soups, dips, bread, meat, rice, pasta, vegetables, or rice dishes.\n",
      "Spice Blend and Seasoning\n",
      "\n",
      "\n",
      "------------------------------\n"
     ]
    },
    {
     "name": "stderr",
     "output_type": "stream",
     "text": [
      "C:\\Users\\pc\\AppData\\Local\\Temp\\ipykernel_5456\\3430273836.py:64: FutureWarning: The frame.append method is deprecated and will be removed from pandas in a future version. Use pandas.concat instead.\n",
      "  df = df.append({\n"
     ]
    },
    {
     "name": "stdout",
     "output_type": "stream",
     "text": [
      "Dish: Taliouine Saffron\n",
      "Link: https://www.tasteatlas.com/taliouine-saffron\n",
      "Taliouine saffron hails from the eponymous mountain village, located on the Souktana plateau, at an altitude of 1300-1500 meters above sea level, in Morocco’s region of Souss-Massa. The saffron is cultivated by a small number of producers, all of whom are members of the Coopérative Agricole de Taliouine, and the harvest typically takes place from October till November.With a more intense flavor and aroma but less vivid colors than other types of saffron, this highly-prized saffron variety is considered to be the result of a unique combination of perfectly suited territory, the region’s unique climate, and the indispensable knowledge of the people who are involved in its production.Saffron used to be sold by Jewish merchants, who commonly treated saffron pistils with olive oil - a method that is no longer practiced, while today, the primary saffron merchants are Arabs and Berbers. Although it is quite inexpensive when purchased and sold locally, this highly sought-after spice becomes a luxury food item as it reaches big markets in the country and Europe.In Taliouine, apart from using the spice in traditional Moroccan specialties, the local population typically adds saffron to their tea to warm themselves up and prevent disease in winter.\n",
      "Saffron\n",
      "\n",
      "\n",
      "------------------------------\n"
     ]
    },
    {
     "name": "stderr",
     "output_type": "stream",
     "text": [
      "C:\\Users\\pc\\AppData\\Local\\Temp\\ipykernel_5456\\3430273836.py:64: FutureWarning: The frame.append method is deprecated and will be removed from pandas in a future version. Use pandas.concat instead.\n",
      "  df = df.append({\n"
     ]
    },
    {
     "name": "stdout",
     "output_type": "stream",
     "text": [
      "Dish: Alnif Cumin\n",
      "Link: https://www.tasteatlas.com/alnif-cumin\n",
      "Produced by local women in the eponymous Moroccan village, set at the foothills of the eastern Anti-Atlas mountain range, Alnif cumin is traditionally gathered and processed from the end of April till the beginning of May. Bunches of hand-cut cumin plants are first dried, then beaten to extract the seeds, and finally sieved through a palm-leaf-woven container to filter out fine straw and dust.Distinguished by excellent quality and intense aroma, this cumin variety can be used both whole and ground, and it commonly enhances the flavor of various traditional Moroccan specialties such as couscous, tajine, and soups. Alnif cumin also goes well in combination with boiled meat and vegetables and is highly appreciated for its curative properties and for having a relatively long shelf life.\n",
      "Cumin\n",
      "\n",
      "\n",
      "------------------------------\n"
     ]
    },
    {
     "name": "stderr",
     "output_type": "stream",
     "text": [
      "C:\\Users\\pc\\AppData\\Local\\Temp\\ipykernel_5456\\3430273836.py:64: FutureWarning: The frame.append method is deprecated and will be removed from pandas in a future version. Use pandas.concat instead.\n",
      "  df = df.append({\n"
     ]
    },
    {
     "name": "stdout",
     "output_type": "stream",
     "text": [
      "Dish: Zerradoun salt\n",
      "Link: https://www.tasteatlas.com/zerradoun-salt\n",
      "Zerradoun salt is a variety of salt that is traditionally produced by local women from the Al Wifak cooperative in Zerradoun, a village located at the foothills of the Rif Mountains in northeastern Morocco. The salt comes from two natural sources of saline water in the village, where it has been harvested from 200-year-old salt pans according to age-old methods with only slight changes which have been introduced in recent years.Beginning from mid-May, the salt is being extracted through a process of evaporation and drying in tanks or pans, which typically lasts up to a week. The salt crystals are primarily processed into crystalline salt that is characterized by good quality and excellent flavor.Although kitchen salt is the main product of the salt production, Zerradoun salt crystals are nowadays also used to make a variety of cosmetic products such as scented bath salts and exfoliating scrubs.\n",
      "Salt\n",
      "\n",
      "\n",
      "------------------------------\n"
     ]
    },
    {
     "name": "stderr",
     "output_type": "stream",
     "text": [
      "C:\\Users\\pc\\AppData\\Local\\Temp\\ipykernel_5456\\3430273836.py:64: FutureWarning: The frame.append method is deprecated and will be removed from pandas in a future version. Use pandas.concat instead.\n",
      "  df = df.append({\n"
     ]
    },
    {
     "name": "stdout",
     "output_type": "stream",
     "text": [
      "Dish: Moroccan mint tea\n",
      "Link: https://www.tasteatlas.com/maghrebi-mint-tea-morocco\n",
      "Maghrebi mint tea is the most common term used to denote the generously sweetened combination of green tea and fresh spearmint. The consummation of mint tea is common to the Maghrebi region of North Africa, but it is strongly associated with Morocco.It is traditionally prepared in berrad teapots, in which the tea is first steeped to produce the so-called spirit that is saved for later use. The leaves are washed and are then brewed with the addition of the tea spirit and water.Optionally, other types of herbs can be used instead of spearmint, and they can be put inside the teapot or directly into cups. In Morocco, Maghrebi tea is associated with social gatherings and is the ultimate sign of hospitality.\n",
      "Tea / Infusion\n",
      "\n",
      " Gunpowder Tea Mint Sugar\n",
      "------------------------------\n"
     ]
    },
    {
     "name": "stderr",
     "output_type": "stream",
     "text": [
      "C:\\Users\\pc\\AppData\\Local\\Temp\\ipykernel_5456\\3430273836.py:64: FutureWarning: The frame.append method is deprecated and will be removed from pandas in a future version. Use pandas.concat instead.\n",
      "  df = df.append({\n"
     ]
    },
    {
     "name": "stdout",
     "output_type": "stream",
     "text": [
      "Dish: Khoudenjal\n",
      "Link: https://www.tasteatlas.com/khoudenjal\n",
      "Khoudenjal is a spice infusion that is often dubbed as Morrocan spiced tea. The drink is made with a spice blend steeped in water. The most common spices in the mix include cinnamon, cardamom, cloves, galangal, pepper, madder root, and nutmeg, but the exact ingredients can vary and usually differ among the street vendors.The drink is aromatic and spicy, and it is generally enjoyed as a warming wintertime drink. It is mainly sold at street stalls, especially on the markets and other frequented locations.\n",
      "Herbal Infusion\n",
      "\n",
      " Cinnamon Cardamom Galangal Cloves Peppercorns Nutmeg\n",
      "------------------------------\n"
     ]
    },
    {
     "name": "stderr",
     "output_type": "stream",
     "text": [
      "C:\\Users\\pc\\AppData\\Local\\Temp\\ipykernel_5456\\3430273836.py:64: FutureWarning: The frame.append method is deprecated and will be removed from pandas in a future version. Use pandas.concat instead.\n",
      "  df = df.append({\n"
     ]
    }
   ],
   "source": [
    "from selenium import webdriver\n",
    "from selenium.webdriver.common.by import By\n",
    "from selenium.webdriver.support.ui import WebDriverWait\n",
    "from selenium.webdriver.support import expected_conditions as EC\n",
    "from bs4 import BeautifulSoup\n",
    "import pandas as pd\n",
    "from time import sleep\n",
    "\n",
    "# Initialize WebDriver (Make sure to replace with your Chrome driver path)\n",
    "chrome_driver_path = \"C:\\\\Users\\\\pc\\\\OneDrive\\\\Documents\\\\chromedriver-win64\\\\chromedriver.exe\"\n",
    "driver = webdriver.Chrome(chrome_driver_path)\n",
    "url = \"https://www.tasteatlas.com/morocco?ref=main-menu\"\n",
    "driver.get(url)\n",
    "df = pd.DataFrame(columns=['dish_name', 'ingredients','description','categorie1','categorie2','full_link'])\n",
    "\n",
    "sleep(100)\n",
    "# Get the page source after waiting\n",
    "src = driver.page_source\n",
    "\n",
    "# Parse the page source with BeautifulSoup\n",
    "soup = BeautifulSoup(src, 'html.parser')\n",
    "\n",
    "# Find all divs with class 'similar-list__item'\n",
    "dishes = soup.find_all('div', {'class': 'similar-list__item ng-scope'})\n",
    "\n",
    "for dish in dishes:\n",
    "    # Find the dish name\n",
    "    dish_name = dish.find('h2', {'class': 'h2 h2--bold h2--lowercase'}).text.strip()\n",
    "    \n",
    "    # Find the link\n",
    "    link = dish.find('h2', {'class': 'h2 h2--bold h2--lowercase'}).find('a', {'class': 'ng-binding'}).get('href') \n",
    "    # Corrected to find 'a' tag for href\n",
    "    url_base='https://www.tasteatlas.com/'\n",
    "    full_link = url_base + link  # Constructing the full link assuming relative path\\\n",
    "    driver.get(full_link)\n",
    "\n",
    "    sleep(5)\n",
    "    # Get the page source after waiting\n",
    "    src1 = driver.page_source\n",
    "    categorie1=''\n",
    "    categorie2=''\n",
    "    # Parse the page source with BeautifulSoup\n",
    "    soup1 = BeautifulSoup(src1, 'html.parser')\n",
    "    cadre=soup1.find('div',{'class':'card__main'})\n",
    "    description=cadre.find('div',{'class':'text ng-scope ng-isolate-scope'}).text.strip()\n",
    "    categorie1c=cadre.find('a',{'class':'category-name-items ng-binding'})\n",
    "    if categorie1c:\n",
    "        categorie1=categorie1c.text.strip()\n",
    "    categorie2c=cadre.find('a',{'class':'category-name-items ng-binding ng-scope'})\n",
    "    if categorie2c:\n",
    "        categorie2=categorie2c.text.strip()\n",
    "    ingredients=\"\"\n",
    "    ing=soup1.find_all('span',{'class':'food-ingredients__name ng-binding'})\n",
    "    for ingr in ing:\n",
    "        ingredients+=' '+ingr.text.strip()\n",
    "    \n",
    "\n",
    "    print(\"Dish:\", dish_name)\n",
    "    print(\"Link:\", full_link)\n",
    "    print(description)\n",
    "    print(categorie1)\n",
    "    print(categorie2)\n",
    "    print(ingredients)\n",
    "    df = df.append({\n",
    "                'dish_name': dish_name,  # Assuming 'h1' is already defined\n",
    "                'ingredients': ingredients,\n",
    "                'description':description,\n",
    "                'categorie1':categorie1,\n",
    "                'categorie2':categorie2,\n",
    "                'full_link':full_link\n",
    "            }, ignore_index=True)\n",
    "    print(\"-\" * 30)\n",
    "\n",
    "# Close the WebDriver\n",
    "driver.quit()\n"
   ]
  },
  {
   "cell_type": "code",
   "execution_count": 3,
   "id": "922e2077",
   "metadata": {},
   "outputs": [
    {
     "data": {
      "text/html": [
       "<div>\n",
       "<style scoped>\n",
       "    .dataframe tbody tr th:only-of-type {\n",
       "        vertical-align: middle;\n",
       "    }\n",
       "\n",
       "    .dataframe tbody tr th {\n",
       "        vertical-align: top;\n",
       "    }\n",
       "\n",
       "    .dataframe thead th {\n",
       "        text-align: right;\n",
       "    }\n",
       "</style>\n",
       "<table border=\"1\" class=\"dataframe\">\n",
       "  <thead>\n",
       "    <tr style=\"text-align: right;\">\n",
       "      <th></th>\n",
       "      <th>dish_name</th>\n",
       "      <th>ingredients</th>\n",
       "      <th>description</th>\n",
       "      <th>categorie1</th>\n",
       "      <th>categorie2</th>\n",
       "      <th>full_link</th>\n",
       "    </tr>\n",
       "  </thead>\n",
       "  <tbody>\n",
       "    <tr>\n",
       "      <th>0</th>\n",
       "      <td>Couscous (dish)</td>\n",
       "      <td>Semolina Olive Oil</td>\n",
       "      <td>Numerous tiny, light, tender grains, ideally a...</td>\n",
       "      <td>Stew</td>\n",
       "      <td>Side Dish</td>\n",
       "      <td>https://www.tasteatlas.com/Moroccan-Couscous</td>\n",
       "    </tr>\n",
       "    <tr>\n",
       "      <th>1</th>\n",
       "      <td>Tajine</td>\n",
       "      <td>Lamb Chicken Potatoes Onion Carrot Olives Alm...</td>\n",
       "      <td>Tajine, also known as tagine, refers both to t...</td>\n",
       "      <td>Technique</td>\n",
       "      <td>Stew</td>\n",
       "      <td>https://www.tasteatlas.com/tajine</td>\n",
       "    </tr>\n",
       "    <tr>\n",
       "      <th>2</th>\n",
       "      <td>Chicken Tajine</td>\n",
       "      <td>Chicken Carrot Potatoes Onion Olives Apricot ...</td>\n",
       "      <td>As the name suggests, the star ingredient in t...</td>\n",
       "      <td>Stew</td>\n",
       "      <td>Chicken Dish</td>\n",
       "      <td>https://www.tasteatlas.com/chicken-tajine</td>\n",
       "    </tr>\n",
       "    <tr>\n",
       "      <th>3</th>\n",
       "      <td>Pastilla</td>\n",
       "      <td>Flour Squab Chicken Almonds Eggs Butter Onion...</td>\n",
       "      <td>Pastilla is a stuffed pastry from Morocco, als...</td>\n",
       "      <td>Savory Pie</td>\n",
       "      <td>Sweet Pie</td>\n",
       "      <td>https://www.tasteatlas.com/pastilla</td>\n",
       "    </tr>\n",
       "    <tr>\n",
       "      <th>4</th>\n",
       "      <td>Harira</td>\n",
       "      <td>Lamb Beef Onion Garlic Lentils Fava Beans Chi...</td>\n",
       "      <td>Harira is a herb-rich, tomato-based soup with ...</td>\n",
       "      <td>Soup</td>\n",
       "      <td></td>\n",
       "      <td>https://www.tasteatlas.com/harira</td>\n",
       "    </tr>\n",
       "    <tr>\n",
       "      <th>5</th>\n",
       "      <td>M'semen</td>\n",
       "      <td>Semolina Flour Wheat Flour Yeast Butter Sugar...</td>\n",
       "      <td>M'semen is a traditional Maghrebi flatbread ma...</td>\n",
       "      <td>Flatbread</td>\n",
       "      <td></td>\n",
       "      <td>https://www.tasteatlas.com/msemen</td>\n",
       "    </tr>\n",
       "    <tr>\n",
       "      <th>6</th>\n",
       "      <td>Tanjia</td>\n",
       "      <td>Lamb Saffron Cumin Lemon Olive Oil</td>\n",
       "      <td>Tanjia is a unique Moroccan specialty made by ...</td>\n",
       "      <td>Lamb Dish</td>\n",
       "      <td></td>\n",
       "      <td>https://www.tasteatlas.com/tanjia</td>\n",
       "    </tr>\n",
       "    <tr>\n",
       "      <th>7</th>\n",
       "      <td>Baghrir</td>\n",
       "      <td>Semolina Flour Wheat Flour Yeast Baking Powde...</td>\n",
       "      <td>Baghrir is a soft and spongy Moroccan and Alge...</td>\n",
       "      <td>Pancake</td>\n",
       "      <td>Dessert</td>\n",
       "      <td>https://www.tasteatlas.com/baghrir</td>\n",
       "    </tr>\n",
       "    <tr>\n",
       "      <th>8</th>\n",
       "      <td>Chebakia</td>\n",
       "      <td></td>\n",
       "      <td>Chebakia is a chewy, crunchy, and fragrant Mor...</td>\n",
       "      <td>Sweet Pastry</td>\n",
       "      <td>Deep-fried Dessert</td>\n",
       "      <td>https://www.tasteatlas.com/chebakia</td>\n",
       "    </tr>\n",
       "    <tr>\n",
       "      <th>9</th>\n",
       "      <td>Zaalouk</td>\n",
       "      <td>Eggplant Tomato Garlic Cumin Paprika Coriande...</td>\n",
       "      <td>Zaalouk is a traditional Moroccan salad made b...</td>\n",
       "      <td>Salad</td>\n",
       "      <td>Side Dish</td>\n",
       "      <td>https://www.tasteatlas.com/zaalouk</td>\n",
       "    </tr>\n",
       "    <tr>\n",
       "      <th>10</th>\n",
       "      <td>Matbucha</td>\n",
       "      <td>Tomato Garlic Paprika Olive Oil</td>\n",
       "      <td>Though its origins presumably lie in Morocco, ...</td>\n",
       "      <td>Vegetable Dish</td>\n",
       "      <td>Appetizer</td>\n",
       "      <td>https://www.tasteatlas.com/matbucha</td>\n",
       "    </tr>\n",
       "    <tr>\n",
       "      <th>11</th>\n",
       "      <td>Maakouda</td>\n",
       "      <td>Potatoes Parsley Garlic Wheat Flour Salt Blac...</td>\n",
       "      <td>Maakouda are traditional potato fritters that ...</td>\n",
       "      <td>Appetizer</td>\n",
       "      <td>Snack</td>\n",
       "      <td>https://www.tasteatlas.com/maakouda</td>\n",
       "    </tr>\n",
       "    <tr>\n",
       "      <th>12</th>\n",
       "      <td>Loubia</td>\n",
       "      <td>White Beans Tomato Onion Ginger Garlic Parsle...</td>\n",
       "      <td>Loubia is a traditional North African dish con...</td>\n",
       "      <td>Stew</td>\n",
       "      <td>Appetizer</td>\n",
       "      <td>https://www.tasteatlas.com/loubia</td>\n",
       "    </tr>\n",
       "    <tr>\n",
       "      <th>13</th>\n",
       "      <td>Kaab el ghazal</td>\n",
       "      <td>Flour Butter Marzipan Orange Flower Water Ros...</td>\n",
       "      <td>These crescent-shaped cookies are usually asso...</td>\n",
       "      <td>Sweet Pastry</td>\n",
       "      <td>Cookie</td>\n",
       "      <td>https://www.tasteatlas.com/kaab-el-ghazal</td>\n",
       "    </tr>\n",
       "    <tr>\n",
       "      <th>14</th>\n",
       "      <td>Chermoula</td>\n",
       "      <td>Lemon Juice Olive Oil Coriander Parsley Garli...</td>\n",
       "      <td>Chermoula is a North African marinade consisti...</td>\n",
       "      <td>Dip</td>\n",
       "      <td>Sauce</td>\n",
       "      <td>https://www.tasteatlas.com/chermoula</td>\n",
       "    </tr>\n",
       "    <tr>\n",
       "      <th>15</th>\n",
       "      <td>Khobz</td>\n",
       "      <td></td>\n",
       "      <td>Khobz is a traditional Moroccan bread that is ...</td>\n",
       "      <td>Bread</td>\n",
       "      <td></td>\n",
       "      <td>https://www.tasteatlas.com/khobz</td>\n",
       "    </tr>\n",
       "    <tr>\n",
       "      <th>16</th>\n",
       "      <td>Batbout</td>\n",
       "      <td>Wheat Flour Semolina Yeast Olive Oil Vegetabl...</td>\n",
       "      <td>Batbout is a traditional flatbread originating...</td>\n",
       "      <td>Flatbread</td>\n",
       "      <td></td>\n",
       "      <td>https://www.tasteatlas.com/batbout</td>\n",
       "    </tr>\n",
       "    <tr>\n",
       "      <th>17</th>\n",
       "      <td>Briouat</td>\n",
       "      <td>Beef Lamb Onion Paprika Cumin Black Pepper Sa...</td>\n",
       "      <td>Briouats are small and crispy Moroccan pastrie...</td>\n",
       "      <td>Savory Pastry</td>\n",
       "      <td>Appetizer</td>\n",
       "      <td>https://www.tasteatlas.com/briouat</td>\n",
       "    </tr>\n",
       "    <tr>\n",
       "      <th>18</th>\n",
       "      <td>Sfenj</td>\n",
       "      <td></td>\n",
       "      <td>Sfenj are popular Moroccan and Algerian doughn...</td>\n",
       "      <td>Sweet Pastry</td>\n",
       "      <td>Snack</td>\n",
       "      <td>https://www.tasteatlas.com/sfenj</td>\n",
       "    </tr>\n",
       "    <tr>\n",
       "      <th>19</th>\n",
       "      <td>Bessara</td>\n",
       "      <td>Split Peas Fava Beans Garlic Paprika Cumin Ha...</td>\n",
       "      <td>Bissara is a comforting Egyptian and Moroccan ...</td>\n",
       "      <td>Vegetable Soup</td>\n",
       "      <td>Breakfast</td>\n",
       "      <td>https://www.tasteatlas.com/bessara-morocco</td>\n",
       "    </tr>\n",
       "    <tr>\n",
       "      <th>20</th>\n",
       "      <td>Seffa</td>\n",
       "      <td></td>\n",
       "      <td>Seffa is a traditional Moroccan dish that is t...</td>\n",
       "      <td>Side Dish</td>\n",
       "      <td>Dessert</td>\n",
       "      <td>https://www.tasteatlas.com/seffa</td>\n",
       "    </tr>\n",
       "    <tr>\n",
       "      <th>21</th>\n",
       "      <td>Harsha</td>\n",
       "      <td></td>\n",
       "      <td>Harsha is a popular Moroccan bread that is usu...</td>\n",
       "      <td>Bread</td>\n",
       "      <td></td>\n",
       "      <td>https://www.tasteatlas.com/harsha</td>\n",
       "    </tr>\n",
       "    <tr>\n",
       "      <th>22</th>\n",
       "      <td>Amlou</td>\n",
       "      <td>Almonds Argan oil Honey Salt</td>\n",
       "      <td>Amlou is a traditional Moroccan spread made fr...</td>\n",
       "      <td>Spread</td>\n",
       "      <td>Dip</td>\n",
       "      <td>https://www.tasteatlas.com/amlou</td>\n",
       "    </tr>\n",
       "    <tr>\n",
       "      <th>23</th>\n",
       "      <td>Taktouka</td>\n",
       "      <td>Tomato Peppers Garlic Parsley Coriander Papri...</td>\n",
       "      <td>Taktouka is a healthy and nutritious Moroccan ...</td>\n",
       "      <td>Salad</td>\n",
       "      <td>Dip</td>\n",
       "      <td>https://www.tasteatlas.com/taktouka</td>\n",
       "    </tr>\n",
       "    <tr>\n",
       "      <th>24</th>\n",
       "      <td>Leems</td>\n",
       "      <td></td>\n",
       "      <td>Leems are a Moroccan and North African special...</td>\n",
       "      <td>Pickling</td>\n",
       "      <td>Side Dish</td>\n",
       "      <td>https://www.tasteatlas.com/leems</td>\n",
       "    </tr>\n",
       "    <tr>\n",
       "      <th>25</th>\n",
       "      <td>Fekkas</td>\n",
       "      <td></td>\n",
       "      <td>These traditional Moroccan twice-baked cookies...</td>\n",
       "      <td>Cookie</td>\n",
       "      <td></td>\n",
       "      <td>https://www.tasteatlas.com/fekkas</td>\n",
       "    </tr>\n",
       "    <tr>\n",
       "      <th>26</th>\n",
       "      <td>Tfaya</td>\n",
       "      <td></td>\n",
       "      <td>Tfaya is a traditional Moroccan side dish or c...</td>\n",
       "      <td>Side Dish</td>\n",
       "      <td></td>\n",
       "      <td>https://www.tasteatlas.com/tfaya</td>\n",
       "    </tr>\n",
       "    <tr>\n",
       "      <th>27</th>\n",
       "      <td>Ghoriba</td>\n",
       "      <td></td>\n",
       "      <td>Ghoriba are traditional Middle Eastern cookies...</td>\n",
       "      <td>Cookie</td>\n",
       "      <td></td>\n",
       "      <td>https://www.tasteatlas.com/ghoriba</td>\n",
       "    </tr>\n",
       "    <tr>\n",
       "      <th>28</th>\n",
       "      <td>Sellou</td>\n",
       "      <td></td>\n",
       "      <td>Sellou is a popular Moroccan sweet consisting ...</td>\n",
       "      <td>Dessert</td>\n",
       "      <td></td>\n",
       "      <td>https://www.tasteatlas.com/sellou</td>\n",
       "    </tr>\n",
       "    <tr>\n",
       "      <th>29</th>\n",
       "      <td>Moroccan Meatball Tagine (Kefta Tagine)</td>\n",
       "      <td>Lamb Beef Tomato Parsley Coriander Paprika Cu...</td>\n",
       "      <td>Kefta tagine is a classic Morrocan tagine vari...</td>\n",
       "      <td>Stew</td>\n",
       "      <td>Meatballs</td>\n",
       "      <td>https://www.tasteatlas.com/kefta-tagine</td>\n",
       "    </tr>\n",
       "    <tr>\n",
       "      <th>30</th>\n",
       "      <td>Mrouzia</td>\n",
       "      <td>Lamb Almonds Raisins Honey Ras el hanout Sesa...</td>\n",
       "      <td>Mrouzia is one of the most loved sweet-and-sav...</td>\n",
       "      <td>Lamb Dish</td>\n",
       "      <td></td>\n",
       "      <td>https://www.tasteatlas.com/mrouzia</td>\n",
       "    </tr>\n",
       "    <tr>\n",
       "      <th>31</th>\n",
       "      <td>Shakshouka</td>\n",
       "      <td>Eggs Onion Tomato Bell Pepper Cumin Paprika T...</td>\n",
       "      <td>Shakshouka is a delicious combination of eggs ...</td>\n",
       "      <td>Egg Dish</td>\n",
       "      <td>Breakfast</td>\n",
       "      <td>https://www.tasteatlas.com/shakshouka-morocco</td>\n",
       "    </tr>\n",
       "    <tr>\n",
       "      <th>32</th>\n",
       "      <td>Rfissa</td>\n",
       "      <td></td>\n",
       "      <td>Rfissa is a traditional Moroccan dish of stewe...</td>\n",
       "      <td>Chicken Dish</td>\n",
       "      <td></td>\n",
       "      <td>https://www.tasteatlas.com/rfissa</td>\n",
       "    </tr>\n",
       "    <tr>\n",
       "      <th>33</th>\n",
       "      <td>Krachel</td>\n",
       "      <td></td>\n",
       "      <td>These traditional Moroccan bread rolls are pre...</td>\n",
       "      <td>Bread Roll</td>\n",
       "      <td></td>\n",
       "      <td>https://www.tasteatlas.com/krachel</td>\n",
       "    </tr>\n",
       "    <tr>\n",
       "      <th>34</th>\n",
       "      <td>Meskouta</td>\n",
       "      <td>Almonds Flour Eggs Sugar Honey Orange Lemon O...</td>\n",
       "      <td>Meskouta is a traditional cake originating fro...</td>\n",
       "      <td>Cake</td>\n",
       "      <td></td>\n",
       "      <td>https://www.tasteatlas.com/meskouta</td>\n",
       "    </tr>\n",
       "    <tr>\n",
       "      <th>35</th>\n",
       "      <td>Khlea</td>\n",
       "      <td></td>\n",
       "      <td>Khlea is a Moroccan specialty consisting of pr...</td>\n",
       "      <td>Meat Dish</td>\n",
       "      <td></td>\n",
       "      <td>https://www.tasteatlas.com/khlea</td>\n",
       "    </tr>\n",
       "    <tr>\n",
       "      <th>36</th>\n",
       "      <td>M'hanncha</td>\n",
       "      <td></td>\n",
       "      <td>M’hanncha or snake cake is a traditional Moroc...</td>\n",
       "      <td>Sweet Pastry</td>\n",
       "      <td>Dessert</td>\n",
       "      <td>https://www.tasteatlas.com/mhanncha</td>\n",
       "    </tr>\n",
       "    <tr>\n",
       "      <th>37</th>\n",
       "      <td>Boulfaf</td>\n",
       "      <td>Offal Cumin Paprika Salt Black Pepper</td>\n",
       "      <td>Boulfaf is a traditional Moroccan dish consist...</td>\n",
       "      <td>Offal Dish</td>\n",
       "      <td></td>\n",
       "      <td>https://www.tasteatlas.com/boulfaf</td>\n",
       "    </tr>\n",
       "    <tr>\n",
       "      <th>38</th>\n",
       "      <td>Raib</td>\n",
       "      <td>Milk Sugar Yogurt</td>\n",
       "      <td>Raib is a Moroccan-style yogurt that is usuall...</td>\n",
       "      <td>Dessert</td>\n",
       "      <td></td>\n",
       "      <td>https://www.tasteatlas.com/raib</td>\n",
       "    </tr>\n",
       "    <tr>\n",
       "      <th>39</th>\n",
       "      <td>Berber Pizza (Khobza medfouna)</td>\n",
       "      <td></td>\n",
       "      <td>Berber pizza or khobza medfouna is a tradition...</td>\n",
       "      <td>Flatbread</td>\n",
       "      <td></td>\n",
       "      <td>https://www.tasteatlas.com/berber-pizza</td>\n",
       "    </tr>\n",
       "    <tr>\n",
       "      <th>40</th>\n",
       "      <td>Jawhara</td>\n",
       "      <td></td>\n",
       "      <td>Ktefa or jawhara is a layered Moroccan dessert...</td>\n",
       "      <td>Sweet Pastry</td>\n",
       "      <td>Dessert</td>\n",
       "      <td>https://www.tasteatlas.com/ktefa</td>\n",
       "    </tr>\n",
       "    <tr>\n",
       "      <th>41</th>\n",
       "      <td>Moroccan Cigars</td>\n",
       "      <td>Flour Corn Starch Olive Oil White Wine Vinega...</td>\n",
       "      <td>Moroccan cigars or sigarim is a traditional di...</td>\n",
       "      <td>Appetizer</td>\n",
       "      <td>Snack</td>\n",
       "      <td>https://www.tasteatlas.com/moroccan-cigars</td>\n",
       "    </tr>\n",
       "    <tr>\n",
       "      <th>42</th>\n",
       "      <td>Krichlate</td>\n",
       "      <td></td>\n",
       "      <td>These tiny Moroccan cookies are prepared with ...</td>\n",
       "      <td>Cookie</td>\n",
       "      <td>Snack</td>\n",
       "      <td>https://www.tasteatlas.com/krichlate</td>\n",
       "    </tr>\n",
       "    <tr>\n",
       "      <th>43</th>\n",
       "      <td>Moroccan Stuffed Fried Sardines (Sardine mzeouej)</td>\n",
       "      <td>Sardines Chermoula Flour Oil and Animal Fat</td>\n",
       "      <td>Moroccan stuffed sardines or sardine mzeouej (...</td>\n",
       "      <td>Saltwater Fish Dish</td>\n",
       "      <td>Street Food</td>\n",
       "      <td>https://www.tasteatlas.com/sardine-mzeouej</td>\n",
       "    </tr>\n",
       "    <tr>\n",
       "      <th>44</th>\n",
       "      <td>Mreifisa</td>\n",
       "      <td>Lamb Onion Garlic Olive Oil Flour Salt</td>\n",
       "      <td>Mreifisa is a traditional dish originating fro...</td>\n",
       "      <td>Stew</td>\n",
       "      <td>Lamb Dish</td>\n",
       "      <td>https://www.tasteatlas.com/mreifisa</td>\n",
       "    </tr>\n",
       "    <tr>\n",
       "      <th>45</th>\n",
       "      <td>Khobz el dar</td>\n",
       "      <td>Semolina Flour Wheat Flour Eggs Milk Sugar Ve...</td>\n",
       "      <td>Khobz el dar is an Algerian and Moroccan bread...</td>\n",
       "      <td>Bread</td>\n",
       "      <td></td>\n",
       "      <td>https://www.tasteatlas.com/khobz-el-dar-morocco</td>\n",
       "    </tr>\n",
       "    <tr>\n",
       "      <th>46</th>\n",
       "      <td>Kalinté</td>\n",
       "      <td>Chickpea Flour Eggs Olive Oil Cumin Harissa Salt</td>\n",
       "      <td>Kalinté is a traditional Moroccan street bread...</td>\n",
       "      <td>Street Food</td>\n",
       "      <td>Snack</td>\n",
       "      <td>https://www.tasteatlas.com/kalinte</td>\n",
       "    </tr>\n",
       "    <tr>\n",
       "      <th>47</th>\n",
       "      <td>Stuffed Camel Spleen</td>\n",
       "      <td></td>\n",
       "      <td>Stuffed camel spleen is a traditional Moroccan...</td>\n",
       "      <td>Offal Dish</td>\n",
       "      <td></td>\n",
       "      <td>https://www.tasteatlas.com/stuffed-camel-spleen</td>\n",
       "    </tr>\n",
       "    <tr>\n",
       "      <th>48</th>\n",
       "      <td>Kouraine</td>\n",
       "      <td></td>\n",
       "      <td>Kouraine is a traditional Moroccan dish that's...</td>\n",
       "      <td>Stew</td>\n",
       "      <td></td>\n",
       "      <td>https://www.tasteatlas.com/kouraine</td>\n",
       "    </tr>\n",
       "    <tr>\n",
       "      <th>49</th>\n",
       "      <td>Medjool dates</td>\n",
       "      <td></td>\n",
       "      <td>Medjool dates are one of the most popular date...</td>\n",
       "      <td>Dates</td>\n",
       "      <td></td>\n",
       "      <td>https://www.tasteatlas.com/medjool-dates</td>\n",
       "    </tr>\n",
       "    <tr>\n",
       "      <th>50</th>\n",
       "      <td>Argan oil</td>\n",
       "      <td></td>\n",
       "      <td>Argan oil is a plant oil produced from the ker...</td>\n",
       "      <td>Vegetable Oil</td>\n",
       "      <td></td>\n",
       "      <td>https://www.tasteatlas.com/argane</td>\n",
       "    </tr>\n",
       "    <tr>\n",
       "      <th>51</th>\n",
       "      <td>Ras el hanout</td>\n",
       "      <td></td>\n",
       "      <td>Ras el hanout is a mixture which often include...</td>\n",
       "      <td>Spice Blend and Seasoning</td>\n",
       "      <td></td>\n",
       "      <td>https://www.tasteatlas.com/ras-el-hanout</td>\n",
       "    </tr>\n",
       "    <tr>\n",
       "      <th>52</th>\n",
       "      <td>Za'atar</td>\n",
       "      <td></td>\n",
       "      <td>Za'atar is a traditional spice blend with Midd...</td>\n",
       "      <td>Spice Blend and Seasoning</td>\n",
       "      <td></td>\n",
       "      <td>https://www.tasteatlas.com/zaatar-morocco</td>\n",
       "    </tr>\n",
       "    <tr>\n",
       "      <th>53</th>\n",
       "      <td>Taliouine Saffron</td>\n",
       "      <td></td>\n",
       "      <td>Taliouine saffron hails from the eponymous mou...</td>\n",
       "      <td>Saffron</td>\n",
       "      <td></td>\n",
       "      <td>https://www.tasteatlas.com/taliouine-saffron</td>\n",
       "    </tr>\n",
       "    <tr>\n",
       "      <th>54</th>\n",
       "      <td>Alnif Cumin</td>\n",
       "      <td></td>\n",
       "      <td>Produced by local women in the eponymous Moroc...</td>\n",
       "      <td>Cumin</td>\n",
       "      <td></td>\n",
       "      <td>https://www.tasteatlas.com/alnif-cumin</td>\n",
       "    </tr>\n",
       "    <tr>\n",
       "      <th>55</th>\n",
       "      <td>Zerradoun salt</td>\n",
       "      <td></td>\n",
       "      <td>Zerradoun salt is a variety of salt that is tr...</td>\n",
       "      <td>Salt</td>\n",
       "      <td></td>\n",
       "      <td>https://www.tasteatlas.com/zerradoun-salt</td>\n",
       "    </tr>\n",
       "    <tr>\n",
       "      <th>56</th>\n",
       "      <td>Moroccan mint tea</td>\n",
       "      <td>Gunpowder Tea Mint Sugar</td>\n",
       "      <td>Maghrebi mint tea is the most common term used...</td>\n",
       "      <td>Tea / Infusion</td>\n",
       "      <td></td>\n",
       "      <td>https://www.tasteatlas.com/maghrebi-mint-tea-m...</td>\n",
       "    </tr>\n",
       "    <tr>\n",
       "      <th>57</th>\n",
       "      <td>Khoudenjal</td>\n",
       "      <td>Cinnamon Cardamom Galangal Cloves Peppercorns...</td>\n",
       "      <td>Khoudenjal is a spice infusion that is often d...</td>\n",
       "      <td>Herbal Infusion</td>\n",
       "      <td></td>\n",
       "      <td>https://www.tasteatlas.com/khoudenjal</td>\n",
       "    </tr>\n",
       "  </tbody>\n",
       "</table>\n",
       "</div>"
      ],
      "text/plain": [
       "                                            dish_name  \\\n",
       "0                                     Couscous (dish)   \n",
       "1                                              Tajine   \n",
       "2                                      Chicken Tajine   \n",
       "3                                            Pastilla   \n",
       "4                                              Harira   \n",
       "5                                             M'semen   \n",
       "6                                              Tanjia   \n",
       "7                                             Baghrir   \n",
       "8                                            Chebakia   \n",
       "9                                             Zaalouk   \n",
       "10                                           Matbucha   \n",
       "11                                           Maakouda   \n",
       "12                                             Loubia   \n",
       "13                                     Kaab el ghazal   \n",
       "14                                          Chermoula   \n",
       "15                                              Khobz   \n",
       "16                                            Batbout   \n",
       "17                                            Briouat   \n",
       "18                                              Sfenj   \n",
       "19                                            Bessara   \n",
       "20                                              Seffa   \n",
       "21                                             Harsha   \n",
       "22                                              Amlou   \n",
       "23                                           Taktouka   \n",
       "24                                              Leems   \n",
       "25                                             Fekkas   \n",
       "26                                              Tfaya   \n",
       "27                                            Ghoriba   \n",
       "28                                             Sellou   \n",
       "29            Moroccan Meatball Tagine (Kefta Tagine)   \n",
       "30                                            Mrouzia   \n",
       "31                                         Shakshouka   \n",
       "32                                             Rfissa   \n",
       "33                                            Krachel   \n",
       "34                                           Meskouta   \n",
       "35                                              Khlea   \n",
       "36                                          M'hanncha   \n",
       "37                                            Boulfaf   \n",
       "38                                               Raib   \n",
       "39                     Berber Pizza (Khobza medfouna)   \n",
       "40                                            Jawhara   \n",
       "41                                    Moroccan Cigars   \n",
       "42                                          Krichlate   \n",
       "43  Moroccan Stuffed Fried Sardines (Sardine mzeouej)   \n",
       "44                                           Mreifisa   \n",
       "45                                       Khobz el dar   \n",
       "46                                            Kalinté   \n",
       "47                               Stuffed Camel Spleen   \n",
       "48                                           Kouraine   \n",
       "49                                      Medjool dates   \n",
       "50                                          Argan oil   \n",
       "51                                      Ras el hanout   \n",
       "52                                            Za'atar   \n",
       "53                                  Taliouine Saffron   \n",
       "54                                        Alnif Cumin   \n",
       "55                                     Zerradoun salt   \n",
       "56                                  Moroccan mint tea   \n",
       "57                                         Khoudenjal   \n",
       "\n",
       "                                          ingredients  \\\n",
       "0                                  Semolina Olive Oil   \n",
       "1    Lamb Chicken Potatoes Onion Carrot Olives Alm...   \n",
       "2    Chicken Carrot Potatoes Onion Olives Apricot ...   \n",
       "3    Flour Squab Chicken Almonds Eggs Butter Onion...   \n",
       "4    Lamb Beef Onion Garlic Lentils Fava Beans Chi...   \n",
       "5    Semolina Flour Wheat Flour Yeast Butter Sugar...   \n",
       "6                  Lamb Saffron Cumin Lemon Olive Oil   \n",
       "7    Semolina Flour Wheat Flour Yeast Baking Powde...   \n",
       "8                                                       \n",
       "9    Eggplant Tomato Garlic Cumin Paprika Coriande...   \n",
       "10                    Tomato Garlic Paprika Olive Oil   \n",
       "11   Potatoes Parsley Garlic Wheat Flour Salt Blac...   \n",
       "12   White Beans Tomato Onion Ginger Garlic Parsle...   \n",
       "13   Flour Butter Marzipan Orange Flower Water Ros...   \n",
       "14   Lemon Juice Olive Oil Coriander Parsley Garli...   \n",
       "15                                                      \n",
       "16   Wheat Flour Semolina Yeast Olive Oil Vegetabl...   \n",
       "17   Beef Lamb Onion Paprika Cumin Black Pepper Sa...   \n",
       "18                                                      \n",
       "19   Split Peas Fava Beans Garlic Paprika Cumin Ha...   \n",
       "20                                                      \n",
       "21                                                      \n",
       "22                       Almonds Argan oil Honey Salt   \n",
       "23   Tomato Peppers Garlic Parsley Coriander Papri...   \n",
       "24                                                      \n",
       "25                                                      \n",
       "26                                                      \n",
       "27                                                      \n",
       "28                                                      \n",
       "29   Lamb Beef Tomato Parsley Coriander Paprika Cu...   \n",
       "30   Lamb Almonds Raisins Honey Ras el hanout Sesa...   \n",
       "31   Eggs Onion Tomato Bell Pepper Cumin Paprika T...   \n",
       "32                                                      \n",
       "33                                                      \n",
       "34   Almonds Flour Eggs Sugar Honey Orange Lemon O...   \n",
       "35                                                      \n",
       "36                                                      \n",
       "37              Offal Cumin Paprika Salt Black Pepper   \n",
       "38                                  Milk Sugar Yogurt   \n",
       "39                                                      \n",
       "40                                                      \n",
       "41   Flour Corn Starch Olive Oil White Wine Vinega...   \n",
       "42                                                      \n",
       "43        Sardines Chermoula Flour Oil and Animal Fat   \n",
       "44             Lamb Onion Garlic Olive Oil Flour Salt   \n",
       "45   Semolina Flour Wheat Flour Eggs Milk Sugar Ve...   \n",
       "46   Chickpea Flour Eggs Olive Oil Cumin Harissa Salt   \n",
       "47                                                      \n",
       "48                                                      \n",
       "49                                                      \n",
       "50                                                      \n",
       "51                                                      \n",
       "52                                                      \n",
       "53                                                      \n",
       "54                                                      \n",
       "55                                                      \n",
       "56                           Gunpowder Tea Mint Sugar   \n",
       "57   Cinnamon Cardamom Galangal Cloves Peppercorns...   \n",
       "\n",
       "                                          description  \\\n",
       "0   Numerous tiny, light, tender grains, ideally a...   \n",
       "1   Tajine, also known as tagine, refers both to t...   \n",
       "2   As the name suggests, the star ingredient in t...   \n",
       "3   Pastilla is a stuffed pastry from Morocco, als...   \n",
       "4   Harira is a herb-rich, tomato-based soup with ...   \n",
       "5   M'semen is a traditional Maghrebi flatbread ma...   \n",
       "6   Tanjia is a unique Moroccan specialty made by ...   \n",
       "7   Baghrir is a soft and spongy Moroccan and Alge...   \n",
       "8   Chebakia is a chewy, crunchy, and fragrant Mor...   \n",
       "9   Zaalouk is a traditional Moroccan salad made b...   \n",
       "10  Though its origins presumably lie in Morocco, ...   \n",
       "11  Maakouda are traditional potato fritters that ...   \n",
       "12  Loubia is a traditional North African dish con...   \n",
       "13  These crescent-shaped cookies are usually asso...   \n",
       "14  Chermoula is a North African marinade consisti...   \n",
       "15  Khobz is a traditional Moroccan bread that is ...   \n",
       "16  Batbout is a traditional flatbread originating...   \n",
       "17  Briouats are small and crispy Moroccan pastrie...   \n",
       "18  Sfenj are popular Moroccan and Algerian doughn...   \n",
       "19  Bissara is a comforting Egyptian and Moroccan ...   \n",
       "20  Seffa is a traditional Moroccan dish that is t...   \n",
       "21  Harsha is a popular Moroccan bread that is usu...   \n",
       "22  Amlou is a traditional Moroccan spread made fr...   \n",
       "23  Taktouka is a healthy and nutritious Moroccan ...   \n",
       "24  Leems are a Moroccan and North African special...   \n",
       "25  These traditional Moroccan twice-baked cookies...   \n",
       "26  Tfaya is a traditional Moroccan side dish or c...   \n",
       "27  Ghoriba are traditional Middle Eastern cookies...   \n",
       "28  Sellou is a popular Moroccan sweet consisting ...   \n",
       "29  Kefta tagine is a classic Morrocan tagine vari...   \n",
       "30  Mrouzia is one of the most loved sweet-and-sav...   \n",
       "31  Shakshouka is a delicious combination of eggs ...   \n",
       "32  Rfissa is a traditional Moroccan dish of stewe...   \n",
       "33  These traditional Moroccan bread rolls are pre...   \n",
       "34  Meskouta is a traditional cake originating fro...   \n",
       "35  Khlea is a Moroccan specialty consisting of pr...   \n",
       "36  M’hanncha or snake cake is a traditional Moroc...   \n",
       "37  Boulfaf is a traditional Moroccan dish consist...   \n",
       "38  Raib is a Moroccan-style yogurt that is usuall...   \n",
       "39  Berber pizza or khobza medfouna is a tradition...   \n",
       "40  Ktefa or jawhara is a layered Moroccan dessert...   \n",
       "41  Moroccan cigars or sigarim is a traditional di...   \n",
       "42  These tiny Moroccan cookies are prepared with ...   \n",
       "43  Moroccan stuffed sardines or sardine mzeouej (...   \n",
       "44  Mreifisa is a traditional dish originating fro...   \n",
       "45  Khobz el dar is an Algerian and Moroccan bread...   \n",
       "46  Kalinté is a traditional Moroccan street bread...   \n",
       "47  Stuffed camel spleen is a traditional Moroccan...   \n",
       "48  Kouraine is a traditional Moroccan dish that's...   \n",
       "49  Medjool dates are one of the most popular date...   \n",
       "50  Argan oil is a plant oil produced from the ker...   \n",
       "51  Ras el hanout is a mixture which often include...   \n",
       "52  Za'atar is a traditional spice blend with Midd...   \n",
       "53  Taliouine saffron hails from the eponymous mou...   \n",
       "54  Produced by local women in the eponymous Moroc...   \n",
       "55  Zerradoun salt is a variety of salt that is tr...   \n",
       "56  Maghrebi mint tea is the most common term used...   \n",
       "57  Khoudenjal is a spice infusion that is often d...   \n",
       "\n",
       "                   categorie1          categorie2  \\\n",
       "0                        Stew           Side Dish   \n",
       "1                   Technique                Stew   \n",
       "2                        Stew        Chicken Dish   \n",
       "3                  Savory Pie           Sweet Pie   \n",
       "4                        Soup                       \n",
       "5                   Flatbread                       \n",
       "6                   Lamb Dish                       \n",
       "7                     Pancake             Dessert   \n",
       "8                Sweet Pastry  Deep-fried Dessert   \n",
       "9                       Salad           Side Dish   \n",
       "10             Vegetable Dish           Appetizer   \n",
       "11                  Appetizer               Snack   \n",
       "12                       Stew           Appetizer   \n",
       "13               Sweet Pastry              Cookie   \n",
       "14                        Dip               Sauce   \n",
       "15                      Bread                       \n",
       "16                  Flatbread                       \n",
       "17              Savory Pastry           Appetizer   \n",
       "18               Sweet Pastry               Snack   \n",
       "19             Vegetable Soup           Breakfast   \n",
       "20                  Side Dish             Dessert   \n",
       "21                      Bread                       \n",
       "22                     Spread                 Dip   \n",
       "23                      Salad                 Dip   \n",
       "24                   Pickling           Side Dish   \n",
       "25                     Cookie                       \n",
       "26                  Side Dish                       \n",
       "27                     Cookie                       \n",
       "28                    Dessert                       \n",
       "29                       Stew           Meatballs   \n",
       "30                  Lamb Dish                       \n",
       "31                   Egg Dish           Breakfast   \n",
       "32               Chicken Dish                       \n",
       "33                 Bread Roll                       \n",
       "34                       Cake                       \n",
       "35                  Meat Dish                       \n",
       "36               Sweet Pastry             Dessert   \n",
       "37                 Offal Dish                       \n",
       "38                    Dessert                       \n",
       "39                  Flatbread                       \n",
       "40               Sweet Pastry             Dessert   \n",
       "41                  Appetizer               Snack   \n",
       "42                     Cookie               Snack   \n",
       "43        Saltwater Fish Dish         Street Food   \n",
       "44                       Stew           Lamb Dish   \n",
       "45                      Bread                       \n",
       "46                Street Food               Snack   \n",
       "47                 Offal Dish                       \n",
       "48                       Stew                       \n",
       "49                      Dates                       \n",
       "50              Vegetable Oil                       \n",
       "51  Spice Blend and Seasoning                       \n",
       "52  Spice Blend and Seasoning                       \n",
       "53                    Saffron                       \n",
       "54                      Cumin                       \n",
       "55                       Salt                       \n",
       "56             Tea / Infusion                       \n",
       "57            Herbal Infusion                       \n",
       "\n",
       "                                            full_link  \n",
       "0        https://www.tasteatlas.com/Moroccan-Couscous  \n",
       "1                   https://www.tasteatlas.com/tajine  \n",
       "2           https://www.tasteatlas.com/chicken-tajine  \n",
       "3                 https://www.tasteatlas.com/pastilla  \n",
       "4                   https://www.tasteatlas.com/harira  \n",
       "5                   https://www.tasteatlas.com/msemen  \n",
       "6                   https://www.tasteatlas.com/tanjia  \n",
       "7                  https://www.tasteatlas.com/baghrir  \n",
       "8                 https://www.tasteatlas.com/chebakia  \n",
       "9                  https://www.tasteatlas.com/zaalouk  \n",
       "10                https://www.tasteatlas.com/matbucha  \n",
       "11                https://www.tasteatlas.com/maakouda  \n",
       "12                  https://www.tasteatlas.com/loubia  \n",
       "13          https://www.tasteatlas.com/kaab-el-ghazal  \n",
       "14               https://www.tasteatlas.com/chermoula  \n",
       "15                   https://www.tasteatlas.com/khobz  \n",
       "16                 https://www.tasteatlas.com/batbout  \n",
       "17                 https://www.tasteatlas.com/briouat  \n",
       "18                   https://www.tasteatlas.com/sfenj  \n",
       "19         https://www.tasteatlas.com/bessara-morocco  \n",
       "20                   https://www.tasteatlas.com/seffa  \n",
       "21                  https://www.tasteatlas.com/harsha  \n",
       "22                   https://www.tasteatlas.com/amlou  \n",
       "23                https://www.tasteatlas.com/taktouka  \n",
       "24                   https://www.tasteatlas.com/leems  \n",
       "25                  https://www.tasteatlas.com/fekkas  \n",
       "26                   https://www.tasteatlas.com/tfaya  \n",
       "27                 https://www.tasteatlas.com/ghoriba  \n",
       "28                  https://www.tasteatlas.com/sellou  \n",
       "29            https://www.tasteatlas.com/kefta-tagine  \n",
       "30                 https://www.tasteatlas.com/mrouzia  \n",
       "31      https://www.tasteatlas.com/shakshouka-morocco  \n",
       "32                  https://www.tasteatlas.com/rfissa  \n",
       "33                 https://www.tasteatlas.com/krachel  \n",
       "34                https://www.tasteatlas.com/meskouta  \n",
       "35                   https://www.tasteatlas.com/khlea  \n",
       "36                https://www.tasteatlas.com/mhanncha  \n",
       "37                 https://www.tasteatlas.com/boulfaf  \n",
       "38                    https://www.tasteatlas.com/raib  \n",
       "39            https://www.tasteatlas.com/berber-pizza  \n",
       "40                   https://www.tasteatlas.com/ktefa  \n",
       "41         https://www.tasteatlas.com/moroccan-cigars  \n",
       "42               https://www.tasteatlas.com/krichlate  \n",
       "43         https://www.tasteatlas.com/sardine-mzeouej  \n",
       "44                https://www.tasteatlas.com/mreifisa  \n",
       "45    https://www.tasteatlas.com/khobz-el-dar-morocco  \n",
       "46                 https://www.tasteatlas.com/kalinte  \n",
       "47    https://www.tasteatlas.com/stuffed-camel-spleen  \n",
       "48                https://www.tasteatlas.com/kouraine  \n",
       "49           https://www.tasteatlas.com/medjool-dates  \n",
       "50                  https://www.tasteatlas.com/argane  \n",
       "51           https://www.tasteatlas.com/ras-el-hanout  \n",
       "52          https://www.tasteatlas.com/zaatar-morocco  \n",
       "53       https://www.tasteatlas.com/taliouine-saffron  \n",
       "54             https://www.tasteatlas.com/alnif-cumin  \n",
       "55          https://www.tasteatlas.com/zerradoun-salt  \n",
       "56  https://www.tasteatlas.com/maghrebi-mint-tea-m...  \n",
       "57              https://www.tasteatlas.com/khoudenjal  "
      ]
     },
     "execution_count": 3,
     "metadata": {},
     "output_type": "execute_result"
    }
   ],
   "source": [
    "df"
   ]
  },
  {
   "cell_type": "code",
   "execution_count": 4,
   "id": "07f482e9",
   "metadata": {},
   "outputs": [],
   "source": [
    "df.to_csv('food.csv')"
   ]
  },
  {
   "cell_type": "code",
   "execution_count": null,
   "id": "060cd985",
   "metadata": {},
   "outputs": [],
   "source": []
  }
 ],
 "metadata": {
  "kernelspec": {
   "display_name": "Python 3 (ipykernel)",
   "language": "python",
   "name": "python3"
  },
  "language_info": {
   "codemirror_mode": {
    "name": "ipython",
    "version": 3
   },
   "file_extension": ".py",
   "mimetype": "text/x-python",
   "name": "python",
   "nbconvert_exporter": "python",
   "pygments_lexer": "ipython3",
   "version": "3.9.18"
  }
 },
 "nbformat": 4,
 "nbformat_minor": 5
}
