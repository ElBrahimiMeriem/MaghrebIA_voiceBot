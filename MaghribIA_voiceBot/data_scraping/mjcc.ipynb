{
 "cells": [
  {
   "cell_type": "code",
   "execution_count": 6,
   "id": "2a108ee0",
   "metadata": {},
   "outputs": [
    {
     "name": "stderr",
     "output_type": "stream",
     "text": [
      "C:\\Users\\pc\\AppData\\Local\\Temp\\ipykernel_18392\\786339040.py:11: DeprecationWarning: executable_path has been deprecated, please pass in a Service object\n",
      "  driver = webdriver.Chrome(chrome_driver_path)\n"
     ]
    },
    {
     "ename": "TimeoutException",
     "evalue": "Message: timeout: Timed out receiving message from renderer: 299.211\n  (Session info: chrome=127.0.6533.72)\nStacktrace:\n\tGetHandleVerifier [0x00007FF7C79D9632+30946]\n\t(No symbol) [0x00007FF7C798E3C9]\n\t(No symbol) [0x00007FF7C7886FDA]\n\t(No symbol) [0x00007FF7C786FF7D]\n\t(No symbol) [0x00007FF7C786FC80]\n\t(No symbol) [0x00007FF7C786DE84]\n\t(No symbol) [0x00007FF7C786E46F]\n\t(No symbol) [0x00007FF7C787CC6E]\n\t(No symbol) [0x00007FF7C78950FF]\n\t(No symbol) [0x00007FF7C789AB7A]\n\t(No symbol) [0x00007FF7C786EBBA]\n\t(No symbol) [0x00007FF7C7894F4A]\n\t(No symbol) [0x00007FF7C791B39B]\n\t(No symbol) [0x00007FF7C78FC813]\n\t(No symbol) [0x00007FF7C78CA6E5]\n\t(No symbol) [0x00007FF7C78CB021]\n\tGetHandleVerifier [0x00007FF7C7B0F83D+1301229]\n\tGetHandleVerifier [0x00007FF7C7B1BDB7+1351783]\n\tGetHandleVerifier [0x00007FF7C7B12A03+1313971]\n\tGetHandleVerifier [0x00007FF7C7A0DD06+245686]\n\t(No symbol) [0x00007FF7C799758F]\n\t(No symbol) [0x00007FF7C7993804]\n\t(No symbol) [0x00007FF7C7993992]\n\t(No symbol) [0x00007FF7C798A3EF]\n\tBaseThreadInitThunk [0x00007FFE1DA57374+20]\n\tRtlUserThreadStart [0x00007FFE1DEFCC91+33]\n",
     "output_type": "error",
     "traceback": [
      "\u001b[1;31m---------------------------------------------------------------------------\u001b[0m",
      "\u001b[1;31mTimeoutException\u001b[0m                          Traceback (most recent call last)",
      "Cell \u001b[1;32mIn[6], line 15\u001b[0m\n\u001b[0;32m     12\u001b[0m df \u001b[38;5;241m=\u001b[39m pd\u001b[38;5;241m.\u001b[39mDataFrame(columns\u001b[38;5;241m=\u001b[39m[\u001b[38;5;124m'\u001b[39m\u001b[38;5;124mquestion\u001b[39m\u001b[38;5;124m'\u001b[39m, \u001b[38;5;124m'\u001b[39m\u001b[38;5;124mresponse\u001b[39m\u001b[38;5;124m'\u001b[39m])\n\u001b[0;32m     14\u001b[0m url \u001b[38;5;241m=\u001b[39m \u001b[38;5;124m'\u001b[39m\u001b[38;5;124mhttps://www.sahara.ma/fr/decouvrir/visiter-le-sahara\u001b[39m\u001b[38;5;124m'\u001b[39m\n\u001b[1;32m---> 15\u001b[0m \u001b[43mdriver\u001b[49m\u001b[38;5;241;43m.\u001b[39;49m\u001b[43mget\u001b[49m\u001b[43m(\u001b[49m\u001b[43murl\u001b[49m\u001b[43m)\u001b[49m\n\u001b[0;32m     16\u001b[0m sleep(\u001b[38;5;241m5\u001b[39m)  \u001b[38;5;66;03m# Add a pause to ensure content loads properly\u001b[39;00m\n\u001b[0;32m     18\u001b[0m \u001b[38;5;66;03m# Récupération du contenu de la page avec BeautifulSoup\u001b[39;00m\n",
      "File \u001b[1;32m~\\anaconda3\\lib\\site-packages\\selenium\\webdriver\\remote\\webdriver.py:449\u001b[0m, in \u001b[0;36mWebDriver.get\u001b[1;34m(self, url)\u001b[0m\n\u001b[0;32m    447\u001b[0m \u001b[38;5;28;01mdef\u001b[39;00m \u001b[38;5;21mget\u001b[39m(\u001b[38;5;28mself\u001b[39m, url: \u001b[38;5;28mstr\u001b[39m) \u001b[38;5;241m-\u001b[39m\u001b[38;5;241m>\u001b[39m \u001b[38;5;28;01mNone\u001b[39;00m:\n\u001b[0;32m    448\u001b[0m \u001b[38;5;250m    \u001b[39m\u001b[38;5;124;03m\"\"\"Loads a web page in the current browser session.\"\"\"\u001b[39;00m\n\u001b[1;32m--> 449\u001b[0m     \u001b[38;5;28;43mself\u001b[39;49m\u001b[38;5;241;43m.\u001b[39;49m\u001b[43mexecute\u001b[49m\u001b[43m(\u001b[49m\u001b[43mCommand\u001b[49m\u001b[38;5;241;43m.\u001b[39;49m\u001b[43mGET\u001b[49m\u001b[43m,\u001b[49m\u001b[43m \u001b[49m\u001b[43m{\u001b[49m\u001b[38;5;124;43m\"\u001b[39;49m\u001b[38;5;124;43murl\u001b[39;49m\u001b[38;5;124;43m\"\u001b[39;49m\u001b[43m:\u001b[49m\u001b[43m \u001b[49m\u001b[43murl\u001b[49m\u001b[43m}\u001b[49m\u001b[43m)\u001b[49m\n",
      "File \u001b[1;32m~\\anaconda3\\lib\\site-packages\\selenium\\webdriver\\remote\\webdriver.py:440\u001b[0m, in \u001b[0;36mWebDriver.execute\u001b[1;34m(self, driver_command, params)\u001b[0m\n\u001b[0;32m    438\u001b[0m response \u001b[38;5;241m=\u001b[39m \u001b[38;5;28mself\u001b[39m\u001b[38;5;241m.\u001b[39mcommand_executor\u001b[38;5;241m.\u001b[39mexecute(driver_command, params)\n\u001b[0;32m    439\u001b[0m \u001b[38;5;28;01mif\u001b[39;00m response:\n\u001b[1;32m--> 440\u001b[0m     \u001b[38;5;28;43mself\u001b[39;49m\u001b[38;5;241;43m.\u001b[39;49m\u001b[43merror_handler\u001b[49m\u001b[38;5;241;43m.\u001b[39;49m\u001b[43mcheck_response\u001b[49m\u001b[43m(\u001b[49m\u001b[43mresponse\u001b[49m\u001b[43m)\u001b[49m\n\u001b[0;32m    441\u001b[0m     response[\u001b[38;5;124m\"\u001b[39m\u001b[38;5;124mvalue\u001b[39m\u001b[38;5;124m\"\u001b[39m] \u001b[38;5;241m=\u001b[39m \u001b[38;5;28mself\u001b[39m\u001b[38;5;241m.\u001b[39m_unwrap_value(response\u001b[38;5;241m.\u001b[39mget(\u001b[38;5;124m\"\u001b[39m\u001b[38;5;124mvalue\u001b[39m\u001b[38;5;124m\"\u001b[39m, \u001b[38;5;28;01mNone\u001b[39;00m))\n\u001b[0;32m    442\u001b[0m     \u001b[38;5;28;01mreturn\u001b[39;00m response\n",
      "File \u001b[1;32m~\\anaconda3\\lib\\site-packages\\selenium\\webdriver\\remote\\errorhandler.py:245\u001b[0m, in \u001b[0;36mErrorHandler.check_response\u001b[1;34m(self, response)\u001b[0m\n\u001b[0;32m    243\u001b[0m         alert_text \u001b[38;5;241m=\u001b[39m value[\u001b[38;5;124m\"\u001b[39m\u001b[38;5;124malert\u001b[39m\u001b[38;5;124m\"\u001b[39m]\u001b[38;5;241m.\u001b[39mget(\u001b[38;5;124m\"\u001b[39m\u001b[38;5;124mtext\u001b[39m\u001b[38;5;124m\"\u001b[39m)\n\u001b[0;32m    244\u001b[0m     \u001b[38;5;28;01mraise\u001b[39;00m exception_class(message, screen, stacktrace, alert_text)  \u001b[38;5;66;03m# type: ignore[call-arg]  # mypy is not smart enough here\u001b[39;00m\n\u001b[1;32m--> 245\u001b[0m \u001b[38;5;28;01mraise\u001b[39;00m exception_class(message, screen, stacktrace)\n",
      "\u001b[1;31mTimeoutException\u001b[0m: Message: timeout: Timed out receiving message from renderer: 299.211\n  (Session info: chrome=127.0.6533.72)\nStacktrace:\n\tGetHandleVerifier [0x00007FF7C79D9632+30946]\n\t(No symbol) [0x00007FF7C798E3C9]\n\t(No symbol) [0x00007FF7C7886FDA]\n\t(No symbol) [0x00007FF7C786FF7D]\n\t(No symbol) [0x00007FF7C786FC80]\n\t(No symbol) [0x00007FF7C786DE84]\n\t(No symbol) [0x00007FF7C786E46F]\n\t(No symbol) [0x00007FF7C787CC6E]\n\t(No symbol) [0x00007FF7C78950FF]\n\t(No symbol) [0x00007FF7C789AB7A]\n\t(No symbol) [0x00007FF7C786EBBA]\n\t(No symbol) [0x00007FF7C7894F4A]\n\t(No symbol) [0x00007FF7C791B39B]\n\t(No symbol) [0x00007FF7C78FC813]\n\t(No symbol) [0x00007FF7C78CA6E5]\n\t(No symbol) [0x00007FF7C78CB021]\n\tGetHandleVerifier [0x00007FF7C7B0F83D+1301229]\n\tGetHandleVerifier [0x00007FF7C7B1BDB7+1351783]\n\tGetHandleVerifier [0x00007FF7C7B12A03+1313971]\n\tGetHandleVerifier [0x00007FF7C7A0DD06+245686]\n\t(No symbol) [0x00007FF7C799758F]\n\t(No symbol) [0x00007FF7C7993804]\n\t(No symbol) [0x00007FF7C7993992]\n\t(No symbol) [0x00007FF7C798A3EF]\n\tBaseThreadInitThunk [0x00007FFE1DA57374+20]\n\tRtlUserThreadStart [0x00007FFE1DEFCC91+33]\n"
     ]
    }
   ],
   "source": [
    "from selenium import webdriver\n",
    "from selenium.webdriver.common.by import By\n",
    "from selenium.webdriver.support.ui import WebDriverWait\n",
    "from selenium.webdriver.support import expected_conditions as EC\n",
    "from bs4 import BeautifulSoup\n",
    "import pandas as pd\n",
    "from time import sleep\n",
    "\n",
    "# Initialize WebDriver (Make sure to replace with your Chrome driver path)\n",
    "chrome_driver_path = \"C:\\\\Users\\\\pc\\\\OneDrive\\\\Documents\\\\chromedriver-win64\\\\chromedriver.exe\"\n",
    "driver = webdriver.Chrome(chrome_driver_path)\n",
    "df = pd.DataFrame(columns=['question', 'response'])\n",
    "\n",
    "url = 'https://www.sahara.ma/fr/decouvrir/visiter-le-sahara'\n",
    "driver.get(url)\n",
    "sleep(5)  # Add a pause to ensure content loads properly\n",
    "    \n",
    "# Récupération du contenu de la page avec BeautifulSoup\n",
    "src = driver.page_source\n",
    "soup = BeautifulSoup(src, 'html.parser')\n",
    "divs=soup.find_all('div',{'class':'block-content'})\n",
    "for d in divs:\n",
    "    h=d.find('h3').text.strip()\n",
    "    p=d.find('p').text.strip()\n",
    "    print(h)\n",
    "    print(p)\n",
    "    print('-'*30)\n",
    "    df = df.append({\n",
    "                    'question': h,\n",
    "                    'response': p,\n",
    "                }, ignore_index=True)"
   ]
  },
  {
   "cell_type": "code",
   "execution_count": null,
   "id": "602e0bfb",
   "metadata": {},
   "outputs": [],
   "source": [
    "df"
   ]
  },
  {
   "cell_type": "code",
   "execution_count": null,
   "id": "ba6dff94",
   "metadata": {},
   "outputs": [],
   "source": [
    "from selenium import webdriver\n",
    "from selenium.webdriver.common.by import By\n",
    "from selenium.webdriver.support.ui import WebDriverWait\n",
    "from selenium.webdriver.support import expected_conditions as EC\n",
    "from bs4 import BeautifulSoup\n",
    "import pandas as pd\n",
    "from time import sleep\n",
    "\n",
    "# Initialize WebDriver (Make sure to replace with your Chrome driver path)\n",
    "chrome_driver_path = \"C:\\\\Users\\\\pc\\\\OneDrive\\\\Documents\\\\chromedriver-win64\\\\chromedriver.exe\"\n",
    "driver = webdriver.Chrome(chrome_driver_path)\n",
    "\n",
    "\n",
    "url = 'https://www.sahara.ma/fr/decouvrir/histoire'\n",
    "driver.get(url)\n",
    "sleep(5)  # Add a pause to ensure content loads properly\n",
    "    \n",
    "# Récupération du contenu de la page avec BeautifulSoup\n",
    "src = driver.page_source\n",
    "soup = BeautifulSoup(src, 'html.parser')\n",
    "cards = soup.find_all('div', class_='card')\n",
    "\n",
    "# Iterate through each card and extract the required information\n",
    "for card in cards:\n",
    "    # Extract the title\n",
    "    title = card.find('h3').text.strip()\n",
    "    \n",
    "    # Extract the card body\n",
    "    card_body = card.find('div', class_='card-body').text.strip()\n",
    "    \n",
    "    print(f\"Title: {title}\")\n",
    "    print(f\"Content: {card_body}\")\n",
    "    print(\"-\" * 50)\n",
    "    df = df.append({\n",
    "                    'question': title,\n",
    "                    'response': card_body,\n",
    "                }, ignore_index=True)"
   ]
  },
  {
   "cell_type": "code",
   "execution_count": null,
   "id": "88e5a063",
   "metadata": {},
   "outputs": [],
   "source": [
    "df"
   ]
  },
  {
   "cell_type": "code",
   "execution_count": null,
   "id": "e3be8efd",
   "metadata": {},
   "outputs": [],
   "source": [
    "urls=['https://www.sahara.ma/fr/decouvrir/culture/mlahfa-daraa','https://www.sahara.ma/fr/decouvrir/culture/the-sahraoui','https://www.sahara.ma/fr/decouvrir/culture/gastronomie',\n",
    "     'https://www.sahara.ma/fr/decouvrir/culture/poesie-hassanie','https://www.sahara.ma/fr/decouvrir/culture/coutumes']\n",
    "p=['','','Gastronomie sahraouie: ','','les coutumes des Saharaouis: ']\n",
    "for url,t in zip(urls, p):\n",
    "    chrome_driver_path = \"C:\\\\Users\\\\pc\\\\OneDrive\\\\Documents\\\\chromedriver-win64\\\\chromedriver.exe\"\n",
    "    driver = webdriver.Chrome(chrome_driver_path)\n",
    "    driver.get(url)\n",
    "    sleep(5)  # Add a pause to ensure content loads properly\n",
    "\n",
    "    # Récupération du contenu de la page avec BeautifulSoup\n",
    "    src = driver.page_source\n",
    "    soup = BeautifulSoup(src, 'html.parser')\n",
    "    cards = soup.find_all('div', class_='card')\n",
    "\n",
    "    # Iterate through each card and extract the required information\n",
    "    for card in cards:\n",
    "        # Extract the title\n",
    "        title = card.find('h3').text.strip()\n",
    "        title=t+title\n",
    "        # Extract the card body\n",
    "        card_body = card.find('div', class_='card-body').text.strip()\n",
    "\n",
    "        print(f\"Title: {title}\")\n",
    "        print(f\"Content: {card_body}\")\n",
    "        print(\"-\" * 50)\n",
    "        df = df.append({\n",
    "                        'question': title,\n",
    "                        'response': card_body,\n",
    "                    }, ignore_index=True)"
   ]
  },
  {
   "cell_type": "code",
   "execution_count": null,
   "id": "e12c1dc1",
   "metadata": {},
   "outputs": [],
   "source": [
    "df"
   ]
  },
  {
   "cell_type": "code",
   "execution_count": null,
   "id": "2fadb559",
   "metadata": {},
   "outputs": [],
   "source": [
    "chrome_driver_path = \"C:\\\\Users\\\\pc\\\\OneDrive\\\\Documents\\\\chromedriver-win64\\\\chromedriver.exe\"\n",
    "driver = webdriver.Chrome(chrome_driver_path)\n",
    "link='https://culture.ma/evenements/'    \n",
    "driver.get(link)\n",
    "sleep(5) \n",
    "src = driver.page_source\n",
    "soup = BeautifulSoup(src, 'html.parser')\n",
    "figures = soup.find_all('figure', class_='item')\n",
    "links=[]\n",
    "# Parcourir toutes les balises <figure> trouvées\n",
    "for figure in figures:\n",
    "    # Trouver le lien <a> dans la balise <figure>\n",
    "    link = figure.find('a')['href']\n",
    "    print(link)\n",
    "    links.append(link)"
   ]
  },
  {
   "cell_type": "code",
   "execution_count": null,
   "id": "515a0ed9",
   "metadata": {},
   "outputs": [],
   "source": [
    "# Print the list of links\n",
    "print(len(links))\n"
   ]
  },
  {
   "cell_type": "code",
   "execution_count": null,
   "id": "bd6b24fd",
   "metadata": {},
   "outputs": [],
   "source": [
    "for link in links:\n",
    "    chrome_driver_path = \"C:\\\\Users\\\\pc\\\\OneDrive\\\\Documents\\\\chromedriver-win64\\\\chromedriver.exe\"\n",
    "\n",
    "    # The link to be scraped\n",
    "\n",
    "    # Initialize the WebDriver\n",
    "    driver = webdriver.Chrome(chrome_driver_path)\n",
    "    driver.get(link)\n",
    "\n",
    "    # Allow the page to load\n",
    "    sleep(5)\n",
    "\n",
    "    # Get the page source and parse it with BeautifulSoup\n",
    "    src = driver.page_source\n",
    "    soup = BeautifulSoup(src, 'html.parser')\n",
    "\n",
    "    # Extract the title\n",
    "    breadcrumb = soup.find('ul', {'class': 'breadcrumb'})\n",
    "    li_elements = breadcrumb.find_all('li')\n",
    "    title = ''\n",
    "    if len(li_elements) == 2:\n",
    "        title = li_elements[0].text.strip() + ' : ' + li_elements[1].text.strip()\n",
    "    elif len(li_elements) == 1:\n",
    "        title = li_elements[0].text.strip()\n",
    "    print(title)\n",
    "\n",
    "    # Extract the description\n",
    "    tab_content_div_all = soup.find_all('div', {'class': 'tab-content'})\n",
    "    tab_content_div=tab_content_div_all[1]\n",
    "    description = ''\n",
    "    if tab_content_div:\n",
    "        description = tab_content_div.text.strip()\n",
    "    print(description)\n",
    "    print('---'*30)\n",
    "    df = df.append({\n",
    "                    'question': title,\n",
    "                    'response': description,\n",
    "                    }, ignore_index=True)\n",
    "    # Close the WebDriver\n",
    "    driver.quit()"
   ]
  },
  {
   "cell_type": "code",
   "execution_count": null,
   "id": "14e06d78",
   "metadata": {},
   "outputs": [],
   "source": []
  },
  {
   "cell_type": "code",
   "execution_count": null,
   "id": "a9752111",
   "metadata": {},
   "outputs": [],
   "source": [
    "df"
   ]
  },
  {
   "cell_type": "code",
   "execution_count": null,
   "id": "9944c7a9",
   "metadata": {},
   "outputs": [],
   "source": [
    "df.to_excel('mjcc.xlsx')"
   ]
  },
  {
   "cell_type": "code",
   "execution_count": null,
   "id": "0ced6123",
   "metadata": {},
   "outputs": [],
   "source": []
  }
 ],
 "metadata": {
  "kernelspec": {
   "display_name": "Python 3 (ipykernel)",
   "language": "python",
   "name": "python3"
  },
  "language_info": {
   "codemirror_mode": {
    "name": "ipython",
    "version": 3
   },
   "file_extension": ".py",
   "mimetype": "text/x-python",
   "name": "python",
   "nbconvert_exporter": "python",
   "pygments_lexer": "ipython3",
   "version": "3.12.4"
  }
 },
 "nbformat": 4,
 "nbformat_minor": 5
}
